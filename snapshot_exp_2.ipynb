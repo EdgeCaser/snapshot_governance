{
 "cells": [
  {
   "cell_type": "code",
   "execution_count": 14,
   "metadata": {
    "collapsed": true
   },
   "outputs": [],
   "source": [
    "from datetime import datetime\n",
    "from subgrounds.subgraph import SyntheticField, FieldPath\n",
    "from subgrounds.subgrounds import Subgrounds\n",
    "import pandas as pd"
   ]
  },
  {
   "cell_type": "code",
   "execution_count": 15,
   "outputs": [],
   "source": [
    "sg = Subgrounds()\n",
    "snapshot = sg.load_subgraph('https://hub.snapshot.org/graphql')"
   ],
   "metadata": {
    "collapsed": false,
    "pycharm": {
     "name": "#%%\n"
    }
   }
  },
  {
   "cell_type": "code",
   "execution_count": 16,
   "outputs": [],
   "source": [
    "snapshot.Proposal.datetime = SyntheticField(\n",
    "  lambda timestamp: str(datetime.fromtimestamp(timestamp)),\n",
    "  SyntheticField.STRING,\n",
    "  snapshot.Proposal.end,\n",
    ")"
   ],
   "metadata": {
    "collapsed": false,
    "pycharm": {
     "name": "#%%\n"
    }
   }
  },
  {
   "cell_type": "code",
   "execution_count": 17,
   "outputs": [],
   "source": [
    "proposals = snapshot.Query.proposals(\n",
    "  orderBy='created',\n",
    "  orderDirection='desc',\n",
    "  first=100,\n",
    "  where=[\n",
    "    snapshot.Proposal.space == 'olympusdao.eth',\n",
    "    snapshot.Proposal.state == 'closed',\n",
    "  ]\n",
    ")"
   ],
   "metadata": {
    "collapsed": false,
    "pycharm": {
     "name": "#%%\n"
    }
   }
  },
  {
   "cell_type": "code",
   "execution_count": 18,
   "outputs": [],
   "source": [
    "proposals_snapshots = sg.query_df([\n",
    "  proposals.title,\n",
    "  proposals.id,\n",
    "  proposals.body\n",
    "])"
   ],
   "metadata": {
    "collapsed": false,
    "pycharm": {
     "name": "#%%\n"
    }
   }
  },
  {
   "cell_type": "code",
   "execution_count": 19,
   "outputs": [],
   "source": [
    "proposals_choices = sg.query(proposals.choices)"
   ],
   "metadata": {
    "collapsed": false,
    "pycharm": {
     "name": "#%%\n"
    }
   }
  },
  {
   "cell_type": "code",
   "execution_count": 20,
   "outputs": [],
   "source": [
    "proposals_choices = pd.DataFrame(proposals_choices, columns = ['option_a', 'option_b', 'option_c', 'option_d', 'option_e'])"
   ],
   "metadata": {
    "collapsed": false,
    "pycharm": {
     "name": "#%%\n"
    }
   }
  },
  {
   "cell_type": "code",
   "execution_count": 21,
   "outputs": [],
   "source": [
    "olympus_governance_view = pd.concat([proposals_snapshots,proposals_choices], axis=1)"
   ],
   "metadata": {
    "collapsed": false,
    "pycharm": {
     "name": "#%%\n"
    }
   }
  },
  {
   "cell_type": "code",
   "execution_count": 22,
   "outputs": [
    {
     "data": {
      "text/plain": "                                      proposals_title  \\\n0                      OIP-80: Tender Offer Framework   \n1   OIP-77: New Tier for Bug Bounty & Awarding of ...   \n2   OIP-71 Goddess DAO Launch Liquidity Assistance...   \n3                OIP-75: Olympus Compensation Process   \n4                   OIP-74: Partnership with JonesDAO   \n..                                                ...   \n95                                       any airdrop?   \n96                              hey what coin is this   \n97                                           fuck you   \n98                                            AIRDROP   \n99                               setup a ama channel    \n\n                                         proposals_id  \\\n0   0xfbad1f4af42f99e59e0ef216211f2ed8b1f3a324de04...   \n1   0xf1474731033990ba04abd897e70c5387160fab81e23e...   \n2   0x88b17056b2677673df2731eec8431a3aadcdc7f8f348...   \n3   0xec57e860aa083fdd2fda66d1787ef8f965bd2f75b239...   \n4   0x3623c7cd9452d348bc7bdbeeb372dc135db6e38e9612...   \n..                                                ...   \n95  0xe912fb26a4e50b93cac27c09d54b716d16f7f81c769a...   \n96  0x47d1cd5c6aa55b6b97df6a92066aeb1c958e57cd4a3e...   \n97  0x47b42407c756b3cdf244a4c406f2153ba8615fc920a4...   \n98  0xcf049d7e9900e80bbfa74b568cdf0c6ab7408706c8a0...   \n99  0xb9e47c3d207b3614355967be0d1c21a060b6a23307d0...   \n\n                                       proposals_body  \\\n0   ### Proposal\\n\\nThe Olympus team seeks communi...   \n1   Summary\\n\\nThis proposal is designed to add a ...   \n2   Summary\\n\\nAssist Goddess DAO with gOHM launch...   \n3   Please see the forum for full details and disc...   \n4   Summary\\n\\nFormalize a partnership to integrat...   \n..                                                ...   \n95                                       any airdrop?   \n96                                 send me eth please   \n97                                      what the fuck   \n98                                   We need AIRDROP!   \n99                                                      \n\n                            option_a                 option_b option_c  \\\n0                    Approve the TFO   Do not approve the TFO     None   \n1          Change Bug Bounty Program               Do nothing     None   \n2    Approve the launch liquidity as               Do nothing     None   \n3       For: adopt standard approach  Against: continue as-is     None   \n4                Approve Partnership               Do nothing     None   \n..                               ...                      ...      ...   \n95                               yes                      yes     None   \n96                                 1                        2     None   \n97                              fuck                      mom     None   \n98                               Yes                       No     None   \n99                               yes                       no     None   \n\n   option_d option_e  \n0      None     None  \n1      None     None  \n2      None     None  \n3      None     None  \n4      None     None  \n..      ...      ...  \n95     None     None  \n96     None     None  \n97     None     None  \n98     None     None  \n99     None     None  \n\n[100 rows x 8 columns]",
      "text/html": "<div>\n<style scoped>\n    .dataframe tbody tr th:only-of-type {\n        vertical-align: middle;\n    }\n\n    .dataframe tbody tr th {\n        vertical-align: top;\n    }\n\n    .dataframe thead th {\n        text-align: right;\n    }\n</style>\n<table border=\"1\" class=\"dataframe\">\n  <thead>\n    <tr style=\"text-align: right;\">\n      <th></th>\n      <th>proposals_title</th>\n      <th>proposals_id</th>\n      <th>proposals_body</th>\n      <th>option_a</th>\n      <th>option_b</th>\n      <th>option_c</th>\n      <th>option_d</th>\n      <th>option_e</th>\n    </tr>\n  </thead>\n  <tbody>\n    <tr>\n      <th>0</th>\n      <td>OIP-80: Tender Offer Framework</td>\n      <td>0xfbad1f4af42f99e59e0ef216211f2ed8b1f3a324de04...</td>\n      <td>### Proposal\\n\\nThe Olympus team seeks communi...</td>\n      <td>Approve the TFO</td>\n      <td>Do not approve the TFO</td>\n      <td>None</td>\n      <td>None</td>\n      <td>None</td>\n    </tr>\n    <tr>\n      <th>1</th>\n      <td>OIP-77: New Tier for Bug Bounty &amp; Awarding of ...</td>\n      <td>0xf1474731033990ba04abd897e70c5387160fab81e23e...</td>\n      <td>Summary\\n\\nThis proposal is designed to add a ...</td>\n      <td>Change Bug Bounty Program</td>\n      <td>Do nothing</td>\n      <td>None</td>\n      <td>None</td>\n      <td>None</td>\n    </tr>\n    <tr>\n      <th>2</th>\n      <td>OIP-71 Goddess DAO Launch Liquidity Assistance...</td>\n      <td>0x88b17056b2677673df2731eec8431a3aadcdc7f8f348...</td>\n      <td>Summary\\n\\nAssist Goddess DAO with gOHM launch...</td>\n      <td>Approve the launch liquidity as</td>\n      <td>Do nothing</td>\n      <td>None</td>\n      <td>None</td>\n      <td>None</td>\n    </tr>\n    <tr>\n      <th>3</th>\n      <td>OIP-75: Olympus Compensation Process</td>\n      <td>0xec57e860aa083fdd2fda66d1787ef8f965bd2f75b239...</td>\n      <td>Please see the forum for full details and disc...</td>\n      <td>For: adopt standard approach</td>\n      <td>Against: continue as-is</td>\n      <td>None</td>\n      <td>None</td>\n      <td>None</td>\n    </tr>\n    <tr>\n      <th>4</th>\n      <td>OIP-74: Partnership with JonesDAO</td>\n      <td>0x3623c7cd9452d348bc7bdbeeb372dc135db6e38e9612...</td>\n      <td>Summary\\n\\nFormalize a partnership to integrat...</td>\n      <td>Approve Partnership</td>\n      <td>Do nothing</td>\n      <td>None</td>\n      <td>None</td>\n      <td>None</td>\n    </tr>\n    <tr>\n      <th>...</th>\n      <td>...</td>\n      <td>...</td>\n      <td>...</td>\n      <td>...</td>\n      <td>...</td>\n      <td>...</td>\n      <td>...</td>\n      <td>...</td>\n    </tr>\n    <tr>\n      <th>95</th>\n      <td>any airdrop?</td>\n      <td>0xe912fb26a4e50b93cac27c09d54b716d16f7f81c769a...</td>\n      <td>any airdrop?</td>\n      <td>yes</td>\n      <td>yes</td>\n      <td>None</td>\n      <td>None</td>\n      <td>None</td>\n    </tr>\n    <tr>\n      <th>96</th>\n      <td>hey what coin is this</td>\n      <td>0x47d1cd5c6aa55b6b97df6a92066aeb1c958e57cd4a3e...</td>\n      <td>send me eth please</td>\n      <td>1</td>\n      <td>2</td>\n      <td>None</td>\n      <td>None</td>\n      <td>None</td>\n    </tr>\n    <tr>\n      <th>97</th>\n      <td>fuck you</td>\n      <td>0x47b42407c756b3cdf244a4c406f2153ba8615fc920a4...</td>\n      <td>what the fuck</td>\n      <td>fuck</td>\n      <td>mom</td>\n      <td>None</td>\n      <td>None</td>\n      <td>None</td>\n    </tr>\n    <tr>\n      <th>98</th>\n      <td>AIRDROP</td>\n      <td>0xcf049d7e9900e80bbfa74b568cdf0c6ab7408706c8a0...</td>\n      <td>We need AIRDROP!</td>\n      <td>Yes</td>\n      <td>No</td>\n      <td>None</td>\n      <td>None</td>\n      <td>None</td>\n    </tr>\n    <tr>\n      <th>99</th>\n      <td>setup a ama channel</td>\n      <td>0xb9e47c3d207b3614355967be0d1c21a060b6a23307d0...</td>\n      <td></td>\n      <td>yes</td>\n      <td>no</td>\n      <td>None</td>\n      <td>None</td>\n      <td>None</td>\n    </tr>\n  </tbody>\n</table>\n<p>100 rows × 8 columns</p>\n</div>"
     },
     "execution_count": 22,
     "metadata": {},
     "output_type": "execute_result"
    }
   ],
   "source": [
    "olympus_governance_view"
   ],
   "metadata": {
    "collapsed": false,
    "pycharm": {
     "name": "#%%\n"
    }
   }
  },
  {
   "cell_type": "code",
   "execution_count": 32,
   "outputs": [],
   "source": [
    "vote_tracker = snapshot.Query.votes(\n",
    "    orderBy = 'created',\n",
    "    orderDirection='desc',\n",
    "    first=10000,\n",
    "    where=[\n",
    "      snapshot.Vote.proposal == '0x015cb9276a34ae7ec7c00e4c780fcbd35d96f56e27e8d9b47b427daa2f0a63fc'\n",
    "    ]\n",
    ")"
   ],
   "metadata": {
    "collapsed": false,
    "pycharm": {
     "name": "#%%\n"
    }
   }
  },
  {
   "cell_type": "code",
   "execution_count": 33,
   "outputs": [],
   "source": [
    "voting_snapshots = sg.query_df([\n",
    "    vote_tracker.id,\n",
    "    vote_tracker.voter,\n",
    "    vote_tracker.created,\n",
    "    vote_tracker.choice\n",
    "])"
   ],
   "metadata": {
    "collapsed": false,
    "pycharm": {
     "name": "#%%\n"
    }
   }
  },
  {
   "cell_type": "code",
   "execution_count": 34,
   "outputs": [
    {
     "data": {
      "text/plain": "                                              votes_id  \\\n0    0xef852bf9a02f3fe285b916676fb4df48955684a47b1c...   \n1    0x9b7012495a3b8dac2ec55cfad0ef23855fa1d5c56cdb...   \n2    0x8dfa302381108465703cbb970c29011d05ded8701838...   \n3    0x7580ebf1cbac5197ad1acf2ee69d95d853c46747ec8c...   \n4    0x1fd21fbd197707759fc5c61e5ac7f229fadc1735f6f5...   \n..                                                 ...   \n588  0xeb16ef83e4ebd7c4a96c60666e3ec8b00645c1f6d9a9...   \n589  0xf14bb72098cfc02d4e0350c604ae3333dd65eaf696c5...   \n590  0xc7fdc44a98ca921e725fe1389683201c02a80876fa0e...   \n591  0x4dd29f4acac42f5b30e06736796835a1a77db8977ab9...   \n592  0xdb15f250f2edee67975d2874eb2ae880411a33e4fbc5...   \n\n                                    votes_voter  votes_created  votes_choice  \n0    0x6580B4a8af96532eeE64Fc7079cA9DcD3dd1B815     1638769578             1  \n1    0x5A3b11ab9EC4A95AB562F37f4Eb1599FAF38b976     1638769427             1  \n2    0xa978f4d96F73c33DCdc26822cC15d8fC30eFAf91     1638766457             1  \n3    0x7848C09479f7983D3e7E23ab24ab363206644306     1638766152             1  \n4    0x1C0E7f67CE7a4F33F9D7f1a657a9c0e8D5b02aeb     1638765751             1  \n..                                          ...            ...           ...  \n588  0x0569A2073A5C573d9D41010f801834ae9848Ca3b     1638604911             2  \n589  0xEb4Db23c27253077Fb3080adda6C5C127b0dACAe     1638603932             1  \n590  0x96A673c3a0F3979A00058D6fa8d16A9d31e891C6     1638602982             2  \n591  0x4900EB80bD15E59D221f7ffd0307B808EC6699d8     1638602111             1  \n592  0xaa19e228Facd426130BE1d8775318dF6C1CE0E6D     1638601175             1  \n\n[593 rows x 4 columns]",
      "text/html": "<div>\n<style scoped>\n    .dataframe tbody tr th:only-of-type {\n        vertical-align: middle;\n    }\n\n    .dataframe tbody tr th {\n        vertical-align: top;\n    }\n\n    .dataframe thead th {\n        text-align: right;\n    }\n</style>\n<table border=\"1\" class=\"dataframe\">\n  <thead>\n    <tr style=\"text-align: right;\">\n      <th></th>\n      <th>votes_id</th>\n      <th>votes_voter</th>\n      <th>votes_created</th>\n      <th>votes_choice</th>\n    </tr>\n  </thead>\n  <tbody>\n    <tr>\n      <th>0</th>\n      <td>0xef852bf9a02f3fe285b916676fb4df48955684a47b1c...</td>\n      <td>0x6580B4a8af96532eeE64Fc7079cA9DcD3dd1B815</td>\n      <td>1638769578</td>\n      <td>1</td>\n    </tr>\n    <tr>\n      <th>1</th>\n      <td>0x9b7012495a3b8dac2ec55cfad0ef23855fa1d5c56cdb...</td>\n      <td>0x5A3b11ab9EC4A95AB562F37f4Eb1599FAF38b976</td>\n      <td>1638769427</td>\n      <td>1</td>\n    </tr>\n    <tr>\n      <th>2</th>\n      <td>0x8dfa302381108465703cbb970c29011d05ded8701838...</td>\n      <td>0xa978f4d96F73c33DCdc26822cC15d8fC30eFAf91</td>\n      <td>1638766457</td>\n      <td>1</td>\n    </tr>\n    <tr>\n      <th>3</th>\n      <td>0x7580ebf1cbac5197ad1acf2ee69d95d853c46747ec8c...</td>\n      <td>0x7848C09479f7983D3e7E23ab24ab363206644306</td>\n      <td>1638766152</td>\n      <td>1</td>\n    </tr>\n    <tr>\n      <th>4</th>\n      <td>0x1fd21fbd197707759fc5c61e5ac7f229fadc1735f6f5...</td>\n      <td>0x1C0E7f67CE7a4F33F9D7f1a657a9c0e8D5b02aeb</td>\n      <td>1638765751</td>\n      <td>1</td>\n    </tr>\n    <tr>\n      <th>...</th>\n      <td>...</td>\n      <td>...</td>\n      <td>...</td>\n      <td>...</td>\n    </tr>\n    <tr>\n      <th>588</th>\n      <td>0xeb16ef83e4ebd7c4a96c60666e3ec8b00645c1f6d9a9...</td>\n      <td>0x0569A2073A5C573d9D41010f801834ae9848Ca3b</td>\n      <td>1638604911</td>\n      <td>2</td>\n    </tr>\n    <tr>\n      <th>589</th>\n      <td>0xf14bb72098cfc02d4e0350c604ae3333dd65eaf696c5...</td>\n      <td>0xEb4Db23c27253077Fb3080adda6C5C127b0dACAe</td>\n      <td>1638603932</td>\n      <td>1</td>\n    </tr>\n    <tr>\n      <th>590</th>\n      <td>0xc7fdc44a98ca921e725fe1389683201c02a80876fa0e...</td>\n      <td>0x96A673c3a0F3979A00058D6fa8d16A9d31e891C6</td>\n      <td>1638602982</td>\n      <td>2</td>\n    </tr>\n    <tr>\n      <th>591</th>\n      <td>0x4dd29f4acac42f5b30e06736796835a1a77db8977ab9...</td>\n      <td>0x4900EB80bD15E59D221f7ffd0307B808EC6699d8</td>\n      <td>1638602111</td>\n      <td>1</td>\n    </tr>\n    <tr>\n      <th>592</th>\n      <td>0xdb15f250f2edee67975d2874eb2ae880411a33e4fbc5...</td>\n      <td>0xaa19e228Facd426130BE1d8775318dF6C1CE0E6D</td>\n      <td>1638601175</td>\n      <td>1</td>\n    </tr>\n  </tbody>\n</table>\n<p>593 rows × 4 columns</p>\n</div>"
     },
     "execution_count": 34,
     "metadata": {},
     "output_type": "execute_result"
    }
   ],
   "source": [
    "voting_snapshots"
   ],
   "metadata": {
    "collapsed": false,
    "pycharm": {
     "name": "#%%\n"
    }
   }
  },
  {
   "cell_type": "code",
   "execution_count": null,
   "outputs": [],
   "source": [],
   "metadata": {
    "collapsed": false,
    "pycharm": {
     "name": "#%%\n"
    }
   }
  }
 ],
 "metadata": {
  "kernelspec": {
   "display_name": "Python 3",
   "language": "python",
   "name": "python3"
  },
  "language_info": {
   "codemirror_mode": {
    "name": "ipython",
    "version": 2
   },
   "file_extension": ".py",
   "mimetype": "text/x-python",
   "name": "python",
   "nbconvert_exporter": "python",
   "pygments_lexer": "ipython2",
   "version": "2.7.6"
  }
 },
 "nbformat": 4,
 "nbformat_minor": 0
}