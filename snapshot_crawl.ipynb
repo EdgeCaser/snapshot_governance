{
 "cells": [
  {
   "cell_type": "code",
   "execution_count": 15,
   "outputs": [],
   "source": [
    "from datetime import datetime\n",
    "from subgrounds.subgraph import SyntheticField, FieldPath\n",
    "from subgrounds.subgrounds import Subgrounds\n",
    "import pandas as pd"
   ],
   "metadata": {
    "collapsed": false,
    "pycharm": {
     "name": "#%%\n"
    }
   }
  },
  {
   "cell_type": "code",
   "execution_count": 16,
   "outputs": [],
   "source": [
    "sg = Subgrounds()\n",
    "snapshot = sg.load_api('https://hub.snapshot.org/graphql')"
   ],
   "metadata": {
    "collapsed": false,
    "pycharm": {
     "name": "#%%\n"
    }
   }
  },
  {
   "cell_type": "code",
   "execution_count": 17,
   "outputs": [],
   "source": [
    "snapshot.Proposal.datetime = SyntheticField(\n",
    "  lambda timestamp: str(datetime.fromtimestamp(timestamp)),\n",
    "  SyntheticField.STRING,\n",
    "  snapshot.Proposal.end,\n",
    ")"
   ],
   "metadata": {
    "collapsed": false,
    "pycharm": {
     "name": "#%%\n"
    }
   }
  },
  {
   "cell_type": "code",
   "execution_count": 18,
   "outputs": [],
   "source": [
    "proposals = snapshot.Query.proposals(\n",
    "  orderBy='created',\n",
    "  orderDirection='desc',\n",
    "  first=10000,\n",
    "  where=[\n",
    "    snapshot.Proposal.space == 'olympusdao.eth',\n",
    "    snapshot.Proposal.state == 'closed',\n",
    "  ]\n",
    ")"
   ],
   "metadata": {
    "collapsed": false,
    "pycharm": {
     "name": "#%%\n"
    }
   }
  },
  {
   "cell_type": "code",
   "execution_count": 19,
   "outputs": [],
   "source": [
    "proposals_snapshots = sg.query_df([\n",
    "  proposals.title,\n",
    "  proposals.id,\n",
    "  proposals.body\n",
    "])"
   ],
   "metadata": {
    "collapsed": false,
    "pycharm": {
     "name": "#%%\n"
    }
   }
  },
  {
   "cell_type": "code",
   "execution_count": 20,
   "outputs": [],
   "source": [
    "proposals_choices = sg.query(proposals.choices)"
   ],
   "metadata": {
    "collapsed": false,
    "pycharm": {
     "name": "#%%\n"
    }
   }
  },
  {
   "cell_type": "code",
   "execution_count": 21,
   "outputs": [],
   "source": [
    "proposals_choices = pd.DataFrame(proposals_choices, columns = ['option_a', 'option_b', 'option_c', 'option_d', 'option_e','option_f','option_g'])"
   ],
   "metadata": {
    "collapsed": false,
    "pycharm": {
     "name": "#%%\n"
    }
   }
  },
  {
   "cell_type": "code",
   "execution_count": 22,
   "outputs": [],
   "source": [
    "olympus_governance_view = pd.concat([proposals_snapshots,proposals_choices], axis=1)"
   ],
   "metadata": {
    "collapsed": false,
    "pycharm": {
     "name": "#%%\n"
    }
   }
  },
  {
   "cell_type": "code",
   "execution_count": 23,
   "outputs": [
    {
     "data": {
      "text/plain": "                                       proposals_title  \\\n0       OIP-94: Interim Ranged Stability Policy Levers   \n1                                OIP-93: Mint and Sync   \n2                  TAP-12 Pilot Deposit on Tribe Turbo   \n3                      TAP-11 Ribbon Finance Whitelist   \n4    OIP - 92 : Whitelist FEI as a treasury Reserve...   \n..                                                 ...   \n192                    OIP-5: Lower LP Staking Rewards   \n193                                        Deposit SLP   \n194                                      Loosen Policy   \n195                                      Add DAI Bonds   \n196                    Open an OHM-ETH Pool on Uniswap   \n\n                                          proposals_id  \\\n0    0x6413984c8f1076e3f46f196810ba51781f25f4d2f1eb...   \n1    0xf0e62d0a9eeb47a295bab9a8d0cc84c0d4de0a8cb000...   \n2    0x7d191f4a7f2ea3d138c07f73d568b93c96fc5ffce267...   \n3    0xe52a4af6307bea40a34f2eaf9a93f11c8abf382020cc...   \n4    0xe9aa47f39bc5ace6ad5a19c08007a3683386e19c1390...   \n..                                                 ...   \n192     QmTrwGU99RMqTeeCKy5oW9Le9M2mXHHdNeEWzn7T67watz   \n193     QmZhSNWAzrDy5KiGSeBsKBXUHW6D4vJnfCuqmdai8LPETd   \n194     QmZJb2evEjsxtLz92XBuhApWty69fVqUpFHzuVjMjCd3Se   \n195     QmUC5xa4YaWZBV7fy241svBQ8bHSMksm8kB7avk1WyWv9m   \n196     QmVaYYojHUCqVhM835eSWtih6CyF1koQpSinPg9Kyw21RN   \n\n                                        proposals_body  \\\n0        abipup\\n         \\n    2 days ago\\n\\nSumma...   \n1    Summary:\\n\\nEnable minting into liquidity pool...   \n2    Summary\\n\\nSeek authority from the community t...   \n3    Summary: Seek authority from the community to ...   \n4    Summary\\n\\nWhitelist FEI as our next reserve a...   \n..                                                 ...   \n192  Summary: We should decrease LP staking rewards...   \n193  Summary: The DAO currently holds liquidity tha...   \n194  Summary: Let's adjust system parameters away f...   \n195  Summary: We can launch bonds using DAI instead...   \n196  Summary:\\nSeveral community members have broug...   \n\n                             option_a                        option_b  \\\n0    Inverse bonds & adjust liquidity                      Do nothing   \n1       1. Implement, no change to RR         2. Implement, change RR   \n2               Approve Pilot Deposit    Do not approve pilot deposit   \n3                Allow Ribbon Finance     Do not allow Ribbon Finance   \n4         Approve FEI in the Treasury  Do not approve FEI in Treasury   \n..                                ...                             ...   \n192                     For: Option 1                   For: Option 2   \n193               Deposit; keep Onsen               Deposit; no Onsen   \n194                             Do it                     Don't do it   \n195                 Add; remove sales            Add; phase out sales   \n196  Add OHM/ETH pair, adjust rewards   Add OHM/ETH pair, add rewards   \n\n                    option_c    option_d option_e option_f option_g  \n0                       None        None     None     None     None  \n1        3. Do not implement        None     None     None     None  \n2                       None        None     None     None     None  \n3                       None        None     None     None     None  \n4                       None        None     None     None     None  \n..                       ...         ...      ...      ...      ...  \n192                  Against        None     None     None     None  \n193            Don't deposit        None     None     None     None  \n194                     None        None     None     None     None  \n195          Add; keep sales  Do not add     None     None     None  \n196  Do not add OHM/ETH pair        None     None     None     None  \n\n[197 rows x 10 columns]",
      "text/html": "<div>\n<style scoped>\n    .dataframe tbody tr th:only-of-type {\n        vertical-align: middle;\n    }\n\n    .dataframe tbody tr th {\n        vertical-align: top;\n    }\n\n    .dataframe thead th {\n        text-align: right;\n    }\n</style>\n<table border=\"1\" class=\"dataframe\">\n  <thead>\n    <tr style=\"text-align: right;\">\n      <th></th>\n      <th>proposals_title</th>\n      <th>proposals_id</th>\n      <th>proposals_body</th>\n      <th>option_a</th>\n      <th>option_b</th>\n      <th>option_c</th>\n      <th>option_d</th>\n      <th>option_e</th>\n      <th>option_f</th>\n      <th>option_g</th>\n    </tr>\n  </thead>\n  <tbody>\n    <tr>\n      <th>0</th>\n      <td>OIP-94: Interim Ranged Stability Policy Levers</td>\n      <td>0x6413984c8f1076e3f46f196810ba51781f25f4d2f1eb...</td>\n      <td>abipup\\n         \\n    2 days ago\\n\\nSumma...</td>\n      <td>Inverse bonds &amp; adjust liquidity</td>\n      <td>Do nothing</td>\n      <td>None</td>\n      <td>None</td>\n      <td>None</td>\n      <td>None</td>\n      <td>None</td>\n    </tr>\n    <tr>\n      <th>1</th>\n      <td>OIP-93: Mint and Sync</td>\n      <td>0xf0e62d0a9eeb47a295bab9a8d0cc84c0d4de0a8cb000...</td>\n      <td>Summary:\\n\\nEnable minting into liquidity pool...</td>\n      <td>1. Implement, no change to RR</td>\n      <td>2. Implement, change RR</td>\n      <td>3. Do not implement</td>\n      <td>None</td>\n      <td>None</td>\n      <td>None</td>\n      <td>None</td>\n    </tr>\n    <tr>\n      <th>2</th>\n      <td>TAP-12 Pilot Deposit on Tribe Turbo</td>\n      <td>0x7d191f4a7f2ea3d138c07f73d568b93c96fc5ffce267...</td>\n      <td>Summary\\n\\nSeek authority from the community t...</td>\n      <td>Approve Pilot Deposit</td>\n      <td>Do not approve pilot deposit</td>\n      <td>None</td>\n      <td>None</td>\n      <td>None</td>\n      <td>None</td>\n      <td>None</td>\n    </tr>\n    <tr>\n      <th>3</th>\n      <td>TAP-11 Ribbon Finance Whitelist</td>\n      <td>0xe52a4af6307bea40a34f2eaf9a93f11c8abf382020cc...</td>\n      <td>Summary: Seek authority from the community to ...</td>\n      <td>Allow Ribbon Finance</td>\n      <td>Do not allow Ribbon Finance</td>\n      <td>None</td>\n      <td>None</td>\n      <td>None</td>\n      <td>None</td>\n      <td>None</td>\n    </tr>\n    <tr>\n      <th>4</th>\n      <td>OIP - 92 : Whitelist FEI as a treasury Reserve...</td>\n      <td>0xe9aa47f39bc5ace6ad5a19c08007a3683386e19c1390...</td>\n      <td>Summary\\n\\nWhitelist FEI as our next reserve a...</td>\n      <td>Approve FEI in the Treasury</td>\n      <td>Do not approve FEI in Treasury</td>\n      <td>None</td>\n      <td>None</td>\n      <td>None</td>\n      <td>None</td>\n      <td>None</td>\n    </tr>\n    <tr>\n      <th>...</th>\n      <td>...</td>\n      <td>...</td>\n      <td>...</td>\n      <td>...</td>\n      <td>...</td>\n      <td>...</td>\n      <td>...</td>\n      <td>...</td>\n      <td>...</td>\n      <td>...</td>\n    </tr>\n    <tr>\n      <th>192</th>\n      <td>OIP-5: Lower LP Staking Rewards</td>\n      <td>QmTrwGU99RMqTeeCKy5oW9Le9M2mXHHdNeEWzn7T67watz</td>\n      <td>Summary: We should decrease LP staking rewards...</td>\n      <td>For: Option 1</td>\n      <td>For: Option 2</td>\n      <td>Against</td>\n      <td>None</td>\n      <td>None</td>\n      <td>None</td>\n      <td>None</td>\n    </tr>\n    <tr>\n      <th>193</th>\n      <td>Deposit SLP</td>\n      <td>QmZhSNWAzrDy5KiGSeBsKBXUHW6D4vJnfCuqmdai8LPETd</td>\n      <td>Summary: The DAO currently holds liquidity tha...</td>\n      <td>Deposit; keep Onsen</td>\n      <td>Deposit; no Onsen</td>\n      <td>Don't deposit</td>\n      <td>None</td>\n      <td>None</td>\n      <td>None</td>\n      <td>None</td>\n    </tr>\n    <tr>\n      <th>194</th>\n      <td>Loosen Policy</td>\n      <td>QmZJb2evEjsxtLz92XBuhApWty69fVqUpFHzuVjMjCd3Se</td>\n      <td>Summary: Let's adjust system parameters away f...</td>\n      <td>Do it</td>\n      <td>Don't do it</td>\n      <td>None</td>\n      <td>None</td>\n      <td>None</td>\n      <td>None</td>\n      <td>None</td>\n    </tr>\n    <tr>\n      <th>195</th>\n      <td>Add DAI Bonds</td>\n      <td>QmUC5xa4YaWZBV7fy241svBQ8bHSMksm8kB7avk1WyWv9m</td>\n      <td>Summary: We can launch bonds using DAI instead...</td>\n      <td>Add; remove sales</td>\n      <td>Add; phase out sales</td>\n      <td>Add; keep sales</td>\n      <td>Do not add</td>\n      <td>None</td>\n      <td>None</td>\n      <td>None</td>\n    </tr>\n    <tr>\n      <th>196</th>\n      <td>Open an OHM-ETH Pool on Uniswap</td>\n      <td>QmVaYYojHUCqVhM835eSWtih6CyF1koQpSinPg9Kyw21RN</td>\n      <td>Summary:\\nSeveral community members have broug...</td>\n      <td>Add OHM/ETH pair, adjust rewards</td>\n      <td>Add OHM/ETH pair, add rewards</td>\n      <td>Do not add OHM/ETH pair</td>\n      <td>None</td>\n      <td>None</td>\n      <td>None</td>\n      <td>None</td>\n    </tr>\n  </tbody>\n</table>\n<p>197 rows × 10 columns</p>\n</div>"
     },
     "execution_count": 23,
     "metadata": {},
     "output_type": "execute_result"
    }
   ],
   "source": [
    "olympus_governance_view"
   ],
   "metadata": {
    "collapsed": false,
    "pycharm": {
     "name": "#%%\n"
    }
   }
  },
  {
   "cell_type": "code",
   "execution_count": 24,
   "outputs": [],
   "source": [
    "olympus_governance_view.to_csv('olympus_snapshots_list.csv')"
   ],
   "metadata": {
    "collapsed": false,
    "pycharm": {
     "name": "#%%\n"
    }
   }
  },
  {
   "cell_type": "code",
   "execution_count": 66,
   "outputs": [],
   "source": [
    "vote_tracker = snapshot.Query.votes(\n",
    "    orderBy = 'created',\n",
    "    orderDirection='desc',\n",
    "    first=10000,\n",
    "    where=[\n",
    "      snapshot.Vote.proposal == '0x6413984c8f1076e3f46f196810ba51781f25f4d2f1ebee606455929cbbc7d7c8'\n",
    "    ]\n",
    ")"
   ],
   "metadata": {
    "collapsed": false,
    "pycharm": {
     "name": "#%%\n"
    }
   }
  },
  {
   "cell_type": "code",
   "execution_count": 67,
   "outputs": [],
   "source": [
    "voting_snapshots = sg.query_df([\n",
    "    vote_tracker.id,\n",
    "    vote_tracker.voter,\n",
    "    vote_tracker.created,\n",
    "    vote_tracker.choice\n",
    "])"
   ],
   "metadata": {
    "collapsed": false,
    "pycharm": {
     "name": "#%%\n"
    }
   }
  },
  {
   "cell_type": "code",
   "execution_count": 68,
   "outputs": [],
   "source": [
    "voting_snapshots.to_csv(r'/Users/ianbrillembourg/Downloads/OIPS/OIP94_snapshot.csv', index = False)"
   ],
   "metadata": {
    "collapsed": false,
    "pycharm": {
     "name": "#%%\n"
    }
   }
  },
  {
   "cell_type": "code",
   "execution_count": null,
   "outputs": [],
   "source": [],
   "metadata": {
    "collapsed": false,
    "pycharm": {
     "name": "#%%\n"
    }
   }
  },
  {
   "cell_type": "code",
   "execution_count": null,
   "outputs": [],
   "source": [],
   "metadata": {
    "collapsed": false,
    "pycharm": {
     "name": "#%%\n"
    }
   }
  }
 ],
 "metadata": {
  "kernelspec": {
   "display_name": "Python 3",
   "language": "python",
   "name": "python3"
  },
  "language_info": {
   "codemirror_mode": {
    "name": "ipython",
    "version": 2
   },
   "file_extension": ".py",
   "mimetype": "text/x-python",
   "name": "python",
   "nbconvert_exporter": "python",
   "pygments_lexer": "ipython2",
   "version": "2.7.6"
  }
 },
 "nbformat": 4,
 "nbformat_minor": 0
}