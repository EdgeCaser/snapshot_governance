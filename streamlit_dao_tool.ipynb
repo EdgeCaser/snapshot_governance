{
 "cells": [
  {
   "cell_type": "code",
   "execution_count": 1,
   "outputs": [],
   "source": [
    "from datetime import datetime\n",
    "from datetime import date\n",
    "from subgrounds.subgraph import SyntheticField, FieldPath\n",
    "from subgrounds.subgrounds import Subgrounds\n",
    "import math\n",
    "import pandas as pd"
   ],
   "metadata": {
    "collapsed": false,
    "pycharm": {
     "name": "#%%\n"
    }
   }
  },
  {
   "cell_type": "code",
   "execution_count": 2,
   "outputs": [],
   "source": [
    "sg = Subgrounds()\n",
    "snapshot = sg.load_api('https://hub.snapshot.org/graphql')"
   ],
   "metadata": {
    "collapsed": false,
    "pycharm": {
     "name": "#%%\n"
    }
   }
  },
  {
   "cell_type": "code",
   "execution_count": null,
   "outputs": [],
   "source": [
    "global file\n",
    "file = input('Selet a folder') ##enter your file path here - the file is in the repo \"summary_stats.csv\".\n",
    "##file"
   ],
   "metadata": {
    "collapsed": false,
    "pycharm": {
     "name": "#%%\n"
    }
   }
  },
  {
   "cell_type": "code",
   "execution_count": 3,
   "outputs": [],
   "source": [
    "snapshot.Proposal.datetime = SyntheticField(\n",
    "  lambda timestamp: str(datetime.fromtimestamp(timestamp)),\n",
    "  SyntheticField.STRING,\n",
    "  snapshot.Proposal.end,\n",
    ")"
   ],
   "metadata": {
    "collapsed": false,
    "pycharm": {
     "name": "#%%\n"
    }
   }
  },
  {
   "cell_type": "code",
   "execution_count": 4,
   "outputs": [],
   "source": [
    "spacename = input('spacename plz?')\n",
    "proposals = snapshot.Query.proposals(\n",
    "  orderBy='created',\n",
    "  orderDirection='desc',\n",
    "  first=10000,\n",
    "  where=[\n",
    "    snapshot.Proposal.space == spacename, ##'fuse.eth',\n",
    "    snapshot.Proposal.state == 'closed'\n",
    "    ##snapshot.Proposal.title == 'OIP-18: Reward rate framework and reduction',\n",
    "  ]\n",
    ")"
   ],
   "metadata": {
    "collapsed": false,
    "pycharm": {
     "name": "#%%\n"
    }
   }
  },
  {
   "cell_type": "code",
   "execution_count": 5,
   "outputs": [],
   "source": [
    "proposals_snapshots = sg.query_df([\n",
    "    proposals.title,\n",
    "    proposals.id,\n",
    "    proposals.body,\n",
    "    proposals.scores,\n",
    "    proposals.scores_total\n",
    "])"
   ],
   "metadata": {
    "collapsed": false,
    "pycharm": {
     "name": "#%%\n"
    }
   }
  },
  {
   "cell_type": "code",
   "execution_count": 8,
   "outputs": [],
   "source": [
    "proposals_choices = sg.query(proposals.choices)"
   ],
   "metadata": {
    "collapsed": false,
    "pycharm": {
     "name": "#%%\n"
    }
   }
  },
  {
   "cell_type": "code",
   "execution_count": 9,
   "outputs": [],
   "source": [
    "proposals_choices = pd.DataFrame(proposals_choices)\n",
    "##proposals_choices = pd.DataFrame(proposals_choices, columns = ['option_1', 'option_2', 'option_3', 'option_4', 'option_5','option_6','option_7','option_8','option_9','option_10','option_11','option_12','option_13','option_14','option_15','option_16','option_17','option_18','option_19','option_20','option_21','option_22'])"
   ],
   "metadata": {
    "collapsed": false,
    "pycharm": {
     "name": "#%%\n"
    }
   }
  },
  {
   "cell_type": "code",
   "execution_count": 10,
   "outputs": [],
   "source": [
    "olympus_governance_view = pd.concat([proposals_snapshots,proposals_choices], axis=1)"
   ],
   "metadata": {
    "collapsed": false,
    "pycharm": {
     "name": "#%%\n"
    }
   }
  },
  {
   "cell_type": "code",
   "execution_count": 11,
   "outputs": [
    {
     "data": {
      "text/plain": "                                       proposals_title  \\\n0    Gitcoin Product Collective Workstream Proposal...   \n1    Gitcoin Product Collective Workstream Proposal...   \n2    Gitcoin Product Collective Workstream Proposal...   \n3    Ratify the Results of Grants Round 14 and Form...   \n4    Ratify the Results of Grants Round 14 and Form...   \n..                                                 ...   \n176            Should we liquidate the AKITA for ETH?    \n177                   Convert the AKITA tokens to ETH?   \n178                   Convert the AKITA tokens to ETH?   \n179                                       空投给增加过流动池的玩家   \n180                                       空投给增加过流动池的玩家   \n\n                                          proposals_id  \\\n0    0xc6309348f43ba77bb488d2d5f154db3264f86a890b50...   \n1    0xc6309348f43ba77bb488d2d5f154db3264f86a890b50...   \n2    0xc6309348f43ba77bb488d2d5f154db3264f86a890b50...   \n3    0x7827fdf2b3aa1569e3e9a078af1f1171682f649f2b12...   \n4    0x7827fdf2b3aa1569e3e9a078af1f1171682f649f2b12...   \n..                                                 ...   \n176     QmeGrN1bxYyt3RGqLkJL6v8XLpz3W2FyYSmpZxAiCxhF2m   \n177     QmSXwJCKpC7fnWqdvjPdMMMgA1Z8q5NbJXU5XT4CVftJsv   \n178     QmSXwJCKpC7fnWqdvjPdMMMgA1Z8q5NbJXU5XT4CVftJsv   \n179     QmaPNPYLCP2nJG5am8pwqJErEhzDMXUw5Z7DuuYjyrRG6p   \n180     QmaPNPYLCP2nJG5am8pwqJErEhzDMXUw5Z7DuuYjyrRG6p   \n\n                                        proposals_body  proposals_scores  \\\n0    This is an initial funding proposal for the Gi...      9.190905e+06   \n1    This is an initial funding proposal for the Gi...      8.488240e+00   \n2    This is an initial funding proposal for the Gi...      2.420810e+01   \n3    We ask our Community Stewards to ratify the GR...      6.706638e+06   \n4    We ask our Community Stewards to ratify the GR...      4.040797e+02   \n..                                                 ...               ...   \n176  I propose that we liquidate the Akita for ETH ...      6.765526e+03   \n177  Are you in favor of converting the AKITA token...      1.180147e+05   \n178  Are you in favor of converting the AKITA token...      9.360515e+05   \n179          给与一部分空投奖励给曾经增加过GTC:ETH流动池的玩家  并激励更多人添加流动池      2.330434e+04   \n180          给与一部分空投奖励给曾经增加过GTC:ETH流动池的玩家  并激励更多人添加流动池      3.580832e+04   \n\n     proposals_scores_total                         0  \\\n0              9.190938e+06                       For   \n1              9.190938e+06                       FOR   \n2              9.190938e+06                       FOR   \n3              6.707042e+06  Yes - Ratify the changes   \n4              6.707042e+06                       FOR   \n..                      ...                       ...   \n176            1.327852e+06                       NaN   \n177            1.054066e+06                       NaN   \n178            1.054066e+06                       NaN   \n179            5.911266e+04                       NaN   \n180            5.911266e+04                       NaN   \n\n                                  1        2     3     4  ...     7     8  \\\n0                           Against  Abstain  None  None  ...  None  None   \n1                           AGAINST     None  None  None  ...  None  None   \n2                           AGAINST     None  None  None  ...  None  None   \n3    No - Do not ratify the changes     None  None  None  ...  None  None   \n4                           AGAINST  ABSTAIN  None  None  ...  None  None   \n..                              ...      ...   ...   ...  ...   ...   ...   \n176                             NaN      NaN   NaN   NaN  ...   NaN   NaN   \n177                             NaN      NaN   NaN   NaN  ...   NaN   NaN   \n178                             NaN      NaN   NaN   NaN  ...   NaN   NaN   \n179                             NaN      NaN   NaN   NaN  ...   NaN   NaN   \n180                             NaN      NaN   NaN   NaN  ...   NaN   NaN   \n\n        9    10    11    12    13    14    15    16  \n0    None  None  None  None  None  None  None  None  \n1    None  None  None  None  None  None  None  None  \n2    None  None  None  None  None  None  None  None  \n3    None  None  None  None  None  None  None  None  \n4    None  None  None  None  None  None  None  None  \n..    ...   ...   ...   ...   ...   ...   ...   ...  \n176   NaN   NaN   NaN   NaN   NaN   NaN   NaN   NaN  \n177   NaN   NaN   NaN   NaN   NaN   NaN   NaN   NaN  \n178   NaN   NaN   NaN   NaN   NaN   NaN   NaN   NaN  \n179   NaN   NaN   NaN   NaN   NaN   NaN   NaN   NaN  \n180   NaN   NaN   NaN   NaN   NaN   NaN   NaN   NaN  \n\n[181 rows x 22 columns]",
      "text/html": "<div>\n<style scoped>\n    .dataframe tbody tr th:only-of-type {\n        vertical-align: middle;\n    }\n\n    .dataframe tbody tr th {\n        vertical-align: top;\n    }\n\n    .dataframe thead th {\n        text-align: right;\n    }\n</style>\n<table border=\"1\" class=\"dataframe\">\n  <thead>\n    <tr style=\"text-align: right;\">\n      <th></th>\n      <th>proposals_title</th>\n      <th>proposals_id</th>\n      <th>proposals_body</th>\n      <th>proposals_scores</th>\n      <th>proposals_scores_total</th>\n      <th>0</th>\n      <th>1</th>\n      <th>2</th>\n      <th>3</th>\n      <th>4</th>\n      <th>...</th>\n      <th>7</th>\n      <th>8</th>\n      <th>9</th>\n      <th>10</th>\n      <th>11</th>\n      <th>12</th>\n      <th>13</th>\n      <th>14</th>\n      <th>15</th>\n      <th>16</th>\n    </tr>\n  </thead>\n  <tbody>\n    <tr>\n      <th>0</th>\n      <td>Gitcoin Product Collective Workstream Proposal...</td>\n      <td>0xc6309348f43ba77bb488d2d5f154db3264f86a890b50...</td>\n      <td>This is an initial funding proposal for the Gi...</td>\n      <td>9.190905e+06</td>\n      <td>9.190938e+06</td>\n      <td>For</td>\n      <td>Against</td>\n      <td>Abstain</td>\n      <td>None</td>\n      <td>None</td>\n      <td>...</td>\n      <td>None</td>\n      <td>None</td>\n      <td>None</td>\n      <td>None</td>\n      <td>None</td>\n      <td>None</td>\n      <td>None</td>\n      <td>None</td>\n      <td>None</td>\n      <td>None</td>\n    </tr>\n    <tr>\n      <th>1</th>\n      <td>Gitcoin Product Collective Workstream Proposal...</td>\n      <td>0xc6309348f43ba77bb488d2d5f154db3264f86a890b50...</td>\n      <td>This is an initial funding proposal for the Gi...</td>\n      <td>8.488240e+00</td>\n      <td>9.190938e+06</td>\n      <td>FOR</td>\n      <td>AGAINST</td>\n      <td>None</td>\n      <td>None</td>\n      <td>None</td>\n      <td>...</td>\n      <td>None</td>\n      <td>None</td>\n      <td>None</td>\n      <td>None</td>\n      <td>None</td>\n      <td>None</td>\n      <td>None</td>\n      <td>None</td>\n      <td>None</td>\n      <td>None</td>\n    </tr>\n    <tr>\n      <th>2</th>\n      <td>Gitcoin Product Collective Workstream Proposal...</td>\n      <td>0xc6309348f43ba77bb488d2d5f154db3264f86a890b50...</td>\n      <td>This is an initial funding proposal for the Gi...</td>\n      <td>2.420810e+01</td>\n      <td>9.190938e+06</td>\n      <td>FOR</td>\n      <td>AGAINST</td>\n      <td>None</td>\n      <td>None</td>\n      <td>None</td>\n      <td>...</td>\n      <td>None</td>\n      <td>None</td>\n      <td>None</td>\n      <td>None</td>\n      <td>None</td>\n      <td>None</td>\n      <td>None</td>\n      <td>None</td>\n      <td>None</td>\n      <td>None</td>\n    </tr>\n    <tr>\n      <th>3</th>\n      <td>Ratify the Results of Grants Round 14 and Form...</td>\n      <td>0x7827fdf2b3aa1569e3e9a078af1f1171682f649f2b12...</td>\n      <td>We ask our Community Stewards to ratify the GR...</td>\n      <td>6.706638e+06</td>\n      <td>6.707042e+06</td>\n      <td>Yes - Ratify the changes</td>\n      <td>No - Do not ratify the changes</td>\n      <td>None</td>\n      <td>None</td>\n      <td>None</td>\n      <td>...</td>\n      <td>None</td>\n      <td>None</td>\n      <td>None</td>\n      <td>None</td>\n      <td>None</td>\n      <td>None</td>\n      <td>None</td>\n      <td>None</td>\n      <td>None</td>\n      <td>None</td>\n    </tr>\n    <tr>\n      <th>4</th>\n      <td>Ratify the Results of Grants Round 14 and Form...</td>\n      <td>0x7827fdf2b3aa1569e3e9a078af1f1171682f649f2b12...</td>\n      <td>We ask our Community Stewards to ratify the GR...</td>\n      <td>4.040797e+02</td>\n      <td>6.707042e+06</td>\n      <td>FOR</td>\n      <td>AGAINST</td>\n      <td>ABSTAIN</td>\n      <td>None</td>\n      <td>None</td>\n      <td>...</td>\n      <td>None</td>\n      <td>None</td>\n      <td>None</td>\n      <td>None</td>\n      <td>None</td>\n      <td>None</td>\n      <td>None</td>\n      <td>None</td>\n      <td>None</td>\n      <td>None</td>\n    </tr>\n    <tr>\n      <th>...</th>\n      <td>...</td>\n      <td>...</td>\n      <td>...</td>\n      <td>...</td>\n      <td>...</td>\n      <td>...</td>\n      <td>...</td>\n      <td>...</td>\n      <td>...</td>\n      <td>...</td>\n      <td>...</td>\n      <td>...</td>\n      <td>...</td>\n      <td>...</td>\n      <td>...</td>\n      <td>...</td>\n      <td>...</td>\n      <td>...</td>\n      <td>...</td>\n      <td>...</td>\n      <td>...</td>\n    </tr>\n    <tr>\n      <th>176</th>\n      <td>Should we liquidate the AKITA for ETH?</td>\n      <td>QmeGrN1bxYyt3RGqLkJL6v8XLpz3W2FyYSmpZxAiCxhF2m</td>\n      <td>I propose that we liquidate the Akita for ETH ...</td>\n      <td>6.765526e+03</td>\n      <td>1.327852e+06</td>\n      <td>NaN</td>\n      <td>NaN</td>\n      <td>NaN</td>\n      <td>NaN</td>\n      <td>NaN</td>\n      <td>...</td>\n      <td>NaN</td>\n      <td>NaN</td>\n      <td>NaN</td>\n      <td>NaN</td>\n      <td>NaN</td>\n      <td>NaN</td>\n      <td>NaN</td>\n      <td>NaN</td>\n      <td>NaN</td>\n      <td>NaN</td>\n    </tr>\n    <tr>\n      <th>177</th>\n      <td>Convert the AKITA tokens to ETH?</td>\n      <td>QmSXwJCKpC7fnWqdvjPdMMMgA1Z8q5NbJXU5XT4CVftJsv</td>\n      <td>Are you in favor of converting the AKITA token...</td>\n      <td>1.180147e+05</td>\n      <td>1.054066e+06</td>\n      <td>NaN</td>\n      <td>NaN</td>\n      <td>NaN</td>\n      <td>NaN</td>\n      <td>NaN</td>\n      <td>...</td>\n      <td>NaN</td>\n      <td>NaN</td>\n      <td>NaN</td>\n      <td>NaN</td>\n      <td>NaN</td>\n      <td>NaN</td>\n      <td>NaN</td>\n      <td>NaN</td>\n      <td>NaN</td>\n      <td>NaN</td>\n    </tr>\n    <tr>\n      <th>178</th>\n      <td>Convert the AKITA tokens to ETH?</td>\n      <td>QmSXwJCKpC7fnWqdvjPdMMMgA1Z8q5NbJXU5XT4CVftJsv</td>\n      <td>Are you in favor of converting the AKITA token...</td>\n      <td>9.360515e+05</td>\n      <td>1.054066e+06</td>\n      <td>NaN</td>\n      <td>NaN</td>\n      <td>NaN</td>\n      <td>NaN</td>\n      <td>NaN</td>\n      <td>...</td>\n      <td>NaN</td>\n      <td>NaN</td>\n      <td>NaN</td>\n      <td>NaN</td>\n      <td>NaN</td>\n      <td>NaN</td>\n      <td>NaN</td>\n      <td>NaN</td>\n      <td>NaN</td>\n      <td>NaN</td>\n    </tr>\n    <tr>\n      <th>179</th>\n      <td>空投给增加过流动池的玩家</td>\n      <td>QmaPNPYLCP2nJG5am8pwqJErEhzDMXUw5Z7DuuYjyrRG6p</td>\n      <td>给与一部分空投奖励给曾经增加过GTC:ETH流动池的玩家  并激励更多人添加流动池</td>\n      <td>2.330434e+04</td>\n      <td>5.911266e+04</td>\n      <td>NaN</td>\n      <td>NaN</td>\n      <td>NaN</td>\n      <td>NaN</td>\n      <td>NaN</td>\n      <td>...</td>\n      <td>NaN</td>\n      <td>NaN</td>\n      <td>NaN</td>\n      <td>NaN</td>\n      <td>NaN</td>\n      <td>NaN</td>\n      <td>NaN</td>\n      <td>NaN</td>\n      <td>NaN</td>\n      <td>NaN</td>\n    </tr>\n    <tr>\n      <th>180</th>\n      <td>空投给增加过流动池的玩家</td>\n      <td>QmaPNPYLCP2nJG5am8pwqJErEhzDMXUw5Z7DuuYjyrRG6p</td>\n      <td>给与一部分空投奖励给曾经增加过GTC:ETH流动池的玩家  并激励更多人添加流动池</td>\n      <td>3.580832e+04</td>\n      <td>5.911266e+04</td>\n      <td>NaN</td>\n      <td>NaN</td>\n      <td>NaN</td>\n      <td>NaN</td>\n      <td>NaN</td>\n      <td>...</td>\n      <td>NaN</td>\n      <td>NaN</td>\n      <td>NaN</td>\n      <td>NaN</td>\n      <td>NaN</td>\n      <td>NaN</td>\n      <td>NaN</td>\n      <td>NaN</td>\n      <td>NaN</td>\n      <td>NaN</td>\n    </tr>\n  </tbody>\n</table>\n<p>181 rows × 22 columns</p>\n</div>"
     },
     "execution_count": 11,
     "metadata": {},
     "output_type": "execute_result"
    }
   ],
   "source": [
    "##let's view the output just to make sure\n",
    "olympus_governance_view"
   ],
   "metadata": {
    "collapsed": false,
    "pycharm": {
     "name": "#%%\n"
    }
   }
  },
  {
   "cell_type": "code",
   "execution_count": 14,
   "outputs": [],
   "source": [
    "file = input('Enter the folder path, please') ##enter your file path here - the file is in the repo \"summary_stats.csv\".\n",
    "path =file+'/'+spacename+'_proposals_table_'+str(date.today().strftime(\"%b-%d-%Y\"))+'_'+str(len(olympus_governance_view))+'_proposals.csv'\n",
    "olympus_governance_view.to_csv(path, index = False)"
   ],
   "metadata": {
    "collapsed": false,
    "pycharm": {
     "name": "#%%\n"
    }
   }
  },
  {
   "cell_type": "code",
   "execution_count": 15,
   "outputs": [
    {
     "data": {
      "text/plain": "181"
     },
     "execution_count": 15,
     "metadata": {},
     "output_type": "execute_result"
    }
   ],
   "source": [
    "total_proposals = len(olympus_governance_view)\n",
    "total_proposals"
   ],
   "metadata": {
    "collapsed": false,
    "pycharm": {
     "name": "#%%\n"
    }
   }
  },
  {
   "cell_type": "code",
   "execution_count": 16,
   "outputs": [],
   "source": [
    "proposal_id = olympus_governance_view.iloc[0,1]"
   ],
   "metadata": {
    "collapsed": false,
    "pycharm": {
     "name": "#%%\n"
    }
   }
  },
  {
   "cell_type": "code",
   "execution_count": 17,
   "outputs": [
    {
     "name": "stdout",
     "output_type": "stream",
     "text": [
      "0xc6309348f43ba77bb488d2d5f154db3264f86a890b500fa8286fe089c6ddc9a0\n"
     ]
    }
   ],
   "source": [
    "print(proposal_id)"
   ],
   "metadata": {
    "collapsed": false,
    "pycharm": {
     "name": "#%%\n"
    }
   }
  },
  {
   "cell_type": "code",
   "execution_count": 18,
   "outputs": [],
   "source": [
    "\n",
    "vote_tracker = snapshot.Query.votes(\n",
    "orderBy = 'created',\n",
    "orderDirection='desc',\n",
    "first=10000,\n",
    "where=[\n",
    "  snapshot.Vote.proposal == proposal_id\n",
    "]\n",
    ")"
   ],
   "metadata": {
    "collapsed": false,
    "pycharm": {
     "name": "#%%\n"
    }
   }
  },
  {
   "cell_type": "code",
   "execution_count": 19,
   "outputs": [],
   "source": [
    "voting_snapshots_list = sg.query_df([\n",
    "    vote_tracker.id,\n",
    "    vote_tracker.voter,\n",
    "    vote_tracker.created,\n",
    "    vote_tracker.choice,\n",
    "    vote_tracker.vp\n",
    "])"
   ],
   "metadata": {
    "collapsed": false,
    "pycharm": {
     "name": "#%%\n"
    }
   }
  },
  {
   "cell_type": "code",
   "execution_count": 20,
   "outputs": [
    {
     "data": {
      "text/plain": "                                              votes_id  \\\n0    0x64a9b1622bd5c48725c7cf0bc5850c31fee24c180e5b...   \n1    0xfcede312f2b576b98652d8f21384a35a7e289bd2c419...   \n2    0xe32211d77a4cf785b8bda168373aef89e8df90574e4f...   \n3    0x09710e53b6f293b0b4aef4335896aeb414d583e20d48...   \n4    0x7122948b7793a2c681df411d9c31e8abbe7a902f5a4a...   \n..                                                 ...   \n526  0x805dc28f44973f01c7fc1233baaf066c9ef9383c3e2f...   \n527  0x2d5bb48cfc881688ae6fc0fd90254b31fe66d7abd8bd...   \n528  bafkreigiv6k65dphq7tsaglr4cjzhmcopiw2emy3p73zi...   \n529  bafkreig3mpbw26yv26bkwlslevevkmyr4ew7dzwujhp62...   \n530  0x6925986c8e6039e6fb75a1b297d3bef28cb716411452...   \n\n                                    votes_voter  votes_created  votes_choice  \\\n0    0x8864486C1be43143B2Fb2992777bA0B85129f3e4     1658559286             1   \n1    0x9947A1c54Cd439037F169C9EE165AF3b9C184752     1658558021             1   \n2    0xF05C004c9a3d801644d6Bbb18DE836ce998de27F     1658557244             1   \n3    0xf22Ee273aa45f1570b927997ad3AbDB0c56FE406     1658554222             1   \n4    0x0636A0f77d522A809F7819848248dF2177C0C996     1658553535             1   \n..                                          ...            ...           ...   \n526  0xce68b1394ED29ECAA6974536244d1D2Aad4a2745     1657988572             1   \n527  0xc2AcE1E2fEE2d1e4b33261913D89CAF657E99734     1657988336             1   \n528  0x01Cf9fD2efa5Fdf178bd635c3E2adF25B2052712     1657985342             1   \n529  0xaB7b49bacd43BD4CfA41433D477F690Bb9E1fB26     1657984612             1   \n530  0x53dc3204f2f294f6A5649a36AC295f74A0dB92e0     1657982192             1   \n\n          votes_vp  \n0        20.251268  \n1         9.464712  \n2         1.777200  \n3         3.731570  \n4         1.000000  \n..             ...  \n526     141.201500  \n527       0.224422  \n528  233739.779800  \n529      11.089814  \n530      13.476182  \n\n[531 rows x 5 columns]",
      "text/html": "<div>\n<style scoped>\n    .dataframe tbody tr th:only-of-type {\n        vertical-align: middle;\n    }\n\n    .dataframe tbody tr th {\n        vertical-align: top;\n    }\n\n    .dataframe thead th {\n        text-align: right;\n    }\n</style>\n<table border=\"1\" class=\"dataframe\">\n  <thead>\n    <tr style=\"text-align: right;\">\n      <th></th>\n      <th>votes_id</th>\n      <th>votes_voter</th>\n      <th>votes_created</th>\n      <th>votes_choice</th>\n      <th>votes_vp</th>\n    </tr>\n  </thead>\n  <tbody>\n    <tr>\n      <th>0</th>\n      <td>0x64a9b1622bd5c48725c7cf0bc5850c31fee24c180e5b...</td>\n      <td>0x8864486C1be43143B2Fb2992777bA0B85129f3e4</td>\n      <td>1658559286</td>\n      <td>1</td>\n      <td>20.251268</td>\n    </tr>\n    <tr>\n      <th>1</th>\n      <td>0xfcede312f2b576b98652d8f21384a35a7e289bd2c419...</td>\n      <td>0x9947A1c54Cd439037F169C9EE165AF3b9C184752</td>\n      <td>1658558021</td>\n      <td>1</td>\n      <td>9.464712</td>\n    </tr>\n    <tr>\n      <th>2</th>\n      <td>0xe32211d77a4cf785b8bda168373aef89e8df90574e4f...</td>\n      <td>0xF05C004c9a3d801644d6Bbb18DE836ce998de27F</td>\n      <td>1658557244</td>\n      <td>1</td>\n      <td>1.777200</td>\n    </tr>\n    <tr>\n      <th>3</th>\n      <td>0x09710e53b6f293b0b4aef4335896aeb414d583e20d48...</td>\n      <td>0xf22Ee273aa45f1570b927997ad3AbDB0c56FE406</td>\n      <td>1658554222</td>\n      <td>1</td>\n      <td>3.731570</td>\n    </tr>\n    <tr>\n      <th>4</th>\n      <td>0x7122948b7793a2c681df411d9c31e8abbe7a902f5a4a...</td>\n      <td>0x0636A0f77d522A809F7819848248dF2177C0C996</td>\n      <td>1658553535</td>\n      <td>1</td>\n      <td>1.000000</td>\n    </tr>\n    <tr>\n      <th>...</th>\n      <td>...</td>\n      <td>...</td>\n      <td>...</td>\n      <td>...</td>\n      <td>...</td>\n    </tr>\n    <tr>\n      <th>526</th>\n      <td>0x805dc28f44973f01c7fc1233baaf066c9ef9383c3e2f...</td>\n      <td>0xce68b1394ED29ECAA6974536244d1D2Aad4a2745</td>\n      <td>1657988572</td>\n      <td>1</td>\n      <td>141.201500</td>\n    </tr>\n    <tr>\n      <th>527</th>\n      <td>0x2d5bb48cfc881688ae6fc0fd90254b31fe66d7abd8bd...</td>\n      <td>0xc2AcE1E2fEE2d1e4b33261913D89CAF657E99734</td>\n      <td>1657988336</td>\n      <td>1</td>\n      <td>0.224422</td>\n    </tr>\n    <tr>\n      <th>528</th>\n      <td>bafkreigiv6k65dphq7tsaglr4cjzhmcopiw2emy3p73zi...</td>\n      <td>0x01Cf9fD2efa5Fdf178bd635c3E2adF25B2052712</td>\n      <td>1657985342</td>\n      <td>1</td>\n      <td>233739.779800</td>\n    </tr>\n    <tr>\n      <th>529</th>\n      <td>bafkreig3mpbw26yv26bkwlslevevkmyr4ew7dzwujhp62...</td>\n      <td>0xaB7b49bacd43BD4CfA41433D477F690Bb9E1fB26</td>\n      <td>1657984612</td>\n      <td>1</td>\n      <td>11.089814</td>\n    </tr>\n    <tr>\n      <th>530</th>\n      <td>0x6925986c8e6039e6fb75a1b297d3bef28cb716411452...</td>\n      <td>0x53dc3204f2f294f6A5649a36AC295f74A0dB92e0</td>\n      <td>1657982192</td>\n      <td>1</td>\n      <td>13.476182</td>\n    </tr>\n  </tbody>\n</table>\n<p>531 rows × 5 columns</p>\n</div>"
     },
     "execution_count": 20,
     "metadata": {},
     "output_type": "execute_result"
    }
   ],
   "source": [
    "voting_snapshots_list"
   ],
   "metadata": {
    "collapsed": false,
    "pycharm": {
     "name": "#%%\n"
    }
   }
  },
  {
   "cell_type": "code",
   "execution_count": 21,
   "outputs": [
    {
     "data": {
      "text/plain": "                                              votes_id  \\\n0    0x64a9b1622bd5c48725c7cf0bc5850c31fee24c180e5b...   \n1    0xfcede312f2b576b98652d8f21384a35a7e289bd2c419...   \n2    0xe32211d77a4cf785b8bda168373aef89e8df90574e4f...   \n3    0x09710e53b6f293b0b4aef4335896aeb414d583e20d48...   \n4    0x7122948b7793a2c681df411d9c31e8abbe7a902f5a4a...   \n..                                                 ...   \n526  0x805dc28f44973f01c7fc1233baaf066c9ef9383c3e2f...   \n527  0x2d5bb48cfc881688ae6fc0fd90254b31fe66d7abd8bd...   \n528  bafkreigiv6k65dphq7tsaglr4cjzhmcopiw2emy3p73zi...   \n529  bafkreig3mpbw26yv26bkwlslevevkmyr4ew7dzwujhp62...   \n530  0x6925986c8e6039e6fb75a1b297d3bef28cb716411452...   \n\n                                    votes_voter  votes_created  votes_choice  \\\n0    0x8864486C1be43143B2Fb2992777bA0B85129f3e4     1658559286             1   \n1    0x9947A1c54Cd439037F169C9EE165AF3b9C184752     1658558021             1   \n2    0xF05C004c9a3d801644d6Bbb18DE836ce998de27F     1658557244             1   \n3    0xf22Ee273aa45f1570b927997ad3AbDB0c56FE406     1658554222             1   \n4    0x0636A0f77d522A809F7819848248dF2177C0C996     1658553535             1   \n..                                          ...            ...           ...   \n526  0xce68b1394ED29ECAA6974536244d1D2Aad4a2745     1657988572             1   \n527  0xc2AcE1E2fEE2d1e4b33261913D89CAF657E99734     1657988336             1   \n528  0x01Cf9fD2efa5Fdf178bd635c3E2adF25B2052712     1657985342             1   \n529  0xaB7b49bacd43BD4CfA41433D477F690Bb9E1fB26     1657984612             1   \n530  0x53dc3204f2f294f6A5649a36AC295f74A0dB92e0     1657982192             1   \n\n          votes_vp                                           Proposal  \n0        20.251268  0xc6309348f43ba77bb488d2d5f154db3264f86a890b50...  \n1         9.464712  0xc6309348f43ba77bb488d2d5f154db3264f86a890b50...  \n2         1.777200  0xc6309348f43ba77bb488d2d5f154db3264f86a890b50...  \n3         3.731570  0xc6309348f43ba77bb488d2d5f154db3264f86a890b50...  \n4         1.000000  0xc6309348f43ba77bb488d2d5f154db3264f86a890b50...  \n..             ...                                                ...  \n526     141.201500  0xc6309348f43ba77bb488d2d5f154db3264f86a890b50...  \n527       0.224422  0xc6309348f43ba77bb488d2d5f154db3264f86a890b50...  \n528  233739.779800  0xc6309348f43ba77bb488d2d5f154db3264f86a890b50...  \n529      11.089814  0xc6309348f43ba77bb488d2d5f154db3264f86a890b50...  \n530      13.476182  0xc6309348f43ba77bb488d2d5f154db3264f86a890b50...  \n\n[531 rows x 6 columns]",
      "text/html": "<div>\n<style scoped>\n    .dataframe tbody tr th:only-of-type {\n        vertical-align: middle;\n    }\n\n    .dataframe tbody tr th {\n        vertical-align: top;\n    }\n\n    .dataframe thead th {\n        text-align: right;\n    }\n</style>\n<table border=\"1\" class=\"dataframe\">\n  <thead>\n    <tr style=\"text-align: right;\">\n      <th></th>\n      <th>votes_id</th>\n      <th>votes_voter</th>\n      <th>votes_created</th>\n      <th>votes_choice</th>\n      <th>votes_vp</th>\n      <th>Proposal</th>\n    </tr>\n  </thead>\n  <tbody>\n    <tr>\n      <th>0</th>\n      <td>0x64a9b1622bd5c48725c7cf0bc5850c31fee24c180e5b...</td>\n      <td>0x8864486C1be43143B2Fb2992777bA0B85129f3e4</td>\n      <td>1658559286</td>\n      <td>1</td>\n      <td>20.251268</td>\n      <td>0xc6309348f43ba77bb488d2d5f154db3264f86a890b50...</td>\n    </tr>\n    <tr>\n      <th>1</th>\n      <td>0xfcede312f2b576b98652d8f21384a35a7e289bd2c419...</td>\n      <td>0x9947A1c54Cd439037F169C9EE165AF3b9C184752</td>\n      <td>1658558021</td>\n      <td>1</td>\n      <td>9.464712</td>\n      <td>0xc6309348f43ba77bb488d2d5f154db3264f86a890b50...</td>\n    </tr>\n    <tr>\n      <th>2</th>\n      <td>0xe32211d77a4cf785b8bda168373aef89e8df90574e4f...</td>\n      <td>0xF05C004c9a3d801644d6Bbb18DE836ce998de27F</td>\n      <td>1658557244</td>\n      <td>1</td>\n      <td>1.777200</td>\n      <td>0xc6309348f43ba77bb488d2d5f154db3264f86a890b50...</td>\n    </tr>\n    <tr>\n      <th>3</th>\n      <td>0x09710e53b6f293b0b4aef4335896aeb414d583e20d48...</td>\n      <td>0xf22Ee273aa45f1570b927997ad3AbDB0c56FE406</td>\n      <td>1658554222</td>\n      <td>1</td>\n      <td>3.731570</td>\n      <td>0xc6309348f43ba77bb488d2d5f154db3264f86a890b50...</td>\n    </tr>\n    <tr>\n      <th>4</th>\n      <td>0x7122948b7793a2c681df411d9c31e8abbe7a902f5a4a...</td>\n      <td>0x0636A0f77d522A809F7819848248dF2177C0C996</td>\n      <td>1658553535</td>\n      <td>1</td>\n      <td>1.000000</td>\n      <td>0xc6309348f43ba77bb488d2d5f154db3264f86a890b50...</td>\n    </tr>\n    <tr>\n      <th>...</th>\n      <td>...</td>\n      <td>...</td>\n      <td>...</td>\n      <td>...</td>\n      <td>...</td>\n      <td>...</td>\n    </tr>\n    <tr>\n      <th>526</th>\n      <td>0x805dc28f44973f01c7fc1233baaf066c9ef9383c3e2f...</td>\n      <td>0xce68b1394ED29ECAA6974536244d1D2Aad4a2745</td>\n      <td>1657988572</td>\n      <td>1</td>\n      <td>141.201500</td>\n      <td>0xc6309348f43ba77bb488d2d5f154db3264f86a890b50...</td>\n    </tr>\n    <tr>\n      <th>527</th>\n      <td>0x2d5bb48cfc881688ae6fc0fd90254b31fe66d7abd8bd...</td>\n      <td>0xc2AcE1E2fEE2d1e4b33261913D89CAF657E99734</td>\n      <td>1657988336</td>\n      <td>1</td>\n      <td>0.224422</td>\n      <td>0xc6309348f43ba77bb488d2d5f154db3264f86a890b50...</td>\n    </tr>\n    <tr>\n      <th>528</th>\n      <td>bafkreigiv6k65dphq7tsaglr4cjzhmcopiw2emy3p73zi...</td>\n      <td>0x01Cf9fD2efa5Fdf178bd635c3E2adF25B2052712</td>\n      <td>1657985342</td>\n      <td>1</td>\n      <td>233739.779800</td>\n      <td>0xc6309348f43ba77bb488d2d5f154db3264f86a890b50...</td>\n    </tr>\n    <tr>\n      <th>529</th>\n      <td>bafkreig3mpbw26yv26bkwlslevevkmyr4ew7dzwujhp62...</td>\n      <td>0xaB7b49bacd43BD4CfA41433D477F690Bb9E1fB26</td>\n      <td>1657984612</td>\n      <td>1</td>\n      <td>11.089814</td>\n      <td>0xc6309348f43ba77bb488d2d5f154db3264f86a890b50...</td>\n    </tr>\n    <tr>\n      <th>530</th>\n      <td>0x6925986c8e6039e6fb75a1b297d3bef28cb716411452...</td>\n      <td>0x53dc3204f2f294f6A5649a36AC295f74A0dB92e0</td>\n      <td>1657982192</td>\n      <td>1</td>\n      <td>13.476182</td>\n      <td>0xc6309348f43ba77bb488d2d5f154db3264f86a890b50...</td>\n    </tr>\n  </tbody>\n</table>\n<p>531 rows × 6 columns</p>\n</div>"
     },
     "execution_count": 21,
     "metadata": {},
     "output_type": "execute_result"
    }
   ],
   "source": [
    "voting_snapshots_list['Proposal'] = proposal_id\n",
    "voting_snapshots_list"
   ],
   "metadata": {
    "collapsed": false,
    "pycharm": {
     "name": "#%%\n"
    }
   }
  },
  {
   "cell_type": "code",
   "execution_count": null,
   "outputs": [],
   "source": [
    "x=0\n",
    "while x <total_proposals:\n",
    "##print(olympus_governance_view.iloc[2,1])\n",
    "    proposal_id = olympus_governance_view.iloc[x,1]\n",
    "\n",
    "    vote_tracker = snapshot.Query.votes(\n",
    "    orderBy = 'created',\n",
    "    orderDirection='desc',\n",
    "    first=10000,\n",
    "    where=[\n",
    "      snapshot.Vote.proposal == proposal_id\n",
    "    ]\n",
    "    )\n",
    "    voting_snapshots = sg.query_df([\n",
    "    vote_tracker.id,\n",
    "    vote_tracker.voter,\n",
    "    vote_tracker.created,\n",
    "    vote_tracker.choice,\n",
    "    vote_tracker.vp\n",
    "    ])\n",
    "\n",
    "    voting_snapshots['Proposal'] = proposal_id\n",
    "    voting_snapshots_list=pd.concat([voting_snapshots_list, voting_snapshots])\n",
    "    ##voting_snapshots['Proposal'] = proposal_id\n",
    "\n",
    "#    pd.concat([voting_snapshots_list, voting_snapshots])\n",
    "    x=x+1"
   ],
   "metadata": {
    "collapsed": false,
    "pycharm": {
     "name": "#%%\n",
     "is_executing": true
    }
   }
  },
  {
   "cell_type": "code",
   "execution_count": 276,
   "outputs": [
    {
     "data": {
      "text/plain": "4389"
     },
     "execution_count": 276,
     "metadata": {},
     "output_type": "execute_result"
    }
   ],
   "source": [
    "len(voting_snapshots_list)"
   ],
   "metadata": {
    "collapsed": false,
    "pycharm": {
     "name": "#%%\n"
    }
   }
  },
  {
   "cell_type": "code",
   "execution_count": 277,
   "outputs": [],
   "source": [
    "path =file+'/'+spacename+'_voting_snapshots_list_'+str(date.today().strftime(\"%b-%d-%Y\"))+'_'+str(len(olympus_governance_view))+'.csv'\n",
    "voting_snapshots_list.to_csv(path, index = False)"
   ],
   "metadata": {
    "collapsed": false,
    "pycharm": {
     "name": "#%%\n"
    }
   }
  },
  {
   "cell_type": "code",
   "execution_count": 277,
   "outputs": [],
   "source": [],
   "metadata": {
    "collapsed": false,
    "pycharm": {
     "name": "#%%\n"
    }
   }
  },
  {
   "cell_type": "code",
   "execution_count": 277,
   "outputs": [],
   "source": [],
   "metadata": {
    "collapsed": false,
    "pycharm": {
     "name": "#%%\n"
    }
   }
  }
 ],
 "metadata": {
  "kernelspec": {
   "display_name": "Python 3",
   "language": "python",
   "name": "python3"
  },
  "language_info": {
   "codemirror_mode": {
    "name": "ipython",
    "version": 2
   },
   "file_extension": ".py",
   "mimetype": "text/x-python",
   "name": "python",
   "nbconvert_exporter": "python",
   "pygments_lexer": "ipython2",
   "version": "2.7.6"
  }
 },
 "nbformat": 4,
 "nbformat_minor": 0
}