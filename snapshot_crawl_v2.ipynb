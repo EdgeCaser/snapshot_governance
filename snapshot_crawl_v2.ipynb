{
 "cells": [
  {
   "cell_type": "markdown",
   "source": [
    "This script pulls all Olympus snapshot proposal votes, divided into individual files per snapshot"
   ],
   "metadata": {
    "collapsed": false,
    "pycharm": {
     "name": "#%% md\n"
    }
   }
  },
  {
   "cell_type": "code",
   "execution_count": 2,
   "outputs": [],
   "source": [
    "from datetime import datetime\n",
    "from subgrounds.subgraph import SyntheticField, FieldPath\n",
    "from subgrounds.subgrounds import Subgrounds\n",
    "import pandas as pd"
   ],
   "metadata": {
    "collapsed": false,
    "pycharm": {
     "name": "#%%\n"
    }
   }
  },
  {
   "cell_type": "code",
   "execution_count": 3,
   "outputs": [],
   "source": [
    "sg = Subgrounds()\n",
    "snapshot = sg.load_api('https://hub.snapshot.org/graphql')"
   ],
   "metadata": {
    "collapsed": false,
    "pycharm": {
     "name": "#%%\n"
    }
   }
  },
  {
   "cell_type": "code",
   "execution_count": 4,
   "outputs": [],
   "source": [
    "snapshot.Proposal.datetime = SyntheticField(\n",
    "  lambda timestamp: str(datetime.fromtimestamp(timestamp)),\n",
    "  SyntheticField.STRING,\n",
    "  snapshot.Proposal.end,\n",
    ")"
   ],
   "metadata": {
    "collapsed": false,
    "pycharm": {
     "name": "#%%\n"
    }
   }
  },
  {
   "cell_type": "code",
   "execution_count": 5,
   "outputs": [],
   "source": [
    "proposals = snapshot.Query.proposals(\n",
    "  orderBy='created',\n",
    "  orderDirection='desc',\n",
    "  first=10000,\n",
    "  where=[\n",
    "    snapshot.Proposal.space == 'olympusdao.eth',\n",
    "    snapshot.Proposal.state == 'closed',\n",
    "  ]\n",
    ")"
   ],
   "metadata": {
    "collapsed": false,
    "pycharm": {
     "name": "#%%\n"
    }
   }
  },
  {
   "cell_type": "code",
   "execution_count": 6,
   "outputs": [],
   "source": [
    "proposals_snapshots = sg.query_df([\n",
    "  proposals.title,\n",
    "  proposals.id,\n",
    "  proposals.body\n",
    "])"
   ],
   "metadata": {
    "collapsed": false,
    "pycharm": {
     "name": "#%%\n"
    }
   }
  },
  {
   "cell_type": "code",
   "execution_count": 7,
   "outputs": [],
   "source": [
    "proposals_choices = sg.query(proposals.choices)"
   ],
   "metadata": {
    "collapsed": false,
    "pycharm": {
     "name": "#%%\n"
    }
   }
  },
  {
   "cell_type": "code",
   "execution_count": 8,
   "outputs": [],
   "source": [
    "proposals_choices = pd.DataFrame(proposals_choices, columns = ['option_a', 'option_b', 'option_c', 'option_d', 'option_e','option_f','option_g'])"
   ],
   "metadata": {
    "collapsed": false,
    "pycharm": {
     "name": "#%%\n"
    }
   }
  },
  {
   "cell_type": "code",
   "execution_count": 9,
   "outputs": [],
   "source": [
    "olympus_governance_view = pd.concat([proposals_snapshots,proposals_choices], axis=1)"
   ],
   "metadata": {
    "collapsed": false,
    "pycharm": {
     "name": "#%%\n"
    }
   }
  },
  {
   "cell_type": "code",
   "execution_count": 10,
   "outputs": [
    {
     "data": {
      "text/plain": "                                       proposals_title  \\\n0       OIP-94: Interim Ranged Stability Policy Levers   \n1                                OIP-93: Mint and Sync   \n2                  TAP-12 Pilot Deposit on Tribe Turbo   \n3                      TAP-11 Ribbon Finance Whitelist   \n4    OIP - 92 : Whitelist FEI as a treasury Reserve...   \n..                                                 ...   \n192                    OIP-5: Lower LP Staking Rewards   \n193                                        Deposit SLP   \n194                                      Loosen Policy   \n195                                      Add DAI Bonds   \n196                    Open an OHM-ETH Pool on Uniswap   \n\n                                          proposals_id  \\\n0    0x6413984c8f1076e3f46f196810ba51781f25f4d2f1eb...   \n1    0xf0e62d0a9eeb47a295bab9a8d0cc84c0d4de0a8cb000...   \n2    0x7d191f4a7f2ea3d138c07f73d568b93c96fc5ffce267...   \n3    0xe52a4af6307bea40a34f2eaf9a93f11c8abf382020cc...   \n4    0xe9aa47f39bc5ace6ad5a19c08007a3683386e19c1390...   \n..                                                 ...   \n192     QmTrwGU99RMqTeeCKy5oW9Le9M2mXHHdNeEWzn7T67watz   \n193     QmZhSNWAzrDy5KiGSeBsKBXUHW6D4vJnfCuqmdai8LPETd   \n194     QmZJb2evEjsxtLz92XBuhApWty69fVqUpFHzuVjMjCd3Se   \n195     QmUC5xa4YaWZBV7fy241svBQ8bHSMksm8kB7avk1WyWv9m   \n196     QmVaYYojHUCqVhM835eSWtih6CyF1koQpSinPg9Kyw21RN   \n\n                                        proposals_body  \\\n0        abipup\\n         \\n    2 days ago\\n\\nSumma...   \n1    Summary:\\n\\nEnable minting into liquidity pool...   \n2    Summary\\n\\nSeek authority from the community t...   \n3    Summary: Seek authority from the community to ...   \n4    Summary\\n\\nWhitelist FEI as our next reserve a...   \n..                                                 ...   \n192  Summary: We should decrease LP staking rewards...   \n193  Summary: The DAO currently holds liquidity tha...   \n194  Summary: Let's adjust system parameters away f...   \n195  Summary: We can launch bonds using DAI instead...   \n196  Summary:\\nSeveral community members have broug...   \n\n                             option_a                        option_b  \\\n0    Inverse bonds & adjust liquidity                      Do nothing   \n1       1. Implement, no change to RR         2. Implement, change RR   \n2               Approve Pilot Deposit    Do not approve pilot deposit   \n3                Allow Ribbon Finance     Do not allow Ribbon Finance   \n4         Approve FEI in the Treasury  Do not approve FEI in Treasury   \n..                                ...                             ...   \n192                     For: Option 1                   For: Option 2   \n193               Deposit; keep Onsen               Deposit; no Onsen   \n194                             Do it                     Don't do it   \n195                 Add; remove sales            Add; phase out sales   \n196  Add OHM/ETH pair, adjust rewards   Add OHM/ETH pair, add rewards   \n\n                    option_c    option_d option_e option_f option_g  \n0                       None        None     None     None     None  \n1        3. Do not implement        None     None     None     None  \n2                       None        None     None     None     None  \n3                       None        None     None     None     None  \n4                       None        None     None     None     None  \n..                       ...         ...      ...      ...      ...  \n192                  Against        None     None     None     None  \n193            Don't deposit        None     None     None     None  \n194                     None        None     None     None     None  \n195          Add; keep sales  Do not add     None     None     None  \n196  Do not add OHM/ETH pair        None     None     None     None  \n\n[197 rows x 10 columns]",
      "text/html": "<div>\n<style scoped>\n    .dataframe tbody tr th:only-of-type {\n        vertical-align: middle;\n    }\n\n    .dataframe tbody tr th {\n        vertical-align: top;\n    }\n\n    .dataframe thead th {\n        text-align: right;\n    }\n</style>\n<table border=\"1\" class=\"dataframe\">\n  <thead>\n    <tr style=\"text-align: right;\">\n      <th></th>\n      <th>proposals_title</th>\n      <th>proposals_id</th>\n      <th>proposals_body</th>\n      <th>option_a</th>\n      <th>option_b</th>\n      <th>option_c</th>\n      <th>option_d</th>\n      <th>option_e</th>\n      <th>option_f</th>\n      <th>option_g</th>\n    </tr>\n  </thead>\n  <tbody>\n    <tr>\n      <th>0</th>\n      <td>OIP-94: Interim Ranged Stability Policy Levers</td>\n      <td>0x6413984c8f1076e3f46f196810ba51781f25f4d2f1eb...</td>\n      <td>abipup\\n         \\n    2 days ago\\n\\nSumma...</td>\n      <td>Inverse bonds &amp; adjust liquidity</td>\n      <td>Do nothing</td>\n      <td>None</td>\n      <td>None</td>\n      <td>None</td>\n      <td>None</td>\n      <td>None</td>\n    </tr>\n    <tr>\n      <th>1</th>\n      <td>OIP-93: Mint and Sync</td>\n      <td>0xf0e62d0a9eeb47a295bab9a8d0cc84c0d4de0a8cb000...</td>\n      <td>Summary:\\n\\nEnable minting into liquidity pool...</td>\n      <td>1. Implement, no change to RR</td>\n      <td>2. Implement, change RR</td>\n      <td>3. Do not implement</td>\n      <td>None</td>\n      <td>None</td>\n      <td>None</td>\n      <td>None</td>\n    </tr>\n    <tr>\n      <th>2</th>\n      <td>TAP-12 Pilot Deposit on Tribe Turbo</td>\n      <td>0x7d191f4a7f2ea3d138c07f73d568b93c96fc5ffce267...</td>\n      <td>Summary\\n\\nSeek authority from the community t...</td>\n      <td>Approve Pilot Deposit</td>\n      <td>Do not approve pilot deposit</td>\n      <td>None</td>\n      <td>None</td>\n      <td>None</td>\n      <td>None</td>\n      <td>None</td>\n    </tr>\n    <tr>\n      <th>3</th>\n      <td>TAP-11 Ribbon Finance Whitelist</td>\n      <td>0xe52a4af6307bea40a34f2eaf9a93f11c8abf382020cc...</td>\n      <td>Summary: Seek authority from the community to ...</td>\n      <td>Allow Ribbon Finance</td>\n      <td>Do not allow Ribbon Finance</td>\n      <td>None</td>\n      <td>None</td>\n      <td>None</td>\n      <td>None</td>\n      <td>None</td>\n    </tr>\n    <tr>\n      <th>4</th>\n      <td>OIP - 92 : Whitelist FEI as a treasury Reserve...</td>\n      <td>0xe9aa47f39bc5ace6ad5a19c08007a3683386e19c1390...</td>\n      <td>Summary\\n\\nWhitelist FEI as our next reserve a...</td>\n      <td>Approve FEI in the Treasury</td>\n      <td>Do not approve FEI in Treasury</td>\n      <td>None</td>\n      <td>None</td>\n      <td>None</td>\n      <td>None</td>\n      <td>None</td>\n    </tr>\n    <tr>\n      <th>...</th>\n      <td>...</td>\n      <td>...</td>\n      <td>...</td>\n      <td>...</td>\n      <td>...</td>\n      <td>...</td>\n      <td>...</td>\n      <td>...</td>\n      <td>...</td>\n      <td>...</td>\n    </tr>\n    <tr>\n      <th>192</th>\n      <td>OIP-5: Lower LP Staking Rewards</td>\n      <td>QmTrwGU99RMqTeeCKy5oW9Le9M2mXHHdNeEWzn7T67watz</td>\n      <td>Summary: We should decrease LP staking rewards...</td>\n      <td>For: Option 1</td>\n      <td>For: Option 2</td>\n      <td>Against</td>\n      <td>None</td>\n      <td>None</td>\n      <td>None</td>\n      <td>None</td>\n    </tr>\n    <tr>\n      <th>193</th>\n      <td>Deposit SLP</td>\n      <td>QmZhSNWAzrDy5KiGSeBsKBXUHW6D4vJnfCuqmdai8LPETd</td>\n      <td>Summary: The DAO currently holds liquidity tha...</td>\n      <td>Deposit; keep Onsen</td>\n      <td>Deposit; no Onsen</td>\n      <td>Don't deposit</td>\n      <td>None</td>\n      <td>None</td>\n      <td>None</td>\n      <td>None</td>\n    </tr>\n    <tr>\n      <th>194</th>\n      <td>Loosen Policy</td>\n      <td>QmZJb2evEjsxtLz92XBuhApWty69fVqUpFHzuVjMjCd3Se</td>\n      <td>Summary: Let's adjust system parameters away f...</td>\n      <td>Do it</td>\n      <td>Don't do it</td>\n      <td>None</td>\n      <td>None</td>\n      <td>None</td>\n      <td>None</td>\n      <td>None</td>\n    </tr>\n    <tr>\n      <th>195</th>\n      <td>Add DAI Bonds</td>\n      <td>QmUC5xa4YaWZBV7fy241svBQ8bHSMksm8kB7avk1WyWv9m</td>\n      <td>Summary: We can launch bonds using DAI instead...</td>\n      <td>Add; remove sales</td>\n      <td>Add; phase out sales</td>\n      <td>Add; keep sales</td>\n      <td>Do not add</td>\n      <td>None</td>\n      <td>None</td>\n      <td>None</td>\n    </tr>\n    <tr>\n      <th>196</th>\n      <td>Open an OHM-ETH Pool on Uniswap</td>\n      <td>QmVaYYojHUCqVhM835eSWtih6CyF1koQpSinPg9Kyw21RN</td>\n      <td>Summary:\\nSeveral community members have broug...</td>\n      <td>Add OHM/ETH pair, adjust rewards</td>\n      <td>Add OHM/ETH pair, add rewards</td>\n      <td>Do not add OHM/ETH pair</td>\n      <td>None</td>\n      <td>None</td>\n      <td>None</td>\n      <td>None</td>\n    </tr>\n  </tbody>\n</table>\n<p>197 rows × 10 columns</p>\n</div>"
     },
     "execution_count": 10,
     "metadata": {},
     "output_type": "execute_result"
    }
   ],
   "source": [
    "##let's view the output just to make sure\n",
    "olympus_governance_view"
   ],
   "metadata": {
    "collapsed": false,
    "pycharm": {
     "name": "#%%\n"
    }
   }
  },
  {
   "cell_type": "code",
   "execution_count": 11,
   "outputs": [
    {
     "data": {
      "text/plain": "197"
     },
     "execution_count": 11,
     "metadata": {},
     "output_type": "execute_result"
    }
   ],
   "source": [
    "total_proposals = len(olympus_governance_view)\n",
    "total_proposals"
   ],
   "metadata": {
    "collapsed": false,
    "pycharm": {
     "name": "#%%\n"
    }
   }
  },
  {
   "cell_type": "markdown",
   "source": [
    "We now have the number of snapshots, which we can use as the max number of times we will fetch a votes report"
   ],
   "metadata": {
    "collapsed": false,
    "pycharm": {
     "name": "#%% md\n"
    }
   }
  },
  {
   "cell_type": "code",
   "execution_count": 12,
   "outputs": [
    {
     "ename": "SyntaxError",
     "evalue": "invalid syntax (885679355.py, line 1)",
     "output_type": "error",
     "traceback": [
      "\u001B[0;36m  Input \u001B[0;32mIn [12]\u001B[0;36m\u001B[0m\n\u001B[0;31m    print(olympus_governance_view.iloc[,1])\u001B[0m\n\u001B[0m                                       ^\u001B[0m\n\u001B[0;31mSyntaxError\u001B[0m\u001B[0;31m:\u001B[0m invalid syntax\n"
     ]
    }
   ],
   "source": [
    "print(olympus_governance_view.iloc[,1])"
   ],
   "metadata": {
    "collapsed": false,
    "pycharm": {
     "name": "#%%\n"
    }
   }
  },
  {
   "cell_type": "code",
   "execution_count": 13,
   "outputs": [
    {
     "name": "stdout",
     "output_type": "stream",
     "text": [
      "0x6413984c8f1076e3f46f196810ba51781f25f4d2f1ebee606455929cbbc7d7c8\n",
      "0xf0e62d0a9eeb47a295bab9a8d0cc84c0d4de0a8cb000a38fb28e301cd96b4eb6\n",
      "0x7d191f4a7f2ea3d138c07f73d568b93c96fc5ffce2674271fbced88406d26fa7\n",
      "0xe52a4af6307bea40a34f2eaf9a93f11c8abf382020cca2d370ffaa0337620b6b\n",
      "0xe9aa47f39bc5ace6ad5a19c08007a3683386e19c139011c136fa0007f0592289\n",
      "0xf90119baf2b7bca681d41ec611e093363dcff38ff5efa1c3aada55da91aac3a5\n",
      "0x675a4acc6c9402b2269ea61a425c73b185ede2640a7aca11a1ba052eb5a2c050\n",
      "0xbbc9ee3b8a3a7b8ba97fa2c5014810a2a82151e79d468044271fdb782c40ed86\n",
      "0x807d75e51065c6d28651bf77627425cdac5835bd192c181a5186efe1d4042096\n",
      "0x70babccd32c31752f60275e0b2045b1bb73c7a98606fed54c0b54f6c2f7e1e62\n",
      "0x01dfb4809fd8c986b13a9c04919a75ee31bf47beb2e05b7fa09b8019f580c059\n",
      "0xceb3f950f22310b0245599ca97b3c3d25ba3cbda74183744c60a0b03cbdd165b\n",
      "0xc7839708a47c3d09aab4d9eee91e5e5757c202a447e5586b5d3fbb9a9dc1cf49\n",
      "0x3529ecff8159a24307c720662ede59675feb7e99ea6b35b86a1aab58babfdbe9\n",
      "0x73ec03590c5d5bf39405bc1638bf9c7e01b4777ac4bd687450a76fc7b56543dd\n",
      "0x06f8b8d445dc2657021b924cb9c8342ab9748f3c23ada8b733fe637fe5e48ee7\n",
      "0x81a26d62bf07c13bd438af4cb65706363c2dc4461ab76ee90876437badfc1fc4\n",
      "0x00fd601fd700678a9d6b7e484e742ccbbcf2f7f27c6d8f2814e9ba547d0a0f1b\n",
      "0xece47fbf9e8f9fe362ed3a7cc0bc11705ad2de5c4baa7ba0a1a90b7c35ac3aa7\n",
      "0x7d65f346d0285a10457c1f61fbfad1b2337c55e29114b61eb5debc9d397491ca\n",
      "0xd70a27bec4e97b0d6c47d6bc532fe4fd017951f6f216d67ed3cd77ed94d3fe3d\n",
      "0xfbad1f4af42f99e59e0ef216211f2ed8b1f3a324de04b958ebb7606abf31174b\n",
      "0xf1474731033990ba04abd897e70c5387160fab81e23e26a848d167a71ea7596d\n",
      "0x88b17056b2677673df2731eec8431a3aadcdc7f8f348e4b5fd06000363553e98\n",
      "0xec57e860aa083fdd2fda66d1787ef8f965bd2f75b239aabc5dec240ddc635d74\n",
      "0x3623c7cd9452d348bc7bdbeeb372dc135db6e38e96123062fe794ff1435159a7\n",
      "0xa544837835f3c4e681efba18d33623d4eb2acedec352dfc3c926a45902cd3612\n",
      "0x97e48ec849d6cc94c2c01c3352c9cfc7fa75405e53c7109e35807cb099e6733c\n",
      "0xe500ef9d9b5e12464ec9fa26b400a4788bf1d5af461aba112a1943388dbafb2a\n",
      "0x165e20faa40955ec5400e47e669ff230de605f3383b184d6c0249d2e80f7f899\n",
      "0x9635ca2a9e439110b76ae009ff2622869d6aa293242e6b0c660e741c0e545caf\n",
      "0x146db4ab5b1b126b5a5f61dc2bc387b14275bb561cf16094d8868518ec7b1d41\n",
      "0x3434a6a517f8f1e46bf99fb7a23d075d03be8924b32553fb5c182304df15b33a\n",
      "0x1c0bf4f16fb811bc6de7e52b32a0a8397b966b6757d5cf170d3c7198dab340bb\n",
      "0xaf7e69b44c0534696416f65522bcb16c4d711592db049c5b4e385ec9ba8c7a3f\n",
      "0xc07b038b517d35f6b4d15db55244378531012b000375a8d27e850ecfd4892238\n",
      "0x893809b3725e9629201539c68f9c0f2a13cbe140d6deb1849e497db1f74d8d84\n",
      "0x5750726d1f0c5320f4a434512a1f41a9fcd24f8b1efbf95b86d7ca4e3d28a14b\n",
      "0x74873698c7e081480b3adb46edf95008d8a9f5eb8b2b1ee92eb6df4ed1e8493d\n",
      "0xef3fa72d9a16816f326a8931d84960a60f9a6ae4b63c0d8a8df39e54c623f21a\n",
      "0x587961c85ae1a7ee4f92fb731424af6fe2998f3cd0faa23a0e08cc859e1afd04\n",
      "0x7471c17bb68dae5b24580d5941fbf43179d8e71e54c8a501cd3fd0e0ef403cc7\n",
      "0x7cdfa87ad7b39db3e70eecd46f2c0c0628b6a875c5e7aab7c2a403e4a35e8227\n",
      "0xa3bf0c282f14dbdadf4571e1da4862c746bfb0123f2fe5bbf5c8184c2125ec7e\n",
      "0xcc1eb1848f5a5d09fafab14493d3c0d822c84ac1ca18a55adee1db42a609bc8f\n",
      "0x1d5c583dc43f201d4c6e2524fc031f393d9bceb1c2883b5bd3517c07b991910b\n",
      "0x13fe1f8c2bdf680a235484f68976de086fbae72d9ed9ca4c2ff6a0234aa24cf2\n",
      "0x3ca1a75688a2b13716f4d9c7340e5ef5029fe3e45cd59c56d6520fc90dbe2010\n",
      "0x457ad16343efd2d019cdc119782244b53d4e9dfd4a6a9946e9cadc9661c59ec8\n",
      "0x49f8bcf9b07eda70dcc376d82352d86b0d5cf3a4c13cfca9fd16970eef8fe4ff\n",
      "0x18c942eb87705d0505e78d04d6de3e21d1be14b3a11711d575b9f1fe15c5915a\n",
      "0x406a0bbb46b0e82b8530acf37871652845e82c9da2543fac61ea3b3cafd54346\n",
      "0xdc5d3cfe87d48ad7130cc888264831a39eba1a0db8ea5e2ec4b0cacfd23d0fbf\n",
      "0x62a3b7c94478e61e24ae38369cc4c60b084077caf18d72c539cd72f47c45336c\n",
      "0x48897392d09a87f82b315c6d238dff38a5b08f7ba9acbfc53f99a9627eb49332\n",
      "0xb615f5edbae28cb8020ca662b46832b0a696515f790eea03fefe8053c75445b0\n",
      "0xe485c98e99bdcb810d6f05d84f390bf1b6fa913c906d7bd1e3c00822e28c9007\n",
      "0x9046cd11cd5b44eb52874aa4a523f90c43c3b131f37d55794e13e5d34f2b29f4\n",
      "0x65ec04a86dea4bf04c768f7636fc5a2eccfbac93b079c120280c6865e45ae9dc\n",
      "0xe0de992adff7f8483a83dd14ac1aa9c73348b01ceae3c8f396705c9901ac4e0c\n",
      "0xdf4dd00b13d8808227fcd729afc1f5c635c0e0f6df52ad70dca304471ef483e6\n",
      "0x015cb9276a34ae7ec7c00e4c780fcbd35d96f56e27e8d9b47b427daa2f0a63fc\n",
      "0x71129f3282c2632eda8e43c321581065e1897a06b0e29d83153014ba9b229445\n",
      "0x67963ef5e348d4d22c773c152ff1f34066dfdf64f7c0831d01401cb5ab73c7eb\n",
      "0x3e627dda2b2b75f6dbf92735ae8f9682de8be816a61081fe738e03a72b9c47d1\n",
      "0xeec6e575ff8c37a34f1a3af2a8671f1ce8ee2018c31938c0564fd1e50d1ee25a\n",
      "0xdb6d9fdea989c4d5b11a2c1aa57e348d1f305b706c45c148f16bc38884b11f70\n",
      "0x7fb2b4f6fe836e47e45f8fa98d1277486109fb24513b6c14a95f0e6c66334aeb\n",
      "0x2486e913e11b4aeba3f852c8bfc11edce6463eefb3b05d620ec32b3896cbb415\n",
      "0x03c9f9c73c11a63001ea94cc8cda35c32120d46f71c1b63eff91912cdb3d9b73\n",
      "0x8ae35e45388be850905695bfda2d640b217c8b580dae625decb5dc14ad81f56c\n",
      "QmZ7qwp1a2y5HygTfXKEXdkjLWMo8oqpZqztY26HWoVj1V\n",
      "0x54343cb649ef09692a098c358a5f127be87aeadd45de5bd008a89fb9e701b7c8\n",
      "0xd8200aa3866d95c8cddd8d924c2aff28e0b2acbab8b564cbddca9bfd2465fe77\n",
      "0x5b80bc975f2d08ebb8ffe6762162a31a4424ddcc9f1e966a4545e60e17b33e99\n",
      "0x6fcc6f84348cae5811b94a69c29d4fb6c530943a904c632bd07e01de7008e5eb\n",
      "0x6ec1c0fe5eda06c6218ea2f807d8c7da70f4151e9ecd096d682097f63d4fe436\n",
      "0xa59de90c6ea775cd1f783485b5049720c739c97b8b2575060c9b53844a485ee3\n",
      "0x19addafd0b8b721a5ef28df6372a5ce638cd7c271071164824730e80dff28155\n",
      "0x54e326748a48208ce5393555f5340272429a5dd461cd211f88eccd9a92c16816\n",
      "0x02b12de89222029d8059386a353fb33262fd7cfda0c577f6bdb2b846f6a6e614\n",
      "0x41f9547d1de6820ff94172939a6809c3cfe59ea9bdb89c396fa95b6737054217\n",
      "0x91fa1d5d6ae3f393503ca6ba83f95ecd340279eb2d5a86fe95537279f5b52dc4\n",
      "QmS1CZdUuWNZgAPGt835wnVMWnp9sMkxUn7cHhpSq9agE2\n",
      "QmXuk1FM5fEeuMVYEyMEE9UnaJjc7vTZbb4RY4J6CqmJNo\n",
      "0x8cfae822414a8afcd0288cd366dc9793e8bedde2ace861ea49aeb62b61dfc24c\n",
      "0x0ab8df9d6876360897b68f37f74d6f2f1d3bfe7bf91bfccb38f8a0268910691b\n",
      "0x6fe5e7d15b812e8815f62cc7578394381c1dcf054ec3bc24e77fa6d2242c3796\n",
      "0x5d81831b8373b02246e043dbe270a513f13b703164d67692bd3e3fc66899519c\n",
      "0x4353997cdd6d267d1222a8655e1a2437c891bbe40d3720cadbb9cd2c77422501\n",
      "0x187161d161774da133a08a87a2ba5695ee958f3c4c56986775162d53789c047f\n",
      "0x950f0540a9bdebb106a490b71da60477c80cf2a4a14fc0359df9716f212d502a\n",
      "0xba41b9ea4da8d7bb4a3513380500550b22a735c6add3014fa38f6bb81b8bcd0c\n",
      "0x71016c9fadcbea3bd5b0f54655fe898c56d0e82dff59065940a5ef5b4d8f2e51\n",
      "0x9dd714745b82cb7e93520368a7c3da5349e16017133bdb03ef5ad04ff3b05894\n",
      "0x354012ba8cf933a8811aa970cfa50623c0aca21689caa0060b11b746f34dd501\n",
      "0x123d290e901a531a9f4ded3deac047e97228b5eeefb72efa4268333454531323\n",
      "0x7a5331d3f2a33aabd4a97287f7e444c85eac1de80f0c34254c5e0bee4a295808\n",
      "0x552f75a958f956505c7d73fbcf7d6c59d9969120d9cbe8c2318501d1882d74d8\n",
      "0x890b859a4b9968022dc5071b3b5a61ac4b74e0c0fa4e76aca1e08e63da802f56\n",
      "0x32c24a6b98a1a356a996a45c8c1c3d8935606debde7b1bbddf7670928c5fc8ea\n",
      "0x1414686829c294a2782198c53cff91a7eff087ea6670fb801c66ee50fb096246\n",
      "0x37448a91b7e73f33f77d08ccb5774ec6d5c7939fe9e9a3ed29c23bb8076759de\n",
      "QmRjQH1NPUHWP3VjyE2CQGa6nATy2ZLLoWV6cscnBZBkR2\n",
      "0xf1856b3161093d3ccd03ef0613b7b3c1f73b2f658e9170475d7fb26f3d154bab\n",
      "0xaf40f0217ca77a0f9394c9c7ea88e7d140995878008734b84867737a7106346f\n",
      "0x29daab3a1af72f870921cbd553f6d81bc57c1a2cbfaff7f929715f048f2b56cf\n",
      "0x36e66ee03f7b730c737909181e1cf2b5208c3093177dc9eb0bcd7576f3ab0a1b\n",
      "0x864d9f18087c9530a5a72dda04dc018a8690762cd668fddced50b5196ef3b615\n",
      "0x1d444aa35faa85e2da9ab8e88d0e2b8b2edc81b4d726f50ad890c2ff226555c4\n",
      "0x40c6d5641ae9893c49a087c98010907013220c1b16da9f04193c844e3f751208\n",
      "QmPeq69LUChHVQPqG3adSNqkzcyjFn3RUWm6fqe5K9EdxV\n",
      "0x86bafe6d397c22bfc2204655e3f98210371a52925b54aa57c1720375080077ff\n",
      "0xe98312a2af91141c5341edc76fd4835b9de7fd615e7372dccf605dd082f00754\n",
      "0x33538881cc32621825be22ebd21856951651cff12b9cd6d27379302183665605\n",
      "0x85e3ebdb17aee7d792e10a5df41337c91f25c7ace9406d5e771b14b9f4e827fd\n",
      "0x68a3a5f0917238116cbe8183e3d3bff4b6cc1c1349ae012a3f8609812a5fa319\n",
      "0x9bcfe62e10a0f80fcaf693525b52ccc627012917f9a036e7c539cc57d04c55e1\n",
      "0x97eb6d02e3446d6f8233366e4843c0eaadc4d143798460461f5f752d23049220\n",
      "0xe912fb26a4e50b93cac27c09d54b716d16f7f81c769a0a7e9a72d36d4ee0df1c\n",
      "0x47d1cd5c6aa55b6b97df6a92066aeb1c958e57cd4a3ee174e7d3db5bfdb0f5bb\n",
      "0x47b42407c756b3cdf244a4c406f2153ba8615fc920a4b8f582163507399a751f\n",
      "0xcf049d7e9900e80bbfa74b568cdf0c6ab7408706c8a02e19a29bec6f3371213b\n",
      "0xb9e47c3d207b3614355967be0d1c21a060b6a23307d0a9ce125227494b76ab47\n",
      "0x82d25b041beea2f6f4e705f235e31b6cb51b15ebf96058210c779874262f289c\n",
      "0x0d09a4c2b4f09e9c4a818d89dfe5438dccba90048100ff7700e8e23a8b1496bc\n",
      "0xc636f93682fc33627f706b0e075b7645e521fd31abd693f8f62fb08a3cbd2f5f\n",
      "0xb2de94422fd9153669ccbcdca648238d25d28f79721e3ab1992c8c7458c4886c\n",
      "0xb5e0777daf14bff2fd52939b92cf8e4262cd9e43197683f21192293219971106\n",
      "QmUAMQxZrEnNNgqdp8vVdBPKNP3HBRA9ZPD85W7E2y8whC\n",
      "0x48d06a5bedad8a15b0e010e6c7e4e1528cc76021a33ba701afcfc46f7c04da6d\n",
      "0x81e216097e5afd1595cd230043350f7fe86d2c1f157e21eff154844040c3c7ea\n",
      "0xc71bd548543385b94cbba2ceb46ea525cd4b91897ac4b06f873ef462243bc025\n",
      "0x1793d2eef3287e6a2638f3daf5e3da8fd283cfd4c105545c774ee9feaf32825a\n",
      "QmPJWXQyBPzbiLWLAmLFNP2H8TpNAQtm5utAfsyQHWq8J3\n",
      "0x8222766586bc235963cdc256e76fedb541806f367a2571ca4e23fa722acc44fe\n",
      "0xd83ba0b7cce760851286d6cd044ff607baad24c8e80c46d9387dc496101d9f07\n",
      "0x7e647d2b3a24690fa8f15fb50d0740255e6707df8a6e4e54692c6be0872796ae\n",
      "0xc67f9d38b34a32ed7cdf3996df8a307c9916c9dc49f576a6b87faebb7593e53f\n",
      "0x8444e5711b273116cff51419eaf5c230e77096a0ec7dacdb3897c4b4dab36584\n",
      "0xec3ac9c51deb63f03d759313c587d03fd3c12244ea4bf4bf75b789765315755f\n",
      "0x28c03085b6511812a760f9488839c84d33dfa89042da2e0064e90d170b578f6b\n",
      "0x78d50cf71b8e89d105655fb5d688c95333c27a13c911fb650691223f57a7a4cc\n",
      "0x2422366345ed6a393f31a0ef53cf22834d2342349d32e714331da6a96c574510\n",
      "0x807f0e24c1d5f710ab3ac8aeb3397ca90abc30790f5acc89c56baa1e535f66c7\n",
      "0x255a4e0b695ce686ab9bef5e5b7a33f2dc84b62a7d8351840b46279628c3eb2d\n",
      "0xbf360d51c5b6bfa9efeb02ffff29c5ff66c3d504847235b7af10627064cfe3c1\n",
      "0x36d62c9f7e3e83683266d34a6db734b0d9585ed7ac56a0d89c592cd17d716ed1\n",
      "0xd673128c04d2e4fefeea33324d85ca9ab89c93f5287495803652282e02fac975\n",
      "0xa24490b111cec111109f757b5afa2c5b54e141076e7db83b4aff47661954a122\n",
      "0x34187fa8ceae2ad868b45555b76a71be03d5ca640590e7aa2fe59f791d2c1988\n",
      "QmdyyRvMW1C2MP9N6T6N9mtyEoqweZdW8hm97qHFqUxU2P\n",
      "QmPQ538ixPz5GoTHLwrZZQrNhJoX6WYZ5CZFnLYBRZezGc\n",
      "QmQhq7CLkTke5Ex8ogsQLgX9dtWEY2FAcdLb7bg2sWiDab\n",
      "QmeTAPcCdV3AoxF4DRUFPvhdKSJ1UKdQnfpFejc6v3APZB\n",
      "QmNrGhKmjVzNUkiD7dMrEzWiybJDQjrqCZYSHgmjbgwx82\n",
      "QmXtungz9T2CL3u9ZuhKHtvTY4tXhSoJVKYFqNWmaBD92R\n",
      "QmZESj3ZBmZvk7bhNnLqDmChzNtCcGRGhUYfDCpcycfqjb\n",
      "QmZmDYcHDrWNXZu87Fia3eeK3z6iSQ8VNTNYPUXiSJ93MV\n",
      "Qmds4LP7q99pnmsvb3WoL5NXDEWVYiEcZ81jHoSQZw5Dx2\n",
      "QmSNm8ZW5cVt7WnK3Nz3d3FuBXCdwq1HLJycRWt4SPu1YP\n",
      "QmbmbBydfMqqZq3n3aYqsJceKLojbQf1niUxDsFmCx6rsM\n",
      "QmXv5z2j2Mv4Pdiyn5JjeohmTGzgbnCvHRSjysgNKgzTXF\n",
      "Qmeh2PYnvByNdALubsipdaHTGHUdsypcwd7aaP4rDCifTo\n",
      "Qme9TcgxP8KHk7LHsA3Tj3a9dSEi11dTxQTnn3hJQuhtyB\n",
      "QmPNqSi9oTekcy49uimFZzhvchdsF31hhQyK8EVRncCKv9\n",
      "QmdreMZK12ijcuPiTdMxCg4FoaCnc3d4x8xser9TWeeUcp\n",
      "QmZuCuGPaBiaHkJiKopumoSTw6BjHJn4ek5euCVF9TaXXr\n",
      "Qmd1T3G7qWGH5Q2KS1hC46iD2W6518CkRFQoKvLYgsE5rQ\n",
      "QmdS9y8hU3CZ9rmvuYT7gYFeEyaqucskx5bLS6CEj5gFyK\n",
      "QmZ9xa1ETAHtgeHoqp8kHmg96hqfqG2RF8preiQfGAmn2H\n",
      "QmWnZsJM95dJPAd4mzZqpxUMByRsErdjSW2Y9MNrzUKeiK\n",
      "QmcoN7ZgyZJVHEJ41JgqiqHDHuR769frnkL8kuQEBHXoaQ\n",
      "Qmcnq67NR9mXU6wnzRB4tLntonBc9qH5gj4HkGF4upTpas\n",
      "QmSk9v2RtuZGc6JpAbqvFExNoGvt8fHaBDkn7PTqWs2CPW\n",
      "QmYpAMnx3u9zM9WukG4XUn6pwwm1tQmihU6E6c8xPwjS6v\n",
      "QmR8jrvsPE5hkc4BsQv4ggcZsoMGx11K56LePSzK8EKdCU\n",
      "QmZTEcoJETxHP2AXWxFyAsAx6Xq8ykuvme9YtzxHkFdtUW\n",
      "QmXTHDzi1dBmkkChxZFEST7qXbjrRP7Gk9LQwUsSKegLeX\n",
      "QmSsFQzUG2uxZsW8AF1GAkmQUdujSFejSTknVRERTMraD1\n",
      "QmbEMjb4vUamDdtu8h2Ukg2pvN94bBg9EuLCiR324DszzB\n",
      "Qmczwv2ANWpk4y1Qjnwta65Un11gQT9KLdGHifQgoEWpqf\n",
      "QmTKQpmm6pAFP1UKEqs4aKsfYHp7aFj9Tgb4qfHnoThgPE\n",
      "QmdC27BhNKvTqyvtYbR1XyXx4hN9M1hqNRwKhL4U49KGBt\n",
      "QmdGHMWvtjPzUvSiWQiiaMYFLLWgg9yq3E2HdPbdhMLHrZ\n",
      "QmRNXnfeJytnKomASszJGjrJRU4UWPDp3bppmiDM7CqrHH\n",
      "QmS15AsXAs7TFCTqibnna33AULpaRfFFtUWeCDzKTyMi6s\n",
      "Qmen3Ps2nCXLGYwi1dcGkaVTjtdfTFdp4DdG9cJSQBSZX3\n",
      "QmRhBupfD53yBothJ6EarEiL6ztVjSPSfTHRWEpVE7oq3g\n",
      "QmeHZ1YvczSQZYw6GeGwL5jrjqjwPvzokwBp9dcjJ6UwXX\n",
      "QmVqdjnHFVwsUk4Hp3p6oNoPLbsMV3ERd2bnfLwd2vZJSS\n",
      "QmZw6b956NCfzKrdc63yzCa3scwjkiHtPL92LwJ4adWtnv\n",
      "QmTrwGU99RMqTeeCKy5oW9Le9M2mXHHdNeEWzn7T67watz\n",
      "QmZhSNWAzrDy5KiGSeBsKBXUHW6D4vJnfCuqmdai8LPETd\n",
      "QmZJb2evEjsxtLz92XBuhApWty69fVqUpFHzuVjMjCd3Se\n",
      "QmUC5xa4YaWZBV7fy241svBQ8bHSMksm8kB7avk1WyWv9m\n",
      "QmVaYYojHUCqVhM835eSWtih6CyF1koQpSinPg9Kyw21RN\n"
     ]
    }
   ],
   "source": [
    "x = 0\n",
    "while x <197:\n",
    "    print(olympus_governance_view.iloc[x,1])\n",
    "    proposal_id = olympus_governance_view.iloc[x,1]\n",
    "\n",
    "    vote_tracker = snapshot.Query.votes(\n",
    "    orderBy = 'created',\n",
    "    orderDirection='desc',\n",
    "    first=10000,\n",
    "    where=[\n",
    "      snapshot.Vote.proposal == proposal_id\n",
    "    ]\n",
    "    )\n",
    "    voting_snapshots = sg.query_df([\n",
    "    vote_tracker.id,\n",
    "    vote_tracker.voter,\n",
    "    vote_tracker.created,\n",
    "    vote_tracker.choice\n",
    "])\n",
    "    root_path = '/Users/ianbrillembourg/Downloads/OIPS/'\n",
    "    path = root_path+proposal_id+'autosnap.csv'\n",
    "    voting_snapshots.to_csv(path, index = False)\n",
    "    ##voting_snapshots.to_csv(r'/Users/ianbrillembourg/Downloads/OIPS/Otestsnapshot.csv', index = False)\n",
    "    breakpoint()\n",
    "    x=x+1"
   ],
   "metadata": {
    "collapsed": false,
    "pycharm": {
     "name": "#%%\n"
    }
   }
  },
  {
   "cell_type": "code",
   "execution_count": null,
   "outputs": [],
   "source": [],
   "metadata": {
    "collapsed": false,
    "pycharm": {
     "name": "#%%\n"
    }
   }
  }
 ],
 "metadata": {
  "kernelspec": {
   "display_name": "Python 3",
   "language": "python",
   "name": "python3"
  },
  "language_info": {
   "codemirror_mode": {
    "name": "ipython",
    "version": 2
   },
   "file_extension": ".py",
   "mimetype": "text/x-python",
   "name": "python",
   "nbconvert_exporter": "python",
   "pygments_lexer": "ipython2",
   "version": "2.7.6"
  }
 },
 "nbformat": 4,
 "nbformat_minor": 0
}