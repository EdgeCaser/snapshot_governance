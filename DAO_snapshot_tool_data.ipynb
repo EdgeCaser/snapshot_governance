{
 "cells": [
  {
   "cell_type": "code",
   "execution_count": 111,
   "outputs": [],
   "source": [
    "global file\n",
    "file = input('Selet a folder') ##enter your file path here - the file is in the repo \"summary_stats.csv\".\n",
    "raw_file = file\n",
    "##file"
   ],
   "metadata": {
    "collapsed": false,
    "pycharm": {
     "name": "#%%\n"
    }
   }
  },
  {
   "cell_type": "code",
   "execution_count": 85,
   "outputs": [],
   "source": [
    "from datetime import datetime\n",
    "from datetime import date\n",
    "from subgrounds.subgraph import SyntheticField, FieldPath\n",
    "from subgrounds.subgrounds import Subgrounds\n",
    "import math\n",
    "import pandas as pd\n",
    "import  os as os"
   ],
   "metadata": {
    "collapsed": false,
    "pycharm": {
     "name": "#%%\n"
    }
   }
  },
  {
   "cell_type": "code",
   "execution_count": 86,
   "outputs": [],
   "source": [
    "sg = Subgrounds()\n",
    "snapshot = sg.load_api('https://hub.snapshot.org/graphql')"
   ],
   "metadata": {
    "collapsed": false,
    "pycharm": {
     "name": "#%%\n"
    }
   }
  },
  {
   "cell_type": "code",
   "execution_count": 87,
   "outputs": [],
   "source": [
    "snapshot.Proposal.datetime = SyntheticField(\n",
    "  lambda timestamp: str(datetime.fromtimestamp(timestamp)),\n",
    "  SyntheticField.STRING,\n",
    "  snapshot.Proposal.end,\n",
    ")"
   ],
   "metadata": {
    "collapsed": false,
    "pycharm": {
     "name": "#%%\n"
    }
   }
  },
  {
   "cell_type": "code",
   "execution_count": 88,
   "outputs": [],
   "source": [
    "spacename = input('spacename plz?')\n",
    "proposals = snapshot.Query.proposals(\n",
    "  orderBy='created',\n",
    "  orderDirection='desc',\n",
    "  first=10000,\n",
    "  where=[\n",
    "    snapshot.Proposal.space == spacename, ##'fuse.eth',\n",
    "    snapshot.Proposal.state == 'closed'\n",
    "    ##snapshot.Proposal.title == 'OIP-18: Reward rate framework and reduction',\n",
    "  ]\n",
    ")"
   ],
   "metadata": {
    "collapsed": false,
    "pycharm": {
     "name": "#%%\n"
    }
   }
  },
  {
   "cell_type": "code",
   "execution_count": 89,
   "outputs": [],
   "source": [
    "proposals_snapshots = sg.query_df([\n",
    "    proposals.title,\n",
    "    proposals.id,\n",
    "    proposals.body,\n",
    "    proposals.scores,\n",
    "    proposals.scores_total\n",
    "])"
   ],
   "metadata": {
    "collapsed": false,
    "pycharm": {
     "name": "#%%\n"
    }
   }
  },
  {
   "cell_type": "code",
   "execution_count": 90,
   "outputs": [],
   "source": [
    "proposals_choices = sg.query(proposals.choices)"
   ],
   "metadata": {
    "collapsed": false,
    "pycharm": {
     "name": "#%%\n"
    }
   }
  },
  {
   "cell_type": "code",
   "execution_count": 91,
   "outputs": [],
   "source": [
    "proposals_choices = pd.DataFrame(proposals_choices)\n",
    "##proposals_choices = pd.DataFrame(proposals_choices, columns = ['option_1', 'option_2', 'option_3', 'option_4', 'option_5','option_6','option_7','option_8','option_9','option_10','option_11','option_12','option_13','option_14','option_15','option_16','option_17','option_18','option_19','option_20','option_21','option_22'])"
   ],
   "metadata": {
    "collapsed": false,
    "pycharm": {
     "name": "#%%\n"
    }
   }
  },
  {
   "cell_type": "code",
   "execution_count": 92,
   "outputs": [],
   "source": [
    "olympus_governance_view = pd.concat([proposals_snapshots,proposals_choices], axis=1)"
   ],
   "metadata": {
    "collapsed": false,
    "pycharm": {
     "name": "#%%\n"
    }
   }
  },
  {
   "cell_type": "code",
   "execution_count": 93,
   "outputs": [
    {
     "data": {
      "text/plain": "                                       proposals_title  \\\n0    OIP-94A: Amend Interim Ranged Stability Policy...   \n1    OIP-94A: Amend Interim Ranged Stability Policy...   \n2    OIP-104: Deploy Permissionless OP as Bond Prot...   \n3    OIP-104: Deploy Permissionless OP as Bond Prot...   \n4                           OIP-103 Balancer Migration   \n..                                                 ...   \n460                                      Add DAI Bonds   \n461                                      Add DAI Bonds   \n462                    Open an OHM-ETH Pool on Uniswap   \n463                    Open an OHM-ETH Pool on Uniswap   \n464                    Open an OHM-ETH Pool on Uniswap   \n\n                                          proposals_id  \\\n0    0xe6233a0b159f58a97ba41019bd09cb904bd0120f656d...   \n1    0xe6233a0b159f58a97ba41019bd09cb904bd0120f656d...   \n2    0xcce2dd72fa5bf12ddbe5a15ed23f6256f6cd841ed572...   \n3    0xcce2dd72fa5bf12ddbe5a15ed23f6256f6cd841ed572...   \n4    0xebd05bd5896c472eecceb380b345689fc5afcd295865...   \n..                                                 ...   \n460     QmUC5xa4YaWZBV7fy241svBQ8bHSMksm8kB7avk1WyWv9m   \n461     QmUC5xa4YaWZBV7fy241svBQ8bHSMksm8kB7avk1WyWv9m   \n462     QmVaYYojHUCqVhM835eSWtih6CyF1koQpSinPg9Kyw21RN   \n463     QmVaYYojHUCqVhM835eSWtih6CyF1koQpSinPg9Kyw21RN   \n464     QmVaYYojHUCqVhM835eSWtih6CyF1koQpSinPg9Kyw21RN   \n\n                                        proposals_body  proposals_scores  \\\n0    **Summary:**\\n\\nGrant Policy Authority to:\\nCo...          7.511731   \n1    **Summary:**\\n\\nGrant Policy Authority to:\\nCo...     359883.231566   \n2    #### Summary\\nDeploy the new system of Permiss...     292512.593605   \n3    #### Summary\\nDeploy the new system of Permiss...       3575.951080   \n4    **Summary**\\n\\nDesignate Balancer as the platf...     322598.605158   \n..                                                 ...               ...   \n460  Summary: We can launch bonds using DAI instead...          7.353389   \n461  Summary: We can launch bonds using DAI instead...          0.000000   \n462  Summary:\\nSeveral community members have broug...        177.543607   \n463  Summary:\\nSeveral community members have broug...          0.000000   \n464  Summary:\\nSeveral community members have broug...        165.462663   \n\n     proposals_scores_total                              0  \\\n0             359890.743297               Reject Amendment   \n1             359890.743297      For: Deploy Bond Protocol   \n2             296088.544685    For: In support of proposal   \n3             296088.544685  Approve $50k Grant to Artemis   \n4             322598.605158                           For    \n..                      ...                            ...   \n460            26630.139267                            NaN   \n461            26630.139267                            NaN   \n462            20614.265541                            NaN   \n463            20614.265541                            NaN   \n464            20614.265541                            NaN   \n\n                           1     2     3     4     5     6  \n0          Approve Amendment  None  None  None  None  None  \n1        Against: Do nothing  None  None  None  None  None  \n2    Against: Not in support  None  None  None  None  None  \n3                     Reject  None  None  None  None  None  \n4                    Against  None  None  None  None  None  \n..                       ...   ...   ...   ...   ...   ...  \n460                      NaN   NaN   NaN   NaN   NaN   NaN  \n461                      NaN   NaN   NaN   NaN   NaN   NaN  \n462                      NaN   NaN   NaN   NaN   NaN   NaN  \n463                      NaN   NaN   NaN   NaN   NaN   NaN  \n464                      NaN   NaN   NaN   NaN   NaN   NaN  \n\n[465 rows x 12 columns]",
      "text/html": "<div>\n<style scoped>\n    .dataframe tbody tr th:only-of-type {\n        vertical-align: middle;\n    }\n\n    .dataframe tbody tr th {\n        vertical-align: top;\n    }\n\n    .dataframe thead th {\n        text-align: right;\n    }\n</style>\n<table border=\"1\" class=\"dataframe\">\n  <thead>\n    <tr style=\"text-align: right;\">\n      <th></th>\n      <th>proposals_title</th>\n      <th>proposals_id</th>\n      <th>proposals_body</th>\n      <th>proposals_scores</th>\n      <th>proposals_scores_total</th>\n      <th>0</th>\n      <th>1</th>\n      <th>2</th>\n      <th>3</th>\n      <th>4</th>\n      <th>5</th>\n      <th>6</th>\n    </tr>\n  </thead>\n  <tbody>\n    <tr>\n      <th>0</th>\n      <td>OIP-94A: Amend Interim Ranged Stability Policy...</td>\n      <td>0xe6233a0b159f58a97ba41019bd09cb904bd0120f656d...</td>\n      <td>**Summary:**\\n\\nGrant Policy Authority to:\\nCo...</td>\n      <td>7.511731</td>\n      <td>359890.743297</td>\n      <td>Reject Amendment</td>\n      <td>Approve Amendment</td>\n      <td>None</td>\n      <td>None</td>\n      <td>None</td>\n      <td>None</td>\n      <td>None</td>\n    </tr>\n    <tr>\n      <th>1</th>\n      <td>OIP-94A: Amend Interim Ranged Stability Policy...</td>\n      <td>0xe6233a0b159f58a97ba41019bd09cb904bd0120f656d...</td>\n      <td>**Summary:**\\n\\nGrant Policy Authority to:\\nCo...</td>\n      <td>359883.231566</td>\n      <td>359890.743297</td>\n      <td>For: Deploy Bond Protocol</td>\n      <td>Against: Do nothing</td>\n      <td>None</td>\n      <td>None</td>\n      <td>None</td>\n      <td>None</td>\n      <td>None</td>\n    </tr>\n    <tr>\n      <th>2</th>\n      <td>OIP-104: Deploy Permissionless OP as Bond Prot...</td>\n      <td>0xcce2dd72fa5bf12ddbe5a15ed23f6256f6cd841ed572...</td>\n      <td>#### Summary\\nDeploy the new system of Permiss...</td>\n      <td>292512.593605</td>\n      <td>296088.544685</td>\n      <td>For: In support of proposal</td>\n      <td>Against: Not in support</td>\n      <td>None</td>\n      <td>None</td>\n      <td>None</td>\n      <td>None</td>\n      <td>None</td>\n    </tr>\n    <tr>\n      <th>3</th>\n      <td>OIP-104: Deploy Permissionless OP as Bond Prot...</td>\n      <td>0xcce2dd72fa5bf12ddbe5a15ed23f6256f6cd841ed572...</td>\n      <td>#### Summary\\nDeploy the new system of Permiss...</td>\n      <td>3575.951080</td>\n      <td>296088.544685</td>\n      <td>Approve $50k Grant to Artemis</td>\n      <td>Reject</td>\n      <td>None</td>\n      <td>None</td>\n      <td>None</td>\n      <td>None</td>\n      <td>None</td>\n    </tr>\n    <tr>\n      <th>4</th>\n      <td>OIP-103 Balancer Migration</td>\n      <td>0xebd05bd5896c472eecceb380b345689fc5afcd295865...</td>\n      <td>**Summary**\\n\\nDesignate Balancer as the platf...</td>\n      <td>322598.605158</td>\n      <td>322598.605158</td>\n      <td>For</td>\n      <td>Against</td>\n      <td>None</td>\n      <td>None</td>\n      <td>None</td>\n      <td>None</td>\n      <td>None</td>\n    </tr>\n    <tr>\n      <th>...</th>\n      <td>...</td>\n      <td>...</td>\n      <td>...</td>\n      <td>...</td>\n      <td>...</td>\n      <td>...</td>\n      <td>...</td>\n      <td>...</td>\n      <td>...</td>\n      <td>...</td>\n      <td>...</td>\n      <td>...</td>\n    </tr>\n    <tr>\n      <th>460</th>\n      <td>Add DAI Bonds</td>\n      <td>QmUC5xa4YaWZBV7fy241svBQ8bHSMksm8kB7avk1WyWv9m</td>\n      <td>Summary: We can launch bonds using DAI instead...</td>\n      <td>7.353389</td>\n      <td>26630.139267</td>\n      <td>NaN</td>\n      <td>NaN</td>\n      <td>NaN</td>\n      <td>NaN</td>\n      <td>NaN</td>\n      <td>NaN</td>\n      <td>NaN</td>\n    </tr>\n    <tr>\n      <th>461</th>\n      <td>Add DAI Bonds</td>\n      <td>QmUC5xa4YaWZBV7fy241svBQ8bHSMksm8kB7avk1WyWv9m</td>\n      <td>Summary: We can launch bonds using DAI instead...</td>\n      <td>0.000000</td>\n      <td>26630.139267</td>\n      <td>NaN</td>\n      <td>NaN</td>\n      <td>NaN</td>\n      <td>NaN</td>\n      <td>NaN</td>\n      <td>NaN</td>\n      <td>NaN</td>\n    </tr>\n    <tr>\n      <th>462</th>\n      <td>Open an OHM-ETH Pool on Uniswap</td>\n      <td>QmVaYYojHUCqVhM835eSWtih6CyF1koQpSinPg9Kyw21RN</td>\n      <td>Summary:\\nSeveral community members have broug...</td>\n      <td>177.543607</td>\n      <td>20614.265541</td>\n      <td>NaN</td>\n      <td>NaN</td>\n      <td>NaN</td>\n      <td>NaN</td>\n      <td>NaN</td>\n      <td>NaN</td>\n      <td>NaN</td>\n    </tr>\n    <tr>\n      <th>463</th>\n      <td>Open an OHM-ETH Pool on Uniswap</td>\n      <td>QmVaYYojHUCqVhM835eSWtih6CyF1koQpSinPg9Kyw21RN</td>\n      <td>Summary:\\nSeveral community members have broug...</td>\n      <td>0.000000</td>\n      <td>20614.265541</td>\n      <td>NaN</td>\n      <td>NaN</td>\n      <td>NaN</td>\n      <td>NaN</td>\n      <td>NaN</td>\n      <td>NaN</td>\n      <td>NaN</td>\n    </tr>\n    <tr>\n      <th>464</th>\n      <td>Open an OHM-ETH Pool on Uniswap</td>\n      <td>QmVaYYojHUCqVhM835eSWtih6CyF1koQpSinPg9Kyw21RN</td>\n      <td>Summary:\\nSeveral community members have broug...</td>\n      <td>165.462663</td>\n      <td>20614.265541</td>\n      <td>NaN</td>\n      <td>NaN</td>\n      <td>NaN</td>\n      <td>NaN</td>\n      <td>NaN</td>\n      <td>NaN</td>\n      <td>NaN</td>\n    </tr>\n  </tbody>\n</table>\n<p>465 rows × 12 columns</p>\n</div>"
     },
     "execution_count": 93,
     "metadata": {},
     "output_type": "execute_result"
    }
   ],
   "source": [
    "##let's view the output just to make sure\n",
    "olympus_governance_view"
   ],
   "metadata": {
    "collapsed": false,
    "pycharm": {
     "name": "#%%\n"
    }
   }
  },
  {
   "cell_type": "code",
   "execution_count": 94,
   "outputs": [],
   "source": [
    "path =file+'/'+spacename+'_proposals_table_'+str(date.today().strftime(\"%b-%d-%Y\"))+'_'+str(len(olympus_governance_view))+'_proposals.csv'\n",
    "olympus_governance_view.to_csv(path, index = False)"
   ],
   "metadata": {
    "collapsed": false,
    "pycharm": {
     "name": "#%%\n"
    }
   }
  },
  {
   "cell_type": "code",
   "execution_count": 95,
   "outputs": [
    {
     "data": {
      "text/plain": "465"
     },
     "execution_count": 95,
     "metadata": {},
     "output_type": "execute_result"
    }
   ],
   "source": [
    "total_proposals = len(olympus_governance_view)\n",
    "total_proposals"
   ],
   "metadata": {
    "collapsed": false,
    "pycharm": {
     "name": "#%%\n"
    }
   }
  },
  {
   "cell_type": "code",
   "execution_count": 96,
   "outputs": [],
   "source": [
    "proposal_id = olympus_governance_view.iloc[0,1]"
   ],
   "metadata": {
    "collapsed": false,
    "pycharm": {
     "name": "#%%\n"
    }
   }
  },
  {
   "cell_type": "code",
   "execution_count": 97,
   "outputs": [
    {
     "name": "stdout",
     "output_type": "stream",
     "text": [
      "0xe6233a0b159f58a97ba41019bd09cb904bd0120f656dcaac3c7aa33d862abf72\n"
     ]
    }
   ],
   "source": [
    "print(proposal_id)"
   ],
   "metadata": {
    "collapsed": false,
    "pycharm": {
     "name": "#%%\n"
    }
   }
  },
  {
   "cell_type": "code",
   "execution_count": 98,
   "outputs": [],
   "source": [
    "\n",
    "vote_tracker = snapshot.Query.votes(\n",
    "orderBy = 'created',\n",
    "orderDirection='desc',\n",
    "first=10000,\n",
    "where=[\n",
    "  snapshot.Vote.proposal == proposal_id\n",
    "]\n",
    ")"
   ],
   "metadata": {
    "collapsed": false,
    "pycharm": {
     "name": "#%%\n"
    }
   }
  },
  {
   "cell_type": "code",
   "execution_count": 99,
   "outputs": [],
   "source": [
    "voting_snapshots_list = sg.query_df([\n",
    "    vote_tracker.id,\n",
    "    vote_tracker.voter,\n",
    "    vote_tracker.created,\n",
    "    vote_tracker.choice,\n",
    "    vote_tracker.vp\n",
    "])"
   ],
   "metadata": {
    "collapsed": false,
    "pycharm": {
     "name": "#%%\n"
    }
   }
  },
  {
   "cell_type": "code",
   "execution_count": 100,
   "outputs": [
    {
     "data": {
      "text/plain": "                                              votes_id  \\\n0    bafkreih44a44m4ej2loni54bjgzz2nmbfc2lit324hiqh...   \n1    0x473f04dd52469588cc54a10017482b98ce083ff1eb0d...   \n2    0xbe37fd97164f24b6ee13f4b633ad3ff9413493c5069c...   \n3    0x121f54a30024ec4166d1ac4449a3d8293bf4a85d6753...   \n4    0xbbafaefe287c9ce99473382b0b11356d8e8dbb4f9de7...   \n..                                                 ...   \n112  bafkreieq3vfnro7pspk2m53eg2bacmmmy4ttw5w4hxr5v...   \n113  0xfc5b5b03ea7784ad1245f4f1503768186592bed8160d...   \n114  bafkreicqpuswkucns5vcspnixuwu4hx6dqhxu6ucpx3yp...   \n115  0x812aa20fa9e6144646a93305df9806feebccef2c487b...   \n116  0x784915c2613dcfa2bf410ce8abd6f40bc5c39b3b254c...   \n\n                                    votes_voter  votes_created  votes_choice  \\\n0    0xCc0002972d604DceD87f079306ad6a555C9Fe122     1658759354             2   \n1    0xd8929472A97db29867fE5C6F18922c24F59A7A71     1658757220             2   \n2    0xBDbFdf3e82fC9d2bE1352e252aB1Ce2287fC2122     1658755919             2   \n3    0x903A97385f13597ea34e1952C6B50D303498FceB     1658753952             2   \n4    0x627D5Ed9d7b2EC21a785aB4C560492B3eB65fB3f     1658753659             2   \n..                                          ...            ...           ...   \n112  0x6Fbc794c8FE80ba45B6398c54402dc1E167F1572     1658428102             2   \n113  0x0199bE12d6F574DB4A55b061653BeC89bFF62aF7     1658427939             2   \n114  0x55B58545C37a23Ab68eB380116aaCE5eaF7FF564     1658427862             2   \n115  0xca6aA0576c2ADc79d2c20e6D53c07f590f62932A     1658427581             2   \n116  0x4D4b5acE61414494dbcC4d2c3484D2bf92658A01     1658427532             2   \n\n        votes_vp  \n0     376.437434  \n1    1057.429981  \n2      87.229162  \n3     435.343234  \n4      84.418999  \n..           ...  \n112   317.437320  \n113   323.369849  \n114   340.931001  \n115  8671.132415  \n116   777.477818  \n\n[117 rows x 5 columns]",
      "text/html": "<div>\n<style scoped>\n    .dataframe tbody tr th:only-of-type {\n        vertical-align: middle;\n    }\n\n    .dataframe tbody tr th {\n        vertical-align: top;\n    }\n\n    .dataframe thead th {\n        text-align: right;\n    }\n</style>\n<table border=\"1\" class=\"dataframe\">\n  <thead>\n    <tr style=\"text-align: right;\">\n      <th></th>\n      <th>votes_id</th>\n      <th>votes_voter</th>\n      <th>votes_created</th>\n      <th>votes_choice</th>\n      <th>votes_vp</th>\n    </tr>\n  </thead>\n  <tbody>\n    <tr>\n      <th>0</th>\n      <td>bafkreih44a44m4ej2loni54bjgzz2nmbfc2lit324hiqh...</td>\n      <td>0xCc0002972d604DceD87f079306ad6a555C9Fe122</td>\n      <td>1658759354</td>\n      <td>2</td>\n      <td>376.437434</td>\n    </tr>\n    <tr>\n      <th>1</th>\n      <td>0x473f04dd52469588cc54a10017482b98ce083ff1eb0d...</td>\n      <td>0xd8929472A97db29867fE5C6F18922c24F59A7A71</td>\n      <td>1658757220</td>\n      <td>2</td>\n      <td>1057.429981</td>\n    </tr>\n    <tr>\n      <th>2</th>\n      <td>0xbe37fd97164f24b6ee13f4b633ad3ff9413493c5069c...</td>\n      <td>0xBDbFdf3e82fC9d2bE1352e252aB1Ce2287fC2122</td>\n      <td>1658755919</td>\n      <td>2</td>\n      <td>87.229162</td>\n    </tr>\n    <tr>\n      <th>3</th>\n      <td>0x121f54a30024ec4166d1ac4449a3d8293bf4a85d6753...</td>\n      <td>0x903A97385f13597ea34e1952C6B50D303498FceB</td>\n      <td>1658753952</td>\n      <td>2</td>\n      <td>435.343234</td>\n    </tr>\n    <tr>\n      <th>4</th>\n      <td>0xbbafaefe287c9ce99473382b0b11356d8e8dbb4f9de7...</td>\n      <td>0x627D5Ed9d7b2EC21a785aB4C560492B3eB65fB3f</td>\n      <td>1658753659</td>\n      <td>2</td>\n      <td>84.418999</td>\n    </tr>\n    <tr>\n      <th>...</th>\n      <td>...</td>\n      <td>...</td>\n      <td>...</td>\n      <td>...</td>\n      <td>...</td>\n    </tr>\n    <tr>\n      <th>112</th>\n      <td>bafkreieq3vfnro7pspk2m53eg2bacmmmy4ttw5w4hxr5v...</td>\n      <td>0x6Fbc794c8FE80ba45B6398c54402dc1E167F1572</td>\n      <td>1658428102</td>\n      <td>2</td>\n      <td>317.437320</td>\n    </tr>\n    <tr>\n      <th>113</th>\n      <td>0xfc5b5b03ea7784ad1245f4f1503768186592bed8160d...</td>\n      <td>0x0199bE12d6F574DB4A55b061653BeC89bFF62aF7</td>\n      <td>1658427939</td>\n      <td>2</td>\n      <td>323.369849</td>\n    </tr>\n    <tr>\n      <th>114</th>\n      <td>bafkreicqpuswkucns5vcspnixuwu4hx6dqhxu6ucpx3yp...</td>\n      <td>0x55B58545C37a23Ab68eB380116aaCE5eaF7FF564</td>\n      <td>1658427862</td>\n      <td>2</td>\n      <td>340.931001</td>\n    </tr>\n    <tr>\n      <th>115</th>\n      <td>0x812aa20fa9e6144646a93305df9806feebccef2c487b...</td>\n      <td>0xca6aA0576c2ADc79d2c20e6D53c07f590f62932A</td>\n      <td>1658427581</td>\n      <td>2</td>\n      <td>8671.132415</td>\n    </tr>\n    <tr>\n      <th>116</th>\n      <td>0x784915c2613dcfa2bf410ce8abd6f40bc5c39b3b254c...</td>\n      <td>0x4D4b5acE61414494dbcC4d2c3484D2bf92658A01</td>\n      <td>1658427532</td>\n      <td>2</td>\n      <td>777.477818</td>\n    </tr>\n  </tbody>\n</table>\n<p>117 rows × 5 columns</p>\n</div>"
     },
     "execution_count": 100,
     "metadata": {},
     "output_type": "execute_result"
    }
   ],
   "source": [
    "voting_snapshots_list"
   ],
   "metadata": {
    "collapsed": false,
    "pycharm": {
     "name": "#%%\n"
    }
   }
  },
  {
   "cell_type": "code",
   "execution_count": 101,
   "outputs": [
    {
     "data": {
      "text/plain": "                                              votes_id  \\\n0    bafkreih44a44m4ej2loni54bjgzz2nmbfc2lit324hiqh...   \n1    0x473f04dd52469588cc54a10017482b98ce083ff1eb0d...   \n2    0xbe37fd97164f24b6ee13f4b633ad3ff9413493c5069c...   \n3    0x121f54a30024ec4166d1ac4449a3d8293bf4a85d6753...   \n4    0xbbafaefe287c9ce99473382b0b11356d8e8dbb4f9de7...   \n..                                                 ...   \n112  bafkreieq3vfnro7pspk2m53eg2bacmmmy4ttw5w4hxr5v...   \n113  0xfc5b5b03ea7784ad1245f4f1503768186592bed8160d...   \n114  bafkreicqpuswkucns5vcspnixuwu4hx6dqhxu6ucpx3yp...   \n115  0x812aa20fa9e6144646a93305df9806feebccef2c487b...   \n116  0x784915c2613dcfa2bf410ce8abd6f40bc5c39b3b254c...   \n\n                                    votes_voter  votes_created  votes_choice  \\\n0    0xCc0002972d604DceD87f079306ad6a555C9Fe122     1658759354             2   \n1    0xd8929472A97db29867fE5C6F18922c24F59A7A71     1658757220             2   \n2    0xBDbFdf3e82fC9d2bE1352e252aB1Ce2287fC2122     1658755919             2   \n3    0x903A97385f13597ea34e1952C6B50D303498FceB     1658753952             2   \n4    0x627D5Ed9d7b2EC21a785aB4C560492B3eB65fB3f     1658753659             2   \n..                                          ...            ...           ...   \n112  0x6Fbc794c8FE80ba45B6398c54402dc1E167F1572     1658428102             2   \n113  0x0199bE12d6F574DB4A55b061653BeC89bFF62aF7     1658427939             2   \n114  0x55B58545C37a23Ab68eB380116aaCE5eaF7FF564     1658427862             2   \n115  0xca6aA0576c2ADc79d2c20e6D53c07f590f62932A     1658427581             2   \n116  0x4D4b5acE61414494dbcC4d2c3484D2bf92658A01     1658427532             2   \n\n        votes_vp                                           Proposal  \n0     376.437434  0xe6233a0b159f58a97ba41019bd09cb904bd0120f656d...  \n1    1057.429981  0xe6233a0b159f58a97ba41019bd09cb904bd0120f656d...  \n2      87.229162  0xe6233a0b159f58a97ba41019bd09cb904bd0120f656d...  \n3     435.343234  0xe6233a0b159f58a97ba41019bd09cb904bd0120f656d...  \n4      84.418999  0xe6233a0b159f58a97ba41019bd09cb904bd0120f656d...  \n..           ...                                                ...  \n112   317.437320  0xe6233a0b159f58a97ba41019bd09cb904bd0120f656d...  \n113   323.369849  0xe6233a0b159f58a97ba41019bd09cb904bd0120f656d...  \n114   340.931001  0xe6233a0b159f58a97ba41019bd09cb904bd0120f656d...  \n115  8671.132415  0xe6233a0b159f58a97ba41019bd09cb904bd0120f656d...  \n116   777.477818  0xe6233a0b159f58a97ba41019bd09cb904bd0120f656d...  \n\n[117 rows x 6 columns]",
      "text/html": "<div>\n<style scoped>\n    .dataframe tbody tr th:only-of-type {\n        vertical-align: middle;\n    }\n\n    .dataframe tbody tr th {\n        vertical-align: top;\n    }\n\n    .dataframe thead th {\n        text-align: right;\n    }\n</style>\n<table border=\"1\" class=\"dataframe\">\n  <thead>\n    <tr style=\"text-align: right;\">\n      <th></th>\n      <th>votes_id</th>\n      <th>votes_voter</th>\n      <th>votes_created</th>\n      <th>votes_choice</th>\n      <th>votes_vp</th>\n      <th>Proposal</th>\n    </tr>\n  </thead>\n  <tbody>\n    <tr>\n      <th>0</th>\n      <td>bafkreih44a44m4ej2loni54bjgzz2nmbfc2lit324hiqh...</td>\n      <td>0xCc0002972d604DceD87f079306ad6a555C9Fe122</td>\n      <td>1658759354</td>\n      <td>2</td>\n      <td>376.437434</td>\n      <td>0xe6233a0b159f58a97ba41019bd09cb904bd0120f656d...</td>\n    </tr>\n    <tr>\n      <th>1</th>\n      <td>0x473f04dd52469588cc54a10017482b98ce083ff1eb0d...</td>\n      <td>0xd8929472A97db29867fE5C6F18922c24F59A7A71</td>\n      <td>1658757220</td>\n      <td>2</td>\n      <td>1057.429981</td>\n      <td>0xe6233a0b159f58a97ba41019bd09cb904bd0120f656d...</td>\n    </tr>\n    <tr>\n      <th>2</th>\n      <td>0xbe37fd97164f24b6ee13f4b633ad3ff9413493c5069c...</td>\n      <td>0xBDbFdf3e82fC9d2bE1352e252aB1Ce2287fC2122</td>\n      <td>1658755919</td>\n      <td>2</td>\n      <td>87.229162</td>\n      <td>0xe6233a0b159f58a97ba41019bd09cb904bd0120f656d...</td>\n    </tr>\n    <tr>\n      <th>3</th>\n      <td>0x121f54a30024ec4166d1ac4449a3d8293bf4a85d6753...</td>\n      <td>0x903A97385f13597ea34e1952C6B50D303498FceB</td>\n      <td>1658753952</td>\n      <td>2</td>\n      <td>435.343234</td>\n      <td>0xe6233a0b159f58a97ba41019bd09cb904bd0120f656d...</td>\n    </tr>\n    <tr>\n      <th>4</th>\n      <td>0xbbafaefe287c9ce99473382b0b11356d8e8dbb4f9de7...</td>\n      <td>0x627D5Ed9d7b2EC21a785aB4C560492B3eB65fB3f</td>\n      <td>1658753659</td>\n      <td>2</td>\n      <td>84.418999</td>\n      <td>0xe6233a0b159f58a97ba41019bd09cb904bd0120f656d...</td>\n    </tr>\n    <tr>\n      <th>...</th>\n      <td>...</td>\n      <td>...</td>\n      <td>...</td>\n      <td>...</td>\n      <td>...</td>\n      <td>...</td>\n    </tr>\n    <tr>\n      <th>112</th>\n      <td>bafkreieq3vfnro7pspk2m53eg2bacmmmy4ttw5w4hxr5v...</td>\n      <td>0x6Fbc794c8FE80ba45B6398c54402dc1E167F1572</td>\n      <td>1658428102</td>\n      <td>2</td>\n      <td>317.437320</td>\n      <td>0xe6233a0b159f58a97ba41019bd09cb904bd0120f656d...</td>\n    </tr>\n    <tr>\n      <th>113</th>\n      <td>0xfc5b5b03ea7784ad1245f4f1503768186592bed8160d...</td>\n      <td>0x0199bE12d6F574DB4A55b061653BeC89bFF62aF7</td>\n      <td>1658427939</td>\n      <td>2</td>\n      <td>323.369849</td>\n      <td>0xe6233a0b159f58a97ba41019bd09cb904bd0120f656d...</td>\n    </tr>\n    <tr>\n      <th>114</th>\n      <td>bafkreicqpuswkucns5vcspnixuwu4hx6dqhxu6ucpx3yp...</td>\n      <td>0x55B58545C37a23Ab68eB380116aaCE5eaF7FF564</td>\n      <td>1658427862</td>\n      <td>2</td>\n      <td>340.931001</td>\n      <td>0xe6233a0b159f58a97ba41019bd09cb904bd0120f656d...</td>\n    </tr>\n    <tr>\n      <th>115</th>\n      <td>0x812aa20fa9e6144646a93305df9806feebccef2c487b...</td>\n      <td>0xca6aA0576c2ADc79d2c20e6D53c07f590f62932A</td>\n      <td>1658427581</td>\n      <td>2</td>\n      <td>8671.132415</td>\n      <td>0xe6233a0b159f58a97ba41019bd09cb904bd0120f656d...</td>\n    </tr>\n    <tr>\n      <th>116</th>\n      <td>0x784915c2613dcfa2bf410ce8abd6f40bc5c39b3b254c...</td>\n      <td>0x4D4b5acE61414494dbcC4d2c3484D2bf92658A01</td>\n      <td>1658427532</td>\n      <td>2</td>\n      <td>777.477818</td>\n      <td>0xe6233a0b159f58a97ba41019bd09cb904bd0120f656d...</td>\n    </tr>\n  </tbody>\n</table>\n<p>117 rows × 6 columns</p>\n</div>"
     },
     "execution_count": 101,
     "metadata": {},
     "output_type": "execute_result"
    }
   ],
   "source": [
    "voting_snapshots_list['Proposal'] = proposal_id\n",
    "voting_snapshots_list"
   ],
   "metadata": {
    "collapsed": false,
    "pycharm": {
     "name": "#%%\n"
    }
   }
  },
  {
   "cell_type": "code",
   "execution_count": 102,
   "outputs": [
    {
     "name": "stdout",
     "output_type": "stream",
     "text": [
      "Progress 0.22 %\n",
      "Progress 0.43 %\n",
      "Progress 0.65 %\n",
      "Progress 0.86 %\n",
      "Progress 1.08 %\n",
      "Progress 1.29 %\n",
      "Progress 1.51 %\n",
      "Progress 1.72 %\n",
      "Progress 1.94 %\n",
      "Progress 2.15 %\n",
      "Progress 2.37 %\n",
      "Progress 2.58 %\n",
      "Progress 2.8000000000000003 %\n",
      "Progress 3.01 %\n",
      "Progress 3.2300000000000004 %\n",
      "Progress 3.44 %\n",
      "Progress 3.66 %\n",
      "Progress 3.8699999999999997 %\n",
      "Progress 4.09 %\n",
      "Progress 4.3 %\n",
      "Progress 4.52 %\n",
      "Progress 4.73 %\n",
      "Progress 4.95 %\n",
      "Progress 5.16 %\n",
      "Progress 5.38 %\n",
      "Progress 5.59 %\n",
      "Progress 5.81 %\n",
      "Progress 6.02 %\n",
      "Progress 6.239999999999999 %\n",
      "Progress 6.45 %\n",
      "Progress 6.67 %\n",
      "Progress 6.88 %\n",
      "Progress 7.1 %\n",
      "Progress 7.31 %\n",
      "Progress 7.53 %\n",
      "Progress 7.739999999999999 %\n",
      "Progress 7.960000000000001 %\n",
      "Progress 8.17 %\n",
      "Progress 8.39 %\n",
      "Progress 8.6 %\n",
      "Progress 8.82 %\n",
      "Progress 9.030000000000001 %\n",
      "Progress 9.25 %\n",
      "Progress 9.46 %\n",
      "Progress 9.68 %\n",
      "Progress 9.89 %\n",
      "Progress 10.11 %\n",
      "Progress 10.32 %\n",
      "Progress 10.54 %\n",
      "Progress 10.75 %\n",
      "Progress 10.97 %\n",
      "Progress 11.18 %\n",
      "Progress 11.4 %\n",
      "Progress 11.61 %\n",
      "Progress 11.83 %\n",
      "Progress 12.04 %\n",
      "Progress 12.26 %\n",
      "Progress 12.47 %\n",
      "Progress 12.690000000000001 %\n",
      "Progress 12.9 %\n",
      "Progress 13.120000000000001 %\n",
      "Progress 13.33 %\n",
      "Progress 13.55 %\n",
      "Progress 13.76 %\n",
      "Progress 13.98 %\n",
      "Progress 14.19 %\n",
      "Progress 14.41 %\n",
      "Progress 14.62 %\n",
      "Progress 14.84 %\n",
      "Progress 15.049999999999999 %\n",
      "Progress 15.27 %\n",
      "Progress 15.479999999999999 %\n",
      "Progress 15.7 %\n",
      "Progress 15.909999999999998 %\n",
      "Progress 16.13 %\n",
      "Progress 16.34 %\n",
      "Progress 16.56 %\n",
      "Progress 16.77 %\n",
      "Progress 16.99 %\n",
      "Progress 17.2 %\n",
      "Progress 17.419999999999998 %\n",
      "Progress 17.630000000000003 %\n",
      "Progress 17.849999999999998 %\n",
      "Progress 18.060000000000002 %\n",
      "Progress 18.279999999999998 %\n",
      "Progress 18.490000000000002 %\n",
      "Progress 18.709999999999997 %\n",
      "Progress 18.92 %\n",
      "Progress 19.139999999999997 %\n",
      "Progress 19.35 %\n",
      "Progress 19.57 %\n",
      "Progress 19.78 %\n",
      "Progress 20.0 %\n",
      "Progress 20.22 %\n",
      "Progress 20.43 %\n",
      "Progress 20.65 %\n",
      "Progress 20.86 %\n",
      "Progress 21.08 %\n",
      "Progress 21.29 %\n",
      "Progress 21.51 %\n",
      "Progress 21.72 %\n",
      "Progress 21.94 %\n",
      "Progress 22.15 %\n",
      "Progress 22.37 %\n",
      "Progress 22.58 %\n",
      "Progress 22.8 %\n",
      "Progress 23.01 %\n",
      "Progress 23.23 %\n",
      "Progress 23.44 %\n",
      "Progress 23.66 %\n",
      "Progress 23.87 %\n",
      "Progress 24.09 %\n",
      "Progress 24.3 %\n",
      "Progress 24.52 %\n",
      "Progress 24.73 %\n",
      "Progress 24.95 %\n",
      "Progress 25.16 %\n",
      "Progress 25.380000000000003 %\n",
      "Progress 25.590000000000003 %\n",
      "Progress 25.81 %\n",
      "Progress 26.02 %\n",
      "Progress 26.240000000000002 %\n",
      "Progress 26.450000000000003 %\n",
      "Progress 26.669999999999998 %\n",
      "Progress 26.88 %\n",
      "Progress 27.1 %\n",
      "Progress 27.310000000000002 %\n",
      "Progress 27.529999999999998 %\n",
      "Progress 27.74 %\n",
      "Progress 27.96 %\n",
      "Progress 28.17 %\n",
      "Progress 28.389999999999997 %\n",
      "Progress 28.599999999999998 %\n",
      "Progress 28.82 %\n",
      "Progress 29.03 %\n",
      "Progress 29.25 %\n",
      "Progress 29.459999999999997 %\n",
      "Progress 29.68 %\n",
      "Progress 29.89 %\n",
      "Progress 30.11 %\n",
      "Progress 30.320000000000004 %\n",
      "Progress 30.54 %\n",
      "Progress 30.75 %\n",
      "Progress 30.97 %\n",
      "Progress 31.180000000000003 %\n",
      "Progress 31.4 %\n",
      "Progress 31.61 %\n",
      "Progress 31.830000000000002 %\n",
      "Progress 32.04 %\n",
      "Progress 32.26 %\n",
      "Progress 32.47 %\n",
      "Progress 32.690000000000005 %\n",
      "Progress 32.9 %\n",
      "Progress 33.12 %\n",
      "Progress 33.33 %\n",
      "Progress 33.550000000000004 %\n",
      "Progress 33.76 %\n",
      "Progress 33.98 %\n",
      "Progress 34.19 %\n",
      "Progress 34.410000000000004 %\n",
      "Progress 34.62 %\n",
      "Progress 34.839999999999996 %\n",
      "Progress 35.05 %\n",
      "Progress 35.27 %\n",
      "Progress 35.480000000000004 %\n",
      "Progress 35.699999999999996 %\n",
      "Progress 35.91 %\n",
      "Progress 36.13 %\n",
      "Progress 36.34 %\n",
      "Progress 36.559999999999995 %\n",
      "Progress 36.77 %\n",
      "Progress 36.99 %\n",
      "Progress 37.2 %\n",
      "Progress 37.419999999999995 %\n",
      "Progress 37.63 %\n",
      "Progress 37.85 %\n",
      "Progress 38.06 %\n",
      "Progress 38.279999999999994 %\n",
      "Progress 38.49 %\n",
      "Progress 38.71 %\n",
      "Progress 38.92 %\n",
      "Progress 39.14 %\n",
      "Progress 39.35 %\n",
      "Progress 39.57 %\n",
      "Progress 39.78 %\n",
      "Progress 40.0 %\n",
      "Progress 40.22 %\n",
      "Progress 40.43 %\n",
      "Progress 40.65 %\n",
      "Progress 40.86 %\n",
      "Progress 41.08 %\n",
      "Progress 41.29 %\n",
      "Progress 41.510000000000005 %\n",
      "Progress 41.72 %\n",
      "Progress 41.94 %\n",
      "Progress 42.15 %\n",
      "Progress 42.370000000000005 %\n",
      "Progress 42.58 %\n",
      "Progress 42.8 %\n",
      "Progress 43.01 %\n",
      "Progress 43.230000000000004 %\n",
      "Progress 43.44 %\n",
      "Progress 43.66 %\n",
      "Progress 43.87 %\n",
      "Progress 44.09 %\n",
      "Progress 44.3 %\n",
      "Progress 44.519999999999996 %\n",
      "Progress 44.73 %\n",
      "Progress 44.95 %\n",
      "Progress 45.16 %\n",
      "Progress 45.379999999999995 %\n",
      "Progress 45.59 %\n",
      "Progress 45.81 %\n",
      "Progress 46.02 %\n",
      "Progress 46.239999999999995 %\n",
      "Progress 46.45 %\n",
      "Progress 46.67 %\n",
      "Progress 46.88 %\n",
      "Progress 47.099999999999994 %\n",
      "Progress 47.31 %\n",
      "Progress 47.53 %\n",
      "Progress 47.74 %\n",
      "Progress 47.96 %\n",
      "Progress 48.17 %\n",
      "Progress 48.39 %\n",
      "Progress 48.6 %\n",
      "Progress 48.82 %\n",
      "Progress 49.03 %\n",
      "Progress 49.25 %\n",
      "Progress 49.46 %\n",
      "Progress 49.68 %\n",
      "Progress 49.89 %\n",
      "Progress 50.11 %\n",
      "Progress 50.32 %\n",
      "Progress 50.54 %\n",
      "Progress 50.74999999999999 %\n",
      "Progress 50.970000000000006 %\n",
      "Progress 51.18000000000001 %\n",
      "Progress 51.4 %\n",
      "Progress 51.61 %\n",
      "Progress 51.83 %\n",
      "Progress 52.04 %\n",
      "Progress 52.26 %\n",
      "Progress 52.470000000000006 %\n",
      "Progress 52.690000000000005 %\n",
      "Progress 52.900000000000006 %\n",
      "Progress 53.12 %\n",
      "Progress 53.33 %\n",
      "Progress 53.55 %\n",
      "Progress 53.76 %\n",
      "Progress 53.98 %\n",
      "Progress 54.190000000000005 %\n",
      "Progress 54.410000000000004 %\n",
      "Progress 54.620000000000005 %\n",
      "Progress 54.84 %\n",
      "Progress 55.05 %\n",
      "Progress 55.269999999999996 %\n",
      "Progress 55.48 %\n",
      "Progress 55.7 %\n",
      "Progress 55.910000000000004 %\n",
      "Progress 56.13 %\n",
      "Progress 56.34 %\n",
      "Progress 56.56 %\n",
      "Progress 56.769999999999996 %\n",
      "Progress 56.989999999999995 %\n",
      "Progress 57.199999999999996 %\n",
      "Progress 57.42 %\n",
      "Progress 57.63 %\n",
      "Progress 57.85 %\n",
      "Progress 58.06 %\n",
      "Progress 58.28 %\n",
      "Progress 58.489999999999995 %\n",
      "Progress 58.709999999999994 %\n",
      "Progress 58.919999999999995 %\n",
      "Progress 59.14 %\n",
      "Progress 59.35 %\n",
      "Progress 59.57 %\n",
      "Progress 59.78 %\n",
      "Progress 60.0 %\n",
      "Progress 60.22 %\n",
      "Progress 60.42999999999999 %\n",
      "Progress 60.650000000000006 %\n",
      "Progress 60.86 %\n",
      "Progress 61.08 %\n",
      "Progress 61.29 %\n",
      "Progress 61.51 %\n",
      "Progress 61.72 %\n",
      "Progress 61.94 %\n",
      "Progress 62.150000000000006 %\n",
      "Progress 62.370000000000005 %\n",
      "Progress 62.580000000000005 %\n",
      "Progress 62.8 %\n",
      "Progress 63.01 %\n",
      "Progress 63.23 %\n",
      "Progress 63.44 %\n",
      "Progress 63.660000000000004 %\n",
      "Progress 63.870000000000005 %\n",
      "Progress 64.09 %\n",
      "Progress 64.3 %\n",
      "Progress 64.52 %\n",
      "Progress 64.73 %\n",
      "Progress 64.95 %\n",
      "Progress 65.16 %\n",
      "Progress 65.38000000000001 %\n",
      "Progress 65.59 %\n",
      "Progress 65.81 %\n",
      "Progress 66.02 %\n",
      "Progress 66.24 %\n",
      "Progress 66.45 %\n",
      "Progress 66.67 %\n",
      "Progress 66.88 %\n",
      "Progress 67.10000000000001 %\n",
      "Progress 67.31 %\n",
      "Progress 67.53 %\n",
      "Progress 67.74 %\n",
      "Progress 67.96 %\n",
      "Progress 68.17 %\n",
      "Progress 68.39 %\n",
      "Progress 68.60000000000001 %\n",
      "Progress 68.82000000000001 %\n",
      "Progress 69.03 %\n",
      "Progress 69.25 %\n",
      "Progress 69.46 %\n",
      "Progress 69.67999999999999 %\n",
      "Progress 69.89 %\n",
      "Progress 70.11 %\n",
      "Progress 70.32000000000001 %\n",
      "Progress 70.54 %\n",
      "Progress 70.75 %\n",
      "Progress 70.97 %\n",
      "Progress 71.17999999999999 %\n",
      "Progress 71.39999999999999 %\n",
      "Progress 71.61 %\n",
      "Progress 71.83 %\n",
      "Progress 72.04 %\n",
      "Progress 72.26 %\n",
      "Progress 72.47 %\n",
      "Progress 72.69 %\n",
      "Progress 72.89999999999999 %\n",
      "Progress 73.11999999999999 %\n",
      "Progress 73.33 %\n",
      "Progress 73.55000000000001 %\n",
      "Progress 73.76 %\n",
      "Progress 73.98 %\n",
      "Progress 74.19 %\n",
      "Progress 74.41 %\n",
      "Progress 74.62 %\n",
      "Progress 74.83999999999999 %\n",
      "Progress 75.05 %\n",
      "Progress 75.27000000000001 %\n",
      "Progress 75.48 %\n",
      "Progress 75.7 %\n",
      "Progress 75.91 %\n",
      "Progress 76.13 %\n",
      "Progress 76.34 %\n",
      "Progress 76.55999999999999 %\n",
      "Progress 76.77000000000001 %\n",
      "Progress 76.99000000000001 %\n",
      "Progress 77.2 %\n",
      "Progress 77.42 %\n",
      "Progress 77.63 %\n",
      "Progress 77.85 %\n",
      "Progress 78.06 %\n",
      "Progress 78.28 %\n",
      "Progress 78.49000000000001 %\n",
      "Progress 78.71000000000001 %\n",
      "Progress 78.92 %\n",
      "Progress 79.14 %\n",
      "Progress 79.35 %\n",
      "Progress 79.57 %\n",
      "Progress 79.78 %\n",
      "Progress 80.0 %\n",
      "Progress 80.22 %\n",
      "Progress 80.43 %\n",
      "Progress 80.65 %\n",
      "Progress 80.86 %\n",
      "Progress 81.08 %\n",
      "Progress 81.28999999999999 %\n",
      "Progress 81.51 %\n",
      "Progress 81.72 %\n",
      "Progress 81.94 %\n",
      "Progress 82.15 %\n",
      "Progress 82.37 %\n",
      "Progress 82.58 %\n",
      "Progress 82.8 %\n",
      "Progress 83.00999999999999 %\n",
      "Progress 83.23 %\n",
      "Progress 83.44 %\n",
      "Progress 83.66 %\n",
      "Progress 83.87 %\n",
      "Progress 84.09 %\n",
      "Progress 84.3 %\n",
      "Progress 84.52 %\n",
      "Progress 84.73 %\n",
      "Progress 84.95 %\n",
      "Progress 85.16 %\n",
      "Progress 85.38 %\n",
      "Progress 85.59 %\n",
      "Progress 85.81 %\n",
      "Progress 86.02 %\n",
      "Progress 86.24000000000001 %\n",
      "Progress 86.45 %\n",
      "Progress 86.67 %\n",
      "Progress 86.88 %\n",
      "Progress 87.1 %\n",
      "Progress 87.31 %\n",
      "Progress 87.53 %\n",
      "Progress 87.74 %\n",
      "Progress 87.96000000000001 %\n",
      "Progress 88.17 %\n",
      "Progress 88.39 %\n",
      "Progress 88.6 %\n",
      "Progress 88.82 %\n",
      "Progress 89.03 %\n",
      "Progress 89.25 %\n",
      "Progress 89.46 %\n",
      "Progress 89.68 %\n",
      "Progress 89.89 %\n",
      "Progress 90.11 %\n",
      "Progress 90.32 %\n",
      "Progress 90.53999999999999 %\n",
      "Progress 90.75 %\n",
      "Progress 90.97 %\n",
      "Progress 91.18 %\n",
      "Progress 91.4 %\n",
      "Progress 91.61 %\n",
      "Progress 91.83 %\n",
      "Progress 92.04 %\n",
      "Progress 92.25999999999999 %\n",
      "Progress 92.47 %\n",
      "Progress 92.69 %\n",
      "Progress 92.9 %\n",
      "Progress 93.12 %\n",
      "Progress 93.33 %\n",
      "Progress 93.55 %\n",
      "Progress 93.76 %\n",
      "Progress 93.97999999999999 %\n",
      "Progress 94.19 %\n",
      "Progress 94.41000000000001 %\n",
      "Progress 94.62 %\n",
      "Progress 94.84 %\n",
      "Progress 95.05 %\n",
      "Progress 95.27 %\n",
      "Progress 95.48 %\n",
      "Progress 95.7 %\n",
      "Progress 95.91 %\n",
      "Progress 96.13000000000001 %\n",
      "Progress 96.34 %\n",
      "Progress 96.56 %\n",
      "Progress 96.77 %\n",
      "Progress 96.99 %\n",
      "Progress 97.2 %\n",
      "Progress 97.42 %\n",
      "Progress 97.63 %\n",
      "Progress 97.85000000000001 %\n",
      "Progress 98.06 %\n",
      "Progress 98.28 %\n",
      "Progress 98.49 %\n",
      "Progress 98.71 %\n",
      "Progress 98.92 %\n",
      "Progress 99.14 %\n",
      "Progress 99.35000000000001 %\n",
      "Progress 99.57000000000001 %\n",
      "Progress 99.78 %\n",
      "Progress 100.0 %\n"
     ]
    }
   ],
   "source": [
    "x=0\n",
    "while x <total_proposals:\n",
    "##print(olympus_governance_view.iloc[2,1])\n",
    "    proposal_id = olympus_governance_view.iloc[x,1]\n",
    "\n",
    "    vote_tracker = snapshot.Query.votes(\n",
    "    orderBy = 'created',\n",
    "    orderDirection='desc',\n",
    "    first=10000,\n",
    "    where=[\n",
    "      snapshot.Vote.proposal == proposal_id\n",
    "    ]\n",
    "    )\n",
    "    voting_snapshots = sg.query_df([\n",
    "    vote_tracker.id,\n",
    "    vote_tracker.voter,\n",
    "    vote_tracker.created,\n",
    "    vote_tracker.choice,\n",
    "    vote_tracker.vp\n",
    "    ])\n",
    "\n",
    "    voting_snapshots['Proposal'] = proposal_id\n",
    "    voting_snapshots_list=pd.concat([voting_snapshots_list, voting_snapshots])\n",
    "    ##voting_snapshots['Proposal'] = proposal_id\n",
    "\n",
    "#    pd.concat([voting_snapshots_list, voting_snapshots])\n",
    "    x=x+1\n",
    "    progress = 100*(round(x/total_proposals,4))\n",
    "    ##clear_output(wait=True)\n",
    "    if progress%10==0\n",
    "        print(\"Progress\",progress,\"%\")"
   ],
   "metadata": {
    "collapsed": false,
    "pycharm": {
     "name": "#%%\n"
    }
   }
  },
  {
   "cell_type": "code",
   "execution_count": 103,
   "outputs": [
    {
     "data": {
      "text/plain": "102478"
     },
     "execution_count": 103,
     "metadata": {},
     "output_type": "execute_result"
    }
   ],
   "source": [
    "len(voting_snapshots_list)"
   ],
   "metadata": {
    "collapsed": false,
    "pycharm": {
     "name": "#%%\n"
    }
   }
  },
  {
   "cell_type": "code",
   "execution_count": 104,
   "outputs": [],
   "source": [
    "path =file+'/'+spacename+'_voting_snapshots_list_'+str(date.today().strftime(\"%b-%d-%Y\"))+'_'+str(len(olympus_governance_view))+'.csv'\n",
    "voting_snapshots_list.to_csv(path, index = False)"
   ],
   "metadata": {
    "collapsed": false,
    "pycharm": {
     "name": "#%%\n"
    }
   }
  },
  {
   "cell_type": "code",
   "execution_count": 105,
   "outputs": [
    {
     "data": {
      "text/plain": "                                                 votes_id  \\\n0       bafkreih44a44m4ej2loni54bjgzz2nmbfc2lit324hiqh...   \n1       bafkreih44a44m4ej2loni54bjgzz2nmbfc2lit324hiqh...   \n2       0x473f04dd52469588cc54a10017482b98ce083ff1eb0d...   \n3       0x473f04dd52469588cc54a10017482b98ce083ff1eb0d...   \n4       0xbe37fd97164f24b6ee13f4b633ad3ff9413493c5069c...   \n...                                                   ...   \n242780     QmXPL7fViDQBjbg4EikDftXtTwht1sSUYVtHcgrzU3WrUy   \n242781     QmXPL7fViDQBjbg4EikDftXtTwht1sSUYVtHcgrzU3WrUy   \n242782     QmYwVd9zd2AzAYSBncxeWYnePQQNGTPJiKjywXdKoFpJvv   \n242783     QmYwVd9zd2AzAYSBncxeWYnePQQNGTPJiKjywXdKoFpJvv   \n242784     QmYwVd9zd2AzAYSBncxeWYnePQQNGTPJiKjywXdKoFpJvv   \n\n                                       votes_voter  votes_created  \\\n0       0xCc0002972d604DceD87f079306ad6a555C9Fe122   1.658759e+09   \n1       0xCc0002972d604DceD87f079306ad6a555C9Fe122   1.658759e+09   \n2       0xd8929472A97db29867fE5C6F18922c24F59A7A71   1.658757e+09   \n3       0xd8929472A97db29867fE5C6F18922c24F59A7A71   1.658757e+09   \n4       0xBDbFdf3e82fC9d2bE1352e252aB1Ce2287fC2122   1.658756e+09   \n...                                            ...            ...   \n242780  0x3942Ae3782FbD658CC19A8Db602D937baF7CB57A   1.617555e+09   \n242781  0x3942Ae3782FbD658CC19A8Db602D937baF7CB57A   1.617555e+09   \n242782  0x45ADFF324Eb1ac03a6A115dc539052232D4bA980   1.617554e+09   \n242783  0x45ADFF324Eb1ac03a6A115dc539052232D4bA980   1.617554e+09   \n242784  0x45ADFF324Eb1ac03a6A115dc539052232D4bA980   1.617554e+09   \n\n       votes_choice     votes_vp  \\\n0                 2   376.437434   \n1                 2   376.437434   \n2                 2  1057.429981   \n3                 2  1057.429981   \n4                 2    87.229162   \n...             ...          ...   \n242780     {'1': 1}    94.118185   \n242781     {'1': 1}    94.118185   \n242782     {'1': 1}     0.842478   \n242783     {'1': 1}     0.842478   \n242784     {'1': 1}     0.842478   \n\n                                                 Proposal  \\\n0       0xe6233a0b159f58a97ba41019bd09cb904bd0120f656d...   \n1       0xe6233a0b159f58a97ba41019bd09cb904bd0120f656d...   \n2       0xe6233a0b159f58a97ba41019bd09cb904bd0120f656d...   \n3       0xe6233a0b159f58a97ba41019bd09cb904bd0120f656d...   \n4       0xe6233a0b159f58a97ba41019bd09cb904bd0120f656d...   \n...                                                   ...   \n242780     QmVaYYojHUCqVhM835eSWtih6CyF1koQpSinPg9Kyw21RN   \n242781     QmVaYYojHUCqVhM835eSWtih6CyF1koQpSinPg9Kyw21RN   \n242782     QmVaYYojHUCqVhM835eSWtih6CyF1koQpSinPg9Kyw21RN   \n242783     QmVaYYojHUCqVhM835eSWtih6CyF1koQpSinPg9Kyw21RN   \n242784     QmVaYYojHUCqVhM835eSWtih6CyF1koQpSinPg9Kyw21RN   \n\n                                          proposals_title  \\\n0       OIP-94A: Amend Interim Ranged Stability Policy...   \n1       OIP-94A: Amend Interim Ranged Stability Policy...   \n2       OIP-94A: Amend Interim Ranged Stability Policy...   \n3       OIP-94A: Amend Interim Ranged Stability Policy...   \n4       OIP-94A: Amend Interim Ranged Stability Policy...   \n...                                                   ...   \n242780                    Open an OHM-ETH Pool on Uniswap   \n242781                    Open an OHM-ETH Pool on Uniswap   \n242782                    Open an OHM-ETH Pool on Uniswap   \n242783                    Open an OHM-ETH Pool on Uniswap   \n242784                    Open an OHM-ETH Pool on Uniswap   \n\n                                             proposals_id  \\\n0       0xe6233a0b159f58a97ba41019bd09cb904bd0120f656d...   \n1       0xe6233a0b159f58a97ba41019bd09cb904bd0120f656d...   \n2       0xe6233a0b159f58a97ba41019bd09cb904bd0120f656d...   \n3       0xe6233a0b159f58a97ba41019bd09cb904bd0120f656d...   \n4       0xe6233a0b159f58a97ba41019bd09cb904bd0120f656d...   \n...                                                   ...   \n242780     QmVaYYojHUCqVhM835eSWtih6CyF1koQpSinPg9Kyw21RN   \n242781     QmVaYYojHUCqVhM835eSWtih6CyF1koQpSinPg9Kyw21RN   \n242782     QmVaYYojHUCqVhM835eSWtih6CyF1koQpSinPg9Kyw21RN   \n242783     QmVaYYojHUCqVhM835eSWtih6CyF1koQpSinPg9Kyw21RN   \n242784     QmVaYYojHUCqVhM835eSWtih6CyF1koQpSinPg9Kyw21RN   \n\n                                           proposals_body  proposals_scores  \\\n0       **Summary:**\\n\\nGrant Policy Authority to:\\nCo...          7.511731   \n1       **Summary:**\\n\\nGrant Policy Authority to:\\nCo...     359883.231566   \n2       **Summary:**\\n\\nGrant Policy Authority to:\\nCo...          7.511731   \n3       **Summary:**\\n\\nGrant Policy Authority to:\\nCo...     359883.231566   \n4       **Summary:**\\n\\nGrant Policy Authority to:\\nCo...          7.511731   \n...                                                   ...               ...   \n242780  Summary:\\nSeveral community members have broug...          0.000000   \n242781  Summary:\\nSeveral community members have broug...        165.462663   \n242782  Summary:\\nSeveral community members have broug...        177.543607   \n242783  Summary:\\nSeveral community members have broug...          0.000000   \n242784  Summary:\\nSeveral community members have broug...        165.462663   \n\n        proposals_scores_total                          0  \\\n0                359890.743297           Reject Amendment   \n1                359890.743297  For: Deploy Bond Protocol   \n2                359890.743297           Reject Amendment   \n3                359890.743297  For: Deploy Bond Protocol   \n4                359890.743297           Reject Amendment   \n...                        ...                        ...   \n242780            20614.265541                        NaN   \n242781            20614.265541                        NaN   \n242782            20614.265541                        NaN   \n242783            20614.265541                        NaN   \n242784            20614.265541                        NaN   \n\n                          1     2     3     4     5     6  \n0         Approve Amendment  None  None  None  None  None  \n1       Against: Do nothing  None  None  None  None  None  \n2         Approve Amendment  None  None  None  None  None  \n3       Against: Do nothing  None  None  None  None  None  \n4         Approve Amendment  None  None  None  None  None  \n...                     ...   ...   ...   ...   ...   ...  \n242780                  NaN   NaN   NaN   NaN   NaN   NaN  \n242781                  NaN   NaN   NaN   NaN   NaN   NaN  \n242782                  NaN   NaN   NaN   NaN   NaN   NaN  \n242783                  NaN   NaN   NaN   NaN   NaN   NaN  \n242784                  NaN   NaN   NaN   NaN   NaN   NaN  \n\n[242785 rows x 18 columns]",
      "text/html": "<div>\n<style scoped>\n    .dataframe tbody tr th:only-of-type {\n        vertical-align: middle;\n    }\n\n    .dataframe tbody tr th {\n        vertical-align: top;\n    }\n\n    .dataframe thead th {\n        text-align: right;\n    }\n</style>\n<table border=\"1\" class=\"dataframe\">\n  <thead>\n    <tr style=\"text-align: right;\">\n      <th></th>\n      <th>votes_id</th>\n      <th>votes_voter</th>\n      <th>votes_created</th>\n      <th>votes_choice</th>\n      <th>votes_vp</th>\n      <th>Proposal</th>\n      <th>proposals_title</th>\n      <th>proposals_id</th>\n      <th>proposals_body</th>\n      <th>proposals_scores</th>\n      <th>proposals_scores_total</th>\n      <th>0</th>\n      <th>1</th>\n      <th>2</th>\n      <th>3</th>\n      <th>4</th>\n      <th>5</th>\n      <th>6</th>\n    </tr>\n  </thead>\n  <tbody>\n    <tr>\n      <th>0</th>\n      <td>bafkreih44a44m4ej2loni54bjgzz2nmbfc2lit324hiqh...</td>\n      <td>0xCc0002972d604DceD87f079306ad6a555C9Fe122</td>\n      <td>1.658759e+09</td>\n      <td>2</td>\n      <td>376.437434</td>\n      <td>0xe6233a0b159f58a97ba41019bd09cb904bd0120f656d...</td>\n      <td>OIP-94A: Amend Interim Ranged Stability Policy...</td>\n      <td>0xe6233a0b159f58a97ba41019bd09cb904bd0120f656d...</td>\n      <td>**Summary:**\\n\\nGrant Policy Authority to:\\nCo...</td>\n      <td>7.511731</td>\n      <td>359890.743297</td>\n      <td>Reject Amendment</td>\n      <td>Approve Amendment</td>\n      <td>None</td>\n      <td>None</td>\n      <td>None</td>\n      <td>None</td>\n      <td>None</td>\n    </tr>\n    <tr>\n      <th>1</th>\n      <td>bafkreih44a44m4ej2loni54bjgzz2nmbfc2lit324hiqh...</td>\n      <td>0xCc0002972d604DceD87f079306ad6a555C9Fe122</td>\n      <td>1.658759e+09</td>\n      <td>2</td>\n      <td>376.437434</td>\n      <td>0xe6233a0b159f58a97ba41019bd09cb904bd0120f656d...</td>\n      <td>OIP-94A: Amend Interim Ranged Stability Policy...</td>\n      <td>0xe6233a0b159f58a97ba41019bd09cb904bd0120f656d...</td>\n      <td>**Summary:**\\n\\nGrant Policy Authority to:\\nCo...</td>\n      <td>359883.231566</td>\n      <td>359890.743297</td>\n      <td>For: Deploy Bond Protocol</td>\n      <td>Against: Do nothing</td>\n      <td>None</td>\n      <td>None</td>\n      <td>None</td>\n      <td>None</td>\n      <td>None</td>\n    </tr>\n    <tr>\n      <th>2</th>\n      <td>0x473f04dd52469588cc54a10017482b98ce083ff1eb0d...</td>\n      <td>0xd8929472A97db29867fE5C6F18922c24F59A7A71</td>\n      <td>1.658757e+09</td>\n      <td>2</td>\n      <td>1057.429981</td>\n      <td>0xe6233a0b159f58a97ba41019bd09cb904bd0120f656d...</td>\n      <td>OIP-94A: Amend Interim Ranged Stability Policy...</td>\n      <td>0xe6233a0b159f58a97ba41019bd09cb904bd0120f656d...</td>\n      <td>**Summary:**\\n\\nGrant Policy Authority to:\\nCo...</td>\n      <td>7.511731</td>\n      <td>359890.743297</td>\n      <td>Reject Amendment</td>\n      <td>Approve Amendment</td>\n      <td>None</td>\n      <td>None</td>\n      <td>None</td>\n      <td>None</td>\n      <td>None</td>\n    </tr>\n    <tr>\n      <th>3</th>\n      <td>0x473f04dd52469588cc54a10017482b98ce083ff1eb0d...</td>\n      <td>0xd8929472A97db29867fE5C6F18922c24F59A7A71</td>\n      <td>1.658757e+09</td>\n      <td>2</td>\n      <td>1057.429981</td>\n      <td>0xe6233a0b159f58a97ba41019bd09cb904bd0120f656d...</td>\n      <td>OIP-94A: Amend Interim Ranged Stability Policy...</td>\n      <td>0xe6233a0b159f58a97ba41019bd09cb904bd0120f656d...</td>\n      <td>**Summary:**\\n\\nGrant Policy Authority to:\\nCo...</td>\n      <td>359883.231566</td>\n      <td>359890.743297</td>\n      <td>For: Deploy Bond Protocol</td>\n      <td>Against: Do nothing</td>\n      <td>None</td>\n      <td>None</td>\n      <td>None</td>\n      <td>None</td>\n      <td>None</td>\n    </tr>\n    <tr>\n      <th>4</th>\n      <td>0xbe37fd97164f24b6ee13f4b633ad3ff9413493c5069c...</td>\n      <td>0xBDbFdf3e82fC9d2bE1352e252aB1Ce2287fC2122</td>\n      <td>1.658756e+09</td>\n      <td>2</td>\n      <td>87.229162</td>\n      <td>0xe6233a0b159f58a97ba41019bd09cb904bd0120f656d...</td>\n      <td>OIP-94A: Amend Interim Ranged Stability Policy...</td>\n      <td>0xe6233a0b159f58a97ba41019bd09cb904bd0120f656d...</td>\n      <td>**Summary:**\\n\\nGrant Policy Authority to:\\nCo...</td>\n      <td>7.511731</td>\n      <td>359890.743297</td>\n      <td>Reject Amendment</td>\n      <td>Approve Amendment</td>\n      <td>None</td>\n      <td>None</td>\n      <td>None</td>\n      <td>None</td>\n      <td>None</td>\n    </tr>\n    <tr>\n      <th>...</th>\n      <td>...</td>\n      <td>...</td>\n      <td>...</td>\n      <td>...</td>\n      <td>...</td>\n      <td>...</td>\n      <td>...</td>\n      <td>...</td>\n      <td>...</td>\n      <td>...</td>\n      <td>...</td>\n      <td>...</td>\n      <td>...</td>\n      <td>...</td>\n      <td>...</td>\n      <td>...</td>\n      <td>...</td>\n      <td>...</td>\n    </tr>\n    <tr>\n      <th>242780</th>\n      <td>QmXPL7fViDQBjbg4EikDftXtTwht1sSUYVtHcgrzU3WrUy</td>\n      <td>0x3942Ae3782FbD658CC19A8Db602D937baF7CB57A</td>\n      <td>1.617555e+09</td>\n      <td>{'1': 1}</td>\n      <td>94.118185</td>\n      <td>QmVaYYojHUCqVhM835eSWtih6CyF1koQpSinPg9Kyw21RN</td>\n      <td>Open an OHM-ETH Pool on Uniswap</td>\n      <td>QmVaYYojHUCqVhM835eSWtih6CyF1koQpSinPg9Kyw21RN</td>\n      <td>Summary:\\nSeveral community members have broug...</td>\n      <td>0.000000</td>\n      <td>20614.265541</td>\n      <td>NaN</td>\n      <td>NaN</td>\n      <td>NaN</td>\n      <td>NaN</td>\n      <td>NaN</td>\n      <td>NaN</td>\n      <td>NaN</td>\n    </tr>\n    <tr>\n      <th>242781</th>\n      <td>QmXPL7fViDQBjbg4EikDftXtTwht1sSUYVtHcgrzU3WrUy</td>\n      <td>0x3942Ae3782FbD658CC19A8Db602D937baF7CB57A</td>\n      <td>1.617555e+09</td>\n      <td>{'1': 1}</td>\n      <td>94.118185</td>\n      <td>QmVaYYojHUCqVhM835eSWtih6CyF1koQpSinPg9Kyw21RN</td>\n      <td>Open an OHM-ETH Pool on Uniswap</td>\n      <td>QmVaYYojHUCqVhM835eSWtih6CyF1koQpSinPg9Kyw21RN</td>\n      <td>Summary:\\nSeveral community members have broug...</td>\n      <td>165.462663</td>\n      <td>20614.265541</td>\n      <td>NaN</td>\n      <td>NaN</td>\n      <td>NaN</td>\n      <td>NaN</td>\n      <td>NaN</td>\n      <td>NaN</td>\n      <td>NaN</td>\n    </tr>\n    <tr>\n      <th>242782</th>\n      <td>QmYwVd9zd2AzAYSBncxeWYnePQQNGTPJiKjywXdKoFpJvv</td>\n      <td>0x45ADFF324Eb1ac03a6A115dc539052232D4bA980</td>\n      <td>1.617554e+09</td>\n      <td>{'1': 1}</td>\n      <td>0.842478</td>\n      <td>QmVaYYojHUCqVhM835eSWtih6CyF1koQpSinPg9Kyw21RN</td>\n      <td>Open an OHM-ETH Pool on Uniswap</td>\n      <td>QmVaYYojHUCqVhM835eSWtih6CyF1koQpSinPg9Kyw21RN</td>\n      <td>Summary:\\nSeveral community members have broug...</td>\n      <td>177.543607</td>\n      <td>20614.265541</td>\n      <td>NaN</td>\n      <td>NaN</td>\n      <td>NaN</td>\n      <td>NaN</td>\n      <td>NaN</td>\n      <td>NaN</td>\n      <td>NaN</td>\n    </tr>\n    <tr>\n      <th>242783</th>\n      <td>QmYwVd9zd2AzAYSBncxeWYnePQQNGTPJiKjywXdKoFpJvv</td>\n      <td>0x45ADFF324Eb1ac03a6A115dc539052232D4bA980</td>\n      <td>1.617554e+09</td>\n      <td>{'1': 1}</td>\n      <td>0.842478</td>\n      <td>QmVaYYojHUCqVhM835eSWtih6CyF1koQpSinPg9Kyw21RN</td>\n      <td>Open an OHM-ETH Pool on Uniswap</td>\n      <td>QmVaYYojHUCqVhM835eSWtih6CyF1koQpSinPg9Kyw21RN</td>\n      <td>Summary:\\nSeveral community members have broug...</td>\n      <td>0.000000</td>\n      <td>20614.265541</td>\n      <td>NaN</td>\n      <td>NaN</td>\n      <td>NaN</td>\n      <td>NaN</td>\n      <td>NaN</td>\n      <td>NaN</td>\n      <td>NaN</td>\n    </tr>\n    <tr>\n      <th>242784</th>\n      <td>QmYwVd9zd2AzAYSBncxeWYnePQQNGTPJiKjywXdKoFpJvv</td>\n      <td>0x45ADFF324Eb1ac03a6A115dc539052232D4bA980</td>\n      <td>1.617554e+09</td>\n      <td>{'1': 1}</td>\n      <td>0.842478</td>\n      <td>QmVaYYojHUCqVhM835eSWtih6CyF1koQpSinPg9Kyw21RN</td>\n      <td>Open an OHM-ETH Pool on Uniswap</td>\n      <td>QmVaYYojHUCqVhM835eSWtih6CyF1koQpSinPg9Kyw21RN</td>\n      <td>Summary:\\nSeveral community members have broug...</td>\n      <td>165.462663</td>\n      <td>20614.265541</td>\n      <td>NaN</td>\n      <td>NaN</td>\n      <td>NaN</td>\n      <td>NaN</td>\n      <td>NaN</td>\n      <td>NaN</td>\n      <td>NaN</td>\n    </tr>\n  </tbody>\n</table>\n<p>242785 rows × 18 columns</p>\n</div>"
     },
     "execution_count": 105,
     "metadata": {},
     "output_type": "execute_result"
    }
   ],
   "source": [
    "governance_data = pd.merge(voting_snapshots_list, olympus_governance_view, how='inner', left_on='Proposal', right_on='proposals_id')\n",
    "governance_data"
   ],
   "metadata": {
    "collapsed": false,
    "pycharm": {
     "name": "#%%\n"
    }
   }
  },
  {
   "cell_type": "code",
   "execution_count": 118,
   "outputs": [],
   "source": [
    "final_file = file+'\\\\'+'final'\n",
    "final_raw_file = final_file"
   ],
   "metadata": {
    "collapsed": false,
    "pycharm": {
     "name": "#%%\n"
    }
   }
  },
  {
   "cell_type": "code",
   "execution_count": 123,
   "outputs": [],
   "source": [
    "os.makedirs(final_raw_file, exist_ok=True)"
   ],
   "metadata": {
    "collapsed": false,
    "pycharm": {
     "name": "#%%\n"
    }
   }
  },
  {
   "cell_type": "code",
   "execution_count": 124,
   "outputs": [],
   "source": [
    "final_path =final_file+'\\\\'+spacename+'governance_data_'+str(date.today().strftime(\"%b-%d-%Y\"))+'_'+str(len(olympus_governance_view))+'.csv'"
   ],
   "metadata": {
    "collapsed": false,
    "pycharm": {
     "name": "#%%\n"
    }
   }
  },
  {
   "cell_type": "code",
   "execution_count": 125,
   "outputs": [],
   "source": [
    "governance_data.to_csv(final_path, index = False)"
   ],
   "metadata": {
    "collapsed": false,
    "pycharm": {
     "name": "#%%\n"
    }
   }
  },
  {
   "cell_type": "code",
   "execution_count": 132,
   "outputs": [],
   "source": [
    "import pandasql as ps\n",
    "import duckdb as db"
   ],
   "metadata": {
    "collapsed": false,
    "pycharm": {
     "name": "#%%\n"
    }
   }
  },
  {
   "cell_type": "code",
   "execution_count": 145,
   "outputs": [
    {
     "data": {
      "text/plain": "                                                Proposal  \\\n0      0x00fd601fd700678a9d6b7e484e742ccbbcf2f7f27c6d...   \n1      0x00fd601fd700678a9d6b7e484e742ccbbcf2f7f27c6d...   \n2      0x00fd601fd700678a9d6b7e484e742ccbbcf2f7f27c6d...   \n3      0x00fd601fd700678a9d6b7e484e742ccbbcf2f7f27c6d...   \n4      0x00fd601fd700678a9d6b7e484e742ccbbcf2f7f27c6d...   \n...                                                  ...   \n45930     Qmen3Ps2nCXLGYwi1dcGkaVTjtdfTFdp4DdG9cJSQBSZX3   \n45931     Qmen3Ps2nCXLGYwi1dcGkaVTjtdfTFdp4DdG9cJSQBSZX3   \n45932     Qmen3Ps2nCXLGYwi1dcGkaVTjtdfTFdp4DdG9cJSQBSZX3   \n45933     Qmen3Ps2nCXLGYwi1dcGkaVTjtdfTFdp4DdG9cJSQBSZX3   \n45934     Qmen3Ps2nCXLGYwi1dcGkaVTjtdfTFdp4DdG9cJSQBSZX3   \n\n                                      votes_voter  votes_created  \\\n0      0x930914b865db5FE9A15a42A99481f77F469C9F04   1.646728e+09   \n1      0x40C848ae24c433b6B1806B4DDDb7f5B38Afcffc1   1.646716e+09   \n2      0xD14841F625e88394933b27f2C04d3C029A830697   1.646705e+09   \n3      0x7672B17D5Eebb7194d57066f86FBcb4e85a7e10E   1.646704e+09   \n4      0x5f4b7d6cc4eE935f48e4AE4CdEfc3b96DfCe0550   1.646702e+09   \n...                                           ...            ...   \n45930  0xbAEd0eaC0D1B90CAcAd294f783fe545c37019212   1.623777e+09   \n45931  0x79463163BEF8433D5F0808D6377D01E9B466a857   1.623777e+09   \n45932  0xe8d0587D82Ae54b0dd1F8E234bA3f0Ce1E2f047A   1.623777e+09   \n45933  0x00903F96abe2743b81fc7Fcf4874c715A3fe1C88   1.623777e+09   \n45934  0x9Bc7a5eE86c800Dea4560117f53773c82D6298E6   1.623777e+09   \n\n       cumulative_vp      total_vp  percentange_vp  \n0       1.416022e+11  1.416022e+11        0.011629  \n1       1.399555e+11  1.416022e+11        0.011629  \n2       1.383088e+11  1.416022e+11        0.011629  \n3       1.366621e+11  1.416022e+11        0.011629  \n4       1.350154e+11  1.416022e+11        0.011629  \n...              ...           ...             ...  \n45930   8.118883e+09  4.222204e+11        0.003846  \n45931   6.495106e+09  4.222204e+11        0.003846  \n45932   4.871330e+09  4.222204e+11        0.003846  \n45933   3.247553e+09  4.222204e+11        0.003846  \n45934   1.623777e+09  4.222204e+11        0.003846  \n\n[45935 rows x 6 columns]",
      "text/html": "<div>\n<style scoped>\n    .dataframe tbody tr th:only-of-type {\n        vertical-align: middle;\n    }\n\n    .dataframe tbody tr th {\n        vertical-align: top;\n    }\n\n    .dataframe thead th {\n        text-align: right;\n    }\n</style>\n<table border=\"1\" class=\"dataframe\">\n  <thead>\n    <tr style=\"text-align: right;\">\n      <th></th>\n      <th>Proposal</th>\n      <th>votes_voter</th>\n      <th>votes_created</th>\n      <th>cumulative_vp</th>\n      <th>total_vp</th>\n      <th>percentange_vp</th>\n    </tr>\n  </thead>\n  <tbody>\n    <tr>\n      <th>0</th>\n      <td>0x00fd601fd700678a9d6b7e484e742ccbbcf2f7f27c6d...</td>\n      <td>0x930914b865db5FE9A15a42A99481f77F469C9F04</td>\n      <td>1.646728e+09</td>\n      <td>1.416022e+11</td>\n      <td>1.416022e+11</td>\n      <td>0.011629</td>\n    </tr>\n    <tr>\n      <th>1</th>\n      <td>0x00fd601fd700678a9d6b7e484e742ccbbcf2f7f27c6d...</td>\n      <td>0x40C848ae24c433b6B1806B4DDDb7f5B38Afcffc1</td>\n      <td>1.646716e+09</td>\n      <td>1.399555e+11</td>\n      <td>1.416022e+11</td>\n      <td>0.011629</td>\n    </tr>\n    <tr>\n      <th>2</th>\n      <td>0x00fd601fd700678a9d6b7e484e742ccbbcf2f7f27c6d...</td>\n      <td>0xD14841F625e88394933b27f2C04d3C029A830697</td>\n      <td>1.646705e+09</td>\n      <td>1.383088e+11</td>\n      <td>1.416022e+11</td>\n      <td>0.011629</td>\n    </tr>\n    <tr>\n      <th>3</th>\n      <td>0x00fd601fd700678a9d6b7e484e742ccbbcf2f7f27c6d...</td>\n      <td>0x7672B17D5Eebb7194d57066f86FBcb4e85a7e10E</td>\n      <td>1.646704e+09</td>\n      <td>1.366621e+11</td>\n      <td>1.416022e+11</td>\n      <td>0.011629</td>\n    </tr>\n    <tr>\n      <th>4</th>\n      <td>0x00fd601fd700678a9d6b7e484e742ccbbcf2f7f27c6d...</td>\n      <td>0x5f4b7d6cc4eE935f48e4AE4CdEfc3b96DfCe0550</td>\n      <td>1.646702e+09</td>\n      <td>1.350154e+11</td>\n      <td>1.416022e+11</td>\n      <td>0.011629</td>\n    </tr>\n    <tr>\n      <th>...</th>\n      <td>...</td>\n      <td>...</td>\n      <td>...</td>\n      <td>...</td>\n      <td>...</td>\n      <td>...</td>\n    </tr>\n    <tr>\n      <th>45930</th>\n      <td>Qmen3Ps2nCXLGYwi1dcGkaVTjtdfTFdp4DdG9cJSQBSZX3</td>\n      <td>0xbAEd0eaC0D1B90CAcAd294f783fe545c37019212</td>\n      <td>1.623777e+09</td>\n      <td>8.118883e+09</td>\n      <td>4.222204e+11</td>\n      <td>0.003846</td>\n    </tr>\n    <tr>\n      <th>45931</th>\n      <td>Qmen3Ps2nCXLGYwi1dcGkaVTjtdfTFdp4DdG9cJSQBSZX3</td>\n      <td>0x79463163BEF8433D5F0808D6377D01E9B466a857</td>\n      <td>1.623777e+09</td>\n      <td>6.495106e+09</td>\n      <td>4.222204e+11</td>\n      <td>0.003846</td>\n    </tr>\n    <tr>\n      <th>45932</th>\n      <td>Qmen3Ps2nCXLGYwi1dcGkaVTjtdfTFdp4DdG9cJSQBSZX3</td>\n      <td>0xe8d0587D82Ae54b0dd1F8E234bA3f0Ce1E2f047A</td>\n      <td>1.623777e+09</td>\n      <td>4.871330e+09</td>\n      <td>4.222204e+11</td>\n      <td>0.003846</td>\n    </tr>\n    <tr>\n      <th>45933</th>\n      <td>Qmen3Ps2nCXLGYwi1dcGkaVTjtdfTFdp4DdG9cJSQBSZX3</td>\n      <td>0x00903F96abe2743b81fc7Fcf4874c715A3fe1C88</td>\n      <td>1.623777e+09</td>\n      <td>3.247553e+09</td>\n      <td>4.222204e+11</td>\n      <td>0.003846</td>\n    </tr>\n    <tr>\n      <th>45934</th>\n      <td>Qmen3Ps2nCXLGYwi1dcGkaVTjtdfTFdp4DdG9cJSQBSZX3</td>\n      <td>0x9Bc7a5eE86c800Dea4560117f53773c82D6298E6</td>\n      <td>1.623777e+09</td>\n      <td>1.623777e+09</td>\n      <td>4.222204e+11</td>\n      <td>0.003846</td>\n    </tr>\n  </tbody>\n</table>\n<p>45935 rows × 6 columns</p>\n</div>"
     },
     "execution_count": 145,
     "metadata": {},
     "output_type": "execute_result"
    }
   ],
   "source": [
    "crunch_data = db.query(\"select \"\n",
    "                           \"Proposal\"\n",
    "                           \",votes_voter\"\n",
    "                           \", votes_created\"\n",
    "                           \",sum(votes_created) over (Partition by Proposal order by votes_created) as cumulative_vp\"\n",
    "                           \", sum(votes_created) over (Partition by Proposal) as total_vp\"\n",
    "                           \", (votes_created::decimal/sum(votes_created::decimal) over (Partition by Proposal)) as percentange_vp  \"\n",
    "                       \"from \"\n",
    "                       \"    governance_data \"\n",
    "                       \"\"\n",
    "                       \"Group by \"\n",
    "                       \"    Proposal,votes_voter, votes_created \"\n",
    "                       \"\"\n",
    "                       \"Order by \"\n",
    "                       \"    Proposal, \"\n",
    "                       \"    votes_created desc \"\n",
    "                       \"\").df()\n",
    "\n",
    "\n",
    "\n",
    "crunch_data"
   ],
   "metadata": {
    "collapsed": false,
    "pycharm": {
     "name": "#%%\n"
    }
   }
  },
  {
   "cell_type": "code",
   "execution_count": null,
   "outputs": [],
   "source": [],
   "metadata": {
    "collapsed": false,
    "pycharm": {
     "name": "#%%\n"
    }
   }
  }
 ],
 "metadata": {
  "kernelspec": {
   "display_name": "Python 3",
   "language": "python",
   "name": "python3"
  },
  "language_info": {
   "codemirror_mode": {
    "name": "ipython",
    "version": 2
   },
   "file_extension": ".py",
   "mimetype": "text/x-python",
   "name": "python",
   "nbconvert_exporter": "python",
   "pygments_lexer": "ipython2",
   "version": "2.7.6"
  }
 },
 "nbformat": 4,
 "nbformat_minor": 0
}