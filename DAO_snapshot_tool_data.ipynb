{
 "cells": [
  {
   "cell_type": "code",
   "execution_count": 777,
   "outputs": [],
   "source": [
    "global file\n",
    "file = input('Selet a folder') ##enter your file path here - the file is in the repo \"summary_stats.csv\".\n",
    "raw_file = file\n",
    "##file"
   ],
   "metadata": {
    "collapsed": false,
    "pycharm": {
     "name": "#%%\n"
    }
   }
  },
  {
   "cell_type": "code",
   "execution_count": 778,
   "outputs": [],
   "source": [
    "from datetime import datetime\n",
    "from datetime import date\n",
    "from subgrounds.subgraph import SyntheticField, FieldPath\n",
    "from subgrounds.subgrounds import Subgrounds\n",
    "import math\n",
    "import pandas as pd\n",
    "import  os as os\n",
    "import duckdb as db"
   ],
   "metadata": {
    "collapsed": false,
    "pycharm": {
     "name": "#%%\n"
    }
   }
  },
  {
   "cell_type": "code",
   "execution_count": 779,
   "outputs": [],
   "source": [
    "sg = Subgrounds()\n",
    "snapshot = sg.load_api('https://hub.snapshot.org/graphql')"
   ],
   "metadata": {
    "collapsed": false,
    "pycharm": {
     "name": "#%%\n"
    }
   }
  },
  {
   "cell_type": "code",
   "execution_count": 780,
   "outputs": [],
   "source": [
    "snapshot.Proposal.datetime = SyntheticField(\n",
    "  lambda timestamp: str(datetime.fromtimestamp(timestamp)),\n",
    "  SyntheticField.STRING,\n",
    "  snapshot.Proposal.end,\n",
    ")"
   ],
   "metadata": {
    "collapsed": false,
    "pycharm": {
     "name": "#%%\n"
    }
   }
  },
  {
   "cell_type": "code",
   "execution_count": 781,
   "outputs": [],
   "source": [
    "spacename = input('spacename plz?')\n",
    "proposals = snapshot.Query.proposals(\n",
    "  orderBy='created',\n",
    "  orderDirection='desc',\n",
    "  first=10000,\n",
    "  where=[\n",
    "    snapshot.Proposal.space == spacename, ##'fuse.eth',\n",
    "    snapshot.Proposal.state == 'closed'\n",
    "    ##snapshot.Proposal.title == 'OIP-18: Reward rate framework and reduction',\n",
    "  ]\n",
    ")"
   ],
   "metadata": {
    "collapsed": false,
    "pycharm": {
     "name": "#%%\n"
    }
   }
  },
  {
   "cell_type": "code",
   "execution_count": 782,
   "outputs": [],
   "source": [
    "proposals_snapshots = sg.query_df([\n",
    "    proposals.title,\n",
    "    proposals.id,\n",
    "    proposals.body,\n",
    "    proposals.scores,\n",
    "    proposals.scores_total\n",
    "])"
   ],
   "metadata": {
    "collapsed": false,
    "pycharm": {
     "name": "#%%\n"
    }
   }
  },
  {
   "cell_type": "code",
   "execution_count": 783,
   "outputs": [],
   "source": [
    "proposals_choices = sg.query(proposals.choices)"
   ],
   "metadata": {
    "collapsed": false,
    "pycharm": {
     "name": "#%%\n"
    }
   }
  },
  {
   "cell_type": "code",
   "execution_count": 784,
   "outputs": [],
   "source": [
    "proposals_choices = pd.DataFrame(proposals_choices)\n",
    "##proposals_choices = pd.DataFrame(proposals_choices, columns = ['option_1', 'option_2', 'option_3', 'option_4', 'option_5','option_6','option_7','option_8','option_9','option_10','option_11','option_12','option_13','option_14','option_15','option_16','option_17','option_18','option_19','option_20','option_21','option_22'])"
   ],
   "metadata": {
    "collapsed": false,
    "pycharm": {
     "name": "#%%\n"
    }
   }
  },
  {
   "cell_type": "code",
   "execution_count": 785,
   "outputs": [],
   "source": [
    "olympus_governance_view = pd.concat([proposals_snapshots,proposals_choices], axis=1)"
   ],
   "metadata": {
    "collapsed": false,
    "pycharm": {
     "name": "#%%\n"
    }
   }
  },
  {
   "cell_type": "code",
   "execution_count": 786,
   "outputs": [
    {
     "data": {
      "text/plain": "                                       proposals_title  \\\n0    Temp Check: \"Fee switch\" activation for ETH/US...   \n1    Temp Check: \"Fee switch\" activation for ETH/US...   \n2    Should Uniswap provide Rage Trade with an addi...   \n3    Should Uniswap provide Rage Trade with an addi...   \n4    [Consensus Check] - Enable 1bp Fee Tier on Uni...   \n..                                                 ...   \n137               Liquidity mining continuation budget   \n138  Uniswap Temperature check - [Should we increas...   \n139  Uniswap Temperature check - [Should we increas...   \n140  Retroactive Airdrop For Proxy Contract Users (...   \n141  Retroactive Airdrop For Proxy Contract Users (...   \n\n                                          proposals_id  \\\n0    0x4dd49ee723a7e506c6c6c15c8eabc8a7057f3f0760e4...   \n1    0x4dd49ee723a7e506c6c6c15c8eabc8a7057f3f0760e4...   \n2    0x1bf2c3fb48e31f4e006ce6349967088fc726cbf1d151...   \n3    0x1bf2c3fb48e31f4e006ce6349967088fc726cbf1d151...   \n4       QmV8ZeseHEoAcGj51kGaC6gVF2BkL9BHACJDAaQ74uiaJi   \n..                                                 ...   \n137     QmShiKX75iBo321NKLG9tFFb3EuNM58i8kvWaYLp1HBwCR   \n138     QmZUeeJEoEp4Z1oLzMcXbWJyu4WNvHF9p8uHjz97T5nD3m   \n139     QmZUeeJEoEp4Z1oLzMcXbWJyu4WNvHF9p8uHjz97T5nD3m   \n140     Qma8KF8jTV3kwBFdjfwE9jvLpPYVMdY6RVS9pJZ6QGEur6   \n141     Qma8KF8jTV3kwBFdjfwE9jvLpPYVMdY6RVS9pJZ6QGEur6   \n\n                                        proposals_body  proposals_scores  \\\n0    See governance forum for details: https://gov....      3.530507e+06   \n1    See governance forum for details: https://gov....      5.386017e+01   \n2    Authors: [Noodles](https://twitter.com/crypto_...      3.642395e+06   \n3    Authors: [Noodles](https://twitter.com/crypto_...      6.630508e+01   \n4    **Summary**:\\n\\nEnable a 1bp, 1tick fee tier o...      1.162095e+07   \n..                                                 ...               ...   \n137  What do you think is the right amount of UNI t...      0.000000e+00   \n138  Voting Delay is the period between when a prop...      2.196499e+04   \n139  Voting Delay is the period between when a prop...      0.000000e+00   \n140  Details:\\nhttps://gov.uniswap.org/t/retroactiv...      0.000000e+00   \n141  Details:\\nhttps://gov.uniswap.org/t/retroactiv...      3.397777e+04   \n\n     proposals_scores_total     0    1     2     3     4     5     6     7  \\\n0              3.530561e+06   Yes   No  None  None  None  None  None  None   \n1              3.530561e+06   Yes   No  None  None  None  None  None  None   \n2              3.642461e+06   YES   NO  None  None  None  None  None  None   \n3              3.642461e+06  Yes    No  None  None  None  None  None  None   \n4              1.162100e+07   Yes   No  None  None  None  None  None  None   \n..                      ...   ...  ...   ...   ...   ...   ...   ...   ...   \n137            1.170465e+03   NaN  NaN   NaN   NaN   NaN   NaN   NaN   NaN   \n138            2.196499e+04   NaN  NaN   NaN   NaN   NaN   NaN   NaN   NaN   \n139            2.196499e+04   NaN  NaN   NaN   NaN   NaN   NaN   NaN   NaN   \n140            3.397777e+04   NaN  NaN   NaN   NaN   NaN   NaN   NaN   NaN   \n141            3.397777e+04   NaN  NaN   NaN   NaN   NaN   NaN   NaN   NaN   \n\n        8     9    10    11  \n0    None  None  None  None  \n1    None  None  None  None  \n2    None  None  None  None  \n3    None  None  None  None  \n4    None  None  None  None  \n..    ...   ...   ...   ...  \n137   NaN   NaN   NaN   NaN  \n138   NaN   NaN   NaN   NaN  \n139   NaN   NaN   NaN   NaN  \n140   NaN   NaN   NaN   NaN  \n141   NaN   NaN   NaN   NaN  \n\n[142 rows x 17 columns]",
      "text/html": "<div>\n<style scoped>\n    .dataframe tbody tr th:only-of-type {\n        vertical-align: middle;\n    }\n\n    .dataframe tbody tr th {\n        vertical-align: top;\n    }\n\n    .dataframe thead th {\n        text-align: right;\n    }\n</style>\n<table border=\"1\" class=\"dataframe\">\n  <thead>\n    <tr style=\"text-align: right;\">\n      <th></th>\n      <th>proposals_title</th>\n      <th>proposals_id</th>\n      <th>proposals_body</th>\n      <th>proposals_scores</th>\n      <th>proposals_scores_total</th>\n      <th>0</th>\n      <th>1</th>\n      <th>2</th>\n      <th>3</th>\n      <th>4</th>\n      <th>5</th>\n      <th>6</th>\n      <th>7</th>\n      <th>8</th>\n      <th>9</th>\n      <th>10</th>\n      <th>11</th>\n    </tr>\n  </thead>\n  <tbody>\n    <tr>\n      <th>0</th>\n      <td>Temp Check: \"Fee switch\" activation for ETH/US...</td>\n      <td>0x4dd49ee723a7e506c6c6c15c8eabc8a7057f3f0760e4...</td>\n      <td>See governance forum for details: https://gov....</td>\n      <td>3.530507e+06</td>\n      <td>3.530561e+06</td>\n      <td>Yes</td>\n      <td>No</td>\n      <td>None</td>\n      <td>None</td>\n      <td>None</td>\n      <td>None</td>\n      <td>None</td>\n      <td>None</td>\n      <td>None</td>\n      <td>None</td>\n      <td>None</td>\n      <td>None</td>\n    </tr>\n    <tr>\n      <th>1</th>\n      <td>Temp Check: \"Fee switch\" activation for ETH/US...</td>\n      <td>0x4dd49ee723a7e506c6c6c15c8eabc8a7057f3f0760e4...</td>\n      <td>See governance forum for details: https://gov....</td>\n      <td>5.386017e+01</td>\n      <td>3.530561e+06</td>\n      <td>Yes</td>\n      <td>No</td>\n      <td>None</td>\n      <td>None</td>\n      <td>None</td>\n      <td>None</td>\n      <td>None</td>\n      <td>None</td>\n      <td>None</td>\n      <td>None</td>\n      <td>None</td>\n      <td>None</td>\n    </tr>\n    <tr>\n      <th>2</th>\n      <td>Should Uniswap provide Rage Trade with an addi...</td>\n      <td>0x1bf2c3fb48e31f4e006ce6349967088fc726cbf1d151...</td>\n      <td>Authors: [Noodles](https://twitter.com/crypto_...</td>\n      <td>3.642395e+06</td>\n      <td>3.642461e+06</td>\n      <td>YES</td>\n      <td>NO</td>\n      <td>None</td>\n      <td>None</td>\n      <td>None</td>\n      <td>None</td>\n      <td>None</td>\n      <td>None</td>\n      <td>None</td>\n      <td>None</td>\n      <td>None</td>\n      <td>None</td>\n    </tr>\n    <tr>\n      <th>3</th>\n      <td>Should Uniswap provide Rage Trade with an addi...</td>\n      <td>0x1bf2c3fb48e31f4e006ce6349967088fc726cbf1d151...</td>\n      <td>Authors: [Noodles](https://twitter.com/crypto_...</td>\n      <td>6.630508e+01</td>\n      <td>3.642461e+06</td>\n      <td>Yes</td>\n      <td>No</td>\n      <td>None</td>\n      <td>None</td>\n      <td>None</td>\n      <td>None</td>\n      <td>None</td>\n      <td>None</td>\n      <td>None</td>\n      <td>None</td>\n      <td>None</td>\n      <td>None</td>\n    </tr>\n    <tr>\n      <th>4</th>\n      <td>[Consensus Check] - Enable 1bp Fee Tier on Uni...</td>\n      <td>QmV8ZeseHEoAcGj51kGaC6gVF2BkL9BHACJDAaQ74uiaJi</td>\n      <td>**Summary**:\\n\\nEnable a 1bp, 1tick fee tier o...</td>\n      <td>1.162095e+07</td>\n      <td>1.162100e+07</td>\n      <td>Yes</td>\n      <td>No</td>\n      <td>None</td>\n      <td>None</td>\n      <td>None</td>\n      <td>None</td>\n      <td>None</td>\n      <td>None</td>\n      <td>None</td>\n      <td>None</td>\n      <td>None</td>\n      <td>None</td>\n    </tr>\n    <tr>\n      <th>...</th>\n      <td>...</td>\n      <td>...</td>\n      <td>...</td>\n      <td>...</td>\n      <td>...</td>\n      <td>...</td>\n      <td>...</td>\n      <td>...</td>\n      <td>...</td>\n      <td>...</td>\n      <td>...</td>\n      <td>...</td>\n      <td>...</td>\n      <td>...</td>\n      <td>...</td>\n      <td>...</td>\n      <td>...</td>\n    </tr>\n    <tr>\n      <th>137</th>\n      <td>Liquidity mining continuation budget</td>\n      <td>QmShiKX75iBo321NKLG9tFFb3EuNM58i8kvWaYLp1HBwCR</td>\n      <td>What do you think is the right amount of UNI t...</td>\n      <td>0.000000e+00</td>\n      <td>1.170465e+03</td>\n      <td>NaN</td>\n      <td>NaN</td>\n      <td>NaN</td>\n      <td>NaN</td>\n      <td>NaN</td>\n      <td>NaN</td>\n      <td>NaN</td>\n      <td>NaN</td>\n      <td>NaN</td>\n      <td>NaN</td>\n      <td>NaN</td>\n      <td>NaN</td>\n    </tr>\n    <tr>\n      <th>138</th>\n      <td>Uniswap Temperature check - [Should we increas...</td>\n      <td>QmZUeeJEoEp4Z1oLzMcXbWJyu4WNvHF9p8uHjz97T5nD3m</td>\n      <td>Voting Delay is the period between when a prop...</td>\n      <td>2.196499e+04</td>\n      <td>2.196499e+04</td>\n      <td>NaN</td>\n      <td>NaN</td>\n      <td>NaN</td>\n      <td>NaN</td>\n      <td>NaN</td>\n      <td>NaN</td>\n      <td>NaN</td>\n      <td>NaN</td>\n      <td>NaN</td>\n      <td>NaN</td>\n      <td>NaN</td>\n      <td>NaN</td>\n    </tr>\n    <tr>\n      <th>139</th>\n      <td>Uniswap Temperature check - [Should we increas...</td>\n      <td>QmZUeeJEoEp4Z1oLzMcXbWJyu4WNvHF9p8uHjz97T5nD3m</td>\n      <td>Voting Delay is the period between when a prop...</td>\n      <td>0.000000e+00</td>\n      <td>2.196499e+04</td>\n      <td>NaN</td>\n      <td>NaN</td>\n      <td>NaN</td>\n      <td>NaN</td>\n      <td>NaN</td>\n      <td>NaN</td>\n      <td>NaN</td>\n      <td>NaN</td>\n      <td>NaN</td>\n      <td>NaN</td>\n      <td>NaN</td>\n      <td>NaN</td>\n    </tr>\n    <tr>\n      <th>140</th>\n      <td>Retroactive Airdrop For Proxy Contract Users (...</td>\n      <td>Qma8KF8jTV3kwBFdjfwE9jvLpPYVMdY6RVS9pJZ6QGEur6</td>\n      <td>Details:\\nhttps://gov.uniswap.org/t/retroactiv...</td>\n      <td>0.000000e+00</td>\n      <td>3.397777e+04</td>\n      <td>NaN</td>\n      <td>NaN</td>\n      <td>NaN</td>\n      <td>NaN</td>\n      <td>NaN</td>\n      <td>NaN</td>\n      <td>NaN</td>\n      <td>NaN</td>\n      <td>NaN</td>\n      <td>NaN</td>\n      <td>NaN</td>\n      <td>NaN</td>\n    </tr>\n    <tr>\n      <th>141</th>\n      <td>Retroactive Airdrop For Proxy Contract Users (...</td>\n      <td>Qma8KF8jTV3kwBFdjfwE9jvLpPYVMdY6RVS9pJZ6QGEur6</td>\n      <td>Details:\\nhttps://gov.uniswap.org/t/retroactiv...</td>\n      <td>3.397777e+04</td>\n      <td>3.397777e+04</td>\n      <td>NaN</td>\n      <td>NaN</td>\n      <td>NaN</td>\n      <td>NaN</td>\n      <td>NaN</td>\n      <td>NaN</td>\n      <td>NaN</td>\n      <td>NaN</td>\n      <td>NaN</td>\n      <td>NaN</td>\n      <td>NaN</td>\n      <td>NaN</td>\n    </tr>\n  </tbody>\n</table>\n<p>142 rows × 17 columns</p>\n</div>"
     },
     "execution_count": 786,
     "metadata": {},
     "output_type": "execute_result"
    }
   ],
   "source": [
    "olympus_governance_view"
   ],
   "metadata": {
    "collapsed": false,
    "pycharm": {
     "name": "#%%\n"
    }
   }
  },
  {
   "cell_type": "code",
   "execution_count": 787,
   "outputs": [
    {
     "data": {
      "text/plain": "                                       proposals_title  \\\n0    Temp Check: \"Fee switch\" activation for ETH/US...   \n1    Temp Check: \"Fee switch\" activation for ETH/US...   \n2    Should Uniswap provide Rage Trade with an addi...   \n3    Should Uniswap provide Rage Trade with an addi...   \n4    [Consensus Check] - Enable 1bp Fee Tier on Uni...   \n..                                                 ...   \n137               Liquidity mining continuation budget   \n138  Uniswap Temperature check - [Should we increas...   \n139  Uniswap Temperature check - [Should we increas...   \n140  Retroactive Airdrop For Proxy Contract Users (...   \n141  Retroactive Airdrop For Proxy Contract Users (...   \n\n                                          proposals_id  \\\n0    0x4dd49ee723a7e506c6c6c15c8eabc8a7057f3f0760e4...   \n1    0x4dd49ee723a7e506c6c6c15c8eabc8a7057f3f0760e4...   \n2    0x1bf2c3fb48e31f4e006ce6349967088fc726cbf1d151...   \n3    0x1bf2c3fb48e31f4e006ce6349967088fc726cbf1d151...   \n4       QmV8ZeseHEoAcGj51kGaC6gVF2BkL9BHACJDAaQ74uiaJi   \n..                                                 ...   \n137     QmShiKX75iBo321NKLG9tFFb3EuNM58i8kvWaYLp1HBwCR   \n138     QmZUeeJEoEp4Z1oLzMcXbWJyu4WNvHF9p8uHjz97T5nD3m   \n139     QmZUeeJEoEp4Z1oLzMcXbWJyu4WNvHF9p8uHjz97T5nD3m   \n140     Qma8KF8jTV3kwBFdjfwE9jvLpPYVMdY6RVS9pJZ6QGEur6   \n141     Qma8KF8jTV3kwBFdjfwE9jvLpPYVMdY6RVS9pJZ6QGEur6   \n\n                                        proposals_body  proposals_scores  \\\n0    See governance forum for details: https://gov....      3.530507e+06   \n1    See governance forum for details: https://gov....      5.386017e+01   \n2    Authors: [Noodles](https://twitter.com/crypto_...      3.642395e+06   \n3    Authors: [Noodles](https://twitter.com/crypto_...      6.630508e+01   \n4    **Summary**:\\n\\nEnable a 1bp, 1tick fee tier o...      1.162095e+07   \n..                                                 ...               ...   \n137  What do you think is the right amount of UNI t...      0.000000e+00   \n138  Voting Delay is the period between when a prop...      2.196499e+04   \n139  Voting Delay is the period between when a prop...      0.000000e+00   \n140  Details:\\nhttps://gov.uniswap.org/t/retroactiv...      0.000000e+00   \n141  Details:\\nhttps://gov.uniswap.org/t/retroactiv...      3.397777e+04   \n\n     proposals_scores_total     0    1     2     3     4     5     6     7  \\\n0              3.530561e+06   Yes   No  None  None  None  None  None  None   \n1              3.530561e+06   Yes   No  None  None  None  None  None  None   \n2              3.642461e+06   YES   NO  None  None  None  None  None  None   \n3              3.642461e+06  Yes    No  None  None  None  None  None  None   \n4              1.162100e+07   Yes   No  None  None  None  None  None  None   \n..                      ...   ...  ...   ...   ...   ...   ...   ...   ...   \n137            1.170465e+03   NaN  NaN   NaN   NaN   NaN   NaN   NaN   NaN   \n138            2.196499e+04   NaN  NaN   NaN   NaN   NaN   NaN   NaN   NaN   \n139            2.196499e+04   NaN  NaN   NaN   NaN   NaN   NaN   NaN   NaN   \n140            3.397777e+04   NaN  NaN   NaN   NaN   NaN   NaN   NaN   NaN   \n141            3.397777e+04   NaN  NaN   NaN   NaN   NaN   NaN   NaN   NaN   \n\n        8     9    10    11  \n0    None  None  None  None  \n1    None  None  None  None  \n2    None  None  None  None  \n3    None  None  None  None  \n4    None  None  None  None  \n..    ...   ...   ...   ...  \n137   NaN   NaN   NaN   NaN  \n138   NaN   NaN   NaN   NaN  \n139   NaN   NaN   NaN   NaN  \n140   NaN   NaN   NaN   NaN  \n141   NaN   NaN   NaN   NaN  \n\n[142 rows x 17 columns]",
      "text/html": "<div>\n<style scoped>\n    .dataframe tbody tr th:only-of-type {\n        vertical-align: middle;\n    }\n\n    .dataframe tbody tr th {\n        vertical-align: top;\n    }\n\n    .dataframe thead th {\n        text-align: right;\n    }\n</style>\n<table border=\"1\" class=\"dataframe\">\n  <thead>\n    <tr style=\"text-align: right;\">\n      <th></th>\n      <th>proposals_title</th>\n      <th>proposals_id</th>\n      <th>proposals_body</th>\n      <th>proposals_scores</th>\n      <th>proposals_scores_total</th>\n      <th>0</th>\n      <th>1</th>\n      <th>2</th>\n      <th>3</th>\n      <th>4</th>\n      <th>5</th>\n      <th>6</th>\n      <th>7</th>\n      <th>8</th>\n      <th>9</th>\n      <th>10</th>\n      <th>11</th>\n    </tr>\n  </thead>\n  <tbody>\n    <tr>\n      <th>0</th>\n      <td>Temp Check: \"Fee switch\" activation for ETH/US...</td>\n      <td>0x4dd49ee723a7e506c6c6c15c8eabc8a7057f3f0760e4...</td>\n      <td>See governance forum for details: https://gov....</td>\n      <td>3.530507e+06</td>\n      <td>3.530561e+06</td>\n      <td>Yes</td>\n      <td>No</td>\n      <td>None</td>\n      <td>None</td>\n      <td>None</td>\n      <td>None</td>\n      <td>None</td>\n      <td>None</td>\n      <td>None</td>\n      <td>None</td>\n      <td>None</td>\n      <td>None</td>\n    </tr>\n    <tr>\n      <th>1</th>\n      <td>Temp Check: \"Fee switch\" activation for ETH/US...</td>\n      <td>0x4dd49ee723a7e506c6c6c15c8eabc8a7057f3f0760e4...</td>\n      <td>See governance forum for details: https://gov....</td>\n      <td>5.386017e+01</td>\n      <td>3.530561e+06</td>\n      <td>Yes</td>\n      <td>No</td>\n      <td>None</td>\n      <td>None</td>\n      <td>None</td>\n      <td>None</td>\n      <td>None</td>\n      <td>None</td>\n      <td>None</td>\n      <td>None</td>\n      <td>None</td>\n      <td>None</td>\n    </tr>\n    <tr>\n      <th>2</th>\n      <td>Should Uniswap provide Rage Trade with an addi...</td>\n      <td>0x1bf2c3fb48e31f4e006ce6349967088fc726cbf1d151...</td>\n      <td>Authors: [Noodles](https://twitter.com/crypto_...</td>\n      <td>3.642395e+06</td>\n      <td>3.642461e+06</td>\n      <td>YES</td>\n      <td>NO</td>\n      <td>None</td>\n      <td>None</td>\n      <td>None</td>\n      <td>None</td>\n      <td>None</td>\n      <td>None</td>\n      <td>None</td>\n      <td>None</td>\n      <td>None</td>\n      <td>None</td>\n    </tr>\n    <tr>\n      <th>3</th>\n      <td>Should Uniswap provide Rage Trade with an addi...</td>\n      <td>0x1bf2c3fb48e31f4e006ce6349967088fc726cbf1d151...</td>\n      <td>Authors: [Noodles](https://twitter.com/crypto_...</td>\n      <td>6.630508e+01</td>\n      <td>3.642461e+06</td>\n      <td>Yes</td>\n      <td>No</td>\n      <td>None</td>\n      <td>None</td>\n      <td>None</td>\n      <td>None</td>\n      <td>None</td>\n      <td>None</td>\n      <td>None</td>\n      <td>None</td>\n      <td>None</td>\n      <td>None</td>\n    </tr>\n    <tr>\n      <th>4</th>\n      <td>[Consensus Check] - Enable 1bp Fee Tier on Uni...</td>\n      <td>QmV8ZeseHEoAcGj51kGaC6gVF2BkL9BHACJDAaQ74uiaJi</td>\n      <td>**Summary**:\\n\\nEnable a 1bp, 1tick fee tier o...</td>\n      <td>1.162095e+07</td>\n      <td>1.162100e+07</td>\n      <td>Yes</td>\n      <td>No</td>\n      <td>None</td>\n      <td>None</td>\n      <td>None</td>\n      <td>None</td>\n      <td>None</td>\n      <td>None</td>\n      <td>None</td>\n      <td>None</td>\n      <td>None</td>\n      <td>None</td>\n    </tr>\n    <tr>\n      <th>...</th>\n      <td>...</td>\n      <td>...</td>\n      <td>...</td>\n      <td>...</td>\n      <td>...</td>\n      <td>...</td>\n      <td>...</td>\n      <td>...</td>\n      <td>...</td>\n      <td>...</td>\n      <td>...</td>\n      <td>...</td>\n      <td>...</td>\n      <td>...</td>\n      <td>...</td>\n      <td>...</td>\n      <td>...</td>\n    </tr>\n    <tr>\n      <th>137</th>\n      <td>Liquidity mining continuation budget</td>\n      <td>QmShiKX75iBo321NKLG9tFFb3EuNM58i8kvWaYLp1HBwCR</td>\n      <td>What do you think is the right amount of UNI t...</td>\n      <td>0.000000e+00</td>\n      <td>1.170465e+03</td>\n      <td>NaN</td>\n      <td>NaN</td>\n      <td>NaN</td>\n      <td>NaN</td>\n      <td>NaN</td>\n      <td>NaN</td>\n      <td>NaN</td>\n      <td>NaN</td>\n      <td>NaN</td>\n      <td>NaN</td>\n      <td>NaN</td>\n      <td>NaN</td>\n    </tr>\n    <tr>\n      <th>138</th>\n      <td>Uniswap Temperature check - [Should we increas...</td>\n      <td>QmZUeeJEoEp4Z1oLzMcXbWJyu4WNvHF9p8uHjz97T5nD3m</td>\n      <td>Voting Delay is the period between when a prop...</td>\n      <td>2.196499e+04</td>\n      <td>2.196499e+04</td>\n      <td>NaN</td>\n      <td>NaN</td>\n      <td>NaN</td>\n      <td>NaN</td>\n      <td>NaN</td>\n      <td>NaN</td>\n      <td>NaN</td>\n      <td>NaN</td>\n      <td>NaN</td>\n      <td>NaN</td>\n      <td>NaN</td>\n      <td>NaN</td>\n    </tr>\n    <tr>\n      <th>139</th>\n      <td>Uniswap Temperature check - [Should we increas...</td>\n      <td>QmZUeeJEoEp4Z1oLzMcXbWJyu4WNvHF9p8uHjz97T5nD3m</td>\n      <td>Voting Delay is the period between when a prop...</td>\n      <td>0.000000e+00</td>\n      <td>2.196499e+04</td>\n      <td>NaN</td>\n      <td>NaN</td>\n      <td>NaN</td>\n      <td>NaN</td>\n      <td>NaN</td>\n      <td>NaN</td>\n      <td>NaN</td>\n      <td>NaN</td>\n      <td>NaN</td>\n      <td>NaN</td>\n      <td>NaN</td>\n      <td>NaN</td>\n    </tr>\n    <tr>\n      <th>140</th>\n      <td>Retroactive Airdrop For Proxy Contract Users (...</td>\n      <td>Qma8KF8jTV3kwBFdjfwE9jvLpPYVMdY6RVS9pJZ6QGEur6</td>\n      <td>Details:\\nhttps://gov.uniswap.org/t/retroactiv...</td>\n      <td>0.000000e+00</td>\n      <td>3.397777e+04</td>\n      <td>NaN</td>\n      <td>NaN</td>\n      <td>NaN</td>\n      <td>NaN</td>\n      <td>NaN</td>\n      <td>NaN</td>\n      <td>NaN</td>\n      <td>NaN</td>\n      <td>NaN</td>\n      <td>NaN</td>\n      <td>NaN</td>\n      <td>NaN</td>\n    </tr>\n    <tr>\n      <th>141</th>\n      <td>Retroactive Airdrop For Proxy Contract Users (...</td>\n      <td>Qma8KF8jTV3kwBFdjfwE9jvLpPYVMdY6RVS9pJZ6QGEur6</td>\n      <td>Details:\\nhttps://gov.uniswap.org/t/retroactiv...</td>\n      <td>3.397777e+04</td>\n      <td>3.397777e+04</td>\n      <td>NaN</td>\n      <td>NaN</td>\n      <td>NaN</td>\n      <td>NaN</td>\n      <td>NaN</td>\n      <td>NaN</td>\n      <td>NaN</td>\n      <td>NaN</td>\n      <td>NaN</td>\n      <td>NaN</td>\n      <td>NaN</td>\n      <td>NaN</td>\n    </tr>\n  </tbody>\n</table>\n<p>142 rows × 17 columns</p>\n</div>"
     },
     "execution_count": 787,
     "metadata": {},
     "output_type": "execute_result"
    }
   ],
   "source": [
    "##let's view the output just to make sure\n",
    "olympus_governance_view"
   ],
   "metadata": {
    "collapsed": false,
    "pycharm": {
     "name": "#%%\n"
    }
   }
  },
  {
   "cell_type": "code",
   "execution_count": 788,
   "outputs": [
    {
     "data": {
      "text/plain": "         DAO                                    proposals_title  \\\n0    uniswap  Temp Check: \"Fee switch\" activation for ETH/US...   \n1    uniswap  Temp Check: \"Fee switch\" activation for ETH/US...   \n2    uniswap  Should Uniswap provide Rage Trade with an addi...   \n3    uniswap  Should Uniswap provide Rage Trade with an addi...   \n4    uniswap  [Consensus Check] - Enable 1bp Fee Tier on Uni...   \n..       ...                                                ...   \n137  uniswap               Liquidity mining continuation budget   \n138  uniswap  Uniswap Temperature check - [Should we increas...   \n139  uniswap  Uniswap Temperature check - [Should we increas...   \n140  uniswap  Retroactive Airdrop For Proxy Contract Users (...   \n141  uniswap  Retroactive Airdrop For Proxy Contract Users (...   \n\n                                          proposals_id  \\\n0    0x4dd49ee723a7e506c6c6c15c8eabc8a7057f3f0760e4...   \n1    0x4dd49ee723a7e506c6c6c15c8eabc8a7057f3f0760e4...   \n2    0x1bf2c3fb48e31f4e006ce6349967088fc726cbf1d151...   \n3    0x1bf2c3fb48e31f4e006ce6349967088fc726cbf1d151...   \n4       QmV8ZeseHEoAcGj51kGaC6gVF2BkL9BHACJDAaQ74uiaJi   \n..                                                 ...   \n137     QmShiKX75iBo321NKLG9tFFb3EuNM58i8kvWaYLp1HBwCR   \n138     QmZUeeJEoEp4Z1oLzMcXbWJyu4WNvHF9p8uHjz97T5nD3m   \n139     QmZUeeJEoEp4Z1oLzMcXbWJyu4WNvHF9p8uHjz97T5nD3m   \n140     Qma8KF8jTV3kwBFdjfwE9jvLpPYVMdY6RVS9pJZ6QGEur6   \n141     Qma8KF8jTV3kwBFdjfwE9jvLpPYVMdY6RVS9pJZ6QGEur6   \n\n                                        proposals_body  proposals_scores  \\\n0    See governance forum for details: https://gov....      3.530507e+06   \n1    See governance forum for details: https://gov....      5.386017e+01   \n2    Authors: [Noodles](https://twitter.com/crypto_...      3.642395e+06   \n3    Authors: [Noodles](https://twitter.com/crypto_...      6.630508e+01   \n4    **Summary**:\\n\\nEnable a 1bp, 1tick fee tier o...      1.162095e+07   \n..                                                 ...               ...   \n137  What do you think is the right amount of UNI t...      0.000000e+00   \n138  Voting Delay is the period between when a prop...      2.196499e+04   \n139  Voting Delay is the period between when a prop...      0.000000e+00   \n140  Details:\\nhttps://gov.uniswap.org/t/retroactiv...      0.000000e+00   \n141  Details:\\nhttps://gov.uniswap.org/t/retroactiv...      3.397777e+04   \n\n     proposals_scores_total     0    1     2     3     4     5     6     7  \\\n0              3.530561e+06   Yes   No  None  None  None  None  None  None   \n1              3.530561e+06   Yes   No  None  None  None  None  None  None   \n2              3.642461e+06   YES   NO  None  None  None  None  None  None   \n3              3.642461e+06  Yes    No  None  None  None  None  None  None   \n4              1.162100e+07   Yes   No  None  None  None  None  None  None   \n..                      ...   ...  ...   ...   ...   ...   ...   ...   ...   \n137            1.170465e+03   NaN  NaN   NaN   NaN   NaN   NaN   NaN   NaN   \n138            2.196499e+04   NaN  NaN   NaN   NaN   NaN   NaN   NaN   NaN   \n139            2.196499e+04   NaN  NaN   NaN   NaN   NaN   NaN   NaN   NaN   \n140            3.397777e+04   NaN  NaN   NaN   NaN   NaN   NaN   NaN   NaN   \n141            3.397777e+04   NaN  NaN   NaN   NaN   NaN   NaN   NaN   NaN   \n\n        8     9    10    11  \n0    None  None  None  None  \n1    None  None  None  None  \n2    None  None  None  None  \n3    None  None  None  None  \n4    None  None  None  None  \n..    ...   ...   ...   ...  \n137   NaN   NaN   NaN   NaN  \n138   NaN   NaN   NaN   NaN  \n139   NaN   NaN   NaN   NaN  \n140   NaN   NaN   NaN   NaN  \n141   NaN   NaN   NaN   NaN  \n\n[142 rows x 18 columns]",
      "text/html": "<div>\n<style scoped>\n    .dataframe tbody tr th:only-of-type {\n        vertical-align: middle;\n    }\n\n    .dataframe tbody tr th {\n        vertical-align: top;\n    }\n\n    .dataframe thead th {\n        text-align: right;\n    }\n</style>\n<table border=\"1\" class=\"dataframe\">\n  <thead>\n    <tr style=\"text-align: right;\">\n      <th></th>\n      <th>DAO</th>\n      <th>proposals_title</th>\n      <th>proposals_id</th>\n      <th>proposals_body</th>\n      <th>proposals_scores</th>\n      <th>proposals_scores_total</th>\n      <th>0</th>\n      <th>1</th>\n      <th>2</th>\n      <th>3</th>\n      <th>4</th>\n      <th>5</th>\n      <th>6</th>\n      <th>7</th>\n      <th>8</th>\n      <th>9</th>\n      <th>10</th>\n      <th>11</th>\n    </tr>\n  </thead>\n  <tbody>\n    <tr>\n      <th>0</th>\n      <td>uniswap</td>\n      <td>Temp Check: \"Fee switch\" activation for ETH/US...</td>\n      <td>0x4dd49ee723a7e506c6c6c15c8eabc8a7057f3f0760e4...</td>\n      <td>See governance forum for details: https://gov....</td>\n      <td>3.530507e+06</td>\n      <td>3.530561e+06</td>\n      <td>Yes</td>\n      <td>No</td>\n      <td>None</td>\n      <td>None</td>\n      <td>None</td>\n      <td>None</td>\n      <td>None</td>\n      <td>None</td>\n      <td>None</td>\n      <td>None</td>\n      <td>None</td>\n      <td>None</td>\n    </tr>\n    <tr>\n      <th>1</th>\n      <td>uniswap</td>\n      <td>Temp Check: \"Fee switch\" activation for ETH/US...</td>\n      <td>0x4dd49ee723a7e506c6c6c15c8eabc8a7057f3f0760e4...</td>\n      <td>See governance forum for details: https://gov....</td>\n      <td>5.386017e+01</td>\n      <td>3.530561e+06</td>\n      <td>Yes</td>\n      <td>No</td>\n      <td>None</td>\n      <td>None</td>\n      <td>None</td>\n      <td>None</td>\n      <td>None</td>\n      <td>None</td>\n      <td>None</td>\n      <td>None</td>\n      <td>None</td>\n      <td>None</td>\n    </tr>\n    <tr>\n      <th>2</th>\n      <td>uniswap</td>\n      <td>Should Uniswap provide Rage Trade with an addi...</td>\n      <td>0x1bf2c3fb48e31f4e006ce6349967088fc726cbf1d151...</td>\n      <td>Authors: [Noodles](https://twitter.com/crypto_...</td>\n      <td>3.642395e+06</td>\n      <td>3.642461e+06</td>\n      <td>YES</td>\n      <td>NO</td>\n      <td>None</td>\n      <td>None</td>\n      <td>None</td>\n      <td>None</td>\n      <td>None</td>\n      <td>None</td>\n      <td>None</td>\n      <td>None</td>\n      <td>None</td>\n      <td>None</td>\n    </tr>\n    <tr>\n      <th>3</th>\n      <td>uniswap</td>\n      <td>Should Uniswap provide Rage Trade with an addi...</td>\n      <td>0x1bf2c3fb48e31f4e006ce6349967088fc726cbf1d151...</td>\n      <td>Authors: [Noodles](https://twitter.com/crypto_...</td>\n      <td>6.630508e+01</td>\n      <td>3.642461e+06</td>\n      <td>Yes</td>\n      <td>No</td>\n      <td>None</td>\n      <td>None</td>\n      <td>None</td>\n      <td>None</td>\n      <td>None</td>\n      <td>None</td>\n      <td>None</td>\n      <td>None</td>\n      <td>None</td>\n      <td>None</td>\n    </tr>\n    <tr>\n      <th>4</th>\n      <td>uniswap</td>\n      <td>[Consensus Check] - Enable 1bp Fee Tier on Uni...</td>\n      <td>QmV8ZeseHEoAcGj51kGaC6gVF2BkL9BHACJDAaQ74uiaJi</td>\n      <td>**Summary**:\\n\\nEnable a 1bp, 1tick fee tier o...</td>\n      <td>1.162095e+07</td>\n      <td>1.162100e+07</td>\n      <td>Yes</td>\n      <td>No</td>\n      <td>None</td>\n      <td>None</td>\n      <td>None</td>\n      <td>None</td>\n      <td>None</td>\n      <td>None</td>\n      <td>None</td>\n      <td>None</td>\n      <td>None</td>\n      <td>None</td>\n    </tr>\n    <tr>\n      <th>...</th>\n      <td>...</td>\n      <td>...</td>\n      <td>...</td>\n      <td>...</td>\n      <td>...</td>\n      <td>...</td>\n      <td>...</td>\n      <td>...</td>\n      <td>...</td>\n      <td>...</td>\n      <td>...</td>\n      <td>...</td>\n      <td>...</td>\n      <td>...</td>\n      <td>...</td>\n      <td>...</td>\n      <td>...</td>\n      <td>...</td>\n    </tr>\n    <tr>\n      <th>137</th>\n      <td>uniswap</td>\n      <td>Liquidity mining continuation budget</td>\n      <td>QmShiKX75iBo321NKLG9tFFb3EuNM58i8kvWaYLp1HBwCR</td>\n      <td>What do you think is the right amount of UNI t...</td>\n      <td>0.000000e+00</td>\n      <td>1.170465e+03</td>\n      <td>NaN</td>\n      <td>NaN</td>\n      <td>NaN</td>\n      <td>NaN</td>\n      <td>NaN</td>\n      <td>NaN</td>\n      <td>NaN</td>\n      <td>NaN</td>\n      <td>NaN</td>\n      <td>NaN</td>\n      <td>NaN</td>\n      <td>NaN</td>\n    </tr>\n    <tr>\n      <th>138</th>\n      <td>uniswap</td>\n      <td>Uniswap Temperature check - [Should we increas...</td>\n      <td>QmZUeeJEoEp4Z1oLzMcXbWJyu4WNvHF9p8uHjz97T5nD3m</td>\n      <td>Voting Delay is the period between when a prop...</td>\n      <td>2.196499e+04</td>\n      <td>2.196499e+04</td>\n      <td>NaN</td>\n      <td>NaN</td>\n      <td>NaN</td>\n      <td>NaN</td>\n      <td>NaN</td>\n      <td>NaN</td>\n      <td>NaN</td>\n      <td>NaN</td>\n      <td>NaN</td>\n      <td>NaN</td>\n      <td>NaN</td>\n      <td>NaN</td>\n    </tr>\n    <tr>\n      <th>139</th>\n      <td>uniswap</td>\n      <td>Uniswap Temperature check - [Should we increas...</td>\n      <td>QmZUeeJEoEp4Z1oLzMcXbWJyu4WNvHF9p8uHjz97T5nD3m</td>\n      <td>Voting Delay is the period between when a prop...</td>\n      <td>0.000000e+00</td>\n      <td>2.196499e+04</td>\n      <td>NaN</td>\n      <td>NaN</td>\n      <td>NaN</td>\n      <td>NaN</td>\n      <td>NaN</td>\n      <td>NaN</td>\n      <td>NaN</td>\n      <td>NaN</td>\n      <td>NaN</td>\n      <td>NaN</td>\n      <td>NaN</td>\n      <td>NaN</td>\n    </tr>\n    <tr>\n      <th>140</th>\n      <td>uniswap</td>\n      <td>Retroactive Airdrop For Proxy Contract Users (...</td>\n      <td>Qma8KF8jTV3kwBFdjfwE9jvLpPYVMdY6RVS9pJZ6QGEur6</td>\n      <td>Details:\\nhttps://gov.uniswap.org/t/retroactiv...</td>\n      <td>0.000000e+00</td>\n      <td>3.397777e+04</td>\n      <td>NaN</td>\n      <td>NaN</td>\n      <td>NaN</td>\n      <td>NaN</td>\n      <td>NaN</td>\n      <td>NaN</td>\n      <td>NaN</td>\n      <td>NaN</td>\n      <td>NaN</td>\n      <td>NaN</td>\n      <td>NaN</td>\n      <td>NaN</td>\n    </tr>\n    <tr>\n      <th>141</th>\n      <td>uniswap</td>\n      <td>Retroactive Airdrop For Proxy Contract Users (...</td>\n      <td>Qma8KF8jTV3kwBFdjfwE9jvLpPYVMdY6RVS9pJZ6QGEur6</td>\n      <td>Details:\\nhttps://gov.uniswap.org/t/retroactiv...</td>\n      <td>3.397777e+04</td>\n      <td>3.397777e+04</td>\n      <td>NaN</td>\n      <td>NaN</td>\n      <td>NaN</td>\n      <td>NaN</td>\n      <td>NaN</td>\n      <td>NaN</td>\n      <td>NaN</td>\n      <td>NaN</td>\n      <td>NaN</td>\n      <td>NaN</td>\n      <td>NaN</td>\n      <td>NaN</td>\n    </tr>\n  </tbody>\n</table>\n<p>142 rows × 18 columns</p>\n</div>"
     },
     "execution_count": 788,
     "metadata": {},
     "output_type": "execute_result"
    }
   ],
   "source": [
    "olympus_governance_view_clean = olympus_governance_view.copy(deep=True)\n",
    "olympus_governance_view_clean.insert(0, 'DAO', spacename)\n",
    "olympus_governance_view_clean"
   ],
   "metadata": {
    "collapsed": false,
    "pycharm": {
     "name": "#%%\n"
    }
   }
  },
  {
   "cell_type": "code",
   "execution_count": 789,
   "outputs": [],
   "source": [
    "path =file+'/'+spacename+'_proposals_table_'+str(date.today().strftime(\"%b-%d-%Y\"))+'_'+str(len(olympus_governance_view))+'_proposals.csv'\n",
    "olympus_governance_view.to_csv(path, index = False)"
   ],
   "metadata": {
    "collapsed": false,
    "pycharm": {
     "name": "#%%\n"
    }
   }
  },
  {
   "cell_type": "code",
   "execution_count": 790,
   "outputs": [
    {
     "data": {
      "text/plain": "142"
     },
     "execution_count": 790,
     "metadata": {},
     "output_type": "execute_result"
    }
   ],
   "source": [
    "total_proposals = len(olympus_governance_view)\n",
    "total_proposals"
   ],
   "metadata": {
    "collapsed": false,
    "pycharm": {
     "name": "#%%\n"
    }
   }
  },
  {
   "cell_type": "code",
   "execution_count": 791,
   "outputs": [],
   "source": [
    "proposal_id = olympus_governance_view.iloc[0,1]"
   ],
   "metadata": {
    "collapsed": false,
    "pycharm": {
     "name": "#%%\n"
    }
   }
  },
  {
   "cell_type": "code",
   "execution_count": 792,
   "outputs": [
    {
     "name": "stdout",
     "output_type": "stream",
     "text": [
      "0x4dd49ee723a7e506c6c6c15c8eabc8a7057f3f0760e44ed2f475d42203c4e3e8\n"
     ]
    }
   ],
   "source": [
    "print(proposal_id)"
   ],
   "metadata": {
    "collapsed": false,
    "pycharm": {
     "name": "#%%\n"
    }
   }
  },
  {
   "cell_type": "code",
   "execution_count": 793,
   "outputs": [],
   "source": [
    "\n",
    "vote_tracker = snapshot.Query.votes(\n",
    "orderBy = 'created',\n",
    "orderDirection='desc',\n",
    "first=10000,\n",
    "where=[\n",
    "  snapshot.Vote.proposal == proposal_id\n",
    "]\n",
    ")"
   ],
   "metadata": {
    "collapsed": false,
    "pycharm": {
     "name": "#%%\n"
    }
   }
  },
  {
   "cell_type": "code",
   "execution_count": 794,
   "outputs": [],
   "source": [
    "voting_snapshots_list = sg.query_df([\n",
    "    vote_tracker.id,\n",
    "    vote_tracker.voter,\n",
    "    vote_tracker.created,\n",
    "    vote_tracker.choice,\n",
    "    vote_tracker.vp\n",
    "])"
   ],
   "metadata": {
    "collapsed": false,
    "pycharm": {
     "name": "#%%\n"
    }
   }
  },
  {
   "cell_type": "code",
   "execution_count": 795,
   "outputs": [
    {
     "data": {
      "text/plain": "                                               votes_id  \\\n0     0x02c9479c775e199a5422bbef61dc04a825ffd87a7379...   \n1     0x13d46d567735b8b2045be04aad193bc6662f3a1765dd...   \n2     0xaf93afeec5b35b247ba379a947cf42c7f15df4107645...   \n3     0xa1e88ad49e938c99d1b043b1a3024200ee1cc463d5f1...   \n4     0xc18ca81d995b87fbfd41570b727d4b47500b2a826ff4...   \n...                                                 ...   \n1739  0x611faacd4751f7ba0572e2e1bf2863705c8f244c74c5...   \n1740  0xdef997d49806251970eff1559b96732301563b310bec...   \n1741  0xe36757e7da9e1afbc0c9e2943dd25d258957a9300624...   \n1742  0x92b2514e6b0d1e81acd86faacffaccc6890b1c39f771...   \n1743  0x8e26ee1d676ad93aa1d1525deeae3f85e099167b3e19...   \n\n                                     votes_voter  votes_created  votes_choice  \\\n0     0x37c99C0Bd9149A9Cd5a3C7C150c604D896786945     1658413741             1   \n1     0xa698A0adFfDF132e3f8F35f3C89c0B9623835090     1658413410             1   \n2     0xDd66f428e43ccAB6bc35486dB866C7F672A7b2BE     1658413335             1   \n3     0x2681b212D98F811804d0cfB526f3F2De376267D7     1658412359             1   \n4     0x2959C374A9331B93FE56D0ab19ae77236Ab4566E     1658412324             1   \n...                                          ...            ...           ...   \n1739  0xcD47fdfD5eec391aD8a7dCd8C3172a0984FecC65     1658193206             1   \n1740  0x92cC5b8de992Bb704AfE270ff7d28930012248FE     1658193190             1   \n1741  0x325e231870461bBAc93202D035EDEf04838F4886     1658193172             1   \n1742  0xaD928e545cf5598802B3c601E04B0CFE6bf6351C     1658191690             1   \n1743  0xd02AE906edc339872b8300020Fc4411c4f4036e1     1658191683             1   \n\n        votes_vp  \n0       1.000000  \n1      10.000000  \n2       1.000000  \n3       0.110000  \n4       0.104919  \n...          ...  \n1739    0.100000  \n1740    0.100000  \n1741    0.510000  \n1742   11.650362  \n1743  250.000000  \n\n[1744 rows x 5 columns]",
      "text/html": "<div>\n<style scoped>\n    .dataframe tbody tr th:only-of-type {\n        vertical-align: middle;\n    }\n\n    .dataframe tbody tr th {\n        vertical-align: top;\n    }\n\n    .dataframe thead th {\n        text-align: right;\n    }\n</style>\n<table border=\"1\" class=\"dataframe\">\n  <thead>\n    <tr style=\"text-align: right;\">\n      <th></th>\n      <th>votes_id</th>\n      <th>votes_voter</th>\n      <th>votes_created</th>\n      <th>votes_choice</th>\n      <th>votes_vp</th>\n    </tr>\n  </thead>\n  <tbody>\n    <tr>\n      <th>0</th>\n      <td>0x02c9479c775e199a5422bbef61dc04a825ffd87a7379...</td>\n      <td>0x37c99C0Bd9149A9Cd5a3C7C150c604D896786945</td>\n      <td>1658413741</td>\n      <td>1</td>\n      <td>1.000000</td>\n    </tr>\n    <tr>\n      <th>1</th>\n      <td>0x13d46d567735b8b2045be04aad193bc6662f3a1765dd...</td>\n      <td>0xa698A0adFfDF132e3f8F35f3C89c0B9623835090</td>\n      <td>1658413410</td>\n      <td>1</td>\n      <td>10.000000</td>\n    </tr>\n    <tr>\n      <th>2</th>\n      <td>0xaf93afeec5b35b247ba379a947cf42c7f15df4107645...</td>\n      <td>0xDd66f428e43ccAB6bc35486dB866C7F672A7b2BE</td>\n      <td>1658413335</td>\n      <td>1</td>\n      <td>1.000000</td>\n    </tr>\n    <tr>\n      <th>3</th>\n      <td>0xa1e88ad49e938c99d1b043b1a3024200ee1cc463d5f1...</td>\n      <td>0x2681b212D98F811804d0cfB526f3F2De376267D7</td>\n      <td>1658412359</td>\n      <td>1</td>\n      <td>0.110000</td>\n    </tr>\n    <tr>\n      <th>4</th>\n      <td>0xc18ca81d995b87fbfd41570b727d4b47500b2a826ff4...</td>\n      <td>0x2959C374A9331B93FE56D0ab19ae77236Ab4566E</td>\n      <td>1658412324</td>\n      <td>1</td>\n      <td>0.104919</td>\n    </tr>\n    <tr>\n      <th>...</th>\n      <td>...</td>\n      <td>...</td>\n      <td>...</td>\n      <td>...</td>\n      <td>...</td>\n    </tr>\n    <tr>\n      <th>1739</th>\n      <td>0x611faacd4751f7ba0572e2e1bf2863705c8f244c74c5...</td>\n      <td>0xcD47fdfD5eec391aD8a7dCd8C3172a0984FecC65</td>\n      <td>1658193206</td>\n      <td>1</td>\n      <td>0.100000</td>\n    </tr>\n    <tr>\n      <th>1740</th>\n      <td>0xdef997d49806251970eff1559b96732301563b310bec...</td>\n      <td>0x92cC5b8de992Bb704AfE270ff7d28930012248FE</td>\n      <td>1658193190</td>\n      <td>1</td>\n      <td>0.100000</td>\n    </tr>\n    <tr>\n      <th>1741</th>\n      <td>0xe36757e7da9e1afbc0c9e2943dd25d258957a9300624...</td>\n      <td>0x325e231870461bBAc93202D035EDEf04838F4886</td>\n      <td>1658193172</td>\n      <td>1</td>\n      <td>0.510000</td>\n    </tr>\n    <tr>\n      <th>1742</th>\n      <td>0x92b2514e6b0d1e81acd86faacffaccc6890b1c39f771...</td>\n      <td>0xaD928e545cf5598802B3c601E04B0CFE6bf6351C</td>\n      <td>1658191690</td>\n      <td>1</td>\n      <td>11.650362</td>\n    </tr>\n    <tr>\n      <th>1743</th>\n      <td>0x8e26ee1d676ad93aa1d1525deeae3f85e099167b3e19...</td>\n      <td>0xd02AE906edc339872b8300020Fc4411c4f4036e1</td>\n      <td>1658191683</td>\n      <td>1</td>\n      <td>250.000000</td>\n    </tr>\n  </tbody>\n</table>\n<p>1744 rows × 5 columns</p>\n</div>"
     },
     "execution_count": 795,
     "metadata": {},
     "output_type": "execute_result"
    }
   ],
   "source": [
    "voting_snapshots_list"
   ],
   "metadata": {
    "collapsed": false,
    "pycharm": {
     "name": "#%%\n"
    }
   }
  },
  {
   "cell_type": "code",
   "execution_count": 796,
   "outputs": [
    {
     "data": {
      "text/plain": "'0x4dd49ee723a7e506c6c6c15c8eabc8a7057f3f0760e44ed2f475d42203c4e3e8'"
     },
     "execution_count": 796,
     "metadata": {},
     "output_type": "execute_result"
    }
   ],
   "source": [
    "voting_snapshots_list['Proposal'] = proposal_id\n",
    "proposal_id"
   ],
   "metadata": {
    "collapsed": false,
    "pycharm": {
     "name": "#%%\n"
    }
   }
  },
  {
   "cell_type": "code",
   "execution_count": 797,
   "outputs": [
    {
     "name": "stdout",
     "output_type": "stream",
     "text": [
      "Progress 50.0 %\n",
      "Progress 100.0 %\n"
     ]
    }
   ],
   "source": [
    "x=0\n",
    "while x <total_proposals:\n",
    "    proposal_id = olympus_governance_view.iloc[x,1]\n",
    "\n",
    "    vote_tracker = snapshot.Query.votes(\n",
    "    orderBy = 'created',\n",
    "    orderDirection='desc',\n",
    "    first=10000,\n",
    "    where=[\n",
    "      snapshot.Vote.proposal == proposal_id\n",
    "    ]\n",
    "    )\n",
    "    voting_snapshots = sg.query_df([\n",
    "    vote_tracker.id,\n",
    "    vote_tracker.voter,\n",
    "    vote_tracker.created,\n",
    "    vote_tracker.choice,\n",
    "    vote_tracker.vp\n",
    "    ])\n",
    "\n",
    "    voting_snapshots['Proposal'] = proposal_id\n",
    "    voting_snapshots_list=pd.concat([voting_snapshots_list, voting_snapshots])\n",
    "\n",
    "    x=x+1\n",
    "    progress = 100*(round(x/total_proposals,4))\n",
    "    ##clear_output(wait=True)\n",
    "    if progress%5==0:\n",
    "        print(\"Progress\",progress,\"%\")"
   ],
   "metadata": {
    "collapsed": false,
    "pycharm": {
     "name": "#%%\n"
    }
   }
  },
  {
   "cell_type": "code",
   "execution_count": 798,
   "outputs": [
    {
     "data": {
      "text/plain": "74403"
     },
     "execution_count": 798,
     "metadata": {},
     "output_type": "execute_result"
    }
   ],
   "source": [
    "len(voting_snapshots_list)"
   ],
   "metadata": {
    "collapsed": false,
    "pycharm": {
     "name": "#%%\n"
    }
   }
  },
  {
   "cell_type": "code",
   "execution_count": 799,
   "outputs": [],
   "source": [
    "path =file+'/'+spacename+'_voting_snapshots_list_'+str(date.today().strftime(\"%b-%d-%Y\"))+'_'+str(len(olympus_governance_view))+'.csv'\n",
    "voting_snapshots_list.to_csv(path, index = False)"
   ],
   "metadata": {
    "collapsed": false,
    "pycharm": {
     "name": "#%%\n"
    }
   }
  },
  {
   "cell_type": "code",
   "execution_count": 800,
   "outputs": [
    {
     "data": {
      "text/plain": "                                                 votes_id  \\\n0       0x02c9479c775e199a5422bbef61dc04a825ffd87a7379...   \n1       0x02c9479c775e199a5422bbef61dc04a825ffd87a7379...   \n2       0x13d46d567735b8b2045be04aad193bc6662f3a1765dd...   \n3       0x13d46d567735b8b2045be04aad193bc6662f3a1765dd...   \n4       0xaf93afeec5b35b247ba379a947cf42c7f15df4107645...   \n...                                                   ...   \n171694     Qmbd4EQycnBKgwDvhFGst4DsJdhhEuEnBcBpoRwghw3wWx   \n171695     QmdEVa16qvFP3xMFTPxMgJG6pJpZW6JuZpNAcz97gthigQ   \n171696     QmdEVa16qvFP3xMFTPxMgJG6pJpZW6JuZpNAcz97gthigQ   \n171697     Qmem3UbzAwcPKFpSCmfhsbgadwXDTDqyQm8Qe6J7SGp6oZ   \n171698     Qmem3UbzAwcPKFpSCmfhsbgadwXDTDqyQm8Qe6J7SGp6oZ   \n\n                                       votes_voter  votes_created  \\\n0       0x37c99C0Bd9149A9Cd5a3C7C150c604D896786945   1.658414e+09   \n1       0x37c99C0Bd9149A9Cd5a3C7C150c604D896786945   1.658414e+09   \n2       0xa698A0adFfDF132e3f8F35f3C89c0B9623835090   1.658413e+09   \n3       0xa698A0adFfDF132e3f8F35f3C89c0B9623835090   1.658413e+09   \n4       0xDd66f428e43ccAB6bc35486dB866C7F672A7b2BE   1.658413e+09   \n...                                            ...            ...   \n171694  0x4F50d47D20380172746527bbeAa274940C38EFAC   1.600829e+09   \n171695  0xf7A06290E3d421fe0afA566d879556034c1B1D02   1.600794e+09   \n171696  0xf7A06290E3d421fe0afA566d879556034c1B1D02   1.600794e+09   \n171697  0x00000583Cf2C6aA7488471fbe12ac7f0DfeB1cDa   1.600767e+09   \n171698  0x00000583Cf2C6aA7488471fbe12ac7f0DfeB1cDa   1.600767e+09   \n\n       votes_choice      votes_vp  \\\n0                 1      1.000000   \n1                 1      1.000000   \n2                 1     10.000000   \n3                 1     10.000000   \n4                 1      1.000000   \n...             ...           ...   \n171694            1      0.000000   \n171695            2      0.000000   \n171696            2      0.000000   \n171697            2  20164.429905   \n171698            2  20164.429905   \n\n                                                 Proposal  \\\n0       0x4dd49ee723a7e506c6c6c15c8eabc8a7057f3f0760e4...   \n1       0x4dd49ee723a7e506c6c6c15c8eabc8a7057f3f0760e4...   \n2       0x4dd49ee723a7e506c6c6c15c8eabc8a7057f3f0760e4...   \n3       0x4dd49ee723a7e506c6c6c15c8eabc8a7057f3f0760e4...   \n4       0x4dd49ee723a7e506c6c6c15c8eabc8a7057f3f0760e4...   \n...                                                   ...   \n171694     Qma8KF8jTV3kwBFdjfwE9jvLpPYVMdY6RVS9pJZ6QGEur6   \n171695     Qma8KF8jTV3kwBFdjfwE9jvLpPYVMdY6RVS9pJZ6QGEur6   \n171696     Qma8KF8jTV3kwBFdjfwE9jvLpPYVMdY6RVS9pJZ6QGEur6   \n171697     Qma8KF8jTV3kwBFdjfwE9jvLpPYVMdY6RVS9pJZ6QGEur6   \n171698     Qma8KF8jTV3kwBFdjfwE9jvLpPYVMdY6RVS9pJZ6QGEur6   \n\n                                          proposals_title  \\\n0       Temp Check: \"Fee switch\" activation for ETH/US...   \n1       Temp Check: \"Fee switch\" activation for ETH/US...   \n2       Temp Check: \"Fee switch\" activation for ETH/US...   \n3       Temp Check: \"Fee switch\" activation for ETH/US...   \n4       Temp Check: \"Fee switch\" activation for ETH/US...   \n...                                                   ...   \n171694  Retroactive Airdrop For Proxy Contract Users (...   \n171695  Retroactive Airdrop For Proxy Contract Users (...   \n171696  Retroactive Airdrop For Proxy Contract Users (...   \n171697  Retroactive Airdrop For Proxy Contract Users (...   \n171698  Retroactive Airdrop For Proxy Contract Users (...   \n\n                                             proposals_id  proposals_scores  \\\n0       0x4dd49ee723a7e506c6c6c15c8eabc8a7057f3f0760e4...      3.530507e+06   \n1       0x4dd49ee723a7e506c6c6c15c8eabc8a7057f3f0760e4...      5.386017e+01   \n2       0x4dd49ee723a7e506c6c6c15c8eabc8a7057f3f0760e4...      3.530507e+06   \n3       0x4dd49ee723a7e506c6c6c15c8eabc8a7057f3f0760e4...      5.386017e+01   \n4       0x4dd49ee723a7e506c6c6c15c8eabc8a7057f3f0760e4...      3.530507e+06   \n...                                                   ...               ...   \n171694     Qma8KF8jTV3kwBFdjfwE9jvLpPYVMdY6RVS9pJZ6QGEur6      3.397777e+04   \n171695     Qma8KF8jTV3kwBFdjfwE9jvLpPYVMdY6RVS9pJZ6QGEur6      0.000000e+00   \n171696     Qma8KF8jTV3kwBFdjfwE9jvLpPYVMdY6RVS9pJZ6QGEur6      3.397777e+04   \n171697     Qma8KF8jTV3kwBFdjfwE9jvLpPYVMdY6RVS9pJZ6QGEur6      0.000000e+00   \n171698     Qma8KF8jTV3kwBFdjfwE9jvLpPYVMdY6RVS9pJZ6QGEur6      3.397777e+04   \n\n        proposals_scores_total  ...     2     3     4     5     6     7     8  \\\n0                 3.530561e+06  ...  None  None  None  None  None  None  None   \n1                 3.530561e+06  ...  None  None  None  None  None  None  None   \n2                 3.530561e+06  ...  None  None  None  None  None  None  None   \n3                 3.530561e+06  ...  None  None  None  None  None  None  None   \n4                 3.530561e+06  ...  None  None  None  None  None  None  None   \n...                        ...  ...   ...   ...   ...   ...   ...   ...   ...   \n171694            3.397777e+04  ...   NaN   NaN   NaN   NaN   NaN   NaN   NaN   \n171695            3.397777e+04  ...   NaN   NaN   NaN   NaN   NaN   NaN   NaN   \n171696            3.397777e+04  ...   NaN   NaN   NaN   NaN   NaN   NaN   NaN   \n171697            3.397777e+04  ...   NaN   NaN   NaN   NaN   NaN   NaN   NaN   \n171698            3.397777e+04  ...   NaN   NaN   NaN   NaN   NaN   NaN   NaN   \n\n           9    10    11  \n0       None  None  None  \n1       None  None  None  \n2       None  None  None  \n3       None  None  None  \n4       None  None  None  \n...      ...   ...   ...  \n171694   NaN   NaN   NaN  \n171695   NaN   NaN   NaN  \n171696   NaN   NaN   NaN  \n171697   NaN   NaN   NaN  \n171698   NaN   NaN   NaN  \n\n[171699 rows x 22 columns]",
      "text/html": "<div>\n<style scoped>\n    .dataframe tbody tr th:only-of-type {\n        vertical-align: middle;\n    }\n\n    .dataframe tbody tr th {\n        vertical-align: top;\n    }\n\n    .dataframe thead th {\n        text-align: right;\n    }\n</style>\n<table border=\"1\" class=\"dataframe\">\n  <thead>\n    <tr style=\"text-align: right;\">\n      <th></th>\n      <th>votes_id</th>\n      <th>votes_voter</th>\n      <th>votes_created</th>\n      <th>votes_choice</th>\n      <th>votes_vp</th>\n      <th>Proposal</th>\n      <th>proposals_title</th>\n      <th>proposals_id</th>\n      <th>proposals_scores</th>\n      <th>proposals_scores_total</th>\n      <th>...</th>\n      <th>2</th>\n      <th>3</th>\n      <th>4</th>\n      <th>5</th>\n      <th>6</th>\n      <th>7</th>\n      <th>8</th>\n      <th>9</th>\n      <th>10</th>\n      <th>11</th>\n    </tr>\n  </thead>\n  <tbody>\n    <tr>\n      <th>0</th>\n      <td>0x02c9479c775e199a5422bbef61dc04a825ffd87a7379...</td>\n      <td>0x37c99C0Bd9149A9Cd5a3C7C150c604D896786945</td>\n      <td>1.658414e+09</td>\n      <td>1</td>\n      <td>1.000000</td>\n      <td>0x4dd49ee723a7e506c6c6c15c8eabc8a7057f3f0760e4...</td>\n      <td>Temp Check: \"Fee switch\" activation for ETH/US...</td>\n      <td>0x4dd49ee723a7e506c6c6c15c8eabc8a7057f3f0760e4...</td>\n      <td>3.530507e+06</td>\n      <td>3.530561e+06</td>\n      <td>...</td>\n      <td>None</td>\n      <td>None</td>\n      <td>None</td>\n      <td>None</td>\n      <td>None</td>\n      <td>None</td>\n      <td>None</td>\n      <td>None</td>\n      <td>None</td>\n      <td>None</td>\n    </tr>\n    <tr>\n      <th>1</th>\n      <td>0x02c9479c775e199a5422bbef61dc04a825ffd87a7379...</td>\n      <td>0x37c99C0Bd9149A9Cd5a3C7C150c604D896786945</td>\n      <td>1.658414e+09</td>\n      <td>1</td>\n      <td>1.000000</td>\n      <td>0x4dd49ee723a7e506c6c6c15c8eabc8a7057f3f0760e4...</td>\n      <td>Temp Check: \"Fee switch\" activation for ETH/US...</td>\n      <td>0x4dd49ee723a7e506c6c6c15c8eabc8a7057f3f0760e4...</td>\n      <td>5.386017e+01</td>\n      <td>3.530561e+06</td>\n      <td>...</td>\n      <td>None</td>\n      <td>None</td>\n      <td>None</td>\n      <td>None</td>\n      <td>None</td>\n      <td>None</td>\n      <td>None</td>\n      <td>None</td>\n      <td>None</td>\n      <td>None</td>\n    </tr>\n    <tr>\n      <th>2</th>\n      <td>0x13d46d567735b8b2045be04aad193bc6662f3a1765dd...</td>\n      <td>0xa698A0adFfDF132e3f8F35f3C89c0B9623835090</td>\n      <td>1.658413e+09</td>\n      <td>1</td>\n      <td>10.000000</td>\n      <td>0x4dd49ee723a7e506c6c6c15c8eabc8a7057f3f0760e4...</td>\n      <td>Temp Check: \"Fee switch\" activation for ETH/US...</td>\n      <td>0x4dd49ee723a7e506c6c6c15c8eabc8a7057f3f0760e4...</td>\n      <td>3.530507e+06</td>\n      <td>3.530561e+06</td>\n      <td>...</td>\n      <td>None</td>\n      <td>None</td>\n      <td>None</td>\n      <td>None</td>\n      <td>None</td>\n      <td>None</td>\n      <td>None</td>\n      <td>None</td>\n      <td>None</td>\n      <td>None</td>\n    </tr>\n    <tr>\n      <th>3</th>\n      <td>0x13d46d567735b8b2045be04aad193bc6662f3a1765dd...</td>\n      <td>0xa698A0adFfDF132e3f8F35f3C89c0B9623835090</td>\n      <td>1.658413e+09</td>\n      <td>1</td>\n      <td>10.000000</td>\n      <td>0x4dd49ee723a7e506c6c6c15c8eabc8a7057f3f0760e4...</td>\n      <td>Temp Check: \"Fee switch\" activation for ETH/US...</td>\n      <td>0x4dd49ee723a7e506c6c6c15c8eabc8a7057f3f0760e4...</td>\n      <td>5.386017e+01</td>\n      <td>3.530561e+06</td>\n      <td>...</td>\n      <td>None</td>\n      <td>None</td>\n      <td>None</td>\n      <td>None</td>\n      <td>None</td>\n      <td>None</td>\n      <td>None</td>\n      <td>None</td>\n      <td>None</td>\n      <td>None</td>\n    </tr>\n    <tr>\n      <th>4</th>\n      <td>0xaf93afeec5b35b247ba379a947cf42c7f15df4107645...</td>\n      <td>0xDd66f428e43ccAB6bc35486dB866C7F672A7b2BE</td>\n      <td>1.658413e+09</td>\n      <td>1</td>\n      <td>1.000000</td>\n      <td>0x4dd49ee723a7e506c6c6c15c8eabc8a7057f3f0760e4...</td>\n      <td>Temp Check: \"Fee switch\" activation for ETH/US...</td>\n      <td>0x4dd49ee723a7e506c6c6c15c8eabc8a7057f3f0760e4...</td>\n      <td>3.530507e+06</td>\n      <td>3.530561e+06</td>\n      <td>...</td>\n      <td>None</td>\n      <td>None</td>\n      <td>None</td>\n      <td>None</td>\n      <td>None</td>\n      <td>None</td>\n      <td>None</td>\n      <td>None</td>\n      <td>None</td>\n      <td>None</td>\n    </tr>\n    <tr>\n      <th>...</th>\n      <td>...</td>\n      <td>...</td>\n      <td>...</td>\n      <td>...</td>\n      <td>...</td>\n      <td>...</td>\n      <td>...</td>\n      <td>...</td>\n      <td>...</td>\n      <td>...</td>\n      <td>...</td>\n      <td>...</td>\n      <td>...</td>\n      <td>...</td>\n      <td>...</td>\n      <td>...</td>\n      <td>...</td>\n      <td>...</td>\n      <td>...</td>\n      <td>...</td>\n      <td>...</td>\n    </tr>\n    <tr>\n      <th>171694</th>\n      <td>Qmbd4EQycnBKgwDvhFGst4DsJdhhEuEnBcBpoRwghw3wWx</td>\n      <td>0x4F50d47D20380172746527bbeAa274940C38EFAC</td>\n      <td>1.600829e+09</td>\n      <td>1</td>\n      <td>0.000000</td>\n      <td>Qma8KF8jTV3kwBFdjfwE9jvLpPYVMdY6RVS9pJZ6QGEur6</td>\n      <td>Retroactive Airdrop For Proxy Contract Users (...</td>\n      <td>Qma8KF8jTV3kwBFdjfwE9jvLpPYVMdY6RVS9pJZ6QGEur6</td>\n      <td>3.397777e+04</td>\n      <td>3.397777e+04</td>\n      <td>...</td>\n      <td>NaN</td>\n      <td>NaN</td>\n      <td>NaN</td>\n      <td>NaN</td>\n      <td>NaN</td>\n      <td>NaN</td>\n      <td>NaN</td>\n      <td>NaN</td>\n      <td>NaN</td>\n      <td>NaN</td>\n    </tr>\n    <tr>\n      <th>171695</th>\n      <td>QmdEVa16qvFP3xMFTPxMgJG6pJpZW6JuZpNAcz97gthigQ</td>\n      <td>0xf7A06290E3d421fe0afA566d879556034c1B1D02</td>\n      <td>1.600794e+09</td>\n      <td>2</td>\n      <td>0.000000</td>\n      <td>Qma8KF8jTV3kwBFdjfwE9jvLpPYVMdY6RVS9pJZ6QGEur6</td>\n      <td>Retroactive Airdrop For Proxy Contract Users (...</td>\n      <td>Qma8KF8jTV3kwBFdjfwE9jvLpPYVMdY6RVS9pJZ6QGEur6</td>\n      <td>0.000000e+00</td>\n      <td>3.397777e+04</td>\n      <td>...</td>\n      <td>NaN</td>\n      <td>NaN</td>\n      <td>NaN</td>\n      <td>NaN</td>\n      <td>NaN</td>\n      <td>NaN</td>\n      <td>NaN</td>\n      <td>NaN</td>\n      <td>NaN</td>\n      <td>NaN</td>\n    </tr>\n    <tr>\n      <th>171696</th>\n      <td>QmdEVa16qvFP3xMFTPxMgJG6pJpZW6JuZpNAcz97gthigQ</td>\n      <td>0xf7A06290E3d421fe0afA566d879556034c1B1D02</td>\n      <td>1.600794e+09</td>\n      <td>2</td>\n      <td>0.000000</td>\n      <td>Qma8KF8jTV3kwBFdjfwE9jvLpPYVMdY6RVS9pJZ6QGEur6</td>\n      <td>Retroactive Airdrop For Proxy Contract Users (...</td>\n      <td>Qma8KF8jTV3kwBFdjfwE9jvLpPYVMdY6RVS9pJZ6QGEur6</td>\n      <td>3.397777e+04</td>\n      <td>3.397777e+04</td>\n      <td>...</td>\n      <td>NaN</td>\n      <td>NaN</td>\n      <td>NaN</td>\n      <td>NaN</td>\n      <td>NaN</td>\n      <td>NaN</td>\n      <td>NaN</td>\n      <td>NaN</td>\n      <td>NaN</td>\n      <td>NaN</td>\n    </tr>\n    <tr>\n      <th>171697</th>\n      <td>Qmem3UbzAwcPKFpSCmfhsbgadwXDTDqyQm8Qe6J7SGp6oZ</td>\n      <td>0x00000583Cf2C6aA7488471fbe12ac7f0DfeB1cDa</td>\n      <td>1.600767e+09</td>\n      <td>2</td>\n      <td>20164.429905</td>\n      <td>Qma8KF8jTV3kwBFdjfwE9jvLpPYVMdY6RVS9pJZ6QGEur6</td>\n      <td>Retroactive Airdrop For Proxy Contract Users (...</td>\n      <td>Qma8KF8jTV3kwBFdjfwE9jvLpPYVMdY6RVS9pJZ6QGEur6</td>\n      <td>0.000000e+00</td>\n      <td>3.397777e+04</td>\n      <td>...</td>\n      <td>NaN</td>\n      <td>NaN</td>\n      <td>NaN</td>\n      <td>NaN</td>\n      <td>NaN</td>\n      <td>NaN</td>\n      <td>NaN</td>\n      <td>NaN</td>\n      <td>NaN</td>\n      <td>NaN</td>\n    </tr>\n    <tr>\n      <th>171698</th>\n      <td>Qmem3UbzAwcPKFpSCmfhsbgadwXDTDqyQm8Qe6J7SGp6oZ</td>\n      <td>0x00000583Cf2C6aA7488471fbe12ac7f0DfeB1cDa</td>\n      <td>1.600767e+09</td>\n      <td>2</td>\n      <td>20164.429905</td>\n      <td>Qma8KF8jTV3kwBFdjfwE9jvLpPYVMdY6RVS9pJZ6QGEur6</td>\n      <td>Retroactive Airdrop For Proxy Contract Users (...</td>\n      <td>Qma8KF8jTV3kwBFdjfwE9jvLpPYVMdY6RVS9pJZ6QGEur6</td>\n      <td>3.397777e+04</td>\n      <td>3.397777e+04</td>\n      <td>...</td>\n      <td>NaN</td>\n      <td>NaN</td>\n      <td>NaN</td>\n      <td>NaN</td>\n      <td>NaN</td>\n      <td>NaN</td>\n      <td>NaN</td>\n      <td>NaN</td>\n      <td>NaN</td>\n      <td>NaN</td>\n    </tr>\n  </tbody>\n</table>\n<p>171699 rows × 22 columns</p>\n</div>"
     },
     "execution_count": 800,
     "metadata": {},
     "output_type": "execute_result"
    }
   ],
   "source": [
    "governance_data = pd.merge(voting_snapshots_list, olympus_governance_view, how='inner', left_on='Proposal', right_on='proposals_id')\n",
    "del governance_data[\"proposals_body\"]\n",
    "governance_data"
   ],
   "metadata": {
    "collapsed": false,
    "pycharm": {
     "name": "#%%\n"
    }
   }
  },
  {
   "cell_type": "code",
   "execution_count": 801,
   "outputs": [],
   "source": [
    "final_file = file+'\\\\'+'final'\n",
    "final_raw_file = final_file"
   ],
   "metadata": {
    "collapsed": false,
    "pycharm": {
     "name": "#%%\n"
    }
   }
  },
  {
   "cell_type": "code",
   "execution_count": 802,
   "outputs": [],
   "source": [
    "os.makedirs(final_raw_file, exist_ok=True)"
   ],
   "metadata": {
    "collapsed": false,
    "pycharm": {
     "name": "#%%\n"
    }
   }
  },
  {
   "cell_type": "code",
   "execution_count": 803,
   "outputs": [],
   "source": [
    "final_path =file+'\\\\'+spacename+'governance_data_'+str(date.today().strftime(\"%b-%d-%Y\"))+'_'+str(len(governance_data))+'.csv'"
   ],
   "metadata": {
    "collapsed": false,
    "pycharm": {
     "name": "#%%\n"
    }
   }
  },
  {
   "cell_type": "code",
   "execution_count": 804,
   "outputs": [],
   "source": [
    "governance_data.to_csv(final_path, index = False)"
   ],
   "metadata": {
    "collapsed": false,
    "pycharm": {
     "name": "#%%\n"
    }
   }
  },
  {
   "cell_type": "code",
   "execution_count": 824,
   "outputs": [
    {
     "data": {
      "text/plain": "       DAO                                           Proposal  \\\n0  uniswap  0x1994d4598b81dbb511bc7068f65a12fdf0ddbf2b26f5...   \n1  uniswap  0x1994d4598b81dbb511bc7068f65a12fdf0ddbf2b26f5...   \n2  uniswap  0x1994d4598b81dbb511bc7068f65a12fdf0ddbf2b26f5...   \n3  uniswap  0x1994d4598b81dbb511bc7068f65a12fdf0ddbf2b26f5...   \n4  uniswap  0x1994d4598b81dbb511bc7068f65a12fdf0ddbf2b26f5...   \n5  uniswap  0x1994d4598b81dbb511bc7068f65a12fdf0ddbf2b26f5...   \n6  uniswap  0x1994d4598b81dbb511bc7068f65a12fdf0ddbf2b26f5...   \n7  uniswap  0x1994d4598b81dbb511bc7068f65a12fdf0ddbf2b26f5...   \n8  uniswap  0x1994d4598b81dbb511bc7068f65a12fdf0ddbf2b26f5...   \n9  uniswap  0x1994d4598b81dbb511bc7068f65a12fdf0ddbf2b26f5...   \n\n                                  votes_voter votes_choice      votes_vp  \\\n0  0x535b3ddD9939056cB6d74D1253Ae1A4Adf5d723A            2  2.500000e+06   \n1  0x7eD52863829AB99354F3a0503A622e82AcD5F7d3            2  5.000000e+05   \n2  0xbDCEe87119265FC0ec27a3113EFC3fBBB90D4D7b            2  8.080145e+03   \n3  0xB72eD8401892466Ea8aF528C1af1d0524bc5e105            1  4.621202e+03   \n4  0x599E0882768b34BeDBC1b8f5A03ED1301FAe359b            1  1.064387e+03   \n5  0x48A9789428F2067338D02B1EF3612DF64F05FeB7            1  1.011889e+03   \n6  0x9997d7120862CEda99aB4a1c43698e0941F87b20            1  1.000500e+03   \n7  0x85c0c09570C955F6e07522E9ad6041716CbBb7fE            1  8.215102e+02   \n8  0x68B8259078d18c43Fb02cBaCe669153c3D5fc479            2  7.611129e+02   \n9  0xF4844a06d4f995C4c03195AfcB5Aa59dCBB5b4Fc            2  6.335968e+02   \n\n   votes_created  cumulative_vp      total_vp  percetange_of_total_vp  \\\n0   1.639680e+09   2.500000e+06  3.023008e+06                0.826991   \n1   1.639856e+09   3.000000e+06  3.023008e+06                0.165398   \n2   1.639805e+09   3.008080e+06  3.023008e+06                0.002673   \n3   1.639600e+09   3.012701e+06  3.023008e+06                0.001529   \n4   1.639623e+09   3.013766e+06  3.023008e+06                0.000352   \n5   1.639578e+09   3.014778e+06  3.023008e+06                0.000335   \n6   1.639637e+09   3.015778e+06  3.023008e+06                0.000331   \n7   1.639563e+09   3.016600e+06  3.023008e+06                0.000272   \n8   1.639867e+09   3.017361e+06  3.023008e+06                0.000252   \n9   1.639863e+09   3.017994e+06  3.023008e+06                0.000210   \n\n   cum_percetange_of_total_vp  proposal_voter_rank  voters_counted  \\\n0                    0.826991                    1               1   \n1                    0.992389                    2               2   \n2                    0.995062                    3               3   \n3                    0.996591                    4               4   \n4                    0.996943                    5               5   \n5                    0.997277                    6               6   \n6                    0.997608                    7               7   \n7                    0.997880                    8               8   \n8                    0.998132                    9               9   \n9                    0.998341                   10              10   \n\n   percentage_voters_counted  \n0                   0.003953  \n1                   0.007905  \n2                   0.011858  \n3                   0.015810  \n4                   0.019763  \n5                   0.023715  \n6                   0.027668  \n7                   0.031621  \n8                   0.035573  \n9                   0.039526  ",
      "text/html": "<div>\n<style scoped>\n    .dataframe tbody tr th:only-of-type {\n        vertical-align: middle;\n    }\n\n    .dataframe tbody tr th {\n        vertical-align: top;\n    }\n\n    .dataframe thead th {\n        text-align: right;\n    }\n</style>\n<table border=\"1\" class=\"dataframe\">\n  <thead>\n    <tr style=\"text-align: right;\">\n      <th></th>\n      <th>DAO</th>\n      <th>Proposal</th>\n      <th>votes_voter</th>\n      <th>votes_choice</th>\n      <th>votes_vp</th>\n      <th>votes_created</th>\n      <th>cumulative_vp</th>\n      <th>total_vp</th>\n      <th>percetange_of_total_vp</th>\n      <th>cum_percetange_of_total_vp</th>\n      <th>proposal_voter_rank</th>\n      <th>voters_counted</th>\n      <th>percentage_voters_counted</th>\n    </tr>\n  </thead>\n  <tbody>\n    <tr>\n      <th>0</th>\n      <td>uniswap</td>\n      <td>0x1994d4598b81dbb511bc7068f65a12fdf0ddbf2b26f5...</td>\n      <td>0x535b3ddD9939056cB6d74D1253Ae1A4Adf5d723A</td>\n      <td>2</td>\n      <td>2.500000e+06</td>\n      <td>1.639680e+09</td>\n      <td>2.500000e+06</td>\n      <td>3.023008e+06</td>\n      <td>0.826991</td>\n      <td>0.826991</td>\n      <td>1</td>\n      <td>1</td>\n      <td>0.003953</td>\n    </tr>\n    <tr>\n      <th>1</th>\n      <td>uniswap</td>\n      <td>0x1994d4598b81dbb511bc7068f65a12fdf0ddbf2b26f5...</td>\n      <td>0x7eD52863829AB99354F3a0503A622e82AcD5F7d3</td>\n      <td>2</td>\n      <td>5.000000e+05</td>\n      <td>1.639856e+09</td>\n      <td>3.000000e+06</td>\n      <td>3.023008e+06</td>\n      <td>0.165398</td>\n      <td>0.992389</td>\n      <td>2</td>\n      <td>2</td>\n      <td>0.007905</td>\n    </tr>\n    <tr>\n      <th>2</th>\n      <td>uniswap</td>\n      <td>0x1994d4598b81dbb511bc7068f65a12fdf0ddbf2b26f5...</td>\n      <td>0xbDCEe87119265FC0ec27a3113EFC3fBBB90D4D7b</td>\n      <td>2</td>\n      <td>8.080145e+03</td>\n      <td>1.639805e+09</td>\n      <td>3.008080e+06</td>\n      <td>3.023008e+06</td>\n      <td>0.002673</td>\n      <td>0.995062</td>\n      <td>3</td>\n      <td>3</td>\n      <td>0.011858</td>\n    </tr>\n    <tr>\n      <th>3</th>\n      <td>uniswap</td>\n      <td>0x1994d4598b81dbb511bc7068f65a12fdf0ddbf2b26f5...</td>\n      <td>0xB72eD8401892466Ea8aF528C1af1d0524bc5e105</td>\n      <td>1</td>\n      <td>4.621202e+03</td>\n      <td>1.639600e+09</td>\n      <td>3.012701e+06</td>\n      <td>3.023008e+06</td>\n      <td>0.001529</td>\n      <td>0.996591</td>\n      <td>4</td>\n      <td>4</td>\n      <td>0.015810</td>\n    </tr>\n    <tr>\n      <th>4</th>\n      <td>uniswap</td>\n      <td>0x1994d4598b81dbb511bc7068f65a12fdf0ddbf2b26f5...</td>\n      <td>0x599E0882768b34BeDBC1b8f5A03ED1301FAe359b</td>\n      <td>1</td>\n      <td>1.064387e+03</td>\n      <td>1.639623e+09</td>\n      <td>3.013766e+06</td>\n      <td>3.023008e+06</td>\n      <td>0.000352</td>\n      <td>0.996943</td>\n      <td>5</td>\n      <td>5</td>\n      <td>0.019763</td>\n    </tr>\n    <tr>\n      <th>5</th>\n      <td>uniswap</td>\n      <td>0x1994d4598b81dbb511bc7068f65a12fdf0ddbf2b26f5...</td>\n      <td>0x48A9789428F2067338D02B1EF3612DF64F05FeB7</td>\n      <td>1</td>\n      <td>1.011889e+03</td>\n      <td>1.639578e+09</td>\n      <td>3.014778e+06</td>\n      <td>3.023008e+06</td>\n      <td>0.000335</td>\n      <td>0.997277</td>\n      <td>6</td>\n      <td>6</td>\n      <td>0.023715</td>\n    </tr>\n    <tr>\n      <th>6</th>\n      <td>uniswap</td>\n      <td>0x1994d4598b81dbb511bc7068f65a12fdf0ddbf2b26f5...</td>\n      <td>0x9997d7120862CEda99aB4a1c43698e0941F87b20</td>\n      <td>1</td>\n      <td>1.000500e+03</td>\n      <td>1.639637e+09</td>\n      <td>3.015778e+06</td>\n      <td>3.023008e+06</td>\n      <td>0.000331</td>\n      <td>0.997608</td>\n      <td>7</td>\n      <td>7</td>\n      <td>0.027668</td>\n    </tr>\n    <tr>\n      <th>7</th>\n      <td>uniswap</td>\n      <td>0x1994d4598b81dbb511bc7068f65a12fdf0ddbf2b26f5...</td>\n      <td>0x85c0c09570C955F6e07522E9ad6041716CbBb7fE</td>\n      <td>1</td>\n      <td>8.215102e+02</td>\n      <td>1.639563e+09</td>\n      <td>3.016600e+06</td>\n      <td>3.023008e+06</td>\n      <td>0.000272</td>\n      <td>0.997880</td>\n      <td>8</td>\n      <td>8</td>\n      <td>0.031621</td>\n    </tr>\n    <tr>\n      <th>8</th>\n      <td>uniswap</td>\n      <td>0x1994d4598b81dbb511bc7068f65a12fdf0ddbf2b26f5...</td>\n      <td>0x68B8259078d18c43Fb02cBaCe669153c3D5fc479</td>\n      <td>2</td>\n      <td>7.611129e+02</td>\n      <td>1.639867e+09</td>\n      <td>3.017361e+06</td>\n      <td>3.023008e+06</td>\n      <td>0.000252</td>\n      <td>0.998132</td>\n      <td>9</td>\n      <td>9</td>\n      <td>0.035573</td>\n    </tr>\n    <tr>\n      <th>9</th>\n      <td>uniswap</td>\n      <td>0x1994d4598b81dbb511bc7068f65a12fdf0ddbf2b26f5...</td>\n      <td>0xF4844a06d4f995C4c03195AfcB5Aa59dCBB5b4Fc</td>\n      <td>2</td>\n      <td>6.335968e+02</td>\n      <td>1.639863e+09</td>\n      <td>3.017994e+06</td>\n      <td>3.023008e+06</td>\n      <td>0.000210</td>\n      <td>0.998341</td>\n      <td>10</td>\n      <td>10</td>\n      <td>0.039526</td>\n    </tr>\n  </tbody>\n</table>\n</div>"
     },
     "execution_count": 824,
     "metadata": {},
     "output_type": "execute_result"
    }
   ],
   "source": [
    "crunch_data = db.query(\"select \"\n",
    "                           \"Proposal\"\n",
    "                           \",votes_voter \"\n",
    "                           \",votes_choice\"\n",
    "                           \",votes_vp\"\n",
    "                           \",votes_created\"\n",
    "                           \",sum(votes_vp) over (Partition by Proposal  order by votes_vp desc, votes_created asc) as cumulative_vp\"\n",
    "                           \",sum(votes_vp) over (Partition by Proposal) as total_vp\"\n",
    "                           \",(votes_vp::decimal/sum(votes_vp::decimal) over (Partition by Proposal)) as percetange_of_total_vp \"\n",
    "                           \",((sum(votes_vp) over (Partition by Proposal  order by votes_vp desc, votes_created asc))::decimal/sum(votes_vp::decimal) over (Partition by Proposal)) as cum_percetange_of_total_vp \"\n",
    "                           \",row_number() over (Partition by Proposal order by votes_vp desc, votes_created asc) as proposal_voter_rank \"\n",
    "                           \",count(votes_voter) over (Partition by Proposal  order by votes_vp desc, votes_created asc) voters_counted \"\n",
    "                           \",(count(*) over (Partition by Proposal  order by votes_vp desc, votes_created asc))::decimal/(count(*) over (Partition by Proposal))::decimal percentage_voters_counted \"\n",
    "                       \"from \"\n",
    "                       \"    governance_data  \"\n",
    "                       \"\"\n",
    "                       \"Group by \"\n",
    "                       \"    Proposal\"\n",
    "                       \"    ,votes_voter\"\n",
    "                       \"    ,votes_choice\"\n",
    "                       \"    , votes_vp \"\n",
    "                       \"    , votes_created \"\n",
    "                       \"\"\n",
    "                       \"Order by \"\n",
    "                       \"    Proposal, \"\n",
    "                       \"    votes_vp desc \"\n",
    "                       \"    , votes_created asc\"\n",
    "                       \"\").df()\n",
    "\n",
    "\n",
    "crunch_data.insert(0, 'DAO', spacename)\n",
    "crunch_data.head(n=10)"
   ],
   "metadata": {
    "collapsed": false,
    "pycharm": {
     "name": "#%%\n"
    }
   }
  },
  {
   "cell_type": "code",
   "execution_count": 826,
   "outputs": [],
   "source": [
    "##spit out the file!\n",
    "crunch_data_path =final_file+'\\\\'+spacename+'_crunch_data_path'+str(date.today().strftime(\"%b-%d-%Y\"))+'_'+str(len(crunch_data))+'.csv'\n",
    "\n",
    "crunch_data.to_csv(crunch_data_path, index = False)"
   ],
   "metadata": {
    "collapsed": false,
    "pycharm": {
     "name": "#%%\n"
    }
   }
  },
  {
   "cell_type": "code",
   "execution_count": 807,
   "outputs": [
    {
     "name": "stdout",
     "output_type": "stream",
     "text": [
      "done\n"
     ]
    }
   ],
   "source": [
    "print('done')"
   ],
   "metadata": {
    "collapsed": false,
    "pycharm": {
     "name": "#%%\n"
    }
   }
  }
 ],
 "metadata": {
  "kernelspec": {
   "display_name": "Python 3",
   "language": "python",
   "name": "python3"
  },
  "language_info": {
   "codemirror_mode": {
    "name": "ipython",
    "version": 2
   },
   "file_extension": ".py",
   "mimetype": "text/x-python",
   "name": "python",
   "nbconvert_exporter": "python",
   "pygments_lexer": "ipython2",
   "version": "2.7.6"
  }
 },
 "nbformat": 4,
 "nbformat_minor": 0
}