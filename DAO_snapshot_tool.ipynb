{
 "cells": [
  {
   "cell_type": "code",
   "execution_count": 49,
   "outputs": [],
   "source": [
    "from datetime import datetime\n",
    "from datetime import date\n",
    "from subgrounds.subgraph import SyntheticField, FieldPath\n",
    "from subgrounds.subgrounds import Subgrounds\n",
    "import math\n",
    "import pandas as pd"
   ],
   "metadata": {
    "collapsed": false,
    "pycharm": {
     "name": "#%%\n"
    }
   }
  },
  {
   "cell_type": "code",
   "execution_count": 50,
   "outputs": [],
   "source": [
    "sg = Subgrounds()\n",
    "snapshot = sg.load_api('https://hub.snapshot.org/graphql')"
   ],
   "metadata": {
    "collapsed": false,
    "pycharm": {
     "name": "#%%\n"
    }
   }
  },
  {
   "cell_type": "markdown",
   "source": [
    "global file\n",
    "file = input('Selet a folder') ##enter your file path here - the file is in the repo \"summary_stats.csv\".\n",
    "##file"
   ],
   "metadata": {
    "collapsed": false,
    "pycharm": {
     "name": "#%% md\n"
    }
   }
  },
  {
   "cell_type": "code",
   "execution_count": 51,
   "outputs": [],
   "source": [
    "snapshot.Proposal.datetime = SyntheticField(\n",
    "  lambda timestamp: str(datetime.fromtimestamp(timestamp)),\n",
    "  SyntheticField.STRING,\n",
    "  snapshot.Proposal.end,\n",
    ")"
   ],
   "metadata": {
    "collapsed": false,
    "pycharm": {
     "name": "#%%\n"
    }
   }
  },
  {
   "cell_type": "code",
   "execution_count": 52,
   "outputs": [],
   "source": [
    "spacename = input('spacename plz?')\n",
    "proposals = snapshot.Query.proposals(\n",
    "  orderBy='created',\n",
    "  orderDirection='desc',\n",
    "  first=10000,\n",
    "  where=[\n",
    "    snapshot.Proposal.space == spacename, ##'fuse.eth',\n",
    "    snapshot.Proposal.state == 'closed'\n",
    "    ##snapshot.Proposal.title == 'OIP-18: Reward rate framework and reduction',\n",
    "  ]\n",
    ")"
   ],
   "metadata": {
    "collapsed": false,
    "pycharm": {
     "name": "#%%\n"
    }
   }
  },
  {
   "cell_type": "code",
   "execution_count": 53,
   "outputs": [],
   "source": [
    "proposals_snapshots = sg.query_df([\n",
    "    proposals.title,\n",
    "    proposals.id,\n",
    "    proposals.body,\n",
    "    proposals.scores,\n",
    "    proposals.scores_total\n",
    "])"
   ],
   "metadata": {
    "collapsed": false,
    "pycharm": {
     "name": "#%%\n"
    }
   }
  },
  {
   "cell_type": "code",
   "execution_count": 54,
   "outputs": [],
   "source": [
    "proposals_choices = sg.query(proposals.choices)"
   ],
   "metadata": {
    "collapsed": false,
    "pycharm": {
     "name": "#%%\n"
    }
   }
  },
  {
   "cell_type": "code",
   "execution_count": 55,
   "outputs": [],
   "source": [
    "proposals_choices = pd.DataFrame(proposals_choices)\n",
    "##proposals_choices = pd.DataFrame(proposals_choices, columns = ['option_1', 'option_2', 'option_3', 'option_4', 'option_5','option_6','option_7','option_8','option_9','option_10','option_11','option_12','option_13','option_14','option_15','option_16','option_17','option_18','option_19','option_20','option_21','option_22'])"
   ],
   "metadata": {
    "collapsed": false,
    "pycharm": {
     "name": "#%%\n"
    }
   }
  },
  {
   "cell_type": "code",
   "execution_count": 56,
   "outputs": [],
   "source": [
    "olympus_governance_view = pd.concat([proposals_snapshots,proposals_choices], axis=1)"
   ],
   "metadata": {
    "collapsed": false,
    "pycharm": {
     "name": "#%%\n"
    }
   }
  },
  {
   "cell_type": "code",
   "execution_count": 57,
   "outputs": [
    {
     "data": {
      "text/plain": "                                       proposals_title  \\\n0                 SushiGuardRouterV01 [Implementation]   \n1                 SushiGuardRouterV01 [Implementation]   \n2                 SushiGuardRouterV01 [Implementation]   \n3     SushiHouse Funds Redemption Pt2 [Implementation]   \n4     SushiHouse Funds Redemption Pt2 [Implementation]   \n..                                                 ...   \n553   SIP-2: Adjust Reward Weight for USDT-ETH LP P...   \n554  SIP-1 (The right one): Adjust Reward Weight fo...   \n555  SIP-1 (The right one): Adjust Reward Weight fo...   \n556  SIP-1 (The right one): Adjust Reward Weight fo...   \n557  SIP-1 (The right one): Adjust Reward Weight fo...   \n\n                                          proposals_id  \\\n0    bafkreigjjhjx2j2b526d3poeg23w2xan4rcgnzvcxinss...   \n1    bafkreigjjhjx2j2b526d3poeg23w2xan4rcgnzvcxinss...   \n2    bafkreigjjhjx2j2b526d3poeg23w2xan4rcgnzvcxinss...   \n3       QmeoNQXWU7Uam1SYYLwT7pjnTbtU3qy81PEAcgdeHYkvuq   \n4       QmeoNQXWU7Uam1SYYLwT7pjnTbtU3qy81PEAcgdeHYkvuq   \n..                                                 ...   \n553     QmNzRjiNUrUsteNFrc8BVXVQwB36cRE1H34pAgY1ivi8rh   \n554     Qmbh9K9F3xtHBXoScfk6m6hiFRsGBM4D8GZWbvdGJPaA6z   \n555     Qmbh9K9F3xtHBXoScfk6m6hiFRsGBM4D8GZWbvdGJPaA6z   \n556     Qmbh9K9F3xtHBXoScfk6m6hiFRsGBM4D8GZWbvdGJPaA6z   \n557     Qmbh9K9F3xtHBXoScfk6m6hiFRsGBM4D8GZWbvdGJPaA6z   \n\n                                        proposals_body  proposals_scores  \\\n0    This proposal's expectation is to produce an i...      5.952654e+06   \n1    This proposal's expectation is to produce an i...      4.674683e+02   \n2    This proposal's expectation is to produce an i...      1.237604e+03   \n3    This proposal's expectation is to produce an i...      3.164903e+06   \n4    This proposal's expectation is to produce an i...      4.490050e+06   \n..                                                 ...               ...   \n553   ## SIP-2: (7-day vol: ~185M) Adjust Reward We...      7.400018e+04   \n554  ## SIP-1: Adjust Reward Weight for SUSHI-ETH L...      4.028284e+03   \n555  ## SIP-1: Adjust Reward Weight for SUSHI-ETH L...      5.669331e+03   \n556  ## SIP-1: Adjust Reward Weight for SUSHI-ETH L...      2.062965e+04   \n557  ## SIP-1: Adjust Reward Weight for SUSHI-ETH L...      1.859495e+05   \n\n     proposals_scores_total                        0  \\\n0              5.954359e+06                      Yay   \n1              5.954359e+06  Yay (Sell into Stables)   \n2              5.954359e+06      Yay (Redeem tokens)   \n3              7.655330e+06                      Yay   \n4              7.655330e+06                      Yay   \n..                      ...                      ...   \n553            2.451209e+05                      NaN   \n554            2.162767e+05                      NaN   \n555            2.162767e+05                      NaN   \n556            2.162767e+05                      NaN   \n557            2.162767e+05                      NaN   \n\n                            1        2     3     4  ...    10    11    12  \\\n0                         Nay  Abstain  None  None  ...  None  None  None   \n1            Nay (Keep as Is)  Abstain  None  None  ...  None  None  None   \n2    Nay (Keep in SushiHouse)  Abstain  None  None  ...  None  None  None   \n3                         Nay  Abstain  None  None  ...  None  None  None   \n4                         Nay  Abstain  None  None  ...  None  None  None   \n..                        ...      ...   ...   ...  ...   ...   ...   ...   \n553                       NaN      NaN   NaN   NaN  ...   NaN   NaN   NaN   \n554                       NaN      NaN   NaN   NaN  ...   NaN   NaN   NaN   \n555                       NaN      NaN   NaN   NaN  ...   NaN   NaN   NaN   \n556                       NaN      NaN   NaN   NaN  ...   NaN   NaN   NaN   \n557                       NaN      NaN   NaN   NaN  ...   NaN   NaN   NaN   \n\n       13    14    15    16    17    18    19  \n0    None  None  None  None  None  None  None  \n1    None  None  None  None  None  None  None  \n2    None  None  None  None  None  None  None  \n3    None  None  None  None  None  None  None  \n4    None  None  None  None  None  None  None  \n..    ...   ...   ...   ...   ...   ...   ...  \n553   NaN   NaN   NaN   NaN   NaN   NaN   NaN  \n554   NaN   NaN   NaN   NaN   NaN   NaN   NaN  \n555   NaN   NaN   NaN   NaN   NaN   NaN   NaN  \n556   NaN   NaN   NaN   NaN   NaN   NaN   NaN  \n557   NaN   NaN   NaN   NaN   NaN   NaN   NaN  \n\n[558 rows x 25 columns]",
      "text/html": "<div>\n<style scoped>\n    .dataframe tbody tr th:only-of-type {\n        vertical-align: middle;\n    }\n\n    .dataframe tbody tr th {\n        vertical-align: top;\n    }\n\n    .dataframe thead th {\n        text-align: right;\n    }\n</style>\n<table border=\"1\" class=\"dataframe\">\n  <thead>\n    <tr style=\"text-align: right;\">\n      <th></th>\n      <th>proposals_title</th>\n      <th>proposals_id</th>\n      <th>proposals_body</th>\n      <th>proposals_scores</th>\n      <th>proposals_scores_total</th>\n      <th>0</th>\n      <th>1</th>\n      <th>2</th>\n      <th>3</th>\n      <th>4</th>\n      <th>...</th>\n      <th>10</th>\n      <th>11</th>\n      <th>12</th>\n      <th>13</th>\n      <th>14</th>\n      <th>15</th>\n      <th>16</th>\n      <th>17</th>\n      <th>18</th>\n      <th>19</th>\n    </tr>\n  </thead>\n  <tbody>\n    <tr>\n      <th>0</th>\n      <td>SushiGuardRouterV01 [Implementation]</td>\n      <td>bafkreigjjhjx2j2b526d3poeg23w2xan4rcgnzvcxinss...</td>\n      <td>This proposal's expectation is to produce an i...</td>\n      <td>5.952654e+06</td>\n      <td>5.954359e+06</td>\n      <td>Yay</td>\n      <td>Nay</td>\n      <td>Abstain</td>\n      <td>None</td>\n      <td>None</td>\n      <td>...</td>\n      <td>None</td>\n      <td>None</td>\n      <td>None</td>\n      <td>None</td>\n      <td>None</td>\n      <td>None</td>\n      <td>None</td>\n      <td>None</td>\n      <td>None</td>\n      <td>None</td>\n    </tr>\n    <tr>\n      <th>1</th>\n      <td>SushiGuardRouterV01 [Implementation]</td>\n      <td>bafkreigjjhjx2j2b526d3poeg23w2xan4rcgnzvcxinss...</td>\n      <td>This proposal's expectation is to produce an i...</td>\n      <td>4.674683e+02</td>\n      <td>5.954359e+06</td>\n      <td>Yay (Sell into Stables)</td>\n      <td>Nay (Keep as Is)</td>\n      <td>Abstain</td>\n      <td>None</td>\n      <td>None</td>\n      <td>...</td>\n      <td>None</td>\n      <td>None</td>\n      <td>None</td>\n      <td>None</td>\n      <td>None</td>\n      <td>None</td>\n      <td>None</td>\n      <td>None</td>\n      <td>None</td>\n      <td>None</td>\n    </tr>\n    <tr>\n      <th>2</th>\n      <td>SushiGuardRouterV01 [Implementation]</td>\n      <td>bafkreigjjhjx2j2b526d3poeg23w2xan4rcgnzvcxinss...</td>\n      <td>This proposal's expectation is to produce an i...</td>\n      <td>1.237604e+03</td>\n      <td>5.954359e+06</td>\n      <td>Yay (Redeem tokens)</td>\n      <td>Nay (Keep in SushiHouse)</td>\n      <td>Abstain</td>\n      <td>None</td>\n      <td>None</td>\n      <td>...</td>\n      <td>None</td>\n      <td>None</td>\n      <td>None</td>\n      <td>None</td>\n      <td>None</td>\n      <td>None</td>\n      <td>None</td>\n      <td>None</td>\n      <td>None</td>\n      <td>None</td>\n    </tr>\n    <tr>\n      <th>3</th>\n      <td>SushiHouse Funds Redemption Pt2 [Implementation]</td>\n      <td>QmeoNQXWU7Uam1SYYLwT7pjnTbtU3qy81PEAcgdeHYkvuq</td>\n      <td>This proposal's expectation is to produce an i...</td>\n      <td>3.164903e+06</td>\n      <td>7.655330e+06</td>\n      <td>Yay</td>\n      <td>Nay</td>\n      <td>Abstain</td>\n      <td>None</td>\n      <td>None</td>\n      <td>...</td>\n      <td>None</td>\n      <td>None</td>\n      <td>None</td>\n      <td>None</td>\n      <td>None</td>\n      <td>None</td>\n      <td>None</td>\n      <td>None</td>\n      <td>None</td>\n      <td>None</td>\n    </tr>\n    <tr>\n      <th>4</th>\n      <td>SushiHouse Funds Redemption Pt2 [Implementation]</td>\n      <td>QmeoNQXWU7Uam1SYYLwT7pjnTbtU3qy81PEAcgdeHYkvuq</td>\n      <td>This proposal's expectation is to produce an i...</td>\n      <td>4.490050e+06</td>\n      <td>7.655330e+06</td>\n      <td>Yay</td>\n      <td>Nay</td>\n      <td>Abstain</td>\n      <td>None</td>\n      <td>None</td>\n      <td>...</td>\n      <td>None</td>\n      <td>None</td>\n      <td>None</td>\n      <td>None</td>\n      <td>None</td>\n      <td>None</td>\n      <td>None</td>\n      <td>None</td>\n      <td>None</td>\n      <td>None</td>\n    </tr>\n    <tr>\n      <th>...</th>\n      <td>...</td>\n      <td>...</td>\n      <td>...</td>\n      <td>...</td>\n      <td>...</td>\n      <td>...</td>\n      <td>...</td>\n      <td>...</td>\n      <td>...</td>\n      <td>...</td>\n      <td>...</td>\n      <td>...</td>\n      <td>...</td>\n      <td>...</td>\n      <td>...</td>\n      <td>...</td>\n      <td>...</td>\n      <td>...</td>\n      <td>...</td>\n      <td>...</td>\n      <td>...</td>\n    </tr>\n    <tr>\n      <th>553</th>\n      <td>SIP-2: Adjust Reward Weight for USDT-ETH LP P...</td>\n      <td>QmNzRjiNUrUsteNFrc8BVXVQwB36cRE1H34pAgY1ivi8rh</td>\n      <td>## SIP-2: (7-day vol: ~185M) Adjust Reward We...</td>\n      <td>7.400018e+04</td>\n      <td>2.451209e+05</td>\n      <td>NaN</td>\n      <td>NaN</td>\n      <td>NaN</td>\n      <td>NaN</td>\n      <td>NaN</td>\n      <td>...</td>\n      <td>NaN</td>\n      <td>NaN</td>\n      <td>NaN</td>\n      <td>NaN</td>\n      <td>NaN</td>\n      <td>NaN</td>\n      <td>NaN</td>\n      <td>NaN</td>\n      <td>NaN</td>\n      <td>NaN</td>\n    </tr>\n    <tr>\n      <th>554</th>\n      <td>SIP-1 (The right one): Adjust Reward Weight fo...</td>\n      <td>Qmbh9K9F3xtHBXoScfk6m6hiFRsGBM4D8GZWbvdGJPaA6z</td>\n      <td>## SIP-1: Adjust Reward Weight for SUSHI-ETH L...</td>\n      <td>4.028284e+03</td>\n      <td>2.162767e+05</td>\n      <td>NaN</td>\n      <td>NaN</td>\n      <td>NaN</td>\n      <td>NaN</td>\n      <td>NaN</td>\n      <td>...</td>\n      <td>NaN</td>\n      <td>NaN</td>\n      <td>NaN</td>\n      <td>NaN</td>\n      <td>NaN</td>\n      <td>NaN</td>\n      <td>NaN</td>\n      <td>NaN</td>\n      <td>NaN</td>\n      <td>NaN</td>\n    </tr>\n    <tr>\n      <th>555</th>\n      <td>SIP-1 (The right one): Adjust Reward Weight fo...</td>\n      <td>Qmbh9K9F3xtHBXoScfk6m6hiFRsGBM4D8GZWbvdGJPaA6z</td>\n      <td>## SIP-1: Adjust Reward Weight for SUSHI-ETH L...</td>\n      <td>5.669331e+03</td>\n      <td>2.162767e+05</td>\n      <td>NaN</td>\n      <td>NaN</td>\n      <td>NaN</td>\n      <td>NaN</td>\n      <td>NaN</td>\n      <td>...</td>\n      <td>NaN</td>\n      <td>NaN</td>\n      <td>NaN</td>\n      <td>NaN</td>\n      <td>NaN</td>\n      <td>NaN</td>\n      <td>NaN</td>\n      <td>NaN</td>\n      <td>NaN</td>\n      <td>NaN</td>\n    </tr>\n    <tr>\n      <th>556</th>\n      <td>SIP-1 (The right one): Adjust Reward Weight fo...</td>\n      <td>Qmbh9K9F3xtHBXoScfk6m6hiFRsGBM4D8GZWbvdGJPaA6z</td>\n      <td>## SIP-1: Adjust Reward Weight for SUSHI-ETH L...</td>\n      <td>2.062965e+04</td>\n      <td>2.162767e+05</td>\n      <td>NaN</td>\n      <td>NaN</td>\n      <td>NaN</td>\n      <td>NaN</td>\n      <td>NaN</td>\n      <td>...</td>\n      <td>NaN</td>\n      <td>NaN</td>\n      <td>NaN</td>\n      <td>NaN</td>\n      <td>NaN</td>\n      <td>NaN</td>\n      <td>NaN</td>\n      <td>NaN</td>\n      <td>NaN</td>\n      <td>NaN</td>\n    </tr>\n    <tr>\n      <th>557</th>\n      <td>SIP-1 (The right one): Adjust Reward Weight fo...</td>\n      <td>Qmbh9K9F3xtHBXoScfk6m6hiFRsGBM4D8GZWbvdGJPaA6z</td>\n      <td>## SIP-1: Adjust Reward Weight for SUSHI-ETH L...</td>\n      <td>1.859495e+05</td>\n      <td>2.162767e+05</td>\n      <td>NaN</td>\n      <td>NaN</td>\n      <td>NaN</td>\n      <td>NaN</td>\n      <td>NaN</td>\n      <td>...</td>\n      <td>NaN</td>\n      <td>NaN</td>\n      <td>NaN</td>\n      <td>NaN</td>\n      <td>NaN</td>\n      <td>NaN</td>\n      <td>NaN</td>\n      <td>NaN</td>\n      <td>NaN</td>\n      <td>NaN</td>\n    </tr>\n  </tbody>\n</table>\n<p>558 rows × 25 columns</p>\n</div>"
     },
     "execution_count": 57,
     "metadata": {},
     "output_type": "execute_result"
    }
   ],
   "source": [
    "##let's view the output just to make sure\n",
    "olympus_governance_view"
   ],
   "metadata": {
    "collapsed": false,
    "pycharm": {
     "name": "#%%\n"
    }
   }
  },
  {
   "cell_type": "code",
   "execution_count": 58,
   "outputs": [],
   "source": [
    "path =file+'/'+spacename+'_proposals_table_'+str(date.today().strftime(\"%b-%d-%Y\"))+'_'+str(len(olympus_governance_view))+'_proposals.csv'\n",
    "olympus_governance_view.to_csv(path, index = False)"
   ],
   "metadata": {
    "collapsed": false,
    "pycharm": {
     "name": "#%%\n"
    }
   }
  },
  {
   "cell_type": "code",
   "execution_count": 59,
   "outputs": [
    {
     "data": {
      "text/plain": "558"
     },
     "execution_count": 59,
     "metadata": {},
     "output_type": "execute_result"
    }
   ],
   "source": [
    "total_proposals = len(olympus_governance_view)\n",
    "total_proposals"
   ],
   "metadata": {
    "collapsed": false,
    "pycharm": {
     "name": "#%%\n"
    }
   }
  },
  {
   "cell_type": "code",
   "execution_count": 60,
   "outputs": [],
   "source": [
    "proposal_id = olympus_governance_view.iloc[0,1]"
   ],
   "metadata": {
    "collapsed": false,
    "pycharm": {
     "name": "#%%\n"
    }
   }
  },
  {
   "cell_type": "code",
   "execution_count": 61,
   "outputs": [
    {
     "name": "stdout",
     "output_type": "stream",
     "text": [
      "bafkreigjjhjx2j2b526d3poeg23w2xan4rcgnzvcxinsssv7n37lu5p7s4\n"
     ]
    }
   ],
   "source": [
    "print(proposal_id)"
   ],
   "metadata": {
    "collapsed": false,
    "pycharm": {
     "name": "#%%\n"
    }
   }
  },
  {
   "cell_type": "code",
   "execution_count": 62,
   "outputs": [],
   "source": [
    "\n",
    "vote_tracker = snapshot.Query.votes(\n",
    "orderBy = 'created',\n",
    "orderDirection='desc',\n",
    "first=10000,\n",
    "where=[\n",
    "  snapshot.Vote.proposal == proposal_id\n",
    "]\n",
    ")"
   ],
   "metadata": {
    "collapsed": false,
    "pycharm": {
     "name": "#%%\n"
    }
   }
  },
  {
   "cell_type": "code",
   "execution_count": 63,
   "outputs": [],
   "source": [
    "voting_snapshots_list = sg.query_df([\n",
    "    vote_tracker.id,\n",
    "    vote_tracker.voter,\n",
    "    vote_tracker.created,\n",
    "    vote_tracker.choice,\n",
    "    vote_tracker.vp\n",
    "])"
   ],
   "metadata": {
    "collapsed": false,
    "pycharm": {
     "name": "#%%\n"
    }
   }
  },
  {
   "cell_type": "code",
   "execution_count": 64,
   "outputs": [
    {
     "data": {
      "text/plain": "                                              votes_id  \\\n0    0x011150988bdb06a1076a768adebfc4d0e1ac968dfdc3...   \n1    0xdc089cd778ff0133928dc193166150212ba6bd41318c...   \n2    0xab9b213fe3bcfbd1a3b6a64b5b519d0cf3a013b2012c...   \n3    0x340339bfc86daec75ff41830f3d7171dffef36556f63...   \n4    0xc960633de0f0a16e883eca7c6a49e4a7f4e92b82f2d4...   \n..                                                 ...   \n769  0x59795a2ecfc5d7157c88f631036eda662780ee81a969...   \n770  0x13a786949d4dd9aed79dcb2be11f69519d3ad79e6452...   \n771  0x061746bf633917619e4fe8e3703c6817dd190cb6834b...   \n772  0xf976640d10e89279aee1f91456f6ff22f39af8c40b5a...   \n773  0x3fe364083ecdfa472e256107a9ac8b7c8db3e4c501db...   \n\n                                    votes_voter  votes_created  votes_choice  \\\n0    0xfB17d5CD85854B6Bee89e714591DE521F3169dE5     1658165086             1   \n1    0x0CE2f37534583ABe28D328F09bD0B938CCac976d     1658163935             3   \n2    0x543b65d285d708B6f23d667a0Cc554fb22b458d7     1658157516             1   \n3    0x9d2BeEa6625c1991C796c498B93842d9E09cb6d6     1658154376             1   \n4    0xF3E16a28b09bE3836e66f091613c230128141Fc1     1658150518             1   \n..                                          ...            ...           ...   \n769  0xcaCc84Bba8a6c450EfFa9C7D68eF6d5a2E51767f     1657136603             1   \n770  0x02D9ECC743189aB882710F9FDD7F6835E865013C     1657136583             1   \n771  0x13f8dC58Bf69519C9b283D23f729C3A294E471b0     1657130342             1   \n772  0x7ab7b6af6bdd06A6D90df7007E3a82dbE169f1b7     1657128691             1   \n773  0x5eDf621bC259b7bF920e1bd24CCd6DC01811B2F2     1657127757             1   \n\n          votes_vp  \n0        30.275059  \n1         1.316870  \n2         1.316870  \n3         0.438518  \n4         4.285311  \n..             ...  \n769       2.214989  \n770       2.312404  \n771   11223.128168  \n772     255.611921  \n773  322621.415239  \n\n[774 rows x 5 columns]",
      "text/html": "<div>\n<style scoped>\n    .dataframe tbody tr th:only-of-type {\n        vertical-align: middle;\n    }\n\n    .dataframe tbody tr th {\n        vertical-align: top;\n    }\n\n    .dataframe thead th {\n        text-align: right;\n    }\n</style>\n<table border=\"1\" class=\"dataframe\">\n  <thead>\n    <tr style=\"text-align: right;\">\n      <th></th>\n      <th>votes_id</th>\n      <th>votes_voter</th>\n      <th>votes_created</th>\n      <th>votes_choice</th>\n      <th>votes_vp</th>\n    </tr>\n  </thead>\n  <tbody>\n    <tr>\n      <th>0</th>\n      <td>0x011150988bdb06a1076a768adebfc4d0e1ac968dfdc3...</td>\n      <td>0xfB17d5CD85854B6Bee89e714591DE521F3169dE5</td>\n      <td>1658165086</td>\n      <td>1</td>\n      <td>30.275059</td>\n    </tr>\n    <tr>\n      <th>1</th>\n      <td>0xdc089cd778ff0133928dc193166150212ba6bd41318c...</td>\n      <td>0x0CE2f37534583ABe28D328F09bD0B938CCac976d</td>\n      <td>1658163935</td>\n      <td>3</td>\n      <td>1.316870</td>\n    </tr>\n    <tr>\n      <th>2</th>\n      <td>0xab9b213fe3bcfbd1a3b6a64b5b519d0cf3a013b2012c...</td>\n      <td>0x543b65d285d708B6f23d667a0Cc554fb22b458d7</td>\n      <td>1658157516</td>\n      <td>1</td>\n      <td>1.316870</td>\n    </tr>\n    <tr>\n      <th>3</th>\n      <td>0x340339bfc86daec75ff41830f3d7171dffef36556f63...</td>\n      <td>0x9d2BeEa6625c1991C796c498B93842d9E09cb6d6</td>\n      <td>1658154376</td>\n      <td>1</td>\n      <td>0.438518</td>\n    </tr>\n    <tr>\n      <th>4</th>\n      <td>0xc960633de0f0a16e883eca7c6a49e4a7f4e92b82f2d4...</td>\n      <td>0xF3E16a28b09bE3836e66f091613c230128141Fc1</td>\n      <td>1658150518</td>\n      <td>1</td>\n      <td>4.285311</td>\n    </tr>\n    <tr>\n      <th>...</th>\n      <td>...</td>\n      <td>...</td>\n      <td>...</td>\n      <td>...</td>\n      <td>...</td>\n    </tr>\n    <tr>\n      <th>769</th>\n      <td>0x59795a2ecfc5d7157c88f631036eda662780ee81a969...</td>\n      <td>0xcaCc84Bba8a6c450EfFa9C7D68eF6d5a2E51767f</td>\n      <td>1657136603</td>\n      <td>1</td>\n      <td>2.214989</td>\n    </tr>\n    <tr>\n      <th>770</th>\n      <td>0x13a786949d4dd9aed79dcb2be11f69519d3ad79e6452...</td>\n      <td>0x02D9ECC743189aB882710F9FDD7F6835E865013C</td>\n      <td>1657136583</td>\n      <td>1</td>\n      <td>2.312404</td>\n    </tr>\n    <tr>\n      <th>771</th>\n      <td>0x061746bf633917619e4fe8e3703c6817dd190cb6834b...</td>\n      <td>0x13f8dC58Bf69519C9b283D23f729C3A294E471b0</td>\n      <td>1657130342</td>\n      <td>1</td>\n      <td>11223.128168</td>\n    </tr>\n    <tr>\n      <th>772</th>\n      <td>0xf976640d10e89279aee1f91456f6ff22f39af8c40b5a...</td>\n      <td>0x7ab7b6af6bdd06A6D90df7007E3a82dbE169f1b7</td>\n      <td>1657128691</td>\n      <td>1</td>\n      <td>255.611921</td>\n    </tr>\n    <tr>\n      <th>773</th>\n      <td>0x3fe364083ecdfa472e256107a9ac8b7c8db3e4c501db...</td>\n      <td>0x5eDf621bC259b7bF920e1bd24CCd6DC01811B2F2</td>\n      <td>1657127757</td>\n      <td>1</td>\n      <td>322621.415239</td>\n    </tr>\n  </tbody>\n</table>\n<p>774 rows × 5 columns</p>\n</div>"
     },
     "execution_count": 64,
     "metadata": {},
     "output_type": "execute_result"
    }
   ],
   "source": [
    "voting_snapshots_list"
   ],
   "metadata": {
    "collapsed": false,
    "pycharm": {
     "name": "#%%\n"
    }
   }
  },
  {
   "cell_type": "code",
   "execution_count": 65,
   "outputs": [
    {
     "data": {
      "text/plain": "                                              votes_id  \\\n0    0x011150988bdb06a1076a768adebfc4d0e1ac968dfdc3...   \n1    0xdc089cd778ff0133928dc193166150212ba6bd41318c...   \n2    0xab9b213fe3bcfbd1a3b6a64b5b519d0cf3a013b2012c...   \n3    0x340339bfc86daec75ff41830f3d7171dffef36556f63...   \n4    0xc960633de0f0a16e883eca7c6a49e4a7f4e92b82f2d4...   \n..                                                 ...   \n769  0x59795a2ecfc5d7157c88f631036eda662780ee81a969...   \n770  0x13a786949d4dd9aed79dcb2be11f69519d3ad79e6452...   \n771  0x061746bf633917619e4fe8e3703c6817dd190cb6834b...   \n772  0xf976640d10e89279aee1f91456f6ff22f39af8c40b5a...   \n773  0x3fe364083ecdfa472e256107a9ac8b7c8db3e4c501db...   \n\n                                    votes_voter  votes_created  votes_choice  \\\n0    0xfB17d5CD85854B6Bee89e714591DE521F3169dE5     1658165086             1   \n1    0x0CE2f37534583ABe28D328F09bD0B938CCac976d     1658163935             3   \n2    0x543b65d285d708B6f23d667a0Cc554fb22b458d7     1658157516             1   \n3    0x9d2BeEa6625c1991C796c498B93842d9E09cb6d6     1658154376             1   \n4    0xF3E16a28b09bE3836e66f091613c230128141Fc1     1658150518             1   \n..                                          ...            ...           ...   \n769  0xcaCc84Bba8a6c450EfFa9C7D68eF6d5a2E51767f     1657136603             1   \n770  0x02D9ECC743189aB882710F9FDD7F6835E865013C     1657136583             1   \n771  0x13f8dC58Bf69519C9b283D23f729C3A294E471b0     1657130342             1   \n772  0x7ab7b6af6bdd06A6D90df7007E3a82dbE169f1b7     1657128691             1   \n773  0x5eDf621bC259b7bF920e1bd24CCd6DC01811B2F2     1657127757             1   \n\n          votes_vp                                           Proposal  \n0        30.275059  bafkreigjjhjx2j2b526d3poeg23w2xan4rcgnzvcxinss...  \n1         1.316870  bafkreigjjhjx2j2b526d3poeg23w2xan4rcgnzvcxinss...  \n2         1.316870  bafkreigjjhjx2j2b526d3poeg23w2xan4rcgnzvcxinss...  \n3         0.438518  bafkreigjjhjx2j2b526d3poeg23w2xan4rcgnzvcxinss...  \n4         4.285311  bafkreigjjhjx2j2b526d3poeg23w2xan4rcgnzvcxinss...  \n..             ...                                                ...  \n769       2.214989  bafkreigjjhjx2j2b526d3poeg23w2xan4rcgnzvcxinss...  \n770       2.312404  bafkreigjjhjx2j2b526d3poeg23w2xan4rcgnzvcxinss...  \n771   11223.128168  bafkreigjjhjx2j2b526d3poeg23w2xan4rcgnzvcxinss...  \n772     255.611921  bafkreigjjhjx2j2b526d3poeg23w2xan4rcgnzvcxinss...  \n773  322621.415239  bafkreigjjhjx2j2b526d3poeg23w2xan4rcgnzvcxinss...  \n\n[774 rows x 6 columns]",
      "text/html": "<div>\n<style scoped>\n    .dataframe tbody tr th:only-of-type {\n        vertical-align: middle;\n    }\n\n    .dataframe tbody tr th {\n        vertical-align: top;\n    }\n\n    .dataframe thead th {\n        text-align: right;\n    }\n</style>\n<table border=\"1\" class=\"dataframe\">\n  <thead>\n    <tr style=\"text-align: right;\">\n      <th></th>\n      <th>votes_id</th>\n      <th>votes_voter</th>\n      <th>votes_created</th>\n      <th>votes_choice</th>\n      <th>votes_vp</th>\n      <th>Proposal</th>\n    </tr>\n  </thead>\n  <tbody>\n    <tr>\n      <th>0</th>\n      <td>0x011150988bdb06a1076a768adebfc4d0e1ac968dfdc3...</td>\n      <td>0xfB17d5CD85854B6Bee89e714591DE521F3169dE5</td>\n      <td>1658165086</td>\n      <td>1</td>\n      <td>30.275059</td>\n      <td>bafkreigjjhjx2j2b526d3poeg23w2xan4rcgnzvcxinss...</td>\n    </tr>\n    <tr>\n      <th>1</th>\n      <td>0xdc089cd778ff0133928dc193166150212ba6bd41318c...</td>\n      <td>0x0CE2f37534583ABe28D328F09bD0B938CCac976d</td>\n      <td>1658163935</td>\n      <td>3</td>\n      <td>1.316870</td>\n      <td>bafkreigjjhjx2j2b526d3poeg23w2xan4rcgnzvcxinss...</td>\n    </tr>\n    <tr>\n      <th>2</th>\n      <td>0xab9b213fe3bcfbd1a3b6a64b5b519d0cf3a013b2012c...</td>\n      <td>0x543b65d285d708B6f23d667a0Cc554fb22b458d7</td>\n      <td>1658157516</td>\n      <td>1</td>\n      <td>1.316870</td>\n      <td>bafkreigjjhjx2j2b526d3poeg23w2xan4rcgnzvcxinss...</td>\n    </tr>\n    <tr>\n      <th>3</th>\n      <td>0x340339bfc86daec75ff41830f3d7171dffef36556f63...</td>\n      <td>0x9d2BeEa6625c1991C796c498B93842d9E09cb6d6</td>\n      <td>1658154376</td>\n      <td>1</td>\n      <td>0.438518</td>\n      <td>bafkreigjjhjx2j2b526d3poeg23w2xan4rcgnzvcxinss...</td>\n    </tr>\n    <tr>\n      <th>4</th>\n      <td>0xc960633de0f0a16e883eca7c6a49e4a7f4e92b82f2d4...</td>\n      <td>0xF3E16a28b09bE3836e66f091613c230128141Fc1</td>\n      <td>1658150518</td>\n      <td>1</td>\n      <td>4.285311</td>\n      <td>bafkreigjjhjx2j2b526d3poeg23w2xan4rcgnzvcxinss...</td>\n    </tr>\n    <tr>\n      <th>...</th>\n      <td>...</td>\n      <td>...</td>\n      <td>...</td>\n      <td>...</td>\n      <td>...</td>\n      <td>...</td>\n    </tr>\n    <tr>\n      <th>769</th>\n      <td>0x59795a2ecfc5d7157c88f631036eda662780ee81a969...</td>\n      <td>0xcaCc84Bba8a6c450EfFa9C7D68eF6d5a2E51767f</td>\n      <td>1657136603</td>\n      <td>1</td>\n      <td>2.214989</td>\n      <td>bafkreigjjhjx2j2b526d3poeg23w2xan4rcgnzvcxinss...</td>\n    </tr>\n    <tr>\n      <th>770</th>\n      <td>0x13a786949d4dd9aed79dcb2be11f69519d3ad79e6452...</td>\n      <td>0x02D9ECC743189aB882710F9FDD7F6835E865013C</td>\n      <td>1657136583</td>\n      <td>1</td>\n      <td>2.312404</td>\n      <td>bafkreigjjhjx2j2b526d3poeg23w2xan4rcgnzvcxinss...</td>\n    </tr>\n    <tr>\n      <th>771</th>\n      <td>0x061746bf633917619e4fe8e3703c6817dd190cb6834b...</td>\n      <td>0x13f8dC58Bf69519C9b283D23f729C3A294E471b0</td>\n      <td>1657130342</td>\n      <td>1</td>\n      <td>11223.128168</td>\n      <td>bafkreigjjhjx2j2b526d3poeg23w2xan4rcgnzvcxinss...</td>\n    </tr>\n    <tr>\n      <th>772</th>\n      <td>0xf976640d10e89279aee1f91456f6ff22f39af8c40b5a...</td>\n      <td>0x7ab7b6af6bdd06A6D90df7007E3a82dbE169f1b7</td>\n      <td>1657128691</td>\n      <td>1</td>\n      <td>255.611921</td>\n      <td>bafkreigjjhjx2j2b526d3poeg23w2xan4rcgnzvcxinss...</td>\n    </tr>\n    <tr>\n      <th>773</th>\n      <td>0x3fe364083ecdfa472e256107a9ac8b7c8db3e4c501db...</td>\n      <td>0x5eDf621bC259b7bF920e1bd24CCd6DC01811B2F2</td>\n      <td>1657127757</td>\n      <td>1</td>\n      <td>322621.415239</td>\n      <td>bafkreigjjhjx2j2b526d3poeg23w2xan4rcgnzvcxinss...</td>\n    </tr>\n  </tbody>\n</table>\n<p>774 rows × 6 columns</p>\n</div>"
     },
     "execution_count": 65,
     "metadata": {},
     "output_type": "execute_result"
    }
   ],
   "source": [
    "voting_snapshots_list['Proposal'] = proposal_id\n",
    "voting_snapshots_list"
   ],
   "metadata": {
    "collapsed": false,
    "pycharm": {
     "name": "#%%\n"
    }
   }
  },
  {
   "cell_type": "code",
   "execution_count": 66,
   "outputs": [],
   "source": [
    "x=0\n",
    "while x <total_proposals:\n",
    "##print(olympus_governance_view.iloc[2,1])\n",
    "    proposal_id = olympus_governance_view.iloc[x,1]\n",
    "\n",
    "    vote_tracker = snapshot.Query.votes(\n",
    "    orderBy = 'created',\n",
    "    orderDirection='desc',\n",
    "    first=10000,\n",
    "    where=[\n",
    "      snapshot.Vote.proposal == proposal_id\n",
    "    ]\n",
    "    )\n",
    "    voting_snapshots = sg.query_df([\n",
    "    vote_tracker.id,\n",
    "    vote_tracker.voter,\n",
    "    vote_tracker.created,\n",
    "    vote_tracker.choice,\n",
    "    vote_tracker.vp\n",
    "    ])\n",
    "\n",
    "    voting_snapshots['Proposal'] = proposal_id\n",
    "    voting_snapshots_list=pd.concat([voting_snapshots_list, voting_snapshots])\n",
    "    ##voting_snapshots['Proposal'] = proposal_id\n",
    "\n",
    "#    pd.concat([voting_snapshots_list, voting_snapshots])\n",
    "    x=x+1"
   ],
   "metadata": {
    "collapsed": false,
    "pycharm": {
     "name": "#%%\n"
    }
   }
  },
  {
   "cell_type": "code",
   "execution_count": 67,
   "outputs": [
    {
     "data": {
      "text/plain": "122461"
     },
     "execution_count": 67,
     "metadata": {},
     "output_type": "execute_result"
    }
   ],
   "source": [
    "len(voting_snapshots_list)"
   ],
   "metadata": {
    "collapsed": false,
    "pycharm": {
     "name": "#%%\n"
    }
   }
  },
  {
   "cell_type": "code",
   "execution_count": 68,
   "outputs": [],
   "source": [
    "path =file+'/'+spacename+'_voting_snapshots_list_'+str(date.today().strftime(\"%b-%d-%Y\"))+'_'+str(len(olympus_governance_view))+'.csv'\n",
    "voting_snapshots_list.to_csv(path, index = False)"
   ],
   "metadata": {
    "collapsed": false,
    "pycharm": {
     "name": "#%%\n"
    }
   }
  },
  {
   "cell_type": "code",
   "execution_count": 69,
   "outputs": [
    {
     "name": "stdout",
     "output_type": "stream",
     "text": [
      "finished\n"
     ]
    }
   ],
   "source": [
    "print(\"finished\")"
   ],
   "metadata": {
    "collapsed": false,
    "pycharm": {
     "name": "#%%\n"
    }
   }
  }
 ],
 "metadata": {
  "kernelspec": {
   "display_name": "Python 3",
   "language": "python",
   "name": "python3"
  },
  "language_info": {
   "codemirror_mode": {
    "name": "ipython",
    "version": 2
   },
   "file_extension": ".py",
   "mimetype": "text/x-python",
   "name": "python",
   "nbconvert_exporter": "python",
   "pygments_lexer": "ipython2",
   "version": "2.7.6"
  }
 },
 "nbformat": 4,
 "nbformat_minor": 0
}