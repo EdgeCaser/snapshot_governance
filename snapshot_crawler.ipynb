{
 "cells": [
  {
   "cell_type": "code",
   "execution_count": 2,
   "outputs": [],
   "source": [
    "global file\n",
    "file = input('Selet a folder') ##enter your file path here - the file is in the repo \"summary_stats.csv\".\n",
    "##file"
   ],
   "metadata": {
    "collapsed": false,
    "pycharm": {
     "name": "#%%\n"
    }
   }
  },
  {
   "cell_type": "code",
   "execution_count": 3,
   "outputs": [],
   "source": [
    "from datetime import datetime\n",
    "from datetime import date\n",
    "from subgrounds.subgraph import SyntheticField, FieldPath\n",
    "from subgrounds.subgrounds import Subgrounds\n",
    "import math\n",
    "import pandas as pd"
   ],
   "metadata": {
    "collapsed": false,
    "pycharm": {
     "name": "#%%\n"
    }
   }
  },
  {
   "cell_type": "code",
   "execution_count": 4,
   "outputs": [],
   "source": [
    "sg = Subgrounds()\n",
    "snapshot = sg.load_api('https://hub.snapshot.org/graphql')"
   ],
   "metadata": {
    "collapsed": false,
    "pycharm": {
     "name": "#%%\n"
    }
   }
  },
  {
   "cell_type": "markdown",
   "source": [
    "Get the list of spaces. We don't know how many spaces we have, so we have to cycle and only stop when the list is not filled with 1000 rows"
   ],
   "metadata": {
    "collapsed": false,
    "pycharm": {
     "name": "#%% md\n"
    }
   }
  },
  {
   "cell_type": "code",
   "execution_count": 5,
   "outputs": [],
   "source": [
    "spaces=[]\n",
    "spaces = snapshot.Query.spaces(\n",
    "  orderBy='created',\n",
    "  orderDirection='asc',\n",
    "  first=1000,\n",
    ")\n",
    "spaces_list = sg.query_df([\n",
    "    spaces.id\n",
    "    ]\n",
    "  )\n"
   ],
   "metadata": {
    "collapsed": false,
    "pycharm": {
     "name": "#%%\n"
    }
   }
  },
  {
   "cell_type": "code",
   "execution_count": 6,
   "outputs": [
    {
     "name": "stdout",
     "output_type": "stream",
     "text": [
      "3 1000\n",
      "4 1000\n",
      "5 1000\n",
      "6 1000\n",
      "7 1000\n",
      "8 1000\n",
      "9 1000\n",
      "10 310\n"
     ]
    }
   ],
   "source": [
    "spaces2 = []\n",
    "n=0\n",
    "t=2\n",
    "while n<1:\n",
    "  spaces2 = snapshot.Query.spaces(\n",
    "    orderBy='created',\n",
    "    orderDirection='asc',\n",
    "    first=1000,\n",
    "    skip = 1000*t\n",
    "  )\n",
    "  spaces_list2 = sg.query_df([\n",
    "    spaces2.id\n",
    "    ]\n",
    "  )\n",
    "  spaces_list = pd.concat([spaces_list,spaces_list2])\n",
    "  t=t+1\n",
    "  l=len(spaces_list2)\n",
    "  print(t,l)\n",
    "  if len(spaces_list2)<1000: n=1\n",
    "\n",
    "##olympus_coord=spaces_list.index[spaces_list['spaces_id'] == 'olympusdao.eth'].tolist()\n"
   ],
   "metadata": {
    "collapsed": false,
    "pycharm": {
     "name": "#%%\n"
    }
   }
  },
  {
   "cell_type": "code",
   "execution_count": 7,
   "outputs": [
    {
     "data": {
      "text/plain": "8310"
     },
     "execution_count": 7,
     "metadata": {},
     "output_type": "execute_result"
    }
   ],
   "source": [
    "numspaces = len(spaces_list)\n",
    "numspaces"
   ],
   "metadata": {
    "collapsed": false,
    "pycharm": {
     "name": "#%%\n"
    }
   }
  },
  {
   "cell_type": "markdown",
   "source": [
    "We get the list of elections  for each space. Note the choice of vote only carries the ID not the question"
   ],
   "metadata": {
    "collapsed": false,
    "pycharm": {
     "name": "#%% md\n"
    }
   }
  },
  {
   "cell_type": "code",
   "execution_count": 8,
   "outputs": [
    {
     "data": {
      "text/plain": "            dao                proposals_title  \\\n0    fabien.eth                           Test   \n1    fabien.eth                           Test   \n2    fabien.eth                  Test proposal   \n3    fabien.eth                  Test proposal   \n4    fabien.eth                  Test proposal   \n..          ...                            ...   \n870  fabien.eth                   Test webhook   \n871  fabien.eth                   Test webhook   \n872  fabien.eth  Test for EIP-1271 on Optimism   \n873  fabien.eth  Test for EIP-1271 on Optimism   \n874  fabien.eth  Test for EIP-1271 on Optimism   \n\n                                          proposals_id  \\\n0       QmbGQCSWXqJwUUksSJ5UbYgjnrpn25aJNyuLFUA48wYg8Q   \n1       QmbGQCSWXqJwUUksSJ5UbYgjnrpn25aJNyuLFUA48wYg8Q   \n2       QmPDvn4oamr1ZxdTXH3pCKn4jpxTJUv3yMVrCBxfgDmyEA   \n3       QmPDvn4oamr1ZxdTXH3pCKn4jpxTJUv3yMVrCBxfgDmyEA   \n4       QmWqUBX1jgWzs8A8hMAV2bSk8jm2HQ3wdq4FWgt4QR5U15   \n..                                                 ...   \n870  0xa66466451daeca21e2d50188d3b72ae6cd36626ca44f...   \n871  0xa66466451daeca21e2d50188d3b72ae6cd36626ca44f...   \n872  0xe0fd8430e73de3b4790648b6edb9bba0b3255c3fe7fa...   \n873  0xe0fd8430e73de3b4790648b6edb9bba0b3255c3fe7fa...   \n874  0xe0fd8430e73de3b4790648b6edb9bba0b3255c3fe7fa...   \n\n                                        proposals_body  proposals_scores  \\\n0    **Bold test** Lost of text\\n\\n# Proposal: Test...          0.000000   \n1    **Bold test** Lost of text\\n\\n# Proposal: Test...          0.000000   \n2                                       This is a test          0.000000   \n3                                       This is a test         12.503688   \n4                                       This is a test         18.000000   \n..                                                 ...               ...   \n870                                                            52.784172   \n871                                                             1.000000   \n872                                                             0.000000   \n873                                                          2018.027507   \n874                                                          2427.453800   \n\n     proposals_scores_total  \n0                  0.000000  \n1                  0.000000  \n2                 12.503688  \n3                 12.503688  \n4                 29.000000  \n..                      ...  \n870               55.784172  \n871               55.784172  \n872             4445.481307  \n873             4445.481307  \n874             4445.481307  \n\n[875 rows x 6 columns]",
      "text/html": "<div>\n<style scoped>\n    .dataframe tbody tr th:only-of-type {\n        vertical-align: middle;\n    }\n\n    .dataframe tbody tr th {\n        vertical-align: top;\n    }\n\n    .dataframe thead th {\n        text-align: right;\n    }\n</style>\n<table border=\"1\" class=\"dataframe\">\n  <thead>\n    <tr style=\"text-align: right;\">\n      <th></th>\n      <th>dao</th>\n      <th>proposals_title</th>\n      <th>proposals_id</th>\n      <th>proposals_body</th>\n      <th>proposals_scores</th>\n      <th>proposals_scores_total</th>\n    </tr>\n  </thead>\n  <tbody>\n    <tr>\n      <th>0</th>\n      <td>fabien.eth</td>\n      <td>Test</td>\n      <td>QmbGQCSWXqJwUUksSJ5UbYgjnrpn25aJNyuLFUA48wYg8Q</td>\n      <td>**Bold test** Lost of text\\n\\n# Proposal: Test...</td>\n      <td>0.000000</td>\n      <td>0.000000</td>\n    </tr>\n    <tr>\n      <th>1</th>\n      <td>fabien.eth</td>\n      <td>Test</td>\n      <td>QmbGQCSWXqJwUUksSJ5UbYgjnrpn25aJNyuLFUA48wYg8Q</td>\n      <td>**Bold test** Lost of text\\n\\n# Proposal: Test...</td>\n      <td>0.000000</td>\n      <td>0.000000</td>\n    </tr>\n    <tr>\n      <th>2</th>\n      <td>fabien.eth</td>\n      <td>Test proposal</td>\n      <td>QmPDvn4oamr1ZxdTXH3pCKn4jpxTJUv3yMVrCBxfgDmyEA</td>\n      <td>This is a test</td>\n      <td>0.000000</td>\n      <td>12.503688</td>\n    </tr>\n    <tr>\n      <th>3</th>\n      <td>fabien.eth</td>\n      <td>Test proposal</td>\n      <td>QmPDvn4oamr1ZxdTXH3pCKn4jpxTJUv3yMVrCBxfgDmyEA</td>\n      <td>This is a test</td>\n      <td>12.503688</td>\n      <td>12.503688</td>\n    </tr>\n    <tr>\n      <th>4</th>\n      <td>fabien.eth</td>\n      <td>Test proposal</td>\n      <td>QmWqUBX1jgWzs8A8hMAV2bSk8jm2HQ3wdq4FWgt4QR5U15</td>\n      <td>This is a test</td>\n      <td>18.000000</td>\n      <td>29.000000</td>\n    </tr>\n    <tr>\n      <th>...</th>\n      <td>...</td>\n      <td>...</td>\n      <td>...</td>\n      <td>...</td>\n      <td>...</td>\n      <td>...</td>\n    </tr>\n    <tr>\n      <th>870</th>\n      <td>fabien.eth</td>\n      <td>Test webhook</td>\n      <td>0xa66466451daeca21e2d50188d3b72ae6cd36626ca44f...</td>\n      <td></td>\n      <td>52.784172</td>\n      <td>55.784172</td>\n    </tr>\n    <tr>\n      <th>871</th>\n      <td>fabien.eth</td>\n      <td>Test webhook</td>\n      <td>0xa66466451daeca21e2d50188d3b72ae6cd36626ca44f...</td>\n      <td></td>\n      <td>1.000000</td>\n      <td>55.784172</td>\n    </tr>\n    <tr>\n      <th>872</th>\n      <td>fabien.eth</td>\n      <td>Test for EIP-1271 on Optimism</td>\n      <td>0xe0fd8430e73de3b4790648b6edb9bba0b3255c3fe7fa...</td>\n      <td></td>\n      <td>0.000000</td>\n      <td>4445.481307</td>\n    </tr>\n    <tr>\n      <th>873</th>\n      <td>fabien.eth</td>\n      <td>Test for EIP-1271 on Optimism</td>\n      <td>0xe0fd8430e73de3b4790648b6edb9bba0b3255c3fe7fa...</td>\n      <td></td>\n      <td>2018.027507</td>\n      <td>4445.481307</td>\n    </tr>\n    <tr>\n      <th>874</th>\n      <td>fabien.eth</td>\n      <td>Test for EIP-1271 on Optimism</td>\n      <td>0xe0fd8430e73de3b4790648b6edb9bba0b3255c3fe7fa...</td>\n      <td></td>\n      <td>2427.453800</td>\n      <td>4445.481307</td>\n    </tr>\n  </tbody>\n</table>\n<p>875 rows × 6 columns</p>\n</div>"
     },
     "execution_count": 8,
     "metadata": {},
     "output_type": "execute_result"
    }
   ],
   "source": [
    "space_name = spaces_list.iat[1,0]\n",
    "proposals = snapshot.Query.proposals(\n",
    "  orderBy='created',\n",
    "  orderDirection='asc',\n",
    "  first=1000,\n",
    "  where=[\n",
    "    snapshot.Proposal.space == space_name,\n",
    "    snapshot.Proposal.state == 'closed'\n",
    "    ##snapshot.Proposal.title == 'OIP-18: Reward rate framework and reduction',\n",
    "  ]\n",
    ")\n",
    "\n",
    "proposals_snapshots = sg.query_df([\n",
    "    proposals.title,\n",
    "    proposals.id,\n",
    "    proposals.body,\n",
    "    proposals.scores,\n",
    "    proposals.scores_total\n",
    "])\n",
    "\n",
    "proposals_snapshots.insert(0,'dao',space_name)\n",
    "\n",
    "proposals_snapshots"
   ],
   "metadata": {
    "collapsed": false,
    "pycharm": {
     "name": "#%%\n"
    }
   }
  },
  {
   "cell_type": "code",
   "execution_count": 9,
   "outputs": [
    {
     "data": {
      "text/plain": "          dao                                    proposals_title  \\\n0    ichi.eth          Volatility Increase in Vault IRR Deposits   \n1    ichi.eth          Volatility Increase in Vault IRR Deposits   \n2    ichi.eth                        ICHI Proposal for Bancor V3   \n3    ichi.eth                        ICHI Proposal for Bancor V3   \n4    ichi.eth                              ICHI Vaults Proposal    \n..        ...                                                ...   \n105  ichi.eth  Should we launch a community website on ichi.org?   \n106  ichi.eth                                               test   \n107  ichi.eth                                               test   \n108  ichi.eth                                              Test?   \n109  ichi.eth                                              Test?   \n\n                                          proposals_id  \\\n0    0xb6acfcda2b1c19a231f7df2c6cd7bcd5654a8be989e2...   \n1    0xb6acfcda2b1c19a231f7df2c6cd7bcd5654a8be989e2...   \n2    0xefd26a12611d809411277a23ab59d41c9b56703a2faa...   \n3    0xefd26a12611d809411277a23ab59d41c9b56703a2faa...   \n4    0x9e724ac779d020df40016be159a4a8062965a84fee63...   \n..                                                 ...   \n105     Qmbj2pu23vbNPJGSMt1bgJjK4YGxcDMjeqggyLNHgDbG5V   \n106     QmPmUra8QTkymdJNKT2QjYUtJtXpVY6wE4QT66genw9DQZ   \n107     QmPmUra8QTkymdJNKT2QjYUtJtXpVY6wE4QT66genw9DQZ   \n108     QmRRJ8uwthPoTCmGxk2TANdhDnppECvKBcaz55FywySRP4   \n109     QmRRJ8uwthPoTCmGxk2TANdhDnppECvKBcaz55FywySRP4   \n\n                                        proposals_body  proposals_scores  \\\n0    Summary:\\nPropose an increase in vault rewards...      43073.307504   \n1    Summary:\\nPropose an increase in vault rewards...          0.000000   \n2    Summary:\\n-Provide 50,000 BNT worth of Legacy ...      43073.307504   \n3    Summary:\\n-Provide 50,000 BNT worth of Legacy ...          0.000000   \n4    Summary:\\nProposal allocating $ICHI to the fol...      94158.348758   \n..                                                 ...               ...   \n105  Proposal from samwisegardener in the ichi disc...          0.000000   \n106                                               test       9039.392908   \n107                                               test          0.000000   \n108                                   Test - yes or no          0.000000   \n109                                   Test - yes or no          0.000000   \n\n     proposals_scores_total  \n0              43073.307504  \n1              43073.307504  \n2              43073.307504  \n3              43073.307504  \n4              94210.981940  \n..                      ...  \n105           109450.440901  \n106             9039.392908  \n107             9039.392908  \n108                0.000000  \n109                0.000000  \n\n[110 rows x 6 columns]",
      "text/html": "<div>\n<style scoped>\n    .dataframe tbody tr th:only-of-type {\n        vertical-align: middle;\n    }\n\n    .dataframe tbody tr th {\n        vertical-align: top;\n    }\n\n    .dataframe thead th {\n        text-align: right;\n    }\n</style>\n<table border=\"1\" class=\"dataframe\">\n  <thead>\n    <tr style=\"text-align: right;\">\n      <th></th>\n      <th>dao</th>\n      <th>proposals_title</th>\n      <th>proposals_id</th>\n      <th>proposals_body</th>\n      <th>proposals_scores</th>\n      <th>proposals_scores_total</th>\n    </tr>\n  </thead>\n  <tbody>\n    <tr>\n      <th>0</th>\n      <td>ichi.eth</td>\n      <td>Volatility Increase in Vault IRR Deposits</td>\n      <td>0xb6acfcda2b1c19a231f7df2c6cd7bcd5654a8be989e2...</td>\n      <td>Summary:\\nPropose an increase in vault rewards...</td>\n      <td>43073.307504</td>\n      <td>43073.307504</td>\n    </tr>\n    <tr>\n      <th>1</th>\n      <td>ichi.eth</td>\n      <td>Volatility Increase in Vault IRR Deposits</td>\n      <td>0xb6acfcda2b1c19a231f7df2c6cd7bcd5654a8be989e2...</td>\n      <td>Summary:\\nPropose an increase in vault rewards...</td>\n      <td>0.000000</td>\n      <td>43073.307504</td>\n    </tr>\n    <tr>\n      <th>2</th>\n      <td>ichi.eth</td>\n      <td>ICHI Proposal for Bancor V3</td>\n      <td>0xefd26a12611d809411277a23ab59d41c9b56703a2faa...</td>\n      <td>Summary:\\n-Provide 50,000 BNT worth of Legacy ...</td>\n      <td>43073.307504</td>\n      <td>43073.307504</td>\n    </tr>\n    <tr>\n      <th>3</th>\n      <td>ichi.eth</td>\n      <td>ICHI Proposal for Bancor V3</td>\n      <td>0xefd26a12611d809411277a23ab59d41c9b56703a2faa...</td>\n      <td>Summary:\\n-Provide 50,000 BNT worth of Legacy ...</td>\n      <td>0.000000</td>\n      <td>43073.307504</td>\n    </tr>\n    <tr>\n      <th>4</th>\n      <td>ichi.eth</td>\n      <td>ICHI Vaults Proposal</td>\n      <td>0x9e724ac779d020df40016be159a4a8062965a84fee63...</td>\n      <td>Summary:\\nProposal allocating $ICHI to the fol...</td>\n      <td>94158.348758</td>\n      <td>94210.981940</td>\n    </tr>\n    <tr>\n      <th>...</th>\n      <td>...</td>\n      <td>...</td>\n      <td>...</td>\n      <td>...</td>\n      <td>...</td>\n      <td>...</td>\n    </tr>\n    <tr>\n      <th>105</th>\n      <td>ichi.eth</td>\n      <td>Should we launch a community website on ichi.org?</td>\n      <td>Qmbj2pu23vbNPJGSMt1bgJjK4YGxcDMjeqggyLNHgDbG5V</td>\n      <td>Proposal from samwisegardener in the ichi disc...</td>\n      <td>0.000000</td>\n      <td>109450.440901</td>\n    </tr>\n    <tr>\n      <th>106</th>\n      <td>ichi.eth</td>\n      <td>test</td>\n      <td>QmPmUra8QTkymdJNKT2QjYUtJtXpVY6wE4QT66genw9DQZ</td>\n      <td>test</td>\n      <td>9039.392908</td>\n      <td>9039.392908</td>\n    </tr>\n    <tr>\n      <th>107</th>\n      <td>ichi.eth</td>\n      <td>test</td>\n      <td>QmPmUra8QTkymdJNKT2QjYUtJtXpVY6wE4QT66genw9DQZ</td>\n      <td>test</td>\n      <td>0.000000</td>\n      <td>9039.392908</td>\n    </tr>\n    <tr>\n      <th>108</th>\n      <td>ichi.eth</td>\n      <td>Test?</td>\n      <td>QmRRJ8uwthPoTCmGxk2TANdhDnppECvKBcaz55FywySRP4</td>\n      <td>Test - yes or no</td>\n      <td>0.000000</td>\n      <td>0.000000</td>\n    </tr>\n    <tr>\n      <th>109</th>\n      <td>ichi.eth</td>\n      <td>Test?</td>\n      <td>QmRRJ8uwthPoTCmGxk2TANdhDnppECvKBcaz55FywySRP4</td>\n      <td>Test - yes or no</td>\n      <td>0.000000</td>\n      <td>0.000000</td>\n    </tr>\n  </tbody>\n</table>\n<p>110 rows × 6 columns</p>\n</div>"
     },
     "execution_count": 9,
     "metadata": {},
     "output_type": "execute_result"
    }
   ],
   "source": [
    "space_name = spaces_list.iat[2,0]\n",
    "\n",
    "proposals2 = snapshot.Query.proposals(\n",
    "  orderBy='created',\n",
    "  orderDirection='desc',\n",
    "  first=1000,\n",
    "  where=[\n",
    "    snapshot.Proposal.space == space_name,\n",
    "    snapshot.Proposal.state == 'closed'\n",
    "    ##snapshot.Proposal.title == 'OIP-18: Reward rate framework and reduction',\n",
    "  ]\n",
    ")\n",
    "\n",
    "proposals_snapshots2 = sg.query_df([\n",
    "    proposals2.title,\n",
    "    proposals2.id,\n",
    "    proposals2.body,\n",
    "    proposals2.scores,\n",
    "    proposals2.scores_total\n",
    "])\n",
    "\n",
    "proposals_snapshots2.insert(0,'dao',space_name)\n",
    "\n",
    "proposals_snapshots2"
   ],
   "metadata": {
    "collapsed": false,
    "pycharm": {
     "name": "#%%\n"
    }
   }
  },
  {
   "cell_type": "code",
   "execution_count": 10,
   "outputs": [
    {
     "ename": "ValueError",
     "evalue": "invalid literal for int() with base 10: ''",
     "output_type": "error",
     "traceback": [
      "\u001B[1;31m---------------------------------------------------------------------------\u001B[0m",
      "\u001B[1;31mValueError\u001B[0m                                Traceback (most recent call last)",
      "Input \u001B[1;32mIn [10]\u001B[0m, in \u001B[0;36m<cell line: 2>\u001B[1;34m()\u001B[0m\n\u001B[0;32m      1\u001B[0m proposals3 \u001B[38;5;241m=\u001B[39m []\n\u001B[1;32m----> 2\u001B[0m t\u001B[38;5;241m=\u001B[39m\u001B[38;5;28;43mint\u001B[39;49m\u001B[43m(\u001B[49m\u001B[38;5;28;43minput\u001B[39;49m\u001B[43m(\u001B[49m\u001B[38;5;124;43m'\u001B[39;49m\u001B[38;5;124;43mset starting point for DAOs\u001B[39;49m\u001B[38;5;124;43m'\u001B[39;49m\u001B[43m)\u001B[49m\u001B[43m)\u001B[49m\n\u001B[0;32m      3\u001B[0m limit\u001B[38;5;241m=\u001B[39m\u001B[38;5;28mint\u001B[39m(\u001B[38;5;28minput\u001B[39m(\u001B[38;5;124m'\u001B[39m\u001B[38;5;124mset limit for DAOs to pull (-1 for all records)\u001B[39m\u001B[38;5;124m'\u001B[39m))\u001B[38;5;241m+\u001B[39m\u001B[38;5;241m2\u001B[39m\n\u001B[0;32m      4\u001B[0m breaker\u001B[38;5;241m=\u001B[39m\u001B[38;5;28mint\u001B[39m(\u001B[38;5;28minput\u001B[39m(\u001B[38;5;124m'\u001B[39m\u001B[38;5;124mset size of chunk - smaller for best perf (100?)\u001B[39m\u001B[38;5;124m'\u001B[39m))\n",
      "\u001B[1;31mValueError\u001B[0m: invalid literal for int() with base 10: ''"
     ]
    }
   ],
   "source": [
    "proposals3 = []\n",
    "t=int(input('set starting point for DAOs'))\n",
    "limit=int(input('set limit for DAOs to pull (-1 for all records)'))+2\n",
    "breaker=int(input('set size of chunk - smaller for best perf (100?)'))\n",
    "if limit==-1:\n",
    "  limit = numspaces\n",
    "\n",
    "while t<=limit: ##numspaces when out of testing\n",
    "  space_name = spaces_list.iat[t,0]\n",
    "  proposals3 = snapshot.Query.proposals(\n",
    "    orderBy='created',\n",
    "    orderDirection='desc',\n",
    "    first=1000,\n",
    "    skip = 1000*t,\n",
    "    where=[\n",
    "      snapshot.Proposal.space == space_name,\n",
    "      snapshot.Proposal.state == 'closed'\n",
    "      ]\n",
    "  )\n",
    "  proposals_snapshots3 = sg.query_df([\n",
    "    proposals3.title,\n",
    "    proposals3.id,\n",
    "    proposals3.body,\n",
    "    proposals3.scores,\n",
    "    proposals3.scores_total\n",
    "])\n",
    "  proposals_snapshots3.insert(0,'dao',space_name)\n",
    "  proposals_snapshots = pd.concat([proposals_snapshots,proposals_snapshots2,proposals_snapshots3])\n",
    "  t=t+1\n",
    "  l=len(proposals_snapshots3)\n",
    "  if t%10 == 0: print (t,space_name,l)\n",
    "  if t>1150: print (t,space_name,l)\n",
    "  if len(proposals_snapshots3)>0:\n",
    "    print(t,space_name,l)\n",
    "\n",
    "proposals_snapshots"
   ],
   "metadata": {
    "collapsed": false,
    "pycharm": {
     "name": "#%%\n"
    }
   }
  },
  {
   "cell_type": "code",
   "execution_count": null,
   "outputs": [],
   "source": [
    "total_props = (int(len(proposals_snapshots)))-1\n",
    "chunks = math.ceil(total_props/breaker)\n",
    "print(total_props,'elections. Pulling in', chunks,'sets of',breaker,'records.' )"
   ],
   "metadata": {
    "collapsed": false,
    "pycharm": {
     "name": "#%%\n"
    }
   }
  },
  {
   "cell_type": "markdown",
   "source": [
    "We are going to use this to timestamp the filenames"
   ],
   "metadata": {
    "collapsed": false,
    "pycharm": {
     "name": "#%% md\n"
    }
   }
  },
  {
   "cell_type": "code",
   "execution_count": null,
   "outputs": [],
   "source": [
    "snapshot.Proposal.datetime = SyntheticField(\n",
    "  lambda timestamp: str(datetime.fromtimestamp(timestamp)),\n",
    "  SyntheticField.STRING,\n",
    "  snapshot.Proposal.end,\n",
    "  )\n"
   ],
   "metadata": {
    "collapsed": false,
    "pycharm": {
     "name": "#%%\n"
    }
   }
  },
  {
   "cell_type": "code",
   "execution_count": null,
   "outputs": [],
   "source": [
    "##spit out the file!\n",
    "path =file+'/votes_table_'+str(date.today().strftime(\"%b-%d-%Y\"))+'_'+str(len(proposals_snapshots))+'_snapshots.csv'\n",
    "proposals_snapshots.to_csv(path, index = False)\n",
    "print('file saved: '+ path)"
   ],
   "metadata": {
    "collapsed": false,
    "pycharm": {
     "name": "#%%\n"
    }
   }
  },
  {
   "cell_type": "code",
   "execution_count": null,
   "outputs": [],
   "source": [
    "proposal_id = proposals_snapshots.iloc[1,2]\n",
    "\n",
    "vote_tracker = snapshot.Query.votes(\n",
    "orderBy = 'created',\n",
    "orderDirection='desc',\n",
    "first=10000,\n",
    "where=[\n",
    "  snapshot.Vote.proposal == proposal_id\n",
    "]\n",
    ")\n",
    "\n",
    "\n",
    "voting_snapshots_list = sg.query_df([\n",
    "  vote_tracker.id,\n",
    "  vote_tracker.voter,\n",
    "  vote_tracker.created,\n",
    "  vote_tracker.choice,\n",
    "  vote_tracker.vp\n",
    "])\n",
    "print(proposal_id)\n",
    "voting_snapshots_list"
   ],
   "metadata": {
    "collapsed": false,
    "pycharm": {
     "name": "#%%\n"
    }
   }
  },
  {
   "cell_type": "code",
   "execution_count": null,
   "outputs": [],
   "source": [
    "voting_snapshots_list['Proposal'] = proposal_id\n",
    "print(voting_snapshots_list)"
   ],
   "metadata": {
    "collapsed": false,
    "pycharm": {
     "name": "#%%\n"
    }
   }
  },
  {
   "cell_type": "code",
   "execution_count": null,
   "outputs": [],
   "source": [
    "n=2\n",
    "iteration =1\n",
    "print('pull started')\n",
    "endpoint = breaker\n",
    "while iteration <= chunks:\n",
    "  while n<=min(endpoint*iteration,total_props): ##total_props:\n",
    "    proposal_id = proposals_snapshots.iloc[n,2]\n",
    "    ##if n%10 == 0: print (n,proposal_id)\n",
    "    n=n+1\n",
    "    vote_tracker = snapshot.Query.votes(\n",
    "    orderBy = 'created',\n",
    "    orderDirection='desc',\n",
    "    first=1000,\n",
    "    where=[\n",
    "      snapshot.Vote.proposal == proposal_id\n",
    "    ])\n",
    "    voting_snapshots_list2 = sg.query_df([\n",
    "      vote_tracker.id,\n",
    "      vote_tracker.voter,\n",
    "      vote_tracker.created,\n",
    "      vote_tracker.choice,\n",
    "      vote_tracker.vp\n",
    "    ])\n",
    "    voting_snapshots_list2['Proposal'] = proposal_id\n",
    "    voting_snapshots_list = pd.concat([voting_snapshots_list,voting_snapshots_list2])\n",
    "    iteration = iteration +1\n",
    "    iter_progress = 100*round(n/5000,4)\n",
    "    remaining = (total_props-n)\n",
    "    if n%500==0:\n",
    "      print(str(n), 'proposals pulled.',str(remaining), 'remain.','\\nProgress in this chunk:', str(iter_progress),'%')\n",
    "\n",
    "      ##now we save that part in its file\n",
    "  path =file+'/votes_table_'+str(date.today().strftime(\"%b-%d-%Y\"))+'_'+str(len(voting_snapshots_list))+'_proposals_part_'+str(iteration)+'.csv'\n",
    "  voting_snapshots_list.to_csv(path, index = False)\n",
    "  chunk_progress = 100*round(remaining/total_props,2)\n",
    "  print('file saved:',path, str(n),'proposals pulled',\n",
    "        '\\nprogress in whole download', str(chunk_progress),'%')\n",
    "\n",
    "\n"
   ],
   "metadata": {
    "collapsed": false,
    "pycharm": {
     "name": "#%%\n"
    }
   }
  },
  {
   "cell_type": "markdown",
   "source": [
    "And finally, the body of each election's choices. Not critical but useful to have.\n",
    "\n",
    "Still needs work! Having a tough time automating pulling all those choices into a single table."
   ],
   "metadata": {
    "collapsed": false,
    "pycharm": {
     "name": "#%% md\n"
    }
   }
  },
  {
   "cell_type": "code",
   "execution_count": null,
   "outputs": [],
   "source": [
    "proposals_choices = sg.query(proposals.choices)\n",
    "proposals_choices"
   ],
   "metadata": {
    "collapsed": false,
    "pycharm": {
     "name": "#%%\n"
    }
   }
  },
  {
   "cell_type": "code",
   "execution_count": null,
   "outputs": [],
   "source": [
    "numchoices = len(pd.DataFrame(proposals_choices).columns)\n",
    "numchoices"
   ],
   "metadata": {
    "collapsed": false,
    "pycharm": {
     "name": "#%%\n"
    }
   }
  },
  {
   "cell_type": "code",
   "execution_count": null,
   "outputs": [],
   "source": [
    "##placing 25 options just in case. Could be more, but I hope not\n",
    "proposals_choices = pd.DataFrame(proposals_choices)\n",
    "\n",
    "##proposals_choices = pd.DataFrame(proposals_choices, columns = ['option_1', 'option_2', 'option_3', 'option_4', 'option_5','option_6','option_7','option_8','option_9','option_10','option_11','option_12','option_13','option_14','option_15','option_16','option_17','option_18','option_19','option_20','option_21','option_22','option_24','option_24','option_25]'])"
   ],
   "metadata": {
    "collapsed": false,
    "pycharm": {
     "name": "#%%\n"
    }
   }
  },
  {
   "cell_type": "code",
   "execution_count": null,
   "outputs": [],
   "source": [
    "dao_governance_view = pd.concat([proposals_snapshots,proposals_choices], axis=1)"
   ],
   "metadata": {
    "collapsed": false,
    "pycharm": {
     "name": "#%%\n"
    }
   }
  },
  {
   "cell_type": "code",
   "execution_count": null,
   "outputs": [],
   "source": [
    "dao_governance_view"
   ],
   "metadata": {
    "collapsed": false,
    "pycharm": {
     "name": "#%%\n"
    }
   }
  },
  {
   "cell_type": "code",
   "execution_count": null,
   "outputs": [],
   "source": [
    "##spit out the file!\n",
    "path =file+'/votes_table_'+str(date.today().strftime(\"%b-%d-%Y\"))+'_'+str(len(voting_snapshots_list))+'_proposals.csv'\n",
    "voting_snapshots_list.to_csv(path, index = False)\n",
    "print('file saved')"
   ],
   "metadata": {
    "collapsed": false,
    "pycharm": {
     "name": "#%%\n"
    }
   }
  },
  {
   "cell_type": "code",
   "execution_count": null,
   "outputs": [],
   "source": [],
   "metadata": {
    "collapsed": false,
    "pycharm": {
     "name": "#%%\n"
    }
   }
  }
 ],
 "metadata": {
  "kernelspec": {
   "display_name": "Python 3",
   "language": "python",
   "name": "python3"
  },
  "language_info": {
   "codemirror_mode": {
    "name": "ipython",
    "version": 2
   },
   "file_extension": ".py",
   "mimetype": "text/x-python",
   "name": "python",
   "nbconvert_exporter": "python",
   "pygments_lexer": "ipython2",
   "version": "2.7.6"
  }
 },
 "nbformat": 4,
 "nbformat_minor": 0
}