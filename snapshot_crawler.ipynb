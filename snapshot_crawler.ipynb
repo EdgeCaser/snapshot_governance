{
 "cells": [
  {
   "cell_type": "code",
   "execution_count": 44,
   "outputs": [],
   "source": [
    "from datetime import datetime\n",
    "from datetime import date\n",
    "from subgrounds.subgraph import SyntheticField, FieldPath\n",
    "from subgrounds.subgrounds import Subgrounds\n",
    "import pandas as pd"
   ],
   "metadata": {
    "collapsed": false,
    "pycharm": {
     "name": "#%%\n"
    }
   }
  },
  {
   "cell_type": "code",
   "execution_count": 45,
   "outputs": [],
   "source": [
    "sg = Subgrounds()\n",
    "snapshot = sg.load_api('https://hub.snapshot.org/graphql')"
   ],
   "metadata": {
    "collapsed": false,
    "pycharm": {
     "name": "#%%\n"
    }
   }
  },
  {
   "cell_type": "markdown",
   "source": [
    "Get the list of spaces. We don't know how many spaces we have, so we have to cycle and only stop when the list is not filled with 1000 rows"
   ],
   "metadata": {
    "collapsed": false,
    "pycharm": {
     "name": "#%% md\n"
    }
   }
  },
  {
   "cell_type": "code",
   "execution_count": 46,
   "outputs": [],
   "source": [
    "spaces=[]\n",
    "spaces = snapshot.Query.spaces(\n",
    "  orderBy='id',\n",
    "  orderDirection='desc',\n",
    "  first=1000,\n",
    ")\n",
    "spaces_list = sg.query_df([\n",
    "    spaces.id\n",
    "    ]\n",
    "  )"
   ],
   "metadata": {
    "collapsed": false,
    "pycharm": {
     "name": "#%%\n"
    }
   }
  },
  {
   "cell_type": "code",
   "execution_count": 47,
   "outputs": [
    {
     "name": "stdout",
     "output_type": "stream",
     "text": [
      "3 1000\n",
      "4 1000\n",
      "5 1000\n",
      "6 1000\n",
      "7 1000\n",
      "8 1000\n",
      "9 980\n"
     ]
    }
   ],
   "source": [
    "spaces2 = []\n",
    "n=0\n",
    "t=2\n",
    "while n<1:\n",
    "  spaces2 = snapshot.Query.spaces(\n",
    "    orderBy='created',\n",
    "    orderDirection='desc',\n",
    "    first=1000,\n",
    "    skip = 1000*t\n",
    "  )\n",
    "  spaces_list2 = sg.query_df([\n",
    "    spaces2.id\n",
    "    ]\n",
    "  )\n",
    "  spaces_list = pd.concat([spaces_list,spaces_list2])\n",
    "  t=t+1\n",
    "  l=len(spaces_list2)\n",
    "  print(t,l)\n",
    "  if len(spaces_list2)<1000: n=1\n",
    "\n",
    "olympus_coord=spaces_list.index[spaces_list['spaces_id'] == 'olympusdao.eth'].tolist()\n"
   ],
   "metadata": {
    "collapsed": false,
    "pycharm": {
     "name": "#%%\n"
    }
   }
  },
  {
   "cell_type": "code",
   "execution_count": 48,
   "outputs": [
    {
     "data": {
      "text/plain": "7980"
     },
     "execution_count": 48,
     "metadata": {},
     "output_type": "execute_result"
    }
   ],
   "source": [
    "numspaces = len(spaces_list)\n",
    "numspaces"
   ],
   "metadata": {
    "collapsed": false,
    "pycharm": {
     "name": "#%%\n"
    }
   }
  },
  {
   "cell_type": "markdown",
   "source": [
    "We get the list of elections  for each snapshot. Note the choice of vote only carries the ID not the question"
   ],
   "metadata": {
    "collapsed": false,
    "pycharm": {
     "name": "#%% md\n"
    }
   }
  },
  {
   "cell_type": "code",
   "execution_count": 49,
   "outputs": [
    {
     "data": {
      "text/plain": "        dao                                    proposals_title  \\\n0  🍯dao.eth                       Should I get 2 times one ETH   \n1  🍯dao.eth  What is the next achievement we should fund be...   \n2  🍯dao.eth  Should the 🍯️DAO set its Gnosis Safe as the co...   \n3  🍯dao.eth                                               Test   \n4  🍯dao.eth                            Donate 1 BAL on Gitcoin   \n\n                                     proposals_id  \\\n0  QmQ1s8FHhX2FtFGRcfbbdJmT1sU8EwPymDytsHyzFp5YoL   \n1  QmZwnht7pRE2xGnUoQMU37eoNV8eEnobrejPZwDzdpBjaY   \n2  QmWwo3TkBtUybd7wcwix6yuGtApR427FBCxiSGJNwowDoN   \n3  QmZQkuw2DFuut5FdYrDji2fKoHW3rWbQd9TbcWgDSufoHa   \n4  QmV7WfE1vxPdwNYoom57zTRBVB38hWRPCZJgXEgD2zxK65   \n\n                                      proposals_body  proposals_scores_total  \n0                      Should I get 2 times one ETH?               10.096352  \n1                                                                   0.498913  \n2  This is a proposal to set the controller of th...                2.711773  \n3                                               Test                5.901114  \n4  Test a donation of 1Bal to the reality.eth Git...                2.476520  ",
      "text/html": "<div>\n<style scoped>\n    .dataframe tbody tr th:only-of-type {\n        vertical-align: middle;\n    }\n\n    .dataframe tbody tr th {\n        vertical-align: top;\n    }\n\n    .dataframe thead th {\n        text-align: right;\n    }\n</style>\n<table border=\"1\" class=\"dataframe\">\n  <thead>\n    <tr style=\"text-align: right;\">\n      <th></th>\n      <th>dao</th>\n      <th>proposals_title</th>\n      <th>proposals_id</th>\n      <th>proposals_body</th>\n      <th>proposals_scores_total</th>\n    </tr>\n  </thead>\n  <tbody>\n    <tr>\n      <th>0</th>\n      <td>🍯dao.eth</td>\n      <td>Should I get 2 times one ETH</td>\n      <td>QmQ1s8FHhX2FtFGRcfbbdJmT1sU8EwPymDytsHyzFp5YoL</td>\n      <td>Should I get 2 times one ETH?</td>\n      <td>10.096352</td>\n    </tr>\n    <tr>\n      <th>1</th>\n      <td>🍯dao.eth</td>\n      <td>What is the next achievement we should fund be...</td>\n      <td>QmZwnht7pRE2xGnUoQMU37eoNV8eEnobrejPZwDzdpBjaY</td>\n      <td></td>\n      <td>0.498913</td>\n    </tr>\n    <tr>\n      <th>2</th>\n      <td>🍯dao.eth</td>\n      <td>Should the 🍯️DAO set its Gnosis Safe as the co...</td>\n      <td>QmWwo3TkBtUybd7wcwix6yuGtApR427FBCxiSGJNwowDoN</td>\n      <td>This is a proposal to set the controller of th...</td>\n      <td>2.711773</td>\n    </tr>\n    <tr>\n      <th>3</th>\n      <td>🍯dao.eth</td>\n      <td>Test</td>\n      <td>QmZQkuw2DFuut5FdYrDji2fKoHW3rWbQd9TbcWgDSufoHa</td>\n      <td>Test</td>\n      <td>5.901114</td>\n    </tr>\n    <tr>\n      <th>4</th>\n      <td>🍯dao.eth</td>\n      <td>Donate 1 BAL on Gitcoin</td>\n      <td>QmV7WfE1vxPdwNYoom57zTRBVB38hWRPCZJgXEgD2zxK65</td>\n      <td>Test a donation of 1Bal to the reality.eth Git...</td>\n      <td>2.476520</td>\n    </tr>\n  </tbody>\n</table>\n</div>"
     },
     "execution_count": 49,
     "metadata": {},
     "output_type": "execute_result"
    }
   ],
   "source": [
    "space_name = spaces_list.iat[1,0]\n",
    "proposals = snapshot.Query.proposals(\n",
    "  orderBy='created',\n",
    "  orderDirection='desc',\n",
    "  first=1000,\n",
    "  where=[\n",
    "    snapshot.Proposal.space == space_name,\n",
    "    snapshot.Proposal.state == 'closed'\n",
    "    ##snapshot.Proposal.title == 'OIP-18: Reward rate framework and reduction',\n",
    "  ]\n",
    ")\n",
    "\n",
    "proposals_snapshots = sg.query_df([\n",
    "    proposals.title,\n",
    "    proposals.id,\n",
    "    proposals.body,\n",
    "    proposals.scores,\n",
    "    proposals.scores_total\n",
    "])\n",
    "\n",
    "proposals_snapshots.insert(0,'dao',space_name)\n",
    "\n",
    "proposals_snapshots"
   ],
   "metadata": {
    "collapsed": false,
    "pycharm": {
     "name": "#%%\n"
    }
   }
  },
  {
   "cell_type": "code",
   "execution_count": 50,
   "outputs": [
    {
     "data": {
      "text/plain": "        dao                           proposals_title  \\\n0   허경영.eth                                     why 5   \n1   허경영.eth                                     why 5   \n2   허경영.eth                                       why   \n3   허경영.eth                                       hi5   \n4   허경영.eth                                       hi4   \n5   허경영.eth                                       hi3   \n6   허경영.eth                                       hi2   \n7   허경영.eth                                        gu   \n8   허경영.eth                                        hi   \n9   허경영.eth                                        hi   \n10  허경영.eth  GIP 1: Initiating GHostsProject DAO asas   \n11  허경영.eth    GIP 1: Initiating GhostsProject DAO V1   \n12  허경영.eth       GIP 1: Initiating GHostsProject DAO   \n13  허경영.eth    GIP 1: Initiating GhostsProject DAO V1   \n14  허경영.eth                                       aaa   \n15  허경영.eth                                       aaa   \n16  허경영.eth                                       aaa   \n17  허경영.eth                                       aaa   \n18  허경영.eth                                      tes4   \n19  허경영.eth                                     test3   \n20  허경영.eth                                      test   \n21  허경영.eth                                      test   \n\n                                         proposals_id  \\\n0   0xc340fabba20d23630113a5783957ee786954ccd968e1...   \n1   0xfd06a5d0eb8d2b50ca98280cebd30785b4435def91c6...   \n2   0x50f96ae5e39556ff8acd4eb9dc42c61d438f31caa221...   \n3   0xada54df6c07216c894e7df55969799054334e32c997b...   \n4   0x78a6dae6010a48caca5f01ecf18c2e642cb6c9f16439...   \n5   0x5084fa5a12140a987cafe66558e29a0b4923d234978f...   \n6   0x34517359520f69def2c93be88436a2dd98a969cd7c80...   \n7   0xaec2dc27b15b1613386496147194ccbf173cd828c2bd...   \n8   0xa95c1989d5ed6645317f5137285e5f43c17857c8f026...   \n9   0x20f9fab4442fa4364c3ed23a0d8181bb696713ae8995...   \n10  0xc8edaa15b143bc113a9f6a383f69d6937f57a02cd04b...   \n11  0x169304f8cd4c2ea70dee3766bfe7a02e41ecb8cd8ed0...   \n12  0x4d1b0c9675afb3e4fed3cf7a4b044aa66ba4d054f66d...   \n13  0xd3025ca0b81f6a390f0955d109f4d1cae3df44d7a9eb...   \n14  0xa545ecad22c851dc330da435e14944010545c9dfc82e...   \n15  0x18ed8c70621f6740c1f9775a55070a6346e5c991884d...   \n16  0x1a8ddef788546498e1ac24349419a120f3b30aa682ee...   \n17  0x5b02a7559388f6442f39fc6c8340cfb327161c4c83eb...   \n18  0x8778b4fca3dabb722eb937403c0e363154b7a181bc2e...   \n19  0x6a17f472c1f1679e64ace47ef5ef6cc9d13f91c8886a...   \n20  0x077dfd4c9e16905837e54b3939f5543bc1414cbfbe41...   \n21  0x4675e59a92310e1523690b07e67e7febb9d3e96c4bc4...   \n\n                                       proposals_body  proposals_scores_total  \n0                                                 wht                       0  \n1                                                 wht                       7  \n2                                                 wht                       0  \n3                                                 hi5                       7  \n4                                                 hi4                       0  \n5                                                hi23                       0  \n6                                                 hi2                       0  \n7                                                  gu                       0  \n8                                                  hi                       0  \n9                                                  hi                       0  \n10  **Title of the Proposal:** GIP 1: Initiating G...                       0  \n11  GIP 1: Initiating GhostsProject DAO V1\\n\\n\\n\\n...                       0  \n12  **Title of the Proposal:** GIP 1: Initiating G...                       0  \n13             GIP 1: Initiating GhostsProject DAO V1                       0  \n14                                                aaa                      11  \n15                                                ㅁㅁㅁ                       0  \n16                                                aaa                      11  \n17                                                aaa                      11  \n18                                               test                       0  \n19                                              test3                      11  \n20                                               test                       7  \n21                                               test                       7  ",
      "text/html": "<div>\n<style scoped>\n    .dataframe tbody tr th:only-of-type {\n        vertical-align: middle;\n    }\n\n    .dataframe tbody tr th {\n        vertical-align: top;\n    }\n\n    .dataframe thead th {\n        text-align: right;\n    }\n</style>\n<table border=\"1\" class=\"dataframe\">\n  <thead>\n    <tr style=\"text-align: right;\">\n      <th></th>\n      <th>dao</th>\n      <th>proposals_title</th>\n      <th>proposals_id</th>\n      <th>proposals_body</th>\n      <th>proposals_scores_total</th>\n    </tr>\n  </thead>\n  <tbody>\n    <tr>\n      <th>0</th>\n      <td>허경영.eth</td>\n      <td>why 5</td>\n      <td>0xc340fabba20d23630113a5783957ee786954ccd968e1...</td>\n      <td>wht</td>\n      <td>0</td>\n    </tr>\n    <tr>\n      <th>1</th>\n      <td>허경영.eth</td>\n      <td>why 5</td>\n      <td>0xfd06a5d0eb8d2b50ca98280cebd30785b4435def91c6...</td>\n      <td>wht</td>\n      <td>7</td>\n    </tr>\n    <tr>\n      <th>2</th>\n      <td>허경영.eth</td>\n      <td>why</td>\n      <td>0x50f96ae5e39556ff8acd4eb9dc42c61d438f31caa221...</td>\n      <td>wht</td>\n      <td>0</td>\n    </tr>\n    <tr>\n      <th>3</th>\n      <td>허경영.eth</td>\n      <td>hi5</td>\n      <td>0xada54df6c07216c894e7df55969799054334e32c997b...</td>\n      <td>hi5</td>\n      <td>7</td>\n    </tr>\n    <tr>\n      <th>4</th>\n      <td>허경영.eth</td>\n      <td>hi4</td>\n      <td>0x78a6dae6010a48caca5f01ecf18c2e642cb6c9f16439...</td>\n      <td>hi4</td>\n      <td>0</td>\n    </tr>\n    <tr>\n      <th>5</th>\n      <td>허경영.eth</td>\n      <td>hi3</td>\n      <td>0x5084fa5a12140a987cafe66558e29a0b4923d234978f...</td>\n      <td>hi23</td>\n      <td>0</td>\n    </tr>\n    <tr>\n      <th>6</th>\n      <td>허경영.eth</td>\n      <td>hi2</td>\n      <td>0x34517359520f69def2c93be88436a2dd98a969cd7c80...</td>\n      <td>hi2</td>\n      <td>0</td>\n    </tr>\n    <tr>\n      <th>7</th>\n      <td>허경영.eth</td>\n      <td>gu</td>\n      <td>0xaec2dc27b15b1613386496147194ccbf173cd828c2bd...</td>\n      <td>gu</td>\n      <td>0</td>\n    </tr>\n    <tr>\n      <th>8</th>\n      <td>허경영.eth</td>\n      <td>hi</td>\n      <td>0xa95c1989d5ed6645317f5137285e5f43c17857c8f026...</td>\n      <td>hi</td>\n      <td>0</td>\n    </tr>\n    <tr>\n      <th>9</th>\n      <td>허경영.eth</td>\n      <td>hi</td>\n      <td>0x20f9fab4442fa4364c3ed23a0d8181bb696713ae8995...</td>\n      <td>hi</td>\n      <td>0</td>\n    </tr>\n    <tr>\n      <th>10</th>\n      <td>허경영.eth</td>\n      <td>GIP 1: Initiating GHostsProject DAO asas</td>\n      <td>0xc8edaa15b143bc113a9f6a383f69d6937f57a02cd04b...</td>\n      <td>**Title of the Proposal:** GIP 1: Initiating G...</td>\n      <td>0</td>\n    </tr>\n    <tr>\n      <th>11</th>\n      <td>허경영.eth</td>\n      <td>GIP 1: Initiating GhostsProject DAO V1</td>\n      <td>0x169304f8cd4c2ea70dee3766bfe7a02e41ecb8cd8ed0...</td>\n      <td>GIP 1: Initiating GhostsProject DAO V1\\n\\n\\n\\n...</td>\n      <td>0</td>\n    </tr>\n    <tr>\n      <th>12</th>\n      <td>허경영.eth</td>\n      <td>GIP 1: Initiating GHostsProject DAO</td>\n      <td>0x4d1b0c9675afb3e4fed3cf7a4b044aa66ba4d054f66d...</td>\n      <td>**Title of the Proposal:** GIP 1: Initiating G...</td>\n      <td>0</td>\n    </tr>\n    <tr>\n      <th>13</th>\n      <td>허경영.eth</td>\n      <td>GIP 1: Initiating GhostsProject DAO V1</td>\n      <td>0xd3025ca0b81f6a390f0955d109f4d1cae3df44d7a9eb...</td>\n      <td>GIP 1: Initiating GhostsProject DAO V1</td>\n      <td>0</td>\n    </tr>\n    <tr>\n      <th>14</th>\n      <td>허경영.eth</td>\n      <td>aaa</td>\n      <td>0xa545ecad22c851dc330da435e14944010545c9dfc82e...</td>\n      <td>aaa</td>\n      <td>11</td>\n    </tr>\n    <tr>\n      <th>15</th>\n      <td>허경영.eth</td>\n      <td>aaa</td>\n      <td>0x18ed8c70621f6740c1f9775a55070a6346e5c991884d...</td>\n      <td>ㅁㅁㅁ</td>\n      <td>0</td>\n    </tr>\n    <tr>\n      <th>16</th>\n      <td>허경영.eth</td>\n      <td>aaa</td>\n      <td>0x1a8ddef788546498e1ac24349419a120f3b30aa682ee...</td>\n      <td>aaa</td>\n      <td>11</td>\n    </tr>\n    <tr>\n      <th>17</th>\n      <td>허경영.eth</td>\n      <td>aaa</td>\n      <td>0x5b02a7559388f6442f39fc6c8340cfb327161c4c83eb...</td>\n      <td>aaa</td>\n      <td>11</td>\n    </tr>\n    <tr>\n      <th>18</th>\n      <td>허경영.eth</td>\n      <td>tes4</td>\n      <td>0x8778b4fca3dabb722eb937403c0e363154b7a181bc2e...</td>\n      <td>test</td>\n      <td>0</td>\n    </tr>\n    <tr>\n      <th>19</th>\n      <td>허경영.eth</td>\n      <td>test3</td>\n      <td>0x6a17f472c1f1679e64ace47ef5ef6cc9d13f91c8886a...</td>\n      <td>test3</td>\n      <td>11</td>\n    </tr>\n    <tr>\n      <th>20</th>\n      <td>허경영.eth</td>\n      <td>test</td>\n      <td>0x077dfd4c9e16905837e54b3939f5543bc1414cbfbe41...</td>\n      <td>test</td>\n      <td>7</td>\n    </tr>\n    <tr>\n      <th>21</th>\n      <td>허경영.eth</td>\n      <td>test</td>\n      <td>0x4675e59a92310e1523690b07e67e7febb9d3e96c4bc4...</td>\n      <td>test</td>\n      <td>7</td>\n    </tr>\n  </tbody>\n</table>\n</div>"
     },
     "execution_count": 50,
     "metadata": {},
     "output_type": "execute_result"
    }
   ],
   "source": [
    "space_name = spaces_list.iat[2,0]\n",
    "\n",
    "proposals2 = snapshot.Query.proposals(\n",
    "  orderBy='created',\n",
    "  orderDirection='desc',\n",
    "  first=1000,\n",
    "  where=[\n",
    "    snapshot.Proposal.space == space_name,\n",
    "    snapshot.Proposal.state == 'closed'\n",
    "    ##snapshot.Proposal.title == 'OIP-18: Reward rate framework and reduction',\n",
    "  ]\n",
    ")\n",
    "\n",
    "proposals_snapshots2 = sg.query_df([\n",
    "    proposals2.title,\n",
    "    proposals2.id,\n",
    "    proposals2.body,\n",
    "    proposals2.scores,\n",
    "    proposals2.scores_total\n",
    "])\n",
    "\n",
    "proposals_snapshots2.insert(0,'dao',space_name)\n",
    "\n",
    "proposals_snapshots2"
   ],
   "metadata": {
    "collapsed": false,
    "pycharm": {
     "name": "#%%\n"
    }
   }
  },
  {
   "cell_type": "code",
   "execution_count": 51,
   "outputs": [
    {
     "name": "stdout",
     "output_type": "stream",
     "text": [
      "10 狂奔的蜗牛5.eth 0\n",
      "20 深圳刘先生.eth 0\n",
      "30 掌上中药网平台.eth 0\n",
      "40 商丘工学院.eth 0\n",
      "50 中华人民共和国中央人民政府.eth 0\n"
     ]
    },
    {
     "data": {
      "text/plain": "         dao                                    proposals_title  \\\n0   🍯dao.eth                       Should I get 2 times one ETH   \n1   🍯dao.eth  What is the next achievement we should fund be...   \n2   🍯dao.eth  Should the 🍯️DAO set its Gnosis Safe as the co...   \n3   🍯dao.eth                                               Test   \n4   🍯dao.eth                            Donate 1 BAL on Gitcoin   \n..       ...                                                ...   \n17   허경영.eth                                                aaa   \n18   허경영.eth                                               tes4   \n19   허경영.eth                                              test3   \n20   허경영.eth                                               test   \n21   허경영.eth                                               test   \n\n                                         proposals_id  \\\n0      QmQ1s8FHhX2FtFGRcfbbdJmT1sU8EwPymDytsHyzFp5YoL   \n1      QmZwnht7pRE2xGnUoQMU37eoNV8eEnobrejPZwDzdpBjaY   \n2      QmWwo3TkBtUybd7wcwix6yuGtApR427FBCxiSGJNwowDoN   \n3      QmZQkuw2DFuut5FdYrDji2fKoHW3rWbQd9TbcWgDSufoHa   \n4      QmV7WfE1vxPdwNYoom57zTRBVB38hWRPCZJgXEgD2zxK65   \n..                                                ...   \n17  0x5b02a7559388f6442f39fc6c8340cfb327161c4c83eb...   \n18  0x8778b4fca3dabb722eb937403c0e363154b7a181bc2e...   \n19  0x6a17f472c1f1679e64ace47ef5ef6cc9d13f91c8886a...   \n20  0x077dfd4c9e16905837e54b3939f5543bc1414cbfbe41...   \n21  0x4675e59a92310e1523690b07e67e7febb9d3e96c4bc4...   \n\n                                       proposals_body  proposals_scores_total  \n0                       Should I get 2 times one ETH?               10.096352  \n1                                                                    0.498913  \n2   This is a proposal to set the controller of th...                2.711773  \n3                                                Test                5.901114  \n4   Test a donation of 1Bal to the reality.eth Git...                2.476520  \n..                                                ...                     ...  \n17                                                aaa               11.000000  \n18                                               test                0.000000  \n19                                              test3               11.000000  \n20                                               test                7.000000  \n21                                               test                7.000000  \n\n[1061 rows x 5 columns]",
      "text/html": "<div>\n<style scoped>\n    .dataframe tbody tr th:only-of-type {\n        vertical-align: middle;\n    }\n\n    .dataframe tbody tr th {\n        vertical-align: top;\n    }\n\n    .dataframe thead th {\n        text-align: right;\n    }\n</style>\n<table border=\"1\" class=\"dataframe\">\n  <thead>\n    <tr style=\"text-align: right;\">\n      <th></th>\n      <th>dao</th>\n      <th>proposals_title</th>\n      <th>proposals_id</th>\n      <th>proposals_body</th>\n      <th>proposals_scores_total</th>\n    </tr>\n  </thead>\n  <tbody>\n    <tr>\n      <th>0</th>\n      <td>🍯dao.eth</td>\n      <td>Should I get 2 times one ETH</td>\n      <td>QmQ1s8FHhX2FtFGRcfbbdJmT1sU8EwPymDytsHyzFp5YoL</td>\n      <td>Should I get 2 times one ETH?</td>\n      <td>10.096352</td>\n    </tr>\n    <tr>\n      <th>1</th>\n      <td>🍯dao.eth</td>\n      <td>What is the next achievement we should fund be...</td>\n      <td>QmZwnht7pRE2xGnUoQMU37eoNV8eEnobrejPZwDzdpBjaY</td>\n      <td></td>\n      <td>0.498913</td>\n    </tr>\n    <tr>\n      <th>2</th>\n      <td>🍯dao.eth</td>\n      <td>Should the 🍯️DAO set its Gnosis Safe as the co...</td>\n      <td>QmWwo3TkBtUybd7wcwix6yuGtApR427FBCxiSGJNwowDoN</td>\n      <td>This is a proposal to set the controller of th...</td>\n      <td>2.711773</td>\n    </tr>\n    <tr>\n      <th>3</th>\n      <td>🍯dao.eth</td>\n      <td>Test</td>\n      <td>QmZQkuw2DFuut5FdYrDji2fKoHW3rWbQd9TbcWgDSufoHa</td>\n      <td>Test</td>\n      <td>5.901114</td>\n    </tr>\n    <tr>\n      <th>4</th>\n      <td>🍯dao.eth</td>\n      <td>Donate 1 BAL on Gitcoin</td>\n      <td>QmV7WfE1vxPdwNYoom57zTRBVB38hWRPCZJgXEgD2zxK65</td>\n      <td>Test a donation of 1Bal to the reality.eth Git...</td>\n      <td>2.476520</td>\n    </tr>\n    <tr>\n      <th>...</th>\n      <td>...</td>\n      <td>...</td>\n      <td>...</td>\n      <td>...</td>\n      <td>...</td>\n    </tr>\n    <tr>\n      <th>17</th>\n      <td>허경영.eth</td>\n      <td>aaa</td>\n      <td>0x5b02a7559388f6442f39fc6c8340cfb327161c4c83eb...</td>\n      <td>aaa</td>\n      <td>11.000000</td>\n    </tr>\n    <tr>\n      <th>18</th>\n      <td>허경영.eth</td>\n      <td>tes4</td>\n      <td>0x8778b4fca3dabb722eb937403c0e363154b7a181bc2e...</td>\n      <td>test</td>\n      <td>0.000000</td>\n    </tr>\n    <tr>\n      <th>19</th>\n      <td>허경영.eth</td>\n      <td>test3</td>\n      <td>0x6a17f472c1f1679e64ace47ef5ef6cc9d13f91c8886a...</td>\n      <td>test3</td>\n      <td>11.000000</td>\n    </tr>\n    <tr>\n      <th>20</th>\n      <td>허경영.eth</td>\n      <td>test</td>\n      <td>0x077dfd4c9e16905837e54b3939f5543bc1414cbfbe41...</td>\n      <td>test</td>\n      <td>7.000000</td>\n    </tr>\n    <tr>\n      <th>21</th>\n      <td>허경영.eth</td>\n      <td>test</td>\n      <td>0x4675e59a92310e1523690b07e67e7febb9d3e96c4bc4...</td>\n      <td>test</td>\n      <td>7.000000</td>\n    </tr>\n  </tbody>\n</table>\n<p>1061 rows × 5 columns</p>\n</div>"
     },
     "execution_count": 51,
     "metadata": {},
     "output_type": "execute_result"
    }
   ],
   "source": [
    "proposals3 = []\n",
    "t=3\n",
    "while t<=50: ##numspaces when out of testing\n",
    "  space_name = spaces_list.iat[t,0]\n",
    "  proposals3 = snapshot.Query.proposals(\n",
    "    orderBy='created',\n",
    "    orderDirection='desc',\n",
    "    first=1000,\n",
    "    skip = 1000*t,\n",
    "    where=[\n",
    "      snapshot.Proposal.space == space_name,\n",
    "      snapshot.Proposal.state == 'closed'\n",
    "      ]\n",
    "  )\n",
    "  proposals_snapshots3 = sg.query_df([\n",
    "    proposals3.title,\n",
    "    proposals3.id,\n",
    "    proposals3.body,\n",
    "    proposals3.scores,\n",
    "    proposals3.scores_total\n",
    "])\n",
    "  proposals_snapshots3.insert(0,'dao',space_name)\n",
    "  proposals_snapshots = pd.concat([proposals_snapshots,proposals_snapshots2,proposals_snapshots3])\n",
    "  t=t+1\n",
    "  l=len(proposals_snapshots3)\n",
    "  if t%10 == 0: print (t,space_name,l)\n",
    "  if len(proposals_snapshots3)>0:\n",
    "    print(t,space_name,l)\n",
    "\n",
    "proposals_snapshots"
   ],
   "metadata": {
    "collapsed": false,
    "pycharm": {
     "name": "#%%\n"
    }
   }
  },
  {
   "cell_type": "code",
   "execution_count": 52,
   "outputs": [
    {
     "data": {
      "text/plain": "1061"
     },
     "execution_count": 52,
     "metadata": {},
     "output_type": "execute_result"
    }
   ],
   "source": [
    "len(proposals_snapshots)"
   ],
   "metadata": {
    "collapsed": false,
    "pycharm": {
     "name": "#%%\n"
    }
   }
  },
  {
   "cell_type": "markdown",
   "source": [
    "Why is this here? Cuz I was too lazy to move it. We are going to use this to timestamp the filenames"
   ],
   "metadata": {
    "collapsed": false,
    "pycharm": {
     "name": "#%% md\n"
    }
   }
  },
  {
   "cell_type": "code",
   "execution_count": 53,
   "outputs": [],
   "source": [
    "snapshot.Proposal.datetime = SyntheticField(\n",
    "  lambda timestamp: str(datetime.fromtimestamp(timestamp)),\n",
    "  SyntheticField.STRING,\n",
    "  snapshot.Proposal.end,\n",
    "  )\n"
   ],
   "metadata": {
    "collapsed": false,
    "pycharm": {
     "name": "#%%\n"
    }
   }
  },
  {
   "cell_type": "code",
   "execution_count": 66,
   "outputs": [],
   "source": [
    "##spit out the file!\n",
    "file = input('Selet a folder') ##enter your file path here - the file is in the repo \"summary_stats.csv\".\n",
    "path = '/Users/ianbrillembourg/PycharmProjects/snapshot_governance/votes_table_'+str(date.today().strftime(\"%b-%d-%Y\"))+'_'+str(len(proposals_snapshots))+'_proposals.csv'\n",
    "proposals_snapshots.to_csv(path, index = False)"
   ],
   "metadata": {
    "collapsed": false,
    "pycharm": {
     "name": "#%%\n"
    }
   }
  },
  {
   "cell_type": "markdown",
   "source": [
    "Let's pull the choices each voter made. As always, I prime the pump with a single pull, then append more records/"
   ],
   "metadata": {
    "collapsed": false,
    "pycharm": {
     "name": "#%% md\n"
    }
   }
  },
  {
   "cell_type": "code",
   "execution_count": 61,
   "outputs": [
    {
     "data": {
      "text/plain": "                                            votes_id  \\\n0  0x6df5f88dbe7c5c114cb9991fd93a2395c669e1608ca6...   \n\n                                  votes_voter  votes_created  votes_choice  \\\n0  0x5cF6e510E0C123E1e839376F8Ea1900Bb9B9A6C1     1654154075             1   \n\n   votes_vp  \n0         7  ",
      "text/html": "<div>\n<style scoped>\n    .dataframe tbody tr th:only-of-type {\n        vertical-align: middle;\n    }\n\n    .dataframe tbody tr th {\n        vertical-align: top;\n    }\n\n    .dataframe thead th {\n        text-align: right;\n    }\n</style>\n<table border=\"1\" class=\"dataframe\">\n  <thead>\n    <tr style=\"text-align: right;\">\n      <th></th>\n      <th>votes_id</th>\n      <th>votes_voter</th>\n      <th>votes_created</th>\n      <th>votes_choice</th>\n      <th>votes_vp</th>\n    </tr>\n  </thead>\n  <tbody>\n    <tr>\n      <th>0</th>\n      <td>0x6df5f88dbe7c5c114cb9991fd93a2395c669e1608ca6...</td>\n      <td>0x5cF6e510E0C123E1e839376F8Ea1900Bb9B9A6C1</td>\n      <td>1654154075</td>\n      <td>1</td>\n      <td>7</td>\n    </tr>\n  </tbody>\n</table>\n</div>"
     },
     "execution_count": 61,
     "metadata": {},
     "output_type": "execute_result"
    }
   ],
   "source": [
    "proposal_id = proposals_snapshots.iloc[1,2]\n",
    "voting_snapshots_list = sg.query_df([\n",
    "  vote_tracker.id,\n",
    "  vote_tracker.voter,\n",
    "  vote_tracker.created,\n",
    "  vote_tracker.choice,\n",
    "  vote_tracker.vp\n",
    "])\n",
    "voting_snapshots_list"
   ],
   "metadata": {
    "collapsed": false,
    "pycharm": {
     "name": "#%%\n"
    }
   }
  },
  {
   "cell_type": "code",
   "execution_count": 62,
   "outputs": [
    {
     "name": "stdout",
     "output_type": "stream",
     "text": [
      "                                            votes_id  \\\n",
      "0  0x6df5f88dbe7c5c114cb9991fd93a2395c669e1608ca6...   \n",
      "\n",
      "                                  votes_voter  votes_created  votes_choice  \\\n",
      "0  0x5cF6e510E0C123E1e839376F8Ea1900Bb9B9A6C1     1654154075             1   \n",
      "\n",
      "   votes_vp                                        Proposal  \n",
      "0         7  QmZwnht7pRE2xGnUoQMU37eoNV8eEnobrejPZwDzdpBjaY  \n"
     ]
    }
   ],
   "source": [
    "voting_snapshots_list['Proposal'] = proposal_id\n",
    "print(voting_snapshots_list)"
   ],
   "metadata": {
    "collapsed": false,
    "pycharm": {
     "name": "#%%\n"
    }
   }
  },
  {
   "cell_type": "code",
   "execution_count": 63,
   "outputs": [
    {
     "name": "stdout",
     "output_type": "stream",
     "text": [
      "10 0x5084fa5a12140a987cafe66558e29a0b4923d234978f5b183c39a9ee07ccfc94\n",
      "20 0x18ed8c70621f6740c1f9775a55070a6346e5c991884deef75f49c614b62cc84d\n",
      "30 0xada54df6c07216c894e7df55969799054334e32c997b7b9565be62084f0ad366\n",
      "40 0xd3025ca0b81f6a390f0955d109f4d1cae3df44d7a9eb956bbbc6cd7ce80891d0\n",
      "50 0xfd06a5d0eb8d2b50ca98280cebd30785b4435def91c696c86ef6d987095cf918\n"
     ]
    }
   ],
   "source": [
    "n=2\n",
    "total_props = (len(proposals_snapshots))-1\n",
    "while n<=50: ##total_props:\n",
    "  proposal_id = proposals_snapshots.iloc[n,2]\n",
    "  if n%10 == 0: print (n,proposal_id)\n",
    "  n=n+1\n",
    "  vote_tracker = snapshot.Query.votes(\n",
    "  orderBy = 'created',\n",
    "  orderDirection='desc',\n",
    "  first=10000,\n",
    "  where=[\n",
    "    snapshot.Vote.proposal == proposal_id\n",
    "  ])\n",
    "  voting_snapshots_list2 = sg.query_df([\n",
    "    vote_tracker.id,\n",
    "    vote_tracker.voter,\n",
    "    vote_tracker.created,\n",
    "    vote_tracker.choice,\n",
    "    vote_tracker.vp\n",
    "  ])\n",
    "  voting_snapshots_list2['Proposal'] = proposal_id\n",
    "  voting_snapshots_list = pd.concat([voting_snapshots_list,voting_snapshots_list2])"
   ],
   "metadata": {
    "collapsed": false,
    "pycharm": {
     "name": "#%%\n"
    }
   }
  },
  {
   "cell_type": "code",
   "execution_count": 64,
   "outputs": [
    {
     "data": {
      "text/plain": "                                            votes_id  \\\n0  0x6df5f88dbe7c5c114cb9991fd93a2395c669e1608ca6...   \n0     QmcZ8TpRkGpjfNDgta7YND3HBHbVJ4TwJN42kANstSQiKQ   \n1     QmUqNwHL9aFG1tgdkBytg3X9JTRLnSoYLnDSdNGeQMUfcY   \n0     QmQHbreEmbhDsDrRDP8cV5r8Lim3m2iu7iUNT6wjAWR1V1   \n1     QmV8Dg5jyYJfv2RuqW6WwMX5BC1MmWTUWnf6Lh4e2bdihj   \n2     QmXxQA5fLUnxQbvCaQX1F7RYp12BpkP8MgKPoK2GdYteqU   \n3     QmYGGETLKWCAEs3U63H77n2MKyxM2r3xMmaSRzQa9yKhxS   \n4     QmdCaXncTR5XS64BdF3U5av4cQSdc9ikUPcBKAzghXYMDE   \n5     QmezEYaRALq6krgD6thubabxdrceTrRkM2xEFpJDMFzvkp   \n0     QmSNHx5ouhMNXn87BXqK5HGQdQzbTTLBjfoqU4Z9YTNCwF   \n0  0x6df5f88dbe7c5c114cb9991fd93a2395c669e1608ca6...   \n0  0x8de9c4cb6b6f64791227801698d6434a7555646e1b4d...   \n0  0xecc9d04f921ec63799e49d7f41a0a733140b9b3d08a0...   \n0  0xa14ae21524a896ba0bcc5dd83ad0546af05b7c340bfa...   \n0  0x5b62fa5c20daeeca71522ad1c6aea8556f26cf850c7a...   \n0  0xfd19773e0f156e3ba597324cf1d6cf14d32ef63f2b74...   \n1  0x66a006d6e1e4541879af35f5b0177179356f45f2ff11...   \n0  0xd927545d51375491f5d9527099084d2816b2e53289a5...   \n0  0x3e4e686d5e5ae85085c39f8d1106c339e767bea7e6c4...   \n0  0x6df5f88dbe7c5c114cb9991fd93a2395c669e1608ca6...   \n0  0x8de9c4cb6b6f64791227801698d6434a7555646e1b4d...   \n0  0xecc9d04f921ec63799e49d7f41a0a733140b9b3d08a0...   \n0  0xa14ae21524a896ba0bcc5dd83ad0546af05b7c340bfa...   \n0  0x5b62fa5c20daeeca71522ad1c6aea8556f26cf850c7a...   \n0  0xfd19773e0f156e3ba597324cf1d6cf14d32ef63f2b74...   \n1  0x66a006d6e1e4541879af35f5b0177179356f45f2ff11...   \n0  0xd927545d51375491f5d9527099084d2816b2e53289a5...   \n0  0x3e4e686d5e5ae85085c39f8d1106c339e767bea7e6c4...   \n0  0x6df5f88dbe7c5c114cb9991fd93a2395c669e1608ca6...   \n\n                                  votes_voter  votes_created votes_choice  \\\n0  0x5cF6e510E0C123E1e839376F8Ea1900Bb9B9A6C1   1.654154e+09          1.0   \n0  0x7B2e78D4dFaABA045A167a70dA285E30E8FcA196   1.618525e+09          1.0   \n1  0xd714Dd60e22BbB1cbAFD0e40dE5Cfa7bBDD3F3C8   1.618496e+09          1.0   \n0  0x7B2e78D4dFaABA045A167a70dA285E30E8FcA196   1.616704e+09          2.0   \n1  0xd714Dd60e22BbB1cbAFD0e40dE5Cfa7bBDD3F3C8   1.616685e+09          2.0   \n2  0x08Fb5797b3D751D022736F6DF6006a39c049c2C6   1.616337e+09          1.0   \n3  0x44Ba78D48D0981c765DEE84C048Cea662eAe2E8f   1.616337e+09          1.0   \n4  0xE8Ef67a6677ba943c33b6C926598072e919b0B6D   1.616103e+09          2.0   \n5  0x24F15402C6Bb870554489b2fd2049A85d75B982f   1.616035e+09          1.0   \n0  0x7B2e78D4dFaABA045A167a70dA285E30E8FcA196   1.616023e+09          1.0   \n0  0x5cF6e510E0C123E1e839376F8Ea1900Bb9B9A6C1   1.654154e+09          1.0   \n0  0x5cF6e510E0C123E1e839376F8Ea1900Bb9B9A6C1   1.654072e+09          1.0   \n0  0x5cF6e510E0C123E1e839376F8Ea1900Bb9B9A6C1   1.652003e+09          2.0   \n0  0x5cF6e510E0C123E1e839376F8Ea1900Bb9B9A6C1   1.651675e+09   {'1': 100}   \n0  0x5cF6e510E0C123E1e839376F8Ea1900Bb9B9A6C1   1.651584e+09            1   \n0  0x5cF6e510E0C123E1e839376F8Ea1900Bb9B9A6C1   1.650735e+09            1   \n1  0x8A39eC10AE914CD71DE75A766D7Beb78C1286D0e   1.650735e+09            1   \n0  0x5cF6e510E0C123E1e839376F8Ea1900Bb9B9A6C1   1.650859e+09            2   \n0  0x5cF6e510E0C123E1e839376F8Ea1900Bb9B9A6C1   1.650733e+09            1   \n0  0x5cF6e510E0C123E1e839376F8Ea1900Bb9B9A6C1   1.654154e+09            1   \n0  0x5cF6e510E0C123E1e839376F8Ea1900Bb9B9A6C1   1.654072e+09            1   \n0  0x5cF6e510E0C123E1e839376F8Ea1900Bb9B9A6C1   1.652003e+09            2   \n0  0x5cF6e510E0C123E1e839376F8Ea1900Bb9B9A6C1   1.651675e+09   {'1': 100}   \n0  0x5cF6e510E0C123E1e839376F8Ea1900Bb9B9A6C1   1.651584e+09            1   \n0  0x5cF6e510E0C123E1e839376F8Ea1900Bb9B9A6C1   1.650735e+09            1   \n1  0x8A39eC10AE914CD71DE75A766D7Beb78C1286D0e   1.650735e+09            1   \n0  0x5cF6e510E0C123E1e839376F8Ea1900Bb9B9A6C1   1.650859e+09            2   \n0  0x5cF6e510E0C123E1e839376F8Ea1900Bb9B9A6C1   1.650733e+09            1   \n0  0x5cF6e510E0C123E1e839376F8Ea1900Bb9B9A6C1   1.654154e+09            1   \n\n    votes_vp                                           Proposal  \n0   7.000000     QmZwnht7pRE2xGnUoQMU37eoNV8eEnobrejPZwDzdpBjaY  \n0   2.061410     QmWwo3TkBtUybd7wcwix6yuGtApR427FBCxiSGJNwowDoN  \n1   0.650362     QmWwo3TkBtUybd7wcwix6yuGtApR427FBCxiSGJNwowDoN  \n0   2.414856     QmZQkuw2DFuut5FdYrDji2fKoHW3rWbQd9TbcWgDSufoHa  \n1   0.200417     QmZQkuw2DFuut5FdYrDji2fKoHW3rWbQd9TbcWgDSufoHa  \n2   0.159626     QmZQkuw2DFuut5FdYrDji2fKoHW3rWbQd9TbcWgDSufoHa  \n3   0.196898     QmZQkuw2DFuut5FdYrDji2fKoHW3rWbQd9TbcWgDSufoHa  \n4   1.010692     QmZQkuw2DFuut5FdYrDji2fKoHW3rWbQd9TbcWgDSufoHa  \n5   1.918624     QmZQkuw2DFuut5FdYrDji2fKoHW3rWbQd9TbcWgDSufoHa  \n0   2.476520     QmV7WfE1vxPdwNYoom57zTRBVB38hWRPCZJgXEgD2zxK65  \n0   7.000000  0xfd06a5d0eb8d2b50ca98280cebd30785b4435def91c6...  \n0   7.000000  0xada54df6c07216c894e7df55969799054334e32c997b...  \n0  11.000000  0xa545ecad22c851dc330da435e14944010545c9dfc82e...  \n0  11.000000  0x1a8ddef788546498e1ac24349419a120f3b30aa682ee...  \n0  11.000000  0x5b02a7559388f6442f39fc6c8340cfb327161c4c83eb...  \n0   7.000000  0x6a17f472c1f1679e64ace47ef5ef6cc9d13f91c8886a...  \n1   4.000000  0x6a17f472c1f1679e64ace47ef5ef6cc9d13f91c8886a...  \n0   7.000000  0x077dfd4c9e16905837e54b3939f5543bc1414cbfbe41...  \n0   7.000000  0x4675e59a92310e1523690b07e67e7febb9d3e96c4bc4...  \n0   7.000000  0xfd06a5d0eb8d2b50ca98280cebd30785b4435def91c6...  \n0   7.000000  0xada54df6c07216c894e7df55969799054334e32c997b...  \n0  11.000000  0xa545ecad22c851dc330da435e14944010545c9dfc82e...  \n0  11.000000  0x1a8ddef788546498e1ac24349419a120f3b30aa682ee...  \n0  11.000000  0x5b02a7559388f6442f39fc6c8340cfb327161c4c83eb...  \n0   7.000000  0x6a17f472c1f1679e64ace47ef5ef6cc9d13f91c8886a...  \n1   4.000000  0x6a17f472c1f1679e64ace47ef5ef6cc9d13f91c8886a...  \n0   7.000000  0x077dfd4c9e16905837e54b3939f5543bc1414cbfbe41...  \n0   7.000000  0x4675e59a92310e1523690b07e67e7febb9d3e96c4bc4...  \n0   7.000000  0xfd06a5d0eb8d2b50ca98280cebd30785b4435def91c6...  ",
      "text/html": "<div>\n<style scoped>\n    .dataframe tbody tr th:only-of-type {\n        vertical-align: middle;\n    }\n\n    .dataframe tbody tr th {\n        vertical-align: top;\n    }\n\n    .dataframe thead th {\n        text-align: right;\n    }\n</style>\n<table border=\"1\" class=\"dataframe\">\n  <thead>\n    <tr style=\"text-align: right;\">\n      <th></th>\n      <th>votes_id</th>\n      <th>votes_voter</th>\n      <th>votes_created</th>\n      <th>votes_choice</th>\n      <th>votes_vp</th>\n      <th>Proposal</th>\n    </tr>\n  </thead>\n  <tbody>\n    <tr>\n      <th>0</th>\n      <td>0x6df5f88dbe7c5c114cb9991fd93a2395c669e1608ca6...</td>\n      <td>0x5cF6e510E0C123E1e839376F8Ea1900Bb9B9A6C1</td>\n      <td>1.654154e+09</td>\n      <td>1.0</td>\n      <td>7.000000</td>\n      <td>QmZwnht7pRE2xGnUoQMU37eoNV8eEnobrejPZwDzdpBjaY</td>\n    </tr>\n    <tr>\n      <th>0</th>\n      <td>QmcZ8TpRkGpjfNDgta7YND3HBHbVJ4TwJN42kANstSQiKQ</td>\n      <td>0x7B2e78D4dFaABA045A167a70dA285E30E8FcA196</td>\n      <td>1.618525e+09</td>\n      <td>1.0</td>\n      <td>2.061410</td>\n      <td>QmWwo3TkBtUybd7wcwix6yuGtApR427FBCxiSGJNwowDoN</td>\n    </tr>\n    <tr>\n      <th>1</th>\n      <td>QmUqNwHL9aFG1tgdkBytg3X9JTRLnSoYLnDSdNGeQMUfcY</td>\n      <td>0xd714Dd60e22BbB1cbAFD0e40dE5Cfa7bBDD3F3C8</td>\n      <td>1.618496e+09</td>\n      <td>1.0</td>\n      <td>0.650362</td>\n      <td>QmWwo3TkBtUybd7wcwix6yuGtApR427FBCxiSGJNwowDoN</td>\n    </tr>\n    <tr>\n      <th>0</th>\n      <td>QmQHbreEmbhDsDrRDP8cV5r8Lim3m2iu7iUNT6wjAWR1V1</td>\n      <td>0x7B2e78D4dFaABA045A167a70dA285E30E8FcA196</td>\n      <td>1.616704e+09</td>\n      <td>2.0</td>\n      <td>2.414856</td>\n      <td>QmZQkuw2DFuut5FdYrDji2fKoHW3rWbQd9TbcWgDSufoHa</td>\n    </tr>\n    <tr>\n      <th>1</th>\n      <td>QmV8Dg5jyYJfv2RuqW6WwMX5BC1MmWTUWnf6Lh4e2bdihj</td>\n      <td>0xd714Dd60e22BbB1cbAFD0e40dE5Cfa7bBDD3F3C8</td>\n      <td>1.616685e+09</td>\n      <td>2.0</td>\n      <td>0.200417</td>\n      <td>QmZQkuw2DFuut5FdYrDji2fKoHW3rWbQd9TbcWgDSufoHa</td>\n    </tr>\n    <tr>\n      <th>2</th>\n      <td>QmXxQA5fLUnxQbvCaQX1F7RYp12BpkP8MgKPoK2GdYteqU</td>\n      <td>0x08Fb5797b3D751D022736F6DF6006a39c049c2C6</td>\n      <td>1.616337e+09</td>\n      <td>1.0</td>\n      <td>0.159626</td>\n      <td>QmZQkuw2DFuut5FdYrDji2fKoHW3rWbQd9TbcWgDSufoHa</td>\n    </tr>\n    <tr>\n      <th>3</th>\n      <td>QmYGGETLKWCAEs3U63H77n2MKyxM2r3xMmaSRzQa9yKhxS</td>\n      <td>0x44Ba78D48D0981c765DEE84C048Cea662eAe2E8f</td>\n      <td>1.616337e+09</td>\n      <td>1.0</td>\n      <td>0.196898</td>\n      <td>QmZQkuw2DFuut5FdYrDji2fKoHW3rWbQd9TbcWgDSufoHa</td>\n    </tr>\n    <tr>\n      <th>4</th>\n      <td>QmdCaXncTR5XS64BdF3U5av4cQSdc9ikUPcBKAzghXYMDE</td>\n      <td>0xE8Ef67a6677ba943c33b6C926598072e919b0B6D</td>\n      <td>1.616103e+09</td>\n      <td>2.0</td>\n      <td>1.010692</td>\n      <td>QmZQkuw2DFuut5FdYrDji2fKoHW3rWbQd9TbcWgDSufoHa</td>\n    </tr>\n    <tr>\n      <th>5</th>\n      <td>QmezEYaRALq6krgD6thubabxdrceTrRkM2xEFpJDMFzvkp</td>\n      <td>0x24F15402C6Bb870554489b2fd2049A85d75B982f</td>\n      <td>1.616035e+09</td>\n      <td>1.0</td>\n      <td>1.918624</td>\n      <td>QmZQkuw2DFuut5FdYrDji2fKoHW3rWbQd9TbcWgDSufoHa</td>\n    </tr>\n    <tr>\n      <th>0</th>\n      <td>QmSNHx5ouhMNXn87BXqK5HGQdQzbTTLBjfoqU4Z9YTNCwF</td>\n      <td>0x7B2e78D4dFaABA045A167a70dA285E30E8FcA196</td>\n      <td>1.616023e+09</td>\n      <td>1.0</td>\n      <td>2.476520</td>\n      <td>QmV7WfE1vxPdwNYoom57zTRBVB38hWRPCZJgXEgD2zxK65</td>\n    </tr>\n    <tr>\n      <th>0</th>\n      <td>0x6df5f88dbe7c5c114cb9991fd93a2395c669e1608ca6...</td>\n      <td>0x5cF6e510E0C123E1e839376F8Ea1900Bb9B9A6C1</td>\n      <td>1.654154e+09</td>\n      <td>1.0</td>\n      <td>7.000000</td>\n      <td>0xfd06a5d0eb8d2b50ca98280cebd30785b4435def91c6...</td>\n    </tr>\n    <tr>\n      <th>0</th>\n      <td>0x8de9c4cb6b6f64791227801698d6434a7555646e1b4d...</td>\n      <td>0x5cF6e510E0C123E1e839376F8Ea1900Bb9B9A6C1</td>\n      <td>1.654072e+09</td>\n      <td>1.0</td>\n      <td>7.000000</td>\n      <td>0xada54df6c07216c894e7df55969799054334e32c997b...</td>\n    </tr>\n    <tr>\n      <th>0</th>\n      <td>0xecc9d04f921ec63799e49d7f41a0a733140b9b3d08a0...</td>\n      <td>0x5cF6e510E0C123E1e839376F8Ea1900Bb9B9A6C1</td>\n      <td>1.652003e+09</td>\n      <td>2.0</td>\n      <td>11.000000</td>\n      <td>0xa545ecad22c851dc330da435e14944010545c9dfc82e...</td>\n    </tr>\n    <tr>\n      <th>0</th>\n      <td>0xa14ae21524a896ba0bcc5dd83ad0546af05b7c340bfa...</td>\n      <td>0x5cF6e510E0C123E1e839376F8Ea1900Bb9B9A6C1</td>\n      <td>1.651675e+09</td>\n      <td>{'1': 100}</td>\n      <td>11.000000</td>\n      <td>0x1a8ddef788546498e1ac24349419a120f3b30aa682ee...</td>\n    </tr>\n    <tr>\n      <th>0</th>\n      <td>0x5b62fa5c20daeeca71522ad1c6aea8556f26cf850c7a...</td>\n      <td>0x5cF6e510E0C123E1e839376F8Ea1900Bb9B9A6C1</td>\n      <td>1.651584e+09</td>\n      <td>1</td>\n      <td>11.000000</td>\n      <td>0x5b02a7559388f6442f39fc6c8340cfb327161c4c83eb...</td>\n    </tr>\n    <tr>\n      <th>0</th>\n      <td>0xfd19773e0f156e3ba597324cf1d6cf14d32ef63f2b74...</td>\n      <td>0x5cF6e510E0C123E1e839376F8Ea1900Bb9B9A6C1</td>\n      <td>1.650735e+09</td>\n      <td>1</td>\n      <td>7.000000</td>\n      <td>0x6a17f472c1f1679e64ace47ef5ef6cc9d13f91c8886a...</td>\n    </tr>\n    <tr>\n      <th>1</th>\n      <td>0x66a006d6e1e4541879af35f5b0177179356f45f2ff11...</td>\n      <td>0x8A39eC10AE914CD71DE75A766D7Beb78C1286D0e</td>\n      <td>1.650735e+09</td>\n      <td>1</td>\n      <td>4.000000</td>\n      <td>0x6a17f472c1f1679e64ace47ef5ef6cc9d13f91c8886a...</td>\n    </tr>\n    <tr>\n      <th>0</th>\n      <td>0xd927545d51375491f5d9527099084d2816b2e53289a5...</td>\n      <td>0x5cF6e510E0C123E1e839376F8Ea1900Bb9B9A6C1</td>\n      <td>1.650859e+09</td>\n      <td>2</td>\n      <td>7.000000</td>\n      <td>0x077dfd4c9e16905837e54b3939f5543bc1414cbfbe41...</td>\n    </tr>\n    <tr>\n      <th>0</th>\n      <td>0x3e4e686d5e5ae85085c39f8d1106c339e767bea7e6c4...</td>\n      <td>0x5cF6e510E0C123E1e839376F8Ea1900Bb9B9A6C1</td>\n      <td>1.650733e+09</td>\n      <td>1</td>\n      <td>7.000000</td>\n      <td>0x4675e59a92310e1523690b07e67e7febb9d3e96c4bc4...</td>\n    </tr>\n    <tr>\n      <th>0</th>\n      <td>0x6df5f88dbe7c5c114cb9991fd93a2395c669e1608ca6...</td>\n      <td>0x5cF6e510E0C123E1e839376F8Ea1900Bb9B9A6C1</td>\n      <td>1.654154e+09</td>\n      <td>1</td>\n      <td>7.000000</td>\n      <td>0xfd06a5d0eb8d2b50ca98280cebd30785b4435def91c6...</td>\n    </tr>\n    <tr>\n      <th>0</th>\n      <td>0x8de9c4cb6b6f64791227801698d6434a7555646e1b4d...</td>\n      <td>0x5cF6e510E0C123E1e839376F8Ea1900Bb9B9A6C1</td>\n      <td>1.654072e+09</td>\n      <td>1</td>\n      <td>7.000000</td>\n      <td>0xada54df6c07216c894e7df55969799054334e32c997b...</td>\n    </tr>\n    <tr>\n      <th>0</th>\n      <td>0xecc9d04f921ec63799e49d7f41a0a733140b9b3d08a0...</td>\n      <td>0x5cF6e510E0C123E1e839376F8Ea1900Bb9B9A6C1</td>\n      <td>1.652003e+09</td>\n      <td>2</td>\n      <td>11.000000</td>\n      <td>0xa545ecad22c851dc330da435e14944010545c9dfc82e...</td>\n    </tr>\n    <tr>\n      <th>0</th>\n      <td>0xa14ae21524a896ba0bcc5dd83ad0546af05b7c340bfa...</td>\n      <td>0x5cF6e510E0C123E1e839376F8Ea1900Bb9B9A6C1</td>\n      <td>1.651675e+09</td>\n      <td>{'1': 100}</td>\n      <td>11.000000</td>\n      <td>0x1a8ddef788546498e1ac24349419a120f3b30aa682ee...</td>\n    </tr>\n    <tr>\n      <th>0</th>\n      <td>0x5b62fa5c20daeeca71522ad1c6aea8556f26cf850c7a...</td>\n      <td>0x5cF6e510E0C123E1e839376F8Ea1900Bb9B9A6C1</td>\n      <td>1.651584e+09</td>\n      <td>1</td>\n      <td>11.000000</td>\n      <td>0x5b02a7559388f6442f39fc6c8340cfb327161c4c83eb...</td>\n    </tr>\n    <tr>\n      <th>0</th>\n      <td>0xfd19773e0f156e3ba597324cf1d6cf14d32ef63f2b74...</td>\n      <td>0x5cF6e510E0C123E1e839376F8Ea1900Bb9B9A6C1</td>\n      <td>1.650735e+09</td>\n      <td>1</td>\n      <td>7.000000</td>\n      <td>0x6a17f472c1f1679e64ace47ef5ef6cc9d13f91c8886a...</td>\n    </tr>\n    <tr>\n      <th>1</th>\n      <td>0x66a006d6e1e4541879af35f5b0177179356f45f2ff11...</td>\n      <td>0x8A39eC10AE914CD71DE75A766D7Beb78C1286D0e</td>\n      <td>1.650735e+09</td>\n      <td>1</td>\n      <td>4.000000</td>\n      <td>0x6a17f472c1f1679e64ace47ef5ef6cc9d13f91c8886a...</td>\n    </tr>\n    <tr>\n      <th>0</th>\n      <td>0xd927545d51375491f5d9527099084d2816b2e53289a5...</td>\n      <td>0x5cF6e510E0C123E1e839376F8Ea1900Bb9B9A6C1</td>\n      <td>1.650859e+09</td>\n      <td>2</td>\n      <td>7.000000</td>\n      <td>0x077dfd4c9e16905837e54b3939f5543bc1414cbfbe41...</td>\n    </tr>\n    <tr>\n      <th>0</th>\n      <td>0x3e4e686d5e5ae85085c39f8d1106c339e767bea7e6c4...</td>\n      <td>0x5cF6e510E0C123E1e839376F8Ea1900Bb9B9A6C1</td>\n      <td>1.650733e+09</td>\n      <td>1</td>\n      <td>7.000000</td>\n      <td>0x4675e59a92310e1523690b07e67e7febb9d3e96c4bc4...</td>\n    </tr>\n    <tr>\n      <th>0</th>\n      <td>0x6df5f88dbe7c5c114cb9991fd93a2395c669e1608ca6...</td>\n      <td>0x5cF6e510E0C123E1e839376F8Ea1900Bb9B9A6C1</td>\n      <td>1.654154e+09</td>\n      <td>1</td>\n      <td>7.000000</td>\n      <td>0xfd06a5d0eb8d2b50ca98280cebd30785b4435def91c6...</td>\n    </tr>\n  </tbody>\n</table>\n</div>"
     },
     "execution_count": 64,
     "metadata": {},
     "output_type": "execute_result"
    }
   ],
   "source": [
    "voting_snapshots_list"
   ],
   "metadata": {
    "collapsed": false,
    "pycharm": {
     "name": "#%%\n"
    }
   }
  },
  {
   "cell_type": "code",
   "execution_count": 60,
   "outputs": [],
   "source": [
    "##spit out the file!\n",
    "file = input('Selet a folder') ##enter your file path here - the file is in the repo \"summary_stats.csv\".\n",
    "path = '/Users/ianbrillembourg/PycharmProjects/snapshot_governance/votes_table_'+str(date.today().strftime(\"%b-%d-%Y\"))+'_'+str(len(voting_snapshots_list))+'_proposals.csv'\n",
    "voting_snapshots_list.to_csv(path, index = False)"
   ],
   "metadata": {
    "collapsed": false,
    "pycharm": {
     "name": "#%%\n"
    }
   }
  },
  {
   "cell_type": "markdown",
   "source": [
    "And finally, the body of each election's choices. Not critical but useful to have."
   ],
   "metadata": {
    "collapsed": false,
    "pycharm": {
     "name": "#%% md\n"
    }
   }
  },
  {
   "cell_type": "code",
   "execution_count": null,
   "outputs": [],
   "source": [
    "voting_snapshots_list['Proposal'] = proposal_id\n",
    "print(voting_snapshots_list)"
   ],
   "metadata": {
    "collapsed": false,
    "pycharm": {
     "name": "#%%\n"
    }
   }
  },
  {
   "cell_type": "code",
   "execution_count": null,
   "outputs": [],
   "source": [
    "proposals_choices = sg.query(proposals.choices)\n",
    "for x<=total_props:\n",
    "  voting_snapshots_list['Proposal'] = proposal_id\n",
    "proposals_choices"
   ],
   "metadata": {
    "collapsed": false,
    "pycharm": {
     "name": "#%%\n"
    }
   }
  },
  {
   "cell_type": "code",
   "execution_count": 14,
   "outputs": [
    {
     "ename": "NameError",
     "evalue": "name 'proposals_choices' is not defined",
     "output_type": "error",
     "traceback": [
      "\u001B[0;31m---------------------------------------------------------------------------\u001B[0m",
      "\u001B[0;31mNameError\u001B[0m                                 Traceback (most recent call last)",
      "Input \u001B[0;32mIn [14]\u001B[0m, in \u001B[0;36m<cell line: 1>\u001B[0;34m()\u001B[0m\n\u001B[0;32m----> 1\u001B[0m \u001B[43mproposals_choices\u001B[49m\n",
      "\u001B[0;31mNameError\u001B[0m: name 'proposals_choices' is not defined"
     ]
    }
   ],
   "source": [],
   "metadata": {
    "collapsed": false,
    "pycharm": {
     "name": "#%%\n"
    }
   }
  },
  {
   "cell_type": "code",
   "execution_count": 32,
   "outputs": [
    {
     "ename": "SyntaxError",
     "evalue": "incomplete input (1609945154.py, line 2)",
     "output_type": "error",
     "traceback": [
      "\u001B[0;36m  Input \u001B[0;32mIn [32]\u001B[0;36m\u001B[0m\n\u001B[0;31m    proposals_choices = pd.DataFrame(proposals_choices, columns = ['option_1', 'option_2', 'option_3', 'option_4', 'option_5','option_6','option_7','option_8','option_9','option_10','option_11','option_12','option_13','option_14','option_15','option_16','option_17','option_18','option_19','option_20','option_21','option_22','option_24','option_24','option_25]']\u001B[0m\n\u001B[0m                                                                                                                                                                                                                                                                                                                                                                           ^\u001B[0m\n\u001B[0;31mSyntaxError\u001B[0m\u001B[0;31m:\u001B[0m incomplete input\n"
     ]
    }
   ],
   "source": [
    "##placing 25 options just in case. Could be more, but I hope not\n",
    "proposals_choices = pd.DataFrame(proposals_choices, columns = ['option_1', 'option_2', 'option_3', 'option_4', 'option_5','option_6','option_7','option_8','option_9','option_10','option_11','option_12','option_13','option_14','option_15','option_16','option_17','option_18','option_19','option_20','option_21','option_22','option_24','option_24','option_25]']"
   ],
   "metadata": {
    "collapsed": false,
    "pycharm": {
     "name": "#%%\n"
    }
   }
  },
  {
   "cell_type": "code",
   "execution_count": null,
   "outputs": [],
   "source": [
    "dao_governance_view = pd.concat([proposals_snapshots,proposals_choices], axis=1)"
   ],
   "metadata": {
    "collapsed": false,
    "pycharm": {
     "name": "#%%\n"
    }
   }
  },
  {
   "cell_type": "code",
   "execution_count": null,
   "outputs": [],
   "source": [
    "dao_governance_view"
   ],
   "metadata": {
    "collapsed": false,
    "pycharm": {
     "name": "#%%\n"
    }
   }
  },
  {
   "cell_type": "code",
   "execution_count": null,
   "outputs": [],
   "source": [],
   "metadata": {
    "collapsed": false,
    "pycharm": {
     "name": "#%%\n"
    }
   }
  }
 ],
 "metadata": {
  "kernelspec": {
   "display_name": "Python 3",
   "language": "python",
   "name": "python3"
  },
  "language_info": {
   "codemirror_mode": {
    "name": "ipython",
    "version": 2
   },
   "file_extension": ".py",
   "mimetype": "text/x-python",
   "name": "python",
   "nbconvert_exporter": "python",
   "pygments_lexer": "ipython2",
   "version": "2.7.6"
  }
 },
 "nbformat": 4,
 "nbformat_minor": 0
}