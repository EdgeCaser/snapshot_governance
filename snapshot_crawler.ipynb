{
 "cells": [
  {
   "cell_type": "code",
   "execution_count": 39,
   "outputs": [],
   "source": [
    "from datetime import datetime\n",
    "from datetime import date\n",
    "from subgrounds.subgraph import SyntheticField, FieldPath\n",
    "from subgrounds.subgrounds import Subgrounds\n",
    "import pandas as pd"
   ],
   "metadata": {
    "collapsed": false,
    "pycharm": {
     "name": "#%%\n"
    }
   }
  },
  {
   "cell_type": "code",
   "execution_count": 40,
   "outputs": [],
   "source": [
    "sg = Subgrounds()\n",
    "snapshot = sg.load_api('https://hub.snapshot.org/graphql')"
   ],
   "metadata": {
    "collapsed": false,
    "pycharm": {
     "name": "#%%\n"
    }
   }
  },
  {
   "cell_type": "markdown",
   "source": [
    "Get the list of spaces. We don't know how many spaces we have, so we have to cycle and only stop when the list is not filled with 1000 rows"
   ],
   "metadata": {
    "collapsed": false,
    "pycharm": {
     "name": "#%% md\n"
    }
   }
  },
  {
   "cell_type": "code",
   "execution_count": 41,
   "outputs": [],
   "source": [
    "spaces=[]\n",
    "spaces = snapshot.Query.spaces(\n",
    "  orderBy='id',\n",
    "  orderDirection='desc',\n",
    "  first=1000,\n",
    ")\n",
    "spaces_list = sg.query_df([\n",
    "    spaces.id\n",
    "    ]\n",
    "  )"
   ],
   "metadata": {
    "collapsed": false,
    "pycharm": {
     "name": "#%%\n"
    }
   }
  },
  {
   "cell_type": "code",
   "execution_count": 42,
   "outputs": [
    {
     "name": "stdout",
     "output_type": "stream",
     "text": [
      "3 1000\n",
      "4 1000\n",
      "5 1000\n",
      "6 1000\n",
      "7 1000\n",
      "8 1000\n",
      "9 980\n"
     ]
    }
   ],
   "source": [
    "spaces2 = []\n",
    "n=0\n",
    "t=2\n",
    "while n<1:\n",
    "  spaces2 = snapshot.Query.spaces(\n",
    "    orderBy='created',\n",
    "    orderDirection='desc',\n",
    "    first=1000,\n",
    "    skip = 1000*t\n",
    "  )\n",
    "  spaces_list2 = sg.query_df([\n",
    "    spaces2.id\n",
    "    ]\n",
    "  )\n",
    "  spaces_list = pd.concat([spaces_list,spaces_list2])\n",
    "  t=t+1\n",
    "  l=len(spaces_list2)\n",
    "  print(t,l)\n",
    "  if len(spaces_list2)<1000: n=1\n",
    "\n",
    "olympus_coord=spaces_list.index[spaces_list['spaces_id'] == 'olympusdao.eth'].tolist()\n"
   ],
   "metadata": {
    "collapsed": false,
    "pycharm": {
     "name": "#%%\n"
    }
   }
  },
  {
   "cell_type": "code",
   "execution_count": 43,
   "outputs": [
    {
     "data": {
      "text/plain": "7980"
     },
     "execution_count": 43,
     "metadata": {},
     "output_type": "execute_result"
    }
   ],
   "source": [
    "numspaces = len(spaces_list)\n",
    "numspaces"
   ],
   "metadata": {
    "collapsed": false,
    "pycharm": {
     "name": "#%%\n"
    }
   }
  },
  {
   "cell_type": "markdown",
   "source": [
    "We get the list of elections  for each snapshot. Note the choice of vote only carries the ID not the question"
   ],
   "metadata": {
    "collapsed": false,
    "pycharm": {
     "name": "#%% md\n"
    }
   }
  },
  {
   "cell_type": "code",
   "execution_count": 44,
   "outputs": [
    {
     "data": {
      "text/plain": "        dao                                    proposals_title  \\\n0  🍯dao.eth                       Should I get 2 times one ETH   \n1  🍯dao.eth                       Should I get 2 times one ETH   \n2  🍯dao.eth  What is the next achievement we should fund be...   \n3  🍯dao.eth  What is the next achievement we should fund be...   \n4  🍯dao.eth  Should the 🍯️DAO set its Gnosis Safe as the co...   \n5  🍯dao.eth  Should the 🍯️DAO set its Gnosis Safe as the co...   \n6  🍯dao.eth                                               Test   \n7  🍯dao.eth                                               Test   \n8  🍯dao.eth                            Donate 1 BAL on Gitcoin   \n9  🍯dao.eth                            Donate 1 BAL on Gitcoin   \n\n                                     proposals_id  \\\n0  QmQ1s8FHhX2FtFGRcfbbdJmT1sU8EwPymDytsHyzFp5YoL   \n1  QmQ1s8FHhX2FtFGRcfbbdJmT1sU8EwPymDytsHyzFp5YoL   \n2  QmZwnht7pRE2xGnUoQMU37eoNV8eEnobrejPZwDzdpBjaY   \n3  QmZwnht7pRE2xGnUoQMU37eoNV8eEnobrejPZwDzdpBjaY   \n4  QmWwo3TkBtUybd7wcwix6yuGtApR427FBCxiSGJNwowDoN   \n5  QmWwo3TkBtUybd7wcwix6yuGtApR427FBCxiSGJNwowDoN   \n6  QmZQkuw2DFuut5FdYrDji2fKoHW3rWbQd9TbcWgDSufoHa   \n7  QmZQkuw2DFuut5FdYrDji2fKoHW3rWbQd9TbcWgDSufoHa   \n8  QmV7WfE1vxPdwNYoom57zTRBVB38hWRPCZJgXEgD2zxK65   \n9  QmV7WfE1vxPdwNYoom57zTRBVB38hWRPCZJgXEgD2zxK65   \n\n                                      proposals_body  proposals_scores  \\\n0                      Should I get 2 times one ETH?         10.096352   \n1                      Should I get 2 times one ETH?          0.000000   \n2                                                             0.498913   \n3                                                             0.000000   \n4  This is a proposal to set the controller of th...          2.711773   \n5  This is a proposal to set the controller of th...          0.000000   \n6                                               Test          2.275148   \n7                                               Test          3.625966   \n8  Test a donation of 1Bal to the reality.eth Git...          2.476520   \n9  Test a donation of 1Bal to the reality.eth Git...          0.000000   \n\n   proposals_scores_total  \n0               10.096352  \n1               10.096352  \n2                0.498913  \n3                0.498913  \n4                2.711773  \n5                2.711773  \n6                5.901114  \n7                5.901114  \n8                2.476520  \n9                2.476520  ",
      "text/html": "<div>\n<style scoped>\n    .dataframe tbody tr th:only-of-type {\n        vertical-align: middle;\n    }\n\n    .dataframe tbody tr th {\n        vertical-align: top;\n    }\n\n    .dataframe thead th {\n        text-align: right;\n    }\n</style>\n<table border=\"1\" class=\"dataframe\">\n  <thead>\n    <tr style=\"text-align: right;\">\n      <th></th>\n      <th>dao</th>\n      <th>proposals_title</th>\n      <th>proposals_id</th>\n      <th>proposals_body</th>\n      <th>proposals_scores</th>\n      <th>proposals_scores_total</th>\n    </tr>\n  </thead>\n  <tbody>\n    <tr>\n      <th>0</th>\n      <td>🍯dao.eth</td>\n      <td>Should I get 2 times one ETH</td>\n      <td>QmQ1s8FHhX2FtFGRcfbbdJmT1sU8EwPymDytsHyzFp5YoL</td>\n      <td>Should I get 2 times one ETH?</td>\n      <td>10.096352</td>\n      <td>10.096352</td>\n    </tr>\n    <tr>\n      <th>1</th>\n      <td>🍯dao.eth</td>\n      <td>Should I get 2 times one ETH</td>\n      <td>QmQ1s8FHhX2FtFGRcfbbdJmT1sU8EwPymDytsHyzFp5YoL</td>\n      <td>Should I get 2 times one ETH?</td>\n      <td>0.000000</td>\n      <td>10.096352</td>\n    </tr>\n    <tr>\n      <th>2</th>\n      <td>🍯dao.eth</td>\n      <td>What is the next achievement we should fund be...</td>\n      <td>QmZwnht7pRE2xGnUoQMU37eoNV8eEnobrejPZwDzdpBjaY</td>\n      <td></td>\n      <td>0.498913</td>\n      <td>0.498913</td>\n    </tr>\n    <tr>\n      <th>3</th>\n      <td>🍯dao.eth</td>\n      <td>What is the next achievement we should fund be...</td>\n      <td>QmZwnht7pRE2xGnUoQMU37eoNV8eEnobrejPZwDzdpBjaY</td>\n      <td></td>\n      <td>0.000000</td>\n      <td>0.498913</td>\n    </tr>\n    <tr>\n      <th>4</th>\n      <td>🍯dao.eth</td>\n      <td>Should the 🍯️DAO set its Gnosis Safe as the co...</td>\n      <td>QmWwo3TkBtUybd7wcwix6yuGtApR427FBCxiSGJNwowDoN</td>\n      <td>This is a proposal to set the controller of th...</td>\n      <td>2.711773</td>\n      <td>2.711773</td>\n    </tr>\n    <tr>\n      <th>5</th>\n      <td>🍯dao.eth</td>\n      <td>Should the 🍯️DAO set its Gnosis Safe as the co...</td>\n      <td>QmWwo3TkBtUybd7wcwix6yuGtApR427FBCxiSGJNwowDoN</td>\n      <td>This is a proposal to set the controller of th...</td>\n      <td>0.000000</td>\n      <td>2.711773</td>\n    </tr>\n    <tr>\n      <th>6</th>\n      <td>🍯dao.eth</td>\n      <td>Test</td>\n      <td>QmZQkuw2DFuut5FdYrDji2fKoHW3rWbQd9TbcWgDSufoHa</td>\n      <td>Test</td>\n      <td>2.275148</td>\n      <td>5.901114</td>\n    </tr>\n    <tr>\n      <th>7</th>\n      <td>🍯dao.eth</td>\n      <td>Test</td>\n      <td>QmZQkuw2DFuut5FdYrDji2fKoHW3rWbQd9TbcWgDSufoHa</td>\n      <td>Test</td>\n      <td>3.625966</td>\n      <td>5.901114</td>\n    </tr>\n    <tr>\n      <th>8</th>\n      <td>🍯dao.eth</td>\n      <td>Donate 1 BAL on Gitcoin</td>\n      <td>QmV7WfE1vxPdwNYoom57zTRBVB38hWRPCZJgXEgD2zxK65</td>\n      <td>Test a donation of 1Bal to the reality.eth Git...</td>\n      <td>2.476520</td>\n      <td>2.476520</td>\n    </tr>\n    <tr>\n      <th>9</th>\n      <td>🍯dao.eth</td>\n      <td>Donate 1 BAL on Gitcoin</td>\n      <td>QmV7WfE1vxPdwNYoom57zTRBVB38hWRPCZJgXEgD2zxK65</td>\n      <td>Test a donation of 1Bal to the reality.eth Git...</td>\n      <td>0.000000</td>\n      <td>2.476520</td>\n    </tr>\n  </tbody>\n</table>\n</div>"
     },
     "execution_count": 44,
     "metadata": {},
     "output_type": "execute_result"
    }
   ],
   "source": [
    "space_name = spaces_list.iat[1,0]\n",
    "proposals = snapshot.Query.proposals(\n",
    "  orderBy='created',\n",
    "  orderDirection='desc',\n",
    "  first=1000,\n",
    "  where=[\n",
    "    snapshot.Proposal.space == space_name,\n",
    "    snapshot.Proposal.state == 'closed'\n",
    "    ##snapshot.Proposal.title == 'OIP-18: Reward rate framework and reduction',\n",
    "  ]\n",
    ")\n",
    "\n",
    "proposals_snapshots = sg.query_df([\n",
    "    proposals.title,\n",
    "    proposals.id,\n",
    "    proposals.body,\n",
    "    proposals.scores,\n",
    "    proposals.scores_total\n",
    "])\n",
    "\n",
    "proposals_snapshots.insert(0,'dao',space_name)\n",
    "\n",
    "proposals_snapshots"
   ],
   "metadata": {
    "collapsed": false,
    "pycharm": {
     "name": "#%%\n"
    }
   }
  },
  {
   "cell_type": "code",
   "execution_count": 45,
   "outputs": [
    {
     "data": {
      "text/plain": "        dao                           proposals_title  \\\n0   허경영.eth                                     why 5   \n1   허경영.eth                                     why 5   \n2   허경영.eth                                     why 5   \n3   허경영.eth                                     why 5   \n4   허경영.eth                                       why   \n5   허경영.eth                                       why   \n6   허경영.eth                                       hi5   \n7   허경영.eth                                       hi5   \n8   허경영.eth                                       hi4   \n9   허경영.eth                                       hi4   \n10  허경영.eth                                       hi3   \n11  허경영.eth                                       hi3   \n12  허경영.eth                                       hi2   \n13  허경영.eth                                       hi2   \n14  허경영.eth                                        gu   \n15  허경영.eth                                        gu   \n16  허경영.eth                                        hi   \n17  허경영.eth                                        hi   \n18  허경영.eth                                        hi   \n19  허경영.eth                                        hi   \n20  허경영.eth  GIP 1: Initiating GHostsProject DAO asas   \n21  허경영.eth  GIP 1: Initiating GHostsProject DAO asas   \n22  허경영.eth    GIP 1: Initiating GhostsProject DAO V1   \n23  허경영.eth    GIP 1: Initiating GhostsProject DAO V1   \n24  허경영.eth       GIP 1: Initiating GHostsProject DAO   \n25  허경영.eth       GIP 1: Initiating GHostsProject DAO   \n26  허경영.eth    GIP 1: Initiating GhostsProject DAO V1   \n27  허경영.eth    GIP 1: Initiating GhostsProject DAO V1   \n28  허경영.eth                                       aaa   \n29  허경영.eth                                       aaa   \n30  허경영.eth                                       aaa   \n31  허경영.eth                                       aaa   \n32  허경영.eth                                       aaa   \n33  허경영.eth                                       aaa   \n34  허경영.eth                                       aaa   \n35  허경영.eth                                       aaa   \n36  허경영.eth                                      tes4   \n37  허경영.eth                                      tes4   \n38  허경영.eth                                     test3   \n39  허경영.eth                                     test3   \n40  허경영.eth                                      test   \n41  허경영.eth                                      test   \n42  허경영.eth                                      test   \n43  허경영.eth                                      test   \n\n                                         proposals_id  \\\n0   0xc340fabba20d23630113a5783957ee786954ccd968e1...   \n1   0xc340fabba20d23630113a5783957ee786954ccd968e1...   \n2   0xfd06a5d0eb8d2b50ca98280cebd30785b4435def91c6...   \n3   0xfd06a5d0eb8d2b50ca98280cebd30785b4435def91c6...   \n4   0x50f96ae5e39556ff8acd4eb9dc42c61d438f31caa221...   \n5   0x50f96ae5e39556ff8acd4eb9dc42c61d438f31caa221...   \n6   0xada54df6c07216c894e7df55969799054334e32c997b...   \n7   0xada54df6c07216c894e7df55969799054334e32c997b...   \n8   0x78a6dae6010a48caca5f01ecf18c2e642cb6c9f16439...   \n9   0x78a6dae6010a48caca5f01ecf18c2e642cb6c9f16439...   \n10  0x5084fa5a12140a987cafe66558e29a0b4923d234978f...   \n11  0x5084fa5a12140a987cafe66558e29a0b4923d234978f...   \n12  0x34517359520f69def2c93be88436a2dd98a969cd7c80...   \n13  0x34517359520f69def2c93be88436a2dd98a969cd7c80...   \n14  0xaec2dc27b15b1613386496147194ccbf173cd828c2bd...   \n15  0xaec2dc27b15b1613386496147194ccbf173cd828c2bd...   \n16  0xa95c1989d5ed6645317f5137285e5f43c17857c8f026...   \n17  0xa95c1989d5ed6645317f5137285e5f43c17857c8f026...   \n18  0x20f9fab4442fa4364c3ed23a0d8181bb696713ae8995...   \n19  0x20f9fab4442fa4364c3ed23a0d8181bb696713ae8995...   \n20  0xc8edaa15b143bc113a9f6a383f69d6937f57a02cd04b...   \n21  0xc8edaa15b143bc113a9f6a383f69d6937f57a02cd04b...   \n22  0x169304f8cd4c2ea70dee3766bfe7a02e41ecb8cd8ed0...   \n23  0x169304f8cd4c2ea70dee3766bfe7a02e41ecb8cd8ed0...   \n24  0x4d1b0c9675afb3e4fed3cf7a4b044aa66ba4d054f66d...   \n25  0x4d1b0c9675afb3e4fed3cf7a4b044aa66ba4d054f66d...   \n26  0xd3025ca0b81f6a390f0955d109f4d1cae3df44d7a9eb...   \n27  0xd3025ca0b81f6a390f0955d109f4d1cae3df44d7a9eb...   \n28  0xa545ecad22c851dc330da435e14944010545c9dfc82e...   \n29  0xa545ecad22c851dc330da435e14944010545c9dfc82e...   \n30  0x18ed8c70621f6740c1f9775a55070a6346e5c991884d...   \n31  0x18ed8c70621f6740c1f9775a55070a6346e5c991884d...   \n32  0x1a8ddef788546498e1ac24349419a120f3b30aa682ee...   \n33  0x1a8ddef788546498e1ac24349419a120f3b30aa682ee...   \n34  0x5b02a7559388f6442f39fc6c8340cfb327161c4c83eb...   \n35  0x5b02a7559388f6442f39fc6c8340cfb327161c4c83eb...   \n36  0x8778b4fca3dabb722eb937403c0e363154b7a181bc2e...   \n37  0x8778b4fca3dabb722eb937403c0e363154b7a181bc2e...   \n38  0x6a17f472c1f1679e64ace47ef5ef6cc9d13f91c8886a...   \n39  0x6a17f472c1f1679e64ace47ef5ef6cc9d13f91c8886a...   \n40  0x077dfd4c9e16905837e54b3939f5543bc1414cbfbe41...   \n41  0x077dfd4c9e16905837e54b3939f5543bc1414cbfbe41...   \n42  0x4675e59a92310e1523690b07e67e7febb9d3e96c4bc4...   \n43  0x4675e59a92310e1523690b07e67e7febb9d3e96c4bc4...   \n\n                                       proposals_body  proposals_scores  \\\n0                                                 wht                 0   \n1                                                 wht                 0   \n2                                                 wht                 7   \n3                                                 wht                 0   \n4                                                 wht                 0   \n5                                                 wht                 0   \n6                                                 hi5                 7   \n7                                                 hi5                 0   \n8                                                 hi4                 0   \n9                                                 hi4                 0   \n10                                               hi23                 0   \n11                                               hi23                 0   \n12                                                hi2                 0   \n13                                                hi2                 0   \n14                                                 gu                 0   \n15                                                 gu                 0   \n16                                                 hi                 0   \n17                                                 hi                 0   \n18                                                 hi                 0   \n19                                                 hi                 0   \n20  **Title of the Proposal:** GIP 1: Initiating G...                 0   \n21  **Title of the Proposal:** GIP 1: Initiating G...                 0   \n22  GIP 1: Initiating GhostsProject DAO V1\\n\\n\\n\\n...                 0   \n23  GIP 1: Initiating GhostsProject DAO V1\\n\\n\\n\\n...                 0   \n24  **Title of the Proposal:** GIP 1: Initiating G...                 0   \n25  **Title of the Proposal:** GIP 1: Initiating G...                 0   \n26             GIP 1: Initiating GhostsProject DAO V1                 0   \n27             GIP 1: Initiating GhostsProject DAO V1                 0   \n28                                                aaa                 0   \n29                                                aaa                11   \n30                                                ㅁㅁㅁ                 0   \n31                                                ㅁㅁㅁ                 0   \n32                                                aaa                11   \n33                                                aaa                 0   \n34                                                aaa                11   \n35                                                aaa                 0   \n36                                               test                 0   \n37                                               test                 0   \n38                                              test3                11   \n39                                              test3                 0   \n40                                               test                 0   \n41                                               test                 7   \n42                                               test                 7   \n43                                               test                 0   \n\n    proposals_scores_total  \n0                        0  \n1                        0  \n2                        7  \n3                        7  \n4                        0  \n5                        0  \n6                        7  \n7                        7  \n8                        0  \n9                        0  \n10                       0  \n11                       0  \n12                       0  \n13                       0  \n14                       0  \n15                       0  \n16                       0  \n17                       0  \n18                       0  \n19                       0  \n20                       0  \n21                       0  \n22                       0  \n23                       0  \n24                       0  \n25                       0  \n26                       0  \n27                       0  \n28                      11  \n29                      11  \n30                       0  \n31                       0  \n32                      11  \n33                      11  \n34                      11  \n35                      11  \n36                       0  \n37                       0  \n38                      11  \n39                      11  \n40                       7  \n41                       7  \n42                       7  \n43                       7  ",
      "text/html": "<div>\n<style scoped>\n    .dataframe tbody tr th:only-of-type {\n        vertical-align: middle;\n    }\n\n    .dataframe tbody tr th {\n        vertical-align: top;\n    }\n\n    .dataframe thead th {\n        text-align: right;\n    }\n</style>\n<table border=\"1\" class=\"dataframe\">\n  <thead>\n    <tr style=\"text-align: right;\">\n      <th></th>\n      <th>dao</th>\n      <th>proposals_title</th>\n      <th>proposals_id</th>\n      <th>proposals_body</th>\n      <th>proposals_scores</th>\n      <th>proposals_scores_total</th>\n    </tr>\n  </thead>\n  <tbody>\n    <tr>\n      <th>0</th>\n      <td>허경영.eth</td>\n      <td>why 5</td>\n      <td>0xc340fabba20d23630113a5783957ee786954ccd968e1...</td>\n      <td>wht</td>\n      <td>0</td>\n      <td>0</td>\n    </tr>\n    <tr>\n      <th>1</th>\n      <td>허경영.eth</td>\n      <td>why 5</td>\n      <td>0xc340fabba20d23630113a5783957ee786954ccd968e1...</td>\n      <td>wht</td>\n      <td>0</td>\n      <td>0</td>\n    </tr>\n    <tr>\n      <th>2</th>\n      <td>허경영.eth</td>\n      <td>why 5</td>\n      <td>0xfd06a5d0eb8d2b50ca98280cebd30785b4435def91c6...</td>\n      <td>wht</td>\n      <td>7</td>\n      <td>7</td>\n    </tr>\n    <tr>\n      <th>3</th>\n      <td>허경영.eth</td>\n      <td>why 5</td>\n      <td>0xfd06a5d0eb8d2b50ca98280cebd30785b4435def91c6...</td>\n      <td>wht</td>\n      <td>0</td>\n      <td>7</td>\n    </tr>\n    <tr>\n      <th>4</th>\n      <td>허경영.eth</td>\n      <td>why</td>\n      <td>0x50f96ae5e39556ff8acd4eb9dc42c61d438f31caa221...</td>\n      <td>wht</td>\n      <td>0</td>\n      <td>0</td>\n    </tr>\n    <tr>\n      <th>5</th>\n      <td>허경영.eth</td>\n      <td>why</td>\n      <td>0x50f96ae5e39556ff8acd4eb9dc42c61d438f31caa221...</td>\n      <td>wht</td>\n      <td>0</td>\n      <td>0</td>\n    </tr>\n    <tr>\n      <th>6</th>\n      <td>허경영.eth</td>\n      <td>hi5</td>\n      <td>0xada54df6c07216c894e7df55969799054334e32c997b...</td>\n      <td>hi5</td>\n      <td>7</td>\n      <td>7</td>\n    </tr>\n    <tr>\n      <th>7</th>\n      <td>허경영.eth</td>\n      <td>hi5</td>\n      <td>0xada54df6c07216c894e7df55969799054334e32c997b...</td>\n      <td>hi5</td>\n      <td>0</td>\n      <td>7</td>\n    </tr>\n    <tr>\n      <th>8</th>\n      <td>허경영.eth</td>\n      <td>hi4</td>\n      <td>0x78a6dae6010a48caca5f01ecf18c2e642cb6c9f16439...</td>\n      <td>hi4</td>\n      <td>0</td>\n      <td>0</td>\n    </tr>\n    <tr>\n      <th>9</th>\n      <td>허경영.eth</td>\n      <td>hi4</td>\n      <td>0x78a6dae6010a48caca5f01ecf18c2e642cb6c9f16439...</td>\n      <td>hi4</td>\n      <td>0</td>\n      <td>0</td>\n    </tr>\n    <tr>\n      <th>10</th>\n      <td>허경영.eth</td>\n      <td>hi3</td>\n      <td>0x5084fa5a12140a987cafe66558e29a0b4923d234978f...</td>\n      <td>hi23</td>\n      <td>0</td>\n      <td>0</td>\n    </tr>\n    <tr>\n      <th>11</th>\n      <td>허경영.eth</td>\n      <td>hi3</td>\n      <td>0x5084fa5a12140a987cafe66558e29a0b4923d234978f...</td>\n      <td>hi23</td>\n      <td>0</td>\n      <td>0</td>\n    </tr>\n    <tr>\n      <th>12</th>\n      <td>허경영.eth</td>\n      <td>hi2</td>\n      <td>0x34517359520f69def2c93be88436a2dd98a969cd7c80...</td>\n      <td>hi2</td>\n      <td>0</td>\n      <td>0</td>\n    </tr>\n    <tr>\n      <th>13</th>\n      <td>허경영.eth</td>\n      <td>hi2</td>\n      <td>0x34517359520f69def2c93be88436a2dd98a969cd7c80...</td>\n      <td>hi2</td>\n      <td>0</td>\n      <td>0</td>\n    </tr>\n    <tr>\n      <th>14</th>\n      <td>허경영.eth</td>\n      <td>gu</td>\n      <td>0xaec2dc27b15b1613386496147194ccbf173cd828c2bd...</td>\n      <td>gu</td>\n      <td>0</td>\n      <td>0</td>\n    </tr>\n    <tr>\n      <th>15</th>\n      <td>허경영.eth</td>\n      <td>gu</td>\n      <td>0xaec2dc27b15b1613386496147194ccbf173cd828c2bd...</td>\n      <td>gu</td>\n      <td>0</td>\n      <td>0</td>\n    </tr>\n    <tr>\n      <th>16</th>\n      <td>허경영.eth</td>\n      <td>hi</td>\n      <td>0xa95c1989d5ed6645317f5137285e5f43c17857c8f026...</td>\n      <td>hi</td>\n      <td>0</td>\n      <td>0</td>\n    </tr>\n    <tr>\n      <th>17</th>\n      <td>허경영.eth</td>\n      <td>hi</td>\n      <td>0xa95c1989d5ed6645317f5137285e5f43c17857c8f026...</td>\n      <td>hi</td>\n      <td>0</td>\n      <td>0</td>\n    </tr>\n    <tr>\n      <th>18</th>\n      <td>허경영.eth</td>\n      <td>hi</td>\n      <td>0x20f9fab4442fa4364c3ed23a0d8181bb696713ae8995...</td>\n      <td>hi</td>\n      <td>0</td>\n      <td>0</td>\n    </tr>\n    <tr>\n      <th>19</th>\n      <td>허경영.eth</td>\n      <td>hi</td>\n      <td>0x20f9fab4442fa4364c3ed23a0d8181bb696713ae8995...</td>\n      <td>hi</td>\n      <td>0</td>\n      <td>0</td>\n    </tr>\n    <tr>\n      <th>20</th>\n      <td>허경영.eth</td>\n      <td>GIP 1: Initiating GHostsProject DAO asas</td>\n      <td>0xc8edaa15b143bc113a9f6a383f69d6937f57a02cd04b...</td>\n      <td>**Title of the Proposal:** GIP 1: Initiating G...</td>\n      <td>0</td>\n      <td>0</td>\n    </tr>\n    <tr>\n      <th>21</th>\n      <td>허경영.eth</td>\n      <td>GIP 1: Initiating GHostsProject DAO asas</td>\n      <td>0xc8edaa15b143bc113a9f6a383f69d6937f57a02cd04b...</td>\n      <td>**Title of the Proposal:** GIP 1: Initiating G...</td>\n      <td>0</td>\n      <td>0</td>\n    </tr>\n    <tr>\n      <th>22</th>\n      <td>허경영.eth</td>\n      <td>GIP 1: Initiating GhostsProject DAO V1</td>\n      <td>0x169304f8cd4c2ea70dee3766bfe7a02e41ecb8cd8ed0...</td>\n      <td>GIP 1: Initiating GhostsProject DAO V1\\n\\n\\n\\n...</td>\n      <td>0</td>\n      <td>0</td>\n    </tr>\n    <tr>\n      <th>23</th>\n      <td>허경영.eth</td>\n      <td>GIP 1: Initiating GhostsProject DAO V1</td>\n      <td>0x169304f8cd4c2ea70dee3766bfe7a02e41ecb8cd8ed0...</td>\n      <td>GIP 1: Initiating GhostsProject DAO V1\\n\\n\\n\\n...</td>\n      <td>0</td>\n      <td>0</td>\n    </tr>\n    <tr>\n      <th>24</th>\n      <td>허경영.eth</td>\n      <td>GIP 1: Initiating GHostsProject DAO</td>\n      <td>0x4d1b0c9675afb3e4fed3cf7a4b044aa66ba4d054f66d...</td>\n      <td>**Title of the Proposal:** GIP 1: Initiating G...</td>\n      <td>0</td>\n      <td>0</td>\n    </tr>\n    <tr>\n      <th>25</th>\n      <td>허경영.eth</td>\n      <td>GIP 1: Initiating GHostsProject DAO</td>\n      <td>0x4d1b0c9675afb3e4fed3cf7a4b044aa66ba4d054f66d...</td>\n      <td>**Title of the Proposal:** GIP 1: Initiating G...</td>\n      <td>0</td>\n      <td>0</td>\n    </tr>\n    <tr>\n      <th>26</th>\n      <td>허경영.eth</td>\n      <td>GIP 1: Initiating GhostsProject DAO V1</td>\n      <td>0xd3025ca0b81f6a390f0955d109f4d1cae3df44d7a9eb...</td>\n      <td>GIP 1: Initiating GhostsProject DAO V1</td>\n      <td>0</td>\n      <td>0</td>\n    </tr>\n    <tr>\n      <th>27</th>\n      <td>허경영.eth</td>\n      <td>GIP 1: Initiating GhostsProject DAO V1</td>\n      <td>0xd3025ca0b81f6a390f0955d109f4d1cae3df44d7a9eb...</td>\n      <td>GIP 1: Initiating GhostsProject DAO V1</td>\n      <td>0</td>\n      <td>0</td>\n    </tr>\n    <tr>\n      <th>28</th>\n      <td>허경영.eth</td>\n      <td>aaa</td>\n      <td>0xa545ecad22c851dc330da435e14944010545c9dfc82e...</td>\n      <td>aaa</td>\n      <td>0</td>\n      <td>11</td>\n    </tr>\n    <tr>\n      <th>29</th>\n      <td>허경영.eth</td>\n      <td>aaa</td>\n      <td>0xa545ecad22c851dc330da435e14944010545c9dfc82e...</td>\n      <td>aaa</td>\n      <td>11</td>\n      <td>11</td>\n    </tr>\n    <tr>\n      <th>30</th>\n      <td>허경영.eth</td>\n      <td>aaa</td>\n      <td>0x18ed8c70621f6740c1f9775a55070a6346e5c991884d...</td>\n      <td>ㅁㅁㅁ</td>\n      <td>0</td>\n      <td>0</td>\n    </tr>\n    <tr>\n      <th>31</th>\n      <td>허경영.eth</td>\n      <td>aaa</td>\n      <td>0x18ed8c70621f6740c1f9775a55070a6346e5c991884d...</td>\n      <td>ㅁㅁㅁ</td>\n      <td>0</td>\n      <td>0</td>\n    </tr>\n    <tr>\n      <th>32</th>\n      <td>허경영.eth</td>\n      <td>aaa</td>\n      <td>0x1a8ddef788546498e1ac24349419a120f3b30aa682ee...</td>\n      <td>aaa</td>\n      <td>11</td>\n      <td>11</td>\n    </tr>\n    <tr>\n      <th>33</th>\n      <td>허경영.eth</td>\n      <td>aaa</td>\n      <td>0x1a8ddef788546498e1ac24349419a120f3b30aa682ee...</td>\n      <td>aaa</td>\n      <td>0</td>\n      <td>11</td>\n    </tr>\n    <tr>\n      <th>34</th>\n      <td>허경영.eth</td>\n      <td>aaa</td>\n      <td>0x5b02a7559388f6442f39fc6c8340cfb327161c4c83eb...</td>\n      <td>aaa</td>\n      <td>11</td>\n      <td>11</td>\n    </tr>\n    <tr>\n      <th>35</th>\n      <td>허경영.eth</td>\n      <td>aaa</td>\n      <td>0x5b02a7559388f6442f39fc6c8340cfb327161c4c83eb...</td>\n      <td>aaa</td>\n      <td>0</td>\n      <td>11</td>\n    </tr>\n    <tr>\n      <th>36</th>\n      <td>허경영.eth</td>\n      <td>tes4</td>\n      <td>0x8778b4fca3dabb722eb937403c0e363154b7a181bc2e...</td>\n      <td>test</td>\n      <td>0</td>\n      <td>0</td>\n    </tr>\n    <tr>\n      <th>37</th>\n      <td>허경영.eth</td>\n      <td>tes4</td>\n      <td>0x8778b4fca3dabb722eb937403c0e363154b7a181bc2e...</td>\n      <td>test</td>\n      <td>0</td>\n      <td>0</td>\n    </tr>\n    <tr>\n      <th>38</th>\n      <td>허경영.eth</td>\n      <td>test3</td>\n      <td>0x6a17f472c1f1679e64ace47ef5ef6cc9d13f91c8886a...</td>\n      <td>test3</td>\n      <td>11</td>\n      <td>11</td>\n    </tr>\n    <tr>\n      <th>39</th>\n      <td>허경영.eth</td>\n      <td>test3</td>\n      <td>0x6a17f472c1f1679e64ace47ef5ef6cc9d13f91c8886a...</td>\n      <td>test3</td>\n      <td>0</td>\n      <td>11</td>\n    </tr>\n    <tr>\n      <th>40</th>\n      <td>허경영.eth</td>\n      <td>test</td>\n      <td>0x077dfd4c9e16905837e54b3939f5543bc1414cbfbe41...</td>\n      <td>test</td>\n      <td>0</td>\n      <td>7</td>\n    </tr>\n    <tr>\n      <th>41</th>\n      <td>허경영.eth</td>\n      <td>test</td>\n      <td>0x077dfd4c9e16905837e54b3939f5543bc1414cbfbe41...</td>\n      <td>test</td>\n      <td>7</td>\n      <td>7</td>\n    </tr>\n    <tr>\n      <th>42</th>\n      <td>허경영.eth</td>\n      <td>test</td>\n      <td>0x4675e59a92310e1523690b07e67e7febb9d3e96c4bc4...</td>\n      <td>test</td>\n      <td>7</td>\n      <td>7</td>\n    </tr>\n    <tr>\n      <th>43</th>\n      <td>허경영.eth</td>\n      <td>test</td>\n      <td>0x4675e59a92310e1523690b07e67e7febb9d3e96c4bc4...</td>\n      <td>test</td>\n      <td>0</td>\n      <td>7</td>\n    </tr>\n  </tbody>\n</table>\n</div>"
     },
     "execution_count": 45,
     "metadata": {},
     "output_type": "execute_result"
    }
   ],
   "source": [
    "space_name = spaces_list.iat[2,0]\n",
    "\n",
    "proposals2 = snapshot.Query.proposals(\n",
    "  orderBy='created',\n",
    "  orderDirection='desc',\n",
    "  first=1000,\n",
    "  where=[\n",
    "    snapshot.Proposal.space == space_name,\n",
    "    snapshot.Proposal.state == 'closed'\n",
    "    ##snapshot.Proposal.title == 'OIP-18: Reward rate framework and reduction',\n",
    "  ]\n",
    ")\n",
    "\n",
    "proposals_snapshots2 = sg.query_df([\n",
    "    proposals2.title,\n",
    "    proposals2.id,\n",
    "    proposals2.body,\n",
    "    proposals2.scores,\n",
    "    proposals2.scores_total\n",
    "])\n",
    "\n",
    "proposals_snapshots2.insert(0,'dao',space_name)\n",
    "\n",
    "proposals_snapshots2"
   ],
   "metadata": {
    "collapsed": false,
    "pycharm": {
     "name": "#%%\n"
    }
   }
  },
  {
   "cell_type": "code",
   "execution_count": 46,
   "outputs": [
    {
     "name": "stdout",
     "output_type": "stream",
     "text": [
      "10 狂奔的蜗牛5.eth 0\n",
      "20 深圳刘先生.eth 0\n",
      "30 掌上中药网平台.eth 0\n",
      "40 商丘工学院.eth 0\n",
      "50 中华人民共和国中央人民政府.eth 0\n",
      "60 zzghcm001.eth 0\n",
      "70 zwei02.eth 0\n",
      "80 zorromiaotommy.eth 0\n",
      "90 zonas.eth 0\n",
      "100 zodiac-dao.eth 0\n",
      "110 zjw023.eth 0\n",
      "120 zhuzhuking.eth 0\n",
      "130 zht1688.eth 0\n",
      "140 zheyanyangguang.eth 0\n",
      "150 zhanwenjie.eth 0\n",
      "160 zhahugh1984.eth 0\n",
      "170 zerolab.eth 0\n",
      "180 zeniversedao.eth 0\n",
      "190 zdaocrypto.eth 0\n",
      "200 zcfrank1st.eth 0\n",
      "210 zaifinance.eth 0\n",
      "220 yy777.eth 0\n",
      "230 yunqiao.eth 0\n",
      "240 yuewang.eth 0\n",
      "250 yourdictionary.eth 0\n",
      "260 yorkcapital.eth 0\n",
      "270 yoghurt.eth 0\n",
      "280 yiqikuiqian.eth 0\n",
      "290 yifeixu.eth 0\n",
      "300 ygglok.eth 0\n",
      "310 yfarm 0\n",
      "320 yeetdao.eth 0\n",
      "330 yaxis.eth 0\n",
      "340 yanyun.eth 0\n",
      "350 yangjingkun.eth 0\n",
      "360 yam.eth 0\n",
      "370 y-5.eth 0\n",
      "380 xuwenjie.eth 0\n",
      "390 xtsworld.eth 0\n",
      "400 xpeng.eth 0\n",
      "410 xm519.eth 0\n",
      "420 xingzepeng.eth 0\n",
      "430 xiaoyuwan.eth 0\n",
      "440 xiaonuonuo520.eth 0\n",
      "450 xiaochou.eth 0\n",
      "460 xhero.eth 0\n",
      "470 xenophondao.eth 0\n",
      "480 xdaistake.eth 0\n",
      "490 x1.testsnap.eth 0\n",
      "500 wuzetian.eth 0\n",
      "510 wuislet.eth 0\n",
      "520 wrappedwinterbears.eth 0\n",
      "530 wowlabz.eth 0\n",
      "540 worldcolorsfpv.eth 0\n",
      "550 wonderfulday.eth 0\n",
      "560 woaimofang.eth 0\n",
      "570 wizardlabs.eth 0\n",
      "580 wine-searcher.eth 0\n",
      "590 willholley.eth 0\n",
      "600 whitelistexclusivenftclub.eth 0\n",
      "610 whalegoddess.eth 0\n",
      "620 weth-rinkeby 0\n",
      "630 wenwenprotocol.eth 0\n",
      "640 welcomeback.eth 0\n",
      "650 webye.eth 0\n",
      "660 web3shield.eth 0\n",
      "670 web12.eth 0\n",
      "680 wdswap.eth 0\n",
      "690 waterfalldao.eth 0\n",
      "700 wanqi.eth 0\n",
      "710 wanakafarm-dao.eth 0\n",
      "720 wagmiwarriors.eth 0\n",
      "730 waamidao.eth 0\n",
      "740 vsheng.eth 0\n",
      "750 votewarp.eth 0\n",
      "760 vote.southchain.eth 0\n",
      "770 vote.devodao.eth 0\n",
      "780 vote-rinkeby.airswap.eth 0\n",
      "790 vnetwork.eth 0\n",
      "800 vitaminb2.eth 0\n",
      "810 viralata.eth 0\n",
      "820 viewsdao.eth 0\n",
      "830 verder.eth 0\n",
      "840 velmie.eth 0\n",
      "850 vdp.eth 0\n",
      "860 vault.esposit0.eth 0\n",
      "870 vaos.eth 0\n",
      "880 validator-dao.eth 0\n",
      "890 v1cryptopunks.eth 0\n",
      "900 utokyo.eth 0\n",
      "910 úrnua.eth 0\n",
      "920 unstatesloth.eth 0\n",
      "930 unizxf.eth 0\n",
      "940 unitypeace.eth 0\n",
      "950 uniqueone.eth 0\n",
      "960 unigod.storymode.eth 0\n",
      "970 uniartsdao.eth 0\n",
      "980 undergroundapeclub.eth 0\n",
      "990 ummahdao.eth 0\n",
      "1000 ultimateens.eth 0\n",
      "1010 athvc.eth 0\n",
      "1020 jaxslab.eth 0\n",
      "1030 0xzhusu.eth 0\n",
      "1040 0xchenl.eth 0\n",
      "1050 versesxyz.eth 0\n",
      "1060 spysignals.eth 0\n",
      "1070 p12.eth 0\n",
      "1080 bitonium.eth 0\n",
      "1090 variantdao.eth 0\n",
      "1100 tokenart.eth 0\n",
      "1110 golfrochain.eth 0\n",
      "1120 cco3.daohaus.eth 0\n",
      "1130 tarotdao.eth 0\n",
      "1140 dsla.eth 0\n",
      "1150 z1coach.eth 0\n",
      "1160 doveswap.eth 0\n",
      "1170 puml.eth 0\n",
      "1180 dappchain.eth 0\n",
      "1190 grapedao.eth 0\n",
      "1200 gokumarketdao.eth 0\n",
      "1210 guildqb.eth 0\n",
      "1220 adaocompany.eth 0\n",
      "1230 shellprotocol.eth 0\n",
      "1240 0xchenhu.eth 0\n",
      "1250 0xmaia.eth 0\n",
      "1260 samwitty.eth 0\n",
      "1270 sdfxs.eth 0\n"
     ]
    },
    {
     "ename": "KeyError",
     "evalue": "'errors'",
     "output_type": "error",
     "traceback": [
      "\u001B[1;31m---------------------------------------------------------------------------\u001B[0m",
      "\u001B[1;31mKeyError\u001B[0m                                  Traceback (most recent call last)",
      "File \u001B[1;32m~\\PycharmProjects\\pythonProject\\venv\\lib\\site-packages\\subgrounds\\client.py:165\u001B[0m, in \u001B[0;36mquery\u001B[1;34m(url, query_str, variables)\u001B[0m\n\u001B[0;32m    164\u001B[0m \u001B[38;5;28;01mtry\u001B[39;00m:\n\u001B[1;32m--> 165\u001B[0m   \u001B[38;5;28;01mreturn\u001B[39;00m \u001B[43mresp\u001B[49m\u001B[43m[\u001B[49m\u001B[38;5;124;43m'\u001B[39;49m\u001B[38;5;124;43mdata\u001B[39;49m\u001B[38;5;124;43m'\u001B[39;49m\u001B[43m]\u001B[49m\n\u001B[0;32m    166\u001B[0m \u001B[38;5;28;01mexcept\u001B[39;00m \u001B[38;5;167;01mKeyError\u001B[39;00m \u001B[38;5;28;01mas\u001B[39;00m exn:\n",
      "\u001B[1;31mKeyError\u001B[0m: 'data'",
      "\nDuring handling of the above exception, another exception occurred:\n",
      "\u001B[1;31mKeyError\u001B[0m                                  Traceback (most recent call last)",
      "Input \u001B[1;32mIn [46]\u001B[0m, in \u001B[0;36m<cell line: 3>\u001B[1;34m()\u001B[0m\n\u001B[0;32m      4\u001B[0m   space_name \u001B[38;5;241m=\u001B[39m spaces_list\u001B[38;5;241m.\u001B[39miat[t,\u001B[38;5;241m0\u001B[39m]\n\u001B[0;32m      5\u001B[0m   proposals3 \u001B[38;5;241m=\u001B[39m snapshot\u001B[38;5;241m.\u001B[39mQuery\u001B[38;5;241m.\u001B[39mproposals(\n\u001B[0;32m      6\u001B[0m     orderBy\u001B[38;5;241m=\u001B[39m\u001B[38;5;124m'\u001B[39m\u001B[38;5;124mcreated\u001B[39m\u001B[38;5;124m'\u001B[39m,\n\u001B[0;32m      7\u001B[0m     orderDirection\u001B[38;5;241m=\u001B[39m\u001B[38;5;124m'\u001B[39m\u001B[38;5;124mdesc\u001B[39m\u001B[38;5;124m'\u001B[39m,\n\u001B[1;32m   (...)\u001B[0m\n\u001B[0;32m     13\u001B[0m       ]\n\u001B[0;32m     14\u001B[0m   )\n\u001B[1;32m---> 15\u001B[0m   proposals_snapshots3 \u001B[38;5;241m=\u001B[39m \u001B[43msg\u001B[49m\u001B[38;5;241;43m.\u001B[39;49m\u001B[43mquery_df\u001B[49m\u001B[43m(\u001B[49m\u001B[43m[\u001B[49m\n\u001B[0;32m     16\u001B[0m \u001B[43m    \u001B[49m\u001B[43mproposals3\u001B[49m\u001B[38;5;241;43m.\u001B[39;49m\u001B[43mtitle\u001B[49m\u001B[43m,\u001B[49m\n\u001B[0;32m     17\u001B[0m \u001B[43m    \u001B[49m\u001B[43mproposals3\u001B[49m\u001B[38;5;241;43m.\u001B[39;49m\u001B[43mid\u001B[49m\u001B[43m,\u001B[49m\n\u001B[0;32m     18\u001B[0m \u001B[43m    \u001B[49m\u001B[43mproposals3\u001B[49m\u001B[38;5;241;43m.\u001B[39;49m\u001B[43mbody\u001B[49m\u001B[43m,\u001B[49m\n\u001B[0;32m     19\u001B[0m \u001B[43m    \u001B[49m\u001B[43mproposals3\u001B[49m\u001B[38;5;241;43m.\u001B[39;49m\u001B[43mscores\u001B[49m\u001B[43m,\u001B[49m\n\u001B[0;32m     20\u001B[0m \u001B[43m    \u001B[49m\u001B[43mproposals3\u001B[49m\u001B[38;5;241;43m.\u001B[39;49m\u001B[43mscores_total\u001B[49m\n\u001B[0;32m     21\u001B[0m \u001B[43m]\u001B[49m\u001B[43m)\u001B[49m\n\u001B[0;32m     22\u001B[0m   proposals_snapshots3\u001B[38;5;241m.\u001B[39minsert(\u001B[38;5;241m0\u001B[39m,\u001B[38;5;124m'\u001B[39m\u001B[38;5;124mdao\u001B[39m\u001B[38;5;124m'\u001B[39m,space_name)\n\u001B[0;32m     23\u001B[0m   proposals_snapshots \u001B[38;5;241m=\u001B[39m pd\u001B[38;5;241m.\u001B[39mconcat([proposals_snapshots,proposals_snapshots2,proposals_snapshots3])\n",
      "File \u001B[1;32m~\\PycharmProjects\\pythonProject\\venv\\lib\\site-packages\\subgrounds\\subgrounds.py:322\u001B[0m, in \u001B[0;36mSubgrounds.query_df\u001B[1;34m(self, fpaths, columns, concat, auto_paginate)\u001B[0m\n\u001B[0;32m    261\u001B[0m \u001B[38;5;124;03m\"\"\"Same as :func:`Subgrounds.query` but formats the response data into a\u001B[39;00m\n\u001B[0;32m    262\u001B[0m \u001B[38;5;124;03mPandas DataFrame. If the response data cannot be flattened to a single query\u001B[39;00m\n\u001B[0;32m    263\u001B[0m \u001B[38;5;124;03m(e.g.: when querying multiple list fields that return different entities),\u001B[39;00m\n\u001B[1;32m   (...)\u001B[0m\n\u001B[0;32m    319\u001B[0m \u001B[38;5;124;03m9       1643213196  2610.686563\u001B[39;00m\n\u001B[0;32m    320\u001B[0m \u001B[38;5;124;03m\"\"\"\u001B[39;00m\n\u001B[0;32m    321\u001B[0m fpaths \u001B[38;5;241m=\u001B[39m \u001B[38;5;28mlist\u001B[39m(fpaths \u001B[38;5;241m|\u001B[39m \u001B[38;5;28mmap\u001B[39m(FieldPath\u001B[38;5;241m.\u001B[39m_auto_select) \u001B[38;5;241m|\u001B[39m traverse)\n\u001B[1;32m--> 322\u001B[0m json_data \u001B[38;5;241m=\u001B[39m \u001B[38;5;28;43mself\u001B[39;49m\u001B[38;5;241;43m.\u001B[39;49m\u001B[43mquery_json\u001B[49m\u001B[43m(\u001B[49m\u001B[43mfpaths\u001B[49m\u001B[43m,\u001B[49m\u001B[43m \u001B[49m\u001B[43mauto_paginate\u001B[49m\u001B[38;5;241;43m=\u001B[39;49m\u001B[43mauto_paginate\u001B[49m\u001B[43m)\u001B[49m\n\u001B[0;32m    323\u001B[0m \u001B[38;5;28;01mreturn\u001B[39;00m df_of_json(json_data, fpaths, columns, concat)\n",
      "File \u001B[1;32m~\\PycharmProjects\\pythonProject\\venv\\lib\\site-packages\\subgrounds\\subgrounds.py:231\u001B[0m, in \u001B[0;36mSubgrounds.query_json\u001B[1;34m(self, fpaths, auto_paginate)\u001B[0m\n\u001B[0;32m    229\u001B[0m fpaths \u001B[38;5;241m=\u001B[39m \u001B[38;5;28mlist\u001B[39m(fpaths \u001B[38;5;241m|\u001B[39m \u001B[38;5;28mmap\u001B[39m(FieldPath\u001B[38;5;241m.\u001B[39m_auto_select) \u001B[38;5;241m|\u001B[39m traverse)\n\u001B[0;32m    230\u001B[0m req \u001B[38;5;241m=\u001B[39m \u001B[38;5;28mself\u001B[39m\u001B[38;5;241m.\u001B[39mmk_request(fpaths)\n\u001B[1;32m--> 231\u001B[0m \u001B[38;5;28;01mreturn\u001B[39;00m \u001B[38;5;28;43mself\u001B[39;49m\u001B[38;5;241;43m.\u001B[39;49m\u001B[43mexecute\u001B[49m\u001B[43m(\u001B[49m\u001B[43mreq\u001B[49m\u001B[43m,\u001B[49m\u001B[43m \u001B[49m\u001B[43mauto_paginate\u001B[49m\u001B[38;5;241;43m=\u001B[39;49m\u001B[43mauto_paginate\u001B[49m\u001B[43m)\u001B[49m\n",
      "File \u001B[1;32m~\\PycharmProjects\\pythonProject\\venv\\lib\\site-packages\\subgrounds\\subgrounds.py:164\u001B[0m, in \u001B[0;36mSubgrounds.execute\u001B[1;34m(self, req, auto_paginate)\u001B[0m\n\u001B[0;32m    154\u001B[0m   \u001B[38;5;28;01mmatch\u001B[39;00m transforms:\n\u001B[0;32m    155\u001B[0m     \u001B[38;5;28;01mcase\u001B[39;00m []:\n\u001B[0;32m    156\u001B[0m       \u001B[38;5;28;01mreturn\u001B[39;00m \u001B[38;5;28mlist\u001B[39m(req\u001B[38;5;241m.\u001B[39mdocuments \u001B[38;5;241m|\u001B[39m \u001B[38;5;28mmap\u001B[39m(\u001B[38;5;28;01mlambda\u001B[39;00m doc: transform_doc(\u001B[38;5;28mself\u001B[39m\u001B[38;5;241m.\u001B[39msubgraphs[doc\u001B[38;5;241m.\u001B[39murl]\u001B[38;5;241m.\u001B[39m_transforms, doc)))\n\u001B[1;32m   (...)\u001B[0m\n\u001B[0;32m    159\u001B[0m       data \u001B[38;5;241m=\u001B[39m transform_req(rest, new_req)\n\u001B[0;32m    160\u001B[0m       \u001B[38;5;28;01mreturn\u001B[39;00m transform\u001B[38;5;241m.\u001B[39mtransform_response(req, data)\n\u001B[0;32m    162\u001B[0m   \u001B[38;5;28;01massert\u001B[39;00m \u001B[38;5;28;01mFalse\u001B[39;00m  \u001B[38;5;66;03m# Suppress mypy missing return statement warning\u001B[39;00m\n\u001B[1;32m--> 164\u001B[0m \u001B[38;5;28;01mreturn\u001B[39;00m \u001B[43mtransform_req\u001B[49m\u001B[43m(\u001B[49m\u001B[38;5;28;43mself\u001B[39;49m\u001B[38;5;241;43m.\u001B[39;49m\u001B[43mglobal_transforms\u001B[49m\u001B[43m,\u001B[49m\u001B[43m \u001B[49m\u001B[43mreq\u001B[49m\u001B[43m)\u001B[49m\n",
      "File \u001B[1;32m~\\PycharmProjects\\pythonProject\\venv\\lib\\site-packages\\subgrounds\\subgrounds.py:156\u001B[0m, in \u001B[0;36mSubgrounds.execute.<locals>.transform_req\u001B[1;34m(transforms, req)\u001B[0m\n\u001B[0;32m    153\u001B[0m \u001B[38;5;28;01mdef\u001B[39;00m \u001B[38;5;21mtransform_req\u001B[39m(transforms: \u001B[38;5;28mlist\u001B[39m[RequestTransform], req: DataRequest) \u001B[38;5;241m-\u001B[39m\u001B[38;5;241m>\u001B[39m \u001B[38;5;28mlist\u001B[39m[\u001B[38;5;28mdict\u001B[39m]:\n\u001B[0;32m    154\u001B[0m   \u001B[38;5;28;01mmatch\u001B[39;00m transforms:\n\u001B[0;32m    155\u001B[0m     \u001B[38;5;28;01mcase\u001B[39;00m []:\n\u001B[1;32m--> 156\u001B[0m       \u001B[38;5;28;01mreturn\u001B[39;00m \u001B[38;5;28;43mlist\u001B[39;49m\u001B[43m(\u001B[49m\u001B[43mreq\u001B[49m\u001B[38;5;241;43m.\u001B[39;49m\u001B[43mdocuments\u001B[49m\u001B[43m \u001B[49m\u001B[38;5;241;43m|\u001B[39;49m\u001B[43m \u001B[49m\u001B[38;5;28;43mmap\u001B[39;49m\u001B[43m(\u001B[49m\u001B[38;5;28;43;01mlambda\u001B[39;49;00m\u001B[43m \u001B[49m\u001B[43mdoc\u001B[49m\u001B[43m:\u001B[49m\u001B[43m \u001B[49m\u001B[43mtransform_doc\u001B[49m\u001B[43m(\u001B[49m\u001B[38;5;28;43mself\u001B[39;49m\u001B[38;5;241;43m.\u001B[39;49m\u001B[43msubgraphs\u001B[49m\u001B[43m[\u001B[49m\u001B[43mdoc\u001B[49m\u001B[38;5;241;43m.\u001B[39;49m\u001B[43murl\u001B[49m\u001B[43m]\u001B[49m\u001B[38;5;241;43m.\u001B[39;49m\u001B[43m_transforms\u001B[49m\u001B[43m,\u001B[49m\u001B[43m \u001B[49m\u001B[43mdoc\u001B[49m\u001B[43m)\u001B[49m\u001B[43m)\u001B[49m\u001B[43m)\u001B[49m\n\u001B[0;32m    157\u001B[0m     \u001B[38;5;28;01mcase\u001B[39;00m [transform, \u001B[38;5;241m*\u001B[39mrest]:\n\u001B[0;32m    158\u001B[0m       new_req \u001B[38;5;241m=\u001B[39m transform\u001B[38;5;241m.\u001B[39mtransform_request(req)\n\u001B[0;32m    159\u001B[0m       data \u001B[38;5;241m=\u001B[39m transform_req(rest, new_req)\n\u001B[0;32m    160\u001B[0m       \u001B[38;5;28;01mreturn\u001B[39;00m transform\u001B[38;5;241m.\u001B[39mtransform_response(req, data)\n\u001B[0;32m    162\u001B[0m   \u001B[38;5;28;01massert\u001B[39;00m \u001B[38;5;28;01mFalse\u001B[39;00m\n",
      "File \u001B[1;32m~\\PycharmProjects\\pythonProject\\venv\\lib\\site-packages\\subgrounds\\subgrounds.py:156\u001B[0m, in \u001B[0;36mSubgrounds.execute.<locals>.transform_req.<locals>.<lambda>\u001B[1;34m(doc)\u001B[0m\n\u001B[0;32m    153\u001B[0m \u001B[38;5;28;01mdef\u001B[39;00m \u001B[38;5;21mtransform_req\u001B[39m(transforms: \u001B[38;5;28mlist\u001B[39m[RequestTransform], req: DataRequest) \u001B[38;5;241m-\u001B[39m\u001B[38;5;241m>\u001B[39m \u001B[38;5;28mlist\u001B[39m[\u001B[38;5;28mdict\u001B[39m]:\n\u001B[0;32m    154\u001B[0m   \u001B[38;5;28;01mmatch\u001B[39;00m transforms:\n\u001B[0;32m    155\u001B[0m     \u001B[38;5;28;01mcase\u001B[39;00m []:\n\u001B[1;32m--> 156\u001B[0m       \u001B[38;5;28;01mreturn\u001B[39;00m \u001B[38;5;28mlist\u001B[39m(req\u001B[38;5;241m.\u001B[39mdocuments \u001B[38;5;241m|\u001B[39m \u001B[38;5;28mmap\u001B[39m(\u001B[38;5;28;01mlambda\u001B[39;00m doc: \u001B[43mtransform_doc\u001B[49m\u001B[43m(\u001B[49m\u001B[38;5;28;43mself\u001B[39;49m\u001B[38;5;241;43m.\u001B[39;49m\u001B[43msubgraphs\u001B[49m\u001B[43m[\u001B[49m\u001B[43mdoc\u001B[49m\u001B[38;5;241;43m.\u001B[39;49m\u001B[43murl\u001B[49m\u001B[43m]\u001B[49m\u001B[38;5;241;43m.\u001B[39;49m\u001B[43m_transforms\u001B[49m\u001B[43m,\u001B[49m\u001B[43m \u001B[49m\u001B[43mdoc\u001B[49m\u001B[43m)\u001B[49m))\n\u001B[0;32m    157\u001B[0m     \u001B[38;5;28;01mcase\u001B[39;00m [transform, \u001B[38;5;241m*\u001B[39mrest]:\n\u001B[0;32m    158\u001B[0m       new_req \u001B[38;5;241m=\u001B[39m transform\u001B[38;5;241m.\u001B[39mtransform_request(req)\n\u001B[0;32m    159\u001B[0m       data \u001B[38;5;241m=\u001B[39m transform_req(rest, new_req)\n\u001B[0;32m    160\u001B[0m       \u001B[38;5;28;01mreturn\u001B[39;00m transform\u001B[38;5;241m.\u001B[39mtransform_response(req, data)\n\u001B[0;32m    162\u001B[0m   \u001B[38;5;28;01massert\u001B[39;00m \u001B[38;5;28;01mFalse\u001B[39;00m\n",
      "File \u001B[1;32m~\\PycharmProjects\\pythonProject\\venv\\lib\\site-packages\\subgrounds\\subgrounds.py:148\u001B[0m, in \u001B[0;36mSubgrounds.execute.<locals>.transform_doc\u001B[1;34m(transforms, doc)\u001B[0m\n\u001B[0;32m    141\u001B[0m \u001B[38;5;28;01mdef\u001B[39;00m \u001B[38;5;21mtransform_doc\u001B[39m(transforms: \u001B[38;5;28mlist\u001B[39m[DocumentTransform], doc: Document) \u001B[38;5;241m-\u001B[39m\u001B[38;5;241m>\u001B[39m \u001B[38;5;28mdict\u001B[39m:\n\u001B[0;32m    142\u001B[0m   logger\u001B[38;5;241m.\u001B[39mdebug(\u001B[38;5;124mf\u001B[39m\u001B[38;5;124m'\u001B[39m\u001B[38;5;124mexecute.transform_doc: doc = \u001B[39m\u001B[38;5;130;01m\\n\u001B[39;00m\u001B[38;5;132;01m{\u001B[39;00mdoc\u001B[38;5;241m.\u001B[39mgraphql\u001B[38;5;132;01m}\u001B[39;00m\u001B[38;5;124m'\u001B[39m)\n\u001B[0;32m    143\u001B[0m   \u001B[38;5;28;01mmatch\u001B[39;00m transforms:\n\u001B[0;32m    144\u001B[0m     \u001B[38;5;28;01mcase\u001B[39;00m []:\n\u001B[0;32m    145\u001B[0m       \u001B[38;5;28;01mreturn\u001B[39;00m execute_document(doc)\n\u001B[0;32m    146\u001B[0m     \u001B[38;5;28;01mcase\u001B[39;00m [transform, \u001B[38;5;241m*\u001B[39mrest]:\n\u001B[0;32m    147\u001B[0m       new_doc \u001B[38;5;241m=\u001B[39m transform\u001B[38;5;241m.\u001B[39mtransform_document(doc)\n\u001B[1;32m--> 148\u001B[0m       data \u001B[38;5;241m=\u001B[39m \u001B[43mtransform_doc\u001B[49m\u001B[43m(\u001B[49m\u001B[43mrest\u001B[49m\u001B[43m,\u001B[49m\u001B[43m \u001B[49m\u001B[43mnew_doc\u001B[49m\u001B[43m)\u001B[49m\n\u001B[0;32m    149\u001B[0m       \u001B[38;5;28;01mreturn\u001B[39;00m transform\u001B[38;5;241m.\u001B[39mtransform_response(doc, data)\n\u001B[0;32m    151\u001B[0m   \u001B[38;5;28;01massert\u001B[39;00m \u001B[38;5;28;01mFalse\u001B[39;00m\n",
      "File \u001B[1;32m~\\PycharmProjects\\pythonProject\\venv\\lib\\site-packages\\subgrounds\\subgrounds.py:148\u001B[0m, in \u001B[0;36mSubgrounds.execute.<locals>.transform_doc\u001B[1;34m(transforms, doc)\u001B[0m\n\u001B[0;32m    141\u001B[0m \u001B[38;5;28;01mdef\u001B[39;00m \u001B[38;5;21mtransform_doc\u001B[39m(transforms: \u001B[38;5;28mlist\u001B[39m[DocumentTransform], doc: Document) \u001B[38;5;241m-\u001B[39m\u001B[38;5;241m>\u001B[39m \u001B[38;5;28mdict\u001B[39m:\n\u001B[0;32m    142\u001B[0m   logger\u001B[38;5;241m.\u001B[39mdebug(\u001B[38;5;124mf\u001B[39m\u001B[38;5;124m'\u001B[39m\u001B[38;5;124mexecute.transform_doc: doc = \u001B[39m\u001B[38;5;130;01m\\n\u001B[39;00m\u001B[38;5;132;01m{\u001B[39;00mdoc\u001B[38;5;241m.\u001B[39mgraphql\u001B[38;5;132;01m}\u001B[39;00m\u001B[38;5;124m'\u001B[39m)\n\u001B[0;32m    143\u001B[0m   \u001B[38;5;28;01mmatch\u001B[39;00m transforms:\n\u001B[0;32m    144\u001B[0m     \u001B[38;5;28;01mcase\u001B[39;00m []:\n\u001B[0;32m    145\u001B[0m       \u001B[38;5;28;01mreturn\u001B[39;00m execute_document(doc)\n\u001B[0;32m    146\u001B[0m     \u001B[38;5;28;01mcase\u001B[39;00m [transform, \u001B[38;5;241m*\u001B[39mrest]:\n\u001B[0;32m    147\u001B[0m       new_doc \u001B[38;5;241m=\u001B[39m transform\u001B[38;5;241m.\u001B[39mtransform_document(doc)\n\u001B[1;32m--> 148\u001B[0m       data \u001B[38;5;241m=\u001B[39m \u001B[43mtransform_doc\u001B[49m\u001B[43m(\u001B[49m\u001B[43mrest\u001B[49m\u001B[43m,\u001B[49m\u001B[43m \u001B[49m\u001B[43mnew_doc\u001B[49m\u001B[43m)\u001B[49m\n\u001B[0;32m    149\u001B[0m       \u001B[38;5;28;01mreturn\u001B[39;00m transform\u001B[38;5;241m.\u001B[39mtransform_response(doc, data)\n\u001B[0;32m    151\u001B[0m   \u001B[38;5;28;01massert\u001B[39;00m \u001B[38;5;28;01mFalse\u001B[39;00m\n",
      "File \u001B[1;32m~\\PycharmProjects\\pythonProject\\venv\\lib\\site-packages\\subgrounds\\subgrounds.py:145\u001B[0m, in \u001B[0;36mSubgrounds.execute.<locals>.transform_doc\u001B[1;34m(transforms, doc)\u001B[0m\n\u001B[0;32m    141\u001B[0m \u001B[38;5;28;01mdef\u001B[39;00m \u001B[38;5;21mtransform_doc\u001B[39m(transforms: \u001B[38;5;28mlist\u001B[39m[DocumentTransform], doc: Document) \u001B[38;5;241m-\u001B[39m\u001B[38;5;241m>\u001B[39m \u001B[38;5;28mdict\u001B[39m:\n\u001B[0;32m    142\u001B[0m   logger\u001B[38;5;241m.\u001B[39mdebug(\u001B[38;5;124mf\u001B[39m\u001B[38;5;124m'\u001B[39m\u001B[38;5;124mexecute.transform_doc: doc = \u001B[39m\u001B[38;5;130;01m\\n\u001B[39;00m\u001B[38;5;132;01m{\u001B[39;00mdoc\u001B[38;5;241m.\u001B[39mgraphql\u001B[38;5;132;01m}\u001B[39;00m\u001B[38;5;124m'\u001B[39m)\n\u001B[0;32m    143\u001B[0m   \u001B[38;5;28;01mmatch\u001B[39;00m transforms:\n\u001B[0;32m    144\u001B[0m     \u001B[38;5;28;01mcase\u001B[39;00m []:\n\u001B[1;32m--> 145\u001B[0m       \u001B[38;5;28;01mreturn\u001B[39;00m \u001B[43mexecute_document\u001B[49m\u001B[43m(\u001B[49m\u001B[43mdoc\u001B[49m\u001B[43m)\u001B[49m\n\u001B[0;32m    146\u001B[0m     \u001B[38;5;28;01mcase\u001B[39;00m [transform, \u001B[38;5;241m*\u001B[39mrest]:\n\u001B[0;32m    147\u001B[0m       new_doc \u001B[38;5;241m=\u001B[39m transform\u001B[38;5;241m.\u001B[39mtransform_document(doc)\n\u001B[0;32m    148\u001B[0m       data \u001B[38;5;241m=\u001B[39m transform_doc(rest, new_doc)\n\u001B[0;32m    149\u001B[0m       \u001B[38;5;28;01mreturn\u001B[39;00m transform\u001B[38;5;241m.\u001B[39mtransform_response(doc, data)\n\u001B[0;32m    151\u001B[0m   \u001B[38;5;28;01massert\u001B[39;00m \u001B[38;5;28;01mFalse\u001B[39;00m\n",
      "File \u001B[1;32m~\\PycharmProjects\\pythonProject\\venv\\lib\\site-packages\\subgrounds\\subgrounds.py:139\u001B[0m, in \u001B[0;36mSubgrounds.execute.<locals>.execute_document\u001B[1;34m(doc)\u001B[0m\n\u001B[0;32m    137\u001B[0m   \u001B[38;5;28;01mreturn\u001B[39;00m pagination\u001B[38;5;241m.\u001B[39mpaginate(subgraph\u001B[38;5;241m.\u001B[39m_schema, doc)\n\u001B[0;32m    138\u001B[0m \u001B[38;5;28;01melse\u001B[39;00m:\n\u001B[1;32m--> 139\u001B[0m   \u001B[38;5;28;01mreturn\u001B[39;00m \u001B[43mclient\u001B[49m\u001B[38;5;241;43m.\u001B[39;49m\u001B[43mquery\u001B[49m\u001B[43m(\u001B[49m\u001B[43mdoc\u001B[49m\u001B[38;5;241;43m.\u001B[39;49m\u001B[43murl\u001B[49m\u001B[43m,\u001B[49m\u001B[43m \u001B[49m\u001B[43mdoc\u001B[49m\u001B[38;5;241;43m.\u001B[39;49m\u001B[43mgraphql\u001B[49m\u001B[43m,\u001B[49m\u001B[43m \u001B[49m\u001B[43mvariables\u001B[49m\u001B[38;5;241;43m=\u001B[39;49m\u001B[43mdoc\u001B[49m\u001B[38;5;241;43m.\u001B[39;49m\u001B[43mvariables\u001B[49m\u001B[43m)\u001B[49m\n",
      "File \u001B[1;32m~\\PycharmProjects\\pythonProject\\venv\\lib\\site-packages\\subgrounds\\client.py:167\u001B[0m, in \u001B[0;36mquery\u001B[1;34m(url, query_str, variables)\u001B[0m\n\u001B[0;32m    165\u001B[0m   \u001B[38;5;28;01mreturn\u001B[39;00m resp[\u001B[38;5;124m'\u001B[39m\u001B[38;5;124mdata\u001B[39m\u001B[38;5;124m'\u001B[39m]\n\u001B[0;32m    166\u001B[0m \u001B[38;5;28;01mexcept\u001B[39;00m \u001B[38;5;167;01mKeyError\u001B[39;00m \u001B[38;5;28;01mas\u001B[39;00m exn:\n\u001B[1;32m--> 167\u001B[0m   \u001B[38;5;28;01mraise\u001B[39;00m \u001B[38;5;167;01mException\u001B[39;00m(\u001B[43mresp\u001B[49m\u001B[43m[\u001B[49m\u001B[38;5;124;43m'\u001B[39;49m\u001B[38;5;124;43merrors\u001B[39;49m\u001B[38;5;124;43m'\u001B[39;49m\u001B[43m]\u001B[49m) \u001B[38;5;28;01mfrom\u001B[39;00m \u001B[38;5;21;01mexn\u001B[39;00m\n",
      "\u001B[1;31mKeyError\u001B[0m: 'errors'"
     ]
    }
   ],
   "source": [
    "proposals3 = []\n",
    "t=3\n",
    "while t<=numspaces: ##numspaces when out of testing\n",
    "  space_name = spaces_list.iat[t,0]\n",
    "  proposals3 = snapshot.Query.proposals(\n",
    "    orderBy='created',\n",
    "    orderDirection='desc',\n",
    "    first=1000,\n",
    "    skip = 1000*t,\n",
    "    where=[\n",
    "      snapshot.Proposal.space == space_name,\n",
    "      snapshot.Proposal.state == 'closed'\n",
    "      ]\n",
    "  )\n",
    "  proposals_snapshots3 = sg.query_df([\n",
    "    proposals3.title,\n",
    "    proposals3.id,\n",
    "    proposals3.body,\n",
    "    proposals3.scores,\n",
    "    proposals3.scores_total\n",
    "])\n",
    "  proposals_snapshots3.insert(0,'dao',space_name)\n",
    "  proposals_snapshots = pd.concat([proposals_snapshots,proposals_snapshots2,proposals_snapshots3])\n",
    "  t=t+1\n",
    "  l=len(proposals_snapshots3)\n",
    "  if t%10 == 0: print (t,space_name,l)\n",
    "  if len(proposals_snapshots3)>0:\n",
    "    print(t,space_name,l)\n",
    "\n",
    "proposals_snapshots"
   ],
   "metadata": {
    "collapsed": false,
    "pycharm": {
     "name": "#%%\n"
    }
   }
  },
  {
   "cell_type": "code",
   "execution_count": null,
   "outputs": [],
   "source": [
    "len(proposals_snapshots)"
   ],
   "metadata": {
    "collapsed": false,
    "pycharm": {
     "name": "#%%\n"
    }
   }
  },
  {
   "cell_type": "markdown",
   "source": [
    "Why is this here? Cuz I was too lazy to move it. We are going to use this to timestamp the filenames"
   ],
   "metadata": {
    "collapsed": false,
    "pycharm": {
     "name": "#%% md\n"
    }
   }
  },
  {
   "cell_type": "code",
   "execution_count": null,
   "outputs": [],
   "source": [
    "snapshot.Proposal.datetime = SyntheticField(\n",
    "  lambda timestamp: str(datetime.fromtimestamp(timestamp)),\n",
    "  SyntheticField.STRING,\n",
    "  snapshot.Proposal.end,\n",
    "  )\n"
   ],
   "metadata": {
    "collapsed": false,
    "pycharm": {
     "name": "#%%\n"
    }
   }
  },
  {
   "cell_type": "code",
   "execution_count": null,
   "outputs": [],
   "source": [
    "##spit out the file!\n",
    "file = input('Selet a folder') ##enter your file path here - the file is in the repo \"summary_stats.csv\".\n",
    "path =file+'/votes_table_'+str(date.today().strftime(\"%b-%d-%Y\"))+'_'+str(len(proposals_snapshots))+'_snapshots.csv'\n",
    "proposals_snapshots.to_csv(path, index = False)"
   ],
   "metadata": {
    "collapsed": false,
    "pycharm": {
     "name": "#%%\n"
    }
   }
  },
  {
   "cell_type": "markdown",
   "source": [
    "Let's pull the choices each voter made. As always, I prime the pump with a single pull, then append more records/"
   ],
   "metadata": {
    "collapsed": false,
    "pycharm": {
     "name": "#%% md\n"
    }
   }
  },
  {
   "cell_type": "code",
   "execution_count": null,
   "outputs": [],
   "source": [
    "proposal_id = proposals_snapshots.iloc[1,2]\n",
    "voting_snapshots_list = sg.query_df([\n",
    "  vote_tracker.id,\n",
    "  vote_tracker.voter,\n",
    "  vote_tracker.created,\n",
    "  vote_tracker.choice,\n",
    "  vote_tracker.vp\n",
    "])\n",
    "voting_snapshots_list"
   ],
   "metadata": {
    "collapsed": false,
    "pycharm": {
     "name": "#%%\n"
    }
   }
  },
  {
   "cell_type": "code",
   "execution_count": null,
   "outputs": [],
   "source": [
    "voting_snapshots_list['Proposal'] = proposal_id\n",
    "print(voting_snapshots_list)"
   ],
   "metadata": {
    "collapsed": false,
    "pycharm": {
     "name": "#%%\n"
    }
   }
  },
  {
   "cell_type": "code",
   "execution_count": null,
   "outputs": [],
   "source": [
    "n=2\n",
    "total_props = (len(proposals_snapshots))-1\n",
    "while n<=total_props: ##total_props:\n",
    "  proposal_id = proposals_snapshots.iloc[n,2]\n",
    "  if n%10 == 0: print (n,proposal_id)\n",
    "  n=n+1\n",
    "  vote_tracker = snapshot.Query.votes(\n",
    "  orderBy = 'created',\n",
    "  orderDirection='desc',\n",
    "  first=10000,\n",
    "  where=[\n",
    "    snapshot.Vote.proposal == proposal_id\n",
    "  ])\n",
    "  voting_snapshots_list2 = sg.query_df([\n",
    "    vote_tracker.id,\n",
    "    vote_tracker.voter,\n",
    "    vote_tracker.created,\n",
    "    vote_tracker.choice,\n",
    "    vote_tracker.vp\n",
    "  ])\n",
    "  voting_snapshots_list2['Proposal'] = proposal_id\n",
    "  voting_snapshots_list = pd.concat([voting_snapshots_list,voting_snapshots_list2])"
   ],
   "metadata": {
    "collapsed": false,
    "pycharm": {
     "name": "#%%\n"
    }
   }
  },
  {
   "cell_type": "code",
   "execution_count": null,
   "outputs": [],
   "source": [
    "voting_snapshots_list"
   ],
   "metadata": {
    "collapsed": false,
    "pycharm": {
     "name": "#%%\n"
    }
   }
  },
  {
   "cell_type": "code",
   "execution_count": 35,
   "outputs": [],
   "source": [
    "##spit out the file!\n",
    "file = input('Selet a folder') ##enter your file path here - the file is in the repo \"summary_stats.csv\".\n",
    "path =file+'/votes_table_'+str(date.today().strftime(\"%b-%d-%Y\"))+'_'+str(len(voting_snapshots_list))+'_proposals.csv'\n",
    "voting_snapshots_list.to_csv(path, index = False)"
   ],
   "metadata": {
    "collapsed": false,
    "pycharm": {
     "name": "#%%\n"
    }
   }
  },
  {
   "cell_type": "markdown",
   "source": [
    "And finally, the body of each election's choices. Not critical but useful to have."
   ],
   "metadata": {
    "collapsed": false,
    "pycharm": {
     "name": "#%% md\n"
    }
   }
  },
  {
   "cell_type": "code",
   "execution_count": 36,
   "outputs": [
    {
     "name": "stdout",
     "output_type": "stream",
     "text": [
      "                                            votes_id  \\\n",
      "0     QmesJhaqKBtLK7zpC9yCZrLMTqgJwFMkBtLkJg18u51j6k   \n",
      "0     QmesJhaqKBtLK7zpC9yCZrLMTqgJwFMkBtLkJg18u51j6k   \n",
      "0     QmesJhaqKBtLK7zpC9yCZrLMTqgJwFMkBtLkJg18u51j6k   \n",
      "0     QmcZ8TpRkGpjfNDgta7YND3HBHbVJ4TwJN42kANstSQiKQ   \n",
      "1     QmUqNwHL9aFG1tgdkBytg3X9JTRLnSoYLnDSdNGeQMUfcY   \n",
      "0     QmcZ8TpRkGpjfNDgta7YND3HBHbVJ4TwJN42kANstSQiKQ   \n",
      "1     QmUqNwHL9aFG1tgdkBytg3X9JTRLnSoYLnDSdNGeQMUfcY   \n",
      "0     QmQHbreEmbhDsDrRDP8cV5r8Lim3m2iu7iUNT6wjAWR1V1   \n",
      "1     QmV8Dg5jyYJfv2RuqW6WwMX5BC1MmWTUWnf6Lh4e2bdihj   \n",
      "2     QmXxQA5fLUnxQbvCaQX1F7RYp12BpkP8MgKPoK2GdYteqU   \n",
      "3     QmYGGETLKWCAEs3U63H77n2MKyxM2r3xMmaSRzQa9yKhxS   \n",
      "4     QmdCaXncTR5XS64BdF3U5av4cQSdc9ikUPcBKAzghXYMDE   \n",
      "5     QmezEYaRALq6krgD6thubabxdrceTrRkM2xEFpJDMFzvkp   \n",
      "0     QmQHbreEmbhDsDrRDP8cV5r8Lim3m2iu7iUNT6wjAWR1V1   \n",
      "1     QmV8Dg5jyYJfv2RuqW6WwMX5BC1MmWTUWnf6Lh4e2bdihj   \n",
      "2     QmXxQA5fLUnxQbvCaQX1F7RYp12BpkP8MgKPoK2GdYteqU   \n",
      "3     QmYGGETLKWCAEs3U63H77n2MKyxM2r3xMmaSRzQa9yKhxS   \n",
      "4     QmdCaXncTR5XS64BdF3U5av4cQSdc9ikUPcBKAzghXYMDE   \n",
      "5     QmezEYaRALq6krgD6thubabxdrceTrRkM2xEFpJDMFzvkp   \n",
      "0     QmSNHx5ouhMNXn87BXqK5HGQdQzbTTLBjfoqU4Z9YTNCwF   \n",
      "0     QmSNHx5ouhMNXn87BXqK5HGQdQzbTTLBjfoqU4Z9YTNCwF   \n",
      "0  0x6df5f88dbe7c5c114cb9991fd93a2395c669e1608ca6...   \n",
      "0  0x6df5f88dbe7c5c114cb9991fd93a2395c669e1608ca6...   \n",
      "0  0x8de9c4cb6b6f64791227801698d6434a7555646e1b4d...   \n",
      "0  0x8de9c4cb6b6f64791227801698d6434a7555646e1b4d...   \n",
      "0  0xecc9d04f921ec63799e49d7f41a0a733140b9b3d08a0...   \n",
      "0  0xecc9d04f921ec63799e49d7f41a0a733140b9b3d08a0...   \n",
      "0  0xa14ae21524a896ba0bcc5dd83ad0546af05b7c340bfa...   \n",
      "0  0xa14ae21524a896ba0bcc5dd83ad0546af05b7c340bfa...   \n",
      "0  0x5b62fa5c20daeeca71522ad1c6aea8556f26cf850c7a...   \n",
      "0  0x5b62fa5c20daeeca71522ad1c6aea8556f26cf850c7a...   \n",
      "0  0xfd19773e0f156e3ba597324cf1d6cf14d32ef63f2b74...   \n",
      "1  0x66a006d6e1e4541879af35f5b0177179356f45f2ff11...   \n",
      "0  0xfd19773e0f156e3ba597324cf1d6cf14d32ef63f2b74...   \n",
      "1  0x66a006d6e1e4541879af35f5b0177179356f45f2ff11...   \n",
      "0  0xd927545d51375491f5d9527099084d2816b2e53289a5...   \n",
      "\n",
      "                                  votes_voter  votes_created votes_choice  \\\n",
      "0  0xdde553b4fC83EaA9802EcF7Fe35F7701bfc7cE56   1.627554e+09          1.0   \n",
      "0  0xdde553b4fC83EaA9802EcF7Fe35F7701bfc7cE56   1.627554e+09          1.0   \n",
      "0  0xdde553b4fC83EaA9802EcF7Fe35F7701bfc7cE56   1.627554e+09          1.0   \n",
      "0  0x7B2e78D4dFaABA045A167a70dA285E30E8FcA196   1.618525e+09          1.0   \n",
      "1  0xd714Dd60e22BbB1cbAFD0e40dE5Cfa7bBDD3F3C8   1.618496e+09          1.0   \n",
      "0  0x7B2e78D4dFaABA045A167a70dA285E30E8FcA196   1.618525e+09          1.0   \n",
      "1  0xd714Dd60e22BbB1cbAFD0e40dE5Cfa7bBDD3F3C8   1.618496e+09          1.0   \n",
      "0  0x7B2e78D4dFaABA045A167a70dA285E30E8FcA196   1.616704e+09          2.0   \n",
      "1  0xd714Dd60e22BbB1cbAFD0e40dE5Cfa7bBDD3F3C8   1.616685e+09          2.0   \n",
      "2  0x08Fb5797b3D751D022736F6DF6006a39c049c2C6   1.616337e+09          1.0   \n",
      "3  0x44Ba78D48D0981c765DEE84C048Cea662eAe2E8f   1.616337e+09          1.0   \n",
      "4  0xE8Ef67a6677ba943c33b6C926598072e919b0B6D   1.616103e+09          2.0   \n",
      "5  0x24F15402C6Bb870554489b2fd2049A85d75B982f   1.616035e+09          1.0   \n",
      "0  0x7B2e78D4dFaABA045A167a70dA285E30E8FcA196   1.616704e+09          2.0   \n",
      "1  0xd714Dd60e22BbB1cbAFD0e40dE5Cfa7bBDD3F3C8   1.616685e+09          2.0   \n",
      "2  0x08Fb5797b3D751D022736F6DF6006a39c049c2C6   1.616337e+09          1.0   \n",
      "3  0x44Ba78D48D0981c765DEE84C048Cea662eAe2E8f   1.616337e+09          1.0   \n",
      "4  0xE8Ef67a6677ba943c33b6C926598072e919b0B6D   1.616103e+09          2.0   \n",
      "5  0x24F15402C6Bb870554489b2fd2049A85d75B982f   1.616035e+09          1.0   \n",
      "0  0x7B2e78D4dFaABA045A167a70dA285E30E8FcA196   1.616023e+09          1.0   \n",
      "0  0x7B2e78D4dFaABA045A167a70dA285E30E8FcA196   1.616023e+09          1.0   \n",
      "0  0x5cF6e510E0C123E1e839376F8Ea1900Bb9B9A6C1   1.654154e+09          1.0   \n",
      "0  0x5cF6e510E0C123E1e839376F8Ea1900Bb9B9A6C1   1.654154e+09          1.0   \n",
      "0  0x5cF6e510E0C123E1e839376F8Ea1900Bb9B9A6C1   1.654072e+09          1.0   \n",
      "0  0x5cF6e510E0C123E1e839376F8Ea1900Bb9B9A6C1   1.654072e+09          1.0   \n",
      "0  0x5cF6e510E0C123E1e839376F8Ea1900Bb9B9A6C1   1.652003e+09          2.0   \n",
      "0  0x5cF6e510E0C123E1e839376F8Ea1900Bb9B9A6C1   1.652003e+09          2.0   \n",
      "0  0x5cF6e510E0C123E1e839376F8Ea1900Bb9B9A6C1   1.651675e+09   {'1': 100}   \n",
      "0  0x5cF6e510E0C123E1e839376F8Ea1900Bb9B9A6C1   1.651675e+09   {'1': 100}   \n",
      "0  0x5cF6e510E0C123E1e839376F8Ea1900Bb9B9A6C1   1.651584e+09            1   \n",
      "0  0x5cF6e510E0C123E1e839376F8Ea1900Bb9B9A6C1   1.651584e+09            1   \n",
      "0  0x5cF6e510E0C123E1e839376F8Ea1900Bb9B9A6C1   1.650735e+09            1   \n",
      "1  0x8A39eC10AE914CD71DE75A766D7Beb78C1286D0e   1.650735e+09            1   \n",
      "0  0x5cF6e510E0C123E1e839376F8Ea1900Bb9B9A6C1   1.650735e+09            1   \n",
      "1  0x8A39eC10AE914CD71DE75A766D7Beb78C1286D0e   1.650735e+09            1   \n",
      "0  0x5cF6e510E0C123E1e839376F8Ea1900Bb9B9A6C1   1.650859e+09            2   \n",
      "\n",
      "    votes_vp                                           Proposal  \n",
      "0   0.498913  0x077dfd4c9e16905837e54b3939f5543bc1414cbfbe41...  \n",
      "0   0.498913  0x077dfd4c9e16905837e54b3939f5543bc1414cbfbe41...  \n",
      "0   0.498913  0x077dfd4c9e16905837e54b3939f5543bc1414cbfbe41...  \n",
      "0   2.061410  0x077dfd4c9e16905837e54b3939f5543bc1414cbfbe41...  \n",
      "1   0.650362  0x077dfd4c9e16905837e54b3939f5543bc1414cbfbe41...  \n",
      "0   2.061410  0x077dfd4c9e16905837e54b3939f5543bc1414cbfbe41...  \n",
      "1   0.650362  0x077dfd4c9e16905837e54b3939f5543bc1414cbfbe41...  \n",
      "0   2.414856  0x077dfd4c9e16905837e54b3939f5543bc1414cbfbe41...  \n",
      "1   0.200417  0x077dfd4c9e16905837e54b3939f5543bc1414cbfbe41...  \n",
      "2   0.159626  0x077dfd4c9e16905837e54b3939f5543bc1414cbfbe41...  \n",
      "3   0.196898  0x077dfd4c9e16905837e54b3939f5543bc1414cbfbe41...  \n",
      "4   1.010692  0x077dfd4c9e16905837e54b3939f5543bc1414cbfbe41...  \n",
      "5   1.918624  0x077dfd4c9e16905837e54b3939f5543bc1414cbfbe41...  \n",
      "0   2.414856  0x077dfd4c9e16905837e54b3939f5543bc1414cbfbe41...  \n",
      "1   0.200417  0x077dfd4c9e16905837e54b3939f5543bc1414cbfbe41...  \n",
      "2   0.159626  0x077dfd4c9e16905837e54b3939f5543bc1414cbfbe41...  \n",
      "3   0.196898  0x077dfd4c9e16905837e54b3939f5543bc1414cbfbe41...  \n",
      "4   1.010692  0x077dfd4c9e16905837e54b3939f5543bc1414cbfbe41...  \n",
      "5   1.918624  0x077dfd4c9e16905837e54b3939f5543bc1414cbfbe41...  \n",
      "0   2.476520  0x077dfd4c9e16905837e54b3939f5543bc1414cbfbe41...  \n",
      "0   2.476520  0x077dfd4c9e16905837e54b3939f5543bc1414cbfbe41...  \n",
      "0   7.000000  0x077dfd4c9e16905837e54b3939f5543bc1414cbfbe41...  \n",
      "0   7.000000  0x077dfd4c9e16905837e54b3939f5543bc1414cbfbe41...  \n",
      "0   7.000000  0x077dfd4c9e16905837e54b3939f5543bc1414cbfbe41...  \n",
      "0   7.000000  0x077dfd4c9e16905837e54b3939f5543bc1414cbfbe41...  \n",
      "0  11.000000  0x077dfd4c9e16905837e54b3939f5543bc1414cbfbe41...  \n",
      "0  11.000000  0x077dfd4c9e16905837e54b3939f5543bc1414cbfbe41...  \n",
      "0  11.000000  0x077dfd4c9e16905837e54b3939f5543bc1414cbfbe41...  \n",
      "0  11.000000  0x077dfd4c9e16905837e54b3939f5543bc1414cbfbe41...  \n",
      "0  11.000000  0x077dfd4c9e16905837e54b3939f5543bc1414cbfbe41...  \n",
      "0  11.000000  0x077dfd4c9e16905837e54b3939f5543bc1414cbfbe41...  \n",
      "0   7.000000  0x077dfd4c9e16905837e54b3939f5543bc1414cbfbe41...  \n",
      "1   4.000000  0x077dfd4c9e16905837e54b3939f5543bc1414cbfbe41...  \n",
      "0   7.000000  0x077dfd4c9e16905837e54b3939f5543bc1414cbfbe41...  \n",
      "1   4.000000  0x077dfd4c9e16905837e54b3939f5543bc1414cbfbe41...  \n",
      "0   7.000000  0x077dfd4c9e16905837e54b3939f5543bc1414cbfbe41...  \n"
     ]
    }
   ],
   "source": [
    "voting_snapshots_list['Proposal'] = proposal_id\n",
    "print(voting_snapshots_list)"
   ],
   "metadata": {
    "collapsed": false,
    "pycharm": {
     "name": "#%%\n"
    }
   }
  },
  {
   "cell_type": "code",
   "execution_count": 37,
   "outputs": [
    {
     "ename": "SyntaxError",
     "evalue": "invalid syntax (3851967730.py, line 2)",
     "output_type": "error",
     "traceback": [
      "\u001B[1;36m  Input \u001B[1;32mIn [37]\u001B[1;36m\u001B[0m\n\u001B[1;33m    for x<=total_props:\u001B[0m\n\u001B[1;37m                      ^\u001B[0m\n\u001B[1;31mSyntaxError\u001B[0m\u001B[1;31m:\u001B[0m invalid syntax\n"
     ]
    }
   ],
   "source": [
    "proposals_choices = sg.query(proposals.choices)\n",
    "for x<=total_props:\n",
    "  voting_snapshots_list['Proposal'] = proposal_id\n",
    "proposals_choices"
   ],
   "metadata": {
    "collapsed": false,
    "pycharm": {
     "name": "#%%\n"
    }
   }
  },
  {
   "cell_type": "code",
   "execution_count": 37,
   "outputs": [],
   "source": [],
   "metadata": {
    "collapsed": false,
    "pycharm": {
     "name": "#%%\n"
    }
   }
  },
  {
   "cell_type": "code",
   "execution_count": 38,
   "outputs": [
    {
     "ename": "SyntaxError",
     "evalue": "'(' was never closed (1609945154.py, line 2)",
     "output_type": "error",
     "traceback": [
      "\u001B[1;36m  Input \u001B[1;32mIn [38]\u001B[1;36m\u001B[0m\n\u001B[1;33m    proposals_choices = pd.DataFrame(proposals_choices, columns = ['option_1', 'option_2', 'option_3', 'option_4', 'option_5','option_6','option_7','option_8','option_9','option_10','option_11','option_12','option_13','option_14','option_15','option_16','option_17','option_18','option_19','option_20','option_21','option_22','option_24','option_24','option_25]']\u001B[0m\n\u001B[1;37m                                    ^\u001B[0m\n\u001B[1;31mSyntaxError\u001B[0m\u001B[1;31m:\u001B[0m '(' was never closed\n"
     ]
    }
   ],
   "source": [
    "##placing 25 options just in case. Could be more, but I hope not\n",
    "proposals_choices = pd.DataFrame(proposals_choices, columns = ['option_1', 'option_2', 'option_3', 'option_4', 'option_5','option_6','option_7','option_8','option_9','option_10','option_11','option_12','option_13','option_14','option_15','option_16','option_17','option_18','option_19','option_20','option_21','option_22','option_24','option_24','option_25]']"
   ],
   "metadata": {
    "collapsed": false,
    "pycharm": {
     "name": "#%%\n"
    }
   }
  },
  {
   "cell_type": "markdown",
   "source": [
    "Let's pull the choices each voter made. As always, I prime the pump with a single pull, then append more records/"
   ],
   "metadata": {
    "collapsed": false,
    "pycharm": {
     "name": "#%% md\n"
    }
   }
  },
  {
   "cell_type": "code",
   "execution_count": 61,
   "outputs": [
    {
     "data": {
      "text/plain": "                                            votes_id  \\\n0  0x6df5f88dbe7c5c114cb9991fd93a2395c669e1608ca6...   \n\n                                  votes_voter  votes_created  votes_choice  \\\n0  0x5cF6e510E0C123E1e839376F8Ea1900Bb9B9A6C1     1654154075             1   \n\n   votes_vp  \n0         7  ",
      "text/html": "<div>\n<style scoped>\n    .dataframe tbody tr th:only-of-type {\n        vertical-align: middle;\n    }\n\n    .dataframe tbody tr th {\n        vertical-align: top;\n    }\n\n    .dataframe thead th {\n        text-align: right;\n    }\n</style>\n<table border=\"1\" class=\"dataframe\">\n  <thead>\n    <tr style=\"text-align: right;\">\n      <th></th>\n      <th>votes_id</th>\n      <th>votes_voter</th>\n      <th>votes_created</th>\n      <th>votes_choice</th>\n      <th>votes_vp</th>\n    </tr>\n  </thead>\n  <tbody>\n    <tr>\n      <th>0</th>\n      <td>0x6df5f88dbe7c5c114cb9991fd93a2395c669e1608ca6...</td>\n      <td>0x5cF6e510E0C123E1e839376F8Ea1900Bb9B9A6C1</td>\n      <td>1654154075</td>\n      <td>1</td>\n      <td>7</td>\n    </tr>\n  </tbody>\n</table>\n</div>"
     },
     "execution_count": 61,
     "metadata": {},
     "output_type": "execute_result"
    }
   ],
   "source": [
    "proposal_id = proposals_snapshots.iloc[1,2]\n",
    "voting_snapshots_list = sg.query_df([\n",
    "  vote_tracker.id,\n",
    "  vote_tracker.voter,\n",
    "  vote_tracker.created,\n",
    "  vote_tracker.choice,\n",
    "  vote_tracker.vp\n",
    "])\n",
    "voting_snapshots_list"
   ],
   "metadata": {
    "collapsed": false,
    "pycharm": {
     "name": "#%%\n"
    }
   }
  },
  {
   "cell_type": "code",
   "execution_count": 62,
   "outputs": [
    {
     "name": "stdout",
     "output_type": "stream",
     "text": [
      "                                            votes_id  \\\n",
      "0  0x6df5f88dbe7c5c114cb9991fd93a2395c669e1608ca6...   \n",
      "\n",
      "                                  votes_voter  votes_created  votes_choice  \\\n",
      "0  0x5cF6e510E0C123E1e839376F8Ea1900Bb9B9A6C1     1654154075             1   \n",
      "\n",
      "   votes_vp                                        Proposal  \n",
      "0         7  QmZwnht7pRE2xGnUoQMU37eoNV8eEnobrejPZwDzdpBjaY  \n"
     ]
    }
   ],
   "source": [
    "voting_snapshots_list['Proposal'] = proposal_id\n",
    "print(voting_snapshots_list)"
   ],
   "metadata": {
    "collapsed": false,
    "pycharm": {
     "name": "#%%\n"
    }
   }
  },
  {
   "cell_type": "code",
   "execution_count": 63,
   "outputs": [
    {
     "name": "stdout",
     "output_type": "stream",
     "text": [
      "10 0x5084fa5a12140a987cafe66558e29a0b4923d234978f5b183c39a9ee07ccfc94\n",
      "20 0x18ed8c70621f6740c1f9775a55070a6346e5c991884deef75f49c614b62cc84d\n",
      "30 0xada54df6c07216c894e7df55969799054334e32c997b7b9565be62084f0ad366\n",
      "40 0xd3025ca0b81f6a390f0955d109f4d1cae3df44d7a9eb956bbbc6cd7ce80891d0\n",
      "50 0xfd06a5d0eb8d2b50ca98280cebd30785b4435def91c696c86ef6d987095cf918\n"
     ]
    }
   ],
   "source": [
    "n=2\n",
    "total_props = (len(proposals_snapshots))-1\n",
    "while n<=50: ##total_props:\n",
    "  proposal_id = proposals_snapshots.iloc[n,2]\n",
    "  if n%10 == 0: print (n,proposal_id)\n",
    "  n=n+1\n",
    "  vote_tracker = snapshot.Query.votes(\n",
    "  orderBy = 'created',\n",
    "  orderDirection='desc',\n",
    "  first=10000,\n",
    "  where=[\n",
    "    snapshot.Vote.proposal == proposal_id\n",
    "  ])\n",
    "  voting_snapshots_list2 = sg.query_df([\n",
    "    vote_tracker.id,\n",
    "    vote_tracker.voter,\n",
    "    vote_tracker.created,\n",
    "    vote_tracker.choice,\n",
    "    vote_tracker.vp\n",
    "  ])\n",
    "  voting_snapshots_list2['Proposal'] = proposal_id\n",
    "  voting_snapshots_list = pd.concat([voting_snapshots_list,voting_snapshots_list2])"
   ],
   "metadata": {
    "collapsed": false,
    "pycharm": {
     "name": "#%%\n"
    }
   }
  },
  {
   "cell_type": "code",
   "execution_count": 64,
   "outputs": [
    {
     "data": {
      "text/plain": "                                            votes_id  \\\n0  0x6df5f88dbe7c5c114cb9991fd93a2395c669e1608ca6...   \n0     QmcZ8TpRkGpjfNDgta7YND3HBHbVJ4TwJN42kANstSQiKQ   \n1     QmUqNwHL9aFG1tgdkBytg3X9JTRLnSoYLnDSdNGeQMUfcY   \n0     QmQHbreEmbhDsDrRDP8cV5r8Lim3m2iu7iUNT6wjAWR1V1   \n1     QmV8Dg5jyYJfv2RuqW6WwMX5BC1MmWTUWnf6Lh4e2bdihj   \n2     QmXxQA5fLUnxQbvCaQX1F7RYp12BpkP8MgKPoK2GdYteqU   \n3     QmYGGETLKWCAEs3U63H77n2MKyxM2r3xMmaSRzQa9yKhxS   \n4     QmdCaXncTR5XS64BdF3U5av4cQSdc9ikUPcBKAzghXYMDE   \n5     QmezEYaRALq6krgD6thubabxdrceTrRkM2xEFpJDMFzvkp   \n0     QmSNHx5ouhMNXn87BXqK5HGQdQzbTTLBjfoqU4Z9YTNCwF   \n0  0x6df5f88dbe7c5c114cb9991fd93a2395c669e1608ca6...   \n0  0x8de9c4cb6b6f64791227801698d6434a7555646e1b4d...   \n0  0xecc9d04f921ec63799e49d7f41a0a733140b9b3d08a0...   \n0  0xa14ae21524a896ba0bcc5dd83ad0546af05b7c340bfa...   \n0  0x5b62fa5c20daeeca71522ad1c6aea8556f26cf850c7a...   \n0  0xfd19773e0f156e3ba597324cf1d6cf14d32ef63f2b74...   \n1  0x66a006d6e1e4541879af35f5b0177179356f45f2ff11...   \n0  0xd927545d51375491f5d9527099084d2816b2e53289a5...   \n0  0x3e4e686d5e5ae85085c39f8d1106c339e767bea7e6c4...   \n0  0x6df5f88dbe7c5c114cb9991fd93a2395c669e1608ca6...   \n0  0x8de9c4cb6b6f64791227801698d6434a7555646e1b4d...   \n0  0xecc9d04f921ec63799e49d7f41a0a733140b9b3d08a0...   \n0  0xa14ae21524a896ba0bcc5dd83ad0546af05b7c340bfa...   \n0  0x5b62fa5c20daeeca71522ad1c6aea8556f26cf850c7a...   \n0  0xfd19773e0f156e3ba597324cf1d6cf14d32ef63f2b74...   \n1  0x66a006d6e1e4541879af35f5b0177179356f45f2ff11...   \n0  0xd927545d51375491f5d9527099084d2816b2e53289a5...   \n0  0x3e4e686d5e5ae85085c39f8d1106c339e767bea7e6c4...   \n0  0x6df5f88dbe7c5c114cb9991fd93a2395c669e1608ca6...   \n\n                                  votes_voter  votes_created votes_choice  \\\n0  0x5cF6e510E0C123E1e839376F8Ea1900Bb9B9A6C1   1.654154e+09          1.0   \n0  0x7B2e78D4dFaABA045A167a70dA285E30E8FcA196   1.618525e+09          1.0   \n1  0xd714Dd60e22BbB1cbAFD0e40dE5Cfa7bBDD3F3C8   1.618496e+09          1.0   \n0  0x7B2e78D4dFaABA045A167a70dA285E30E8FcA196   1.616704e+09          2.0   \n1  0xd714Dd60e22BbB1cbAFD0e40dE5Cfa7bBDD3F3C8   1.616685e+09          2.0   \n2  0x08Fb5797b3D751D022736F6DF6006a39c049c2C6   1.616337e+09          1.0   \n3  0x44Ba78D48D0981c765DEE84C048Cea662eAe2E8f   1.616337e+09          1.0   \n4  0xE8Ef67a6677ba943c33b6C926598072e919b0B6D   1.616103e+09          2.0   \n5  0x24F15402C6Bb870554489b2fd2049A85d75B982f   1.616035e+09          1.0   \n0  0x7B2e78D4dFaABA045A167a70dA285E30E8FcA196   1.616023e+09          1.0   \n0  0x5cF6e510E0C123E1e839376F8Ea1900Bb9B9A6C1   1.654154e+09          1.0   \n0  0x5cF6e510E0C123E1e839376F8Ea1900Bb9B9A6C1   1.654072e+09          1.0   \n0  0x5cF6e510E0C123E1e839376F8Ea1900Bb9B9A6C1   1.652003e+09          2.0   \n0  0x5cF6e510E0C123E1e839376F8Ea1900Bb9B9A6C1   1.651675e+09   {'1': 100}   \n0  0x5cF6e510E0C123E1e839376F8Ea1900Bb9B9A6C1   1.651584e+09            1   \n0  0x5cF6e510E0C123E1e839376F8Ea1900Bb9B9A6C1   1.650735e+09            1   \n1  0x8A39eC10AE914CD71DE75A766D7Beb78C1286D0e   1.650735e+09            1   \n0  0x5cF6e510E0C123E1e839376F8Ea1900Bb9B9A6C1   1.650859e+09            2   \n0  0x5cF6e510E0C123E1e839376F8Ea1900Bb9B9A6C1   1.650733e+09            1   \n0  0x5cF6e510E0C123E1e839376F8Ea1900Bb9B9A6C1   1.654154e+09            1   \n0  0x5cF6e510E0C123E1e839376F8Ea1900Bb9B9A6C1   1.654072e+09            1   \n0  0x5cF6e510E0C123E1e839376F8Ea1900Bb9B9A6C1   1.652003e+09            2   \n0  0x5cF6e510E0C123E1e839376F8Ea1900Bb9B9A6C1   1.651675e+09   {'1': 100}   \n0  0x5cF6e510E0C123E1e839376F8Ea1900Bb9B9A6C1   1.651584e+09            1   \n0  0x5cF6e510E0C123E1e839376F8Ea1900Bb9B9A6C1   1.650735e+09            1   \n1  0x8A39eC10AE914CD71DE75A766D7Beb78C1286D0e   1.650735e+09            1   \n0  0x5cF6e510E0C123E1e839376F8Ea1900Bb9B9A6C1   1.650859e+09            2   \n0  0x5cF6e510E0C123E1e839376F8Ea1900Bb9B9A6C1   1.650733e+09            1   \n0  0x5cF6e510E0C123E1e839376F8Ea1900Bb9B9A6C1   1.654154e+09            1   \n\n    votes_vp                                           Proposal  \n0   7.000000     QmZwnht7pRE2xGnUoQMU37eoNV8eEnobrejPZwDzdpBjaY  \n0   2.061410     QmWwo3TkBtUybd7wcwix6yuGtApR427FBCxiSGJNwowDoN  \n1   0.650362     QmWwo3TkBtUybd7wcwix6yuGtApR427FBCxiSGJNwowDoN  \n0   2.414856     QmZQkuw2DFuut5FdYrDji2fKoHW3rWbQd9TbcWgDSufoHa  \n1   0.200417     QmZQkuw2DFuut5FdYrDji2fKoHW3rWbQd9TbcWgDSufoHa  \n2   0.159626     QmZQkuw2DFuut5FdYrDji2fKoHW3rWbQd9TbcWgDSufoHa  \n3   0.196898     QmZQkuw2DFuut5FdYrDji2fKoHW3rWbQd9TbcWgDSufoHa  \n4   1.010692     QmZQkuw2DFuut5FdYrDji2fKoHW3rWbQd9TbcWgDSufoHa  \n5   1.918624     QmZQkuw2DFuut5FdYrDji2fKoHW3rWbQd9TbcWgDSufoHa  \n0   2.476520     QmV7WfE1vxPdwNYoom57zTRBVB38hWRPCZJgXEgD2zxK65  \n0   7.000000  0xfd06a5d0eb8d2b50ca98280cebd30785b4435def91c6...  \n0   7.000000  0xada54df6c07216c894e7df55969799054334e32c997b...  \n0  11.000000  0xa545ecad22c851dc330da435e14944010545c9dfc82e...  \n0  11.000000  0x1a8ddef788546498e1ac24349419a120f3b30aa682ee...  \n0  11.000000  0x5b02a7559388f6442f39fc6c8340cfb327161c4c83eb...  \n0   7.000000  0x6a17f472c1f1679e64ace47ef5ef6cc9d13f91c8886a...  \n1   4.000000  0x6a17f472c1f1679e64ace47ef5ef6cc9d13f91c8886a...  \n0   7.000000  0x077dfd4c9e16905837e54b3939f5543bc1414cbfbe41...  \n0   7.000000  0x4675e59a92310e1523690b07e67e7febb9d3e96c4bc4...  \n0   7.000000  0xfd06a5d0eb8d2b50ca98280cebd30785b4435def91c6...  \n0   7.000000  0xada54df6c07216c894e7df55969799054334e32c997b...  \n0  11.000000  0xa545ecad22c851dc330da435e14944010545c9dfc82e...  \n0  11.000000  0x1a8ddef788546498e1ac24349419a120f3b30aa682ee...  \n0  11.000000  0x5b02a7559388f6442f39fc6c8340cfb327161c4c83eb...  \n0   7.000000  0x6a17f472c1f1679e64ace47ef5ef6cc9d13f91c8886a...  \n1   4.000000  0x6a17f472c1f1679e64ace47ef5ef6cc9d13f91c8886a...  \n0   7.000000  0x077dfd4c9e16905837e54b3939f5543bc1414cbfbe41...  \n0   7.000000  0x4675e59a92310e1523690b07e67e7febb9d3e96c4bc4...  \n0   7.000000  0xfd06a5d0eb8d2b50ca98280cebd30785b4435def91c6...  ",
      "text/html": "<div>\n<style scoped>\n    .dataframe tbody tr th:only-of-type {\n        vertical-align: middle;\n    }\n\n    .dataframe tbody tr th {\n        vertical-align: top;\n    }\n\n    .dataframe thead th {\n        text-align: right;\n    }\n</style>\n<table border=\"1\" class=\"dataframe\">\n  <thead>\n    <tr style=\"text-align: right;\">\n      <th></th>\n      <th>votes_id</th>\n      <th>votes_voter</th>\n      <th>votes_created</th>\n      <th>votes_choice</th>\n      <th>votes_vp</th>\n      <th>Proposal</th>\n    </tr>\n  </thead>\n  <tbody>\n    <tr>\n      <th>0</th>\n      <td>0x6df5f88dbe7c5c114cb9991fd93a2395c669e1608ca6...</td>\n      <td>0x5cF6e510E0C123E1e839376F8Ea1900Bb9B9A6C1</td>\n      <td>1.654154e+09</td>\n      <td>1.0</td>\n      <td>7.000000</td>\n      <td>QmZwnht7pRE2xGnUoQMU37eoNV8eEnobrejPZwDzdpBjaY</td>\n    </tr>\n    <tr>\n      <th>0</th>\n      <td>QmcZ8TpRkGpjfNDgta7YND3HBHbVJ4TwJN42kANstSQiKQ</td>\n      <td>0x7B2e78D4dFaABA045A167a70dA285E30E8FcA196</td>\n      <td>1.618525e+09</td>\n      <td>1.0</td>\n      <td>2.061410</td>\n      <td>QmWwo3TkBtUybd7wcwix6yuGtApR427FBCxiSGJNwowDoN</td>\n    </tr>\n    <tr>\n      <th>1</th>\n      <td>QmUqNwHL9aFG1tgdkBytg3X9JTRLnSoYLnDSdNGeQMUfcY</td>\n      <td>0xd714Dd60e22BbB1cbAFD0e40dE5Cfa7bBDD3F3C8</td>\n      <td>1.618496e+09</td>\n      <td>1.0</td>\n      <td>0.650362</td>\n      <td>QmWwo3TkBtUybd7wcwix6yuGtApR427FBCxiSGJNwowDoN</td>\n    </tr>\n    <tr>\n      <th>0</th>\n      <td>QmQHbreEmbhDsDrRDP8cV5r8Lim3m2iu7iUNT6wjAWR1V1</td>\n      <td>0x7B2e78D4dFaABA045A167a70dA285E30E8FcA196</td>\n      <td>1.616704e+09</td>\n      <td>2.0</td>\n      <td>2.414856</td>\n      <td>QmZQkuw2DFuut5FdYrDji2fKoHW3rWbQd9TbcWgDSufoHa</td>\n    </tr>\n    <tr>\n      <th>1</th>\n      <td>QmV8Dg5jyYJfv2RuqW6WwMX5BC1MmWTUWnf6Lh4e2bdihj</td>\n      <td>0xd714Dd60e22BbB1cbAFD0e40dE5Cfa7bBDD3F3C8</td>\n      <td>1.616685e+09</td>\n      <td>2.0</td>\n      <td>0.200417</td>\n      <td>QmZQkuw2DFuut5FdYrDji2fKoHW3rWbQd9TbcWgDSufoHa</td>\n    </tr>\n    <tr>\n      <th>2</th>\n      <td>QmXxQA5fLUnxQbvCaQX1F7RYp12BpkP8MgKPoK2GdYteqU</td>\n      <td>0x08Fb5797b3D751D022736F6DF6006a39c049c2C6</td>\n      <td>1.616337e+09</td>\n      <td>1.0</td>\n      <td>0.159626</td>\n      <td>QmZQkuw2DFuut5FdYrDji2fKoHW3rWbQd9TbcWgDSufoHa</td>\n    </tr>\n    <tr>\n      <th>3</th>\n      <td>QmYGGETLKWCAEs3U63H77n2MKyxM2r3xMmaSRzQa9yKhxS</td>\n      <td>0x44Ba78D48D0981c765DEE84C048Cea662eAe2E8f</td>\n      <td>1.616337e+09</td>\n      <td>1.0</td>\n      <td>0.196898</td>\n      <td>QmZQkuw2DFuut5FdYrDji2fKoHW3rWbQd9TbcWgDSufoHa</td>\n    </tr>\n    <tr>\n      <th>4</th>\n      <td>QmdCaXncTR5XS64BdF3U5av4cQSdc9ikUPcBKAzghXYMDE</td>\n      <td>0xE8Ef67a6677ba943c33b6C926598072e919b0B6D</td>\n      <td>1.616103e+09</td>\n      <td>2.0</td>\n      <td>1.010692</td>\n      <td>QmZQkuw2DFuut5FdYrDji2fKoHW3rWbQd9TbcWgDSufoHa</td>\n    </tr>\n    <tr>\n      <th>5</th>\n      <td>QmezEYaRALq6krgD6thubabxdrceTrRkM2xEFpJDMFzvkp</td>\n      <td>0x24F15402C6Bb870554489b2fd2049A85d75B982f</td>\n      <td>1.616035e+09</td>\n      <td>1.0</td>\n      <td>1.918624</td>\n      <td>QmZQkuw2DFuut5FdYrDji2fKoHW3rWbQd9TbcWgDSufoHa</td>\n    </tr>\n    <tr>\n      <th>0</th>\n      <td>QmSNHx5ouhMNXn87BXqK5HGQdQzbTTLBjfoqU4Z9YTNCwF</td>\n      <td>0x7B2e78D4dFaABA045A167a70dA285E30E8FcA196</td>\n      <td>1.616023e+09</td>\n      <td>1.0</td>\n      <td>2.476520</td>\n      <td>QmV7WfE1vxPdwNYoom57zTRBVB38hWRPCZJgXEgD2zxK65</td>\n    </tr>\n    <tr>\n      <th>0</th>\n      <td>0x6df5f88dbe7c5c114cb9991fd93a2395c669e1608ca6...</td>\n      <td>0x5cF6e510E0C123E1e839376F8Ea1900Bb9B9A6C1</td>\n      <td>1.654154e+09</td>\n      <td>1.0</td>\n      <td>7.000000</td>\n      <td>0xfd06a5d0eb8d2b50ca98280cebd30785b4435def91c6...</td>\n    </tr>\n    <tr>\n      <th>0</th>\n      <td>0x8de9c4cb6b6f64791227801698d6434a7555646e1b4d...</td>\n      <td>0x5cF6e510E0C123E1e839376F8Ea1900Bb9B9A6C1</td>\n      <td>1.654072e+09</td>\n      <td>1.0</td>\n      <td>7.000000</td>\n      <td>0xada54df6c07216c894e7df55969799054334e32c997b...</td>\n    </tr>\n    <tr>\n      <th>0</th>\n      <td>0xecc9d04f921ec63799e49d7f41a0a733140b9b3d08a0...</td>\n      <td>0x5cF6e510E0C123E1e839376F8Ea1900Bb9B9A6C1</td>\n      <td>1.652003e+09</td>\n      <td>2.0</td>\n      <td>11.000000</td>\n      <td>0xa545ecad22c851dc330da435e14944010545c9dfc82e...</td>\n    </tr>\n    <tr>\n      <th>0</th>\n      <td>0xa14ae21524a896ba0bcc5dd83ad0546af05b7c340bfa...</td>\n      <td>0x5cF6e510E0C123E1e839376F8Ea1900Bb9B9A6C1</td>\n      <td>1.651675e+09</td>\n      <td>{'1': 100}</td>\n      <td>11.000000</td>\n      <td>0x1a8ddef788546498e1ac24349419a120f3b30aa682ee...</td>\n    </tr>\n    <tr>\n      <th>0</th>\n      <td>0x5b62fa5c20daeeca71522ad1c6aea8556f26cf850c7a...</td>\n      <td>0x5cF6e510E0C123E1e839376F8Ea1900Bb9B9A6C1</td>\n      <td>1.651584e+09</td>\n      <td>1</td>\n      <td>11.000000</td>\n      <td>0x5b02a7559388f6442f39fc6c8340cfb327161c4c83eb...</td>\n    </tr>\n    <tr>\n      <th>0</th>\n      <td>0xfd19773e0f156e3ba597324cf1d6cf14d32ef63f2b74...</td>\n      <td>0x5cF6e510E0C123E1e839376F8Ea1900Bb9B9A6C1</td>\n      <td>1.650735e+09</td>\n      <td>1</td>\n      <td>7.000000</td>\n      <td>0x6a17f472c1f1679e64ace47ef5ef6cc9d13f91c8886a...</td>\n    </tr>\n    <tr>\n      <th>1</th>\n      <td>0x66a006d6e1e4541879af35f5b0177179356f45f2ff11...</td>\n      <td>0x8A39eC10AE914CD71DE75A766D7Beb78C1286D0e</td>\n      <td>1.650735e+09</td>\n      <td>1</td>\n      <td>4.000000</td>\n      <td>0x6a17f472c1f1679e64ace47ef5ef6cc9d13f91c8886a...</td>\n    </tr>\n    <tr>\n      <th>0</th>\n      <td>0xd927545d51375491f5d9527099084d2816b2e53289a5...</td>\n      <td>0x5cF6e510E0C123E1e839376F8Ea1900Bb9B9A6C1</td>\n      <td>1.650859e+09</td>\n      <td>2</td>\n      <td>7.000000</td>\n      <td>0x077dfd4c9e16905837e54b3939f5543bc1414cbfbe41...</td>\n    </tr>\n    <tr>\n      <th>0</th>\n      <td>0x3e4e686d5e5ae85085c39f8d1106c339e767bea7e6c4...</td>\n      <td>0x5cF6e510E0C123E1e839376F8Ea1900Bb9B9A6C1</td>\n      <td>1.650733e+09</td>\n      <td>1</td>\n      <td>7.000000</td>\n      <td>0x4675e59a92310e1523690b07e67e7febb9d3e96c4bc4...</td>\n    </tr>\n    <tr>\n      <th>0</th>\n      <td>0x6df5f88dbe7c5c114cb9991fd93a2395c669e1608ca6...</td>\n      <td>0x5cF6e510E0C123E1e839376F8Ea1900Bb9B9A6C1</td>\n      <td>1.654154e+09</td>\n      <td>1</td>\n      <td>7.000000</td>\n      <td>0xfd06a5d0eb8d2b50ca98280cebd30785b4435def91c6...</td>\n    </tr>\n    <tr>\n      <th>0</th>\n      <td>0x8de9c4cb6b6f64791227801698d6434a7555646e1b4d...</td>\n      <td>0x5cF6e510E0C123E1e839376F8Ea1900Bb9B9A6C1</td>\n      <td>1.654072e+09</td>\n      <td>1</td>\n      <td>7.000000</td>\n      <td>0xada54df6c07216c894e7df55969799054334e32c997b...</td>\n    </tr>\n    <tr>\n      <th>0</th>\n      <td>0xecc9d04f921ec63799e49d7f41a0a733140b9b3d08a0...</td>\n      <td>0x5cF6e510E0C123E1e839376F8Ea1900Bb9B9A6C1</td>\n      <td>1.652003e+09</td>\n      <td>2</td>\n      <td>11.000000</td>\n      <td>0xa545ecad22c851dc330da435e14944010545c9dfc82e...</td>\n    </tr>\n    <tr>\n      <th>0</th>\n      <td>0xa14ae21524a896ba0bcc5dd83ad0546af05b7c340bfa...</td>\n      <td>0x5cF6e510E0C123E1e839376F8Ea1900Bb9B9A6C1</td>\n      <td>1.651675e+09</td>\n      <td>{'1': 100}</td>\n      <td>11.000000</td>\n      <td>0x1a8ddef788546498e1ac24349419a120f3b30aa682ee...</td>\n    </tr>\n    <tr>\n      <th>0</th>\n      <td>0x5b62fa5c20daeeca71522ad1c6aea8556f26cf850c7a...</td>\n      <td>0x5cF6e510E0C123E1e839376F8Ea1900Bb9B9A6C1</td>\n      <td>1.651584e+09</td>\n      <td>1</td>\n      <td>11.000000</td>\n      <td>0x5b02a7559388f6442f39fc6c8340cfb327161c4c83eb...</td>\n    </tr>\n    <tr>\n      <th>0</th>\n      <td>0xfd19773e0f156e3ba597324cf1d6cf14d32ef63f2b74...</td>\n      <td>0x5cF6e510E0C123E1e839376F8Ea1900Bb9B9A6C1</td>\n      <td>1.650735e+09</td>\n      <td>1</td>\n      <td>7.000000</td>\n      <td>0x6a17f472c1f1679e64ace47ef5ef6cc9d13f91c8886a...</td>\n    </tr>\n    <tr>\n      <th>1</th>\n      <td>0x66a006d6e1e4541879af35f5b0177179356f45f2ff11...</td>\n      <td>0x8A39eC10AE914CD71DE75A766D7Beb78C1286D0e</td>\n      <td>1.650735e+09</td>\n      <td>1</td>\n      <td>4.000000</td>\n      <td>0x6a17f472c1f1679e64ace47ef5ef6cc9d13f91c8886a...</td>\n    </tr>\n    <tr>\n      <th>0</th>\n      <td>0xd927545d51375491f5d9527099084d2816b2e53289a5...</td>\n      <td>0x5cF6e510E0C123E1e839376F8Ea1900Bb9B9A6C1</td>\n      <td>1.650859e+09</td>\n      <td>2</td>\n      <td>7.000000</td>\n      <td>0x077dfd4c9e16905837e54b3939f5543bc1414cbfbe41...</td>\n    </tr>\n    <tr>\n      <th>0</th>\n      <td>0x3e4e686d5e5ae85085c39f8d1106c339e767bea7e6c4...</td>\n      <td>0x5cF6e510E0C123E1e839376F8Ea1900Bb9B9A6C1</td>\n      <td>1.650733e+09</td>\n      <td>1</td>\n      <td>7.000000</td>\n      <td>0x4675e59a92310e1523690b07e67e7febb9d3e96c4bc4...</td>\n    </tr>\n    <tr>\n      <th>0</th>\n      <td>0x6df5f88dbe7c5c114cb9991fd93a2395c669e1608ca6...</td>\n      <td>0x5cF6e510E0C123E1e839376F8Ea1900Bb9B9A6C1</td>\n      <td>1.654154e+09</td>\n      <td>1</td>\n      <td>7.000000</td>\n      <td>0xfd06a5d0eb8d2b50ca98280cebd30785b4435def91c6...</td>\n    </tr>\n  </tbody>\n</table>\n</div>"
     },
     "execution_count": 64,
     "metadata": {},
     "output_type": "execute_result"
    }
   ],
   "source": [
    "voting_snapshots_list"
   ],
   "metadata": {
    "collapsed": false,
    "pycharm": {
     "name": "#%%\n"
    }
   }
  },
  {
   "cell_type": "code",
   "execution_count": 60,
   "outputs": [],
   "source": [
    "##spit out the file!\n",
    "file = input('Selet a folder') ##enter your file path here - the file is in the repo \"summary_stats.csv\".\n",
    "path = '/Users/ianbrillembourg/PycharmProjects/snapshot_governance/votes_table_'+str(date.today().strftime(\"%b-%d-%Y\"))+'_'+str(len(voting_snapshots_list))+'_proposals.csv'\n",
    "voting_snapshots_list.to_csv(path, index = False)"
   ],
   "metadata": {
    "collapsed": false,
    "pycharm": {
     "name": "#%%\n"
    }
   }
  },
  {
   "cell_type": "markdown",
   "source": [
    "And finally, the body of each election's choices. Not critical but useful to have."
   ],
   "metadata": {
    "collapsed": false,
    "pycharm": {
     "name": "#%% md\n"
    }
   }
  },
  {
   "cell_type": "code",
   "execution_count": null,
   "outputs": [],
   "source": [
    "voting_snapshots_list['Proposal'] = proposal_id\n",
    "print(voting_snapshots_list)"
   ],
   "metadata": {
    "collapsed": false,
    "pycharm": {
     "name": "#%%\n"
    }
   }
  },
  {
   "cell_type": "code",
   "execution_count": null,
   "outputs": [],
   "source": [
    "proposals_choices = sg.query(proposals.choices)\n",
    "for x<=total_props:\n",
    "  voting_snapshots_list['Proposal'] = proposal_id\n",
    "proposals_choices"
   ],
   "metadata": {
    "collapsed": false,
    "pycharm": {
     "name": "#%%\n"
    }
   }
  },
  {
   "cell_type": "code",
   "execution_count": 14,
   "outputs": [
    {
     "ename": "NameError",
     "evalue": "name 'proposals_choices' is not defined",
     "output_type": "error",
     "traceback": [
      "\u001B[0;31m---------------------------------------------------------------------------\u001B[0m",
      "\u001B[0;31mNameError\u001B[0m                                 Traceback (most recent call last)",
      "Input \u001B[0;32mIn [14]\u001B[0m, in \u001B[0;36m<cell line: 1>\u001B[0;34m()\u001B[0m\n\u001B[0;32m----> 1\u001B[0m \u001B[43mproposals_choices\u001B[49m\n",
      "\u001B[0;31mNameError\u001B[0m: name 'proposals_choices' is not defined"
     ]
    }
   ],
   "source": [],
   "metadata": {
    "collapsed": false,
    "pycharm": {
     "name": "#%%\n"
    }
   }
  },
  {
   "cell_type": "code",
   "execution_count": 32,
   "outputs": [
    {
     "ename": "SyntaxError",
     "evalue": "incomplete input (1609945154.py, line 2)",
     "output_type": "error",
     "traceback": [
      "\u001B[0;36m  Input \u001B[0;32mIn [32]\u001B[0;36m\u001B[0m\n\u001B[0;31m    proposals_choices = pd.DataFrame(proposals_choices, columns = ['option_1', 'option_2', 'option_3', 'option_4', 'option_5','option_6','option_7','option_8','option_9','option_10','option_11','option_12','option_13','option_14','option_15','option_16','option_17','option_18','option_19','option_20','option_21','option_22','option_24','option_24','option_25]']\u001B[0m\n\u001B[0m                                                                                                                                                                                                                                                                                                                                                                           ^\u001B[0m\n\u001B[0;31mSyntaxError\u001B[0m\u001B[0;31m:\u001B[0m incomplete input\n"
     ]
    }
   ],
   "source": [
    "##placing 25 options just in case. Could be more, but I hope not\n",
    "proposals_choices = pd.DataFrame(proposals_choices, columns = ['option_1', 'option_2', 'option_3', 'option_4', 'option_5','option_6','option_7','option_8','option_9','option_10','option_11','option_12','option_13','option_14','option_15','option_16','option_17','option_18','option_19','option_20','option_21','option_22','option_24','option_24','option_25]']"
   ],
   "metadata": {
    "collapsed": false,
    "pycharm": {
     "name": "#%%\n"
    }
   }
  },
  {
   "cell_type": "code",
   "execution_count": null,
   "outputs": [],
   "source": [
    "dao_governance_view = pd.concat([proposals_snapshots,proposals_choices], axis=1)"
   ],
   "metadata": {
    "collapsed": false,
    "pycharm": {
     "name": "#%%\n"
    }
   }
  },
  {
   "cell_type": "code",
   "execution_count": null,
   "outputs": [],
   "source": [
    "dao_governance_view"
   ],
   "metadata": {
    "collapsed": false,
    "pycharm": {
     "name": "#%%\n"
    }
   }
  },
  {
   "cell_type": "code",
   "execution_count": null,
   "outputs": [],
   "source": [],
   "metadata": {
    "collapsed": false,
    "pycharm": {
     "name": "#%%\n"
    }
   }
  }
 ],
 "metadata": {
  "kernelspec": {
   "display_name": "Python 3",
   "language": "python",
   "name": "python3"
  },
  "language_info": {
   "codemirror_mode": {
    "name": "ipython",
    "version": 2
   },
   "file_extension": ".py",
   "mimetype": "text/x-python",
   "name": "python",
   "nbconvert_exporter": "python",
   "pygments_lexer": "ipython2",
   "version": "2.7.6"
  }
 },
 "nbformat": 4,
 "nbformat_minor": 0
}