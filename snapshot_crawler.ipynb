{
 "cells": [
  {
   "cell_type": "code",
   "execution_count": 102,
   "outputs": [],
   "source": [
    "from datetime import datetime\n",
    "from datetime import date\n",
    "from subgrounds.subgraph import SyntheticField, FieldPath\n",
    "from subgrounds.subgrounds import Subgrounds\n",
    "import math\n",
    "import pandas as pd"
   ],
   "metadata": {
    "collapsed": false,
    "pycharm": {
     "name": "#%%\n"
    }
   }
  },
  {
   "cell_type": "code",
   "execution_count": 103,
   "outputs": [],
   "source": [
    "sg = Subgrounds()\n",
    "snapshot = sg.load_api('https://hub.snapshot.org/graphql')"
   ],
   "metadata": {
    "collapsed": false,
    "pycharm": {
     "name": "#%%\n"
    }
   }
  },
  {
   "cell_type": "markdown",
   "source": [
    "Get the list of spaces. We don't know how many spaces we have, so we have to cycle and only stop when the list is not filled with 1000 rows"
   ],
   "metadata": {
    "collapsed": false,
    "pycharm": {
     "name": "#%% md\n"
    }
   }
  },
  {
   "cell_type": "code",
   "execution_count": 89,
   "outputs": [],
   "source": [
    "spaces=[]\n",
    "spaces = snapshot.Query.spaces(\n",
    "  orderBy='created',\n",
    "  orderDirection='asc',\n",
    "  first=1000,\n",
    ")\n",
    "spaces_list = sg.query_df([\n",
    "    spaces.id\n",
    "    ]\n",
    "  )\n"
   ],
   "metadata": {
    "collapsed": false,
    "pycharm": {
     "name": "#%%\n"
    }
   }
  },
  {
   "cell_type": "code",
   "execution_count": 90,
   "outputs": [
    {
     "name": "stdout",
     "output_type": "stream",
     "text": [
      "3 1000\n",
      "4 1000\n",
      "5 1000\n",
      "6 1000\n",
      "7 1000\n",
      "8 1000\n",
      "9 1000\n",
      "10 17\n"
     ]
    }
   ],
   "source": [
    "spaces2 = []\n",
    "n=0\n",
    "t=2\n",
    "while n<1:\n",
    "  spaces2 = snapshot.Query.spaces(\n",
    "    orderBy='created',\n",
    "    orderDirection='asc',\n",
    "    first=1000,\n",
    "    skip = 1000*t\n",
    "  )\n",
    "  spaces_list2 = sg.query_df([\n",
    "    spaces2.id\n",
    "    ]\n",
    "  )\n",
    "  spaces_list = pd.concat([spaces_list,spaces_list2])\n",
    "  t=t+1\n",
    "  l=len(spaces_list2)\n",
    "  print(t,l)\n",
    "  if len(spaces_list2)<1000: n=1\n",
    "\n",
    "olympus_coord=spaces_list.index[spaces_list['spaces_id'] == 'olympusdao.eth'].tolist()\n"
   ],
   "metadata": {
    "collapsed": false,
    "pycharm": {
     "name": "#%%\n"
    }
   }
  },
  {
   "cell_type": "code",
   "execution_count": 91,
   "outputs": [
    {
     "data": {
      "text/plain": "8017"
     },
     "execution_count": 91,
     "metadata": {},
     "output_type": "execute_result"
    }
   ],
   "source": [
    "numspaces = len(spaces_list)\n",
    "numspaces"
   ],
   "metadata": {
    "collapsed": false,
    "pycharm": {
     "name": "#%%\n"
    }
   }
  },
  {
   "cell_type": "markdown",
   "source": [
    "We get the list of elections  for each snapshot. Note the choice of vote only carries the ID not the question"
   ],
   "metadata": {
    "collapsed": false,
    "pycharm": {
     "name": "#%% md\n"
    }
   }
  },
  {
   "cell_type": "code",
   "execution_count": 92,
   "outputs": [
    {
     "data": {
      "text/plain": "            dao                proposals_title  \\\n0    fabien.eth                           Test   \n1    fabien.eth                           Test   \n2    fabien.eth                  Test proposal   \n3    fabien.eth                  Test proposal   \n4    fabien.eth                  Test proposal   \n..          ...                            ...   \n870  fabien.eth                   Test webhook   \n871  fabien.eth                   Test webhook   \n872  fabien.eth  Test for EIP-1271 on Optimism   \n873  fabien.eth  Test for EIP-1271 on Optimism   \n874  fabien.eth  Test for EIP-1271 on Optimism   \n\n                                          proposals_id  \\\n0       QmbGQCSWXqJwUUksSJ5UbYgjnrpn25aJNyuLFUA48wYg8Q   \n1       QmbGQCSWXqJwUUksSJ5UbYgjnrpn25aJNyuLFUA48wYg8Q   \n2       QmPDvn4oamr1ZxdTXH3pCKn4jpxTJUv3yMVrCBxfgDmyEA   \n3       QmPDvn4oamr1ZxdTXH3pCKn4jpxTJUv3yMVrCBxfgDmyEA   \n4       QmWqUBX1jgWzs8A8hMAV2bSk8jm2HQ3wdq4FWgt4QR5U15   \n..                                                 ...   \n870  0xa66466451daeca21e2d50188d3b72ae6cd36626ca44f...   \n871  0xa66466451daeca21e2d50188d3b72ae6cd36626ca44f...   \n872  0xe0fd8430e73de3b4790648b6edb9bba0b3255c3fe7fa...   \n873  0xe0fd8430e73de3b4790648b6edb9bba0b3255c3fe7fa...   \n874  0xe0fd8430e73de3b4790648b6edb9bba0b3255c3fe7fa...   \n\n                                        proposals_body  proposals_scores  \\\n0    **Bold test** Lost of text\\n\\n# Proposal: Test...          0.000000   \n1    **Bold test** Lost of text\\n\\n# Proposal: Test...          0.000000   \n2                                       This is a test          0.000000   \n3                                       This is a test         12.503688   \n4                                       This is a test         18.000000   \n..                                                 ...               ...   \n870                                                            52.784172   \n871                                                             1.000000   \n872                                                             0.000000   \n873                                                          2018.027507   \n874                                                          2427.453800   \n\n     proposals_scores_total  \n0                  0.000000  \n1                  0.000000  \n2                 12.503688  \n3                 12.503688  \n4                 29.000000  \n..                      ...  \n870               55.784172  \n871               55.784172  \n872             4445.481307  \n873             4445.481307  \n874             4445.481307  \n\n[875 rows x 6 columns]",
      "text/html": "<div>\n<style scoped>\n    .dataframe tbody tr th:only-of-type {\n        vertical-align: middle;\n    }\n\n    .dataframe tbody tr th {\n        vertical-align: top;\n    }\n\n    .dataframe thead th {\n        text-align: right;\n    }\n</style>\n<table border=\"1\" class=\"dataframe\">\n  <thead>\n    <tr style=\"text-align: right;\">\n      <th></th>\n      <th>dao</th>\n      <th>proposals_title</th>\n      <th>proposals_id</th>\n      <th>proposals_body</th>\n      <th>proposals_scores</th>\n      <th>proposals_scores_total</th>\n    </tr>\n  </thead>\n  <tbody>\n    <tr>\n      <th>0</th>\n      <td>fabien.eth</td>\n      <td>Test</td>\n      <td>QmbGQCSWXqJwUUksSJ5UbYgjnrpn25aJNyuLFUA48wYg8Q</td>\n      <td>**Bold test** Lost of text\\n\\n# Proposal: Test...</td>\n      <td>0.000000</td>\n      <td>0.000000</td>\n    </tr>\n    <tr>\n      <th>1</th>\n      <td>fabien.eth</td>\n      <td>Test</td>\n      <td>QmbGQCSWXqJwUUksSJ5UbYgjnrpn25aJNyuLFUA48wYg8Q</td>\n      <td>**Bold test** Lost of text\\n\\n# Proposal: Test...</td>\n      <td>0.000000</td>\n      <td>0.000000</td>\n    </tr>\n    <tr>\n      <th>2</th>\n      <td>fabien.eth</td>\n      <td>Test proposal</td>\n      <td>QmPDvn4oamr1ZxdTXH3pCKn4jpxTJUv3yMVrCBxfgDmyEA</td>\n      <td>This is a test</td>\n      <td>0.000000</td>\n      <td>12.503688</td>\n    </tr>\n    <tr>\n      <th>3</th>\n      <td>fabien.eth</td>\n      <td>Test proposal</td>\n      <td>QmPDvn4oamr1ZxdTXH3pCKn4jpxTJUv3yMVrCBxfgDmyEA</td>\n      <td>This is a test</td>\n      <td>12.503688</td>\n      <td>12.503688</td>\n    </tr>\n    <tr>\n      <th>4</th>\n      <td>fabien.eth</td>\n      <td>Test proposal</td>\n      <td>QmWqUBX1jgWzs8A8hMAV2bSk8jm2HQ3wdq4FWgt4QR5U15</td>\n      <td>This is a test</td>\n      <td>18.000000</td>\n      <td>29.000000</td>\n    </tr>\n    <tr>\n      <th>...</th>\n      <td>...</td>\n      <td>...</td>\n      <td>...</td>\n      <td>...</td>\n      <td>...</td>\n      <td>...</td>\n    </tr>\n    <tr>\n      <th>870</th>\n      <td>fabien.eth</td>\n      <td>Test webhook</td>\n      <td>0xa66466451daeca21e2d50188d3b72ae6cd36626ca44f...</td>\n      <td></td>\n      <td>52.784172</td>\n      <td>55.784172</td>\n    </tr>\n    <tr>\n      <th>871</th>\n      <td>fabien.eth</td>\n      <td>Test webhook</td>\n      <td>0xa66466451daeca21e2d50188d3b72ae6cd36626ca44f...</td>\n      <td></td>\n      <td>1.000000</td>\n      <td>55.784172</td>\n    </tr>\n    <tr>\n      <th>872</th>\n      <td>fabien.eth</td>\n      <td>Test for EIP-1271 on Optimism</td>\n      <td>0xe0fd8430e73de3b4790648b6edb9bba0b3255c3fe7fa...</td>\n      <td></td>\n      <td>0.000000</td>\n      <td>4445.481307</td>\n    </tr>\n    <tr>\n      <th>873</th>\n      <td>fabien.eth</td>\n      <td>Test for EIP-1271 on Optimism</td>\n      <td>0xe0fd8430e73de3b4790648b6edb9bba0b3255c3fe7fa...</td>\n      <td></td>\n      <td>2018.027507</td>\n      <td>4445.481307</td>\n    </tr>\n    <tr>\n      <th>874</th>\n      <td>fabien.eth</td>\n      <td>Test for EIP-1271 on Optimism</td>\n      <td>0xe0fd8430e73de3b4790648b6edb9bba0b3255c3fe7fa...</td>\n      <td></td>\n      <td>2427.453800</td>\n      <td>4445.481307</td>\n    </tr>\n  </tbody>\n</table>\n<p>875 rows × 6 columns</p>\n</div>"
     },
     "execution_count": 92,
     "metadata": {},
     "output_type": "execute_result"
    }
   ],
   "source": [
    "space_name = spaces_list.iat[1,0]\n",
    "proposals = snapshot.Query.proposals(\n",
    "  orderBy='created',\n",
    "  orderDirection='asc',\n",
    "  first=1000,\n",
    "  where=[\n",
    "    snapshot.Proposal.space == space_name,\n",
    "    snapshot.Proposal.state == 'closed'\n",
    "    ##snapshot.Proposal.title == 'OIP-18: Reward rate framework and reduction',\n",
    "  ]\n",
    ")\n",
    "\n",
    "proposals_snapshots = sg.query_df([\n",
    "    proposals.title,\n",
    "    proposals.id,\n",
    "    proposals.body,\n",
    "    proposals.scores,\n",
    "    proposals.scores_total\n",
    "])\n",
    "\n",
    "proposals_snapshots.insert(0,'dao',space_name)\n",
    "\n",
    "proposals_snapshots"
   ],
   "metadata": {
    "collapsed": false,
    "pycharm": {
     "name": "#%%\n"
    }
   }
  },
  {
   "cell_type": "code",
   "execution_count": 93,
   "outputs": [
    {
     "data": {
      "text/plain": "          dao                                    proposals_title  \\\n0    ichi.eth          Volatility Increase in Vault IRR Deposits   \n1    ichi.eth          Volatility Increase in Vault IRR Deposits   \n2    ichi.eth                        ICHI Proposal for Bancor V3   \n3    ichi.eth                        ICHI Proposal for Bancor V3   \n4    ichi.eth                              ICHI Vaults Proposal    \n..        ...                                                ...   \n105  ichi.eth  Should we launch a community website on ichi.org?   \n106  ichi.eth                                               test   \n107  ichi.eth                                               test   \n108  ichi.eth                                              Test?   \n109  ichi.eth                                              Test?   \n\n                                          proposals_id  \\\n0    0xb6acfcda2b1c19a231f7df2c6cd7bcd5654a8be989e2...   \n1    0xb6acfcda2b1c19a231f7df2c6cd7bcd5654a8be989e2...   \n2    0xefd26a12611d809411277a23ab59d41c9b56703a2faa...   \n3    0xefd26a12611d809411277a23ab59d41c9b56703a2faa...   \n4    0x9e724ac779d020df40016be159a4a8062965a84fee63...   \n..                                                 ...   \n105     Qmbj2pu23vbNPJGSMt1bgJjK4YGxcDMjeqggyLNHgDbG5V   \n106     QmPmUra8QTkymdJNKT2QjYUtJtXpVY6wE4QT66genw9DQZ   \n107     QmPmUra8QTkymdJNKT2QjYUtJtXpVY6wE4QT66genw9DQZ   \n108     QmRRJ8uwthPoTCmGxk2TANdhDnppECvKBcaz55FywySRP4   \n109     QmRRJ8uwthPoTCmGxk2TANdhDnppECvKBcaz55FywySRP4   \n\n                                        proposals_body  proposals_scores  \\\n0    Summary:\\nPropose an increase in vault rewards...      43073.307504   \n1    Summary:\\nPropose an increase in vault rewards...          0.000000   \n2    Summary:\\n-Provide 50,000 BNT worth of Legacy ...      43073.307504   \n3    Summary:\\n-Provide 50,000 BNT worth of Legacy ...          0.000000   \n4    Summary:\\nProposal allocating $ICHI to the fol...      94158.348758   \n..                                                 ...               ...   \n105  Proposal from samwisegardener in the ichi disc...          0.000000   \n106                                               test       9039.392908   \n107                                               test          0.000000   \n108                                   Test - yes or no          0.000000   \n109                                   Test - yes or no          0.000000   \n\n     proposals_scores_total  \n0              43073.307504  \n1              43073.307504  \n2              43073.307504  \n3              43073.307504  \n4              94210.981940  \n..                      ...  \n105           109450.440901  \n106             9039.392908  \n107             9039.392908  \n108                0.000000  \n109                0.000000  \n\n[110 rows x 6 columns]",
      "text/html": "<div>\n<style scoped>\n    .dataframe tbody tr th:only-of-type {\n        vertical-align: middle;\n    }\n\n    .dataframe tbody tr th {\n        vertical-align: top;\n    }\n\n    .dataframe thead th {\n        text-align: right;\n    }\n</style>\n<table border=\"1\" class=\"dataframe\">\n  <thead>\n    <tr style=\"text-align: right;\">\n      <th></th>\n      <th>dao</th>\n      <th>proposals_title</th>\n      <th>proposals_id</th>\n      <th>proposals_body</th>\n      <th>proposals_scores</th>\n      <th>proposals_scores_total</th>\n    </tr>\n  </thead>\n  <tbody>\n    <tr>\n      <th>0</th>\n      <td>ichi.eth</td>\n      <td>Volatility Increase in Vault IRR Deposits</td>\n      <td>0xb6acfcda2b1c19a231f7df2c6cd7bcd5654a8be989e2...</td>\n      <td>Summary:\\nPropose an increase in vault rewards...</td>\n      <td>43073.307504</td>\n      <td>43073.307504</td>\n    </tr>\n    <tr>\n      <th>1</th>\n      <td>ichi.eth</td>\n      <td>Volatility Increase in Vault IRR Deposits</td>\n      <td>0xb6acfcda2b1c19a231f7df2c6cd7bcd5654a8be989e2...</td>\n      <td>Summary:\\nPropose an increase in vault rewards...</td>\n      <td>0.000000</td>\n      <td>43073.307504</td>\n    </tr>\n    <tr>\n      <th>2</th>\n      <td>ichi.eth</td>\n      <td>ICHI Proposal for Bancor V3</td>\n      <td>0xefd26a12611d809411277a23ab59d41c9b56703a2faa...</td>\n      <td>Summary:\\n-Provide 50,000 BNT worth of Legacy ...</td>\n      <td>43073.307504</td>\n      <td>43073.307504</td>\n    </tr>\n    <tr>\n      <th>3</th>\n      <td>ichi.eth</td>\n      <td>ICHI Proposal for Bancor V3</td>\n      <td>0xefd26a12611d809411277a23ab59d41c9b56703a2faa...</td>\n      <td>Summary:\\n-Provide 50,000 BNT worth of Legacy ...</td>\n      <td>0.000000</td>\n      <td>43073.307504</td>\n    </tr>\n    <tr>\n      <th>4</th>\n      <td>ichi.eth</td>\n      <td>ICHI Vaults Proposal</td>\n      <td>0x9e724ac779d020df40016be159a4a8062965a84fee63...</td>\n      <td>Summary:\\nProposal allocating $ICHI to the fol...</td>\n      <td>94158.348758</td>\n      <td>94210.981940</td>\n    </tr>\n    <tr>\n      <th>...</th>\n      <td>...</td>\n      <td>...</td>\n      <td>...</td>\n      <td>...</td>\n      <td>...</td>\n      <td>...</td>\n    </tr>\n    <tr>\n      <th>105</th>\n      <td>ichi.eth</td>\n      <td>Should we launch a community website on ichi.org?</td>\n      <td>Qmbj2pu23vbNPJGSMt1bgJjK4YGxcDMjeqggyLNHgDbG5V</td>\n      <td>Proposal from samwisegardener in the ichi disc...</td>\n      <td>0.000000</td>\n      <td>109450.440901</td>\n    </tr>\n    <tr>\n      <th>106</th>\n      <td>ichi.eth</td>\n      <td>test</td>\n      <td>QmPmUra8QTkymdJNKT2QjYUtJtXpVY6wE4QT66genw9DQZ</td>\n      <td>test</td>\n      <td>9039.392908</td>\n      <td>9039.392908</td>\n    </tr>\n    <tr>\n      <th>107</th>\n      <td>ichi.eth</td>\n      <td>test</td>\n      <td>QmPmUra8QTkymdJNKT2QjYUtJtXpVY6wE4QT66genw9DQZ</td>\n      <td>test</td>\n      <td>0.000000</td>\n      <td>9039.392908</td>\n    </tr>\n    <tr>\n      <th>108</th>\n      <td>ichi.eth</td>\n      <td>Test?</td>\n      <td>QmRRJ8uwthPoTCmGxk2TANdhDnppECvKBcaz55FywySRP4</td>\n      <td>Test - yes or no</td>\n      <td>0.000000</td>\n      <td>0.000000</td>\n    </tr>\n    <tr>\n      <th>109</th>\n      <td>ichi.eth</td>\n      <td>Test?</td>\n      <td>QmRRJ8uwthPoTCmGxk2TANdhDnppECvKBcaz55FywySRP4</td>\n      <td>Test - yes or no</td>\n      <td>0.000000</td>\n      <td>0.000000</td>\n    </tr>\n  </tbody>\n</table>\n<p>110 rows × 6 columns</p>\n</div>"
     },
     "execution_count": 93,
     "metadata": {},
     "output_type": "execute_result"
    }
   ],
   "source": [
    "space_name = spaces_list.iat[2,0]\n",
    "\n",
    "proposals2 = snapshot.Query.proposals(\n",
    "  orderBy='created',\n",
    "  orderDirection='desc',\n",
    "  first=1000,\n",
    "  where=[\n",
    "    snapshot.Proposal.space == space_name,\n",
    "    snapshot.Proposal.state == 'closed'\n",
    "    ##snapshot.Proposal.title == 'OIP-18: Reward rate framework and reduction',\n",
    "  ]\n",
    ")\n",
    "\n",
    "proposals_snapshots2 = sg.query_df([\n",
    "    proposals2.title,\n",
    "    proposals2.id,\n",
    "    proposals2.body,\n",
    "    proposals2.scores,\n",
    "    proposals2.scores_total\n",
    "])\n",
    "\n",
    "proposals_snapshots2.insert(0,'dao',space_name)\n",
    "\n",
    "proposals_snapshots2"
   ],
   "metadata": {
    "collapsed": false,
    "pycharm": {
     "name": "#%%\n"
    }
   }
  },
  {
   "cell_type": "code",
   "execution_count": 94,
   "outputs": [
    {
     "data": {
      "text/plain": "            dao                                    proposals_title  \\\n0    fabien.eth                                               Test   \n1    fabien.eth                                               Test   \n2    fabien.eth                                      Test proposal   \n3    fabien.eth                                      Test proposal   \n4    fabien.eth                                      Test proposal   \n..          ...                                                ...   \n105    ichi.eth  Should we launch a community website on ichi.org?   \n106    ichi.eth                                               test   \n107    ichi.eth                                               test   \n108    ichi.eth                                              Test?   \n109    ichi.eth                                              Test?   \n\n                                       proposals_id  \\\n0    QmbGQCSWXqJwUUksSJ5UbYgjnrpn25aJNyuLFUA48wYg8Q   \n1    QmbGQCSWXqJwUUksSJ5UbYgjnrpn25aJNyuLFUA48wYg8Q   \n2    QmPDvn4oamr1ZxdTXH3pCKn4jpxTJUv3yMVrCBxfgDmyEA   \n3    QmPDvn4oamr1ZxdTXH3pCKn4jpxTJUv3yMVrCBxfgDmyEA   \n4    QmWqUBX1jgWzs8A8hMAV2bSk8jm2HQ3wdq4FWgt4QR5U15   \n..                                              ...   \n105  Qmbj2pu23vbNPJGSMt1bgJjK4YGxcDMjeqggyLNHgDbG5V   \n106  QmPmUra8QTkymdJNKT2QjYUtJtXpVY6wE4QT66genw9DQZ   \n107  QmPmUra8QTkymdJNKT2QjYUtJtXpVY6wE4QT66genw9DQZ   \n108  QmRRJ8uwthPoTCmGxk2TANdhDnppECvKBcaz55FywySRP4   \n109  QmRRJ8uwthPoTCmGxk2TANdhDnppECvKBcaz55FywySRP4   \n\n                                        proposals_body  proposals_scores  \\\n0    **Bold test** Lost of text\\n\\n# Proposal: Test...          0.000000   \n1    **Bold test** Lost of text\\n\\n# Proposal: Test...          0.000000   \n2                                       This is a test          0.000000   \n3                                       This is a test         12.503688   \n4                                       This is a test         18.000000   \n..                                                 ...               ...   \n105  Proposal from samwisegardener in the ichi disc...          0.000000   \n106                                               test       9039.392908   \n107                                               test          0.000000   \n108                                   Test - yes or no          0.000000   \n109                                   Test - yes or no          0.000000   \n\n     proposals_scores_total  \n0                  0.000000  \n1                  0.000000  \n2                 12.503688  \n3                 12.503688  \n4                 29.000000  \n..                      ...  \n105           109450.440901  \n106             9039.392908  \n107             9039.392908  \n108                0.000000  \n109                0.000000  \n\n[1205 rows x 6 columns]",
      "text/html": "<div>\n<style scoped>\n    .dataframe tbody tr th:only-of-type {\n        vertical-align: middle;\n    }\n\n    .dataframe tbody tr th {\n        vertical-align: top;\n    }\n\n    .dataframe thead th {\n        text-align: right;\n    }\n</style>\n<table border=\"1\" class=\"dataframe\">\n  <thead>\n    <tr style=\"text-align: right;\">\n      <th></th>\n      <th>dao</th>\n      <th>proposals_title</th>\n      <th>proposals_id</th>\n      <th>proposals_body</th>\n      <th>proposals_scores</th>\n      <th>proposals_scores_total</th>\n    </tr>\n  </thead>\n  <tbody>\n    <tr>\n      <th>0</th>\n      <td>fabien.eth</td>\n      <td>Test</td>\n      <td>QmbGQCSWXqJwUUksSJ5UbYgjnrpn25aJNyuLFUA48wYg8Q</td>\n      <td>**Bold test** Lost of text\\n\\n# Proposal: Test...</td>\n      <td>0.000000</td>\n      <td>0.000000</td>\n    </tr>\n    <tr>\n      <th>1</th>\n      <td>fabien.eth</td>\n      <td>Test</td>\n      <td>QmbGQCSWXqJwUUksSJ5UbYgjnrpn25aJNyuLFUA48wYg8Q</td>\n      <td>**Bold test** Lost of text\\n\\n# Proposal: Test...</td>\n      <td>0.000000</td>\n      <td>0.000000</td>\n    </tr>\n    <tr>\n      <th>2</th>\n      <td>fabien.eth</td>\n      <td>Test proposal</td>\n      <td>QmPDvn4oamr1ZxdTXH3pCKn4jpxTJUv3yMVrCBxfgDmyEA</td>\n      <td>This is a test</td>\n      <td>0.000000</td>\n      <td>12.503688</td>\n    </tr>\n    <tr>\n      <th>3</th>\n      <td>fabien.eth</td>\n      <td>Test proposal</td>\n      <td>QmPDvn4oamr1ZxdTXH3pCKn4jpxTJUv3yMVrCBxfgDmyEA</td>\n      <td>This is a test</td>\n      <td>12.503688</td>\n      <td>12.503688</td>\n    </tr>\n    <tr>\n      <th>4</th>\n      <td>fabien.eth</td>\n      <td>Test proposal</td>\n      <td>QmWqUBX1jgWzs8A8hMAV2bSk8jm2HQ3wdq4FWgt4QR5U15</td>\n      <td>This is a test</td>\n      <td>18.000000</td>\n      <td>29.000000</td>\n    </tr>\n    <tr>\n      <th>...</th>\n      <td>...</td>\n      <td>...</td>\n      <td>...</td>\n      <td>...</td>\n      <td>...</td>\n      <td>...</td>\n    </tr>\n    <tr>\n      <th>105</th>\n      <td>ichi.eth</td>\n      <td>Should we launch a community website on ichi.org?</td>\n      <td>Qmbj2pu23vbNPJGSMt1bgJjK4YGxcDMjeqggyLNHgDbG5V</td>\n      <td>Proposal from samwisegardener in the ichi disc...</td>\n      <td>0.000000</td>\n      <td>109450.440901</td>\n    </tr>\n    <tr>\n      <th>106</th>\n      <td>ichi.eth</td>\n      <td>test</td>\n      <td>QmPmUra8QTkymdJNKT2QjYUtJtXpVY6wE4QT66genw9DQZ</td>\n      <td>test</td>\n      <td>9039.392908</td>\n      <td>9039.392908</td>\n    </tr>\n    <tr>\n      <th>107</th>\n      <td>ichi.eth</td>\n      <td>test</td>\n      <td>QmPmUra8QTkymdJNKT2QjYUtJtXpVY6wE4QT66genw9DQZ</td>\n      <td>test</td>\n      <td>0.000000</td>\n      <td>9039.392908</td>\n    </tr>\n    <tr>\n      <th>108</th>\n      <td>ichi.eth</td>\n      <td>Test?</td>\n      <td>QmRRJ8uwthPoTCmGxk2TANdhDnppECvKBcaz55FywySRP4</td>\n      <td>Test - yes or no</td>\n      <td>0.000000</td>\n      <td>0.000000</td>\n    </tr>\n    <tr>\n      <th>109</th>\n      <td>ichi.eth</td>\n      <td>Test?</td>\n      <td>QmRRJ8uwthPoTCmGxk2TANdhDnppECvKBcaz55FywySRP4</td>\n      <td>Test - yes or no</td>\n      <td>0.000000</td>\n      <td>0.000000</td>\n    </tr>\n  </tbody>\n</table>\n<p>1205 rows × 6 columns</p>\n</div>"
     },
     "execution_count": 94,
     "metadata": {},
     "output_type": "execute_result"
    }
   ],
   "source": [
    "proposals3 = []\n",
    "t=int(input('set starting point for DAOs'))\n",
    "limit=int(input('set limit for DAOs to pull (-1 for all records)'))+2\n",
    "if limit==-1:\n",
    "  limit = numspaces\n",
    "\n",
    "while t<=limit: ##numspaces when out of testing\n",
    "  space_name = spaces_list.iat[t,0]\n",
    "  proposals3 = snapshot.Query.proposals(\n",
    "    orderBy='created',\n",
    "    orderDirection='desc',\n",
    "    first=1000,\n",
    "    skip = 1000*t,\n",
    "    where=[\n",
    "      snapshot.Proposal.space == space_name,\n",
    "      snapshot.Proposal.state == 'closed'\n",
    "      ]\n",
    "  )\n",
    "  proposals_snapshots3 = sg.query_df([\n",
    "    proposals3.title,\n",
    "    proposals3.id,\n",
    "    proposals3.body,\n",
    "    proposals3.scores,\n",
    "    proposals3.scores_total\n",
    "])\n",
    "  proposals_snapshots3.insert(0,'dao',space_name)\n",
    "  proposals_snapshots = pd.concat([proposals_snapshots,proposals_snapshots2,proposals_snapshots3])\n",
    "  t=t+1\n",
    "  l=len(proposals_snapshots3)\n",
    "  if t%10 == 0: print (t,space_name,l)\n",
    "  if t>1150: print (t,space_name,l)\n",
    "  if len(proposals_snapshots3)>0:\n",
    "    print(t,space_name,l)\n",
    "\n",
    "proposals_snapshots"
   ],
   "metadata": {
    "collapsed": false,
    "pycharm": {
     "name": "#%%\n"
    }
   }
  },
  {
   "cell_type": "code",
   "execution_count": 95,
   "outputs": [
    {
     "name": "stdout",
     "output_type": "stream",
     "text": [
      "1205 elections. Pulling in 3 sets \n"
     ]
    }
   ],
   "source": [
    "total_props = int(len(proposals_snapshots))\n",
    "chunks = math.ceil(total_props/500)\n",
    "print(total_props,'elections. Pulling in', chunks,'sets ')"
   ],
   "metadata": {
    "collapsed": false,
    "pycharm": {
     "name": "#%%\n"
    }
   }
  },
  {
   "cell_type": "markdown",
   "source": [
    "We are going to use this to timestamp the filenames"
   ],
   "metadata": {
    "collapsed": false,
    "pycharm": {
     "name": "#%% md\n"
    }
   }
  },
  {
   "cell_type": "code",
   "execution_count": 96,
   "outputs": [],
   "source": [
    "snapshot.Proposal.datetime = SyntheticField(\n",
    "  lambda timestamp: str(datetime.fromtimestamp(timestamp)),\n",
    "  SyntheticField.STRING,\n",
    "  snapshot.Proposal.end,\n",
    "  )\n"
   ],
   "metadata": {
    "collapsed": false,
    "pycharm": {
     "name": "#%%\n"
    }
   }
  },
  {
   "cell_type": "code",
   "execution_count": 97,
   "outputs": [
    {
     "name": "stdout",
     "output_type": "stream",
     "text": [
      "file saved: C:\\Users\\ianfe\\Dropbox\\Documents\\Olympus\\Governance/votes_table_Jul-13-2022_1205_snapshots.csv\n"
     ]
    }
   ],
   "source": [
    "##spit out the file!\n",
    "file = input('Selet a folder') ##enter your file path here - the file is in the repo \"summary_stats.csv\".\n",
    "path =file+'/votes_table_'+str(date.today().strftime(\"%b-%d-%Y\"))+'_'+str(len(proposals_snapshots))+'_snapshots.csv'\n",
    "proposals_snapshots.to_csv(path, index = False)\n",
    "print('file saved: '+ path)"
   ],
   "metadata": {
    "collapsed": false,
    "pycharm": {
     "name": "#%%\n"
    }
   }
  },
  {
   "cell_type": "markdown",
   "source": [],
   "metadata": {
    "collapsed": false,
    "pycharm": {
     "name": "#%% md\n"
    }
   }
  },
  {
   "cell_type": "code",
   "execution_count": 98,
   "outputs": [
    {
     "name": "stdout",
     "output_type": "stream",
     "text": [
      "QmbGQCSWXqJwUUksSJ5UbYgjnrpn25aJNyuLFUA48wYg8Q\n"
     ]
    },
    {
     "data": {
      "text/plain": "                                             votes_id  \\\n0   0x1df60184b9ff3f810b2444a39682e06609509946aaf4...   \n1   0xc612cb181227a6b77a9bc000e1c531b1f7c30b17b634...   \n2   0xeaa20af9590a34c258d7f7024eb6931c0f703d7bcca1...   \n3   0x0641ab489ec89ff3cf1de80daab90d740aba51acfc98...   \n4   0x2f546d4a1e4d6bc586b860e7d2b6bddedbffe144158c...   \n5   0x7587b79dd4c8e3f488e24923a0ec6afc055931dfad70...   \n6   0x7856b90dd21c12de5cd6b41a247ba5cacba484020b44...   \n7   0x43274540543d9d9678323799ccb7dbabfb904eecd687...   \n8   0xf87870513af9a54336635826d81953e5f532088d7053...   \n9      QmSca8fuEBwG7Moc6thJAcoP3CXUrQBhheFPQuXs5gd9mW   \n10  0x076aa10733b044a19c3528181ad5fe386fc57533d4a7...   \n11  0x6e32e151b4ec5d608fac364dce3d9fffa84973ad9fb3...   \n12  0x643f10b75cbfa6ba05981886c4aabdd1f9fc570b6e5f...   \n13  0x243e3e49855271cef6d240f45b1bc4fa08b43f2f3cd4...   \n14     QmYp9hvBStGn5YHnrptaxRqhJgbYKHF4kP4JPuT69KaYt6   \n15  0x0224e6982f183898bb22490a18b5c744715f2eae1245...   \n16  0xc71915aa696acbce3364ee5a9dc0596bb2a125446e34...   \n17  0xbb87aa07310260ce6a195d359c1530dc7cd1b1918b65...   \n18     Qmepp9TMj19UcDF5TRMxpaVxBEJe1PyXYyqeQPX1r8feAS   \n19     QmVq1uj1GBEewgp4Kwg1NTLotaYWCnKvUi6fM8YpWsmRbm   \n20  0x058a2fac510e45d8a164e012b35c81ba04af5e2e6898...   \n\n                                   votes_voter  votes_created  votes_choice  \\\n0   0xcdcFd445acAf0C3494Bb84A551fdAC3F1d85B1A4     1638197107             2   \n1   0xd6D5affd829AaB689b74Ff016287dE16c45f433F     1638197056             2   \n2   0x8BF0D893Af34Bbc41cE80Fe2f86b8c5298e6ED0f     1638196896             2   \n3   0x47Ea9C5E604Fb483412B0de8Ff5AE4c82B02D065     1638196760             2   \n4   0xD5b0A2a96907344A537Eb809A0B75b895492E2f8     1638196708             2   \n5   0x1DAb06752D40796847f54dA480f4F9f38052B108     1638194757             3   \n6   0x210c09B2390ee03Ee86dD8bb736BDA2F31AaB57F     1638191883             3   \n7   0xCeFC6e5826dFA7a81F0AbaB83C46E7173Ea014C3     1638187373             1   \n8   0x8f02319F577e17A71864B78dfbD50C55ACBeDeDE     1638182926             4   \n9   0xF61D614B5fEF9d74a75e765dE8c32f140Ab7D177     1638181182             3   \n10  0xd56e63BE822BB54E2214851ab6fc32B580244009     1638157677             4   \n11  0x562e22f5Cfa7b7A8c51369A8083b2441C27eb747     1638157628             2   \n12  0xb3D516659a8e3e8cFcf45120FCAC0f8a6f2Bc8Ba     1638157408             2   \n13  0x12C7824845440DA1B0eBfcB33E15CCDB07bceA63     1638157359             3   \n14  0xc8C135becA7BD34FAb104221144EB3c734e786C5     1638120725             4   \n15  0xa74d13042Cb339ADf749E4128Dcb5f5F96645ba7     1638117266             2   \n16  0x16Ce1B15ed1278921d7Cae34Bf60a81227CFC295     1638090534             4   \n17  0xDa516F0903fC91E3AE198F8f58AB8F83CbDFBE8a     1638078351             2   \n18  0x2dDdb6a69f071313580073941a4491313303b1AB     1638076164             4   \n19  0x0ab97008cad303a8C90ea630c282760284c19e93     1638049645             1   \n20  0x2ecdA5574e4AE1b257Eb439Bc9930fb3aebeF53A     1638047019             2   \n\n         votes_vp  \n0    83629.098701  \n1    45326.801030  \n2    23678.757635  \n3    19737.545667  \n4    29487.693485  \n5     5816.058240  \n6    54774.488778  \n7    49735.262654  \n8       33.095298  \n9    14793.543732  \n10   15328.128972  \n11   64547.200702  \n12   40240.643818  \n13  109535.514358  \n14    2167.682834  \n15     140.569150  \n16      67.917762  \n17      67.917762  \n18   27626.909320  \n19    2131.758842  \n20   23972.589753  ",
      "text/html": "<div>\n<style scoped>\n    .dataframe tbody tr th:only-of-type {\n        vertical-align: middle;\n    }\n\n    .dataframe tbody tr th {\n        vertical-align: top;\n    }\n\n    .dataframe thead th {\n        text-align: right;\n    }\n</style>\n<table border=\"1\" class=\"dataframe\">\n  <thead>\n    <tr style=\"text-align: right;\">\n      <th></th>\n      <th>votes_id</th>\n      <th>votes_voter</th>\n      <th>votes_created</th>\n      <th>votes_choice</th>\n      <th>votes_vp</th>\n    </tr>\n  </thead>\n  <tbody>\n    <tr>\n      <th>0</th>\n      <td>0x1df60184b9ff3f810b2444a39682e06609509946aaf4...</td>\n      <td>0xcdcFd445acAf0C3494Bb84A551fdAC3F1d85B1A4</td>\n      <td>1638197107</td>\n      <td>2</td>\n      <td>83629.098701</td>\n    </tr>\n    <tr>\n      <th>1</th>\n      <td>0xc612cb181227a6b77a9bc000e1c531b1f7c30b17b634...</td>\n      <td>0xd6D5affd829AaB689b74Ff016287dE16c45f433F</td>\n      <td>1638197056</td>\n      <td>2</td>\n      <td>45326.801030</td>\n    </tr>\n    <tr>\n      <th>2</th>\n      <td>0xeaa20af9590a34c258d7f7024eb6931c0f703d7bcca1...</td>\n      <td>0x8BF0D893Af34Bbc41cE80Fe2f86b8c5298e6ED0f</td>\n      <td>1638196896</td>\n      <td>2</td>\n      <td>23678.757635</td>\n    </tr>\n    <tr>\n      <th>3</th>\n      <td>0x0641ab489ec89ff3cf1de80daab90d740aba51acfc98...</td>\n      <td>0x47Ea9C5E604Fb483412B0de8Ff5AE4c82B02D065</td>\n      <td>1638196760</td>\n      <td>2</td>\n      <td>19737.545667</td>\n    </tr>\n    <tr>\n      <th>4</th>\n      <td>0x2f546d4a1e4d6bc586b860e7d2b6bddedbffe144158c...</td>\n      <td>0xD5b0A2a96907344A537Eb809A0B75b895492E2f8</td>\n      <td>1638196708</td>\n      <td>2</td>\n      <td>29487.693485</td>\n    </tr>\n    <tr>\n      <th>5</th>\n      <td>0x7587b79dd4c8e3f488e24923a0ec6afc055931dfad70...</td>\n      <td>0x1DAb06752D40796847f54dA480f4F9f38052B108</td>\n      <td>1638194757</td>\n      <td>3</td>\n      <td>5816.058240</td>\n    </tr>\n    <tr>\n      <th>6</th>\n      <td>0x7856b90dd21c12de5cd6b41a247ba5cacba484020b44...</td>\n      <td>0x210c09B2390ee03Ee86dD8bb736BDA2F31AaB57F</td>\n      <td>1638191883</td>\n      <td>3</td>\n      <td>54774.488778</td>\n    </tr>\n    <tr>\n      <th>7</th>\n      <td>0x43274540543d9d9678323799ccb7dbabfb904eecd687...</td>\n      <td>0xCeFC6e5826dFA7a81F0AbaB83C46E7173Ea014C3</td>\n      <td>1638187373</td>\n      <td>1</td>\n      <td>49735.262654</td>\n    </tr>\n    <tr>\n      <th>8</th>\n      <td>0xf87870513af9a54336635826d81953e5f532088d7053...</td>\n      <td>0x8f02319F577e17A71864B78dfbD50C55ACBeDeDE</td>\n      <td>1638182926</td>\n      <td>4</td>\n      <td>33.095298</td>\n    </tr>\n    <tr>\n      <th>9</th>\n      <td>QmSca8fuEBwG7Moc6thJAcoP3CXUrQBhheFPQuXs5gd9mW</td>\n      <td>0xF61D614B5fEF9d74a75e765dE8c32f140Ab7D177</td>\n      <td>1638181182</td>\n      <td>3</td>\n      <td>14793.543732</td>\n    </tr>\n    <tr>\n      <th>10</th>\n      <td>0x076aa10733b044a19c3528181ad5fe386fc57533d4a7...</td>\n      <td>0xd56e63BE822BB54E2214851ab6fc32B580244009</td>\n      <td>1638157677</td>\n      <td>4</td>\n      <td>15328.128972</td>\n    </tr>\n    <tr>\n      <th>11</th>\n      <td>0x6e32e151b4ec5d608fac364dce3d9fffa84973ad9fb3...</td>\n      <td>0x562e22f5Cfa7b7A8c51369A8083b2441C27eb747</td>\n      <td>1638157628</td>\n      <td>2</td>\n      <td>64547.200702</td>\n    </tr>\n    <tr>\n      <th>12</th>\n      <td>0x643f10b75cbfa6ba05981886c4aabdd1f9fc570b6e5f...</td>\n      <td>0xb3D516659a8e3e8cFcf45120FCAC0f8a6f2Bc8Ba</td>\n      <td>1638157408</td>\n      <td>2</td>\n      <td>40240.643818</td>\n    </tr>\n    <tr>\n      <th>13</th>\n      <td>0x243e3e49855271cef6d240f45b1bc4fa08b43f2f3cd4...</td>\n      <td>0x12C7824845440DA1B0eBfcB33E15CCDB07bceA63</td>\n      <td>1638157359</td>\n      <td>3</td>\n      <td>109535.514358</td>\n    </tr>\n    <tr>\n      <th>14</th>\n      <td>QmYp9hvBStGn5YHnrptaxRqhJgbYKHF4kP4JPuT69KaYt6</td>\n      <td>0xc8C135becA7BD34FAb104221144EB3c734e786C5</td>\n      <td>1638120725</td>\n      <td>4</td>\n      <td>2167.682834</td>\n    </tr>\n    <tr>\n      <th>15</th>\n      <td>0x0224e6982f183898bb22490a18b5c744715f2eae1245...</td>\n      <td>0xa74d13042Cb339ADf749E4128Dcb5f5F96645ba7</td>\n      <td>1638117266</td>\n      <td>2</td>\n      <td>140.569150</td>\n    </tr>\n    <tr>\n      <th>16</th>\n      <td>0xc71915aa696acbce3364ee5a9dc0596bb2a125446e34...</td>\n      <td>0x16Ce1B15ed1278921d7Cae34Bf60a81227CFC295</td>\n      <td>1638090534</td>\n      <td>4</td>\n      <td>67.917762</td>\n    </tr>\n    <tr>\n      <th>17</th>\n      <td>0xbb87aa07310260ce6a195d359c1530dc7cd1b1918b65...</td>\n      <td>0xDa516F0903fC91E3AE198F8f58AB8F83CbDFBE8a</td>\n      <td>1638078351</td>\n      <td>2</td>\n      <td>67.917762</td>\n    </tr>\n    <tr>\n      <th>18</th>\n      <td>Qmepp9TMj19UcDF5TRMxpaVxBEJe1PyXYyqeQPX1r8feAS</td>\n      <td>0x2dDdb6a69f071313580073941a4491313303b1AB</td>\n      <td>1638076164</td>\n      <td>4</td>\n      <td>27626.909320</td>\n    </tr>\n    <tr>\n      <th>19</th>\n      <td>QmVq1uj1GBEewgp4Kwg1NTLotaYWCnKvUi6fM8YpWsmRbm</td>\n      <td>0x0ab97008cad303a8C90ea630c282760284c19e93</td>\n      <td>1638049645</td>\n      <td>1</td>\n      <td>2131.758842</td>\n    </tr>\n    <tr>\n      <th>20</th>\n      <td>0x058a2fac510e45d8a164e012b35c81ba04af5e2e6898...</td>\n      <td>0x2ecdA5574e4AE1b257Eb439Bc9930fb3aebeF53A</td>\n      <td>1638047019</td>\n      <td>2</td>\n      <td>23972.589753</td>\n    </tr>\n  </tbody>\n</table>\n</div>"
     },
     "execution_count": 98,
     "metadata": {},
     "output_type": "execute_result"
    }
   ],
   "source": [
    "proposal_id = proposals_snapshots.iloc[1,2]\n",
    "voting_snapshots_list = sg.query_df([\n",
    "  vote_tracker.id,\n",
    "  vote_tracker.voter,\n",
    "  vote_tracker.created,\n",
    "  vote_tracker.choice,\n",
    "  vote_tracker.vp\n",
    "])\n",
    "print(proposal_id)\n",
    "voting_snapshots_list"
   ],
   "metadata": {
    "collapsed": false,
    "pycharm": {
     "name": "#%%\n"
    }
   }
  },
  {
   "cell_type": "code",
   "execution_count": 99,
   "outputs": [
    {
     "name": "stdout",
     "output_type": "stream",
     "text": [
      "                                             votes_id  \\\n",
      "0   0x1df60184b9ff3f810b2444a39682e06609509946aaf4...   \n",
      "1   0xc612cb181227a6b77a9bc000e1c531b1f7c30b17b634...   \n",
      "2   0xeaa20af9590a34c258d7f7024eb6931c0f703d7bcca1...   \n",
      "3   0x0641ab489ec89ff3cf1de80daab90d740aba51acfc98...   \n",
      "4   0x2f546d4a1e4d6bc586b860e7d2b6bddedbffe144158c...   \n",
      "5   0x7587b79dd4c8e3f488e24923a0ec6afc055931dfad70...   \n",
      "6   0x7856b90dd21c12de5cd6b41a247ba5cacba484020b44...   \n",
      "7   0x43274540543d9d9678323799ccb7dbabfb904eecd687...   \n",
      "8   0xf87870513af9a54336635826d81953e5f532088d7053...   \n",
      "9      QmSca8fuEBwG7Moc6thJAcoP3CXUrQBhheFPQuXs5gd9mW   \n",
      "10  0x076aa10733b044a19c3528181ad5fe386fc57533d4a7...   \n",
      "11  0x6e32e151b4ec5d608fac364dce3d9fffa84973ad9fb3...   \n",
      "12  0x643f10b75cbfa6ba05981886c4aabdd1f9fc570b6e5f...   \n",
      "13  0x243e3e49855271cef6d240f45b1bc4fa08b43f2f3cd4...   \n",
      "14     QmYp9hvBStGn5YHnrptaxRqhJgbYKHF4kP4JPuT69KaYt6   \n",
      "15  0x0224e6982f183898bb22490a18b5c744715f2eae1245...   \n",
      "16  0xc71915aa696acbce3364ee5a9dc0596bb2a125446e34...   \n",
      "17  0xbb87aa07310260ce6a195d359c1530dc7cd1b1918b65...   \n",
      "18     Qmepp9TMj19UcDF5TRMxpaVxBEJe1PyXYyqeQPX1r8feAS   \n",
      "19     QmVq1uj1GBEewgp4Kwg1NTLotaYWCnKvUi6fM8YpWsmRbm   \n",
      "20  0x058a2fac510e45d8a164e012b35c81ba04af5e2e6898...   \n",
      "\n",
      "                                   votes_voter  votes_created  votes_choice  \\\n",
      "0   0xcdcFd445acAf0C3494Bb84A551fdAC3F1d85B1A4     1638197107             2   \n",
      "1   0xd6D5affd829AaB689b74Ff016287dE16c45f433F     1638197056             2   \n",
      "2   0x8BF0D893Af34Bbc41cE80Fe2f86b8c5298e6ED0f     1638196896             2   \n",
      "3   0x47Ea9C5E604Fb483412B0de8Ff5AE4c82B02D065     1638196760             2   \n",
      "4   0xD5b0A2a96907344A537Eb809A0B75b895492E2f8     1638196708             2   \n",
      "5   0x1DAb06752D40796847f54dA480f4F9f38052B108     1638194757             3   \n",
      "6   0x210c09B2390ee03Ee86dD8bb736BDA2F31AaB57F     1638191883             3   \n",
      "7   0xCeFC6e5826dFA7a81F0AbaB83C46E7173Ea014C3     1638187373             1   \n",
      "8   0x8f02319F577e17A71864B78dfbD50C55ACBeDeDE     1638182926             4   \n",
      "9   0xF61D614B5fEF9d74a75e765dE8c32f140Ab7D177     1638181182             3   \n",
      "10  0xd56e63BE822BB54E2214851ab6fc32B580244009     1638157677             4   \n",
      "11  0x562e22f5Cfa7b7A8c51369A8083b2441C27eb747     1638157628             2   \n",
      "12  0xb3D516659a8e3e8cFcf45120FCAC0f8a6f2Bc8Ba     1638157408             2   \n",
      "13  0x12C7824845440DA1B0eBfcB33E15CCDB07bceA63     1638157359             3   \n",
      "14  0xc8C135becA7BD34FAb104221144EB3c734e786C5     1638120725             4   \n",
      "15  0xa74d13042Cb339ADf749E4128Dcb5f5F96645ba7     1638117266             2   \n",
      "16  0x16Ce1B15ed1278921d7Cae34Bf60a81227CFC295     1638090534             4   \n",
      "17  0xDa516F0903fC91E3AE198F8f58AB8F83CbDFBE8a     1638078351             2   \n",
      "18  0x2dDdb6a69f071313580073941a4491313303b1AB     1638076164             4   \n",
      "19  0x0ab97008cad303a8C90ea630c282760284c19e93     1638049645             1   \n",
      "20  0x2ecdA5574e4AE1b257Eb439Bc9930fb3aebeF53A     1638047019             2   \n",
      "\n",
      "         votes_vp                                        Proposal  \n",
      "0    83629.098701  QmbGQCSWXqJwUUksSJ5UbYgjnrpn25aJNyuLFUA48wYg8Q  \n",
      "1    45326.801030  QmbGQCSWXqJwUUksSJ5UbYgjnrpn25aJNyuLFUA48wYg8Q  \n",
      "2    23678.757635  QmbGQCSWXqJwUUksSJ5UbYgjnrpn25aJNyuLFUA48wYg8Q  \n",
      "3    19737.545667  QmbGQCSWXqJwUUksSJ5UbYgjnrpn25aJNyuLFUA48wYg8Q  \n",
      "4    29487.693485  QmbGQCSWXqJwUUksSJ5UbYgjnrpn25aJNyuLFUA48wYg8Q  \n",
      "5     5816.058240  QmbGQCSWXqJwUUksSJ5UbYgjnrpn25aJNyuLFUA48wYg8Q  \n",
      "6    54774.488778  QmbGQCSWXqJwUUksSJ5UbYgjnrpn25aJNyuLFUA48wYg8Q  \n",
      "7    49735.262654  QmbGQCSWXqJwUUksSJ5UbYgjnrpn25aJNyuLFUA48wYg8Q  \n",
      "8       33.095298  QmbGQCSWXqJwUUksSJ5UbYgjnrpn25aJNyuLFUA48wYg8Q  \n",
      "9    14793.543732  QmbGQCSWXqJwUUksSJ5UbYgjnrpn25aJNyuLFUA48wYg8Q  \n",
      "10   15328.128972  QmbGQCSWXqJwUUksSJ5UbYgjnrpn25aJNyuLFUA48wYg8Q  \n",
      "11   64547.200702  QmbGQCSWXqJwUUksSJ5UbYgjnrpn25aJNyuLFUA48wYg8Q  \n",
      "12   40240.643818  QmbGQCSWXqJwUUksSJ5UbYgjnrpn25aJNyuLFUA48wYg8Q  \n",
      "13  109535.514358  QmbGQCSWXqJwUUksSJ5UbYgjnrpn25aJNyuLFUA48wYg8Q  \n",
      "14    2167.682834  QmbGQCSWXqJwUUksSJ5UbYgjnrpn25aJNyuLFUA48wYg8Q  \n",
      "15     140.569150  QmbGQCSWXqJwUUksSJ5UbYgjnrpn25aJNyuLFUA48wYg8Q  \n",
      "16      67.917762  QmbGQCSWXqJwUUksSJ5UbYgjnrpn25aJNyuLFUA48wYg8Q  \n",
      "17      67.917762  QmbGQCSWXqJwUUksSJ5UbYgjnrpn25aJNyuLFUA48wYg8Q  \n",
      "18   27626.909320  QmbGQCSWXqJwUUksSJ5UbYgjnrpn25aJNyuLFUA48wYg8Q  \n",
      "19    2131.758842  QmbGQCSWXqJwUUksSJ5UbYgjnrpn25aJNyuLFUA48wYg8Q  \n",
      "20   23972.589753  QmbGQCSWXqJwUUksSJ5UbYgjnrpn25aJNyuLFUA48wYg8Q  \n"
     ]
    }
   ],
   "source": [
    "voting_snapshots_list['Proposal'] = proposal_id\n",
    "print(voting_snapshots_list)"
   ],
   "metadata": {
    "collapsed": false,
    "pycharm": {
     "name": "#%%\n"
    }
   }
  },
  {
   "cell_type": "code",
   "execution_count": 101,
   "outputs": [
    {
     "name": "stdout",
     "output_type": "stream",
     "text": [
      "pull started\n"
     ]
    },
    {
     "ename": "KeyboardInterrupt",
     "evalue": "",
     "output_type": "error",
     "traceback": [
      "\u001B[1;31m---------------------------------------------------------------------------\u001B[0m",
      "\u001B[1;31mKeyboardInterrupt\u001B[0m                         Traceback (most recent call last)",
      "Input \u001B[1;32mIn [101]\u001B[0m, in \u001B[0;36m<cell line: 5>\u001B[1;34m()\u001B[0m\n\u001B[0;32m      9\u001B[0m n\u001B[38;5;241m=\u001B[39mn\u001B[38;5;241m+\u001B[39m\u001B[38;5;241m1\u001B[39m\n\u001B[0;32m     10\u001B[0m vote_tracker \u001B[38;5;241m=\u001B[39m snapshot\u001B[38;5;241m.\u001B[39mQuery\u001B[38;5;241m.\u001B[39mvotes(\n\u001B[0;32m     11\u001B[0m orderBy \u001B[38;5;241m=\u001B[39m \u001B[38;5;124m'\u001B[39m\u001B[38;5;124mcreated\u001B[39m\u001B[38;5;124m'\u001B[39m,\n\u001B[0;32m     12\u001B[0m orderDirection\u001B[38;5;241m=\u001B[39m\u001B[38;5;124m'\u001B[39m\u001B[38;5;124mdesc\u001B[39m\u001B[38;5;124m'\u001B[39m,\n\u001B[1;32m   (...)\u001B[0m\n\u001B[0;32m     15\u001B[0m   snapshot\u001B[38;5;241m.\u001B[39mVote\u001B[38;5;241m.\u001B[39mproposal \u001B[38;5;241m==\u001B[39m proposal_id\n\u001B[0;32m     16\u001B[0m ])\n\u001B[1;32m---> 17\u001B[0m voting_snapshots_list2 \u001B[38;5;241m=\u001B[39m \u001B[43msg\u001B[49m\u001B[38;5;241;43m.\u001B[39;49m\u001B[43mquery_df\u001B[49m\u001B[43m(\u001B[49m\u001B[43m[\u001B[49m\n\u001B[0;32m     18\u001B[0m \u001B[43m  \u001B[49m\u001B[43mvote_tracker\u001B[49m\u001B[38;5;241;43m.\u001B[39;49m\u001B[43mid\u001B[49m\u001B[43m,\u001B[49m\n\u001B[0;32m     19\u001B[0m \u001B[43m  \u001B[49m\u001B[43mvote_tracker\u001B[49m\u001B[38;5;241;43m.\u001B[39;49m\u001B[43mvoter\u001B[49m\u001B[43m,\u001B[49m\n\u001B[0;32m     20\u001B[0m \u001B[43m  \u001B[49m\u001B[43mvote_tracker\u001B[49m\u001B[38;5;241;43m.\u001B[39;49m\u001B[43mcreated\u001B[49m\u001B[43m,\u001B[49m\n\u001B[0;32m     21\u001B[0m \u001B[43m  \u001B[49m\u001B[43mvote_tracker\u001B[49m\u001B[38;5;241;43m.\u001B[39;49m\u001B[43mchoice\u001B[49m\u001B[43m,\u001B[49m\n\u001B[0;32m     22\u001B[0m \u001B[43m  \u001B[49m\u001B[43mvote_tracker\u001B[49m\u001B[38;5;241;43m.\u001B[39;49m\u001B[43mvp\u001B[49m\n\u001B[0;32m     23\u001B[0m \u001B[43m\u001B[49m\u001B[43m]\u001B[49m\u001B[43m)\u001B[49m\n\u001B[0;32m     24\u001B[0m voting_snapshots_list2[\u001B[38;5;124m'\u001B[39m\u001B[38;5;124mProposal\u001B[39m\u001B[38;5;124m'\u001B[39m] \u001B[38;5;241m=\u001B[39m proposal_id\n\u001B[0;32m     25\u001B[0m voting_snapshots_list \u001B[38;5;241m=\u001B[39m pd\u001B[38;5;241m.\u001B[39mconcat([voting_snapshots_list,voting_snapshots_list2])\n",
      "File \u001B[1;32m~\\PycharmProjects\\pythonProject\\venv\\lib\\site-packages\\subgrounds\\subgrounds.py:322\u001B[0m, in \u001B[0;36mSubgrounds.query_df\u001B[1;34m(self, fpaths, columns, concat, auto_paginate)\u001B[0m\n\u001B[0;32m    261\u001B[0m \u001B[38;5;124;03m\"\"\"Same as :func:`Subgrounds.query` but formats the response data into a\u001B[39;00m\n\u001B[0;32m    262\u001B[0m \u001B[38;5;124;03mPandas DataFrame. If the response data cannot be flattened to a single query\u001B[39;00m\n\u001B[0;32m    263\u001B[0m \u001B[38;5;124;03m(e.g.: when querying multiple list fields that return different entities),\u001B[39;00m\n\u001B[1;32m   (...)\u001B[0m\n\u001B[0;32m    319\u001B[0m \u001B[38;5;124;03m9       1643213196  2610.686563\u001B[39;00m\n\u001B[0;32m    320\u001B[0m \u001B[38;5;124;03m\"\"\"\u001B[39;00m\n\u001B[0;32m    321\u001B[0m fpaths \u001B[38;5;241m=\u001B[39m \u001B[38;5;28mlist\u001B[39m(fpaths \u001B[38;5;241m|\u001B[39m \u001B[38;5;28mmap\u001B[39m(FieldPath\u001B[38;5;241m.\u001B[39m_auto_select) \u001B[38;5;241m|\u001B[39m traverse)\n\u001B[1;32m--> 322\u001B[0m json_data \u001B[38;5;241m=\u001B[39m \u001B[38;5;28;43mself\u001B[39;49m\u001B[38;5;241;43m.\u001B[39;49m\u001B[43mquery_json\u001B[49m\u001B[43m(\u001B[49m\u001B[43mfpaths\u001B[49m\u001B[43m,\u001B[49m\u001B[43m \u001B[49m\u001B[43mauto_paginate\u001B[49m\u001B[38;5;241;43m=\u001B[39;49m\u001B[43mauto_paginate\u001B[49m\u001B[43m)\u001B[49m\n\u001B[0;32m    323\u001B[0m \u001B[38;5;28;01mreturn\u001B[39;00m df_of_json(json_data, fpaths, columns, concat)\n",
      "File \u001B[1;32m~\\PycharmProjects\\pythonProject\\venv\\lib\\site-packages\\subgrounds\\subgrounds.py:231\u001B[0m, in \u001B[0;36mSubgrounds.query_json\u001B[1;34m(self, fpaths, auto_paginate)\u001B[0m\n\u001B[0;32m    229\u001B[0m fpaths \u001B[38;5;241m=\u001B[39m \u001B[38;5;28mlist\u001B[39m(fpaths \u001B[38;5;241m|\u001B[39m \u001B[38;5;28mmap\u001B[39m(FieldPath\u001B[38;5;241m.\u001B[39m_auto_select) \u001B[38;5;241m|\u001B[39m traverse)\n\u001B[0;32m    230\u001B[0m req \u001B[38;5;241m=\u001B[39m \u001B[38;5;28mself\u001B[39m\u001B[38;5;241m.\u001B[39mmk_request(fpaths)\n\u001B[1;32m--> 231\u001B[0m \u001B[38;5;28;01mreturn\u001B[39;00m \u001B[38;5;28;43mself\u001B[39;49m\u001B[38;5;241;43m.\u001B[39;49m\u001B[43mexecute\u001B[49m\u001B[43m(\u001B[49m\u001B[43mreq\u001B[49m\u001B[43m,\u001B[49m\u001B[43m \u001B[49m\u001B[43mauto_paginate\u001B[49m\u001B[38;5;241;43m=\u001B[39;49m\u001B[43mauto_paginate\u001B[49m\u001B[43m)\u001B[49m\n",
      "File \u001B[1;32m~\\PycharmProjects\\pythonProject\\venv\\lib\\site-packages\\subgrounds\\subgrounds.py:164\u001B[0m, in \u001B[0;36mSubgrounds.execute\u001B[1;34m(self, req, auto_paginate)\u001B[0m\n\u001B[0;32m    154\u001B[0m   \u001B[38;5;28;01mmatch\u001B[39;00m transforms:\n\u001B[0;32m    155\u001B[0m     \u001B[38;5;28;01mcase\u001B[39;00m []:\n\u001B[0;32m    156\u001B[0m       \u001B[38;5;28;01mreturn\u001B[39;00m \u001B[38;5;28mlist\u001B[39m(req\u001B[38;5;241m.\u001B[39mdocuments \u001B[38;5;241m|\u001B[39m \u001B[38;5;28mmap\u001B[39m(\u001B[38;5;28;01mlambda\u001B[39;00m doc: transform_doc(\u001B[38;5;28mself\u001B[39m\u001B[38;5;241m.\u001B[39msubgraphs[doc\u001B[38;5;241m.\u001B[39murl]\u001B[38;5;241m.\u001B[39m_transforms, doc)))\n\u001B[1;32m   (...)\u001B[0m\n\u001B[0;32m    159\u001B[0m       data \u001B[38;5;241m=\u001B[39m transform_req(rest, new_req)\n\u001B[0;32m    160\u001B[0m       \u001B[38;5;28;01mreturn\u001B[39;00m transform\u001B[38;5;241m.\u001B[39mtransform_response(req, data)\n\u001B[0;32m    162\u001B[0m   \u001B[38;5;28;01massert\u001B[39;00m \u001B[38;5;28;01mFalse\u001B[39;00m  \u001B[38;5;66;03m# Suppress mypy missing return statement warning\u001B[39;00m\n\u001B[1;32m--> 164\u001B[0m \u001B[38;5;28;01mreturn\u001B[39;00m \u001B[43mtransform_req\u001B[49m\u001B[43m(\u001B[49m\u001B[38;5;28;43mself\u001B[39;49m\u001B[38;5;241;43m.\u001B[39;49m\u001B[43mglobal_transforms\u001B[49m\u001B[43m,\u001B[49m\u001B[43m \u001B[49m\u001B[43mreq\u001B[49m\u001B[43m)\u001B[49m\n",
      "File \u001B[1;32m~\\PycharmProjects\\pythonProject\\venv\\lib\\site-packages\\subgrounds\\subgrounds.py:156\u001B[0m, in \u001B[0;36mSubgrounds.execute.<locals>.transform_req\u001B[1;34m(transforms, req)\u001B[0m\n\u001B[0;32m    153\u001B[0m \u001B[38;5;28;01mdef\u001B[39;00m \u001B[38;5;21mtransform_req\u001B[39m(transforms: \u001B[38;5;28mlist\u001B[39m[RequestTransform], req: DataRequest) \u001B[38;5;241m-\u001B[39m\u001B[38;5;241m>\u001B[39m \u001B[38;5;28mlist\u001B[39m[\u001B[38;5;28mdict\u001B[39m]:\n\u001B[0;32m    154\u001B[0m   \u001B[38;5;28;01mmatch\u001B[39;00m transforms:\n\u001B[0;32m    155\u001B[0m     \u001B[38;5;28;01mcase\u001B[39;00m []:\n\u001B[1;32m--> 156\u001B[0m       \u001B[38;5;28;01mreturn\u001B[39;00m \u001B[38;5;28;43mlist\u001B[39;49m\u001B[43m(\u001B[49m\u001B[43mreq\u001B[49m\u001B[38;5;241;43m.\u001B[39;49m\u001B[43mdocuments\u001B[49m\u001B[43m \u001B[49m\u001B[38;5;241;43m|\u001B[39;49m\u001B[43m \u001B[49m\u001B[38;5;28;43mmap\u001B[39;49m\u001B[43m(\u001B[49m\u001B[38;5;28;43;01mlambda\u001B[39;49;00m\u001B[43m \u001B[49m\u001B[43mdoc\u001B[49m\u001B[43m:\u001B[49m\u001B[43m \u001B[49m\u001B[43mtransform_doc\u001B[49m\u001B[43m(\u001B[49m\u001B[38;5;28;43mself\u001B[39;49m\u001B[38;5;241;43m.\u001B[39;49m\u001B[43msubgraphs\u001B[49m\u001B[43m[\u001B[49m\u001B[43mdoc\u001B[49m\u001B[38;5;241;43m.\u001B[39;49m\u001B[43murl\u001B[49m\u001B[43m]\u001B[49m\u001B[38;5;241;43m.\u001B[39;49m\u001B[43m_transforms\u001B[49m\u001B[43m,\u001B[49m\u001B[43m \u001B[49m\u001B[43mdoc\u001B[49m\u001B[43m)\u001B[49m\u001B[43m)\u001B[49m\u001B[43m)\u001B[49m\n\u001B[0;32m    157\u001B[0m     \u001B[38;5;28;01mcase\u001B[39;00m [transform, \u001B[38;5;241m*\u001B[39mrest]:\n\u001B[0;32m    158\u001B[0m       new_req \u001B[38;5;241m=\u001B[39m transform\u001B[38;5;241m.\u001B[39mtransform_request(req)\n\u001B[0;32m    159\u001B[0m       data \u001B[38;5;241m=\u001B[39m transform_req(rest, new_req)\n\u001B[0;32m    160\u001B[0m       \u001B[38;5;28;01mreturn\u001B[39;00m transform\u001B[38;5;241m.\u001B[39mtransform_response(req, data)\n\u001B[0;32m    162\u001B[0m   \u001B[38;5;28;01massert\u001B[39;00m \u001B[38;5;28;01mFalse\u001B[39;00m\n",
      "File \u001B[1;32m~\\PycharmProjects\\pythonProject\\venv\\lib\\site-packages\\subgrounds\\subgrounds.py:156\u001B[0m, in \u001B[0;36mSubgrounds.execute.<locals>.transform_req.<locals>.<lambda>\u001B[1;34m(doc)\u001B[0m\n\u001B[0;32m    153\u001B[0m \u001B[38;5;28;01mdef\u001B[39;00m \u001B[38;5;21mtransform_req\u001B[39m(transforms: \u001B[38;5;28mlist\u001B[39m[RequestTransform], req: DataRequest) \u001B[38;5;241m-\u001B[39m\u001B[38;5;241m>\u001B[39m \u001B[38;5;28mlist\u001B[39m[\u001B[38;5;28mdict\u001B[39m]:\n\u001B[0;32m    154\u001B[0m   \u001B[38;5;28;01mmatch\u001B[39;00m transforms:\n\u001B[0;32m    155\u001B[0m     \u001B[38;5;28;01mcase\u001B[39;00m []:\n\u001B[1;32m--> 156\u001B[0m       \u001B[38;5;28;01mreturn\u001B[39;00m \u001B[38;5;28mlist\u001B[39m(req\u001B[38;5;241m.\u001B[39mdocuments \u001B[38;5;241m|\u001B[39m \u001B[38;5;28mmap\u001B[39m(\u001B[38;5;28;01mlambda\u001B[39;00m doc: \u001B[43mtransform_doc\u001B[49m\u001B[43m(\u001B[49m\u001B[38;5;28;43mself\u001B[39;49m\u001B[38;5;241;43m.\u001B[39;49m\u001B[43msubgraphs\u001B[49m\u001B[43m[\u001B[49m\u001B[43mdoc\u001B[49m\u001B[38;5;241;43m.\u001B[39;49m\u001B[43murl\u001B[49m\u001B[43m]\u001B[49m\u001B[38;5;241;43m.\u001B[39;49m\u001B[43m_transforms\u001B[49m\u001B[43m,\u001B[49m\u001B[43m \u001B[49m\u001B[43mdoc\u001B[49m\u001B[43m)\u001B[49m))\n\u001B[0;32m    157\u001B[0m     \u001B[38;5;28;01mcase\u001B[39;00m [transform, \u001B[38;5;241m*\u001B[39mrest]:\n\u001B[0;32m    158\u001B[0m       new_req \u001B[38;5;241m=\u001B[39m transform\u001B[38;5;241m.\u001B[39mtransform_request(req)\n\u001B[0;32m    159\u001B[0m       data \u001B[38;5;241m=\u001B[39m transform_req(rest, new_req)\n\u001B[0;32m    160\u001B[0m       \u001B[38;5;28;01mreturn\u001B[39;00m transform\u001B[38;5;241m.\u001B[39mtransform_response(req, data)\n\u001B[0;32m    162\u001B[0m   \u001B[38;5;28;01massert\u001B[39;00m \u001B[38;5;28;01mFalse\u001B[39;00m\n",
      "File \u001B[1;32m~\\PycharmProjects\\pythonProject\\venv\\lib\\site-packages\\subgrounds\\subgrounds.py:148\u001B[0m, in \u001B[0;36mSubgrounds.execute.<locals>.transform_doc\u001B[1;34m(transforms, doc)\u001B[0m\n\u001B[0;32m    141\u001B[0m \u001B[38;5;28;01mdef\u001B[39;00m \u001B[38;5;21mtransform_doc\u001B[39m(transforms: \u001B[38;5;28mlist\u001B[39m[DocumentTransform], doc: Document) \u001B[38;5;241m-\u001B[39m\u001B[38;5;241m>\u001B[39m \u001B[38;5;28mdict\u001B[39m:\n\u001B[0;32m    142\u001B[0m   logger\u001B[38;5;241m.\u001B[39mdebug(\u001B[38;5;124mf\u001B[39m\u001B[38;5;124m'\u001B[39m\u001B[38;5;124mexecute.transform_doc: doc = \u001B[39m\u001B[38;5;130;01m\\n\u001B[39;00m\u001B[38;5;132;01m{\u001B[39;00mdoc\u001B[38;5;241m.\u001B[39mgraphql\u001B[38;5;132;01m}\u001B[39;00m\u001B[38;5;124m'\u001B[39m)\n\u001B[0;32m    143\u001B[0m   \u001B[38;5;28;01mmatch\u001B[39;00m transforms:\n\u001B[0;32m    144\u001B[0m     \u001B[38;5;28;01mcase\u001B[39;00m []:\n\u001B[0;32m    145\u001B[0m       \u001B[38;5;28;01mreturn\u001B[39;00m execute_document(doc)\n\u001B[0;32m    146\u001B[0m     \u001B[38;5;28;01mcase\u001B[39;00m [transform, \u001B[38;5;241m*\u001B[39mrest]:\n\u001B[0;32m    147\u001B[0m       new_doc \u001B[38;5;241m=\u001B[39m transform\u001B[38;5;241m.\u001B[39mtransform_document(doc)\n\u001B[1;32m--> 148\u001B[0m       data \u001B[38;5;241m=\u001B[39m \u001B[43mtransform_doc\u001B[49m\u001B[43m(\u001B[49m\u001B[43mrest\u001B[49m\u001B[43m,\u001B[49m\u001B[43m \u001B[49m\u001B[43mnew_doc\u001B[49m\u001B[43m)\u001B[49m\n\u001B[0;32m    149\u001B[0m       \u001B[38;5;28;01mreturn\u001B[39;00m transform\u001B[38;5;241m.\u001B[39mtransform_response(doc, data)\n\u001B[0;32m    151\u001B[0m   \u001B[38;5;28;01massert\u001B[39;00m \u001B[38;5;28;01mFalse\u001B[39;00m\n",
      "File \u001B[1;32m~\\PycharmProjects\\pythonProject\\venv\\lib\\site-packages\\subgrounds\\subgrounds.py:148\u001B[0m, in \u001B[0;36mSubgrounds.execute.<locals>.transform_doc\u001B[1;34m(transforms, doc)\u001B[0m\n\u001B[0;32m    141\u001B[0m \u001B[38;5;28;01mdef\u001B[39;00m \u001B[38;5;21mtransform_doc\u001B[39m(transforms: \u001B[38;5;28mlist\u001B[39m[DocumentTransform], doc: Document) \u001B[38;5;241m-\u001B[39m\u001B[38;5;241m>\u001B[39m \u001B[38;5;28mdict\u001B[39m:\n\u001B[0;32m    142\u001B[0m   logger\u001B[38;5;241m.\u001B[39mdebug(\u001B[38;5;124mf\u001B[39m\u001B[38;5;124m'\u001B[39m\u001B[38;5;124mexecute.transform_doc: doc = \u001B[39m\u001B[38;5;130;01m\\n\u001B[39;00m\u001B[38;5;132;01m{\u001B[39;00mdoc\u001B[38;5;241m.\u001B[39mgraphql\u001B[38;5;132;01m}\u001B[39;00m\u001B[38;5;124m'\u001B[39m)\n\u001B[0;32m    143\u001B[0m   \u001B[38;5;28;01mmatch\u001B[39;00m transforms:\n\u001B[0;32m    144\u001B[0m     \u001B[38;5;28;01mcase\u001B[39;00m []:\n\u001B[0;32m    145\u001B[0m       \u001B[38;5;28;01mreturn\u001B[39;00m execute_document(doc)\n\u001B[0;32m    146\u001B[0m     \u001B[38;5;28;01mcase\u001B[39;00m [transform, \u001B[38;5;241m*\u001B[39mrest]:\n\u001B[0;32m    147\u001B[0m       new_doc \u001B[38;5;241m=\u001B[39m transform\u001B[38;5;241m.\u001B[39mtransform_document(doc)\n\u001B[1;32m--> 148\u001B[0m       data \u001B[38;5;241m=\u001B[39m \u001B[43mtransform_doc\u001B[49m\u001B[43m(\u001B[49m\u001B[43mrest\u001B[49m\u001B[43m,\u001B[49m\u001B[43m \u001B[49m\u001B[43mnew_doc\u001B[49m\u001B[43m)\u001B[49m\n\u001B[0;32m    149\u001B[0m       \u001B[38;5;28;01mreturn\u001B[39;00m transform\u001B[38;5;241m.\u001B[39mtransform_response(doc, data)\n\u001B[0;32m    151\u001B[0m   \u001B[38;5;28;01massert\u001B[39;00m \u001B[38;5;28;01mFalse\u001B[39;00m\n",
      "File \u001B[1;32m~\\PycharmProjects\\pythonProject\\venv\\lib\\site-packages\\subgrounds\\subgrounds.py:148\u001B[0m, in \u001B[0;36mSubgrounds.execute.<locals>.transform_doc\u001B[1;34m(transforms, doc)\u001B[0m\n\u001B[0;32m    141\u001B[0m \u001B[38;5;28;01mdef\u001B[39;00m \u001B[38;5;21mtransform_doc\u001B[39m(transforms: \u001B[38;5;28mlist\u001B[39m[DocumentTransform], doc: Document) \u001B[38;5;241m-\u001B[39m\u001B[38;5;241m>\u001B[39m \u001B[38;5;28mdict\u001B[39m:\n\u001B[0;32m    142\u001B[0m   logger\u001B[38;5;241m.\u001B[39mdebug(\u001B[38;5;124mf\u001B[39m\u001B[38;5;124m'\u001B[39m\u001B[38;5;124mexecute.transform_doc: doc = \u001B[39m\u001B[38;5;130;01m\\n\u001B[39;00m\u001B[38;5;132;01m{\u001B[39;00mdoc\u001B[38;5;241m.\u001B[39mgraphql\u001B[38;5;132;01m}\u001B[39;00m\u001B[38;5;124m'\u001B[39m)\n\u001B[0;32m    143\u001B[0m   \u001B[38;5;28;01mmatch\u001B[39;00m transforms:\n\u001B[0;32m    144\u001B[0m     \u001B[38;5;28;01mcase\u001B[39;00m []:\n\u001B[0;32m    145\u001B[0m       \u001B[38;5;28;01mreturn\u001B[39;00m execute_document(doc)\n\u001B[0;32m    146\u001B[0m     \u001B[38;5;28;01mcase\u001B[39;00m [transform, \u001B[38;5;241m*\u001B[39mrest]:\n\u001B[0;32m    147\u001B[0m       new_doc \u001B[38;5;241m=\u001B[39m transform\u001B[38;5;241m.\u001B[39mtransform_document(doc)\n\u001B[1;32m--> 148\u001B[0m       data \u001B[38;5;241m=\u001B[39m \u001B[43mtransform_doc\u001B[49m\u001B[43m(\u001B[49m\u001B[43mrest\u001B[49m\u001B[43m,\u001B[49m\u001B[43m \u001B[49m\u001B[43mnew_doc\u001B[49m\u001B[43m)\u001B[49m\n\u001B[0;32m    149\u001B[0m       \u001B[38;5;28;01mreturn\u001B[39;00m transform\u001B[38;5;241m.\u001B[39mtransform_response(doc, data)\n\u001B[0;32m    151\u001B[0m   \u001B[38;5;28;01massert\u001B[39;00m \u001B[38;5;28;01mFalse\u001B[39;00m\n",
      "File \u001B[1;32m~\\PycharmProjects\\pythonProject\\venv\\lib\\site-packages\\subgrounds\\subgrounds.py:145\u001B[0m, in \u001B[0;36mSubgrounds.execute.<locals>.transform_doc\u001B[1;34m(transforms, doc)\u001B[0m\n\u001B[0;32m    141\u001B[0m \u001B[38;5;28;01mdef\u001B[39;00m \u001B[38;5;21mtransform_doc\u001B[39m(transforms: \u001B[38;5;28mlist\u001B[39m[DocumentTransform], doc: Document) \u001B[38;5;241m-\u001B[39m\u001B[38;5;241m>\u001B[39m \u001B[38;5;28mdict\u001B[39m:\n\u001B[0;32m    142\u001B[0m   logger\u001B[38;5;241m.\u001B[39mdebug(\u001B[38;5;124mf\u001B[39m\u001B[38;5;124m'\u001B[39m\u001B[38;5;124mexecute.transform_doc: doc = \u001B[39m\u001B[38;5;130;01m\\n\u001B[39;00m\u001B[38;5;132;01m{\u001B[39;00mdoc\u001B[38;5;241m.\u001B[39mgraphql\u001B[38;5;132;01m}\u001B[39;00m\u001B[38;5;124m'\u001B[39m)\n\u001B[0;32m    143\u001B[0m   \u001B[38;5;28;01mmatch\u001B[39;00m transforms:\n\u001B[0;32m    144\u001B[0m     \u001B[38;5;28;01mcase\u001B[39;00m []:\n\u001B[1;32m--> 145\u001B[0m       \u001B[38;5;28;01mreturn\u001B[39;00m \u001B[43mexecute_document\u001B[49m\u001B[43m(\u001B[49m\u001B[43mdoc\u001B[49m\u001B[43m)\u001B[49m\n\u001B[0;32m    146\u001B[0m     \u001B[38;5;28;01mcase\u001B[39;00m [transform, \u001B[38;5;241m*\u001B[39mrest]:\n\u001B[0;32m    147\u001B[0m       new_doc \u001B[38;5;241m=\u001B[39m transform\u001B[38;5;241m.\u001B[39mtransform_document(doc)\n\u001B[0;32m    148\u001B[0m       data \u001B[38;5;241m=\u001B[39m transform_doc(rest, new_doc)\n\u001B[0;32m    149\u001B[0m       \u001B[38;5;28;01mreturn\u001B[39;00m transform\u001B[38;5;241m.\u001B[39mtransform_response(doc, data)\n\u001B[0;32m    151\u001B[0m   \u001B[38;5;28;01massert\u001B[39;00m \u001B[38;5;28;01mFalse\u001B[39;00m\n",
      "File \u001B[1;32m~\\PycharmProjects\\pythonProject\\venv\\lib\\site-packages\\subgrounds\\subgrounds.py:139\u001B[0m, in \u001B[0;36mSubgrounds.execute.<locals>.execute_document\u001B[1;34m(doc)\u001B[0m\n\u001B[0;32m    137\u001B[0m   \u001B[38;5;28;01mreturn\u001B[39;00m pagination\u001B[38;5;241m.\u001B[39mpaginate(subgraph\u001B[38;5;241m.\u001B[39m_schema, doc)\n\u001B[0;32m    138\u001B[0m \u001B[38;5;28;01melse\u001B[39;00m:\n\u001B[1;32m--> 139\u001B[0m   \u001B[38;5;28;01mreturn\u001B[39;00m \u001B[43mclient\u001B[49m\u001B[38;5;241;43m.\u001B[39;49m\u001B[43mquery\u001B[49m\u001B[43m(\u001B[49m\u001B[43mdoc\u001B[49m\u001B[38;5;241;43m.\u001B[39;49m\u001B[43murl\u001B[49m\u001B[43m,\u001B[49m\u001B[43m \u001B[49m\u001B[43mdoc\u001B[49m\u001B[38;5;241;43m.\u001B[39;49m\u001B[43mgraphql\u001B[49m\u001B[43m,\u001B[49m\u001B[43m \u001B[49m\u001B[43mvariables\u001B[49m\u001B[38;5;241;43m=\u001B[39;49m\u001B[43mdoc\u001B[49m\u001B[38;5;241;43m.\u001B[39;49m\u001B[43mvariables\u001B[49m\u001B[43m)\u001B[49m\n",
      "File \u001B[1;32m~\\PycharmProjects\\pythonProject\\venv\\lib\\site-packages\\subgrounds\\client.py:154\u001B[0m, in \u001B[0;36mquery\u001B[1;34m(url, query_str, variables)\u001B[0m\n\u001B[0;32m    134\u001B[0m \u001B[38;5;124;03m\"\"\" Executes the GraphQL query :attr:`query_str` with variables\u001B[39;00m\n\u001B[0;32m    135\u001B[0m \u001B[38;5;124;03m:attr:`variables` against the API served at :attr:`url` and returns the\u001B[39;00m\n\u001B[0;32m    136\u001B[0m \u001B[38;5;124;03mresponse data. In case of errors, an exception containing the error message is\u001B[39;00m\n\u001B[1;32m   (...)\u001B[0m\n\u001B[0;32m    149\u001B[0m \u001B[38;5;124;03m  dict[str, Any]: Response data\u001B[39;00m\n\u001B[0;32m    150\u001B[0m \u001B[38;5;124;03m\"\"\"\u001B[39;00m\n\u001B[0;32m    151\u001B[0m logger\u001B[38;5;241m.\u001B[39minfo(\n\u001B[0;32m    152\u001B[0m   \u001B[38;5;124mf\u001B[39m\u001B[38;5;124m'\u001B[39m\u001B[38;5;124mclient.query: url = \u001B[39m\u001B[38;5;132;01m{\u001B[39;00murl\u001B[38;5;132;01m}\u001B[39;00m\u001B[38;5;124m, variables = \u001B[39m\u001B[38;5;132;01m{\u001B[39;00mvariables\u001B[38;5;132;01m}\u001B[39;00m\u001B[38;5;130;01m\\n\u001B[39;00m\u001B[38;5;132;01m{\u001B[39;00mquery_str\u001B[38;5;132;01m}\u001B[39;00m\u001B[38;5;124m'\u001B[39m\n\u001B[0;32m    153\u001B[0m )\n\u001B[1;32m--> 154\u001B[0m resp \u001B[38;5;241m=\u001B[39m \u001B[43mrequests\u001B[49m\u001B[38;5;241;43m.\u001B[39;49m\u001B[43mpost\u001B[49m\u001B[43m(\u001B[49m\n\u001B[0;32m    155\u001B[0m \u001B[43m  \u001B[49m\u001B[43murl\u001B[49m\u001B[43m,\u001B[49m\n\u001B[0;32m    156\u001B[0m \u001B[43m  \u001B[49m\u001B[43mjson\u001B[49m\u001B[38;5;241;43m=\u001B[39;49m\u001B[43m(\u001B[49m\n\u001B[0;32m    157\u001B[0m \u001B[43m    \u001B[49m\u001B[43m{\u001B[49m\u001B[38;5;124;43m'\u001B[39;49m\u001B[38;5;124;43mquery\u001B[39;49m\u001B[38;5;124;43m'\u001B[39;49m\u001B[43m:\u001B[49m\u001B[43m \u001B[49m\u001B[43mquery_str\u001B[49m\u001B[43m}\u001B[49m\n\u001B[0;32m    158\u001B[0m \u001B[43m    \u001B[49m\u001B[38;5;28;43;01mif\u001B[39;49;00m\u001B[43m \u001B[49m\u001B[43mvariables\u001B[49m\u001B[43m \u001B[49m\u001B[38;5;241;43m==\u001B[39;49m\u001B[43m \u001B[49m\u001B[43m{\u001B[49m\u001B[43m}\u001B[49m\n\u001B[0;32m    159\u001B[0m \u001B[43m    \u001B[49m\u001B[38;5;28;43;01melse\u001B[39;49;00m\u001B[43m \u001B[49m\u001B[43m{\u001B[49m\u001B[38;5;124;43m'\u001B[39;49m\u001B[38;5;124;43mquery\u001B[39;49m\u001B[38;5;124;43m'\u001B[39;49m\u001B[43m:\u001B[49m\u001B[43m \u001B[49m\u001B[43mquery_str\u001B[49m\u001B[43m,\u001B[49m\u001B[43m \u001B[49m\u001B[38;5;124;43m'\u001B[39;49m\u001B[38;5;124;43mvariables\u001B[39;49m\u001B[38;5;124;43m'\u001B[39;49m\u001B[43m:\u001B[49m\u001B[43m \u001B[49m\u001B[43mvariables\u001B[49m\u001B[43m}\u001B[49m\n\u001B[0;32m    160\u001B[0m \u001B[43m  \u001B[49m\u001B[43m)\u001B[49m\u001B[43m,\u001B[49m\n\u001B[0;32m    161\u001B[0m \u001B[43m  \u001B[49m\u001B[43mheaders\u001B[49m\u001B[38;5;241;43m=\u001B[39;49m\u001B[43m{\u001B[49m\u001B[38;5;124;43m'\u001B[39;49m\u001B[38;5;124;43mContent-Type\u001B[39;49m\u001B[38;5;124;43m'\u001B[39;49m\u001B[43m:\u001B[49m\u001B[43m \u001B[49m\u001B[38;5;124;43m'\u001B[39;49m\u001B[38;5;124;43mapplication/json\u001B[39;49m\u001B[38;5;124;43m'\u001B[39;49m\u001B[43m}\u001B[49m\n\u001B[0;32m    162\u001B[0m \u001B[43m\u001B[49m\u001B[43m)\u001B[49m\u001B[38;5;241m.\u001B[39mjson()\n\u001B[0;32m    164\u001B[0m \u001B[38;5;28;01mtry\u001B[39;00m:\n\u001B[0;32m    165\u001B[0m   \u001B[38;5;28;01mreturn\u001B[39;00m resp[\u001B[38;5;124m'\u001B[39m\u001B[38;5;124mdata\u001B[39m\u001B[38;5;124m'\u001B[39m]\n",
      "File \u001B[1;32m~\\PycharmProjects\\pythonProject\\venv\\lib\\site-packages\\requests\\api.py:117\u001B[0m, in \u001B[0;36mpost\u001B[1;34m(url, data, json, **kwargs)\u001B[0m\n\u001B[0;32m    105\u001B[0m \u001B[38;5;28;01mdef\u001B[39;00m \u001B[38;5;21mpost\u001B[39m(url, data\u001B[38;5;241m=\u001B[39m\u001B[38;5;28;01mNone\u001B[39;00m, json\u001B[38;5;241m=\u001B[39m\u001B[38;5;28;01mNone\u001B[39;00m, \u001B[38;5;241m*\u001B[39m\u001B[38;5;241m*\u001B[39mkwargs):\n\u001B[0;32m    106\u001B[0m     \u001B[38;5;124mr\u001B[39m\u001B[38;5;124;03m\"\"\"Sends a POST request.\u001B[39;00m\n\u001B[0;32m    107\u001B[0m \n\u001B[0;32m    108\u001B[0m \u001B[38;5;124;03m    :param url: URL for the new :class:`Request` object.\u001B[39;00m\n\u001B[1;32m   (...)\u001B[0m\n\u001B[0;32m    114\u001B[0m \u001B[38;5;124;03m    :rtype: requests.Response\u001B[39;00m\n\u001B[0;32m    115\u001B[0m \u001B[38;5;124;03m    \"\"\"\u001B[39;00m\n\u001B[1;32m--> 117\u001B[0m     \u001B[38;5;28;01mreturn\u001B[39;00m request(\u001B[38;5;124m'\u001B[39m\u001B[38;5;124mpost\u001B[39m\u001B[38;5;124m'\u001B[39m, url, data\u001B[38;5;241m=\u001B[39mdata, json\u001B[38;5;241m=\u001B[39mjson, \u001B[38;5;241m*\u001B[39m\u001B[38;5;241m*\u001B[39mkwargs)\n",
      "File \u001B[1;32m~\\PycharmProjects\\pythonProject\\venv\\lib\\site-packages\\requests\\api.py:61\u001B[0m, in \u001B[0;36mrequest\u001B[1;34m(method, url, **kwargs)\u001B[0m\n\u001B[0;32m     57\u001B[0m \u001B[38;5;66;03m# By using the 'with' statement we are sure the session is closed, thus we\u001B[39;00m\n\u001B[0;32m     58\u001B[0m \u001B[38;5;66;03m# avoid leaving sockets open which can trigger a ResourceWarning in some\u001B[39;00m\n\u001B[0;32m     59\u001B[0m \u001B[38;5;66;03m# cases, and look like a memory leak in others.\u001B[39;00m\n\u001B[0;32m     60\u001B[0m \u001B[38;5;28;01mwith\u001B[39;00m sessions\u001B[38;5;241m.\u001B[39mSession() \u001B[38;5;28;01mas\u001B[39;00m session:\n\u001B[1;32m---> 61\u001B[0m     \u001B[38;5;28;01mreturn\u001B[39;00m session\u001B[38;5;241m.\u001B[39mrequest(method\u001B[38;5;241m=\u001B[39mmethod, url\u001B[38;5;241m=\u001B[39murl, \u001B[38;5;241m*\u001B[39m\u001B[38;5;241m*\u001B[39mkwargs)\n",
      "File \u001B[1;32m~\\PycharmProjects\\pythonProject\\venv\\lib\\site-packages\\requests\\sessions.py:529\u001B[0m, in \u001B[0;36mSession.request\u001B[1;34m(self, method, url, params, data, headers, cookies, files, auth, timeout, allow_redirects, proxies, hooks, stream, verify, cert, json)\u001B[0m\n\u001B[0;32m    524\u001B[0m send_kwargs \u001B[38;5;241m=\u001B[39m {\n\u001B[0;32m    525\u001B[0m     \u001B[38;5;124m'\u001B[39m\u001B[38;5;124mtimeout\u001B[39m\u001B[38;5;124m'\u001B[39m: timeout,\n\u001B[0;32m    526\u001B[0m     \u001B[38;5;124m'\u001B[39m\u001B[38;5;124mallow_redirects\u001B[39m\u001B[38;5;124m'\u001B[39m: allow_redirects,\n\u001B[0;32m    527\u001B[0m }\n\u001B[0;32m    528\u001B[0m send_kwargs\u001B[38;5;241m.\u001B[39mupdate(settings)\n\u001B[1;32m--> 529\u001B[0m resp \u001B[38;5;241m=\u001B[39m \u001B[38;5;28mself\u001B[39m\u001B[38;5;241m.\u001B[39msend(prep, \u001B[38;5;241m*\u001B[39m\u001B[38;5;241m*\u001B[39msend_kwargs)\n\u001B[0;32m    531\u001B[0m \u001B[38;5;28;01mreturn\u001B[39;00m resp\n",
      "File \u001B[1;32m~\\PycharmProjects\\pythonProject\\venv\\lib\\site-packages\\requests\\sessions.py:645\u001B[0m, in \u001B[0;36mSession.send\u001B[1;34m(self, request, **kwargs)\u001B[0m\n\u001B[0;32m    642\u001B[0m start \u001B[38;5;241m=\u001B[39m preferred_clock()\n\u001B[0;32m    644\u001B[0m \u001B[38;5;66;03m# Send the request\u001B[39;00m\n\u001B[1;32m--> 645\u001B[0m r \u001B[38;5;241m=\u001B[39m adapter\u001B[38;5;241m.\u001B[39msend(request, \u001B[38;5;241m*\u001B[39m\u001B[38;5;241m*\u001B[39mkwargs)\n\u001B[0;32m    647\u001B[0m \u001B[38;5;66;03m# Total elapsed time of the request (approximately)\u001B[39;00m\n\u001B[0;32m    648\u001B[0m elapsed \u001B[38;5;241m=\u001B[39m preferred_clock() \u001B[38;5;241m-\u001B[39m start\n",
      "File \u001B[1;32m~\\PycharmProjects\\pythonProject\\venv\\lib\\site-packages\\requests\\adapters.py:440\u001B[0m, in \u001B[0;36mHTTPAdapter.send\u001B[1;34m(self, request, stream, timeout, verify, cert, proxies)\u001B[0m\n\u001B[0;32m    438\u001B[0m \u001B[38;5;28;01mtry\u001B[39;00m:\n\u001B[0;32m    439\u001B[0m     \u001B[38;5;28;01mif\u001B[39;00m \u001B[38;5;129;01mnot\u001B[39;00m chunked:\n\u001B[1;32m--> 440\u001B[0m         resp \u001B[38;5;241m=\u001B[39m \u001B[43mconn\u001B[49m\u001B[38;5;241;43m.\u001B[39;49m\u001B[43murlopen\u001B[49m\u001B[43m(\u001B[49m\n\u001B[0;32m    441\u001B[0m \u001B[43m            \u001B[49m\u001B[43mmethod\u001B[49m\u001B[38;5;241;43m=\u001B[39;49m\u001B[43mrequest\u001B[49m\u001B[38;5;241;43m.\u001B[39;49m\u001B[43mmethod\u001B[49m\u001B[43m,\u001B[49m\n\u001B[0;32m    442\u001B[0m \u001B[43m            \u001B[49m\u001B[43murl\u001B[49m\u001B[38;5;241;43m=\u001B[39;49m\u001B[43murl\u001B[49m\u001B[43m,\u001B[49m\n\u001B[0;32m    443\u001B[0m \u001B[43m            \u001B[49m\u001B[43mbody\u001B[49m\u001B[38;5;241;43m=\u001B[39;49m\u001B[43mrequest\u001B[49m\u001B[38;5;241;43m.\u001B[39;49m\u001B[43mbody\u001B[49m\u001B[43m,\u001B[49m\n\u001B[0;32m    444\u001B[0m \u001B[43m            \u001B[49m\u001B[43mheaders\u001B[49m\u001B[38;5;241;43m=\u001B[39;49m\u001B[43mrequest\u001B[49m\u001B[38;5;241;43m.\u001B[39;49m\u001B[43mheaders\u001B[49m\u001B[43m,\u001B[49m\n\u001B[0;32m    445\u001B[0m \u001B[43m            \u001B[49m\u001B[43mredirect\u001B[49m\u001B[38;5;241;43m=\u001B[39;49m\u001B[38;5;28;43;01mFalse\u001B[39;49;00m\u001B[43m,\u001B[49m\n\u001B[0;32m    446\u001B[0m \u001B[43m            \u001B[49m\u001B[43massert_same_host\u001B[49m\u001B[38;5;241;43m=\u001B[39;49m\u001B[38;5;28;43;01mFalse\u001B[39;49;00m\u001B[43m,\u001B[49m\n\u001B[0;32m    447\u001B[0m \u001B[43m            \u001B[49m\u001B[43mpreload_content\u001B[49m\u001B[38;5;241;43m=\u001B[39;49m\u001B[38;5;28;43;01mFalse\u001B[39;49;00m\u001B[43m,\u001B[49m\n\u001B[0;32m    448\u001B[0m \u001B[43m            \u001B[49m\u001B[43mdecode_content\u001B[49m\u001B[38;5;241;43m=\u001B[39;49m\u001B[38;5;28;43;01mFalse\u001B[39;49;00m\u001B[43m,\u001B[49m\n\u001B[0;32m    449\u001B[0m \u001B[43m            \u001B[49m\u001B[43mretries\u001B[49m\u001B[38;5;241;43m=\u001B[39;49m\u001B[38;5;28;43mself\u001B[39;49m\u001B[38;5;241;43m.\u001B[39;49m\u001B[43mmax_retries\u001B[49m\u001B[43m,\u001B[49m\n\u001B[0;32m    450\u001B[0m \u001B[43m            \u001B[49m\u001B[43mtimeout\u001B[49m\u001B[38;5;241;43m=\u001B[39;49m\u001B[43mtimeout\u001B[49m\n\u001B[0;32m    451\u001B[0m \u001B[43m        \u001B[49m\u001B[43m)\u001B[49m\n\u001B[0;32m    453\u001B[0m     \u001B[38;5;66;03m# Send the request.\u001B[39;00m\n\u001B[0;32m    454\u001B[0m     \u001B[38;5;28;01melse\u001B[39;00m:\n\u001B[0;32m    455\u001B[0m         \u001B[38;5;28;01mif\u001B[39;00m \u001B[38;5;28mhasattr\u001B[39m(conn, \u001B[38;5;124m'\u001B[39m\u001B[38;5;124mproxy_pool\u001B[39m\u001B[38;5;124m'\u001B[39m):\n",
      "File \u001B[1;32m~\\PycharmProjects\\pythonProject\\venv\\lib\\site-packages\\urllib3\\connectionpool.py:703\u001B[0m, in \u001B[0;36mHTTPConnectionPool.urlopen\u001B[1;34m(self, method, url, body, headers, retries, redirect, assert_same_host, timeout, pool_timeout, release_conn, chunked, body_pos, **response_kw)\u001B[0m\n\u001B[0;32m    700\u001B[0m     \u001B[38;5;28mself\u001B[39m\u001B[38;5;241m.\u001B[39m_prepare_proxy(conn)\n\u001B[0;32m    702\u001B[0m \u001B[38;5;66;03m# Make the request on the httplib connection object.\u001B[39;00m\n\u001B[1;32m--> 703\u001B[0m httplib_response \u001B[38;5;241m=\u001B[39m \u001B[38;5;28;43mself\u001B[39;49m\u001B[38;5;241;43m.\u001B[39;49m\u001B[43m_make_request\u001B[49m\u001B[43m(\u001B[49m\n\u001B[0;32m    704\u001B[0m \u001B[43m    \u001B[49m\u001B[43mconn\u001B[49m\u001B[43m,\u001B[49m\n\u001B[0;32m    705\u001B[0m \u001B[43m    \u001B[49m\u001B[43mmethod\u001B[49m\u001B[43m,\u001B[49m\n\u001B[0;32m    706\u001B[0m \u001B[43m    \u001B[49m\u001B[43murl\u001B[49m\u001B[43m,\u001B[49m\n\u001B[0;32m    707\u001B[0m \u001B[43m    \u001B[49m\u001B[43mtimeout\u001B[49m\u001B[38;5;241;43m=\u001B[39;49m\u001B[43mtimeout_obj\u001B[49m\u001B[43m,\u001B[49m\n\u001B[0;32m    708\u001B[0m \u001B[43m    \u001B[49m\u001B[43mbody\u001B[49m\u001B[38;5;241;43m=\u001B[39;49m\u001B[43mbody\u001B[49m\u001B[43m,\u001B[49m\n\u001B[0;32m    709\u001B[0m \u001B[43m    \u001B[49m\u001B[43mheaders\u001B[49m\u001B[38;5;241;43m=\u001B[39;49m\u001B[43mheaders\u001B[49m\u001B[43m,\u001B[49m\n\u001B[0;32m    710\u001B[0m \u001B[43m    \u001B[49m\u001B[43mchunked\u001B[49m\u001B[38;5;241;43m=\u001B[39;49m\u001B[43mchunked\u001B[49m\u001B[43m,\u001B[49m\n\u001B[0;32m    711\u001B[0m \u001B[43m\u001B[49m\u001B[43m)\u001B[49m\n\u001B[0;32m    713\u001B[0m \u001B[38;5;66;03m# If we're going to release the connection in ``finally:``, then\u001B[39;00m\n\u001B[0;32m    714\u001B[0m \u001B[38;5;66;03m# the response doesn't need to know about the connection. Otherwise\u001B[39;00m\n\u001B[0;32m    715\u001B[0m \u001B[38;5;66;03m# it will also try to release it and we'll have a double-release\u001B[39;00m\n\u001B[0;32m    716\u001B[0m \u001B[38;5;66;03m# mess.\u001B[39;00m\n\u001B[0;32m    717\u001B[0m response_conn \u001B[38;5;241m=\u001B[39m conn \u001B[38;5;28;01mif\u001B[39;00m \u001B[38;5;129;01mnot\u001B[39;00m release_conn \u001B[38;5;28;01melse\u001B[39;00m \u001B[38;5;28;01mNone\u001B[39;00m\n",
      "File \u001B[1;32m~\\PycharmProjects\\pythonProject\\venv\\lib\\site-packages\\urllib3\\connectionpool.py:449\u001B[0m, in \u001B[0;36mHTTPConnectionPool._make_request\u001B[1;34m(self, conn, method, url, timeout, chunked, **httplib_request_kw)\u001B[0m\n\u001B[0;32m    444\u001B[0m             httplib_response \u001B[38;5;241m=\u001B[39m conn\u001B[38;5;241m.\u001B[39mgetresponse()\n\u001B[0;32m    445\u001B[0m         \u001B[38;5;28;01mexcept\u001B[39;00m \u001B[38;5;167;01mBaseException\u001B[39;00m \u001B[38;5;28;01mas\u001B[39;00m e:\n\u001B[0;32m    446\u001B[0m             \u001B[38;5;66;03m# Remove the TypeError from the exception chain in\u001B[39;00m\n\u001B[0;32m    447\u001B[0m             \u001B[38;5;66;03m# Python 3 (including for exceptions like SystemExit).\u001B[39;00m\n\u001B[0;32m    448\u001B[0m             \u001B[38;5;66;03m# Otherwise it looks like a bug in the code.\u001B[39;00m\n\u001B[1;32m--> 449\u001B[0m             \u001B[43msix\u001B[49m\u001B[38;5;241;43m.\u001B[39;49m\u001B[43mraise_from\u001B[49m\u001B[43m(\u001B[49m\u001B[43me\u001B[49m\u001B[43m,\u001B[49m\u001B[43m \u001B[49m\u001B[38;5;28;43;01mNone\u001B[39;49;00m\u001B[43m)\u001B[49m\n\u001B[0;32m    450\u001B[0m \u001B[38;5;28;01mexcept\u001B[39;00m (SocketTimeout, BaseSSLError, SocketError) \u001B[38;5;28;01mas\u001B[39;00m e:\n\u001B[0;32m    451\u001B[0m     \u001B[38;5;28mself\u001B[39m\u001B[38;5;241m.\u001B[39m_raise_timeout(err\u001B[38;5;241m=\u001B[39me, url\u001B[38;5;241m=\u001B[39murl, timeout_value\u001B[38;5;241m=\u001B[39mread_timeout)\n",
      "File \u001B[1;32m<string>:3\u001B[0m, in \u001B[0;36mraise_from\u001B[1;34m(value, from_value)\u001B[0m\n",
      "File \u001B[1;32m~\\PycharmProjects\\pythonProject\\venv\\lib\\site-packages\\urllib3\\connectionpool.py:444\u001B[0m, in \u001B[0;36mHTTPConnectionPool._make_request\u001B[1;34m(self, conn, method, url, timeout, chunked, **httplib_request_kw)\u001B[0m\n\u001B[0;32m    441\u001B[0m \u001B[38;5;28;01mexcept\u001B[39;00m \u001B[38;5;167;01mTypeError\u001B[39;00m:\n\u001B[0;32m    442\u001B[0m     \u001B[38;5;66;03m# Python 3\u001B[39;00m\n\u001B[0;32m    443\u001B[0m     \u001B[38;5;28;01mtry\u001B[39;00m:\n\u001B[1;32m--> 444\u001B[0m         httplib_response \u001B[38;5;241m=\u001B[39m \u001B[43mconn\u001B[49m\u001B[38;5;241;43m.\u001B[39;49m\u001B[43mgetresponse\u001B[49m\u001B[43m(\u001B[49m\u001B[43m)\u001B[49m\n\u001B[0;32m    445\u001B[0m     \u001B[38;5;28;01mexcept\u001B[39;00m \u001B[38;5;167;01mBaseException\u001B[39;00m \u001B[38;5;28;01mas\u001B[39;00m e:\n\u001B[0;32m    446\u001B[0m         \u001B[38;5;66;03m# Remove the TypeError from the exception chain in\u001B[39;00m\n\u001B[0;32m    447\u001B[0m         \u001B[38;5;66;03m# Python 3 (including for exceptions like SystemExit).\u001B[39;00m\n\u001B[0;32m    448\u001B[0m         \u001B[38;5;66;03m# Otherwise it looks like a bug in the code.\u001B[39;00m\n\u001B[0;32m    449\u001B[0m         six\u001B[38;5;241m.\u001B[39mraise_from(e, \u001B[38;5;28;01mNone\u001B[39;00m)\n",
      "File \u001B[1;32m~\\AppData\\Local\\Programs\\Python\\Python310\\lib\\http\\client.py:1368\u001B[0m, in \u001B[0;36mHTTPConnection.getresponse\u001B[1;34m(self)\u001B[0m\n\u001B[0;32m   1366\u001B[0m \u001B[38;5;28;01mtry\u001B[39;00m:\n\u001B[0;32m   1367\u001B[0m     \u001B[38;5;28;01mtry\u001B[39;00m:\n\u001B[1;32m-> 1368\u001B[0m         \u001B[43mresponse\u001B[49m\u001B[38;5;241;43m.\u001B[39;49m\u001B[43mbegin\u001B[49m\u001B[43m(\u001B[49m\u001B[43m)\u001B[49m\n\u001B[0;32m   1369\u001B[0m     \u001B[38;5;28;01mexcept\u001B[39;00m \u001B[38;5;167;01mConnectionError\u001B[39;00m:\n\u001B[0;32m   1370\u001B[0m         \u001B[38;5;28mself\u001B[39m\u001B[38;5;241m.\u001B[39mclose()\n",
      "File \u001B[1;32m~\\AppData\\Local\\Programs\\Python\\Python310\\lib\\http\\client.py:317\u001B[0m, in \u001B[0;36mHTTPResponse.begin\u001B[1;34m(self)\u001B[0m\n\u001B[0;32m    315\u001B[0m \u001B[38;5;66;03m# read until we get a non-100 response\u001B[39;00m\n\u001B[0;32m    316\u001B[0m \u001B[38;5;28;01mwhile\u001B[39;00m \u001B[38;5;28;01mTrue\u001B[39;00m:\n\u001B[1;32m--> 317\u001B[0m     version, status, reason \u001B[38;5;241m=\u001B[39m \u001B[38;5;28;43mself\u001B[39;49m\u001B[38;5;241;43m.\u001B[39;49m\u001B[43m_read_status\u001B[49m\u001B[43m(\u001B[49m\u001B[43m)\u001B[49m\n\u001B[0;32m    318\u001B[0m     \u001B[38;5;28;01mif\u001B[39;00m status \u001B[38;5;241m!=\u001B[39m CONTINUE:\n\u001B[0;32m    319\u001B[0m         \u001B[38;5;28;01mbreak\u001B[39;00m\n",
      "File \u001B[1;32m~\\AppData\\Local\\Programs\\Python\\Python310\\lib\\http\\client.py:278\u001B[0m, in \u001B[0;36mHTTPResponse._read_status\u001B[1;34m(self)\u001B[0m\n\u001B[0;32m    277\u001B[0m \u001B[38;5;28;01mdef\u001B[39;00m \u001B[38;5;21m_read_status\u001B[39m(\u001B[38;5;28mself\u001B[39m):\n\u001B[1;32m--> 278\u001B[0m     line \u001B[38;5;241m=\u001B[39m \u001B[38;5;28mstr\u001B[39m(\u001B[38;5;28;43mself\u001B[39;49m\u001B[38;5;241;43m.\u001B[39;49m\u001B[43mfp\u001B[49m\u001B[38;5;241;43m.\u001B[39;49m\u001B[43mreadline\u001B[49m\u001B[43m(\u001B[49m\u001B[43m_MAXLINE\u001B[49m\u001B[43m \u001B[49m\u001B[38;5;241;43m+\u001B[39;49m\u001B[43m \u001B[49m\u001B[38;5;241;43m1\u001B[39;49m\u001B[43m)\u001B[49m, \u001B[38;5;124m\"\u001B[39m\u001B[38;5;124miso-8859-1\u001B[39m\u001B[38;5;124m\"\u001B[39m)\n\u001B[0;32m    279\u001B[0m     \u001B[38;5;28;01mif\u001B[39;00m \u001B[38;5;28mlen\u001B[39m(line) \u001B[38;5;241m>\u001B[39m _MAXLINE:\n\u001B[0;32m    280\u001B[0m         \u001B[38;5;28;01mraise\u001B[39;00m LineTooLong(\u001B[38;5;124m\"\u001B[39m\u001B[38;5;124mstatus line\u001B[39m\u001B[38;5;124m\"\u001B[39m)\n",
      "File \u001B[1;32m~\\AppData\\Local\\Programs\\Python\\Python310\\lib\\socket.py:705\u001B[0m, in \u001B[0;36mSocketIO.readinto\u001B[1;34m(self, b)\u001B[0m\n\u001B[0;32m    703\u001B[0m \u001B[38;5;28;01mwhile\u001B[39;00m \u001B[38;5;28;01mTrue\u001B[39;00m:\n\u001B[0;32m    704\u001B[0m     \u001B[38;5;28;01mtry\u001B[39;00m:\n\u001B[1;32m--> 705\u001B[0m         \u001B[38;5;28;01mreturn\u001B[39;00m \u001B[38;5;28;43mself\u001B[39;49m\u001B[38;5;241;43m.\u001B[39;49m\u001B[43m_sock\u001B[49m\u001B[38;5;241;43m.\u001B[39;49m\u001B[43mrecv_into\u001B[49m\u001B[43m(\u001B[49m\u001B[43mb\u001B[49m\u001B[43m)\u001B[49m\n\u001B[0;32m    706\u001B[0m     \u001B[38;5;28;01mexcept\u001B[39;00m timeout:\n\u001B[0;32m    707\u001B[0m         \u001B[38;5;28mself\u001B[39m\u001B[38;5;241m.\u001B[39m_timeout_occurred \u001B[38;5;241m=\u001B[39m \u001B[38;5;28;01mTrue\u001B[39;00m\n",
      "File \u001B[1;32m~\\AppData\\Local\\Programs\\Python\\Python310\\lib\\ssl.py:1273\u001B[0m, in \u001B[0;36mSSLSocket.recv_into\u001B[1;34m(self, buffer, nbytes, flags)\u001B[0m\n\u001B[0;32m   1269\u001B[0m     \u001B[38;5;28;01mif\u001B[39;00m flags \u001B[38;5;241m!=\u001B[39m \u001B[38;5;241m0\u001B[39m:\n\u001B[0;32m   1270\u001B[0m         \u001B[38;5;28;01mraise\u001B[39;00m \u001B[38;5;167;01mValueError\u001B[39;00m(\n\u001B[0;32m   1271\u001B[0m           \u001B[38;5;124m\"\u001B[39m\u001B[38;5;124mnon-zero flags not allowed in calls to recv_into() on \u001B[39m\u001B[38;5;132;01m%s\u001B[39;00m\u001B[38;5;124m\"\u001B[39m \u001B[38;5;241m%\u001B[39m\n\u001B[0;32m   1272\u001B[0m           \u001B[38;5;28mself\u001B[39m\u001B[38;5;241m.\u001B[39m\u001B[38;5;18m__class__\u001B[39m)\n\u001B[1;32m-> 1273\u001B[0m     \u001B[38;5;28;01mreturn\u001B[39;00m \u001B[38;5;28;43mself\u001B[39;49m\u001B[38;5;241;43m.\u001B[39;49m\u001B[43mread\u001B[49m\u001B[43m(\u001B[49m\u001B[43mnbytes\u001B[49m\u001B[43m,\u001B[49m\u001B[43m \u001B[49m\u001B[43mbuffer\u001B[49m\u001B[43m)\u001B[49m\n\u001B[0;32m   1274\u001B[0m \u001B[38;5;28;01melse\u001B[39;00m:\n\u001B[0;32m   1275\u001B[0m     \u001B[38;5;28;01mreturn\u001B[39;00m \u001B[38;5;28msuper\u001B[39m()\u001B[38;5;241m.\u001B[39mrecv_into(buffer, nbytes, flags)\n",
      "File \u001B[1;32m~\\AppData\\Local\\Programs\\Python\\Python310\\lib\\ssl.py:1129\u001B[0m, in \u001B[0;36mSSLSocket.read\u001B[1;34m(self, len, buffer)\u001B[0m\n\u001B[0;32m   1127\u001B[0m \u001B[38;5;28;01mtry\u001B[39;00m:\n\u001B[0;32m   1128\u001B[0m     \u001B[38;5;28;01mif\u001B[39;00m buffer \u001B[38;5;129;01mis\u001B[39;00m \u001B[38;5;129;01mnot\u001B[39;00m \u001B[38;5;28;01mNone\u001B[39;00m:\n\u001B[1;32m-> 1129\u001B[0m         \u001B[38;5;28;01mreturn\u001B[39;00m \u001B[38;5;28;43mself\u001B[39;49m\u001B[38;5;241;43m.\u001B[39;49m\u001B[43m_sslobj\u001B[49m\u001B[38;5;241;43m.\u001B[39;49m\u001B[43mread\u001B[49m\u001B[43m(\u001B[49m\u001B[38;5;28;43mlen\u001B[39;49m\u001B[43m,\u001B[49m\u001B[43m \u001B[49m\u001B[43mbuffer\u001B[49m\u001B[43m)\u001B[49m\n\u001B[0;32m   1130\u001B[0m     \u001B[38;5;28;01melse\u001B[39;00m:\n\u001B[0;32m   1131\u001B[0m         \u001B[38;5;28;01mreturn\u001B[39;00m \u001B[38;5;28mself\u001B[39m\u001B[38;5;241m.\u001B[39m_sslobj\u001B[38;5;241m.\u001B[39mread(\u001B[38;5;28mlen\u001B[39m)\n",
      "\u001B[1;31mKeyboardInterrupt\u001B[0m: "
     ]
    }
   ],
   "source": [
    "n=2\n",
    "iteration =1\n",
    "print('pull started')\n",
    "endpoint = min(5000,total_props)\n",
    "while iteration <= chunks:\n",
    "  while n<=endpoint: ##total_props:\n",
    "    proposal_id = proposals_snapshots.iloc[n,2]\n",
    "    ##if n%10 == 0: print (n,proposal_id)\n",
    "    n=n+1\n",
    "    vote_tracker = snapshot.Query.votes(\n",
    "    orderBy = 'created',\n",
    "    orderDirection='desc',\n",
    "    first=10000,\n",
    "    where=[\n",
    "      snapshot.Vote.proposal == proposal_id\n",
    "    ])\n",
    "    voting_snapshots_list2 = sg.query_df([\n",
    "      vote_tracker.id,\n",
    "      vote_tracker.voter,\n",
    "      vote_tracker.created,\n",
    "      vote_tracker.choice,\n",
    "      vote_tracker.vp\n",
    "    ])\n",
    "    voting_snapshots_list2['Proposal'] = proposal_id\n",
    "    voting_snapshots_list = pd.concat([voting_snapshots_list,voting_snapshots_list2])\n",
    "    iteration = iteration +1\n",
    "    iter_progress = 100*round(n/5000,4)\n",
    "    remaining = (total_props-n)\n",
    "    if n%500==0:\n",
    "      print(n, 'proposals pulled.',remaining, 'remain in this chunk','\\nProgress in this chunk:', iter_progress,'%')\n",
    "\n",
    "      ##now we save that part in its file\n",
    "  path =file+'/votes_table_'+str(date.today().strftime(\"%b-%d-%Y\"))+'_'+str(len(voting_snapshots_list))+'_proposals_part_'+iteration+'.csv'\n",
    "  voting_snapshots_list.to_csv(path, index = False)\n",
    "  chunk_progress = 100*round(remaining/total_props,2)\n",
    "  print('file saved:',path,\n",
    "        'progress in whole download', chunk_progress,'%')\n",
    "\n",
    "\n"
   ],
   "metadata": {
    "collapsed": false,
    "pycharm": {
     "name": "#%%\n"
    }
   }
  },
  {
   "cell_type": "markdown",
   "source": [
    "And finally, the body of each election's choices. Not critical but useful to have.\n",
    "\n",
    "Still needs work! Having a tough time automating pulling all those choices into a single table."
   ],
   "metadata": {
    "collapsed": false,
    "pycharm": {
     "name": "#%% md\n"
    }
   }
  },
  {
   "cell_type": "code",
   "execution_count": 117,
   "outputs": [
    {
     "ename": "TypeError",
     "evalue": "'FieldPath' object is not iterable",
     "output_type": "error",
     "traceback": [
      "\u001B[1;31m---------------------------------------------------------------------------\u001B[0m",
      "\u001B[1;31mTypeError\u001B[0m                                 Traceback (most recent call last)",
      "Input \u001B[1;32mIn [117]\u001B[0m, in \u001B[0;36m<cell line: 1>\u001B[1;34m()\u001B[0m\n\u001B[1;32m----> 1\u001B[0m proposals_choices \u001B[38;5;241m=\u001B[39m \u001B[43msg\u001B[49m\u001B[38;5;241;43m.\u001B[39;49m\u001B[43mquery\u001B[49m\u001B[43m(\u001B[49m\u001B[43mproposals\u001B[49m\u001B[38;5;241;43m.\u001B[39;49m\u001B[43mchoices\u001B[49m\u001B[43m)\u001B[49m\n\u001B[0;32m      2\u001B[0m proposals_choices\n",
      "File \u001B[1;32m~\\PycharmProjects\\pythonProject\\venv\\lib\\site-packages\\subgrounds\\subgrounds.py:386\u001B[0m, in \u001B[0;36mSubgrounds.query\u001B[1;34m(self, fpath, unwrap, auto_paginate)\u001B[0m\n\u001B[0;32m    348\u001B[0m \u001B[38;5;28;01mdef\u001B[39;00m \u001B[38;5;21mquery\u001B[39m(\n\u001B[0;32m    349\u001B[0m   \u001B[38;5;28mself\u001B[39m,\n\u001B[0;32m    350\u001B[0m   fpath: FieldPath \u001B[38;5;241m|\u001B[39m \u001B[38;5;28mlist\u001B[39m[FieldPath],\n\u001B[0;32m    351\u001B[0m   unwrap: \u001B[38;5;28mbool\u001B[39m \u001B[38;5;241m=\u001B[39m \u001B[38;5;28;01mTrue\u001B[39;00m,\n\u001B[0;32m    352\u001B[0m   auto_paginate: \u001B[38;5;28mbool\u001B[39m \u001B[38;5;241m=\u001B[39m \u001B[38;5;28;01mTrue\u001B[39;00m\n\u001B[0;32m    353\u001B[0m ) \u001B[38;5;241m-\u001B[39m\u001B[38;5;241m>\u001B[39m \u001B[38;5;28mstr\u001B[39m \u001B[38;5;241m|\u001B[39m \u001B[38;5;28mint\u001B[39m \u001B[38;5;241m|\u001B[39m \u001B[38;5;28mfloat\u001B[39m \u001B[38;5;241m|\u001B[39m \u001B[38;5;28mbool\u001B[39m \u001B[38;5;241m|\u001B[39m \u001B[38;5;28mlist\u001B[39m \u001B[38;5;241m|\u001B[39m \u001B[38;5;28mtuple\u001B[39m \u001B[38;5;241m|\u001B[39m \u001B[38;5;28;01mNone\u001B[39;00m:\n\u001B[0;32m    354\u001B[0m   \u001B[38;5;124;03m\"\"\"Executes one or multiple ``FieldPath`` objects immediately and return the data (as a tuple if multiple ``FieldPath`` objects are provided).\u001B[39;00m\n\u001B[0;32m    355\u001B[0m \n\u001B[0;32m    356\u001B[0m \u001B[38;5;124;03m  Args:\u001B[39;00m\n\u001B[1;32m   (...)\u001B[0m\n\u001B[0;32m    384\u001B[0m \n\u001B[0;32m    385\u001B[0m \u001B[38;5;124;03m  \"\"\"\u001B[39;00m\n\u001B[1;32m--> 386\u001B[0m   fpaths \u001B[38;5;241m=\u001B[39m \u001B[38;5;28mlist\u001B[39m(\u001B[43mfpath\u001B[49m\u001B[43m \u001B[49m\u001B[38;5;241;43m|\u001B[39;49m\u001B[43m \u001B[49m\u001B[38;5;28;43mmap\u001B[39;49m\u001B[43m(\u001B[49m\u001B[43mFieldPath\u001B[49m\u001B[38;5;241;43m.\u001B[39;49m\u001B[43m_auto_select\u001B[49m\u001B[43m)\u001B[49m \u001B[38;5;241m|\u001B[39m traverse)\n\u001B[0;32m    387\u001B[0m   blob \u001B[38;5;241m=\u001B[39m \u001B[38;5;28mself\u001B[39m\u001B[38;5;241m.\u001B[39mquery_json(fpaths, auto_paginate\u001B[38;5;241m=\u001B[39mauto_paginate)\n\u001B[0;32m    389\u001B[0m   \u001B[38;5;28;01mdef\u001B[39;00m \u001B[38;5;21mf\u001B[39m(fpath: FieldPath) \u001B[38;5;241m-\u001B[39m\u001B[38;5;241m>\u001B[39m \u001B[38;5;28mdict\u001B[39m[\u001B[38;5;28mstr\u001B[39m, Any]:\n",
      "File \u001B[1;32m~\\PycharmProjects\\pythonProject\\venv\\lib\\site-packages\\pipe.py:40\u001B[0m, in \u001B[0;36mPipe.__ror__\u001B[1;34m(self, other)\u001B[0m\n\u001B[0;32m     39\u001B[0m \u001B[38;5;28;01mdef\u001B[39;00m \u001B[38;5;21m__ror__\u001B[39m(\u001B[38;5;28mself\u001B[39m, other):\n\u001B[1;32m---> 40\u001B[0m     \u001B[38;5;28;01mreturn\u001B[39;00m \u001B[38;5;28;43mself\u001B[39;49m\u001B[38;5;241;43m.\u001B[39;49m\u001B[43mfunction\u001B[49m\u001B[43m(\u001B[49m\u001B[43mother\u001B[49m\u001B[43m)\u001B[49m\n",
      "File \u001B[1;32m~\\PycharmProjects\\pythonProject\\venv\\lib\\site-packages\\pipe.py:44\u001B[0m, in \u001B[0;36mPipe.__call__.<locals>.<lambda>\u001B[1;34m(iterable, *args2, **kwargs2)\u001B[0m\n\u001B[0;32m     42\u001B[0m \u001B[38;5;28;01mdef\u001B[39;00m \u001B[38;5;21m__call__\u001B[39m(\u001B[38;5;28mself\u001B[39m, \u001B[38;5;241m*\u001B[39margs, \u001B[38;5;241m*\u001B[39m\u001B[38;5;241m*\u001B[39mkwargs):\n\u001B[0;32m     43\u001B[0m     \u001B[38;5;28;01mreturn\u001B[39;00m Pipe(\n\u001B[1;32m---> 44\u001B[0m         \u001B[38;5;28;01mlambda\u001B[39;00m iterable, \u001B[38;5;241m*\u001B[39margs2, \u001B[38;5;241m*\u001B[39m\u001B[38;5;241m*\u001B[39mkwargs2: \u001B[38;5;28mself\u001B[39m\u001B[38;5;241m.\u001B[39mfunction(\n\u001B[0;32m     45\u001B[0m             iterable, \u001B[38;5;241m*\u001B[39margs, \u001B[38;5;241m*\u001B[39margs2, \u001B[38;5;241m*\u001B[39m\u001B[38;5;241m*\u001B[39mkwargs, \u001B[38;5;241m*\u001B[39m\u001B[38;5;241m*\u001B[39mkwargs2\n\u001B[0;32m     46\u001B[0m         )\n\u001B[0;32m     47\u001B[0m     )\n",
      "File \u001B[1;32m~\\PycharmProjects\\pythonProject\\venv\\lib\\site-packages\\pipe.py:149\u001B[0m, in \u001B[0;36mselect\u001B[1;34m(iterable, selector)\u001B[0m\n\u001B[0;32m    147\u001B[0m \u001B[38;5;129m@Pipe\u001B[39m\n\u001B[0;32m    148\u001B[0m \u001B[38;5;28;01mdef\u001B[39;00m \u001B[38;5;21mselect\u001B[39m(iterable, selector):\n\u001B[1;32m--> 149\u001B[0m     \u001B[38;5;28;01mreturn\u001B[39;00m \u001B[43mbuiltins\u001B[49m\u001B[38;5;241;43m.\u001B[39;49m\u001B[43mmap\u001B[49m\u001B[43m(\u001B[49m\u001B[43mselector\u001B[49m\u001B[43m,\u001B[49m\u001B[43m \u001B[49m\u001B[43miterable\u001B[49m\u001B[43m)\u001B[49m\n",
      "\u001B[1;31mTypeError\u001B[0m: 'FieldPath' object is not iterable"
     ]
    }
   ],
   "source": [
    "proposals_choices = sg.query(proposals.choices)\n",
    "proposals_choices"
   ],
   "metadata": {
    "collapsed": false,
    "pycharm": {
     "name": "#%%\n"
    }
   }
  },
  {
   "cell_type": "code",
   "execution_count": 118,
   "outputs": [
    {
     "ename": "TypeError",
     "evalue": "'FieldPath' object is not iterable",
     "output_type": "error",
     "traceback": [
      "\u001B[1;31m---------------------------------------------------------------------------\u001B[0m",
      "\u001B[1;31mTypeError\u001B[0m                                 Traceback (most recent call last)",
      "Input \u001B[1;32mIn [118]\u001B[0m, in \u001B[0;36m<cell line: 1>\u001B[1;34m()\u001B[0m\n\u001B[1;32m----> 1\u001B[0m proposals_choices \u001B[38;5;241m=\u001B[39m \u001B[43msg\u001B[49m\u001B[38;5;241;43m.\u001B[39;49m\u001B[43mquery\u001B[49m\u001B[43m(\u001B[49m\u001B[43mproposals\u001B[49m\u001B[38;5;241;43m.\u001B[39;49m\u001B[43mchoices\u001B[49m\u001B[43m)\u001B[49m\n",
      "File \u001B[1;32m~\\PycharmProjects\\pythonProject\\venv\\lib\\site-packages\\subgrounds\\subgrounds.py:386\u001B[0m, in \u001B[0;36mSubgrounds.query\u001B[1;34m(self, fpath, unwrap, auto_paginate)\u001B[0m\n\u001B[0;32m    348\u001B[0m \u001B[38;5;28;01mdef\u001B[39;00m \u001B[38;5;21mquery\u001B[39m(\n\u001B[0;32m    349\u001B[0m   \u001B[38;5;28mself\u001B[39m,\n\u001B[0;32m    350\u001B[0m   fpath: FieldPath \u001B[38;5;241m|\u001B[39m \u001B[38;5;28mlist\u001B[39m[FieldPath],\n\u001B[0;32m    351\u001B[0m   unwrap: \u001B[38;5;28mbool\u001B[39m \u001B[38;5;241m=\u001B[39m \u001B[38;5;28;01mTrue\u001B[39;00m,\n\u001B[0;32m    352\u001B[0m   auto_paginate: \u001B[38;5;28mbool\u001B[39m \u001B[38;5;241m=\u001B[39m \u001B[38;5;28;01mTrue\u001B[39;00m\n\u001B[0;32m    353\u001B[0m ) \u001B[38;5;241m-\u001B[39m\u001B[38;5;241m>\u001B[39m \u001B[38;5;28mstr\u001B[39m \u001B[38;5;241m|\u001B[39m \u001B[38;5;28mint\u001B[39m \u001B[38;5;241m|\u001B[39m \u001B[38;5;28mfloat\u001B[39m \u001B[38;5;241m|\u001B[39m \u001B[38;5;28mbool\u001B[39m \u001B[38;5;241m|\u001B[39m \u001B[38;5;28mlist\u001B[39m \u001B[38;5;241m|\u001B[39m \u001B[38;5;28mtuple\u001B[39m \u001B[38;5;241m|\u001B[39m \u001B[38;5;28;01mNone\u001B[39;00m:\n\u001B[0;32m    354\u001B[0m   \u001B[38;5;124;03m\"\"\"Executes one or multiple ``FieldPath`` objects immediately and return the data (as a tuple if multiple ``FieldPath`` objects are provided).\u001B[39;00m\n\u001B[0;32m    355\u001B[0m \n\u001B[0;32m    356\u001B[0m \u001B[38;5;124;03m  Args:\u001B[39;00m\n\u001B[1;32m   (...)\u001B[0m\n\u001B[0;32m    384\u001B[0m \n\u001B[0;32m    385\u001B[0m \u001B[38;5;124;03m  \"\"\"\u001B[39;00m\n\u001B[1;32m--> 386\u001B[0m   fpaths \u001B[38;5;241m=\u001B[39m \u001B[38;5;28mlist\u001B[39m(\u001B[43mfpath\u001B[49m\u001B[43m \u001B[49m\u001B[38;5;241;43m|\u001B[39;49m\u001B[43m \u001B[49m\u001B[38;5;28;43mmap\u001B[39;49m\u001B[43m(\u001B[49m\u001B[43mFieldPath\u001B[49m\u001B[38;5;241;43m.\u001B[39;49m\u001B[43m_auto_select\u001B[49m\u001B[43m)\u001B[49m \u001B[38;5;241m|\u001B[39m traverse)\n\u001B[0;32m    387\u001B[0m   blob \u001B[38;5;241m=\u001B[39m \u001B[38;5;28mself\u001B[39m\u001B[38;5;241m.\u001B[39mquery_json(fpaths, auto_paginate\u001B[38;5;241m=\u001B[39mauto_paginate)\n\u001B[0;32m    389\u001B[0m   \u001B[38;5;28;01mdef\u001B[39;00m \u001B[38;5;21mf\u001B[39m(fpath: FieldPath) \u001B[38;5;241m-\u001B[39m\u001B[38;5;241m>\u001B[39m \u001B[38;5;28mdict\u001B[39m[\u001B[38;5;28mstr\u001B[39m, Any]:\n",
      "File \u001B[1;32m~\\PycharmProjects\\pythonProject\\venv\\lib\\site-packages\\pipe.py:40\u001B[0m, in \u001B[0;36mPipe.__ror__\u001B[1;34m(self, other)\u001B[0m\n\u001B[0;32m     39\u001B[0m \u001B[38;5;28;01mdef\u001B[39;00m \u001B[38;5;21m__ror__\u001B[39m(\u001B[38;5;28mself\u001B[39m, other):\n\u001B[1;32m---> 40\u001B[0m     \u001B[38;5;28;01mreturn\u001B[39;00m \u001B[38;5;28;43mself\u001B[39;49m\u001B[38;5;241;43m.\u001B[39;49m\u001B[43mfunction\u001B[49m\u001B[43m(\u001B[49m\u001B[43mother\u001B[49m\u001B[43m)\u001B[49m\n",
      "File \u001B[1;32m~\\PycharmProjects\\pythonProject\\venv\\lib\\site-packages\\pipe.py:44\u001B[0m, in \u001B[0;36mPipe.__call__.<locals>.<lambda>\u001B[1;34m(iterable, *args2, **kwargs2)\u001B[0m\n\u001B[0;32m     42\u001B[0m \u001B[38;5;28;01mdef\u001B[39;00m \u001B[38;5;21m__call__\u001B[39m(\u001B[38;5;28mself\u001B[39m, \u001B[38;5;241m*\u001B[39margs, \u001B[38;5;241m*\u001B[39m\u001B[38;5;241m*\u001B[39mkwargs):\n\u001B[0;32m     43\u001B[0m     \u001B[38;5;28;01mreturn\u001B[39;00m Pipe(\n\u001B[1;32m---> 44\u001B[0m         \u001B[38;5;28;01mlambda\u001B[39;00m iterable, \u001B[38;5;241m*\u001B[39margs2, \u001B[38;5;241m*\u001B[39m\u001B[38;5;241m*\u001B[39mkwargs2: \u001B[38;5;28mself\u001B[39m\u001B[38;5;241m.\u001B[39mfunction(\n\u001B[0;32m     45\u001B[0m             iterable, \u001B[38;5;241m*\u001B[39margs, \u001B[38;5;241m*\u001B[39margs2, \u001B[38;5;241m*\u001B[39m\u001B[38;5;241m*\u001B[39mkwargs, \u001B[38;5;241m*\u001B[39m\u001B[38;5;241m*\u001B[39mkwargs2\n\u001B[0;32m     46\u001B[0m         )\n\u001B[0;32m     47\u001B[0m     )\n",
      "File \u001B[1;32m~\\PycharmProjects\\pythonProject\\venv\\lib\\site-packages\\pipe.py:149\u001B[0m, in \u001B[0;36mselect\u001B[1;34m(iterable, selector)\u001B[0m\n\u001B[0;32m    147\u001B[0m \u001B[38;5;129m@Pipe\u001B[39m\n\u001B[0;32m    148\u001B[0m \u001B[38;5;28;01mdef\u001B[39;00m \u001B[38;5;21mselect\u001B[39m(iterable, selector):\n\u001B[1;32m--> 149\u001B[0m     \u001B[38;5;28;01mreturn\u001B[39;00m \u001B[43mbuiltins\u001B[49m\u001B[38;5;241;43m.\u001B[39;49m\u001B[43mmap\u001B[49m\u001B[43m(\u001B[49m\u001B[43mselector\u001B[49m\u001B[43m,\u001B[49m\u001B[43m \u001B[49m\u001B[43miterable\u001B[49m\u001B[43m)\u001B[49m\n",
      "\u001B[1;31mTypeError\u001B[0m: 'FieldPath' object is not iterable"
     ]
    }
   ],
   "source": [
    "proposals_choices = sg.query(proposals.choices)"
   ],
   "metadata": {
    "collapsed": false,
    "pycharm": {
     "name": "#%%\n"
    }
   }
  },
  {
   "cell_type": "code",
   "execution_count": 119,
   "outputs": [
    {
     "ename": "SyntaxError",
     "evalue": "'(' was never closed (1609945154.py, line 2)",
     "output_type": "error",
     "traceback": [
      "\u001B[1;36m  Input \u001B[1;32mIn [119]\u001B[1;36m\u001B[0m\n\u001B[1;33m    proposals_choices = pd.DataFrame(proposals_choices, columns = ['option_1', 'option_2', 'option_3', 'option_4', 'option_5','option_6','option_7','option_8','option_9','option_10','option_11','option_12','option_13','option_14','option_15','option_16','option_17','option_18','option_19','option_20','option_21','option_22','option_24','option_24','option_25]']\u001B[0m\n\u001B[1;37m                                    ^\u001B[0m\n\u001B[1;31mSyntaxError\u001B[0m\u001B[1;31m:\u001B[0m '(' was never closed\n"
     ]
    }
   ],
   "source": [
    "##placing 25 options just in case. Could be more, but I hope not\n",
    "proposals_choices = pd.DataFrame(proposals_choices, columns = ['option_1', 'option_2', 'option_3', 'option_4', 'option_5','option_6','option_7','option_8','option_9','option_10','option_11','option_12','option_13','option_14','option_15','option_16','option_17','option_18','option_19','option_20','option_21','option_22','option_24','option_24','option_25]']"
   ],
   "metadata": {
    "collapsed": false,
    "pycharm": {
     "name": "#%%\n"
    }
   }
  },
  {
   "cell_type": "code",
   "execution_count": null,
   "outputs": [],
   "source": [
    "dao_governance_view = pd.concat([proposals_snapshots,proposals_choices], axis=1)"
   ],
   "metadata": {
    "collapsed": false,
    "pycharm": {
     "name": "#%%\n"
    }
   }
  },
  {
   "cell_type": "code",
   "execution_count": null,
   "outputs": [],
   "source": [
    "dao_governance_view"
   ],
   "metadata": {
    "collapsed": false,
    "pycharm": {
     "name": "#%%\n"
    }
   }
  },
  {
   "cell_type": "code",
   "execution_count": null,
   "outputs": [],
   "source": [
    "##spit out the file!\n",
    "path =file+'/votes_table_'+str(date.today().strftime(\"%b-%d-%Y\"))+'_'+str(len(voting_snapshots_list))+'_proposals.csv'\n",
    "voting_snapshots_list.to_csv(path, index = False)\n",
    "print('file saved')"
   ],
   "metadata": {
    "collapsed": false,
    "pycharm": {
     "name": "#%%\n"
    }
   }
  }
 ],
 "metadata": {
  "kernelspec": {
   "display_name": "Python 3",
   "language": "python",
   "name": "python3"
  },
  "language_info": {
   "codemirror_mode": {
    "name": "ipython",
    "version": 2
   },
   "file_extension": ".py",
   "mimetype": "text/x-python",
   "name": "python",
   "nbconvert_exporter": "python",
   "pygments_lexer": "ipython2",
   "version": "2.7.6"
  }
 },
 "nbformat": 4,
 "nbformat_minor": 0
}