{
 "cells": [
  {
   "cell_type": "code",
   "execution_count": 150,
   "outputs": [],
   "source": [
    "from datetime import datetime\n",
    "from subgrounds.subgraph import SyntheticField, FieldPath\n",
    "from subgrounds.subgrounds import Subgrounds\n",
    "import pandas as pd"
   ],
   "metadata": {
    "collapsed": false,
    "pycharm": {
     "name": "#%%\n"
    }
   }
  },
  {
   "cell_type": "code",
   "execution_count": 151,
   "outputs": [],
   "source": [
    "sg = Subgrounds()\n",
    "snapshot = sg.load_api('https://hub.snapshot.org/graphql')"
   ],
   "metadata": {
    "collapsed": false,
    "pycharm": {
     "name": "#%%\n"
    }
   }
  },
  {
   "cell_type": "code",
   "execution_count": 152,
   "outputs": [],
   "source": [
    "spaces=[]\n",
    "spaces = snapshot.Query.spaces(\n",
    "  orderBy='id',\n",
    "  orderDirection='desc',\n",
    "  first=1000,\n",
    ")\n",
    "spaces_list = sg.query_df([\n",
    "    spaces.id\n",
    "    ]\n",
    "  )"
   ],
   "metadata": {
    "collapsed": false,
    "pycharm": {
     "name": "#%%\n"
    }
   }
  },
  {
   "cell_type": "code",
   "execution_count": 153,
   "outputs": [
    {
     "name": "stdout",
     "output_type": "stream",
     "text": [
      "3 1000\n",
      "4 1000\n",
      "5 1000\n",
      "6 1000\n",
      "7 1000\n",
      "8 1000\n",
      "9 963\n"
     ]
    }
   ],
   "source": [
    "spaces2 = []\n",
    "n=0\n",
    "t=2\n",
    "while n<1:\n",
    "  spaces2 = snapshot.Query.spaces(\n",
    "    orderBy='created',\n",
    "    orderDirection='desc',\n",
    "    first=1000,\n",
    "    skip = 1000*t\n",
    "  )\n",
    "  spaces_list2 = sg.query_df([\n",
    "    spaces2.id\n",
    "    ]\n",
    "  )\n",
    "  spaces_list = pd.concat([spaces_list,spaces_list2])\n",
    "  t=t+1\n",
    "  l=len(spaces_list2)\n",
    "  print(t,l)\n",
    "  if len(spaces_list2)<1000: n=1\n",
    "\n",
    "olympus_coord=spaces_list.index[spaces_list['spaces_id'] == 'olympusdao.eth'].tolist()\n"
   ],
   "metadata": {
    "collapsed": false,
    "pycharm": {
     "name": "#%%\n"
    }
   }
  },
  {
   "cell_type": "code",
   "execution_count": 154,
   "outputs": [],
   "source": [
    "##spaces_list"
   ],
   "metadata": {
    "collapsed": false,
    "pycharm": {
     "name": "#%%\n"
    }
   }
  },
  {
   "cell_type": "code",
   "execution_count": 166,
   "outputs": [
    {
     "data": {
      "text/plain": "7963"
     },
     "execution_count": 166,
     "metadata": {},
     "output_type": "execute_result"
    }
   ],
   "source": [
    "numspaces = len(spaces_list)\n",
    "numspaces"
   ],
   "metadata": {
    "collapsed": false,
    "pycharm": {
     "name": "#%%\n"
    }
   }
  },
  {
   "cell_type": "code",
   "execution_count": 167,
   "outputs": [],
   "source": [
    "##spaces_list = pd.DataFrame(spaces_list)\n",
    "##\n",
    "##spaces_list.iat[coordinate,0]"
   ],
   "metadata": {
    "collapsed": false,
    "pycharm": {
     "name": "#%%\n"
    }
   }
  },
  {
   "cell_type": "code",
   "execution_count": 177,
   "outputs": [
    {
     "data": {
      "text/plain": "        dao                                    proposals_title  \\\n0  🍯dao.eth                       Should I get 2 times one ETH   \n1  🍯dao.eth                       Should I get 2 times one ETH   \n2  🍯dao.eth  What is the next achievement we should fund be...   \n3  🍯dao.eth  What is the next achievement we should fund be...   \n4  🍯dao.eth  Should the 🍯️DAO set its Gnosis Safe as the co...   \n5  🍯dao.eth  Should the 🍯️DAO set its Gnosis Safe as the co...   \n6  🍯dao.eth                                               Test   \n7  🍯dao.eth                                               Test   \n8  🍯dao.eth                            Donate 1 BAL on Gitcoin   \n9  🍯dao.eth                            Donate 1 BAL on Gitcoin   \n\n                                     proposals_id  \\\n0  QmQ1s8FHhX2FtFGRcfbbdJmT1sU8EwPymDytsHyzFp5YoL   \n1  QmQ1s8FHhX2FtFGRcfbbdJmT1sU8EwPymDytsHyzFp5YoL   \n2  QmZwnht7pRE2xGnUoQMU37eoNV8eEnobrejPZwDzdpBjaY   \n3  QmZwnht7pRE2xGnUoQMU37eoNV8eEnobrejPZwDzdpBjaY   \n4  QmWwo3TkBtUybd7wcwix6yuGtApR427FBCxiSGJNwowDoN   \n5  QmWwo3TkBtUybd7wcwix6yuGtApR427FBCxiSGJNwowDoN   \n6  QmZQkuw2DFuut5FdYrDji2fKoHW3rWbQd9TbcWgDSufoHa   \n7  QmZQkuw2DFuut5FdYrDji2fKoHW3rWbQd9TbcWgDSufoHa   \n8  QmV7WfE1vxPdwNYoom57zTRBVB38hWRPCZJgXEgD2zxK65   \n9  QmV7WfE1vxPdwNYoom57zTRBVB38hWRPCZJgXEgD2zxK65   \n\n                                      proposals_body  proposals_scores  \\\n0                      Should I get 2 times one ETH?         10.096352   \n1                      Should I get 2 times one ETH?          0.000000   \n2                                                             0.498913   \n3                                                             0.000000   \n4  This is a proposal to set the controller of th...          2.711773   \n5  This is a proposal to set the controller of th...          0.000000   \n6                                               Test          2.275148   \n7                                               Test          3.625966   \n8  Test a donation of 1Bal to the reality.eth Git...          2.476520   \n9  Test a donation of 1Bal to the reality.eth Git...          0.000000   \n\n   proposals_scores_total  \n0               10.096352  \n1               10.096352  \n2                0.498913  \n3                0.498913  \n4                2.711773  \n5                2.711773  \n6                5.901114  \n7                5.901114  \n8                2.476520  \n9                2.476520  ",
      "text/html": "<div>\n<style scoped>\n    .dataframe tbody tr th:only-of-type {\n        vertical-align: middle;\n    }\n\n    .dataframe tbody tr th {\n        vertical-align: top;\n    }\n\n    .dataframe thead th {\n        text-align: right;\n    }\n</style>\n<table border=\"1\" class=\"dataframe\">\n  <thead>\n    <tr style=\"text-align: right;\">\n      <th></th>\n      <th>dao</th>\n      <th>proposals_title</th>\n      <th>proposals_id</th>\n      <th>proposals_body</th>\n      <th>proposals_scores</th>\n      <th>proposals_scores_total</th>\n    </tr>\n  </thead>\n  <tbody>\n    <tr>\n      <th>0</th>\n      <td>🍯dao.eth</td>\n      <td>Should I get 2 times one ETH</td>\n      <td>QmQ1s8FHhX2FtFGRcfbbdJmT1sU8EwPymDytsHyzFp5YoL</td>\n      <td>Should I get 2 times one ETH?</td>\n      <td>10.096352</td>\n      <td>10.096352</td>\n    </tr>\n    <tr>\n      <th>1</th>\n      <td>🍯dao.eth</td>\n      <td>Should I get 2 times one ETH</td>\n      <td>QmQ1s8FHhX2FtFGRcfbbdJmT1sU8EwPymDytsHyzFp5YoL</td>\n      <td>Should I get 2 times one ETH?</td>\n      <td>0.000000</td>\n      <td>10.096352</td>\n    </tr>\n    <tr>\n      <th>2</th>\n      <td>🍯dao.eth</td>\n      <td>What is the next achievement we should fund be...</td>\n      <td>QmZwnht7pRE2xGnUoQMU37eoNV8eEnobrejPZwDzdpBjaY</td>\n      <td></td>\n      <td>0.498913</td>\n      <td>0.498913</td>\n    </tr>\n    <tr>\n      <th>3</th>\n      <td>🍯dao.eth</td>\n      <td>What is the next achievement we should fund be...</td>\n      <td>QmZwnht7pRE2xGnUoQMU37eoNV8eEnobrejPZwDzdpBjaY</td>\n      <td></td>\n      <td>0.000000</td>\n      <td>0.498913</td>\n    </tr>\n    <tr>\n      <th>4</th>\n      <td>🍯dao.eth</td>\n      <td>Should the 🍯️DAO set its Gnosis Safe as the co...</td>\n      <td>QmWwo3TkBtUybd7wcwix6yuGtApR427FBCxiSGJNwowDoN</td>\n      <td>This is a proposal to set the controller of th...</td>\n      <td>2.711773</td>\n      <td>2.711773</td>\n    </tr>\n    <tr>\n      <th>5</th>\n      <td>🍯dao.eth</td>\n      <td>Should the 🍯️DAO set its Gnosis Safe as the co...</td>\n      <td>QmWwo3TkBtUybd7wcwix6yuGtApR427FBCxiSGJNwowDoN</td>\n      <td>This is a proposal to set the controller of th...</td>\n      <td>0.000000</td>\n      <td>2.711773</td>\n    </tr>\n    <tr>\n      <th>6</th>\n      <td>🍯dao.eth</td>\n      <td>Test</td>\n      <td>QmZQkuw2DFuut5FdYrDji2fKoHW3rWbQd9TbcWgDSufoHa</td>\n      <td>Test</td>\n      <td>2.275148</td>\n      <td>5.901114</td>\n    </tr>\n    <tr>\n      <th>7</th>\n      <td>🍯dao.eth</td>\n      <td>Test</td>\n      <td>QmZQkuw2DFuut5FdYrDji2fKoHW3rWbQd9TbcWgDSufoHa</td>\n      <td>Test</td>\n      <td>3.625966</td>\n      <td>5.901114</td>\n    </tr>\n    <tr>\n      <th>8</th>\n      <td>🍯dao.eth</td>\n      <td>Donate 1 BAL on Gitcoin</td>\n      <td>QmV7WfE1vxPdwNYoom57zTRBVB38hWRPCZJgXEgD2zxK65</td>\n      <td>Test a donation of 1Bal to the reality.eth Git...</td>\n      <td>2.476520</td>\n      <td>2.476520</td>\n    </tr>\n    <tr>\n      <th>9</th>\n      <td>🍯dao.eth</td>\n      <td>Donate 1 BAL on Gitcoin</td>\n      <td>QmV7WfE1vxPdwNYoom57zTRBVB38hWRPCZJgXEgD2zxK65</td>\n      <td>Test a donation of 1Bal to the reality.eth Git...</td>\n      <td>0.000000</td>\n      <td>2.476520</td>\n    </tr>\n  </tbody>\n</table>\n</div>"
     },
     "execution_count": 177,
     "metadata": {},
     "output_type": "execute_result"
    }
   ],
   "source": [
    "space_name = spaces_list.iat[1,0]\n",
    "proposals = snapshot.Query.proposals(\n",
    "  orderBy='created',\n",
    "  orderDirection='desc',\n",
    "  first=1000,\n",
    "  where=[\n",
    "    snapshot.Proposal.space == space_name,\n",
    "    snapshot.Proposal.state == 'closed'\n",
    "    ##snapshot.Proposal.title == 'OIP-18: Reward rate framework and reduction',\n",
    "  ]\n",
    ")\n",
    "\n",
    "proposals_snapshots = sg.query_df([\n",
    "    proposals.title,\n",
    "    proposals.id,\n",
    "    proposals.body,\n",
    "    proposals.scores,\n",
    "    proposals.scores_total\n",
    "])\n",
    "\n",
    "proposals_snapshots.insert(0,'dao',space_name)\n",
    "\n",
    "proposals_snapshots"
   ],
   "metadata": {
    "collapsed": false,
    "pycharm": {
     "name": "#%%\n"
    }
   }
  },
  {
   "cell_type": "code",
   "execution_count": 187,
   "outputs": [
    {
     "data": {
      "text/plain": "       dao      proposals_title  \\\n0  안철수.eth  안철수 후보의 가상 자산 관련 공약   \n1  안철수.eth  안철수 후보의 가상 자산 관련 공약   \n2  안철수.eth  안철수 후보의 가상 자산 관련 공약   \n3  안철수.eth    안철수 국민의당 대선 후보 공약   \n4  안철수.eth    안철수 국민의당 대선 후보 공약   \n\n                                        proposals_id  \\\n0  0x4b51e3f70647398ba7a7799fcbc10cccf34e7a3fc165...   \n1  0x4b51e3f70647398ba7a7799fcbc10cccf34e7a3fc165...   \n2  0x4b51e3f70647398ba7a7799fcbc10cccf34e7a3fc165...   \n3  0x53d7118740830b2186d271177661b5d4e98c6b9dcef2...   \n4  0x53d7118740830b2186d271177661b5d4e98c6b9dcef2...   \n\n                                      proposals_body  proposals_scores  \\\n0  \\n안철수 후보가 20대 대통령이 된다면\\n가상자산 업계는 어떻게 될 것이라고 예상...           0.00000   \n1  \\n안철수 후보가 20대 대통령이 된다면\\n가상자산 업계는 어떻게 될 것이라고 예상...           0.00000   \n2  \\n안철수 후보가 20대 대통령이 된다면\\n가상자산 업계는 어떻게 될 것이라고 예상...           0.00000   \n3  \\n[G5 경제강국 대한민국 5.5.5 신성장 전략]\\n\\n1. 정부조직 개편\\n ...           0.00000   \n4  \\n[G5 경제강국 대한민국 5.5.5 신성장 전략]\\n\\n1. 정부조직 개편\\n ...           1.00923   \n\n   proposals_scores_total  \n0                 0.00000  \n1                 0.00000  \n2                 0.00000  \n3                 1.00923  \n4                 1.00923  ",
      "text/html": "<div>\n<style scoped>\n    .dataframe tbody tr th:only-of-type {\n        vertical-align: middle;\n    }\n\n    .dataframe tbody tr th {\n        vertical-align: top;\n    }\n\n    .dataframe thead th {\n        text-align: right;\n    }\n</style>\n<table border=\"1\" class=\"dataframe\">\n  <thead>\n    <tr style=\"text-align: right;\">\n      <th></th>\n      <th>dao</th>\n      <th>proposals_title</th>\n      <th>proposals_id</th>\n      <th>proposals_body</th>\n      <th>proposals_scores</th>\n      <th>proposals_scores_total</th>\n    </tr>\n  </thead>\n  <tbody>\n    <tr>\n      <th>0</th>\n      <td>안철수.eth</td>\n      <td>안철수 후보의 가상 자산 관련 공약</td>\n      <td>0x4b51e3f70647398ba7a7799fcbc10cccf34e7a3fc165...</td>\n      <td>\\n안철수 후보가 20대 대통령이 된다면\\n가상자산 업계는 어떻게 될 것이라고 예상...</td>\n      <td>0.00000</td>\n      <td>0.00000</td>\n    </tr>\n    <tr>\n      <th>1</th>\n      <td>안철수.eth</td>\n      <td>안철수 후보의 가상 자산 관련 공약</td>\n      <td>0x4b51e3f70647398ba7a7799fcbc10cccf34e7a3fc165...</td>\n      <td>\\n안철수 후보가 20대 대통령이 된다면\\n가상자산 업계는 어떻게 될 것이라고 예상...</td>\n      <td>0.00000</td>\n      <td>0.00000</td>\n    </tr>\n    <tr>\n      <th>2</th>\n      <td>안철수.eth</td>\n      <td>안철수 후보의 가상 자산 관련 공약</td>\n      <td>0x4b51e3f70647398ba7a7799fcbc10cccf34e7a3fc165...</td>\n      <td>\\n안철수 후보가 20대 대통령이 된다면\\n가상자산 업계는 어떻게 될 것이라고 예상...</td>\n      <td>0.00000</td>\n      <td>0.00000</td>\n    </tr>\n    <tr>\n      <th>3</th>\n      <td>안철수.eth</td>\n      <td>안철수 국민의당 대선 후보 공약</td>\n      <td>0x53d7118740830b2186d271177661b5d4e98c6b9dcef2...</td>\n      <td>\\n[G5 경제강국 대한민국 5.5.5 신성장 전략]\\n\\n1. 정부조직 개편\\n ...</td>\n      <td>0.00000</td>\n      <td>1.00923</td>\n    </tr>\n    <tr>\n      <th>4</th>\n      <td>안철수.eth</td>\n      <td>안철수 국민의당 대선 후보 공약</td>\n      <td>0x53d7118740830b2186d271177661b5d4e98c6b9dcef2...</td>\n      <td>\\n[G5 경제강국 대한민국 5.5.5 신성장 전략]\\n\\n1. 정부조직 개편\\n ...</td>\n      <td>1.00923</td>\n      <td>1.00923</td>\n    </tr>\n  </tbody>\n</table>\n</div>"
     },
     "execution_count": 187,
     "metadata": {},
     "output_type": "execute_result"
    }
   ],
   "source": [
    "space_name = spaces_list.iat[2,0]\n",
    "\n",
    "proposals2 = snapshot.Query.proposals(\n",
    "  orderBy='created',\n",
    "  orderDirection='desc',\n",
    "  first=1000,\n",
    "  where=[\n",
    "    snapshot.Proposal.space == space_name,\n",
    "    snapshot.Proposal.state == 'closed'\n",
    "    ##snapshot.Proposal.title == 'OIP-18: Reward rate framework and reduction',\n",
    "  ]\n",
    ")\n",
    "\n",
    "proposals_snapshots2 = sg.query_df([\n",
    "    proposals2.title,\n",
    "    proposals2.id,\n",
    "    proposals2.body,\n",
    "    proposals2.scores,\n",
    "    proposals2.scores_total\n",
    "])\n",
    "\n",
    "proposals_snapshots2.insert(0,'dao',space_name)\n",
    "\n",
    "proposals_snapshots2"
   ],
   "metadata": {
    "collapsed": false,
    "pycharm": {
     "name": "#%%\n"
    }
   }
  },
  {
   "cell_type": "code",
   "execution_count": 196,
   "outputs": [
    {
     "name": "stdout",
     "output_type": "stream",
     "text": [
      "10 狂奔的蜗牛5.eth 0\n",
      "20 深圳刘先生.eth 0\n",
      "30 掌上中药网平台.eth 0\n",
      "40 商丘工学院.eth 0\n",
      "50 zzrui.eth 0\n",
      "60 zys888.eth 0\n",
      "70 zsmjcaib.eth 0\n",
      "80 zoogangdao.eth 0\n",
      "90 zombietoadzdao.eth 0\n",
      "100 zloco.eth 0\n",
      "110 zipdao.eth 0\n",
      "120 zhupp.eth 0\n",
      "130 zhongzy.eth 0\n",
      "140 zhejiangshuilishuidianxueyuan.eth 0\n",
      "150 zhangwill.eth 0\n",
      "160 zeusdao.eth 0\n",
      "170 zerion1.eth 0\n",
      "180 zeldala.eth 0\n",
      "190 zdao-wilderwheels.eth 0\n",
      "200 zaoniao.eth 0\n",
      "210 yyygames.eth 0\n",
      "220 yuricat.eth 0\n",
      "230 yuihatano.eth 0\n",
      "240 youzufei.eth 0\n",
      "250 yotta21.eth 0\n",
      "260 yokaihouse.eth 0\n",
      "270 yjsoly.eth 0\n",
      "280 yinfinance.eth 0\n",
      "290 yieldfarming-insure 0\n",
      "300 yffs 0\n",
      "310 yeld 0\n",
      "320 ycggo.eth 0\n",
      "330 yaphets.eth 0\n",
      "340 yangzn.eth 0\n",
      "350 yanabu.eth 0\n",
      "360 yachovcohen.eth 0\n",
      "370 xwg.eth 0\n",
      "380 xuemingxin.eth 0\n",
      "390 xrpchain.eth 0\n",
      "400 xmtplabs.eth 0\n",
      "410 xinyang.eth 0\n",
      "420 xillion.eth 0\n",
      "430 xiaowukong.eth 0\n",
      "440 xiaoj.eth 0\n",
      "450 xiami.eth 0\n",
      "460 xf0707.eth 0\n",
      "470 xddcyy.eth 0\n",
      "480 xbing.eth 0\n",
      "490 wyzwang168.eth 0\n",
      "500 wujuanliwu.eth 0\n",
      "510 wscrj.eth 0\n",
      "520 woxapp.eth 0\n",
      "530 worldofme.eth 0\n",
      "540 woodies.eth 0\n",
      "550 wolfdefi 0\n",
      "560 wizgot.eth 0\n",
      "570 winterbears.eth 0\n",
      "580 wilsonhu.eth 0\n",
      "590 whorwecollective.eth 0\n",
      "600 whatcoin.eth 0\n",
      "610 wexgov.eth 0\n",
      "620 werunicorn.eth 0\n",
      "630 welovegm.eth 0\n",
      "640 wefinanceclub.eth 0\n",
      "650 web3venture.eth 0\n",
      "660 web3demo.eth 0\n",
      "670 wealthineer.eth 0\n",
      "680 wavypine.eth 0\n",
      "690 wanxutao.eth 0\n",
      "700 wanghan.eth 0\n",
      "710 wakana.eth 0\n",
      "720 wagdiesnapshot.eth 0\n",
      "730 vsp.eth 0\n",
      "740 voting.dataunion.eth 0\n",
      "750 vote.thekrakencollective.eth 0\n",
      "760 vote.hopr.eth 0\n",
      "770 vote.airswap.eth 0\n",
      "780 voislive.eth 0\n",
      "790 viv3.eth 0\n",
      "800 virtualbacon.eth 0\n",
      "810 vikpande.eth 0\n",
      "820 vestafinance.eth 0\n",
      "830 velr.eth 0\n",
      "840 vedaogov.eth 0\n",
      "850 vayc.art 0\n",
      "860 varbariancollection.eth 0\n",
      "870 valkyriesworld.eth 0\n",
      "880 v3sdao.eth 0\n",
      "890 uudao.eth 0\n",
      "900 usagii.eth 0\n",
      "910 uoregon.eth 0\n",
      "920 unknowndao.eth 0\n",
      "930 univ3.eth 0\n",
      "940 unisdao.eth 0\n",
      "950 unilion.eth 0\n",
      "960 unicodeforgeeks.eth 0\n",
      "970 undertakerw.eth 0\n",
      "980 unbankdao.eth 0\n",
      "990 ultraflat.eth 0\n",
      "1000 uefacup.eth 0\n",
      "1010 0xzuck.eth 0\n",
      "1020 goen.eth 0\n",
      "1030 latambadgers.eth 0\n",
      "1040 vdp.eth 0\n",
      "1050 gametheorytech.eth 0\n",
      "1060 freeapeyachtclub.eth 0\n",
      "1070 meritvault.eth 0\n",
      "1080 master9eyes.eth 0\n",
      "1090 antdao.eth 0\n",
      "1100 polarisfinance.eth 0\n",
      "1110 openpublish.eth 0\n",
      "1120 theflighters.eth 0\n",
      "1130 terry3t.eth 0\n",
      "1140 8848vip.eth 0\n",
      "1150 kumaverse.eth 0\n",
      "1160 lafrenchconnection.eth 0\n",
      "1170 snif-charity.eth 0\n",
      "1180 moksal.eth 0\n",
      "1190 pridepunks.eth 0\n",
      "1200 unimint.eth 0\n",
      "1210 thevisiondao.eth 0\n",
      "1220 maiadao.eth 0\n",
      "1230 pre-pandadao.eth 0\n",
      "1240 dcgsyndicate.eth 0\n",
      "1250 zdao-wilderworld.eth 0\n",
      "1260 moonbeamdao.eth 0\n",
      "1270 hellocurator.eth 0\n",
      "1280 wtweetdao.eth 0\n",
      "1290 digitsdao.eth 0\n",
      "1300 gamiumworld.eth 0\n",
      "1310 bossbeauty.eth 0\n",
      "1320 toterdao.eth 0\n",
      "1330 zady.eth 0\n",
      "1340 palladiumfinance.eth 0\n",
      "1350 daturians.eth 0\n",
      "1360 telcoinstakervote.eth 0\n",
      "1370 thegurudao.eth 0\n",
      "1380 vote.props.eth 0\n",
      "1390 1hivexcomb.eth 0\n",
      "1400 attrace.eth 0\n",
      "1410 aepidao.eth 0\n",
      "1420 pitbossbillionaires.eth 0\n",
      "1430 metaobjects.eth 0\n",
      "1440 etcbayc.eth 0\n",
      "1450 kinesisartcommunity.eth 0\n",
      "1460 houseofnegroni.eth 0\n",
      "1470 uma.eth 0\n",
      "1480 barrens.eth 0\n",
      "1490 vote.thecreative.eth 0\n",
      "1500 realelonmusk.eth 0\n",
      "1510 0xdyi.eth 0\n",
      "1520 velascommunity.eth 0\n",
      "1530 herafinance.eth 0\n",
      "1540 neptunechain.eth 0\n",
      "1550 tovbe.eth 0\n",
      "1560 emirbursa.eth 0\n",
      "1570 caos👨‍💻.eth 0\n",
      "1580 fluiddao.eth 0\n",
      "1590 tooncoin.eth 0\n",
      "1600 reiwacity.eth 0\n"
     ]
    },
    {
     "name": "stderr",
     "output_type": "stream",
     "text": [
      "C:\\Users\\ianfe\\PycharmProjects\\pythonProject\\venv\\lib\\site-packages\\subgrounds\\subgraph\\fieldpath.py:485: ResourceWarning: unclosed <socket.socket fd=3600, family=AddressFamily.AF_INET, type=SocketKind.SOCK_STREAM, proto=0, laddr=('192.168.1.56', 64012), raddr=('104.26.13.125', 443)>\n",
      "  match super().__getattribute__(__name):\n",
      "ResourceWarning: Enable tracemalloc to get the object allocation traceback\n"
     ]
    },
    {
     "name": "stdout",
     "output_type": "stream",
     "text": [
      "1610 drawdao.eth 0\n",
      "1620 axiba.eth 0\n",
      "1630 timepieceapes.eth 0\n",
      "1640 megavega.eth 0\n",
      "1650 matrixdaoresearch.eth 0\n",
      "1660 football3.eth 0\n",
      "1670 rizzledao.eth 0\n",
      "1680 adventurepizza.eth 0\n",
      "1690 medievaldao.eth 0\n",
      "1700 pltlotto.eth 0\n",
      "1710 skeletonzgang.eth 0\n",
      "1720 niumcrypto.eth 0\n",
      "1730 nandemotoken.eth 0\n",
      "1740 nagadao.eth 0\n",
      "1750 sentineldao.eth 0\n",
      "1760 wrise.eth 0\n",
      "1770 shanhe.eth 0\n",
      "1780 notmadi.eth 0\n",
      "1790 678dao.eth 0\n",
      "1800 dixelclub.eth 0\n",
      "1810 nostalgiadao.eth 0\n",
      "1820 kitkwan.eth 0\n",
      "1830 fatexdao.eth 0\n",
      "1840 xgzszdfs.eth 0\n",
      "1850 accelone.eth 0\n",
      "1860 secondskin.eth 0\n",
      "1870 binamongov.eth 0\n",
      "1880 web3venture.eth 0\n",
      "1890 nunababy.eth 0\n",
      "1900 grugslair.eth 0\n",
      "1910 xytothemoon.eth 0\n",
      "1920 bentokenfinance.eth 0\n",
      "1930 gonewind.eth 0\n",
      "1940 aqualisdao.eth 0\n",
      "1950 civicsdaotest.eth 0\n",
      "1960 55556.eth 0\n",
      "1970 bemular.eth 0\n",
      "1980 mmfinance.eth 0\n",
      "1990 apeznthehood.eth 0\n",
      "2000 hongtianyou.eth 0\n",
      "2010 shipchain.eth 0\n",
      "2020 desiege.eth 0\n",
      "2030 createit.eth 0\n",
      "2040 alohafrens.eth 0\n",
      "2050 cryptomakersfoundation.eth 0\n",
      "2060 thekrok.eth 0\n",
      "2070 starcatchersnft.eth 0\n",
      "2080 photoyogi.eth 0\n",
      "2090 cryptotechwomenofficial.eth 0\n",
      "2100 rnssol.eth 0\n",
      "2110 acorsica.eth 0\n",
      "2120 superbenefit.eth 0\n",
      "2130 fraktalgov.eth 0\n",
      "2140 hughq.eth 0\n",
      "2150 crazycrowschessclub.eth 0\n",
      "2160 lansdownepartners.eth 0\n",
      "2170 oneversedao.eth 0\n",
      "2180 5ycapital.eth 0\n",
      "2190 3co.3win.eth 0\n",
      "2200 billongroup.eth 0\n",
      "2210 motobrigade.eth 0\n",
      "2220 briah.eth 0\n",
      "2230 bakecoin.eth 0\n",
      "2240 thewolfgame.eth 0\n",
      "2250 primekeepers.eth 0\n",
      "2260 hodlbeer.eth 0\n",
      "2270 baeapes.eth 0\n",
      "2280 ourgalaxy.eth 0\n",
      "2290 unifriendsvault.eth 0\n",
      "2300 celletf.eth 0\n",
      "2310 londondao.eth 0\n",
      "2320 idiotsdaovote.eth 0\n",
      "2330 ethlizards.eth 0\n",
      "2340 wintersun.eth 0\n",
      "2350 eiji.eth 0\n",
      "2360 stddao.eth 0\n",
      "2370 ippcoin.eth 0\n",
      "2380 jokeishere.eth 0\n",
      "2390 polyheads.eth 0\n",
      "2400 trtlcoin.eth 0\n",
      "2410 secondself.eth 0\n",
      "2420 hypertrons.eth 0\n",
      "2430 optimism.cryptodateio.eth 0\n",
      "2440 exzogalaxyclub.eth 0\n",
      "2450 中国台湾省.eth 0\n",
      "2460 frankun.eth 0\n",
      "2470 spacingguild.eth 0\n",
      "2480 boyonft.eth 0\n",
      "2490 venus-xvs.eth 0\n",
      "2500 polygon.cryptodateio.eth 0\n",
      "2510 vayc.art 0\n",
      "2520 nofun.eth 0\n",
      "2530 tiptap.eth 0\n",
      "2540 xcelencia.eth 0\n",
      "2550 life-dao.eth 0\n",
      "2560 panicswap.eth 0\n",
      "2570 ectomoney.eth 0\n",
      "2580 top5wallet.eth 0\n",
      "2590 univmoney.eth 0\n",
      "2600 0n1forcedao.eth 0\n",
      "2610 nikar0.eth 0\n",
      "2620 netherworld.eth 0\n",
      "2630 fraktal.eth 0\n",
      "2640 teenrebelapeclub.eth 0\n",
      "2650 thelegendarydao.eth 0\n",
      "2660 greedybots.eth 0\n",
      "2670 parakeetdao.eth 0\n",
      "2680 kernal.eth 0\n",
      "2690 shomustgoon.eth 0\n",
      "2700 plethoradao.eth 0\n",
      "2710 empyreandao.eth 0\n",
      "2720 codingalex.eth 0\n",
      "2730 ccamrobertson.eth 0\n",
      "2740 larpcap.eth 0\n",
      "2750 herobabiesclubdao.eth 0\n",
      "2760 bandyland.eth 0\n",
      "2770 sacksmangold.eth 0\n",
      "2780 stammtischdao.eth 0\n",
      "2790 minimetis.eth 0\n",
      "2800 httpdaemons.eth 0\n",
      "2810 miamimartianclub.eth 0\n",
      "2820 reverseclimatechange.eth 0\n",
      "2830 gboxspace.eth 0\n",
      "2840 raptordao.eth 0\n",
      "2850 fancybearsdao.eth 0\n",
      "2860 2022dao.eth 0\n",
      "2870 trippygantoadz.eth 0\n",
      "2880 aceespy.eth 0\n",
      "2890 hotcross.eth 0\n",
      "2900 pelosi69capital.eth 0\n",
      "2910 dreamworlddao.eth 0\n",
      "2920 wowpixies.eth 0\n",
      "2930 houseofspoons.eth 0\n",
      "2940 collarquest.eth 0\n",
      "2950 skylinedao.eth 0\n",
      "2960 rpgchain.eth 0\n",
      "2970 pizzapartydao.eth 0\n",
      "2980 getforked.eth 0\n",
      "2990 thespacingguild.eth 0\n",
      "3000 nusic.eth 0\n",
      "3010 doodlebits.eth 0\n",
      "3020 hundredfinance.eth 0\n",
      "3030 mittens.eth 0\n",
      "3040 laodaogov.eth 0\n",
      "3050 pudgies.eth 0\n",
      "3060 pixelfoxes.eth 0\n",
      "3070 rogdao.eth 0\n",
      "3080 doodledogsnft.eth 0\n",
      "3090 mauna.eth 0\n",
      "3100 savehuobidao.eth 0\n",
      "3110 dmex.eth 0\n",
      "3120 wagumi.eth 0\n",
      "3130 monolithmanagement.eth 0\n",
      "3140 testrun.eth 0\n",
      "3150 forgiving.forg.eth 0\n",
      "3160 13space.eth 0\n",
      "3170 mate50x.eth 0\n",
      "3180 radraptors.eth 0\n",
      "3190 idhash.eth 0\n",
      "3200 redactedcartel.eth 0\n",
      "3210 bbondy.eth 0\n",
      "3220 movedao.eth 0\n",
      "3230 coinpirates.eth 0\n",
      "3240 consumerdao.eth 0\n",
      "3250 amphytrite.eth 0\n",
      "3260 gitcoin005.eth 0\n",
      "3270 bayro.eth 0\n",
      "3280 xdaotest.eth 0\n",
      "3290 misekai.eth 0\n",
      "3300 eth6666666.eth 0\n",
      "3310 metainfinite.eth 0\n",
      "3320 squishysquad.eth 0\n",
      "3330 chwi4.eth 0\n",
      "3340 cryptohuang.eth 0\n",
      "3350 superens.eth 0\n",
      "3360 trrrending.eth 0\n",
      "3370 hyperscaledao.eth 0\n",
      "3380 bentfinance.eth 0\n",
      "3390 polygonpenguins.eth 0\n",
      "3400 wavypine.eth 0\n",
      "3410 test-elyfi-bsc.eth 0\n",
      "3420 zonas.eth 0\n",
      "3430 averagesnapshot.eth 0\n",
      "3440 anahatadao.eth 0\n",
      "3450 zinchenkocapital.eth 0\n",
      "3460 cutiesofficial.eth 0\n",
      "3470 orakuru.eth 0\n",
      "3480 sablier1.eth 0\n",
      "3490 onepad.eth 0\n",
      "3500 securedaoftm.eth 0\n",
      "3510 gfanchan11.eth 0\n",
      "3520 novanetwork.eth 0\n",
      "3530 coastalkongclub.eth 0\n",
      "3540 web3shield.eth 0\n",
      "3550 slice-so.eth 0\n",
      "3560 yami7.eth 0\n",
      "3570 alphagov.eth 0\n",
      "3580 horizon1.eth 0\n",
      "3590 xddcyy.eth 0\n",
      "3600 yanming.eth 0\n",
      "3610 shot.eth 0\n",
      "3620 thegreatwave.eth 0\n",
      "3630 mau5verse.eth 0\n",
      "3640 zhahugh1984.eth 0\n",
      "3650 benchwork.eth 0\n",
      "3660 jimmychin.eth 0\n",
      "3670 hkdoll.eth 0\n",
      "3680 cartesian.eth 0\n",
      "3690 dongdo.eth 0\n",
      "3700 wanjie.eth 0\n",
      "3710 smartlaw.eth 0\n",
      "3720 wardens.eth 0\n",
      "3730 gtcswap.eth 0\n",
      "3740 xinan888.eth 0\n",
      "3750 avaxcoin.eth 0\n",
      "3760 jseph.eth 0\n",
      "3770 wandapictures.eth 0\n",
      "3780 tachibana.eth 0\n",
      "3790 mycointool.eth 0\n",
      "3800 sagittae.eth 0\n",
      "3810 welcomeback.eth 0\n",
      "3820 qinfengjiedai.eth 0\n",
      "3830 daovoice.eth 0\n",
      "3840 kerneldao.eth 0\n",
      "3850 youlaiwuqu.eth 0\n",
      "3860 haitangkeji.eth 0\n",
      "3870 contentdao.eth 0\n",
      "3880 westdoor.eth 0\n",
      "3890 hashland.eth 0\n",
      "3900 zyc18762406517.eth 0\n",
      "3910 budaha.eth 0\n",
      "3920 qinqinliushe.eth 0\n",
      "3930 杭州马pk深圳马.eth 0\n",
      "3940 boboat321.eth 0\n",
      "3950 rayz.eth 0\n",
      "3960 blockchainminers.eth 0\n",
      "3970 rainbowtoken.eth 0\n",
      "3980 ethereumgastracker.eth 0\n",
      "3990 gamblingapes.eth 0\n",
      "4000 xtxmarkets.eth 0\n",
      "4010 jztz.eth 0\n",
      "4020 xiaohuihui.eth 0\n",
      "4030 moneyball.samuel2k.eth 0\n",
      "4040 lidao.eth 0\n",
      "4050 adagecapital.eth 0\n",
      "4060 yesichen.eth 0\n",
      "4070 metavalley.eth 0\n",
      "4080 moonmeme.eth 0\n",
      "4090 maskpad.eth 0\n"
     ]
    },
    {
     "ename": "KeyError",
     "evalue": "'errors'",
     "output_type": "error",
     "traceback": [
      "\u001B[1;31m---------------------------------------------------------------------------\u001B[0m",
      "\u001B[1;31mKeyError\u001B[0m                                  Traceback (most recent call last)",
      "File \u001B[1;32m~\\PycharmProjects\\pythonProject\\venv\\lib\\site-packages\\subgrounds\\client.py:165\u001B[0m, in \u001B[0;36mquery\u001B[1;34m(url, query_str, variables)\u001B[0m\n\u001B[0;32m    164\u001B[0m \u001B[38;5;28;01mtry\u001B[39;00m:\n\u001B[1;32m--> 165\u001B[0m   \u001B[38;5;28;01mreturn\u001B[39;00m \u001B[43mresp\u001B[49m\u001B[43m[\u001B[49m\u001B[38;5;124;43m'\u001B[39;49m\u001B[38;5;124;43mdata\u001B[39;49m\u001B[38;5;124;43m'\u001B[39;49m\u001B[43m]\u001B[49m\n\u001B[0;32m    166\u001B[0m \u001B[38;5;28;01mexcept\u001B[39;00m \u001B[38;5;167;01mKeyError\u001B[39;00m \u001B[38;5;28;01mas\u001B[39;00m exn:\n",
      "\u001B[1;31mKeyError\u001B[0m: 'data'",
      "\nDuring handling of the above exception, another exception occurred:\n",
      "\u001B[1;31mKeyError\u001B[0m                                  Traceback (most recent call last)",
      "Input \u001B[1;32mIn [196]\u001B[0m, in \u001B[0;36m<cell line: 3>\u001B[1;34m()\u001B[0m\n\u001B[0;32m      4\u001B[0m   space_name \u001B[38;5;241m=\u001B[39m spaces_list\u001B[38;5;241m.\u001B[39miat[t,\u001B[38;5;241m0\u001B[39m]\n\u001B[0;32m      5\u001B[0m   proposals3 \u001B[38;5;241m=\u001B[39m snapshot\u001B[38;5;241m.\u001B[39mQuery\u001B[38;5;241m.\u001B[39mproposals(\n\u001B[0;32m      6\u001B[0m     orderBy\u001B[38;5;241m=\u001B[39m\u001B[38;5;124m'\u001B[39m\u001B[38;5;124mcreated\u001B[39m\u001B[38;5;124m'\u001B[39m,\n\u001B[0;32m      7\u001B[0m     orderDirection\u001B[38;5;241m=\u001B[39m\u001B[38;5;124m'\u001B[39m\u001B[38;5;124mdesc\u001B[39m\u001B[38;5;124m'\u001B[39m,\n\u001B[1;32m   (...)\u001B[0m\n\u001B[0;32m     13\u001B[0m       ]\n\u001B[0;32m     14\u001B[0m   )\n\u001B[1;32m---> 15\u001B[0m   proposals_snapshots3 \u001B[38;5;241m=\u001B[39m \u001B[43msg\u001B[49m\u001B[38;5;241;43m.\u001B[39;49m\u001B[43mquery_df\u001B[49m\u001B[43m(\u001B[49m\u001B[43m[\u001B[49m\n\u001B[0;32m     16\u001B[0m \u001B[43m    \u001B[49m\u001B[43mproposals3\u001B[49m\u001B[38;5;241;43m.\u001B[39;49m\u001B[43mtitle\u001B[49m\u001B[43m,\u001B[49m\n\u001B[0;32m     17\u001B[0m \u001B[43m    \u001B[49m\u001B[43mproposals3\u001B[49m\u001B[38;5;241;43m.\u001B[39;49m\u001B[43mid\u001B[49m\u001B[43m,\u001B[49m\n\u001B[0;32m     18\u001B[0m \u001B[43m    \u001B[49m\u001B[43mproposals3\u001B[49m\u001B[38;5;241;43m.\u001B[39;49m\u001B[43mbody\u001B[49m\u001B[43m,\u001B[49m\n\u001B[0;32m     19\u001B[0m \u001B[43m    \u001B[49m\u001B[43mproposals3\u001B[49m\u001B[38;5;241;43m.\u001B[39;49m\u001B[43mscores\u001B[49m\u001B[43m,\u001B[49m\n\u001B[0;32m     20\u001B[0m \u001B[43m    \u001B[49m\u001B[43mproposals3\u001B[49m\u001B[38;5;241;43m.\u001B[39;49m\u001B[43mscores_total\u001B[49m\n\u001B[0;32m     21\u001B[0m \u001B[43m]\u001B[49m\u001B[43m)\u001B[49m\n\u001B[0;32m     22\u001B[0m   proposals_snapshots3\u001B[38;5;241m.\u001B[39minsert(\u001B[38;5;241m0\u001B[39m,\u001B[38;5;124m'\u001B[39m\u001B[38;5;124mdao\u001B[39m\u001B[38;5;124m'\u001B[39m,space_name)\n\u001B[0;32m     23\u001B[0m   proposals_snapshots \u001B[38;5;241m=\u001B[39m pd\u001B[38;5;241m.\u001B[39mconcat([proposals_snapshots,proposals_snapshots2,proposals_snapshots3])\n",
      "File \u001B[1;32m~\\PycharmProjects\\pythonProject\\venv\\lib\\site-packages\\subgrounds\\subgrounds.py:322\u001B[0m, in \u001B[0;36mSubgrounds.query_df\u001B[1;34m(self, fpaths, columns, concat, auto_paginate)\u001B[0m\n\u001B[0;32m    261\u001B[0m \u001B[38;5;124;03m\"\"\"Same as :func:`Subgrounds.query` but formats the response data into a\u001B[39;00m\n\u001B[0;32m    262\u001B[0m \u001B[38;5;124;03mPandas DataFrame. If the response data cannot be flattened to a single query\u001B[39;00m\n\u001B[0;32m    263\u001B[0m \u001B[38;5;124;03m(e.g.: when querying multiple list fields that return different entities),\u001B[39;00m\n\u001B[1;32m   (...)\u001B[0m\n\u001B[0;32m    319\u001B[0m \u001B[38;5;124;03m9       1643213196  2610.686563\u001B[39;00m\n\u001B[0;32m    320\u001B[0m \u001B[38;5;124;03m\"\"\"\u001B[39;00m\n\u001B[0;32m    321\u001B[0m fpaths \u001B[38;5;241m=\u001B[39m \u001B[38;5;28mlist\u001B[39m(fpaths \u001B[38;5;241m|\u001B[39m \u001B[38;5;28mmap\u001B[39m(FieldPath\u001B[38;5;241m.\u001B[39m_auto_select) \u001B[38;5;241m|\u001B[39m traverse)\n\u001B[1;32m--> 322\u001B[0m json_data \u001B[38;5;241m=\u001B[39m \u001B[38;5;28;43mself\u001B[39;49m\u001B[38;5;241;43m.\u001B[39;49m\u001B[43mquery_json\u001B[49m\u001B[43m(\u001B[49m\u001B[43mfpaths\u001B[49m\u001B[43m,\u001B[49m\u001B[43m \u001B[49m\u001B[43mauto_paginate\u001B[49m\u001B[38;5;241;43m=\u001B[39;49m\u001B[43mauto_paginate\u001B[49m\u001B[43m)\u001B[49m\n\u001B[0;32m    323\u001B[0m \u001B[38;5;28;01mreturn\u001B[39;00m df_of_json(json_data, fpaths, columns, concat)\n",
      "File \u001B[1;32m~\\PycharmProjects\\pythonProject\\venv\\lib\\site-packages\\subgrounds\\subgrounds.py:231\u001B[0m, in \u001B[0;36mSubgrounds.query_json\u001B[1;34m(self, fpaths, auto_paginate)\u001B[0m\n\u001B[0;32m    229\u001B[0m fpaths \u001B[38;5;241m=\u001B[39m \u001B[38;5;28mlist\u001B[39m(fpaths \u001B[38;5;241m|\u001B[39m \u001B[38;5;28mmap\u001B[39m(FieldPath\u001B[38;5;241m.\u001B[39m_auto_select) \u001B[38;5;241m|\u001B[39m traverse)\n\u001B[0;32m    230\u001B[0m req \u001B[38;5;241m=\u001B[39m \u001B[38;5;28mself\u001B[39m\u001B[38;5;241m.\u001B[39mmk_request(fpaths)\n\u001B[1;32m--> 231\u001B[0m \u001B[38;5;28;01mreturn\u001B[39;00m \u001B[38;5;28;43mself\u001B[39;49m\u001B[38;5;241;43m.\u001B[39;49m\u001B[43mexecute\u001B[49m\u001B[43m(\u001B[49m\u001B[43mreq\u001B[49m\u001B[43m,\u001B[49m\u001B[43m \u001B[49m\u001B[43mauto_paginate\u001B[49m\u001B[38;5;241;43m=\u001B[39;49m\u001B[43mauto_paginate\u001B[49m\u001B[43m)\u001B[49m\n",
      "File \u001B[1;32m~\\PycharmProjects\\pythonProject\\venv\\lib\\site-packages\\subgrounds\\subgrounds.py:164\u001B[0m, in \u001B[0;36mSubgrounds.execute\u001B[1;34m(self, req, auto_paginate)\u001B[0m\n\u001B[0;32m    154\u001B[0m   \u001B[38;5;28;01mmatch\u001B[39;00m transforms:\n\u001B[0;32m    155\u001B[0m     \u001B[38;5;28;01mcase\u001B[39;00m []:\n\u001B[0;32m    156\u001B[0m       \u001B[38;5;28;01mreturn\u001B[39;00m \u001B[38;5;28mlist\u001B[39m(req\u001B[38;5;241m.\u001B[39mdocuments \u001B[38;5;241m|\u001B[39m \u001B[38;5;28mmap\u001B[39m(\u001B[38;5;28;01mlambda\u001B[39;00m doc: transform_doc(\u001B[38;5;28mself\u001B[39m\u001B[38;5;241m.\u001B[39msubgraphs[doc\u001B[38;5;241m.\u001B[39murl]\u001B[38;5;241m.\u001B[39m_transforms, doc)))\n\u001B[1;32m   (...)\u001B[0m\n\u001B[0;32m    159\u001B[0m       data \u001B[38;5;241m=\u001B[39m transform_req(rest, new_req)\n\u001B[0;32m    160\u001B[0m       \u001B[38;5;28;01mreturn\u001B[39;00m transform\u001B[38;5;241m.\u001B[39mtransform_response(req, data)\n\u001B[0;32m    162\u001B[0m   \u001B[38;5;28;01massert\u001B[39;00m \u001B[38;5;28;01mFalse\u001B[39;00m  \u001B[38;5;66;03m# Suppress mypy missing return statement warning\u001B[39;00m\n\u001B[1;32m--> 164\u001B[0m \u001B[38;5;28;01mreturn\u001B[39;00m \u001B[43mtransform_req\u001B[49m\u001B[43m(\u001B[49m\u001B[38;5;28;43mself\u001B[39;49m\u001B[38;5;241;43m.\u001B[39;49m\u001B[43mglobal_transforms\u001B[49m\u001B[43m,\u001B[49m\u001B[43m \u001B[49m\u001B[43mreq\u001B[49m\u001B[43m)\u001B[49m\n",
      "File \u001B[1;32m~\\PycharmProjects\\pythonProject\\venv\\lib\\site-packages\\subgrounds\\subgrounds.py:156\u001B[0m, in \u001B[0;36mSubgrounds.execute.<locals>.transform_req\u001B[1;34m(transforms, req)\u001B[0m\n\u001B[0;32m    153\u001B[0m \u001B[38;5;28;01mdef\u001B[39;00m \u001B[38;5;21mtransform_req\u001B[39m(transforms: \u001B[38;5;28mlist\u001B[39m[RequestTransform], req: DataRequest) \u001B[38;5;241m-\u001B[39m\u001B[38;5;241m>\u001B[39m \u001B[38;5;28mlist\u001B[39m[\u001B[38;5;28mdict\u001B[39m]:\n\u001B[0;32m    154\u001B[0m   \u001B[38;5;28;01mmatch\u001B[39;00m transforms:\n\u001B[0;32m    155\u001B[0m     \u001B[38;5;28;01mcase\u001B[39;00m []:\n\u001B[1;32m--> 156\u001B[0m       \u001B[38;5;28;01mreturn\u001B[39;00m \u001B[38;5;28;43mlist\u001B[39;49m\u001B[43m(\u001B[49m\u001B[43mreq\u001B[49m\u001B[38;5;241;43m.\u001B[39;49m\u001B[43mdocuments\u001B[49m\u001B[43m \u001B[49m\u001B[38;5;241;43m|\u001B[39;49m\u001B[43m \u001B[49m\u001B[38;5;28;43mmap\u001B[39;49m\u001B[43m(\u001B[49m\u001B[38;5;28;43;01mlambda\u001B[39;49;00m\u001B[43m \u001B[49m\u001B[43mdoc\u001B[49m\u001B[43m:\u001B[49m\u001B[43m \u001B[49m\u001B[43mtransform_doc\u001B[49m\u001B[43m(\u001B[49m\u001B[38;5;28;43mself\u001B[39;49m\u001B[38;5;241;43m.\u001B[39;49m\u001B[43msubgraphs\u001B[49m\u001B[43m[\u001B[49m\u001B[43mdoc\u001B[49m\u001B[38;5;241;43m.\u001B[39;49m\u001B[43murl\u001B[49m\u001B[43m]\u001B[49m\u001B[38;5;241;43m.\u001B[39;49m\u001B[43m_transforms\u001B[49m\u001B[43m,\u001B[49m\u001B[43m \u001B[49m\u001B[43mdoc\u001B[49m\u001B[43m)\u001B[49m\u001B[43m)\u001B[49m\u001B[43m)\u001B[49m\n\u001B[0;32m    157\u001B[0m     \u001B[38;5;28;01mcase\u001B[39;00m [transform, \u001B[38;5;241m*\u001B[39mrest]:\n\u001B[0;32m    158\u001B[0m       new_req \u001B[38;5;241m=\u001B[39m transform\u001B[38;5;241m.\u001B[39mtransform_request(req)\n\u001B[0;32m    159\u001B[0m       data \u001B[38;5;241m=\u001B[39m transform_req(rest, new_req)\n\u001B[0;32m    160\u001B[0m       \u001B[38;5;28;01mreturn\u001B[39;00m transform\u001B[38;5;241m.\u001B[39mtransform_response(req, data)\n\u001B[0;32m    162\u001B[0m   \u001B[38;5;28;01massert\u001B[39;00m \u001B[38;5;28;01mFalse\u001B[39;00m\n",
      "File \u001B[1;32m~\\PycharmProjects\\pythonProject\\venv\\lib\\site-packages\\subgrounds\\subgrounds.py:156\u001B[0m, in \u001B[0;36mSubgrounds.execute.<locals>.transform_req.<locals>.<lambda>\u001B[1;34m(doc)\u001B[0m\n\u001B[0;32m    153\u001B[0m \u001B[38;5;28;01mdef\u001B[39;00m \u001B[38;5;21mtransform_req\u001B[39m(transforms: \u001B[38;5;28mlist\u001B[39m[RequestTransform], req: DataRequest) \u001B[38;5;241m-\u001B[39m\u001B[38;5;241m>\u001B[39m \u001B[38;5;28mlist\u001B[39m[\u001B[38;5;28mdict\u001B[39m]:\n\u001B[0;32m    154\u001B[0m   \u001B[38;5;28;01mmatch\u001B[39;00m transforms:\n\u001B[0;32m    155\u001B[0m     \u001B[38;5;28;01mcase\u001B[39;00m []:\n\u001B[1;32m--> 156\u001B[0m       \u001B[38;5;28;01mreturn\u001B[39;00m \u001B[38;5;28mlist\u001B[39m(req\u001B[38;5;241m.\u001B[39mdocuments \u001B[38;5;241m|\u001B[39m \u001B[38;5;28mmap\u001B[39m(\u001B[38;5;28;01mlambda\u001B[39;00m doc: \u001B[43mtransform_doc\u001B[49m\u001B[43m(\u001B[49m\u001B[38;5;28;43mself\u001B[39;49m\u001B[38;5;241;43m.\u001B[39;49m\u001B[43msubgraphs\u001B[49m\u001B[43m[\u001B[49m\u001B[43mdoc\u001B[49m\u001B[38;5;241;43m.\u001B[39;49m\u001B[43murl\u001B[49m\u001B[43m]\u001B[49m\u001B[38;5;241;43m.\u001B[39;49m\u001B[43m_transforms\u001B[49m\u001B[43m,\u001B[49m\u001B[43m \u001B[49m\u001B[43mdoc\u001B[49m\u001B[43m)\u001B[49m))\n\u001B[0;32m    157\u001B[0m     \u001B[38;5;28;01mcase\u001B[39;00m [transform, \u001B[38;5;241m*\u001B[39mrest]:\n\u001B[0;32m    158\u001B[0m       new_req \u001B[38;5;241m=\u001B[39m transform\u001B[38;5;241m.\u001B[39mtransform_request(req)\n\u001B[0;32m    159\u001B[0m       data \u001B[38;5;241m=\u001B[39m transform_req(rest, new_req)\n\u001B[0;32m    160\u001B[0m       \u001B[38;5;28;01mreturn\u001B[39;00m transform\u001B[38;5;241m.\u001B[39mtransform_response(req, data)\n\u001B[0;32m    162\u001B[0m   \u001B[38;5;28;01massert\u001B[39;00m \u001B[38;5;28;01mFalse\u001B[39;00m\n",
      "File \u001B[1;32m~\\PycharmProjects\\pythonProject\\venv\\lib\\site-packages\\subgrounds\\subgrounds.py:148\u001B[0m, in \u001B[0;36mSubgrounds.execute.<locals>.transform_doc\u001B[1;34m(transforms, doc)\u001B[0m\n\u001B[0;32m    141\u001B[0m \u001B[38;5;28;01mdef\u001B[39;00m \u001B[38;5;21mtransform_doc\u001B[39m(transforms: \u001B[38;5;28mlist\u001B[39m[DocumentTransform], doc: Document) \u001B[38;5;241m-\u001B[39m\u001B[38;5;241m>\u001B[39m \u001B[38;5;28mdict\u001B[39m:\n\u001B[0;32m    142\u001B[0m   logger\u001B[38;5;241m.\u001B[39mdebug(\u001B[38;5;124mf\u001B[39m\u001B[38;5;124m'\u001B[39m\u001B[38;5;124mexecute.transform_doc: doc = \u001B[39m\u001B[38;5;130;01m\\n\u001B[39;00m\u001B[38;5;132;01m{\u001B[39;00mdoc\u001B[38;5;241m.\u001B[39mgraphql\u001B[38;5;132;01m}\u001B[39;00m\u001B[38;5;124m'\u001B[39m)\n\u001B[0;32m    143\u001B[0m   \u001B[38;5;28;01mmatch\u001B[39;00m transforms:\n\u001B[0;32m    144\u001B[0m     \u001B[38;5;28;01mcase\u001B[39;00m []:\n\u001B[0;32m    145\u001B[0m       \u001B[38;5;28;01mreturn\u001B[39;00m execute_document(doc)\n\u001B[0;32m    146\u001B[0m     \u001B[38;5;28;01mcase\u001B[39;00m [transform, \u001B[38;5;241m*\u001B[39mrest]:\n\u001B[0;32m    147\u001B[0m       new_doc \u001B[38;5;241m=\u001B[39m transform\u001B[38;5;241m.\u001B[39mtransform_document(doc)\n\u001B[1;32m--> 148\u001B[0m       data \u001B[38;5;241m=\u001B[39m \u001B[43mtransform_doc\u001B[49m\u001B[43m(\u001B[49m\u001B[43mrest\u001B[49m\u001B[43m,\u001B[49m\u001B[43m \u001B[49m\u001B[43mnew_doc\u001B[49m\u001B[43m)\u001B[49m\n\u001B[0;32m    149\u001B[0m       \u001B[38;5;28;01mreturn\u001B[39;00m transform\u001B[38;5;241m.\u001B[39mtransform_response(doc, data)\n\u001B[0;32m    151\u001B[0m   \u001B[38;5;28;01massert\u001B[39;00m \u001B[38;5;28;01mFalse\u001B[39;00m\n",
      "File \u001B[1;32m~\\PycharmProjects\\pythonProject\\venv\\lib\\site-packages\\subgrounds\\subgrounds.py:148\u001B[0m, in \u001B[0;36mSubgrounds.execute.<locals>.transform_doc\u001B[1;34m(transforms, doc)\u001B[0m\n\u001B[0;32m    141\u001B[0m \u001B[38;5;28;01mdef\u001B[39;00m \u001B[38;5;21mtransform_doc\u001B[39m(transforms: \u001B[38;5;28mlist\u001B[39m[DocumentTransform], doc: Document) \u001B[38;5;241m-\u001B[39m\u001B[38;5;241m>\u001B[39m \u001B[38;5;28mdict\u001B[39m:\n\u001B[0;32m    142\u001B[0m   logger\u001B[38;5;241m.\u001B[39mdebug(\u001B[38;5;124mf\u001B[39m\u001B[38;5;124m'\u001B[39m\u001B[38;5;124mexecute.transform_doc: doc = \u001B[39m\u001B[38;5;130;01m\\n\u001B[39;00m\u001B[38;5;132;01m{\u001B[39;00mdoc\u001B[38;5;241m.\u001B[39mgraphql\u001B[38;5;132;01m}\u001B[39;00m\u001B[38;5;124m'\u001B[39m)\n\u001B[0;32m    143\u001B[0m   \u001B[38;5;28;01mmatch\u001B[39;00m transforms:\n\u001B[0;32m    144\u001B[0m     \u001B[38;5;28;01mcase\u001B[39;00m []:\n\u001B[0;32m    145\u001B[0m       \u001B[38;5;28;01mreturn\u001B[39;00m execute_document(doc)\n\u001B[0;32m    146\u001B[0m     \u001B[38;5;28;01mcase\u001B[39;00m [transform, \u001B[38;5;241m*\u001B[39mrest]:\n\u001B[0;32m    147\u001B[0m       new_doc \u001B[38;5;241m=\u001B[39m transform\u001B[38;5;241m.\u001B[39mtransform_document(doc)\n\u001B[1;32m--> 148\u001B[0m       data \u001B[38;5;241m=\u001B[39m \u001B[43mtransform_doc\u001B[49m\u001B[43m(\u001B[49m\u001B[43mrest\u001B[49m\u001B[43m,\u001B[49m\u001B[43m \u001B[49m\u001B[43mnew_doc\u001B[49m\u001B[43m)\u001B[49m\n\u001B[0;32m    149\u001B[0m       \u001B[38;5;28;01mreturn\u001B[39;00m transform\u001B[38;5;241m.\u001B[39mtransform_response(doc, data)\n\u001B[0;32m    151\u001B[0m   \u001B[38;5;28;01massert\u001B[39;00m \u001B[38;5;28;01mFalse\u001B[39;00m\n",
      "File \u001B[1;32m~\\PycharmProjects\\pythonProject\\venv\\lib\\site-packages\\subgrounds\\subgrounds.py:145\u001B[0m, in \u001B[0;36mSubgrounds.execute.<locals>.transform_doc\u001B[1;34m(transforms, doc)\u001B[0m\n\u001B[0;32m    141\u001B[0m \u001B[38;5;28;01mdef\u001B[39;00m \u001B[38;5;21mtransform_doc\u001B[39m(transforms: \u001B[38;5;28mlist\u001B[39m[DocumentTransform], doc: Document) \u001B[38;5;241m-\u001B[39m\u001B[38;5;241m>\u001B[39m \u001B[38;5;28mdict\u001B[39m:\n\u001B[0;32m    142\u001B[0m   logger\u001B[38;5;241m.\u001B[39mdebug(\u001B[38;5;124mf\u001B[39m\u001B[38;5;124m'\u001B[39m\u001B[38;5;124mexecute.transform_doc: doc = \u001B[39m\u001B[38;5;130;01m\\n\u001B[39;00m\u001B[38;5;132;01m{\u001B[39;00mdoc\u001B[38;5;241m.\u001B[39mgraphql\u001B[38;5;132;01m}\u001B[39;00m\u001B[38;5;124m'\u001B[39m)\n\u001B[0;32m    143\u001B[0m   \u001B[38;5;28;01mmatch\u001B[39;00m transforms:\n\u001B[0;32m    144\u001B[0m     \u001B[38;5;28;01mcase\u001B[39;00m []:\n\u001B[1;32m--> 145\u001B[0m       \u001B[38;5;28;01mreturn\u001B[39;00m \u001B[43mexecute_document\u001B[49m\u001B[43m(\u001B[49m\u001B[43mdoc\u001B[49m\u001B[43m)\u001B[49m\n\u001B[0;32m    146\u001B[0m     \u001B[38;5;28;01mcase\u001B[39;00m [transform, \u001B[38;5;241m*\u001B[39mrest]:\n\u001B[0;32m    147\u001B[0m       new_doc \u001B[38;5;241m=\u001B[39m transform\u001B[38;5;241m.\u001B[39mtransform_document(doc)\n\u001B[0;32m    148\u001B[0m       data \u001B[38;5;241m=\u001B[39m transform_doc(rest, new_doc)\n\u001B[0;32m    149\u001B[0m       \u001B[38;5;28;01mreturn\u001B[39;00m transform\u001B[38;5;241m.\u001B[39mtransform_response(doc, data)\n\u001B[0;32m    151\u001B[0m   \u001B[38;5;28;01massert\u001B[39;00m \u001B[38;5;28;01mFalse\u001B[39;00m\n",
      "File \u001B[1;32m~\\PycharmProjects\\pythonProject\\venv\\lib\\site-packages\\subgrounds\\subgrounds.py:139\u001B[0m, in \u001B[0;36mSubgrounds.execute.<locals>.execute_document\u001B[1;34m(doc)\u001B[0m\n\u001B[0;32m    137\u001B[0m   \u001B[38;5;28;01mreturn\u001B[39;00m pagination\u001B[38;5;241m.\u001B[39mpaginate(subgraph\u001B[38;5;241m.\u001B[39m_schema, doc)\n\u001B[0;32m    138\u001B[0m \u001B[38;5;28;01melse\u001B[39;00m:\n\u001B[1;32m--> 139\u001B[0m   \u001B[38;5;28;01mreturn\u001B[39;00m \u001B[43mclient\u001B[49m\u001B[38;5;241;43m.\u001B[39;49m\u001B[43mquery\u001B[49m\u001B[43m(\u001B[49m\u001B[43mdoc\u001B[49m\u001B[38;5;241;43m.\u001B[39;49m\u001B[43murl\u001B[49m\u001B[43m,\u001B[49m\u001B[43m \u001B[49m\u001B[43mdoc\u001B[49m\u001B[38;5;241;43m.\u001B[39;49m\u001B[43mgraphql\u001B[49m\u001B[43m,\u001B[49m\u001B[43m \u001B[49m\u001B[43mvariables\u001B[49m\u001B[38;5;241;43m=\u001B[39;49m\u001B[43mdoc\u001B[49m\u001B[38;5;241;43m.\u001B[39;49m\u001B[43mvariables\u001B[49m\u001B[43m)\u001B[49m\n",
      "File \u001B[1;32m~\\PycharmProjects\\pythonProject\\venv\\lib\\site-packages\\subgrounds\\client.py:167\u001B[0m, in \u001B[0;36mquery\u001B[1;34m(url, query_str, variables)\u001B[0m\n\u001B[0;32m    165\u001B[0m   \u001B[38;5;28;01mreturn\u001B[39;00m resp[\u001B[38;5;124m'\u001B[39m\u001B[38;5;124mdata\u001B[39m\u001B[38;5;124m'\u001B[39m]\n\u001B[0;32m    166\u001B[0m \u001B[38;5;28;01mexcept\u001B[39;00m \u001B[38;5;167;01mKeyError\u001B[39;00m \u001B[38;5;28;01mas\u001B[39;00m exn:\n\u001B[1;32m--> 167\u001B[0m   \u001B[38;5;28;01mraise\u001B[39;00m \u001B[38;5;167;01mException\u001B[39;00m(\u001B[43mresp\u001B[49m\u001B[43m[\u001B[49m\u001B[38;5;124;43m'\u001B[39;49m\u001B[38;5;124;43merrors\u001B[39;49m\u001B[38;5;124;43m'\u001B[39;49m\u001B[43m]\u001B[49m) \u001B[38;5;28;01mfrom\u001B[39;00m \u001B[38;5;21;01mexn\u001B[39;00m\n",
      "\u001B[1;31mKeyError\u001B[0m: 'errors'"
     ]
    }
   ],
   "source": [
    "proposals3 = []\n",
    "t=3\n",
    "while t<=numspaces :\n",
    "  space_name = spaces_list.iat[t,0]\n",
    "  proposals3 = snapshot.Query.proposals(\n",
    "    orderBy='created',\n",
    "    orderDirection='desc',\n",
    "    first=1000,\n",
    "    skip = 1000*t,\n",
    "    where=[\n",
    "      snapshot.Proposal.space == space_name,\n",
    "      snapshot.Proposal.state == 'closed'\n",
    "      ]\n",
    "  )\n",
    "  proposals_snapshots3 = sg.query_df([\n",
    "    proposals3.title,\n",
    "    proposals3.id,\n",
    "    proposals3.body,\n",
    "    proposals3.scores,\n",
    "    proposals3.scores_total\n",
    "])\n",
    "  proposals_snapshots3.insert(0,'dao',space_name)\n",
    "  proposals_snapshots = pd.concat([proposals_snapshots,proposals_snapshots2,proposals_snapshots3])\n",
    "  t=t+1\n",
    "  l=len(proposals_snapshots3)\n",
    "  if t%10 == 0: print (t,space_name,l)\n",
    "  if len(proposals_snapshots3)>0:\n",
    "    print(t,space_name,l)\n",
    "\n",
    "proposals_snapshots"
   ],
   "metadata": {
    "collapsed": false,
    "pycharm": {
     "name": "#%%\n"
    }
   }
  },
  {
   "cell_type": "code",
   "execution_count": 197,
   "outputs": [
    {
     "data": {
      "text/plain": "         dao                                    proposals_title  \\\n0   🍯dao.eth                       Should I get 2 times one ETH   \n1   🍯dao.eth                       Should I get 2 times one ETH   \n2   🍯dao.eth  What is the next achievement we should fund be...   \n3   🍯dao.eth  What is the next achievement we should fund be...   \n4   🍯dao.eth  Should the 🍯️DAO set its Gnosis Safe as the co...   \n..       ...                                                ...   \n0    안철수.eth                                안철수 후보의 가상 자산 관련 공약   \n1    안철수.eth                                안철수 후보의 가상 자산 관련 공약   \n2    안철수.eth                                안철수 후보의 가상 자산 관련 공약   \n3    안철수.eth                                  안철수 국민의당 대선 후보 공약   \n4    안철수.eth                                  안철수 국민의당 대선 후보 공약   \n\n                                         proposals_id  \\\n0      QmQ1s8FHhX2FtFGRcfbbdJmT1sU8EwPymDytsHyzFp5YoL   \n1      QmQ1s8FHhX2FtFGRcfbbdJmT1sU8EwPymDytsHyzFp5YoL   \n2      QmZwnht7pRE2xGnUoQMU37eoNV8eEnobrejPZwDzdpBjaY   \n3      QmZwnht7pRE2xGnUoQMU37eoNV8eEnobrejPZwDzdpBjaY   \n4      QmWwo3TkBtUybd7wcwix6yuGtApR427FBCxiSGJNwowDoN   \n..                                                ...   \n0   0x4b51e3f70647398ba7a7799fcbc10cccf34e7a3fc165...   \n1   0x4b51e3f70647398ba7a7799fcbc10cccf34e7a3fc165...   \n2   0x4b51e3f70647398ba7a7799fcbc10cccf34e7a3fc165...   \n3   0x53d7118740830b2186d271177661b5d4e98c6b9dcef2...   \n4   0x53d7118740830b2186d271177661b5d4e98c6b9dcef2...   \n\n                                       proposals_body  proposals_scores  \\\n0                       Should I get 2 times one ETH?         10.096352   \n1                       Should I get 2 times one ETH?          0.000000   \n2                                                              0.498913   \n3                                                              0.000000   \n4   This is a proposal to set the controller of th...          2.711773   \n..                                                ...               ...   \n0   \\n안철수 후보가 20대 대통령이 된다면\\n가상자산 업계는 어떻게 될 것이라고 예상...          0.000000   \n1   \\n안철수 후보가 20대 대통령이 된다면\\n가상자산 업계는 어떻게 될 것이라고 예상...          0.000000   \n2   \\n안철수 후보가 20대 대통령이 된다면\\n가상자산 업계는 어떻게 될 것이라고 예상...          0.000000   \n3   \\n[G5 경제강국 대한민국 5.5.5 신성장 전략]\\n\\n1. 정부조직 개편\\n ...          0.000000   \n4   \\n[G5 경제강국 대한민국 5.5.5 신성장 전략]\\n\\n1. 정부조직 개편\\n ...          1.009230   \n\n    proposals_scores_total  \n0                10.096352  \n1                10.096352  \n2                 0.498913  \n3                 0.498913  \n4                 2.711773  \n..                     ...  \n0                 0.000000  \n1                 0.000000  \n2                 0.000000  \n3                 1.009230  \n4                 1.009230  \n\n[22189 rows x 6 columns]",
      "text/html": "<div>\n<style scoped>\n    .dataframe tbody tr th:only-of-type {\n        vertical-align: middle;\n    }\n\n    .dataframe tbody tr th {\n        vertical-align: top;\n    }\n\n    .dataframe thead th {\n        text-align: right;\n    }\n</style>\n<table border=\"1\" class=\"dataframe\">\n  <thead>\n    <tr style=\"text-align: right;\">\n      <th></th>\n      <th>dao</th>\n      <th>proposals_title</th>\n      <th>proposals_id</th>\n      <th>proposals_body</th>\n      <th>proposals_scores</th>\n      <th>proposals_scores_total</th>\n    </tr>\n  </thead>\n  <tbody>\n    <tr>\n      <th>0</th>\n      <td>🍯dao.eth</td>\n      <td>Should I get 2 times one ETH</td>\n      <td>QmQ1s8FHhX2FtFGRcfbbdJmT1sU8EwPymDytsHyzFp5YoL</td>\n      <td>Should I get 2 times one ETH?</td>\n      <td>10.096352</td>\n      <td>10.096352</td>\n    </tr>\n    <tr>\n      <th>1</th>\n      <td>🍯dao.eth</td>\n      <td>Should I get 2 times one ETH</td>\n      <td>QmQ1s8FHhX2FtFGRcfbbdJmT1sU8EwPymDytsHyzFp5YoL</td>\n      <td>Should I get 2 times one ETH?</td>\n      <td>0.000000</td>\n      <td>10.096352</td>\n    </tr>\n    <tr>\n      <th>2</th>\n      <td>🍯dao.eth</td>\n      <td>What is the next achievement we should fund be...</td>\n      <td>QmZwnht7pRE2xGnUoQMU37eoNV8eEnobrejPZwDzdpBjaY</td>\n      <td></td>\n      <td>0.498913</td>\n      <td>0.498913</td>\n    </tr>\n    <tr>\n      <th>3</th>\n      <td>🍯dao.eth</td>\n      <td>What is the next achievement we should fund be...</td>\n      <td>QmZwnht7pRE2xGnUoQMU37eoNV8eEnobrejPZwDzdpBjaY</td>\n      <td></td>\n      <td>0.000000</td>\n      <td>0.498913</td>\n    </tr>\n    <tr>\n      <th>4</th>\n      <td>🍯dao.eth</td>\n      <td>Should the 🍯️DAO set its Gnosis Safe as the co...</td>\n      <td>QmWwo3TkBtUybd7wcwix6yuGtApR427FBCxiSGJNwowDoN</td>\n      <td>This is a proposal to set the controller of th...</td>\n      <td>2.711773</td>\n      <td>2.711773</td>\n    </tr>\n    <tr>\n      <th>...</th>\n      <td>...</td>\n      <td>...</td>\n      <td>...</td>\n      <td>...</td>\n      <td>...</td>\n      <td>...</td>\n    </tr>\n    <tr>\n      <th>0</th>\n      <td>안철수.eth</td>\n      <td>안철수 후보의 가상 자산 관련 공약</td>\n      <td>0x4b51e3f70647398ba7a7799fcbc10cccf34e7a3fc165...</td>\n      <td>\\n안철수 후보가 20대 대통령이 된다면\\n가상자산 업계는 어떻게 될 것이라고 예상...</td>\n      <td>0.000000</td>\n      <td>0.000000</td>\n    </tr>\n    <tr>\n      <th>1</th>\n      <td>안철수.eth</td>\n      <td>안철수 후보의 가상 자산 관련 공약</td>\n      <td>0x4b51e3f70647398ba7a7799fcbc10cccf34e7a3fc165...</td>\n      <td>\\n안철수 후보가 20대 대통령이 된다면\\n가상자산 업계는 어떻게 될 것이라고 예상...</td>\n      <td>0.000000</td>\n      <td>0.000000</td>\n    </tr>\n    <tr>\n      <th>2</th>\n      <td>안철수.eth</td>\n      <td>안철수 후보의 가상 자산 관련 공약</td>\n      <td>0x4b51e3f70647398ba7a7799fcbc10cccf34e7a3fc165...</td>\n      <td>\\n안철수 후보가 20대 대통령이 된다면\\n가상자산 업계는 어떻게 될 것이라고 예상...</td>\n      <td>0.000000</td>\n      <td>0.000000</td>\n    </tr>\n    <tr>\n      <th>3</th>\n      <td>안철수.eth</td>\n      <td>안철수 국민의당 대선 후보 공약</td>\n      <td>0x53d7118740830b2186d271177661b5d4e98c6b9dcef2...</td>\n      <td>\\n[G5 경제강국 대한민국 5.5.5 신성장 전략]\\n\\n1. 정부조직 개편\\n ...</td>\n      <td>0.000000</td>\n      <td>1.009230</td>\n    </tr>\n    <tr>\n      <th>4</th>\n      <td>안철수.eth</td>\n      <td>안철수 국민의당 대선 후보 공약</td>\n      <td>0x53d7118740830b2186d271177661b5d4e98c6b9dcef2...</td>\n      <td>\\n[G5 경제강국 대한민국 5.5.5 신성장 전략]\\n\\n1. 정부조직 개편\\n ...</td>\n      <td>1.009230</td>\n      <td>1.009230</td>\n    </tr>\n  </tbody>\n</table>\n<p>22189 rows × 6 columns</p>\n</div>"
     },
     "execution_count": 197,
     "metadata": {},
     "output_type": "execute_result"
    }
   ],
   "source": [
    "proposals_snapshots"
   ],
   "metadata": {
    "collapsed": false,
    "pycharm": {
     "name": "#%%\n"
    }
   }
  },
  {
   "cell_type": "code",
   "execution_count": 198,
   "outputs": [],
   "source": [
    "snapshot.Proposal.datetime = SyntheticField(\n",
    "  lambda timestamp: str(datetime.fromtimestamp(timestamp)),\n",
    "  SyntheticField.STRING,\n",
    "  snapshot.Proposal.end,\n",
    "  )\n"
   ],
   "metadata": {
    "collapsed": false,
    "pycharm": {
     "name": "#%%\n"
    }
   }
  },
  {
   "cell_type": "code",
   "execution_count": 199,
   "outputs": [
    {
     "ename": "TypeError",
     "evalue": "'FieldPath' object is not iterable",
     "output_type": "error",
     "traceback": [
      "\u001B[1;31m---------------------------------------------------------------------------\u001B[0m",
      "\u001B[1;31mTypeError\u001B[0m                                 Traceback (most recent call last)",
      "Input \u001B[1;32mIn [199]\u001B[0m, in \u001B[0;36m<cell line: 1>\u001B[1;34m()\u001B[0m\n\u001B[1;32m----> 1\u001B[0m proposals_choices \u001B[38;5;241m=\u001B[39m \u001B[43msg\u001B[49m\u001B[38;5;241;43m.\u001B[39;49m\u001B[43mquery\u001B[49m\u001B[43m(\u001B[49m\u001B[43mproposals\u001B[49m\u001B[38;5;241;43m.\u001B[39;49m\u001B[43mchoices\u001B[49m\u001B[43m)\u001B[49m\n",
      "File \u001B[1;32m~\\PycharmProjects\\pythonProject\\venv\\lib\\site-packages\\subgrounds\\subgrounds.py:386\u001B[0m, in \u001B[0;36mSubgrounds.query\u001B[1;34m(self, fpath, unwrap, auto_paginate)\u001B[0m\n\u001B[0;32m    348\u001B[0m \u001B[38;5;28;01mdef\u001B[39;00m \u001B[38;5;21mquery\u001B[39m(\n\u001B[0;32m    349\u001B[0m   \u001B[38;5;28mself\u001B[39m,\n\u001B[0;32m    350\u001B[0m   fpath: FieldPath \u001B[38;5;241m|\u001B[39m \u001B[38;5;28mlist\u001B[39m[FieldPath],\n\u001B[0;32m    351\u001B[0m   unwrap: \u001B[38;5;28mbool\u001B[39m \u001B[38;5;241m=\u001B[39m \u001B[38;5;28;01mTrue\u001B[39;00m,\n\u001B[0;32m    352\u001B[0m   auto_paginate: \u001B[38;5;28mbool\u001B[39m \u001B[38;5;241m=\u001B[39m \u001B[38;5;28;01mTrue\u001B[39;00m\n\u001B[0;32m    353\u001B[0m ) \u001B[38;5;241m-\u001B[39m\u001B[38;5;241m>\u001B[39m \u001B[38;5;28mstr\u001B[39m \u001B[38;5;241m|\u001B[39m \u001B[38;5;28mint\u001B[39m \u001B[38;5;241m|\u001B[39m \u001B[38;5;28mfloat\u001B[39m \u001B[38;5;241m|\u001B[39m \u001B[38;5;28mbool\u001B[39m \u001B[38;5;241m|\u001B[39m \u001B[38;5;28mlist\u001B[39m \u001B[38;5;241m|\u001B[39m \u001B[38;5;28mtuple\u001B[39m \u001B[38;5;241m|\u001B[39m \u001B[38;5;28;01mNone\u001B[39;00m:\n\u001B[0;32m    354\u001B[0m   \u001B[38;5;124;03m\"\"\"Executes one or multiple ``FieldPath`` objects immediately and return the data (as a tuple if multiple ``FieldPath`` objects are provided).\u001B[39;00m\n\u001B[0;32m    355\u001B[0m \n\u001B[0;32m    356\u001B[0m \u001B[38;5;124;03m  Args:\u001B[39;00m\n\u001B[1;32m   (...)\u001B[0m\n\u001B[0;32m    384\u001B[0m \n\u001B[0;32m    385\u001B[0m \u001B[38;5;124;03m  \"\"\"\u001B[39;00m\n\u001B[1;32m--> 386\u001B[0m   fpaths \u001B[38;5;241m=\u001B[39m \u001B[38;5;28mlist\u001B[39m(\u001B[43mfpath\u001B[49m\u001B[43m \u001B[49m\u001B[38;5;241;43m|\u001B[39;49m\u001B[43m \u001B[49m\u001B[38;5;28;43mmap\u001B[39;49m\u001B[43m(\u001B[49m\u001B[43mFieldPath\u001B[49m\u001B[38;5;241;43m.\u001B[39;49m\u001B[43m_auto_select\u001B[49m\u001B[43m)\u001B[49m \u001B[38;5;241m|\u001B[39m traverse)\n\u001B[0;32m    387\u001B[0m   blob \u001B[38;5;241m=\u001B[39m \u001B[38;5;28mself\u001B[39m\u001B[38;5;241m.\u001B[39mquery_json(fpaths, auto_paginate\u001B[38;5;241m=\u001B[39mauto_paginate)\n\u001B[0;32m    389\u001B[0m   \u001B[38;5;28;01mdef\u001B[39;00m \u001B[38;5;21mf\u001B[39m(fpath: FieldPath) \u001B[38;5;241m-\u001B[39m\u001B[38;5;241m>\u001B[39m \u001B[38;5;28mdict\u001B[39m[\u001B[38;5;28mstr\u001B[39m, Any]:\n",
      "File \u001B[1;32m~\\PycharmProjects\\pythonProject\\venv\\lib\\site-packages\\pipe.py:40\u001B[0m, in \u001B[0;36mPipe.__ror__\u001B[1;34m(self, other)\u001B[0m\n\u001B[0;32m     39\u001B[0m \u001B[38;5;28;01mdef\u001B[39;00m \u001B[38;5;21m__ror__\u001B[39m(\u001B[38;5;28mself\u001B[39m, other):\n\u001B[1;32m---> 40\u001B[0m     \u001B[38;5;28;01mreturn\u001B[39;00m \u001B[38;5;28;43mself\u001B[39;49m\u001B[38;5;241;43m.\u001B[39;49m\u001B[43mfunction\u001B[49m\u001B[43m(\u001B[49m\u001B[43mother\u001B[49m\u001B[43m)\u001B[49m\n",
      "File \u001B[1;32m~\\PycharmProjects\\pythonProject\\venv\\lib\\site-packages\\pipe.py:44\u001B[0m, in \u001B[0;36mPipe.__call__.<locals>.<lambda>\u001B[1;34m(iterable, *args2, **kwargs2)\u001B[0m\n\u001B[0;32m     42\u001B[0m \u001B[38;5;28;01mdef\u001B[39;00m \u001B[38;5;21m__call__\u001B[39m(\u001B[38;5;28mself\u001B[39m, \u001B[38;5;241m*\u001B[39margs, \u001B[38;5;241m*\u001B[39m\u001B[38;5;241m*\u001B[39mkwargs):\n\u001B[0;32m     43\u001B[0m     \u001B[38;5;28;01mreturn\u001B[39;00m Pipe(\n\u001B[1;32m---> 44\u001B[0m         \u001B[38;5;28;01mlambda\u001B[39;00m iterable, \u001B[38;5;241m*\u001B[39margs2, \u001B[38;5;241m*\u001B[39m\u001B[38;5;241m*\u001B[39mkwargs2: \u001B[38;5;28mself\u001B[39m\u001B[38;5;241m.\u001B[39mfunction(\n\u001B[0;32m     45\u001B[0m             iterable, \u001B[38;5;241m*\u001B[39margs, \u001B[38;5;241m*\u001B[39margs2, \u001B[38;5;241m*\u001B[39m\u001B[38;5;241m*\u001B[39mkwargs, \u001B[38;5;241m*\u001B[39m\u001B[38;5;241m*\u001B[39mkwargs2\n\u001B[0;32m     46\u001B[0m         )\n\u001B[0;32m     47\u001B[0m     )\n",
      "File \u001B[1;32m~\\PycharmProjects\\pythonProject\\venv\\lib\\site-packages\\pipe.py:149\u001B[0m, in \u001B[0;36mselect\u001B[1;34m(iterable, selector)\u001B[0m\n\u001B[0;32m    147\u001B[0m \u001B[38;5;129m@Pipe\u001B[39m\n\u001B[0;32m    148\u001B[0m \u001B[38;5;28;01mdef\u001B[39;00m \u001B[38;5;21mselect\u001B[39m(iterable, selector):\n\u001B[1;32m--> 149\u001B[0m     \u001B[38;5;28;01mreturn\u001B[39;00m \u001B[43mbuiltins\u001B[49m\u001B[38;5;241;43m.\u001B[39;49m\u001B[43mmap\u001B[49m\u001B[43m(\u001B[49m\u001B[43mselector\u001B[49m\u001B[43m,\u001B[49m\u001B[43m \u001B[49m\u001B[43miterable\u001B[49m\u001B[43m)\u001B[49m\n",
      "\u001B[1;31mTypeError\u001B[0m: 'FieldPath' object is not iterable"
     ]
    }
   ],
   "source": [
    "proposals_choices = sg.query(proposals.choices)"
   ],
   "metadata": {
    "collapsed": false,
    "pycharm": {
     "name": "#%%\n"
    }
   }
  },
  {
   "cell_type": "code",
   "execution_count": null,
   "outputs": [],
   "source": [
    "##placing 25 options just in case. Could be more, but I hope not\n",
    "proposals_choices = pd.DataFrame(proposals_choices, columns = ['option_1', 'option_2', 'option_3', 'option_4', 'option_5','option_6','option_7','option_8','option_9','option_10','option_11','option_12','option_13','option_14','option_15','option_16','option_17','option_18','option_19','option_20','option_21','option_22','option_24','option_24','option_25])"
   ],
   "metadata": {
    "collapsed": false,
    "pycharm": {
     "name": "#%%\n"
    }
   }
  },
  {
   "cell_type": "code",
   "execution_count": null,
   "outputs": [],
   "source": [
    "dao_governance_view = pd.concat([proposals_snapshots,proposals_choices], axis=1)"
   ],
   "metadata": {
    "collapsed": false,
    "pycharm": {
     "name": "#%%\n"
    }
   }
  },
  {
   "cell_type": "code",
   "execution_count": null,
   "outputs": [],
   "source": [
    "dao_governance_view"
   ],
   "metadata": {
    "collapsed": false,
    "pycharm": {
     "name": "#%%\n"
    }
   }
  },
  {
   "cell_type": "code",
   "execution_count": null,
   "outputs": [],
   "source": [],
   "metadata": {
    "collapsed": false,
    "pycharm": {
     "name": "#%%\n"
    }
   }
  }
 ],
 "metadata": {
  "kernelspec": {
   "display_name": "Python 3",
   "language": "python",
   "name": "python3"
  },
  "language_info": {
   "codemirror_mode": {
    "name": "ipython",
    "version": 2
   },
   "file_extension": ".py",
   "mimetype": "text/x-python",
   "name": "python",
   "nbconvert_exporter": "python",
   "pygments_lexer": "ipython2",
   "version": "2.7.6"
  }
 },
 "nbformat": 4,
 "nbformat_minor": 0
}