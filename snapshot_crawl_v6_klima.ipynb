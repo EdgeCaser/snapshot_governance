{
 "cells": [
  {
   "cell_type": "code",
   "execution_count": 258,
   "outputs": [],
   "source": [
    "from datetime import datetime\n",
    "from datetime import date\n",
    "from subgrounds.subgraph import SyntheticField\n",
    "from subgrounds.subgrounds import Subgrounds\n",
    "import pandas as pd"
   ],
   "metadata": {
    "collapsed": false,
    "pycharm": {
     "name": "#%%\n"
    }
   }
  },
  {
   "cell_type": "code",
   "execution_count": 259,
   "outputs": [],
   "source": [
    "sg = Subgrounds()\n",
    "snapshot = sg.load_api('https://hub.snapshot.org/graphql')"
   ],
   "metadata": {
    "collapsed": false,
    "pycharm": {
     "name": "#%%\n"
    }
   }
  },
  {
   "cell_type": "code",
   "execution_count": 260,
   "outputs": [],
   "source": [
    "snapshot.Proposal.datetime = SyntheticField(\n",
    "  lambda timestamp: str(datetime.fromtimestamp(timestamp)),\n",
    "  SyntheticField.STRING,\n",
    "  snapshot.Proposal.end,\n",
    ")"
   ],
   "metadata": {
    "collapsed": false,
    "pycharm": {
     "name": "#%%\n"
    }
   }
  },
  {
   "cell_type": "code",
   "execution_count": 261,
   "outputs": [],
   "source": [
    "proposals = snapshot.Query.proposals(\n",
    "  orderBy='created',\n",
    "  orderDirection='desc',\n",
    "  first=10000,\n",
    "  where=[\n",
    "    snapshot.Proposal.space == 'fuse.eth',\n",
    "    snapshot.Proposal.state == 'closed'\n",
    "    ##snapshot.Proposal.title == 'OIP-18: Reward rate framework and reduction',\n",
    "  ]\n",
    ")"
   ],
   "metadata": {
    "collapsed": false,
    "pycharm": {
     "name": "#%%\n"
    }
   }
  },
  {
   "cell_type": "code",
   "execution_count": 262,
   "outputs": [],
   "source": [
    "proposals_snapshots = sg.query_df([\n",
    "    proposals.title,\n",
    "    proposals.id,\n",
    "    proposals.body,\n",
    "    proposals.scores,\n",
    "    proposals.scores_total\n",
    "])"
   ],
   "metadata": {
    "collapsed": false,
    "pycharm": {
     "name": "#%%\n"
    }
   }
  },
  {
   "cell_type": "code",
   "execution_count": 263,
   "outputs": [],
   "source": [
    "proposals_choices = sg.query(proposals.choices)"
   ],
   "metadata": {
    "collapsed": false,
    "pycharm": {
     "name": "#%%\n"
    }
   }
  },
  {
   "cell_type": "code",
   "execution_count": 264,
   "outputs": [],
   "source": [
    "proposals_choices = pd.DataFrame(proposals_choices, columns = ['option_1', 'option_2', 'option_3', 'option_4', 'option_5','option_6','option_7','option_8','option_9','option_10','option_11','option_12','option_13','option_14','option_15','option_16','option_17','option_18','option_19','option_20','option_21','option_22'])"
   ],
   "metadata": {
    "collapsed": false,
    "pycharm": {
     "name": "#%%\n"
    }
   }
  },
  {
   "cell_type": "code",
   "execution_count": 265,
   "outputs": [],
   "source": [
    "olympus_governance_view = pd.concat([proposals_snapshots,proposals_choices], axis=1)"
   ],
   "metadata": {
    "collapsed": false,
    "pycharm": {
     "name": "#%%\n"
    }
   }
  },
  {
   "cell_type": "code",
   "execution_count": 266,
   "outputs": [
    {
     "data": {
      "text/plain": "                                       proposals_title  \\\n0            Whitelist GIVeth DAO as Fuse Pool creator   \n1                 Onboard VOLT to FeiRari DAO Pool # 8   \n2    Whitelist DeFiGeek Community as a Fuse Pool Cr...   \n3           Whitelist StakeWise as a Fuse Pool Creator   \n4                               Create Local Community   \n..                                                 ...   \n140                          [RIP-4] Staking Mechanism   \n141                          [RIP-3] New Fee Structure   \n142  [RIP-2] Pool 2 With UNI-LP: RGT-ETH to Get to ...   \n143  RIP-2 Alternative methods of driving value to ...   \n144                   RIP-1: Update Emissions Schedule   \n\n                                          proposals_id  \\\n0    0xd75cab98b9143d7a16504dad01a3322ce6855369ff6c...   \n1    0xd394651c02cda51cdab0ce717030042cf8a23d671581...   \n2    0x10fe1c995aaa42fa42a9c9e8c26fe2b561e1d9488443...   \n3    0xbf3857c6e66640337170a93f74dbda91c57312aaf2b1...   \n4    0xf388a3912a0ff5294c7cf68a964189617fad3c273e65...   \n..                                                 ...   \n140     QmPAA157pYkq3gUvM9LhGirGfe3nqnrCb5eT4hSEJs8gMs   \n141     QmR26XEsCNjDgNbdqx9SCd8Rar1ShTN4E6aXr8yuvaWt8R   \n142     QmR4mavGjBh639MRTKrjiiefj41FzHpcPXbMjayfqACy7J   \n143     QmPeH4sFs6hpxeAN8r75JNbkJwqrDJfw6wke2j4Rr6Vuws   \n144     QmU3334PXSAGd3kiSZo4FZkKPpNL5qvHiNwRZVTKkcCvv9   \n\n                                        proposals_body  \\\n0    Summary:\\nWe propose to whitelist GIVeth DAO a...   \n1    This proposal adds VOLT as a borrowable asset ...   \n2    Summary\\nWe propose to whitelist DeFiGeek Comm...   \n3    Summary\\n\\nThis proposal is to whitelist Stake...   \n4    Create local community in following countries\\...   \n..                                                 ...   \n140  *This assumes that RIP-1 and RIP-3 (or their d...   \n141  Summary:\\nThis proposal aims to revise the cur...   \n142  *This will be used to bridge the gap between n...   \n143  Rationale: Offer a better and more useful prod...   \n144  Summary:\\nUpdate an emissions schedule to boot...   \n\n     proposals_scores_total                          option_1  \\\n0              2.754376e+06               For Accept Proposal   \n1              1.013257e+07          For - add VOLT to Pool 8   \n2              1.675220e+01                               For   \n3              4.778143e-03                               For   \n4              4.958574e+02                               yes   \n..                      ...                               ...   \n140            5.379841e+05      Create the staking mechanism   \n141            6.542522e+05       Implement new fee structure   \n142            2.752052e+05  Mint tokens for pool2 incentives   \n143            1.654471e+05                  I support A only   \n144            1.672885e+06            Do this emissions plan   \n\n                             option_2          option_3          option_4  \\\n0               Against Deny Proposal              None              None   \n1                Against - do nothing              None              None   \n2                             Against              None              None   \n3                             Against              None              None   \n4                                  no              None              None   \n..                                ...               ...               ...   \n140   Explore other staking mechanism              None              None   \n141   Keep old fees and fee structure              None              None   \n142   Do nothing for pool2 incentives              None              None   \n143                  I support B only  I support C only  I support D only   \n144              Consider other plans              None              None   \n\n               option_5            option_6            option_7  \\\n0                  None                None                None   \n1                  None                None                None   \n2                  None                None                None   \n3                  None                None                None   \n4                  None                None                None   \n..                  ...                 ...                 ...   \n140                None                None                None   \n141                None                None                None   \n142                None                None                None   \n143  I support A&B only  I support A&C only  I support A&D only   \n144                None                None                None   \n\n               option_8            option_9           option_10  \\\n0                  None                None                None   \n1                  None                None                None   \n2                  None                None                None   \n3                  None                None                None   \n4                  None                None                None   \n..                  ...                 ...                 ...   \n140                None                None                None   \n141                None                None                None   \n142                None                None                None   \n143  I support B&C only  I support B&D only  I support C&D only   \n144                None                None                None   \n\n                option_11             option_12             option_13  \\\n0                    None                  None                  None   \n1                    None                  None                  None   \n2                    None                  None                  None   \n3                    None                  None                  None   \n4                    None                  None                  None   \n..                    ...                   ...                   ...   \n140                  None                  None                  None   \n141                  None                  None                  None   \n142                  None                  None                  None   \n143  I support A&B&C only  I support A&B&D only  I support B&C&D only   \n144                  None                  None                  None   \n\n           option_14  \n0               None  \n1               None  \n2               None  \n3               None  \n4               None  \n..               ...  \n140             None  \n141             None  \n142             None  \n143  I support ALL 4  \n144             None  \n\n[145 rows x 18 columns]",
      "text/html": "<div>\n<style scoped>\n    .dataframe tbody tr th:only-of-type {\n        vertical-align: middle;\n    }\n\n    .dataframe tbody tr th {\n        vertical-align: top;\n    }\n\n    .dataframe thead th {\n        text-align: right;\n    }\n</style>\n<table border=\"1\" class=\"dataframe\">\n  <thead>\n    <tr style=\"text-align: right;\">\n      <th></th>\n      <th>proposals_title</th>\n      <th>proposals_id</th>\n      <th>proposals_body</th>\n      <th>proposals_scores_total</th>\n      <th>option_1</th>\n      <th>option_2</th>\n      <th>option_3</th>\n      <th>option_4</th>\n      <th>option_5</th>\n      <th>option_6</th>\n      <th>option_7</th>\n      <th>option_8</th>\n      <th>option_9</th>\n      <th>option_10</th>\n      <th>option_11</th>\n      <th>option_12</th>\n      <th>option_13</th>\n      <th>option_14</th>\n    </tr>\n  </thead>\n  <tbody>\n    <tr>\n      <th>0</th>\n      <td>Whitelist GIVeth DAO as Fuse Pool creator</td>\n      <td>0xd75cab98b9143d7a16504dad01a3322ce6855369ff6c...</td>\n      <td>Summary:\\nWe propose to whitelist GIVeth DAO a...</td>\n      <td>2.754376e+06</td>\n      <td>For Accept Proposal</td>\n      <td>Against Deny Proposal</td>\n      <td>None</td>\n      <td>None</td>\n      <td>None</td>\n      <td>None</td>\n      <td>None</td>\n      <td>None</td>\n      <td>None</td>\n      <td>None</td>\n      <td>None</td>\n      <td>None</td>\n      <td>None</td>\n      <td>None</td>\n    </tr>\n    <tr>\n      <th>1</th>\n      <td>Onboard VOLT to FeiRari DAO Pool # 8</td>\n      <td>0xd394651c02cda51cdab0ce717030042cf8a23d671581...</td>\n      <td>This proposal adds VOLT as a borrowable asset ...</td>\n      <td>1.013257e+07</td>\n      <td>For - add VOLT to Pool 8</td>\n      <td>Against - do nothing</td>\n      <td>None</td>\n      <td>None</td>\n      <td>None</td>\n      <td>None</td>\n      <td>None</td>\n      <td>None</td>\n      <td>None</td>\n      <td>None</td>\n      <td>None</td>\n      <td>None</td>\n      <td>None</td>\n      <td>None</td>\n    </tr>\n    <tr>\n      <th>2</th>\n      <td>Whitelist DeFiGeek Community as a Fuse Pool Cr...</td>\n      <td>0x10fe1c995aaa42fa42a9c9e8c26fe2b561e1d9488443...</td>\n      <td>Summary\\nWe propose to whitelist DeFiGeek Comm...</td>\n      <td>1.675220e+01</td>\n      <td>For</td>\n      <td>Against</td>\n      <td>None</td>\n      <td>None</td>\n      <td>None</td>\n      <td>None</td>\n      <td>None</td>\n      <td>None</td>\n      <td>None</td>\n      <td>None</td>\n      <td>None</td>\n      <td>None</td>\n      <td>None</td>\n      <td>None</td>\n    </tr>\n    <tr>\n      <th>3</th>\n      <td>Whitelist StakeWise as a Fuse Pool Creator</td>\n      <td>0xbf3857c6e66640337170a93f74dbda91c57312aaf2b1...</td>\n      <td>Summary\\n\\nThis proposal is to whitelist Stake...</td>\n      <td>4.778143e-03</td>\n      <td>For</td>\n      <td>Against</td>\n      <td>None</td>\n      <td>None</td>\n      <td>None</td>\n      <td>None</td>\n      <td>None</td>\n      <td>None</td>\n      <td>None</td>\n      <td>None</td>\n      <td>None</td>\n      <td>None</td>\n      <td>None</td>\n      <td>None</td>\n    </tr>\n    <tr>\n      <th>4</th>\n      <td>Create Local Community</td>\n      <td>0xf388a3912a0ff5294c7cf68a964189617fad3c273e65...</td>\n      <td>Create local community in following countries\\...</td>\n      <td>4.958574e+02</td>\n      <td>yes</td>\n      <td>no</td>\n      <td>None</td>\n      <td>None</td>\n      <td>None</td>\n      <td>None</td>\n      <td>None</td>\n      <td>None</td>\n      <td>None</td>\n      <td>None</td>\n      <td>None</td>\n      <td>None</td>\n      <td>None</td>\n      <td>None</td>\n    </tr>\n    <tr>\n      <th>...</th>\n      <td>...</td>\n      <td>...</td>\n      <td>...</td>\n      <td>...</td>\n      <td>...</td>\n      <td>...</td>\n      <td>...</td>\n      <td>...</td>\n      <td>...</td>\n      <td>...</td>\n      <td>...</td>\n      <td>...</td>\n      <td>...</td>\n      <td>...</td>\n      <td>...</td>\n      <td>...</td>\n      <td>...</td>\n      <td>...</td>\n    </tr>\n    <tr>\n      <th>140</th>\n      <td>[RIP-4] Staking Mechanism</td>\n      <td>QmPAA157pYkq3gUvM9LhGirGfe3nqnrCb5eT4hSEJs8gMs</td>\n      <td>*This assumes that RIP-1 and RIP-3 (or their d...</td>\n      <td>5.379841e+05</td>\n      <td>Create the staking mechanism</td>\n      <td>Explore other staking mechanism</td>\n      <td>None</td>\n      <td>None</td>\n      <td>None</td>\n      <td>None</td>\n      <td>None</td>\n      <td>None</td>\n      <td>None</td>\n      <td>None</td>\n      <td>None</td>\n      <td>None</td>\n      <td>None</td>\n      <td>None</td>\n    </tr>\n    <tr>\n      <th>141</th>\n      <td>[RIP-3] New Fee Structure</td>\n      <td>QmR26XEsCNjDgNbdqx9SCd8Rar1ShTN4E6aXr8yuvaWt8R</td>\n      <td>Summary:\\nThis proposal aims to revise the cur...</td>\n      <td>6.542522e+05</td>\n      <td>Implement new fee structure</td>\n      <td>Keep old fees and fee structure</td>\n      <td>None</td>\n      <td>None</td>\n      <td>None</td>\n      <td>None</td>\n      <td>None</td>\n      <td>None</td>\n      <td>None</td>\n      <td>None</td>\n      <td>None</td>\n      <td>None</td>\n      <td>None</td>\n      <td>None</td>\n    </tr>\n    <tr>\n      <th>142</th>\n      <td>[RIP-2] Pool 2 With UNI-LP: RGT-ETH to Get to ...</td>\n      <td>QmR4mavGjBh639MRTKrjiiefj41FzHpcPXbMjayfqACy7J</td>\n      <td>*This will be used to bridge the gap between n...</td>\n      <td>2.752052e+05</td>\n      <td>Mint tokens for pool2 incentives</td>\n      <td>Do nothing for pool2 incentives</td>\n      <td>None</td>\n      <td>None</td>\n      <td>None</td>\n      <td>None</td>\n      <td>None</td>\n      <td>None</td>\n      <td>None</td>\n      <td>None</td>\n      <td>None</td>\n      <td>None</td>\n      <td>None</td>\n      <td>None</td>\n    </tr>\n    <tr>\n      <th>143</th>\n      <td>RIP-2 Alternative methods of driving value to ...</td>\n      <td>QmPeH4sFs6hpxeAN8r75JNbkJwqrDJfw6wke2j4Rr6Vuws</td>\n      <td>Rationale: Offer a better and more useful prod...</td>\n      <td>1.654471e+05</td>\n      <td>I support A only</td>\n      <td>I support B only</td>\n      <td>I support C only</td>\n      <td>I support D only</td>\n      <td>I support A&amp;B only</td>\n      <td>I support A&amp;C only</td>\n      <td>I support A&amp;D only</td>\n      <td>I support B&amp;C only</td>\n      <td>I support B&amp;D only</td>\n      <td>I support C&amp;D only</td>\n      <td>I support A&amp;B&amp;C only</td>\n      <td>I support A&amp;B&amp;D only</td>\n      <td>I support B&amp;C&amp;D only</td>\n      <td>I support ALL 4</td>\n    </tr>\n    <tr>\n      <th>144</th>\n      <td>RIP-1: Update Emissions Schedule</td>\n      <td>QmU3334PXSAGd3kiSZo4FZkKPpNL5qvHiNwRZVTKkcCvv9</td>\n      <td>Summary:\\nUpdate an emissions schedule to boot...</td>\n      <td>1.672885e+06</td>\n      <td>Do this emissions plan</td>\n      <td>Consider other plans</td>\n      <td>None</td>\n      <td>None</td>\n      <td>None</td>\n      <td>None</td>\n      <td>None</td>\n      <td>None</td>\n      <td>None</td>\n      <td>None</td>\n      <td>None</td>\n      <td>None</td>\n      <td>None</td>\n      <td>None</td>\n    </tr>\n  </tbody>\n</table>\n<p>145 rows × 18 columns</p>\n</div>"
     },
     "execution_count": 266,
     "metadata": {},
     "output_type": "execute_result"
    }
   ],
   "source": [
    "##let's view the output just to make sure\n",
    "olympus_governance_view"
   ],
   "metadata": {
    "collapsed": false,
    "pycharm": {
     "name": "#%%\n"
    }
   }
  },
  {
   "cell_type": "code",
   "execution_count": 267,
   "outputs": [],
   "source": [
    "path = '/Users/USER/Downloads/OIPS/fuse_proposals_table_'+str(date.today().strftime(\"%b-%d-%Y\"))+'_'+str(len(olympus_governance_view))+'_proposals.csv'\n",
    "olympus_governance_view.to_csv(path, index = False)"
   ],
   "metadata": {
    "collapsed": false,
    "pycharm": {
     "name": "#%%\n"
    }
   }
  },
  {
   "cell_type": "code",
   "execution_count": 268,
   "outputs": [
    {
     "data": {
      "text/plain": "145"
     },
     "execution_count": 268,
     "metadata": {},
     "output_type": "execute_result"
    }
   ],
   "source": [
    "total_proposals = len(olympus_governance_view)\n",
    "total_proposals"
   ],
   "metadata": {
    "collapsed": false,
    "pycharm": {
     "name": "#%%\n"
    }
   }
  },
  {
   "cell_type": "code",
   "execution_count": 269,
   "outputs": [],
   "source": [
    "proposal_id = olympus_governance_view.iloc[0,1]"
   ],
   "metadata": {
    "collapsed": false,
    "pycharm": {
     "name": "#%%\n"
    }
   }
  },
  {
   "cell_type": "code",
   "execution_count": 270,
   "outputs": [
    {
     "name": "stdout",
     "output_type": "stream",
     "text": [
      "0xd75cab98b9143d7a16504dad01a3322ce6855369ff6ca8d7b1685a4ac694a217\n"
     ]
    }
   ],
   "source": [
    "print(proposal_id)"
   ],
   "metadata": {
    "collapsed": false,
    "pycharm": {
     "name": "#%%\n"
    }
   }
  },
  {
   "cell_type": "code",
   "execution_count": 271,
   "outputs": [],
   "source": [
    "\n",
    "vote_tracker = snapshot.Query.votes(\n",
    "orderBy = 'created',\n",
    "orderDirection='desc',\n",
    "first=10000,\n",
    "where=[\n",
    "  snapshot.Vote.proposal == proposal_id\n",
    "]\n",
    ")"
   ],
   "metadata": {
    "collapsed": false,
    "pycharm": {
     "name": "#%%\n"
    }
   }
  },
  {
   "cell_type": "code",
   "execution_count": 272,
   "outputs": [],
   "source": [
    "voting_snapshots_list = sg.query_df([\n",
    "    vote_tracker.id,\n",
    "    vote_tracker.voter,\n",
    "    vote_tracker.created,\n",
    "    vote_tracker.choice,\n",
    "    vote_tracker.vp\n",
    "])"
   ],
   "metadata": {
    "collapsed": false,
    "pycharm": {
     "name": "#%%\n"
    }
   }
  },
  {
   "cell_type": "code",
   "execution_count": 273,
   "outputs": [
    {
     "data": {
      "text/plain": "                                            votes_id  \\\n0  0x8281ce505c29b6b019961f6e0e6e14fde7c5bc15d50f...   \n1  0xa5d685dabf23e7ae3a60954e330a6106c26b41b40e5f...   \n2  0xca7d2b7344087e3af22224271a927c3e6b857d8b0a34...   \n3  0x5a1e05b9a22922069534917a5a0b00cc4cf32dfb17a5...   \n4  0x7d5245e24f681f0dfe15ca64913f29982630a9f79213...   \n5  0x0d63f77e2a10c397612f55858cc3a6f2510cdcb3c947...   \n\n                                  votes_voter  votes_created  votes_choice  \\\n0  0x97b90FBc8904F861F76CB06BFa0A465b72C5E662     1650667132             1   \n1  0xC2634B9d0A0cFb756cDed34656E09828072A8a9B     1650628049             1   \n2  0x29687E2a2b38bbc1f4f9069f1f24F13a3c83d27D     1650568499             1   \n3  0x1ccb144B700EC726d37Db38c617E154De6d9c0d0     1650420674             1   \n4  0x839395e20bbB182fa440d08F850E6c7A8f6F0780     1650290002             1   \n5  0x8639F60e8F9b984eaf62B0bd89F62D6161e182F9     1650283481             1   \n\n       votes_vp  \n0  1.185496e+05  \n1  6.096007e+04  \n2  2.702278e+04  \n3  4.523094e+02  \n4  2.173455e+03  \n5  2.545218e+06  ",
      "text/html": "<div>\n<style scoped>\n    .dataframe tbody tr th:only-of-type {\n        vertical-align: middle;\n    }\n\n    .dataframe tbody tr th {\n        vertical-align: top;\n    }\n\n    .dataframe thead th {\n        text-align: right;\n    }\n</style>\n<table border=\"1\" class=\"dataframe\">\n  <thead>\n    <tr style=\"text-align: right;\">\n      <th></th>\n      <th>votes_id</th>\n      <th>votes_voter</th>\n      <th>votes_created</th>\n      <th>votes_choice</th>\n      <th>votes_vp</th>\n    </tr>\n  </thead>\n  <tbody>\n    <tr>\n      <th>0</th>\n      <td>0x8281ce505c29b6b019961f6e0e6e14fde7c5bc15d50f...</td>\n      <td>0x97b90FBc8904F861F76CB06BFa0A465b72C5E662</td>\n      <td>1650667132</td>\n      <td>1</td>\n      <td>1.185496e+05</td>\n    </tr>\n    <tr>\n      <th>1</th>\n      <td>0xa5d685dabf23e7ae3a60954e330a6106c26b41b40e5f...</td>\n      <td>0xC2634B9d0A0cFb756cDed34656E09828072A8a9B</td>\n      <td>1650628049</td>\n      <td>1</td>\n      <td>6.096007e+04</td>\n    </tr>\n    <tr>\n      <th>2</th>\n      <td>0xca7d2b7344087e3af22224271a927c3e6b857d8b0a34...</td>\n      <td>0x29687E2a2b38bbc1f4f9069f1f24F13a3c83d27D</td>\n      <td>1650568499</td>\n      <td>1</td>\n      <td>2.702278e+04</td>\n    </tr>\n    <tr>\n      <th>3</th>\n      <td>0x5a1e05b9a22922069534917a5a0b00cc4cf32dfb17a5...</td>\n      <td>0x1ccb144B700EC726d37Db38c617E154De6d9c0d0</td>\n      <td>1650420674</td>\n      <td>1</td>\n      <td>4.523094e+02</td>\n    </tr>\n    <tr>\n      <th>4</th>\n      <td>0x7d5245e24f681f0dfe15ca64913f29982630a9f79213...</td>\n      <td>0x839395e20bbB182fa440d08F850E6c7A8f6F0780</td>\n      <td>1650290002</td>\n      <td>1</td>\n      <td>2.173455e+03</td>\n    </tr>\n    <tr>\n      <th>5</th>\n      <td>0x0d63f77e2a10c397612f55858cc3a6f2510cdcb3c947...</td>\n      <td>0x8639F60e8F9b984eaf62B0bd89F62D6161e182F9</td>\n      <td>1650283481</td>\n      <td>1</td>\n      <td>2.545218e+06</td>\n    </tr>\n  </tbody>\n</table>\n</div>"
     },
     "execution_count": 273,
     "metadata": {},
     "output_type": "execute_result"
    }
   ],
   "source": [
    "voting_snapshots_list"
   ],
   "metadata": {
    "collapsed": false,
    "pycharm": {
     "name": "#%%\n"
    }
   }
  },
  {
   "cell_type": "code",
   "execution_count": 274,
   "outputs": [
    {
     "name": "stdout",
     "output_type": "stream",
     "text": [
      "                                            votes_id  \\\n",
      "0  0x8281ce505c29b6b019961f6e0e6e14fde7c5bc15d50f...   \n",
      "1  0xa5d685dabf23e7ae3a60954e330a6106c26b41b40e5f...   \n",
      "2  0xca7d2b7344087e3af22224271a927c3e6b857d8b0a34...   \n",
      "3  0x5a1e05b9a22922069534917a5a0b00cc4cf32dfb17a5...   \n",
      "4  0x7d5245e24f681f0dfe15ca64913f29982630a9f79213...   \n",
      "5  0x0d63f77e2a10c397612f55858cc3a6f2510cdcb3c947...   \n",
      "\n",
      "                                  votes_voter  votes_created  votes_choice  \\\n",
      "0  0x97b90FBc8904F861F76CB06BFa0A465b72C5E662     1650667132             1   \n",
      "1  0xC2634B9d0A0cFb756cDed34656E09828072A8a9B     1650628049             1   \n",
      "2  0x29687E2a2b38bbc1f4f9069f1f24F13a3c83d27D     1650568499             1   \n",
      "3  0x1ccb144B700EC726d37Db38c617E154De6d9c0d0     1650420674             1   \n",
      "4  0x839395e20bbB182fa440d08F850E6c7A8f6F0780     1650290002             1   \n",
      "5  0x8639F60e8F9b984eaf62B0bd89F62D6161e182F9     1650283481             1   \n",
      "\n",
      "       votes_vp                                           Proposal  \n",
      "0  1.185496e+05  0xd75cab98b9143d7a16504dad01a3322ce6855369ff6c...  \n",
      "1  6.096007e+04  0xd75cab98b9143d7a16504dad01a3322ce6855369ff6c...  \n",
      "2  2.702278e+04  0xd75cab98b9143d7a16504dad01a3322ce6855369ff6c...  \n",
      "3  4.523094e+02  0xd75cab98b9143d7a16504dad01a3322ce6855369ff6c...  \n",
      "4  2.173455e+03  0xd75cab98b9143d7a16504dad01a3322ce6855369ff6c...  \n",
      "5  2.545218e+06  0xd75cab98b9143d7a16504dad01a3322ce6855369ff6c...  \n"
     ]
    }
   ],
   "source": [
    "voting_snapshots_list['Proposal'] = proposal_id\n",
    "print(voting_snapshots_list)"
   ],
   "metadata": {
    "collapsed": false,
    "pycharm": {
     "name": "#%%\n"
    }
   }
  },
  {
   "cell_type": "code",
   "execution_count": 275,
   "outputs": [],
   "source": [
    "x=0\n",
    "while x <total_proposals:\n",
    "##print(olympus_governance_view.iloc[2,1])\n",
    "    proposal_id = olympus_governance_view.iloc[x,1]\n",
    "\n",
    "    vote_tracker = snapshot.Query.votes(\n",
    "    orderBy = 'created',\n",
    "    orderDirection='desc',\n",
    "    first=10000,\n",
    "    where=[\n",
    "      snapshot.Vote.proposal == proposal_id\n",
    "    ]\n",
    "    )\n",
    "    voting_snapshots = sg.query_df([\n",
    "    vote_tracker.id,\n",
    "    vote_tracker.voter,\n",
    "    vote_tracker.created,\n",
    "    vote_tracker.choice,\n",
    "    vote_tracker.vp\n",
    "    ])\n",
    "\n",
    "    voting_snapshots['Proposal'] = proposal_id\n",
    "    voting_snapshots_list=pd.concat([voting_snapshots_list, voting_snapshots])\n",
    "    ##voting_snapshots['Proposal'] = proposal_id\n",
    "\n",
    "#    pd.concat([voting_snapshots_list, voting_snapshots])\n",
    "    x=x+1"
   ],
   "metadata": {
    "collapsed": false,
    "pycharm": {
     "name": "#%%\n"
    }
   }
  },
  {
   "cell_type": "code",
   "execution_count": 276,
   "outputs": [
    {
     "data": {
      "text/plain": "4389"
     },
     "execution_count": 276,
     "metadata": {},
     "output_type": "execute_result"
    }
   ],
   "source": [
    "len(voting_snapshots_list)"
   ],
   "metadata": {
    "collapsed": false,
    "pycharm": {
     "name": "#%%\n"
    }
   }
  },
  {
   "cell_type": "code",
   "execution_count": 277,
   "outputs": [],
   "source": [
    "path = '/Users/USER/Downloads/OIPS/fuse_votes_table_'+str(date.today().strftime(\"%b-%d-%Y\"))+'_'+str(len(voting_snapshots_list))+'_votes.csv'\n",
    "voting_snapshots_list.to_csv(path, index = False)"
   ],
   "metadata": {
    "collapsed": false,
    "pycharm": {
     "name": "#%%\n"
    }
   }
  },
  {
   "cell_type": "code",
   "execution_count": 277,
   "outputs": [],
   "source": [],
   "metadata": {
    "collapsed": false,
    "pycharm": {
     "name": "#%%\n"
    }
   }
  },
  {
   "cell_type": "code",
   "execution_count": 277,
   "outputs": [],
   "source": [],
   "metadata": {
    "collapsed": false,
    "pycharm": {
     "name": "#%%\n"
    }
   }
  }
 ],
 "metadata": {
  "kernelspec": {
   "display_name": "Python 3",
   "language": "python",
   "name": "python3"
  },
  "language_info": {
   "codemirror_mode": {
    "name": "ipython",
    "version": 2
   },
   "file_extension": ".py",
   "mimetype": "text/x-python",
   "name": "python",
   "nbconvert_exporter": "python",
   "pygments_lexer": "ipython2",
   "version": "2.7.6"
  }
 },
 "nbformat": 4,
 "nbformat_minor": 0
}