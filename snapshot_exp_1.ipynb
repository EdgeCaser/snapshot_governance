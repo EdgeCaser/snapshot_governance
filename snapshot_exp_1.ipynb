{
 "cells": [
  {
   "cell_type": "code",
   "execution_count": 213,
   "metadata": {
    "collapsed": true
   },
   "outputs": [],
   "source": [
    "from datetime import datetime"
   ]
  },
  {
   "cell_type": "code",
   "execution_count": 214,
   "outputs": [],
   "source": [
    "from subgrounds.subgraph import SyntheticField, FieldPath\n",
    "from subgrounds.subgrounds import Subgrounds\n",
    "import pandas as pd"
   ],
   "metadata": {
    "collapsed": false,
    "pycharm": {
     "name": "#%%\n"
    }
   }
  },
  {
   "cell_type": "code",
   "execution_count": 215,
   "outputs": [],
   "source": [
    "sg = Subgrounds()\n",
    "snapshot = sg.load_subgraph('https://hub.snapshot.org/graphql')"
   ],
   "metadata": {
    "collapsed": false,
    "pycharm": {
     "name": "#%%\n"
    }
   }
  },
  {
   "cell_type": "code",
   "execution_count": 112,
   "outputs": [],
   "source": [
    "snapshot.Proposal.datetime = SyntheticField(\n",
    "  lambda timestamp: str(datetime.fromtimestamp(timestamp)),\n",
    "  SyntheticField.STRING,\n",
    "  snapshot.Proposal.end,\n",
    ")"
   ],
   "metadata": {
    "collapsed": false,
    "pycharm": {
     "name": "#%%\n"
    }
   }
  },
  {
   "cell_type": "code",
   "execution_count": 113,
   "outputs": [],
   "source": [
    "proposals = snapshot.Query.proposals(\n",
    "  orderBy='created',\n",
    "  orderDirection='desc',\n",
    "  first=100,\n",
    "  where=[\n",
    "    snapshot.Proposal.space == 'olympusdao.eth',\n",
    "    snapshot.Proposal.state == 'closed',\n",
    "  ]\n",
    ")"
   ],
   "metadata": {
    "collapsed": false,
    "pycharm": {
     "name": "#%%\n"
    }
   }
  },
  {
   "cell_type": "code",
   "execution_count": 190,
   "outputs": [
    {
     "data": {
      "text/plain": "pandas.core.frame.DataFrame"
     },
     "execution_count": 190,
     "metadata": {},
     "output_type": "execute_result"
    }
   ],
   "source": [
    "olympus_snapshots = sg.query_df([\n",
    "  proposals.title,\n",
    "  proposals.id,\n",
    "  proposals.body\n",
    "])\n",
    "type(olympus_snapshots)"
   ],
   "metadata": {
    "collapsed": false,
    "pycharm": {
     "name": "#%%\n"
    }
   }
  },
  {
   "cell_type": "code",
   "execution_count": 191,
   "outputs": [],
   "source": [
    "proposals_choices = sg.query(proposals.choices)"
   ],
   "metadata": {
    "collapsed": false,
    "pycharm": {
     "name": "#%%\n"
    }
   }
  },
  {
   "cell_type": "code",
   "execution_count": 192,
   "outputs": [],
   "source": [
    "proposals_choices = pd.DataFrame(proposals_choices, columns = ['option_a', 'option_b', 'option_c', 'option_d', 'option_e'])"
   ],
   "metadata": {
    "collapsed": false,
    "pycharm": {
     "name": "#%%\n"
    }
   }
  },
  {
   "cell_type": "code",
   "execution_count": 193,
   "outputs": [],
   "source": [
    "olympus_governance_view = pd.concat([olympus_snapshots,proposals_choices], axis=1)"
   ],
   "metadata": {
    "collapsed": false,
    "pycharm": {
     "name": "#%%\n"
    }
   }
  },
  {
   "cell_type": "code",
   "execution_count": 276,
   "outputs": [
    {
     "data": {
      "text/plain": "                                      proposals_title  \\\n0                      OIP-80: Tender Offer Framework   \n1   OIP-77: New Tier for Bug Bounty & Awarding of ...   \n2   OIP-71 Goddess DAO Launch Liquidity Assistance...   \n3                OIP-75: Olympus Compensation Process   \n4                   OIP-74: Partnership with JonesDAO   \n..                                                ...   \n95                                       any airdrop?   \n96                              hey what coin is this   \n97                                           fuck you   \n98                                            AIRDROP   \n99                               setup a ama channel    \n\n                                         proposals_id  \\\n0   0xfbad1f4af42f99e59e0ef216211f2ed8b1f3a324de04...   \n1   0xf1474731033990ba04abd897e70c5387160fab81e23e...   \n2   0x88b17056b2677673df2731eec8431a3aadcdc7f8f348...   \n3   0xec57e860aa083fdd2fda66d1787ef8f965bd2f75b239...   \n4   0x3623c7cd9452d348bc7bdbeeb372dc135db6e38e9612...   \n..                                                ...   \n95  0xe912fb26a4e50b93cac27c09d54b716d16f7f81c769a...   \n96  0x47d1cd5c6aa55b6b97df6a92066aeb1c958e57cd4a3e...   \n97  0x47b42407c756b3cdf244a4c406f2153ba8615fc920a4...   \n98  0xcf049d7e9900e80bbfa74b568cdf0c6ab7408706c8a0...   \n99  0xb9e47c3d207b3614355967be0d1c21a060b6a23307d0...   \n\n                                       proposals_body  \\\n0   ### Proposal\\n\\nThe Olympus team seeks communi...   \n1   Summary\\n\\nThis proposal is designed to add a ...   \n2   Summary\\n\\nAssist Goddess DAO with gOHM launch...   \n3   Please see the forum for full details and disc...   \n4   Summary\\n\\nFormalize a partnership to integrat...   \n..                                                ...   \n95                                       any airdrop?   \n96                                 send me eth please   \n97                                      what the fuck   \n98                                   We need AIRDROP!   \n99                                                      \n\n                            option_a                 option_b option_c  \\\n0                    Approve the TFO   Do not approve the TFO     None   \n1          Change Bug Bounty Program               Do nothing     None   \n2    Approve the launch liquidity as               Do nothing     None   \n3       For: adopt standard approach  Against: continue as-is     None   \n4                Approve Partnership               Do nothing     None   \n..                               ...                      ...      ...   \n95                               yes                      yes     None   \n96                                 1                        2     None   \n97                              fuck                      mom     None   \n98                               Yes                       No     None   \n99                               yes                       no     None   \n\n   option_d option_e  \n0      None     None  \n1      None     None  \n2      None     None  \n3      None     None  \n4      None     None  \n..      ...      ...  \n95     None     None  \n96     None     None  \n97     None     None  \n98     None     None  \n99     None     None  \n\n[100 rows x 8 columns]",
      "text/html": "<div>\n<style scoped>\n    .dataframe tbody tr th:only-of-type {\n        vertical-align: middle;\n    }\n\n    .dataframe tbody tr th {\n        vertical-align: top;\n    }\n\n    .dataframe thead th {\n        text-align: right;\n    }\n</style>\n<table border=\"1\" class=\"dataframe\">\n  <thead>\n    <tr style=\"text-align: right;\">\n      <th></th>\n      <th>proposals_title</th>\n      <th>proposals_id</th>\n      <th>proposals_body</th>\n      <th>option_a</th>\n      <th>option_b</th>\n      <th>option_c</th>\n      <th>option_d</th>\n      <th>option_e</th>\n    </tr>\n  </thead>\n  <tbody>\n    <tr>\n      <th>0</th>\n      <td>OIP-80: Tender Offer Framework</td>\n      <td>0xfbad1f4af42f99e59e0ef216211f2ed8b1f3a324de04...</td>\n      <td>### Proposal\\n\\nThe Olympus team seeks communi...</td>\n      <td>Approve the TFO</td>\n      <td>Do not approve the TFO</td>\n      <td>None</td>\n      <td>None</td>\n      <td>None</td>\n    </tr>\n    <tr>\n      <th>1</th>\n      <td>OIP-77: New Tier for Bug Bounty &amp; Awarding of ...</td>\n      <td>0xf1474731033990ba04abd897e70c5387160fab81e23e...</td>\n      <td>Summary\\n\\nThis proposal is designed to add a ...</td>\n      <td>Change Bug Bounty Program</td>\n      <td>Do nothing</td>\n      <td>None</td>\n      <td>None</td>\n      <td>None</td>\n    </tr>\n    <tr>\n      <th>2</th>\n      <td>OIP-71 Goddess DAO Launch Liquidity Assistance...</td>\n      <td>0x88b17056b2677673df2731eec8431a3aadcdc7f8f348...</td>\n      <td>Summary\\n\\nAssist Goddess DAO with gOHM launch...</td>\n      <td>Approve the launch liquidity as</td>\n      <td>Do nothing</td>\n      <td>None</td>\n      <td>None</td>\n      <td>None</td>\n    </tr>\n    <tr>\n      <th>3</th>\n      <td>OIP-75: Olympus Compensation Process</td>\n      <td>0xec57e860aa083fdd2fda66d1787ef8f965bd2f75b239...</td>\n      <td>Please see the forum for full details and disc...</td>\n      <td>For: adopt standard approach</td>\n      <td>Against: continue as-is</td>\n      <td>None</td>\n      <td>None</td>\n      <td>None</td>\n    </tr>\n    <tr>\n      <th>4</th>\n      <td>OIP-74: Partnership with JonesDAO</td>\n      <td>0x3623c7cd9452d348bc7bdbeeb372dc135db6e38e9612...</td>\n      <td>Summary\\n\\nFormalize a partnership to integrat...</td>\n      <td>Approve Partnership</td>\n      <td>Do nothing</td>\n      <td>None</td>\n      <td>None</td>\n      <td>None</td>\n    </tr>\n    <tr>\n      <th>...</th>\n      <td>...</td>\n      <td>...</td>\n      <td>...</td>\n      <td>...</td>\n      <td>...</td>\n      <td>...</td>\n      <td>...</td>\n      <td>...</td>\n    </tr>\n    <tr>\n      <th>95</th>\n      <td>any airdrop?</td>\n      <td>0xe912fb26a4e50b93cac27c09d54b716d16f7f81c769a...</td>\n      <td>any airdrop?</td>\n      <td>yes</td>\n      <td>yes</td>\n      <td>None</td>\n      <td>None</td>\n      <td>None</td>\n    </tr>\n    <tr>\n      <th>96</th>\n      <td>hey what coin is this</td>\n      <td>0x47d1cd5c6aa55b6b97df6a92066aeb1c958e57cd4a3e...</td>\n      <td>send me eth please</td>\n      <td>1</td>\n      <td>2</td>\n      <td>None</td>\n      <td>None</td>\n      <td>None</td>\n    </tr>\n    <tr>\n      <th>97</th>\n      <td>fuck you</td>\n      <td>0x47b42407c756b3cdf244a4c406f2153ba8615fc920a4...</td>\n      <td>what the fuck</td>\n      <td>fuck</td>\n      <td>mom</td>\n      <td>None</td>\n      <td>None</td>\n      <td>None</td>\n    </tr>\n    <tr>\n      <th>98</th>\n      <td>AIRDROP</td>\n      <td>0xcf049d7e9900e80bbfa74b568cdf0c6ab7408706c8a0...</td>\n      <td>We need AIRDROP!</td>\n      <td>Yes</td>\n      <td>No</td>\n      <td>None</td>\n      <td>None</td>\n      <td>None</td>\n    </tr>\n    <tr>\n      <th>99</th>\n      <td>setup a ama channel</td>\n      <td>0xb9e47c3d207b3614355967be0d1c21a060b6a23307d0...</td>\n      <td></td>\n      <td>yes</td>\n      <td>no</td>\n      <td>None</td>\n      <td>None</td>\n      <td>None</td>\n    </tr>\n  </tbody>\n</table>\n<p>100 rows × 8 columns</p>\n</div>"
     },
     "execution_count": 276,
     "metadata": {},
     "output_type": "execute_result"
    }
   ],
   "source": [
    "olympus_governance_view"
   ],
   "metadata": {
    "collapsed": false,
    "pycharm": {
     "name": "#%%\n"
    }
   }
  },
  {
   "cell_type": "code",
   "execution_count": 208,
   "outputs": [],
   "source": [
    "votes_view = snapshot.Query.votes(\n",
    "  orderBy='created',\n",
    "  orderDirection='desc',\n",
    "  first=100,\n",
    "  where=[\n",
    "    snapshot.Proposal.id == '0xfbad1f4af42f99e59e0ef216211f2ed8b1f3a324de04b958ebb7606abf31174b',\n",
    "  ]\n",
    ")"
   ],
   "metadata": {
    "collapsed": false,
    "pycharm": {
     "name": "#%%\n"
    }
   }
  },
  {
   "cell_type": "code",
   "execution_count": 211,
   "outputs": [],
   "source": [
    "import requests\n",
    "\n",
    "def run_query(query):\n",
    "    request = requests.post('https://hub.snapshot.org/graphql'\n",
    "                            '',\n",
    "                            json={'query': query})\n",
    "    if request.status_code == 200:\n",
    "        return request.json()\n",
    "    else:\n",
    "        raise Exception('Query failed. return code is {}.      {}'.format(request.status_code, query))\n",
    "\n",
    "\n",
    "\n",
    "    # Step 1 Create a query using graph API\n",
    "query = \"\"\"\n",
    "{\n",
    "  votes (\n",
    "    first: 100\n",
    "    skip: 0\n",
    "    where: {\n",
    "      space: \"olympusdao.eth\"\n",
    "      proposal: \"0xfbad1f4af42f99e59e0ef216211f2ed8b1f3a324de04b958ebb7606abf31174b\"\n",
    "    }\n",
    "    orderBy: \"created\",\n",
    "    orderDirection: desc\n",
    "  ) {\n",
    "    id\n",
    "    voter\n",
    "    created\n",
    "    proposal {\n",
    "      id\n",
    "    }\n",
    "    choice\n",
    "    space {\n",
    "      id\n",
    "    }\n",
    "  }\n",
    "}\n",
    "\n",
    "\"\"\"\n",
    "results = run_query(query)"
   ],
   "metadata": {
    "collapsed": false,
    "pycharm": {
     "name": "#%%\n"
    }
   }
  },
  {
   "cell_type": "code",
   "execution_count": 212,
   "outputs": [
    {
     "data": {
      "text/plain": "{'data': {'votes': [{'id': '0x82878f23fe56c8a63d8ee78aa3e1694a651b0fdf03a3b4e7ee9bc44c9a5f7c7f',\n    'voter': '0x78B3367B0F547Cd16Bac453F788956AfcE92447B',\n    'created': 1645049500,\n    'proposal': {'id': '0xfbad1f4af42f99e59e0ef216211f2ed8b1f3a324de04b958ebb7606abf31174b'},\n    'choice': 1,\n    'space': {'id': 'olympusdao.eth'}},\n   {'id': '0xd433b5f952ed9e3ec330fc2db2483074729202ec014730221daedd8adb2c687b',\n    'voter': '0x3A9C0A0E46341B4D8a5ae5499b8ECcF4586FD512',\n    'created': 1645049446,\n    'proposal': {'id': '0xfbad1f4af42f99e59e0ef216211f2ed8b1f3a324de04b958ebb7606abf31174b'},\n    'choice': 1,\n    'space': {'id': 'olympusdao.eth'}},\n   {'id': '0x043229dfdb2b53c61832b2b4658133c102970287527b07b2ea03cf50dc592772',\n    'voter': '0xf7Db1796EE8603f3a5De43793581E038027fB9fb',\n    'created': 1645047362,\n    'proposal': {'id': '0xfbad1f4af42f99e59e0ef216211f2ed8b1f3a324de04b958ebb7606abf31174b'},\n    'choice': 1,\n    'space': {'id': 'olympusdao.eth'}},\n   {'id': '0x41cfad408f0e740d3d7212cf829765fe1dba94df860fc2f05f808e51556959f8',\n    'voter': '0xC8C6BeD3c421d3B5ddd0627C7d3AD1F95EaB2D67',\n    'created': 1645042434,\n    'proposal': {'id': '0xfbad1f4af42f99e59e0ef216211f2ed8b1f3a324de04b958ebb7606abf31174b'},\n    'choice': 1,\n    'space': {'id': 'olympusdao.eth'}},\n   {'id': '0x263c8568340308078912b543f145c56cbbcb1663f74ea94b32e8e7dfb926d8bb',\n    'voter': '0x852a7C8655daa996E7E4F0E68e1b4D0950c416eb',\n    'created': 1645042415,\n    'proposal': {'id': '0xfbad1f4af42f99e59e0ef216211f2ed8b1f3a324de04b958ebb7606abf31174b'},\n    'choice': 1,\n    'space': {'id': 'olympusdao.eth'}},\n   {'id': '0x677aba0e90dbeb334da2bcc45ec1ad32313d12252d23a03520e9b82ee5552d34',\n    'voter': '0x65b3e945e707d8399A98eE031f0B891Cbbe82d33',\n    'created': 1645041956,\n    'proposal': {'id': '0xfbad1f4af42f99e59e0ef216211f2ed8b1f3a324de04b958ebb7606abf31174b'},\n    'choice': 2,\n    'space': {'id': 'olympusdao.eth'}},\n   {'id': '0xe4b3a249cbaa601efb45e22c3da6f633f65ac992d814267d673024f203994424',\n    'voter': '0x1EC61779A9fDbd4Ac7b68d3fc45d98de56C7F0fF',\n    'created': 1645039619,\n    'proposal': {'id': '0xfbad1f4af42f99e59e0ef216211f2ed8b1f3a324de04b958ebb7606abf31174b'},\n    'choice': 1,\n    'space': {'id': 'olympusdao.eth'}},\n   {'id': '0xf2852f3c6951f2b097f6dc13a756466938ca7e3a631e9a865d55968c3b6552f1',\n    'voter': '0x3A7356978537d9ED06F33210c0D73135A475cb46',\n    'created': 1645037877,\n    'proposal': {'id': '0xfbad1f4af42f99e59e0ef216211f2ed8b1f3a324de04b958ebb7606abf31174b'},\n    'choice': 1,\n    'space': {'id': 'olympusdao.eth'}},\n   {'id': '0x5c8365f88b1b6e97deca36fb7571bb00586a97375b580b6317a8570ae53428b3',\n    'voter': '0x0259D65954DfbD0735E094C9CdACC256e5A29dD4',\n    'created': 1645029114,\n    'proposal': {'id': '0xfbad1f4af42f99e59e0ef216211f2ed8b1f3a324de04b958ebb7606abf31174b'},\n    'choice': 1,\n    'space': {'id': 'olympusdao.eth'}},\n   {'id': '0x2b19f678ee1f081e06304b1674c9b2fab65639c808cac7a1799981f43e820c6f',\n    'voter': '0x6716b6737620922ACC8F8B8A4c2A6D706F3224FF',\n    'created': 1645028008,\n    'proposal': {'id': '0xfbad1f4af42f99e59e0ef216211f2ed8b1f3a324de04b958ebb7606abf31174b'},\n    'choice': 1,\n    'space': {'id': 'olympusdao.eth'}},\n   {'id': '0xa87517cf52c1d9a5502198395dc0b8b89e965162b08e9b772575d581f40d0342',\n    'voter': '0x65B0F840ea292fc284C23Fc839e65b3951d46195',\n    'created': 1645024709,\n    'proposal': {'id': '0xfbad1f4af42f99e59e0ef216211f2ed8b1f3a324de04b958ebb7606abf31174b'},\n    'choice': 1,\n    'space': {'id': 'olympusdao.eth'}},\n   {'id': '0xc854a9b3075e70b6bf63af2e7ffd699468ce036c50f689aa5a06bf04b86eab70',\n    'voter': '0x88BF7156A2E78aF69Cf9D2809d8c51bb610a9116',\n    'created': 1645020333,\n    'proposal': {'id': '0xfbad1f4af42f99e59e0ef216211f2ed8b1f3a324de04b958ebb7606abf31174b'},\n    'choice': 1,\n    'space': {'id': 'olympusdao.eth'}},\n   {'id': '0xed2850eda6e26c484e2ef5a649f6c2ec8c6eedb8cc7336e05e968260933545eb',\n    'voter': '0x1AA889C3E609B432ff4c3C8601f0cfAa43875996',\n    'created': 1645018906,\n    'proposal': {'id': '0xfbad1f4af42f99e59e0ef216211f2ed8b1f3a324de04b958ebb7606abf31174b'},\n    'choice': 1,\n    'space': {'id': 'olympusdao.eth'}},\n   {'id': '0xf8e7bc166fa43ce6a9c9947123c41d68de7ae4e9bd996f4b8c5dcf4ce9f00181',\n    'voter': '0xEB6BE041000438400816eF46224f4aa17Ca316D7',\n    'created': 1645017341,\n    'proposal': {'id': '0xfbad1f4af42f99e59e0ef216211f2ed8b1f3a324de04b958ebb7606abf31174b'},\n    'choice': 1,\n    'space': {'id': 'olympusdao.eth'}},\n   {'id': '0x287cf8ee9462bf8e85f471bb04be0e79c0aeff0a4744a253a3a5dcc092875aac',\n    'voter': '0xD3B6C89ECCc59183A394854A43faBEe2539Dbb56',\n    'created': 1645016649,\n    'proposal': {'id': '0xfbad1f4af42f99e59e0ef216211f2ed8b1f3a324de04b958ebb7606abf31174b'},\n    'choice': 1,\n    'space': {'id': 'olympusdao.eth'}},\n   {'id': '0xce96ac1e834977f486c5bac43dfccb340dd3f07df23623e6357dff3d469ca873',\n    'voter': '0xd38232CAD68F79622c4A013948E6b5D0aB083b0d',\n    'created': 1645016412,\n    'proposal': {'id': '0xfbad1f4af42f99e59e0ef216211f2ed8b1f3a324de04b958ebb7606abf31174b'},\n    'choice': 1,\n    'space': {'id': 'olympusdao.eth'}},\n   {'id': '0xed9e54074b206a822bb1da6dbec134e19e09fb2c2da3207df382235f2667f51d',\n    'voter': '0x39bEb60bc4c1b8b0eBeEDC515c7A56e7DfB3a5A9',\n    'created': 1645015486,\n    'proposal': {'id': '0xfbad1f4af42f99e59e0ef216211f2ed8b1f3a324de04b958ebb7606abf31174b'},\n    'choice': 1,\n    'space': {'id': 'olympusdao.eth'}},\n   {'id': '0x66c5cc0032f05c9c5abd742fdbc14053dac6451b471519d30409e81426b525cd',\n    'voter': '0x8B68fb9F8612a5c79ae1d348A0378AE6dA758be8',\n    'created': 1645015361,\n    'proposal': {'id': '0xfbad1f4af42f99e59e0ef216211f2ed8b1f3a324de04b958ebb7606abf31174b'},\n    'choice': 1,\n    'space': {'id': 'olympusdao.eth'}},\n   {'id': '0x9d1c5450ec471f31f971f83563b2f7c885e95f38329b8b7ee22786cdd6b7875e',\n    'voter': '0x31331EC182777B3E3CF127F4709A8AAa8F76E549',\n    'created': 1645013167,\n    'proposal': {'id': '0xfbad1f4af42f99e59e0ef216211f2ed8b1f3a324de04b958ebb7606abf31174b'},\n    'choice': 1,\n    'space': {'id': 'olympusdao.eth'}},\n   {'id': '0x1f3b69d8e557cfae69217de44659dd815972a6cb8294b793f2c13f6b5ddc6aa5',\n    'voter': '0x922d012c7E8fCe3C46ac761179Bdb6d16246782D',\n    'created': 1645011846,\n    'proposal': {'id': '0xfbad1f4af42f99e59e0ef216211f2ed8b1f3a324de04b958ebb7606abf31174b'},\n    'choice': 1,\n    'space': {'id': 'olympusdao.eth'}},\n   {'id': '0xb1731113c8b4da123f111b46fb0e2935fd08d09abe5d0e44dbf78cdb4fb15c1f',\n    'voter': '0xF6DF466de3c071eBabfFaeF25CA8Afb7f27b8376',\n    'created': 1645011382,\n    'proposal': {'id': '0xfbad1f4af42f99e59e0ef216211f2ed8b1f3a324de04b958ebb7606abf31174b'},\n    'choice': 2,\n    'space': {'id': 'olympusdao.eth'}},\n   {'id': '0x94f31e4c0478e2afdb328c47ac7a9bfbaf2aaefdd4cb3b2dfa04a3f764402ab5',\n    'voter': '0x8e7742209bf49b7bf2A7007Faa669F8A4cfbbF25',\n    'created': 1645008696,\n    'proposal': {'id': '0xfbad1f4af42f99e59e0ef216211f2ed8b1f3a324de04b958ebb7606abf31174b'},\n    'choice': 1,\n    'space': {'id': 'olympusdao.eth'}},\n   {'id': '0xc74031111597178a61fda89ec62bf233b7399efc249880962bfbd3fb1ed4486b',\n    'voter': '0xa100cD30f2384E53d149729Db33a84597c296c3d',\n    'created': 1645008675,\n    'proposal': {'id': '0xfbad1f4af42f99e59e0ef216211f2ed8b1f3a324de04b958ebb7606abf31174b'},\n    'choice': 1,\n    'space': {'id': 'olympusdao.eth'}},\n   {'id': '0x7e4178fb2bb068f93229bf568f7128ea5c291cc438d491988f093674dc32d2e7',\n    'voter': '0x083ab526C25f6D88219efBe1860D2A9bf83DEB18',\n    'created': 1645007523,\n    'proposal': {'id': '0xfbad1f4af42f99e59e0ef216211f2ed8b1f3a324de04b958ebb7606abf31174b'},\n    'choice': 1,\n    'space': {'id': 'olympusdao.eth'}},\n   {'id': 'QmeqTMGfT9ZNSzWBPd3mgQscAmdAeRdw73LiTv6kGWVxHT',\n    'voter': '0xeDd70F9357990AC791239CF895E69D746E6be106',\n    'created': 1645003449,\n    'proposal': {'id': '0xfbad1f4af42f99e59e0ef216211f2ed8b1f3a324de04b958ebb7606abf31174b'},\n    'choice': 2,\n    'space': {'id': 'olympusdao.eth'}},\n   {'id': '0x5663f0ef4117fa245afe690522aa6efe198d245f014fcf5e89e4fef563e4e270',\n    'voter': '0x7F3E244E9D8fdA47db77d7a24E21Bfb21894fC38',\n    'created': 1645002783,\n    'proposal': {'id': '0xfbad1f4af42f99e59e0ef216211f2ed8b1f3a324de04b958ebb7606abf31174b'},\n    'choice': 1,\n    'space': {'id': 'olympusdao.eth'}},\n   {'id': 'QmWuoE3GBp3BfNHHJk5KxtixWysujM4oRHdrdutbDoFDoZ',\n    'voter': '0xB37E5BC97476E2E980Ff6e22f2AcF0070d38f042',\n    'created': 1645002541,\n    'proposal': {'id': '0xfbad1f4af42f99e59e0ef216211f2ed8b1f3a324de04b958ebb7606abf31174b'},\n    'choice': 2,\n    'space': {'id': 'olympusdao.eth'}},\n   {'id': '0xdf0f9a0744aa4a7647b799936440d677e75bb0b6f078301d8c787e6ce976e602',\n    'voter': '0xedE1B2F9e5cB2B7219EbEF7E9EaA059f038a8136',\n    'created': 1645002193,\n    'proposal': {'id': '0xfbad1f4af42f99e59e0ef216211f2ed8b1f3a324de04b958ebb7606abf31174b'},\n    'choice': 1,\n    'space': {'id': 'olympusdao.eth'}},\n   {'id': 'QmZSMFJbqqTzz6c8MxCRA2rkunMTZTQdQnkXDt43ZMdWBV',\n    'voter': '0x66bDc08a0dB3A83D374670a57aA8ECd5b51b55e5',\n    'created': 1644998413,\n    'proposal': {'id': '0xfbad1f4af42f99e59e0ef216211f2ed8b1f3a324de04b958ebb7606abf31174b'},\n    'choice': 1,\n    'space': {'id': 'olympusdao.eth'}},\n   {'id': '0x23d39ee8b5d636275410ee70d4429f9f56fdb9f34c8246c08c7461321d98091a',\n    'voter': '0x724128DCaCE0CBD31F20eb0CA4D320876F7a245c',\n    'created': 1644989940,\n    'proposal': {'id': '0xfbad1f4af42f99e59e0ef216211f2ed8b1f3a324de04b958ebb7606abf31174b'},\n    'choice': 1,\n    'space': {'id': 'olympusdao.eth'}},\n   {'id': '0x9761cf291147685814db8d5f4c3f91f9e751352995b7bda80808d8be85b1bcc5',\n    'voter': '0x584BBb33b6Ce22DBB8BA8c3CB02F90a88F88451c',\n    'created': 1644989149,\n    'proposal': {'id': '0xfbad1f4af42f99e59e0ef216211f2ed8b1f3a324de04b958ebb7606abf31174b'},\n    'choice': 1,\n    'space': {'id': 'olympusdao.eth'}},\n   {'id': '0xaa1f1066f7c315ff0f8fbe42bbd98ebed74bc09bdddb16fcfe7d620b0d116b61',\n    'voter': '0x838C80B3Fe376B4043781507D76f57C6DB0D7D19',\n    'created': 1644982802,\n    'proposal': {'id': '0xfbad1f4af42f99e59e0ef216211f2ed8b1f3a324de04b958ebb7606abf31174b'},\n    'choice': 1,\n    'space': {'id': 'olympusdao.eth'}},\n   {'id': '0x8984af73fb11e6f68af5f288d4ad914324e1f84aee58ec3abe7330e5f6c63e35',\n    'voter': '0xb86B849b336b6f8a0389610714b522FE49a0be33',\n    'created': 1644982610,\n    'proposal': {'id': '0xfbad1f4af42f99e59e0ef216211f2ed8b1f3a324de04b958ebb7606abf31174b'},\n    'choice': 1,\n    'space': {'id': 'olympusdao.eth'}},\n   {'id': '0xe2872df23dd7b1c2de78a5cec22bd06830ba1b10baf63e2ab4f6f490f6410a81',\n    'voter': '0xE0C83aC8cBa44F58bf8483912740954650d00aE2',\n    'created': 1644982154,\n    'proposal': {'id': '0xfbad1f4af42f99e59e0ef216211f2ed8b1f3a324de04b958ebb7606abf31174b'},\n    'choice': 1,\n    'space': {'id': 'olympusdao.eth'}},\n   {'id': '0x09e49de943ba900688d36e9ea64f6fe173cce5df01dbc952e1274f44b7d49e81',\n    'voter': '0x68e41BDD608fC5eE054615CF2D9d079f9e99c483',\n    'created': 1644981409,\n    'proposal': {'id': '0xfbad1f4af42f99e59e0ef216211f2ed8b1f3a324de04b958ebb7606abf31174b'},\n    'choice': 1,\n    'space': {'id': 'olympusdao.eth'}},\n   {'id': '0x3503022d5918d7c5c4741a825d1eafed5fa4495546b5c6346e4e43222bdbb1e0',\n    'voter': '0x06CcfaB8c54e64BBFEc51c86027b471d4A600923',\n    'created': 1644979813,\n    'proposal': {'id': '0xfbad1f4af42f99e59e0ef216211f2ed8b1f3a324de04b958ebb7606abf31174b'},\n    'choice': 1,\n    'space': {'id': 'olympusdao.eth'}},\n   {'id': '0xb7c1f280a5fabd9a3f3a045ef9f5a51942b822cd071b36a28227966e10757f9f',\n    'voter': '0x73D66aB83fc81A9F2bBEae6D1d2586a279B9f5E1',\n    'created': 1644979605,\n    'proposal': {'id': '0xfbad1f4af42f99e59e0ef216211f2ed8b1f3a324de04b958ebb7606abf31174b'},\n    'choice': 1,\n    'space': {'id': 'olympusdao.eth'}},\n   {'id': '0xde478ff7aaf3aa35e6ec14f5e5f35898b3eb6ed987904e5943b906a50a7939ed',\n    'voter': '0x68Db91D7Be097c96A7e4034105bb4861434f7710',\n    'created': 1644977874,\n    'proposal': {'id': '0xfbad1f4af42f99e59e0ef216211f2ed8b1f3a324de04b958ebb7606abf31174b'},\n    'choice': 1,\n    'space': {'id': 'olympusdao.eth'}},\n   {'id': '0xed94adb7d3f94d11ecab74fce0f56934b0ed0d4f21f31dacfefc9e334f00412d',\n    'voter': '0xCfFDA31a3d620203938469CA328C9Cf69B9332e1',\n    'created': 1644977620,\n    'proposal': {'id': '0xfbad1f4af42f99e59e0ef216211f2ed8b1f3a324de04b958ebb7606abf31174b'},\n    'choice': 1,\n    'space': {'id': 'olympusdao.eth'}},\n   {'id': '0x358f383e2f931f7eaf55b86af3d7950bb01b3869b07e57f413bebeed3515d5c2',\n    'voter': '0x7aA3DAfA553A9914f0781B7101f6E09cbFBd6A55',\n    'created': 1644976695,\n    'proposal': {'id': '0xfbad1f4af42f99e59e0ef216211f2ed8b1f3a324de04b958ebb7606abf31174b'},\n    'choice': 1,\n    'space': {'id': 'olympusdao.eth'}},\n   {'id': 'QmXuRrNdYdVVng8968HinuEMmsE69qs4kk2UnFwdSziYCd',\n    'voter': '0x104B1C9F058aDA2b7333DA262943f43B2c415315',\n    'created': 1644976142,\n    'proposal': {'id': '0xfbad1f4af42f99e59e0ef216211f2ed8b1f3a324de04b958ebb7606abf31174b'},\n    'choice': 1,\n    'space': {'id': 'olympusdao.eth'}},\n   {'id': 'QmTSS74F9kvaXurnrSQu9g6ZFMafuit7eypcxMLDLVg9hQ',\n    'voter': '0xe618900f4cE069639530F6020022a47f0284855F',\n    'created': 1644975332,\n    'proposal': {'id': '0xfbad1f4af42f99e59e0ef216211f2ed8b1f3a324de04b958ebb7606abf31174b'},\n    'choice': 1,\n    'space': {'id': 'olympusdao.eth'}},\n   {'id': 'QmTG8QWXbxFP1zgmudwhYLjuyyjupS6YojKnUCxUWMQpFM',\n    'voter': '0xEA4B752083c7A386ff7556BB7C0b01876b4eE96F',\n    'created': 1644973577,\n    'proposal': {'id': '0xfbad1f4af42f99e59e0ef216211f2ed8b1f3a324de04b958ebb7606abf31174b'},\n    'choice': 1,\n    'space': {'id': 'olympusdao.eth'}},\n   {'id': '0x187ce74a0443942b740b7f323c61af100889a7b4d759d1572528964d7e9c01fa',\n    'voter': '0x6C51A5Ef1B6736B63c965b3057ae5c5b50De76D3',\n    'created': 1644973289,\n    'proposal': {'id': '0xfbad1f4af42f99e59e0ef216211f2ed8b1f3a324de04b958ebb7606abf31174b'},\n    'choice': 1,\n    'space': {'id': 'olympusdao.eth'}},\n   {'id': '0x9f6850a15ef2dc86278f8470efb6e6b250aa84119909c5289482a2e306d85742',\n    'voter': '0x202C4a0c28293C279af6312BF8D2603bBB533A88',\n    'created': 1644968182,\n    'proposal': {'id': '0xfbad1f4af42f99e59e0ef216211f2ed8b1f3a324de04b958ebb7606abf31174b'},\n    'choice': 1,\n    'space': {'id': 'olympusdao.eth'}},\n   {'id': '0x946e9e3dee0f1c76e9cdb9b1db5a0da1eea78416a781c06ba47d9ce26e21cae7',\n    'voter': '0x96E7a726F6BF6b757990eBBa7D090C32962b2719',\n    'created': 1644966063,\n    'proposal': {'id': '0xfbad1f4af42f99e59e0ef216211f2ed8b1f3a324de04b958ebb7606abf31174b'},\n    'choice': 1,\n    'space': {'id': 'olympusdao.eth'}},\n   {'id': '0x0caf601c589552288caf2c2b839aa15401f96d875ff9bd91b16597b9bb4f7ee4',\n    'voter': '0x7672B17D5Eebb7194d57066f86FBcb4e85a7e10E',\n    'created': 1644965373,\n    'proposal': {'id': '0xfbad1f4af42f99e59e0ef216211f2ed8b1f3a324de04b958ebb7606abf31174b'},\n    'choice': 1,\n    'space': {'id': 'olympusdao.eth'}},\n   {'id': '0xbb0a455aa61c40a796230f2a1014516f37e919678776d9e0b975ae8fcfd9b369',\n    'voter': '0xC02bFC8c96477d82Ae78d3212b802C4bfC820F90',\n    'created': 1644963997,\n    'proposal': {'id': '0xfbad1f4af42f99e59e0ef216211f2ed8b1f3a324de04b958ebb7606abf31174b'},\n    'choice': 1,\n    'space': {'id': 'olympusdao.eth'}},\n   {'id': '0x59f2c2f7bd1af929badca1e8c2020499b6bf3af738fec03af7c38c331bd207ef',\n    'voter': '0xA9faD5A2DA799b5D9b12D1aAbd15421cA17A19C1',\n    'created': 1644963130,\n    'proposal': {'id': '0xfbad1f4af42f99e59e0ef216211f2ed8b1f3a324de04b958ebb7606abf31174b'},\n    'choice': 1,\n    'space': {'id': 'olympusdao.eth'}},\n   {'id': 'QmWU878ckXVdYcB4W5FpYScGVBE7NqcUJG6t9KaXKV3eFp',\n    'voter': '0xc37506BF10d70eCDd8C6E2917bF4A07670c48aE3',\n    'created': 1644962536,\n    'proposal': {'id': '0xfbad1f4af42f99e59e0ef216211f2ed8b1f3a324de04b958ebb7606abf31174b'},\n    'choice': 1,\n    'space': {'id': 'olympusdao.eth'}},\n   {'id': '0x720b88c1e643fa8308f137cd10c9dd5277dd57ee07ee4796db733531bd9163d2',\n    'voter': '0x5673Bbc0174AFb6AA71213bc3b00fc4f6630c654',\n    'created': 1644962086,\n    'proposal': {'id': '0xfbad1f4af42f99e59e0ef216211f2ed8b1f3a324de04b958ebb7606abf31174b'},\n    'choice': 2,\n    'space': {'id': 'olympusdao.eth'}},\n   {'id': '0x6c8eea9964b35096f745a88501464d31ad5d3468434bfc793b568e703e38e507',\n    'voter': '0x4ABc33CF81e0d21f42168d044f7002eDd6b80B09',\n    'created': 1644960875,\n    'proposal': {'id': '0xfbad1f4af42f99e59e0ef216211f2ed8b1f3a324de04b958ebb7606abf31174b'},\n    'choice': 1,\n    'space': {'id': 'olympusdao.eth'}},\n   {'id': '0x2c0b952c14cb82b45bcebc6f2a90037590da6e7aaa3ea359858af739b9902188',\n    'voter': '0x676c34221253876D42560D59216Cb332A4bb18dE',\n    'created': 1644959657,\n    'proposal': {'id': '0xfbad1f4af42f99e59e0ef216211f2ed8b1f3a324de04b958ebb7606abf31174b'},\n    'choice': 1,\n    'space': {'id': 'olympusdao.eth'}},\n   {'id': '0xe7aad207f0419164b83daa867d1db91b0659ae2589cee9fbf1d7b515c9a67305',\n    'voter': '0xecF915549dCD0f761c08F1CD06351dCbD630905b',\n    'created': 1644957527,\n    'proposal': {'id': '0xfbad1f4af42f99e59e0ef216211f2ed8b1f3a324de04b958ebb7606abf31174b'},\n    'choice': 2,\n    'space': {'id': 'olympusdao.eth'}},\n   {'id': '0xb148d778944536b6811aa83e2c9bab005a9a25a8218499efb0ed8d916ddda259',\n    'voter': '0x0b50b81BBf9c2F5B7938E25bbc60c628340081A3',\n    'created': 1644957115,\n    'proposal': {'id': '0xfbad1f4af42f99e59e0ef216211f2ed8b1f3a324de04b958ebb7606abf31174b'},\n    'choice': 1,\n    'space': {'id': 'olympusdao.eth'}},\n   {'id': '0x379ca68215515cb1f4468a9540ab8982e91f7a0ed2da6af016b0175b2665da4e',\n    'voter': '0x5a34C150535F4a76Eb06dF699f60Ac40cc9A2132',\n    'created': 1644956568,\n    'proposal': {'id': '0xfbad1f4af42f99e59e0ef216211f2ed8b1f3a324de04b958ebb7606abf31174b'},\n    'choice': 1,\n    'space': {'id': 'olympusdao.eth'}},\n   {'id': '0xfefbbbd6f79128a180c6e8a4abddb0ec49777d048420cad09786c0b3d5b99d3e',\n    'voter': '0x64c04B1D410729c66051d4C1f7BfB01A3901eb59',\n    'created': 1644956566,\n    'proposal': {'id': '0xfbad1f4af42f99e59e0ef216211f2ed8b1f3a324de04b958ebb7606abf31174b'},\n    'choice': 1,\n    'space': {'id': 'olympusdao.eth'}},\n   {'id': '0x03744dfbf63ccaf13eafffc950e91586eef9e306ea3531d7e1e1c78b466d4339',\n    'voter': '0x0BB31C6278d58CfF41B7e8Ed3B20f76424fD69Ad',\n    'created': 1644956161,\n    'proposal': {'id': '0xfbad1f4af42f99e59e0ef216211f2ed8b1f3a324de04b958ebb7606abf31174b'},\n    'choice': 1,\n    'space': {'id': 'olympusdao.eth'}},\n   {'id': '0x5e7d7b894a5b3796965b4cb990c45405348fb390e920e5be6667c551b10a574d',\n    'voter': '0x8c80c1FE10912398Bf0FE68A25839DefCaef588e',\n    'created': 1644956144,\n    'proposal': {'id': '0xfbad1f4af42f99e59e0ef216211f2ed8b1f3a324de04b958ebb7606abf31174b'},\n    'choice': 1,\n    'space': {'id': 'olympusdao.eth'}},\n   {'id': '0xb9bee2f5b3b33850766333dc541f89073425ccaf4eebf752d1b6f406dccd9777',\n    'voter': '0x63DaE0946A44eeeAD00C8B30ec206Fda63F7DFE1',\n    'created': 1644956128,\n    'proposal': {'id': '0xfbad1f4af42f99e59e0ef216211f2ed8b1f3a324de04b958ebb7606abf31174b'},\n    'choice': 1,\n    'space': {'id': 'olympusdao.eth'}},\n   {'id': '0x3fe62b59aa8f25e797d62171a39ed246fca410a8cad83d0485cf404489939406',\n    'voter': '0x686d82d660F9c11FD8de1eEfF76F9c181bbB00eb',\n    'created': 1644956117,\n    'proposal': {'id': '0xfbad1f4af42f99e59e0ef216211f2ed8b1f3a324de04b958ebb7606abf31174b'},\n    'choice': 1,\n    'space': {'id': 'olympusdao.eth'}},\n   {'id': '0xc8d17918eb6a44a9126a2876fc676142a576039152376c34c120592e26485eb8',\n    'voter': '0x8d5beF1f433E2cE43C54627531846a36e1DE3575',\n    'created': 1644956103,\n    'proposal': {'id': '0xfbad1f4af42f99e59e0ef216211f2ed8b1f3a324de04b958ebb7606abf31174b'},\n    'choice': 1,\n    'space': {'id': 'olympusdao.eth'}},\n   {'id': '0xc7850c4f142c1e92060832b2d8a9b1e8c59c4348312789661dc9ee44f60e4125',\n    'voter': '0x4509d07b470B25B6ba89c39d68d18dB213AF0E42',\n    'created': 1644956088,\n    'proposal': {'id': '0xfbad1f4af42f99e59e0ef216211f2ed8b1f3a324de04b958ebb7606abf31174b'},\n    'choice': 1,\n    'space': {'id': 'olympusdao.eth'}},\n   {'id': '0xfa9a15e62796990132e4ef5067f0ca9cbea759b4611e617d02f5a29c065515bb',\n    'voter': '0x568901fA1696AA6F6F702c7Ac0A45Ae9C3687157',\n    'created': 1644956078,\n    'proposal': {'id': '0xfbad1f4af42f99e59e0ef216211f2ed8b1f3a324de04b958ebb7606abf31174b'},\n    'choice': 1,\n    'space': {'id': 'olympusdao.eth'}},\n   {'id': '0xed2429c82224da388aadb0ac16d85e1e6e04e01d420237c30c08f4e8467a43ca',\n    'voter': '0x29239745Da803187B31c35a8913eE50afbeb5C07',\n    'created': 1644956069,\n    'proposal': {'id': '0xfbad1f4af42f99e59e0ef216211f2ed8b1f3a324de04b958ebb7606abf31174b'},\n    'choice': 1,\n    'space': {'id': 'olympusdao.eth'}},\n   {'id': '0xfa5b13860233cf90df8cdb4c21fe47d6d3f329db9905856ab0577abe904d478f',\n    'voter': '0x470e3656133e8229c089a88C92b79537001ae857',\n    'created': 1644956059,\n    'proposal': {'id': '0xfbad1f4af42f99e59e0ef216211f2ed8b1f3a324de04b958ebb7606abf31174b'},\n    'choice': 1,\n    'space': {'id': 'olympusdao.eth'}},\n   {'id': '0x1c43e55aa12ca1a1a4cffcff9fb0d6a8b61f8fa8decdae92a3afdd4fdaf2c637',\n    'voter': '0x2BbD26F7320e4b7DAfce5637C8A834cB9025DCAe',\n    'created': 1644956049,\n    'proposal': {'id': '0xfbad1f4af42f99e59e0ef216211f2ed8b1f3a324de04b958ebb7606abf31174b'},\n    'choice': 1,\n    'space': {'id': 'olympusdao.eth'}},\n   {'id': '0x3789a10a2f81c20c828610031693b0a445cb17d0d1b89355f208c5fa3b05fbaf',\n    'voter': '0x24eE97586fE0B6374667ef16abF9030189568AfE',\n    'created': 1644955990,\n    'proposal': {'id': '0xfbad1f4af42f99e59e0ef216211f2ed8b1f3a324de04b958ebb7606abf31174b'},\n    'choice': 1,\n    'space': {'id': 'olympusdao.eth'}},\n   {'id': 'QmVySrn8A4Ba3n8jdMDG1dtfxK5cUTLZj3Wu7UJbevsFWs',\n    'voter': '0xb03F5438f9A243De5C3B830B7841EC315034cD5f',\n    'created': 1644955882,\n    'proposal': {'id': '0xfbad1f4af42f99e59e0ef216211f2ed8b1f3a324de04b958ebb7606abf31174b'},\n    'choice': 1,\n    'space': {'id': 'olympusdao.eth'}},\n   {'id': '0x5bc4adb2c0d878373eb78a2466fb11ef343d81da91a2e01fe782f845a00df76a',\n    'voter': '0xace3C69a43233D2B99bb4113Fd1aEfD7cD833aBB',\n    'created': 1644955533,\n    'proposal': {'id': '0xfbad1f4af42f99e59e0ef216211f2ed8b1f3a324de04b958ebb7606abf31174b'},\n    'choice': 1,\n    'space': {'id': 'olympusdao.eth'}},\n   {'id': '0xe476f4982aa4e9bb496231b51c4a9d58520001440bd9d137a4b8ee36b06ff186',\n    'voter': '0xA58C5c1D9589d859AB5481bEa3b39A93079A1a57',\n    'created': 1644954732,\n    'proposal': {'id': '0xfbad1f4af42f99e59e0ef216211f2ed8b1f3a324de04b958ebb7606abf31174b'},\n    'choice': 1,\n    'space': {'id': 'olympusdao.eth'}},\n   {'id': '0xdb3637834a79c6d9e893e0c96efa18943c4dbdd547f789d28fee404cbbb070f7',\n    'voter': '0x65b2689f54618359ecf7455D14fafbFCc180a47A',\n    'created': 1644954173,\n    'proposal': {'id': '0xfbad1f4af42f99e59e0ef216211f2ed8b1f3a324de04b958ebb7606abf31174b'},\n    'choice': 1,\n    'space': {'id': 'olympusdao.eth'}},\n   {'id': '0x3e8cf6add8e118c15047fa0e69c618799a5ef767e3093e90b03f5334866b6d10',\n    'voter': '0x98EC5a9996571219925CD82edBEA064D81FeD182',\n    'created': 1644953850,\n    'proposal': {'id': '0xfbad1f4af42f99e59e0ef216211f2ed8b1f3a324de04b958ebb7606abf31174b'},\n    'choice': 1,\n    'space': {'id': 'olympusdao.eth'}},\n   {'id': '0x03e5e9715277801c605b29c4722ad4ef83eaeedfa926020cb6778dbfe02ac0fe',\n    'voter': '0x8DC4310F20d59BA458b76A62141697717f93FA41',\n    'created': 1644953581,\n    'proposal': {'id': '0xfbad1f4af42f99e59e0ef216211f2ed8b1f3a324de04b958ebb7606abf31174b'},\n    'choice': 1,\n    'space': {'id': 'olympusdao.eth'}},\n   {'id': '0xeed435fabfb16b649758feadd52bc1abe700439db77d76d389520536ecb54499',\n    'voter': '0x680119ee5A4983b15932c0a2785ec727Cc3ccDA2',\n    'created': 1644952750,\n    'proposal': {'id': '0xfbad1f4af42f99e59e0ef216211f2ed8b1f3a324de04b958ebb7606abf31174b'},\n    'choice': 1,\n    'space': {'id': 'olympusdao.eth'}},\n   {'id': '0x8c903a3e7db17c3846c2110cd399a5cf1890cffd95fb17c4d0765bb95bba736e',\n    'voter': '0x1200Eb4fA3dF9903fC6EfF1d7A4a5D17502329b2',\n    'created': 1644952043,\n    'proposal': {'id': '0xfbad1f4af42f99e59e0ef216211f2ed8b1f3a324de04b958ebb7606abf31174b'},\n    'choice': 1,\n    'space': {'id': 'olympusdao.eth'}},\n   {'id': '0xc62836b04405e888e89a78ac06defddc65203b14f4ea64ce162322549e3b8444',\n    'voter': '0x3Ac892A09165516D98Ec9C02B95Ff840aB4bAdae',\n    'created': 1644952031,\n    'proposal': {'id': '0xfbad1f4af42f99e59e0ef216211f2ed8b1f3a324de04b958ebb7606abf31174b'},\n    'choice': 1,\n    'space': {'id': 'olympusdao.eth'}},\n   {'id': '0xc2560e28fd23b5b7d50c11e88ada35ea5ce58353f0afb4c137dab09ef96a9eb3',\n    'voter': '0x8ACde6eB351dfbc81132F0916E3fbDEF9980F3Ff',\n    'created': 1644951757,\n    'proposal': {'id': '0xfbad1f4af42f99e59e0ef216211f2ed8b1f3a324de04b958ebb7606abf31174b'},\n    'choice': 1,\n    'space': {'id': 'olympusdao.eth'}},\n   {'id': '0xef02621956996c6cf03613b86b04a677940635695931e02a1b5e5914e850b70d',\n    'voter': '0x9D0A3e2b1669b9D272dB2800DD55418837f21645',\n    'created': 1644951175,\n    'proposal': {'id': '0xfbad1f4af42f99e59e0ef216211f2ed8b1f3a324de04b958ebb7606abf31174b'},\n    'choice': 1,\n    'space': {'id': 'olympusdao.eth'}},\n   {'id': '0xa6c37bc90961f53dcd63d1ec4feae76943d2d57fcc226ec6913faeea841b877f',\n    'voter': '0x327aE09aefFc9a276529B61870E896E733933801',\n    'created': 1644950557,\n    'proposal': {'id': '0xfbad1f4af42f99e59e0ef216211f2ed8b1f3a324de04b958ebb7606abf31174b'},\n    'choice': 1,\n    'space': {'id': 'olympusdao.eth'}},\n   {'id': '0xf3d32e1960558d4005b34967fae47284340ba237c512c2877c45535bac013053',\n    'voter': '0x04446f57C6B5bf61d46d44EB0fbf37d7f34b27B4',\n    'created': 1644950273,\n    'proposal': {'id': '0xfbad1f4af42f99e59e0ef216211f2ed8b1f3a324de04b958ebb7606abf31174b'},\n    'choice': 1,\n    'space': {'id': 'olympusdao.eth'}},\n   {'id': '0xb4b9433fbcb893b65d7686c976f4ad9c7e62bec432c87130f48980bb19d42a35',\n    'voter': '0x7c597D2d92414e6Bc9D4bDb6C1dd5BC54875c01B',\n    'created': 1644949127,\n    'proposal': {'id': '0xfbad1f4af42f99e59e0ef216211f2ed8b1f3a324de04b958ebb7606abf31174b'},\n    'choice': 1,\n    'space': {'id': 'olympusdao.eth'}},\n   {'id': '0x090b26660faf2fa2282f96b84b18560620e7c65dcbcc5ec6166cf4752f4c6af6',\n    'voter': '0x74116e73D97135dCb6a8Ad35008a18CCF4950C01',\n    'created': 1644948568,\n    'proposal': {'id': '0xfbad1f4af42f99e59e0ef216211f2ed8b1f3a324de04b958ebb7606abf31174b'},\n    'choice': 1,\n    'space': {'id': 'olympusdao.eth'}},\n   {'id': '0x825b267355aef7bb28e433c81ec4b9ee689ca91a7e4bbae609080853ca018130',\n    'voter': '0xa76e7801D19668ecb03116972c94864228B99403',\n    'created': 1644948000,\n    'proposal': {'id': '0xfbad1f4af42f99e59e0ef216211f2ed8b1f3a324de04b958ebb7606abf31174b'},\n    'choice': 1,\n    'space': {'id': 'olympusdao.eth'}},\n   {'id': '0x98dfc90c6604c1f64de6243945e84f91655a208f732be166c1f5aca350add91a',\n    'voter': '0x064514d52Bf49F4d7879e205a89aFA433A49a095',\n    'created': 1644947666,\n    'proposal': {'id': '0xfbad1f4af42f99e59e0ef216211f2ed8b1f3a324de04b958ebb7606abf31174b'},\n    'choice': 1,\n    'space': {'id': 'olympusdao.eth'}},\n   {'id': '0x74cea747c952dd2d0c1eee0ec948c940c9d7144334ca89ea8b34174e5b2afe2f',\n    'voter': '0x0971508FD715704b3abf6a7f11c45c1DdaBAF73f',\n    'created': 1644947441,\n    'proposal': {'id': '0xfbad1f4af42f99e59e0ef216211f2ed8b1f3a324de04b958ebb7606abf31174b'},\n    'choice': 1,\n    'space': {'id': 'olympusdao.eth'}},\n   {'id': '0xa202878be64e249ca4c3ff5f2ab43279aab54e73b0ba181d6e37600d21c27578',\n    'voter': '0xB831fA8F03b8C47E7fe70d3BB1d0Ba8fC718Fc72',\n    'created': 1644946880,\n    'proposal': {'id': '0xfbad1f4af42f99e59e0ef216211f2ed8b1f3a324de04b958ebb7606abf31174b'},\n    'choice': 1,\n    'space': {'id': 'olympusdao.eth'}},\n   {'id': '0xf7b5d978b6d0eb32ab2b3e7b6d4838db54913a3aae91cddf2ccd0d7c4e69b4a9',\n    'voter': '0xF4c62abAfEBABEb92bAfDbd63b6497762c5A4827',\n    'created': 1644946387,\n    'proposal': {'id': '0xfbad1f4af42f99e59e0ef216211f2ed8b1f3a324de04b958ebb7606abf31174b'},\n    'choice': 1,\n    'space': {'id': 'olympusdao.eth'}},\n   {'id': '0xc1325e1bcc6ab86f69cb6a1baa08557fd9d90d2ef2c10e4699d4fba1e5eb4a3e',\n    'voter': '0x2406d61812Bbe600767fCE3392E868F14c9B67F0',\n    'created': 1644944725,\n    'proposal': {'id': '0xfbad1f4af42f99e59e0ef216211f2ed8b1f3a324de04b958ebb7606abf31174b'},\n    'choice': 1,\n    'space': {'id': 'olympusdao.eth'}},\n   {'id': '0x14d70e0149f53c4024879ab7b95d3b6d8eedd5c5de0e8f7d2ebfa27142e60c45',\n    'voter': '0x9aef2F3e572A5297BF370E2d0c469E02B4ac3695',\n    'created': 1644943504,\n    'proposal': {'id': '0xfbad1f4af42f99e59e0ef216211f2ed8b1f3a324de04b958ebb7606abf31174b'},\n    'choice': 1,\n    'space': {'id': 'olympusdao.eth'}},\n   {'id': '0x0190152143c75704369afac956c8680bde4a1a8410d996cac4bb13453f8f1fee',\n    'voter': '0x889444F74E321D2008cd01094A78Bae0e7DBad3B',\n    'created': 1644942199,\n    'proposal': {'id': '0xfbad1f4af42f99e59e0ef216211f2ed8b1f3a324de04b958ebb7606abf31174b'},\n    'choice': 1,\n    'space': {'id': 'olympusdao.eth'}},\n   {'id': 'Qmc3MBTJEKyT9A9UcKcmdAjkTEPa5Xt6XLvtVYjs9Txowv',\n    'voter': '0x7f5Fe0Cf45aD50b4E80Fe66a87f692B7c006bc3e',\n    'created': 1644940327,\n    'proposal': {'id': '0xfbad1f4af42f99e59e0ef216211f2ed8b1f3a324de04b958ebb7606abf31174b'},\n    'choice': 1,\n    'space': {'id': 'olympusdao.eth'}},\n   {'id': '0x4583b7b61bd377ed7b5b4218c4ed756baeb1695447774df132c3ae5ce7431b8c',\n    'voter': '0xda9d98465CD64dBAc9BD0A80EF72fa2C13dEF6A3',\n    'created': 1644940055,\n    'proposal': {'id': '0xfbad1f4af42f99e59e0ef216211f2ed8b1f3a324de04b958ebb7606abf31174b'},\n    'choice': 1,\n    'space': {'id': 'olympusdao.eth'}},\n   {'id': '0x7cf304cdaf9a94ac0df27729ff2bf1cb4a3d691f210231c3d0085f7b6ecfd610',\n    'voter': '0x5b47Ce248ea313841668A318AFB9a5597d5eFC23',\n    'created': 1644939649,\n    'proposal': {'id': '0xfbad1f4af42f99e59e0ef216211f2ed8b1f3a324de04b958ebb7606abf31174b'},\n    'choice': 1,\n    'space': {'id': 'olympusdao.eth'}},\n   {'id': '0x786787c6dc7e02492c1ba76ece7af0540039963199fc8ea28f024e79530e1c28',\n    'voter': '0xf7814b5CECf31907745420d67D52D1c8b1671541',\n    'created': 1644937574,\n    'proposal': {'id': '0xfbad1f4af42f99e59e0ef216211f2ed8b1f3a324de04b958ebb7606abf31174b'},\n    'choice': 1,\n    'space': {'id': 'olympusdao.eth'}},\n   {'id': '0x76b28aaa3dd12ba13925e01e5d4abe354dfbf986d54f084a456b6a0ed93529c6',\n    'voter': '0xCA7345ebd16d8d4D5aC6C38FaE99154fE1ecA90B',\n    'created': 1644936720,\n    'proposal': {'id': '0xfbad1f4af42f99e59e0ef216211f2ed8b1f3a324de04b958ebb7606abf31174b'},\n    'choice': 1,\n    'space': {'id': 'olympusdao.eth'}},\n   {'id': '0x096e9ff86e047b1b1f34d7138c7eae163d36c270452874b5b2d81b9e6f26a21c',\n    'voter': '0xF59C17EB3b068d5B44E1F8348A5aC56e66347f48',\n    'created': 1644934061,\n    'proposal': {'id': '0xfbad1f4af42f99e59e0ef216211f2ed8b1f3a324de04b958ebb7606abf31174b'},\n    'choice': 1,\n    'space': {'id': 'olympusdao.eth'}},\n   {'id': '0xa77ff182888d517ebd4848bbae29c84f83b71771d10ea0757270eaf9ede27fa2',\n    'voter': '0x4541C852aDdC826ea6D4A1fF6d55e855490FaCc7',\n    'created': 1644933811,\n    'proposal': {'id': '0xfbad1f4af42f99e59e0ef216211f2ed8b1f3a324de04b958ebb7606abf31174b'},\n    'choice': 1,\n    'space': {'id': 'olympusdao.eth'}},\n   {'id': '0x3a41071329fe69ca1dbb58cb8f1d80748d374bdd27f5e5e35e898d517f73e441',\n    'voter': '0x9C252F5e4E94287A19B009Cc7bD98671De7cC7F8',\n    'created': 1644933702,\n    'proposal': {'id': '0xfbad1f4af42f99e59e0ef216211f2ed8b1f3a324de04b958ebb7606abf31174b'},\n    'choice': 1,\n    'space': {'id': 'olympusdao.eth'}},\n   {'id': 'QmW5eU8ufYqwVnTTj8hq1j8HBKvXsGefLZ8z56fgQ8LDGq',\n    'voter': '0xd677aDc126101DCA9Ca00EF39C312a2F73159120',\n    'created': 1644933442,\n    'proposal': {'id': '0xfbad1f4af42f99e59e0ef216211f2ed8b1f3a324de04b958ebb7606abf31174b'},\n    'choice': 1,\n    'space': {'id': 'olympusdao.eth'}}]}}"
     },
     "execution_count": 212,
     "metadata": {},
     "output_type": "execute_result"
    }
   ],
   "source": [
    "results"
   ],
   "metadata": {
    "collapsed": false,
    "pycharm": {
     "name": "#%%\n"
    }
   }
  },
  {
   "cell_type": "code",
   "execution_count": 228,
   "outputs": [],
   "source": [
    "votes_snapshot = sg.load_subgraph('https://hub.snapshot.org/graphql')"
   ],
   "metadata": {
    "collapsed": false,
    "pycharm": {
     "name": "#%%\n"
    }
   }
  },
  {
   "cell_type": "code",
   "execution_count": 231,
   "outputs": [],
   "source": [
    "vote_tracker = votes_snapshot.Query.votes\n",
    "#vote_tracker_votes = vote_tracker.votes\n",
    "vote_tracker_id = vote_tracker.id\n",
    "vote_tracker_voter = vote_tracker.voter\n",
    "vote_tracker_created = vote_tracker.created\n",
    "vote_tracker_choice = vote_tracker.choice"
   ],
   "metadata": {
    "collapsed": false,
    "pycharm": {
     "name": "#%%\n"
    }
   }
  },
  {
   "cell_type": "code",
   "execution_count": 235,
   "outputs": [],
   "source": [
    "req1 = sg.mk_request([\n",
    "vote_tracker_voter\n",
    "])"
   ],
   "metadata": {
    "collapsed": false,
    "pycharm": {
     "name": "#%%\n"
    }
   }
  },
  {
   "cell_type": "code",
   "execution_count": 236,
   "outputs": [
    {
     "name": "stdout",
     "output_type": "stream",
     "text": [
      "query {\n",
      "  votes {\n",
      "    voter\n",
      "  }\n",
      "}\n"
     ]
    }
   ],
   "source": [
    "print(req1.graphql)"
   ],
   "metadata": {
    "collapsed": false,
    "pycharm": {
     "name": "#%%\n"
    }
   }
  },
  {
   "cell_type": "code",
   "execution_count": 260,
   "outputs": [],
   "source": [
    "vote_tracker_2 = votes_snapshot.Query.votes(\n",
    "    orderBy = 'created',\n",
    "    orderDirection='desc',\n",
    "    first=100,\n",
    "    where=[\n",
    "        votes_snapshot.Vote.proposal == '0xfbad1f4af42f99e59e0ef216211f2ed8b1f3a324de04b958ebb7606abf31174b'\n",
    "    ]\n",
    ")"
   ],
   "metadata": {
    "collapsed": false,
    "pycharm": {
     "name": "#%%\n"
    }
   }
  },
  {
   "cell_type": "code",
   "execution_count": 261,
   "outputs": [],
   "source": [
    "req2 = sg.mk_request([\n",
    "    vote_tracker_2.id,\n",
    "    vote_tracker_2.voter,\n",
    "    vote_tracker_2.created,\n",
    "    vote_tracker_2.choice\n",
    "])"
   ],
   "metadata": {
    "collapsed": false,
    "pycharm": {
     "name": "#%%\n"
    }
   }
  },
  {
   "cell_type": "code",
   "execution_count": 262,
   "outputs": [
    {
     "name": "stdout",
     "output_type": "stream",
     "text": [
      "query {\n",
      "  x4d58b104ccb9a1b4: votes(first: 100, where: {proposal: \"0xfbad1f4af42f99e59e0ef216211f2ed8b1f3a324de04b958ebb7606abf31174b\"}, orderBy: \"created\", orderDirection: desc) {\n",
      "    id\n",
      "    voter\n",
      "    created\n",
      "    choice\n",
      "  }\n",
      "}\n"
     ]
    }
   ],
   "source": [
    "print(req2.graphql)"
   ],
   "metadata": {
    "collapsed": false,
    "pycharm": {
     "name": "#%%\n"
    }
   }
  },
  {
   "cell_type": "code",
   "execution_count": 263,
   "outputs": [
    {
     "data": {
      "text/plain": "[{'id': '0x82878f23fe56c8a63d8ee78aa3e1694a651b0fdf03a3b4e7ee9bc44c9a5f7c7f'},\n {'id': '0xd433b5f952ed9e3ec330fc2db2483074729202ec014730221daedd8adb2c687b'},\n {'id': '0x043229dfdb2b53c61832b2b4658133c102970287527b07b2ea03cf50dc592772'},\n {'id': '0x41cfad408f0e740d3d7212cf829765fe1dba94df860fc2f05f808e51556959f8'},\n {'id': '0x263c8568340308078912b543f145c56cbbcb1663f74ea94b32e8e7dfb926d8bb'},\n {'id': '0x677aba0e90dbeb334da2bcc45ec1ad32313d12252d23a03520e9b82ee5552d34'},\n {'id': '0xe4b3a249cbaa601efb45e22c3da6f633f65ac992d814267d673024f203994424'},\n {'id': '0xf2852f3c6951f2b097f6dc13a756466938ca7e3a631e9a865d55968c3b6552f1'},\n {'id': '0x5c8365f88b1b6e97deca36fb7571bb00586a97375b580b6317a8570ae53428b3'},\n {'id': '0x2b19f678ee1f081e06304b1674c9b2fab65639c808cac7a1799981f43e820c6f'},\n {'id': '0xa87517cf52c1d9a5502198395dc0b8b89e965162b08e9b772575d581f40d0342'},\n {'id': '0xc854a9b3075e70b6bf63af2e7ffd699468ce036c50f689aa5a06bf04b86eab70'},\n {'id': '0xed2850eda6e26c484e2ef5a649f6c2ec8c6eedb8cc7336e05e968260933545eb'},\n {'id': '0xf8e7bc166fa43ce6a9c9947123c41d68de7ae4e9bd996f4b8c5dcf4ce9f00181'},\n {'id': '0x287cf8ee9462bf8e85f471bb04be0e79c0aeff0a4744a253a3a5dcc092875aac'},\n {'id': '0xce96ac1e834977f486c5bac43dfccb340dd3f07df23623e6357dff3d469ca873'},\n {'id': '0xed9e54074b206a822bb1da6dbec134e19e09fb2c2da3207df382235f2667f51d'},\n {'id': '0x66c5cc0032f05c9c5abd742fdbc14053dac6451b471519d30409e81426b525cd'},\n {'id': '0x9d1c5450ec471f31f971f83563b2f7c885e95f38329b8b7ee22786cdd6b7875e'},\n {'id': '0x1f3b69d8e557cfae69217de44659dd815972a6cb8294b793f2c13f6b5ddc6aa5'},\n {'id': '0xb1731113c8b4da123f111b46fb0e2935fd08d09abe5d0e44dbf78cdb4fb15c1f'},\n {'id': '0x94f31e4c0478e2afdb328c47ac7a9bfbaf2aaefdd4cb3b2dfa04a3f764402ab5'},\n {'id': '0xc74031111597178a61fda89ec62bf233b7399efc249880962bfbd3fb1ed4486b'},\n {'id': '0x7e4178fb2bb068f93229bf568f7128ea5c291cc438d491988f093674dc32d2e7'},\n {'id': 'QmeqTMGfT9ZNSzWBPd3mgQscAmdAeRdw73LiTv6kGWVxHT'},\n {'id': '0x5663f0ef4117fa245afe690522aa6efe198d245f014fcf5e89e4fef563e4e270'},\n {'id': 'QmWuoE3GBp3BfNHHJk5KxtixWysujM4oRHdrdutbDoFDoZ'},\n {'id': '0xdf0f9a0744aa4a7647b799936440d677e75bb0b6f078301d8c787e6ce976e602'},\n {'id': 'QmZSMFJbqqTzz6c8MxCRA2rkunMTZTQdQnkXDt43ZMdWBV'},\n {'id': '0x23d39ee8b5d636275410ee70d4429f9f56fdb9f34c8246c08c7461321d98091a'},\n {'id': '0x9761cf291147685814db8d5f4c3f91f9e751352995b7bda80808d8be85b1bcc5'},\n {'id': '0xaa1f1066f7c315ff0f8fbe42bbd98ebed74bc09bdddb16fcfe7d620b0d116b61'},\n {'id': '0x8984af73fb11e6f68af5f288d4ad914324e1f84aee58ec3abe7330e5f6c63e35'},\n {'id': '0xe2872df23dd7b1c2de78a5cec22bd06830ba1b10baf63e2ab4f6f490f6410a81'},\n {'id': '0x09e49de943ba900688d36e9ea64f6fe173cce5df01dbc952e1274f44b7d49e81'},\n {'id': '0x3503022d5918d7c5c4741a825d1eafed5fa4495546b5c6346e4e43222bdbb1e0'},\n {'id': '0xb7c1f280a5fabd9a3f3a045ef9f5a51942b822cd071b36a28227966e10757f9f'},\n {'id': '0xde478ff7aaf3aa35e6ec14f5e5f35898b3eb6ed987904e5943b906a50a7939ed'},\n {'id': '0xed94adb7d3f94d11ecab74fce0f56934b0ed0d4f21f31dacfefc9e334f00412d'},\n {'id': '0x358f383e2f931f7eaf55b86af3d7950bb01b3869b07e57f413bebeed3515d5c2'},\n {'id': 'QmXuRrNdYdVVng8968HinuEMmsE69qs4kk2UnFwdSziYCd'},\n {'id': 'QmTSS74F9kvaXurnrSQu9g6ZFMafuit7eypcxMLDLVg9hQ'},\n {'id': 'QmTG8QWXbxFP1zgmudwhYLjuyyjupS6YojKnUCxUWMQpFM'},\n {'id': '0x187ce74a0443942b740b7f323c61af100889a7b4d759d1572528964d7e9c01fa'},\n {'id': '0x9f6850a15ef2dc86278f8470efb6e6b250aa84119909c5289482a2e306d85742'},\n {'id': '0x946e9e3dee0f1c76e9cdb9b1db5a0da1eea78416a781c06ba47d9ce26e21cae7'},\n {'id': '0x0caf601c589552288caf2c2b839aa15401f96d875ff9bd91b16597b9bb4f7ee4'},\n {'id': '0xbb0a455aa61c40a796230f2a1014516f37e919678776d9e0b975ae8fcfd9b369'},\n {'id': '0x59f2c2f7bd1af929badca1e8c2020499b6bf3af738fec03af7c38c331bd207ef'},\n {'id': 'QmWU878ckXVdYcB4W5FpYScGVBE7NqcUJG6t9KaXKV3eFp'},\n {'id': '0x720b88c1e643fa8308f137cd10c9dd5277dd57ee07ee4796db733531bd9163d2'},\n {'id': '0x6c8eea9964b35096f745a88501464d31ad5d3468434bfc793b568e703e38e507'},\n {'id': '0x2c0b952c14cb82b45bcebc6f2a90037590da6e7aaa3ea359858af739b9902188'},\n {'id': '0xe7aad207f0419164b83daa867d1db91b0659ae2589cee9fbf1d7b515c9a67305'},\n {'id': '0xb148d778944536b6811aa83e2c9bab005a9a25a8218499efb0ed8d916ddda259'},\n {'id': '0x379ca68215515cb1f4468a9540ab8982e91f7a0ed2da6af016b0175b2665da4e'},\n {'id': '0xfefbbbd6f79128a180c6e8a4abddb0ec49777d048420cad09786c0b3d5b99d3e'},\n {'id': '0x03744dfbf63ccaf13eafffc950e91586eef9e306ea3531d7e1e1c78b466d4339'},\n {'id': '0x5e7d7b894a5b3796965b4cb990c45405348fb390e920e5be6667c551b10a574d'},\n {'id': '0xb9bee2f5b3b33850766333dc541f89073425ccaf4eebf752d1b6f406dccd9777'},\n {'id': '0x3fe62b59aa8f25e797d62171a39ed246fca410a8cad83d0485cf404489939406'},\n {'id': '0xc8d17918eb6a44a9126a2876fc676142a576039152376c34c120592e26485eb8'},\n {'id': '0xc7850c4f142c1e92060832b2d8a9b1e8c59c4348312789661dc9ee44f60e4125'},\n {'id': '0xfa9a15e62796990132e4ef5067f0ca9cbea759b4611e617d02f5a29c065515bb'},\n {'id': '0xed2429c82224da388aadb0ac16d85e1e6e04e01d420237c30c08f4e8467a43ca'},\n {'id': '0xfa5b13860233cf90df8cdb4c21fe47d6d3f329db9905856ab0577abe904d478f'},\n {'id': '0x1c43e55aa12ca1a1a4cffcff9fb0d6a8b61f8fa8decdae92a3afdd4fdaf2c637'},\n {'id': '0x3789a10a2f81c20c828610031693b0a445cb17d0d1b89355f208c5fa3b05fbaf'},\n {'id': 'QmVySrn8A4Ba3n8jdMDG1dtfxK5cUTLZj3Wu7UJbevsFWs'},\n {'id': '0x5bc4adb2c0d878373eb78a2466fb11ef343d81da91a2e01fe782f845a00df76a'},\n {'id': '0xe476f4982aa4e9bb496231b51c4a9d58520001440bd9d137a4b8ee36b06ff186'},\n {'id': '0xdb3637834a79c6d9e893e0c96efa18943c4dbdd547f789d28fee404cbbb070f7'},\n {'id': '0x3e8cf6add8e118c15047fa0e69c618799a5ef767e3093e90b03f5334866b6d10'},\n {'id': '0x03e5e9715277801c605b29c4722ad4ef83eaeedfa926020cb6778dbfe02ac0fe'},\n {'id': '0xeed435fabfb16b649758feadd52bc1abe700439db77d76d389520536ecb54499'},\n {'id': '0x8c903a3e7db17c3846c2110cd399a5cf1890cffd95fb17c4d0765bb95bba736e'},\n {'id': '0xc62836b04405e888e89a78ac06defddc65203b14f4ea64ce162322549e3b8444'},\n {'id': '0xc2560e28fd23b5b7d50c11e88ada35ea5ce58353f0afb4c137dab09ef96a9eb3'},\n {'id': '0xef02621956996c6cf03613b86b04a677940635695931e02a1b5e5914e850b70d'},\n {'id': '0xa6c37bc90961f53dcd63d1ec4feae76943d2d57fcc226ec6913faeea841b877f'},\n {'id': '0xf3d32e1960558d4005b34967fae47284340ba237c512c2877c45535bac013053'},\n {'id': '0xb4b9433fbcb893b65d7686c976f4ad9c7e62bec432c87130f48980bb19d42a35'},\n {'id': '0x090b26660faf2fa2282f96b84b18560620e7c65dcbcc5ec6166cf4752f4c6af6'},\n {'id': '0x825b267355aef7bb28e433c81ec4b9ee689ca91a7e4bbae609080853ca018130'},\n {'id': '0x98dfc90c6604c1f64de6243945e84f91655a208f732be166c1f5aca350add91a'},\n {'id': '0x74cea747c952dd2d0c1eee0ec948c940c9d7144334ca89ea8b34174e5b2afe2f'},\n {'id': '0xa202878be64e249ca4c3ff5f2ab43279aab54e73b0ba181d6e37600d21c27578'},\n {'id': '0xf7b5d978b6d0eb32ab2b3e7b6d4838db54913a3aae91cddf2ccd0d7c4e69b4a9'},\n {'id': '0xc1325e1bcc6ab86f69cb6a1baa08557fd9d90d2ef2c10e4699d4fba1e5eb4a3e'},\n {'id': '0x14d70e0149f53c4024879ab7b95d3b6d8eedd5c5de0e8f7d2ebfa27142e60c45'},\n {'id': '0x0190152143c75704369afac956c8680bde4a1a8410d996cac4bb13453f8f1fee'},\n {'id': 'Qmc3MBTJEKyT9A9UcKcmdAjkTEPa5Xt6XLvtVYjs9Txowv'},\n {'id': '0x4583b7b61bd377ed7b5b4218c4ed756baeb1695447774df132c3ae5ce7431b8c'},\n {'id': '0x7cf304cdaf9a94ac0df27729ff2bf1cb4a3d691f210231c3d0085f7b6ecfd610'},\n {'id': '0x786787c6dc7e02492c1ba76ece7af0540039963199fc8ea28f024e79530e1c28'},\n {'id': '0x76b28aaa3dd12ba13925e01e5d4abe354dfbf986d54f084a456b6a0ed93529c6'},\n {'id': '0x096e9ff86e047b1b1f34d7138c7eae163d36c270452874b5b2d81b9e6f26a21c'},\n {'id': '0xa77ff182888d517ebd4848bbae29c84f83b71771d10ea0757270eaf9ede27fa2'},\n {'id': '0x3a41071329fe69ca1dbb58cb8f1d80748d374bdd27f5e5e35e898d517f73e441'},\n {'id': 'QmW5eU8ufYqwVnTTj8hq1j8HBKvXsGefLZ8z56fgQ8LDGq'}]"
     },
     "execution_count": 263,
     "metadata": {},
     "output_type": "execute_result"
    }
   ],
   "source": [
    "sg.query(vote_tracker_2)"
   ],
   "metadata": {
    "collapsed": false,
    "pycharm": {
     "name": "#%%\n"
    }
   }
  },
  {
   "cell_type": "code",
   "execution_count": 267,
   "outputs": [
    {
     "data": {
      "text/plain": "                                             votes_id  \\\n0   0x82878f23fe56c8a63d8ee78aa3e1694a651b0fdf03a3...   \n1   0xd433b5f952ed9e3ec330fc2db2483074729202ec0147...   \n2   0x043229dfdb2b53c61832b2b4658133c102970287527b...   \n3   0x41cfad408f0e740d3d7212cf829765fe1dba94df860f...   \n4   0x263c8568340308078912b543f145c56cbbcb1663f74e...   \n..                                                ...   \n95  0x76b28aaa3dd12ba13925e01e5d4abe354dfbf986d54f...   \n96  0x096e9ff86e047b1b1f34d7138c7eae163d36c2704528...   \n97  0xa77ff182888d517ebd4848bbae29c84f83b71771d10e...   \n98  0x3a41071329fe69ca1dbb58cb8f1d80748d374bdd27f5...   \n99     QmW5eU8ufYqwVnTTj8hq1j8HBKvXsGefLZ8z56fgQ8LDGq   \n\n                                   votes_voter  votes_created  votes_choice  \n0   0x78B3367B0F547Cd16Bac453F788956AfcE92447B     1645049500             1  \n1   0x3A9C0A0E46341B4D8a5ae5499b8ECcF4586FD512     1645049446             1  \n2   0xf7Db1796EE8603f3a5De43793581E038027fB9fb     1645047362             1  \n3   0xC8C6BeD3c421d3B5ddd0627C7d3AD1F95EaB2D67     1645042434             1  \n4   0x852a7C8655daa996E7E4F0E68e1b4D0950c416eb     1645042415             1  \n..                                         ...            ...           ...  \n95  0xCA7345ebd16d8d4D5aC6C38FaE99154fE1ecA90B     1644936720             1  \n96  0xF59C17EB3b068d5B44E1F8348A5aC56e66347f48     1644934061             1  \n97  0x4541C852aDdC826ea6D4A1fF6d55e855490FaCc7     1644933811             1  \n98  0x9C252F5e4E94287A19B009Cc7bD98671De7cC7F8     1644933702             1  \n99  0xd677aDc126101DCA9Ca00EF39C312a2F73159120     1644933442             1  \n\n[100 rows x 4 columns]",
      "text/html": "<div>\n<style scoped>\n    .dataframe tbody tr th:only-of-type {\n        vertical-align: middle;\n    }\n\n    .dataframe tbody tr th {\n        vertical-align: top;\n    }\n\n    .dataframe thead th {\n        text-align: right;\n    }\n</style>\n<table border=\"1\" class=\"dataframe\">\n  <thead>\n    <tr style=\"text-align: right;\">\n      <th></th>\n      <th>votes_id</th>\n      <th>votes_voter</th>\n      <th>votes_created</th>\n      <th>votes_choice</th>\n    </tr>\n  </thead>\n  <tbody>\n    <tr>\n      <th>0</th>\n      <td>0x82878f23fe56c8a63d8ee78aa3e1694a651b0fdf03a3...</td>\n      <td>0x78B3367B0F547Cd16Bac453F788956AfcE92447B</td>\n      <td>1645049500</td>\n      <td>1</td>\n    </tr>\n    <tr>\n      <th>1</th>\n      <td>0xd433b5f952ed9e3ec330fc2db2483074729202ec0147...</td>\n      <td>0x3A9C0A0E46341B4D8a5ae5499b8ECcF4586FD512</td>\n      <td>1645049446</td>\n      <td>1</td>\n    </tr>\n    <tr>\n      <th>2</th>\n      <td>0x043229dfdb2b53c61832b2b4658133c102970287527b...</td>\n      <td>0xf7Db1796EE8603f3a5De43793581E038027fB9fb</td>\n      <td>1645047362</td>\n      <td>1</td>\n    </tr>\n    <tr>\n      <th>3</th>\n      <td>0x41cfad408f0e740d3d7212cf829765fe1dba94df860f...</td>\n      <td>0xC8C6BeD3c421d3B5ddd0627C7d3AD1F95EaB2D67</td>\n      <td>1645042434</td>\n      <td>1</td>\n    </tr>\n    <tr>\n      <th>4</th>\n      <td>0x263c8568340308078912b543f145c56cbbcb1663f74e...</td>\n      <td>0x852a7C8655daa996E7E4F0E68e1b4D0950c416eb</td>\n      <td>1645042415</td>\n      <td>1</td>\n    </tr>\n    <tr>\n      <th>...</th>\n      <td>...</td>\n      <td>...</td>\n      <td>...</td>\n      <td>...</td>\n    </tr>\n    <tr>\n      <th>95</th>\n      <td>0x76b28aaa3dd12ba13925e01e5d4abe354dfbf986d54f...</td>\n      <td>0xCA7345ebd16d8d4D5aC6C38FaE99154fE1ecA90B</td>\n      <td>1644936720</td>\n      <td>1</td>\n    </tr>\n    <tr>\n      <th>96</th>\n      <td>0x096e9ff86e047b1b1f34d7138c7eae163d36c2704528...</td>\n      <td>0xF59C17EB3b068d5B44E1F8348A5aC56e66347f48</td>\n      <td>1644934061</td>\n      <td>1</td>\n    </tr>\n    <tr>\n      <th>97</th>\n      <td>0xa77ff182888d517ebd4848bbae29c84f83b71771d10e...</td>\n      <td>0x4541C852aDdC826ea6D4A1fF6d55e855490FaCc7</td>\n      <td>1644933811</td>\n      <td>1</td>\n    </tr>\n    <tr>\n      <th>98</th>\n      <td>0x3a41071329fe69ca1dbb58cb8f1d80748d374bdd27f5...</td>\n      <td>0x9C252F5e4E94287A19B009Cc7bD98671De7cC7F8</td>\n      <td>1644933702</td>\n      <td>1</td>\n    </tr>\n    <tr>\n      <th>99</th>\n      <td>QmW5eU8ufYqwVnTTj8hq1j8HBKvXsGefLZ8z56fgQ8LDGq</td>\n      <td>0xd677aDc126101DCA9Ca00EF39C312a2F73159120</td>\n      <td>1644933442</td>\n      <td>1</td>\n    </tr>\n  </tbody>\n</table>\n<p>100 rows × 4 columns</p>\n</div>"
     },
     "execution_count": 267,
     "metadata": {},
     "output_type": "execute_result"
    }
   ],
   "source": [
    "sg.query_df([\n",
    "    vote_tracker_2.id,\n",
    "    vote_tracker_2.voter,\n",
    "    vote_tracker_2.created,\n",
    "    vote_tracker_2.choice\n",
    "])"
   ],
   "metadata": {
    "collapsed": false,
    "pycharm": {
     "name": "#%%\n"
    }
   }
  },
  {
   "cell_type": "code",
   "execution_count": null,
   "outputs": [],
   "source": [],
   "metadata": {
    "collapsed": false,
    "pycharm": {
     "name": "#%%\n"
    }
   }
  }
 ],
 "metadata": {
  "kernelspec": {
   "display_name": "Python 3",
   "language": "python",
   "name": "python3"
  },
  "language_info": {
   "codemirror_mode": {
    "name": "ipython",
    "version": 2
   },
   "file_extension": ".py",
   "mimetype": "text/x-python",
   "name": "python",
   "nbconvert_exporter": "python",
   "pygments_lexer": "ipython2",
   "version": "2.7.6"
  }
 },
 "nbformat": 4,
 "nbformat_minor": 0
}